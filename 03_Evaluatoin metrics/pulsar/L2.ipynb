{
 "cells": [
  {
   "cell_type": "markdown",
   "metadata": {},
   "source": [
    "# 第２回 　機械学習（分類）評価と応用"
   ]
  },
  {
   "cell_type": "markdown",
   "metadata": {},
   "source": [
    "## 2-1. ライブラリの読み込み"
   ]
  },
  {
   "cell_type": "code",
   "execution_count": 1,
   "metadata": {},
   "outputs": [],
   "source": [
    "# OS（オペレーティングシステム）に依存した機能を使うための標準ライブラリ\n",
    "import os\n",
    "#os.getcwd() # 現在のディレクトリを返す"
   ]
  },
  {
   "cell_type": "code",
   "execution_count": 2,
   "metadata": {},
   "outputs": [],
   "source": [
    "# Library の読み込み\n",
    "import sys # Pythonのインタプリタや実行環境に関する情報を扱うためのライブラリ\n",
    "import pandas as pd # データを扱うための標準的なライブラリ\n",
    "import numpy as np # 多次元配列を扱う数値演算ライブラリ\n",
    "import scipy as sp # 高度な科学計算を行うためのライブラリ\n",
    "import sklearn # 機械学習のライブラリ\n",
    "import matplotlib.pyplot as plt # グラフを描画するライブラリ\n",
    "%matplotlib inline\n",
    "# jupyter内に描画"
   ]
  },
  {
   "cell_type": "markdown",
   "metadata": {},
   "source": [
    "## 2-2. データファイルの読み込みとデータの分割"
   ]
  },
  {
   "cell_type": "code",
   "execution_count": 3,
   "metadata": {},
   "outputs": [
    {
     "data": {
      "text/html": [
       "<div>\n",
       "<style scoped>\n",
       "    .dataframe tbody tr th:only-of-type {\n",
       "        vertical-align: middle;\n",
       "    }\n",
       "\n",
       "    .dataframe tbody tr th {\n",
       "        vertical-align: top;\n",
       "    }\n",
       "\n",
       "    .dataframe thead th {\n",
       "        text-align: right;\n",
       "    }\n",
       "</style>\n",
       "<table border=\"1\" class=\"dataframe\">\n",
       "  <thead>\n",
       "    <tr style=\"text-align: right;\">\n",
       "      <th></th>\n",
       "      <th>Mean of the integrated profile</th>\n",
       "      <th>Standard deviation of the integrated profile</th>\n",
       "      <th>Excess kurtosis of the integrated profile</th>\n",
       "      <th>Skewness of the integrated profile</th>\n",
       "      <th>Mean of the DM-SNR curve</th>\n",
       "      <th>Standard deviation of the DM-SNR curve</th>\n",
       "      <th>Excess kurtosis of the DM-SNR curve</th>\n",
       "      <th>Skewness of the DM-SNR curve</th>\n",
       "      <th>target_class</th>\n",
       "    </tr>\n",
       "  </thead>\n",
       "  <tbody>\n",
       "    <tr>\n",
       "      <th>0</th>\n",
       "      <td>140.562500</td>\n",
       "      <td>55.683782</td>\n",
       "      <td>-0.234571</td>\n",
       "      <td>-0.699648</td>\n",
       "      <td>3.199833</td>\n",
       "      <td>19.110426</td>\n",
       "      <td>7.975532</td>\n",
       "      <td>74.242225</td>\n",
       "      <td>0</td>\n",
       "    </tr>\n",
       "    <tr>\n",
       "      <th>1</th>\n",
       "      <td>102.507812</td>\n",
       "      <td>58.882430</td>\n",
       "      <td>0.465318</td>\n",
       "      <td>-0.515088</td>\n",
       "      <td>1.677258</td>\n",
       "      <td>14.860146</td>\n",
       "      <td>10.576487</td>\n",
       "      <td>127.393580</td>\n",
       "      <td>0</td>\n",
       "    </tr>\n",
       "    <tr>\n",
       "      <th>2</th>\n",
       "      <td>103.015625</td>\n",
       "      <td>39.341649</td>\n",
       "      <td>0.323328</td>\n",
       "      <td>1.051164</td>\n",
       "      <td>3.121237</td>\n",
       "      <td>21.744669</td>\n",
       "      <td>7.735822</td>\n",
       "      <td>63.171909</td>\n",
       "      <td>0</td>\n",
       "    </tr>\n",
       "    <tr>\n",
       "      <th>3</th>\n",
       "      <td>136.750000</td>\n",
       "      <td>57.178449</td>\n",
       "      <td>-0.068415</td>\n",
       "      <td>-0.636238</td>\n",
       "      <td>3.642977</td>\n",
       "      <td>20.959280</td>\n",
       "      <td>6.896499</td>\n",
       "      <td>53.593661</td>\n",
       "      <td>0</td>\n",
       "    </tr>\n",
       "    <tr>\n",
       "      <th>4</th>\n",
       "      <td>88.726562</td>\n",
       "      <td>40.672225</td>\n",
       "      <td>0.600866</td>\n",
       "      <td>1.123492</td>\n",
       "      <td>1.178930</td>\n",
       "      <td>11.468720</td>\n",
       "      <td>14.269573</td>\n",
       "      <td>252.567306</td>\n",
       "      <td>0</td>\n",
       "    </tr>\n",
       "  </tbody>\n",
       "</table>\n",
       "</div>"
      ],
      "text/plain": [
       "    Mean of the integrated profile  \\\n",
       "0                       140.562500   \n",
       "1                       102.507812   \n",
       "2                       103.015625   \n",
       "3                       136.750000   \n",
       "4                        88.726562   \n",
       "\n",
       "    Standard deviation of the integrated profile  \\\n",
       "0                                      55.683782   \n",
       "1                                      58.882430   \n",
       "2                                      39.341649   \n",
       "3                                      57.178449   \n",
       "4                                      40.672225   \n",
       "\n",
       "    Excess kurtosis of the integrated profile  \\\n",
       "0                                   -0.234571   \n",
       "1                                    0.465318   \n",
       "2                                    0.323328   \n",
       "3                                   -0.068415   \n",
       "4                                    0.600866   \n",
       "\n",
       "    Skewness of the integrated profile   Mean of the DM-SNR curve  \\\n",
       "0                            -0.699648                   3.199833   \n",
       "1                            -0.515088                   1.677258   \n",
       "2                             1.051164                   3.121237   \n",
       "3                            -0.636238                   3.642977   \n",
       "4                             1.123492                   1.178930   \n",
       "\n",
       "    Standard deviation of the DM-SNR curve  \\\n",
       "0                                19.110426   \n",
       "1                                14.860146   \n",
       "2                                21.744669   \n",
       "3                                20.959280   \n",
       "4                                11.468720   \n",
       "\n",
       "    Excess kurtosis of the DM-SNR curve   Skewness of the DM-SNR curve  \\\n",
       "0                              7.975532                      74.242225   \n",
       "1                             10.576487                     127.393580   \n",
       "2                              7.735822                      63.171909   \n",
       "3                              6.896499                      53.593661   \n",
       "4                             14.269573                     252.567306   \n",
       "\n",
       "   target_class  \n",
       "0             0  \n",
       "1             0  \n",
       "2             0  \n",
       "3             0  \n",
       "4             0  "
      ]
     },
     "execution_count": 3,
     "metadata": {},
     "output_type": "execute_result"
    }
   ],
   "source": [
    "# CSVファイルの読み込み\n",
    "df = pd.read_csv(\"data/pulsar_stars.csv\") # df = data frame の略\n",
    "df.head()"
   ]
  },
  {
   "cell_type": "code",
   "execution_count": 4,
   "metadata": {},
   "outputs": [
    {
     "data": {
      "text/plain": [
       "(17898, 9)"
      ]
     },
     "execution_count": 4,
     "metadata": {},
     "output_type": "execute_result"
    }
   ],
   "source": [
    "df.shape # pandas の dataframe の行と列の表示"
   ]
  },
  {
   "cell_type": "code",
   "execution_count": 5,
   "metadata": {},
   "outputs": [],
   "source": [
    "# データの分割（学習データと検証データ）\n",
    "\n",
    "from sklearn.model_selection import train_test_split\n",
    "\n",
    "# 説明変数\n",
    "X = pd.DataFrame(df.drop(\"target_class\", axis=1))  # Pythonのコーディングでは、説明変数を大文字のXに設定することが多い\n",
    "\n",
    "# 目的変数\n",
    "y = pd.DataFrame(df.target_class) # pd.DataFrame(df[\"target_class\"]) でも良い\n",
    "\n",
    "X_train, X_val, y_train, y_val = train_test_split(X, y, train_size=0.8, random_state=1) # X_test, y_test と設定することも多い"
   ]
  },
  {
   "cell_type": "code",
   "execution_count": 6,
   "metadata": {},
   "outputs": [
    {
     "name": "stdout",
     "output_type": "stream",
     "text": [
      "Open Accuracy: 0.976536312849162\n"
     ]
    }
   ],
   "source": [
    "from sklearn import tree\n",
    "clf = tree.DecisionTreeClassifier(max_depth=3) # clf: classifier（分類器） の略\n",
    "clf = clf.fit(X_train, y_train)\n",
    "acc = clf.score(X_val, y_val)\n",
    "print(\"Open Accuracy:\", acc)"
   ]
  },
  {
   "cell_type": "code",
   "execution_count": 7,
   "metadata": {
    "scrolled": false
   },
   "outputs": [
    {
     "ename": "ModuleNotFoundError",
     "evalue": "No module named 'sklearn.externals.six'",
     "output_type": "error",
     "traceback": [
      "\u001b[1;31m---------------------------------------------------------------------------\u001b[0m",
      "\u001b[1;31mModuleNotFoundError\u001b[0m                       Traceback (most recent call last)",
      "\u001b[1;32m<ipython-input-7-1d374b9d280d>\u001b[0m in \u001b[0;36m<module>\u001b[1;34m\u001b[0m\n\u001b[0;32m     15\u001b[0m \u001b[1;32mfrom\u001b[0m \u001b[0mgraphviz\u001b[0m \u001b[1;32mimport\u001b[0m \u001b[0mDigraph\u001b[0m\u001b[1;33m\u001b[0m\u001b[1;33m\u001b[0m\u001b[0m\n\u001b[0;32m     16\u001b[0m \u001b[1;32mfrom\u001b[0m \u001b[0msklearn\u001b[0m\u001b[1;33m.\u001b[0m\u001b[0mtree\u001b[0m \u001b[1;32mimport\u001b[0m \u001b[0mexport_graphviz\u001b[0m\u001b[1;33m\u001b[0m\u001b[1;33m\u001b[0m\u001b[0m\n\u001b[1;32m---> 17\u001b[1;33m \u001b[1;32mfrom\u001b[0m \u001b[0msklearn\u001b[0m\u001b[1;33m.\u001b[0m\u001b[0mexternals\u001b[0m\u001b[1;33m.\u001b[0m\u001b[0msix\u001b[0m \u001b[1;32mimport\u001b[0m \u001b[0mStringIO\u001b[0m\u001b[1;33m\u001b[0m\u001b[1;33m\u001b[0m\u001b[0m\n\u001b[0m\u001b[0;32m     18\u001b[0m \u001b[1;32mfrom\u001b[0m \u001b[0mIPython\u001b[0m\u001b[1;33m.\u001b[0m\u001b[0mdisplay\u001b[0m \u001b[1;32mimport\u001b[0m \u001b[0mImage\u001b[0m\u001b[1;33m\u001b[0m\u001b[1;33m\u001b[0m\u001b[0m\n\u001b[0;32m     19\u001b[0m \u001b[1;33m\u001b[0m\u001b[0m\n",
      "\u001b[1;31mModuleNotFoundError\u001b[0m: No module named 'sklearn.externals.six'"
     ]
    }
   ],
   "source": [
    "# 準備\n",
    "# Windows \n",
    "# GraphViz をインストールする　https://www.graphviz.org/download/\n",
    "# http://ruby.kyoto-wu.ac.jp/info-com/Softwares/Graphviz/\n",
    "# Mac\n",
    "# /usr/bin/ruby -e \"$(curl -fsSL https://raw.githubusercontent.com/Homebrew/install/master/install)\"\n",
    "# brew install graphviz\n",
    "# 共通\n",
    "# conda install pydotplus\n",
    "# conda install graphviz\n",
    "# conda install -c conda-forge python-graphviz\n",
    "\n",
    "#可視化\n",
    "import pydotplus\n",
    "from graphviz import Digraph\n",
    "from sklearn.tree import export_graphviz\n",
    "from sklearn.externals.six import StringIO\n",
    "from IPython.display import Image\n",
    "\n",
    "dot_data = StringIO()\n",
    "tree.export_graphviz(clf, out_file=dot_data,feature_names=X_train.columns, max_depth=3)\n",
    "graph = pydotplus.graph_from_dot_data(dot_data.getvalue())\n",
    "\n",
    "#dot.exeへのパスをdictで渡す\n",
    "graph.progs = {'dot': u\"C:\\\\Program Files\\\\graphviz-2.38\\\\bin\\\\dot.exe\"}\n",
    "\n",
    "graph.write_jpg(\"graph.jpg\")\n",
    "Image(graph.create_png())"
   ]
  },
  {
   "cell_type": "markdown",
   "metadata": {},
   "source": [
    "## 2-3. 機械学習 → 検証 → 結果表示関数作成"
   ]
  },
  {
   "cell_type": "code",
   "execution_count": 8,
   "metadata": {},
   "outputs": [],
   "source": [
    "# 機械学習 → 検証 → 結果表示関数\n",
    "def model_fit(clf, X_train, y_train, X_val, y_val): # 同じコードの重複を避けるため、関数を定義\n",
    "    # モデルの学習\n",
    "    clf = clf.fit(X_train, y_train)\n",
    "    # 検証データで予測\n",
    "    y_pred = pd.DataFrame(clf.predict(X_val))\n",
    "    # confusion matrix（混合行列）表示\n",
    "    from sklearn.metrics import confusion_matrix\n",
    "    cm = confusion_matrix(y_val, y_pred)\n",
    "    print(cm)\n",
    "    acc = clf.score(X_val, y_val)\n",
    "    # 横軸が予想(predicted)、縦軸が実際(actual)\n",
    "    print(\"Open Accuracy:\", acc)\n",
    "    \n",
    "    return acc"
   ]
  },
  {
   "cell_type": "markdown",
   "metadata": {},
   "source": [
    "## 2-4. アルゴリズム（分類器）のスクリーニング"
   ]
  },
  {
   "cell_type": "code",
   "execution_count": 9,
   "metadata": {},
   "outputs": [
    {
     "name": "stdout",
     "output_type": "stream",
     "text": [
      "[[3226   26]\n",
      " [  58  270]]\n",
      "Open Accuracy: 0.976536312849162\n"
     ]
    }
   ],
   "source": [
    "# 決定木\n",
    "from sklearn import tree\n",
    "clf = tree.DecisionTreeClassifier(max_depth=3) # clf: classifier（分類器） の略\n",
    "\n",
    "# 学習 → 検証の関数\n",
    "dt_acc = model_fit(clf, X_train, y_train, X_val, y_val)  # 関数の呼び出し"
   ]
  },
  {
   "cell_type": "code",
   "execution_count": 10,
   "metadata": {},
   "outputs": [
    {
     "name": "stderr",
     "output_type": "stream",
     "text": [
      "C:\\Users\\iiats\\Anaconda3\\envs\\Python36\\lib\\site-packages\\ipykernel_launcher.py:4: DataConversionWarning: A column-vector y was passed when a 1d array was expected. Please change the shape of y to (n_samples,), for example using ravel().\n",
      "  after removing the cwd from sys.path.\n"
     ]
    },
    {
     "name": "stdout",
     "output_type": "stream",
     "text": [
      "[[3230   22]\n",
      " [  56  272]]\n",
      "Open Accuracy: 0.9782122905027933\n"
     ]
    }
   ],
   "source": [
    "# ランダムフォレスト\n",
    "from sklearn.ensemble import RandomForestClassifier\n",
    "clf = RandomForestClassifier(min_samples_leaf=3, random_state=0) # clf: classifier（分類器） の略\n",
    "rf_acc = model_fit(clf, X_train, y_train, X_val, y_val)  # 関数の呼び出し"
   ]
  },
  {
   "cell_type": "code",
   "execution_count": 11,
   "metadata": {},
   "outputs": [
    {
     "name": "stderr",
     "output_type": "stream",
     "text": [
      "C:\\Users\\iiats\\Anaconda3\\envs\\Python36\\lib\\site-packages\\sklearn\\utils\\validation.py:72: DataConversionWarning: A column-vector y was passed when a 1d array was expected. Please change the shape of y to (n_samples, ), for example using ravel().\n",
      "  return f(**kwargs)\n"
     ]
    },
    {
     "name": "stdout",
     "output_type": "stream",
     "text": [
      "[[3240   12]\n",
      " [  81  247]]\n",
      "Open Accuracy: 0.9740223463687151\n"
     ]
    }
   ],
   "source": [
    "# サポートベクターマシーン\n",
    "from sklearn.svm import SVC\n",
    "# clf = SVC(kernel='linear', random_state=None) # 線形\n",
    "clf = SVC(kernel='rbf', gamma=0.0001) # 非線形\n",
    "svm_acc = model_fit(clf, X_train, y_train, X_val, y_val)  # 関数の呼び出し"
   ]
  },
  {
   "cell_type": "code",
   "execution_count": 12,
   "metadata": {},
   "outputs": [
    {
     "name": "stderr",
     "output_type": "stream",
     "text": [
      "C:\\Users\\iiats\\Anaconda3\\envs\\Python36\\lib\\site-packages\\sklearn\\utils\\validation.py:72: DataConversionWarning: A column-vector y was passed when a 1d array was expected. Please change the shape of y to (n_samples, ), for example using ravel().\n",
      "  return f(**kwargs)\n"
     ]
    },
    {
     "name": "stdout",
     "output_type": "stream",
     "text": [
      "[[3229   23]\n",
      " [  56  272]]\n",
      "Open Accuracy: 0.9779329608938547\n"
     ]
    }
   ],
   "source": [
    "# ニューラルネットワーク\n",
    "from sklearn.neural_network import MLPClassifier\n",
    "clf = MLPClassifier(solver=\"sgd\",random_state=0,max_iter=10000) # clf: classifier（分類器） の略\n",
    "nn_acc = model_fit(clf, X_train, y_train, X_val, y_val)  # 関数の呼び出し"
   ]
  },
  {
   "cell_type": "code",
   "execution_count": 13,
   "metadata": {},
   "outputs": [
    {
     "name": "stderr",
     "output_type": "stream",
     "text": [
      "C:\\Users\\iiats\\Anaconda3\\envs\\Python36\\lib\\site-packages\\sklearn\\utils\\validation.py:72: DataConversionWarning: A column-vector y was passed when a 1d array was expected. Please change the shape of y to (n_samples, ), for example using ravel().\n",
      "  return f(**kwargs)\n"
     ]
    },
    {
     "name": "stdout",
     "output_type": "stream",
     "text": [
      "[[3223   29]\n",
      " [  55  273]]\n",
      "Open Accuracy: 0.976536312849162\n"
     ]
    }
   ],
   "source": [
    "# 勾配ブースティング分類\n",
    "from sklearn.ensemble import GradientBoostingClassifier\n",
    "clf = GradientBoostingClassifier(random_state=10) # clf: classifier（分類器） の略\n",
    "gbc_acc = model_fit(clf, X_train, y_train, X_val, y_val)  # 関数の呼び出し"
   ]
  },
  {
   "cell_type": "code",
   "execution_count": 14,
   "metadata": {},
   "outputs": [
    {
     "name": "stdout",
     "output_type": "stream",
     "text": [
      "[[3235   17]\n",
      " [  75  253]]\n"
     ]
    },
    {
     "name": "stderr",
     "output_type": "stream",
     "text": [
      "C:\\Users\\iiats\\Anaconda3\\envs\\Python36\\lib\\site-packages\\ipykernel_launcher.py:4: DataConversionWarning: A column-vector y was passed when a 1d array was expected. Please change the shape of y to (n_samples, ), for example using ravel().\n",
      "  after removing the cwd from sys.path.\n"
     ]
    },
    {
     "name": "stdout",
     "output_type": "stream",
     "text": [
      "Open Accuracy: 0.9743016759776536\n"
     ]
    }
   ],
   "source": [
    "# k近傍法\n",
    "from sklearn.neighbors import KNeighborsClassifier\n",
    "clf = KNeighborsClassifier(n_neighbors=10) # clf: classifier（分類器） の略\n",
    "knn_acc = model_fit(clf, X_train, y_train, X_val, y_val)  # 関数の呼び出し"
   ]
  },
  {
   "cell_type": "code",
   "execution_count": 15,
   "metadata": {},
   "outputs": [
    {
     "name": "stdout",
     "output_type": "stream",
     "text": [
      "DT：  0.976536312849162\n",
      "RF：  0.9782122905027933\n",
      "SVM： 0.9740223463687151\n",
      "NN：  0.9779329608938547\n",
      "GBC： 0.976536312849162\n",
      "kNN： 0.9743016759776536\n"
     ]
    }
   ],
   "source": [
    "# ５種類の分類器の結果比較\n",
    "print(\"DT： \", dt_acc)\n",
    "print(\"RF： \", rf_acc)\n",
    "print(\"SVM：\", svm_acc)\n",
    "print(\"NN： \", nn_acc)\n",
    "print(\"GBC：\", gbc_acc)\n",
    "print(\"kNN：\", knn_acc)"
   ]
  },
  {
   "cell_type": "markdown",
   "metadata": {},
   "source": [
    "## 2-5. 検証結果の詳細"
   ]
  },
  {
   "cell_type": "code",
   "execution_count": 16,
   "metadata": {},
   "outputs": [
    {
     "name": "stderr",
     "output_type": "stream",
     "text": [
      "C:\\Users\\iiats\\Anaconda3\\envs\\Python36\\lib\\site-packages\\ipykernel_launcher.py:4: DataConversionWarning: A column-vector y was passed when a 1d array was expected. Please change the shape of y to (n_samples,), for example using ravel().\n",
      "  after removing the cwd from sys.path.\n"
     ]
    },
    {
     "name": "stdout",
     "output_type": "stream",
     "text": [
      "[[3230   22]\n",
      " [  56  272]]\n",
      "Open Accuracy: 0.9782122905027933\n"
     ]
    },
    {
     "data": {
      "text/plain": [
       "0.9782122905027933"
      ]
     },
     "execution_count": 16,
     "metadata": {},
     "output_type": "execute_result"
    }
   ],
   "source": [
    "# 一番精度が高かったランダムフォレストで検証結果表示\n",
    "\n",
    "# ランダムフォレスト\n",
    "from sklearn.ensemble import RandomForestClassifier\n",
    "clf = RandomForestClassifier(min_samples_leaf=3, random_state=0) # clf: classifier（分類器） の略\n",
    "\n",
    "model_fit(clf, X_train, y_train, X_val, y_val)  # 関数の呼び出し"
   ]
  },
  {
   "cell_type": "code",
   "execution_count": 17,
   "metadata": {},
   "outputs": [
    {
     "name": "stdout",
     "output_type": "stream",
     "text": [
      "Confusion Matrix\n",
      "------------------\n",
      "[[3230   22]\n",
      " [  56  272]]\n",
      "------------------\n"
     ]
    },
    {
     "data": {
      "image/png": "[encoded data removed]",
      "text/plain": [
       "<Figure size 360x360 with 2 Axes>"
      ]
     },
     "metadata": {},
     "output_type": "display_data"
    }
   ],
   "source": [
    "import seaborn as sns\n",
    "from sklearn.metrics import confusion_matrix\n",
    "\n",
    "sns.set()\n",
    "\n",
    "y_pred =  pd.DataFrame(clf.predict(X_val))\n",
    "\n",
    "# 混合行列を作成する。\n",
    "cm = confusion_matrix(y_val, y_pred)\n",
    "cm_rate = cm / cm.sum()\n",
    "\n",
    "# 混合行列を描画する。\n",
    "def print_confusion_matrix(confusion_matrix, class_names):\n",
    "    fig = plt.figure(figsize=(5, 5))\n",
    "    heatmap = sns.heatmap(\n",
    "        confusion_matrix, xticklabels=class_names, yticklabels=class_names,\n",
    "        annot=True, fmt='.1%', cbar=True, square=True, cmap='YlGnBu')\n",
    "    plt.ylabel('True label')\n",
    "    plt.xlabel('Predicted label')\n",
    "    plt.show()\n",
    "\n",
    "labels = [\"False\",\"True\"]\n",
    "\n",
    "print(\"Confusion Matrix\")\n",
    "print(\"------------------\")\n",
    "print(cm)\n",
    "print(\"------------------\")\n",
    "\n",
    "print_confusion_matrix(cm_rate, labels)\n",
    "\n",
    "# 縦軸の表示がおかしいのは matplotlib 3.1.1 のバグ\n",
    "# https://teratail.com/questions/205195"
   ]
  },
  {
   "cell_type": "code",
   "execution_count": 18,
   "metadata": {},
   "outputs": [
    {
     "data": {
      "image/png": "[encoded data removed]",
      "text/plain": [
       "<Figure size 432x288 with 1 Axes>"
      ]
     },
     "metadata": {},
     "output_type": "display_data"
    }
   ],
   "source": [
    "# ROC曲線とAUC (Area Under Curve) \n",
    "\n",
    "# FPR（偽陽性率）とTPR（真陽性率）, 閾値 を算出,\n",
    "from sklearn import metrics\n",
    "fpr, tpr, thresholds = metrics.roc_curve(y_val, y_pred)\n",
    "\n",
    "# ついでにAUCも\n",
    "auc = metrics.auc(fpr, tpr)\n",
    "\n",
    "# ROC曲線をプロット\n",
    "\n",
    "plt.plot(fpr, tpr, label='ROC curve (area = %.2f)'%auc)\n",
    "plt.legend()\n",
    "plt.title('ROC curve')\n",
    "plt.xlabel('False Positive Rate')\n",
    "plt.ylabel('True Positive Rate')\n",
    "plt.grid(True)"
   ]
  },
  {
   "cell_type": "code",
   "execution_count": 19,
   "metadata": {},
   "outputs": [
    {
     "name": "stdout",
     "output_type": "stream",
     "text": [
      "              precision    recall  f1-score   support\n",
      "\n",
      "       False       0.98      0.99      0.99      3252\n",
      "        True       0.93      0.83      0.87       328\n",
      "\n",
      "    accuracy                           0.98      3580\n",
      "   macro avg       0.95      0.91      0.93      3580\n",
      "weighted avg       0.98      0.98      0.98      3580\n",
      "\n"
     ]
    }
   ],
   "source": [
    "from sklearn.metrics import classification_report\n",
    "\n",
    "# Generate a classification report\n",
    "y_pred = clf.predict(X_val)\n",
    "report = classification_report(y_val, y_pred, target_names=['False','True'])\n",
    "\n",
    "#sklearn.metrics.classification_report(y_true, y_pred,\n",
    "#    labels=None, target_names=None, \n",
    "#    sample_weight=None, digits=2)\n",
    "\n",
    "print(report)"
   ]
  },
  {
   "cell_type": "code",
   "execution_count": 20,
   "metadata": {},
   "outputs": [
    {
     "name": "stderr",
     "output_type": "stream",
     "text": [
      "C:\\Users\\iiats\\Anaconda3\\envs\\Python36\\lib\\site-packages\\sklearn\\model_selection\\_validation.py:531: DataConversionWarning: A column-vector y was passed when a 1d array was expected. Please change the shape of y to (n_samples,), for example using ravel().\n",
      "  estimator.fit(X_train, y_train, **fit_params)\n",
      "C:\\Users\\iiats\\Anaconda3\\envs\\Python36\\lib\\site-packages\\sklearn\\model_selection\\_validation.py:531: DataConversionWarning: A column-vector y was passed when a 1d array was expected. Please change the shape of y to (n_samples,), for example using ravel().\n",
      "  estimator.fit(X_train, y_train, **fit_params)\n",
      "C:\\Users\\iiats\\Anaconda3\\envs\\Python36\\lib\\site-packages\\sklearn\\model_selection\\_validation.py:531: DataConversionWarning: A column-vector y was passed when a 1d array was expected. Please change the shape of y to (n_samples,), for example using ravel().\n",
      "  estimator.fit(X_train, y_train, **fit_params)\n",
      "C:\\Users\\iiats\\Anaconda3\\envs\\Python36\\lib\\site-packages\\sklearn\\model_selection\\_validation.py:531: DataConversionWarning: A column-vector y was passed when a 1d array was expected. Please change the shape of y to (n_samples,), for example using ravel().\n",
      "  estimator.fit(X_train, y_train, **fit_params)\n",
      "C:\\Users\\iiats\\Anaconda3\\envs\\Python36\\lib\\site-packages\\sklearn\\model_selection\\_validation.py:531: DataConversionWarning: A column-vector y was passed when a 1d array was expected. Please change the shape of y to (n_samples,), for example using ravel().\n",
      "  estimator.fit(X_train, y_train, **fit_params)\n"
     ]
    },
    {
     "name": "stdout",
     "output_type": "stream",
     "text": [
      "Cross-validation scores: \n",
      "[0.97234637 0.97877095 0.97821229 0.97960324 0.98882369]\n"
     ]
    }
   ],
   "source": [
    "# 交差検証\n",
    "from sklearn.model_selection import cross_val_score, KFold\n",
    "\n",
    "kfold = KFold(n_splits=5)\n",
    "print('Cross-validation scores: \\n{}'.format(cross_val_score(clf, X, y, cv=kfold)))"
   ]
  },
  {
   "cell_type": "code",
   "execution_count": null,
   "metadata": {},
   "outputs": [],
   "source": []
  }
 ],
 "metadata": {
  "kernelspec": {
   "display_name": "Python 3",
   "language": "python",
   "name": "python3"
  },
  "language_info": {
   "codemirror_mode": {
    "name": "ipython",
    "version": 3
   },
   "file_extension": ".py",
   "mimetype": "text/x-python",
   "name": "python",
   "nbconvert_exporter": "python",
   "pygments_lexer": "ipython3",
   "version": "3.7.7"
  }
 },
 "nbformat": 4,
 "nbformat_minor": 2
}
