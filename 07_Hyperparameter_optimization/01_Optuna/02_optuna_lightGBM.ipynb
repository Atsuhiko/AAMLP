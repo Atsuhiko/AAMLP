{
 "cells": [
  {
   "cell_type": "markdown",
   "metadata": {},
   "source": [
    "# Optuna lightGBM"
   ]
  },
  {
   "cell_type": "markdown",
   "metadata": {},
   "source": [
    "https://github.com/optuna/optuna  "
   ]
  },
  {
   "cell_type": "code",
   "execution_count": 1,
   "metadata": {
    "scrolled": true
   },
   "outputs": [],
   "source": [
    "from sklearn.datasets import load_boston\n",
    "import lightgbm as lgb # conda install -c conda-forge lightgbm\n",
    "import numpy as np\n",
    "import sklearn.datasets\n",
    "import sklearn.metrics\n",
    "from sklearn.model_selection import train_test_split\n",
    "\n",
    "import optuna"
   ]
  },
  {
   "cell_type": "code",
   "execution_count": 2,
   "metadata": {
    "scrolled": true
   },
   "outputs": [
    {
     "data": {
      "text/plain": [
       "array([[1.799e+01, 1.038e+01, 1.228e+02, ..., 2.654e-01, 4.601e-01,\n",
       "        1.189e-01],\n",
       "       [2.057e+01, 1.777e+01, 1.329e+02, ..., 1.860e-01, 2.750e-01,\n",
       "        8.902e-02],\n",
       "       [1.969e+01, 2.125e+01, 1.300e+02, ..., 2.430e-01, 3.613e-01,\n",
       "        8.758e-02],\n",
       "       ...,\n",
       "       [1.660e+01, 2.808e+01, 1.083e+02, ..., 1.418e-01, 2.218e-01,\n",
       "        7.820e-02],\n",
       "       [2.060e+01, 2.933e+01, 1.401e+02, ..., 2.650e-01, 4.087e-01,\n",
       "        1.240e-01],\n",
       "       [7.760e+00, 2.454e+01, 4.792e+01, ..., 0.000e+00, 2.871e-01,\n",
       "        7.039e-02]])"
      ]
     },
     "execution_count": 2,
     "metadata": {},
     "output_type": "execute_result"
    }
   ],
   "source": [
    "data, target = sklearn.datasets.load_breast_cancer(return_X_y=True)\n",
    "data"
   ]
  },
  {
   "cell_type": "code",
   "execution_count": 3,
   "metadata": {},
   "outputs": [
    {
     "data": {
      "text/plain": [
       "array([0, 0, 0, 0, 0, 0, 0, 0, 0, 0, 0, 0, 0, 0, 0, 0, 0, 0, 0, 1, 1, 1,\n",
       "       0, 0, 0, 0, 0, 0, 0, 0, 0, 0, 0, 0, 0, 0, 0, 1, 0, 0, 0, 0, 0, 0,\n",
       "       0, 0, 1, 0, 1, 1, 1, 1, 1, 0, 0, 1, 0, 0, 1, 1, 1, 1, 0, 1, 0, 0,\n",
       "       1, 1, 1, 1, 0, 1, 0, 0, 1, 0, 1, 0, 0, 1, 1, 1, 0, 0, 1, 0, 0, 0,\n",
       "       1, 1, 1, 0, 1, 1, 0, 0, 1, 1, 1, 0, 0, 1, 1, 1, 1, 0, 1, 1, 0, 1,\n",
       "       1, 1, 1, 1, 1, 1, 1, 0, 0, 0, 1, 0, 0, 1, 1, 1, 0, 0, 1, 0, 1, 0,\n",
       "       0, 1, 0, 0, 1, 1, 0, 1, 1, 0, 1, 1, 1, 1, 0, 1, 1, 1, 1, 1, 1, 1,\n",
       "       1, 1, 0, 1, 1, 1, 1, 0, 0, 1, 0, 1, 1, 0, 0, 1, 1, 0, 0, 1, 1, 1,\n",
       "       1, 0, 1, 1, 0, 0, 0, 1, 0, 1, 0, 1, 1, 1, 0, 1, 1, 0, 0, 1, 0, 0,\n",
       "       0, 0, 1, 0, 0, 0, 1, 0, 1, 0, 1, 1, 0, 1, 0, 0, 0, 0, 1, 1, 0, 0,\n",
       "       1, 1, 1, 0, 1, 1, 1, 1, 1, 0, 0, 1, 1, 0, 1, 1, 0, 0, 1, 0, 1, 1,\n",
       "       1, 1, 0, 1, 1, 1, 1, 1, 0, 1, 0, 0, 0, 0, 0, 0, 0, 0, 0, 0, 0, 0,\n",
       "       0, 0, 1, 1, 1, 1, 1, 1, 0, 1, 0, 1, 1, 0, 1, 1, 0, 1, 0, 0, 1, 1,\n",
       "       1, 1, 1, 1, 1, 1, 1, 1, 1, 1, 1, 0, 1, 1, 0, 1, 0, 1, 1, 1, 1, 1,\n",
       "       1, 1, 1, 1, 1, 1, 1, 1, 1, 0, 1, 1, 1, 0, 1, 0, 1, 1, 1, 1, 0, 0,\n",
       "       0, 1, 1, 1, 1, 0, 1, 0, 1, 0, 1, 1, 1, 0, 1, 1, 1, 1, 1, 1, 1, 0,\n",
       "       0, 0, 1, 1, 1, 1, 1, 1, 1, 1, 1, 1, 1, 0, 0, 1, 0, 0, 0, 1, 0, 0,\n",
       "       1, 1, 1, 1, 1, 0, 1, 1, 1, 1, 1, 0, 1, 1, 1, 0, 1, 1, 0, 0, 1, 1,\n",
       "       1, 1, 1, 1, 0, 1, 1, 1, 1, 1, 1, 1, 0, 1, 1, 1, 1, 1, 0, 1, 1, 0,\n",
       "       1, 1, 1, 1, 1, 1, 1, 1, 1, 1, 1, 1, 0, 1, 0, 0, 1, 0, 1, 1, 1, 1,\n",
       "       1, 0, 1, 1, 0, 1, 0, 1, 1, 0, 1, 0, 1, 1, 1, 1, 1, 1, 1, 1, 0, 0,\n",
       "       1, 1, 1, 1, 1, 1, 0, 1, 1, 1, 1, 1, 1, 1, 1, 1, 1, 0, 1, 1, 1, 1,\n",
       "       1, 1, 1, 0, 1, 0, 1, 1, 0, 1, 1, 1, 1, 1, 0, 0, 1, 0, 1, 0, 1, 1,\n",
       "       1, 1, 1, 0, 1, 1, 0, 1, 0, 1, 0, 0, 1, 1, 1, 0, 1, 1, 1, 1, 1, 1,\n",
       "       1, 1, 1, 1, 1, 0, 1, 0, 0, 1, 1, 1, 1, 1, 1, 1, 1, 1, 1, 1, 1, 1,\n",
       "       1, 1, 1, 1, 1, 1, 1, 1, 1, 1, 1, 1, 0, 0, 0, 0, 0, 0, 1])"
      ]
     },
     "execution_count": 3,
     "metadata": {},
     "output_type": "execute_result"
    }
   ],
   "source": [
    "target"
   ]
  },
  {
   "cell_type": "code",
   "execution_count": 4,
   "metadata": {},
   "outputs": [],
   "source": [
    "# FYI: Objective functions can take additional arguments\n",
    "# (https://optuna.readthedocs.io/en/stable/faq.html#objective-func-additional-args).\n",
    "\n",
    "def objective(trial):\n",
    "    data, target = sklearn.datasets.load_breast_cancer(return_X_y=True)\n",
    "    train_x, valid_x, train_y, valid_y = train_test_split(data, target, test_size=0.25)\n",
    "    dtrain = lgb.Dataset(train_x, label=train_y)\n",
    "\n",
    "    param = {\n",
    "        \"objective\": \"binary\",\n",
    "        \"metric\": \"binary_logloss\",\n",
    "        \"verbosity\": -1,\n",
    "        \"boosting_type\": \"gbdt\",\n",
    "        \"lambda_l1\": trial.suggest_float(\"lambda_l1\", 1e-8, 10.0, log=True),\n",
    "        \"lambda_l2\": trial.suggest_float(\"lambda_l2\", 1e-8, 10.0, log=True),\n",
    "        \"num_leaves\": trial.suggest_int(\"num_leaves\", 2, 256),\n",
    "        \"feature_fraction\": trial.suggest_float(\"feature_fraction\", 0.4, 1.0),\n",
    "        \"bagging_fraction\": trial.suggest_float(\"bagging_fraction\", 0.4, 1.0),\n",
    "        \"bagging_freq\": trial.suggest_int(\"bagging_freq\", 1, 7),\n",
    "        \"min_child_samples\": trial.suggest_int(\"min_child_samples\", 5, 100),\n",
    "    }\n",
    "\n",
    "    gbm = lgb.train(param, dtrain)\n",
    "    preds = gbm.predict(valid_x)\n",
    "    pred_labels = np.rint(preds)\n",
    "    accuracy = sklearn.metrics.accuracy_score(valid_y, pred_labels)\n",
    "    return accuracy\n"
   ]
  },
  {
   "cell_type": "code",
   "execution_count": 5,
   "metadata": {
    "scrolled": true
   },
   "outputs": [
    {
     "name": "stderr",
     "output_type": "stream",
     "text": [
      "[I 2020-10-08 13:44:07,901] A new study created in memory with name: no-name-ed42ef8b-46dd-4027-895f-504363c6bf53\n",
      "[I 2020-10-08 13:44:07,993] Trial 0 finished with value: 0.965034965034965 and parameters: {'lambda_l1': 0.2735899378237925, 'lambda_l2': 2.7259170270177638e-05, 'num_leaves': 246, 'feature_fraction': 0.9839665770059358, 'bagging_fraction': 0.6009408914064643, 'bagging_freq': 7, 'min_child_samples': 46}. Best is trial 0 with value: 0.965034965034965.\n",
      "[I 2020-10-08 13:44:08,103] Trial 1 finished with value: 0.9790209790209791 and parameters: {'lambda_l1': 0.000737348505216848, 'lambda_l2': 1.3672841163631296e-06, 'num_leaves': 252, 'feature_fraction': 0.4668670819569275, 'bagging_fraction': 0.6229994930151244, 'bagging_freq': 4, 'min_child_samples': 17}. Best is trial 1 with value: 0.9790209790209791.\n",
      "[I 2020-10-08 13:44:08,180] Trial 2 finished with value: 0.965034965034965 and parameters: {'lambda_l1': 1.045425779511504e-06, 'lambda_l2': 0.0018688567187433878, 'num_leaves': 149, 'feature_fraction': 0.42183806978553495, 'bagging_fraction': 0.6336195280822075, 'bagging_freq': 1, 'min_child_samples': 53}. Best is trial 1 with value: 0.9790209790209791.\n",
      "[I 2020-10-08 13:44:08,255] Trial 3 finished with value: 0.9790209790209791 and parameters: {'lambda_l1': 0.0641868569983464, 'lambda_l2': 0.13284865140957633, 'num_leaves': 172, 'feature_fraction': 0.9175537157587622, 'bagging_fraction': 0.4712489794981636, 'bagging_freq': 6, 'min_child_samples': 47}. Best is trial 1 with value: 0.9790209790209791.\n",
      "[I 2020-10-08 13:44:08,348] Trial 4 finished with value: 0.993006993006993 and parameters: {'lambda_l1': 4.3509450228679825e-08, 'lambda_l2': 0.00014385483603431102, 'num_leaves': 87, 'feature_fraction': 0.5742998413613465, 'bagging_fraction': 0.6616367173720703, 'bagging_freq': 1, 'min_child_samples': 55}. Best is trial 4 with value: 0.993006993006993.\n",
      "[I 2020-10-08 13:44:08,426] Trial 5 finished with value: 0.951048951048951 and parameters: {'lambda_l1': 3.568968533625042e-05, 'lambda_l2': 1.1688194029913182e-06, 'num_leaves': 246, 'feature_fraction': 0.8523701570994227, 'bagging_fraction': 0.640749565065913, 'bagging_freq': 6, 'min_child_samples': 87}. Best is trial 4 with value: 0.993006993006993.\n",
      "[I 2020-10-08 13:44:08,502] Trial 6 finished with value: 0.965034965034965 and parameters: {'lambda_l1': 0.0022953799964568035, 'lambda_l2': 0.0029345808810545626, 'num_leaves': 231, 'feature_fraction': 0.731155083800759, 'bagging_fraction': 0.4522919546677821, 'bagging_freq': 6, 'min_child_samples': 51}. Best is trial 4 with value: 0.993006993006993.\n",
      "[I 2020-10-08 13:44:08,583] Trial 7 finished with value: 0.9440559440559441 and parameters: {'lambda_l1': 0.22913673924299077, 'lambda_l2': 0.8659252587330422, 'num_leaves': 79, 'feature_fraction': 0.912753683462706, 'bagging_fraction': 0.7607870664072038, 'bagging_freq': 2, 'min_child_samples': 65}. Best is trial 4 with value: 0.993006993006993.\n",
      "[I 2020-10-08 13:44:08,670] Trial 8 finished with value: 0.9440559440559441 and parameters: {'lambda_l1': 1.0627442673321057e-08, 'lambda_l2': 1.5381204838126286, 'num_leaves': 116, 'feature_fraction': 0.991001441348623, 'bagging_fraction': 0.8305177177287442, 'bagging_freq': 3, 'min_child_samples': 61}. Best is trial 4 with value: 0.993006993006993.\n",
      "[I 2020-10-08 13:44:08,837] Trial 9 finished with value: 0.972027972027972 and parameters: {'lambda_l1': 1.0293990682905942e-05, 'lambda_l2': 1.1687440584921757e-08, 'num_leaves': 196, 'feature_fraction': 0.7945619552663394, 'bagging_fraction': 0.815688202840873, 'bagging_freq': 1, 'min_child_samples': 17}. Best is trial 4 with value: 0.993006993006993.\n",
      "[I 2020-10-08 13:44:08,978] Trial 10 finished with value: 0.9790209790209791 and parameters: {'lambda_l1': 1.0020993750600324e-08, 'lambda_l2': 4.531880601865769e-05, 'num_leaves': 5, 'feature_fraction': 0.5758772288043056, 'bagging_fraction': 0.9751681860024753, 'bagging_freq': 4, 'min_child_samples': 96}. Best is trial 4 with value: 0.993006993006993.\n",
      "[I 2020-10-08 13:44:09,149] Trial 11 finished with value: 0.951048951048951 and parameters: {'lambda_l1': 0.002980961611835261, 'lambda_l2': 1.4895634989858872e-07, 'num_leaves': 62, 'feature_fraction': 0.523602398947499, 'bagging_fraction': 0.5377233864837968, 'bagging_freq': 4, 'min_child_samples': 5}. Best is trial 4 with value: 0.993006993006993.\n",
      "[I 2020-10-08 13:44:09,295] Trial 12 finished with value: 0.986013986013986 and parameters: {'lambda_l1': 5.353932352570725e-07, 'lambda_l2': 3.106550834685364e-06, 'num_leaves': 35, 'feature_fraction': 0.5732911091213863, 'bagging_fraction': 0.7229768106663389, 'bagging_freq': 3, 'min_child_samples': 28}. Best is trial 4 with value: 0.993006993006993.\n",
      "[I 2020-10-08 13:44:09,455] Trial 13 finished with value: 0.958041958041958 and parameters: {'lambda_l1': 3.65382045225132e-07, 'lambda_l2': 8.44417778015563e-05, 'num_leaves': 28, 'feature_fraction': 0.6465162255661053, 'bagging_fraction': 0.7296642416450118, 'bagging_freq': 2, 'min_child_samples': 29}. Best is trial 4 with value: 0.993006993006993.\n",
      "[I 2020-10-08 13:44:09,621] Trial 14 finished with value: 0.9790209790209791 and parameters: {'lambda_l1': 5.641394165947183e-08, 'lambda_l2': 0.005736779561342752, 'num_leaves': 74, 'feature_fraction': 0.6214484593356633, 'bagging_fraction': 0.8939043204343234, 'bagging_freq': 2, 'min_child_samples': 32}. Best is trial 4 with value: 0.993006993006993.\n",
      "[I 2020-10-08 13:44:09,750] Trial 15 finished with value: 0.965034965034965 and parameters: {'lambda_l1': 1.340775039023071e-06, 'lambda_l2': 2.6578541594847047e-06, 'num_leaves': 36, 'feature_fraction': 0.5283092868570589, 'bagging_fraction': 0.7197815255549062, 'bagging_freq': 3, 'min_child_samples': 78}. Best is trial 4 with value: 0.993006993006993.\n",
      "[I 2020-10-08 13:44:09,881] Trial 16 finished with value: 0.965034965034965 and parameters: {'lambda_l1': 8.00265780098696e-08, 'lambda_l2': 3.7097062667579135e-08, 'num_leaves': 105, 'feature_fraction': 0.6817535490987245, 'bagging_fraction': 0.5226566596765733, 'bagging_freq': 3, 'min_child_samples': 36}. Best is trial 4 with value: 0.993006993006993.\n",
      "[I 2020-10-08 13:44:10,007] Trial 17 finished with value: 0.9790209790209791 and parameters: {'lambda_l1': 2.3576627443264184e-05, 'lambda_l2': 5.981771212843823e-06, 'num_leaves': 8, 'feature_fraction': 0.42169333068299963, 'bagging_fraction': 0.812594172713285, 'bagging_freq': 1, 'min_child_samples': 70}. Best is trial 4 with value: 0.993006993006993.\n",
      "[I 2020-10-08 13:44:10,216] Trial 18 finished with value: 0.972027972027972 and parameters: {'lambda_l1': 5.517263016202967e-08, 'lambda_l2': 0.00038279612776640745, 'num_leaves': 45, 'feature_fraction': 0.576124490630212, 'bagging_fraction': 0.6731258071834125, 'bagging_freq': 5, 'min_child_samples': 6}. Best is trial 4 with value: 0.993006993006993.\n",
      "[I 2020-10-08 13:44:10,388] Trial 19 finished with value: 0.9230769230769231 and parameters: {'lambda_l1': 4.331146306499301e-06, 'lambda_l2': 0.03989320716326536, 'num_leaves': 102, 'feature_fraction': 0.7200872467810688, 'bagging_fraction': 0.8971394064394764, 'bagging_freq': 2, 'min_child_samples': 20}. Best is trial 4 with value: 0.993006993006993.\n",
      "[I 2020-10-08 13:44:10,516] Trial 20 finished with value: 0.958041958041958 and parameters: {'lambda_l1': 0.00010951428061816114, 'lambda_l2': 1.6388460210743837e-07, 'num_leaves': 140, 'feature_fraction': 0.4872883614004785, 'bagging_fraction': 0.5799588618144493, 'bagging_freq': 3, 'min_child_samples': 39}. Best is trial 4 with value: 0.993006993006993.\n",
      "[I 2020-10-08 13:44:10,627] Trial 21 finished with value: 0.9300699300699301 and parameters: {'lambda_l1': 1.1533926724259138e-08, 'lambda_l2': 2.9215373578927234e-05, 'num_leaves': 2, 'feature_fraction': 0.5840972772582228, 'bagging_fraction': 0.9755404730938917, 'bagging_freq': 5, 'min_child_samples': 96}. Best is trial 4 with value: 0.993006993006993.\n",
      "[I 2020-10-08 13:44:10,756] Trial 22 finished with value: 0.9440559440559441 and parameters: {'lambda_l1': 1.1471378183206323e-08, 'lambda_l2': 0.00016140658076029416, 'num_leaves': 15, 'feature_fraction': 0.5748712580670298, 'bagging_fraction': 0.9925118752384576, 'bagging_freq': 5, 'min_child_samples': 95}. Best is trial 4 with value: 0.993006993006993.\n",
      "[I 2020-10-08 13:44:10,935] Trial 23 finished with value: 0.951048951048951 and parameters: {'lambda_l1': 0.001051371528872222, 'lambda_l2': 5.25778805236314e-07, 'num_leaves': 85, 'feature_fraction': 0.45825386490598896, 'bagging_fraction': 0.669230842234781, 'bagging_freq': 4, 'min_child_samples': 18}. Best is trial 4 with value: 0.993006993006993.\n",
      "[I 2020-10-08 13:44:11,088] Trial 24 finished with value: 0.986013986013986 and parameters: {'lambda_l1': 0.021106213234816155, 'lambda_l2': 8.278940864112676e-06, 'num_leaves': 55, 'feature_fraction': 0.5055725188611374, 'bagging_fraction': 0.7621886028902071, 'bagging_freq': 4, 'min_child_samples': 26}. Best is trial 4 with value: 0.993006993006993.\n",
      "[I 2020-10-08 13:44:11,212] Trial 25 finished with value: 0.951048951048951 and parameters: {'lambda_l1': 4.778519925710319, 'lambda_l2': 5.834191178492185e-06, 'num_leaves': 46, 'feature_fraction': 0.5215032721262669, 'bagging_fraction': 0.7624777612270254, 'bagging_freq': 3, 'min_child_samples': 26}. Best is trial 4 with value: 0.993006993006993.\n",
      "[I 2020-10-08 13:44:11,345] Trial 26 finished with value: 0.9790209790209791 and parameters: {'lambda_l1': 0.017535835378055045, 'lambda_l2': 0.0004776134324838406, 'num_leaves': 65, 'feature_fraction': 0.6383582974898635, 'bagging_fraction': 0.7491876425600602, 'bagging_freq': 5, 'min_child_samples': 39}. Best is trial 4 with value: 0.993006993006993.\n",
      "[I 2020-10-08 13:44:11,481] Trial 27 finished with value: 0.986013986013986 and parameters: {'lambda_l1': 4.022778123971168, 'lambda_l2': 1.1726931465115643e-05, 'num_leaves': 93, 'feature_fraction': 0.40566286486657965, 'bagging_fraction': 0.8523967188598761, 'bagging_freq': 2, 'min_child_samples': 10}. Best is trial 4 with value: 0.993006993006993.\n",
      "[I 2020-10-08 13:44:11,618] Trial 28 finished with value: 0.9370629370629371 and parameters: {'lambda_l1': 1.7188656182644806, 'lambda_l2': 1.3253683409333959e-05, 'num_leaves': 93, 'feature_fraction': 0.4079514627780167, 'bagging_fraction': 0.8779540543443384, 'bagging_freq': 1, 'min_child_samples': 11}. Best is trial 4 with value: 0.993006993006993.\n",
      "[I 2020-10-08 13:44:11,747] Trial 29 finished with value: 0.965034965034965 and parameters: {'lambda_l1': 0.02136145400028076, 'lambda_l2': 3.145937911314483e-07, 'num_leaves': 55, 'feature_fraction': 0.5013788636897206, 'bagging_fraction': 0.6934546583941605, 'bagging_freq': 7, 'min_child_samples': 57}. Best is trial 4 with value: 0.993006993006993.\n",
      "[I 2020-10-08 13:44:11,903] Trial 30 finished with value: 0.972027972027972 and parameters: {'lambda_l1': 0.9106114639148511, 'lambda_l2': 2.1593898477182812e-05, 'num_leaves': 119, 'feature_fraction': 0.41465404018993, 'bagging_fraction': 0.9341482508205623, 'bagging_freq': 2, 'min_child_samples': 10}. Best is trial 4 with value: 0.993006993006993.\n",
      "[I 2020-10-08 13:44:12,051] Trial 31 finished with value: 0.958041958041958 and parameters: {'lambda_l1': 2.9246972646417314e-07, 'lambda_l2': 7.657252508408276e-06, 'num_leaves': 86, 'feature_fraction': 0.44784822892243903, 'bagging_fraction': 0.8383072307356914, 'bagging_freq': 2, 'min_child_samples': 43}. Best is trial 4 with value: 0.993006993006993.\n",
      "[I 2020-10-08 13:44:12,215] Trial 32 finished with value: 0.972027972027972 and parameters: {'lambda_l1': 0.00019030939787567283, 'lambda_l2': 0.0008485925343234244, 'num_leaves': 67, 'feature_fraction': 0.609638575324582, 'bagging_fraction': 0.7804530943993567, 'bagging_freq': 3, 'min_child_samples': 23}. Best is trial 4 with value: 0.993006993006993.\n",
      "[I 2020-10-08 13:44:12,333] Trial 33 finished with value: 0.972027972027972 and parameters: {'lambda_l1': 5.693407167432363, 'lambda_l2': 1.5285627401202484e-06, 'num_leaves': 21, 'feature_fraction': 0.5534454662671427, 'bagging_fraction': 0.588474448993918, 'bagging_freq': 1, 'min_child_samples': 12}. Best is trial 4 with value: 0.993006993006993.\n",
      "[I 2020-10-08 13:44:12,464] Trial 34 finished with value: 0.951048951048951 and parameters: {'lambda_l1': 0.18927301517269993, 'lambda_l2': 0.0001170664333590139, 'num_leaves': 135, 'feature_fraction': 0.47404885892322524, 'bagging_fraction': 0.706391952710862, 'bagging_freq': 3, 'min_child_samples': 34}. Best is trial 4 with value: 0.993006993006993.\n",
      "[I 2020-10-08 13:44:12,596] Trial 35 finished with value: 0.9440559440559441 and parameters: {'lambda_l1': 0.02406475957095358, 'lambda_l2': 2.6535079765875277e-06, 'num_leaves': 42, 'feature_fraction': 0.6592832473919781, 'bagging_fraction': 0.7918309609392457, 'bagging_freq': 2, 'min_child_samples': 45}. Best is trial 4 with value: 0.993006993006993.\n",
      "[I 2020-10-08 13:44:12,739] Trial 36 finished with value: 0.9230769230769231 and parameters: {'lambda_l1': 0.8502355467957619, 'lambda_l2': 0.008423211459478755, 'num_leaves': 159, 'feature_fraction': 0.5409173742851413, 'bagging_fraction': 0.8654011089946709, 'bagging_freq': 4, 'min_child_samples': 52}. Best is trial 4 with value: 0.993006993006993.\n",
      "[I 2020-10-08 13:44:12,902] Trial 37 finished with value: 0.972027972027972 and parameters: {'lambda_l1': 0.006868045604982644, 'lambda_l2': 4.079419338540825e-08, 'num_leaves': 105, 'feature_fraction': 0.49855259608054986, 'bagging_fraction': 0.6295981557079494, 'bagging_freq': 1, 'min_child_samples': 24}. Best is trial 4 with value: 0.993006993006993.\n",
      "[I 2020-10-08 13:44:13,017] Trial 38 finished with value: 0.9790209790209791 and parameters: {'lambda_l1': 2.7256100261738776e-06, 'lambda_l2': 4.965211209927911e-05, 'num_leaves': 55, 'feature_fraction': 0.44731591608888344, 'bagging_fraction': 0.4056661807548184, 'bagging_freq': 4, 'min_child_samples': 68}. Best is trial 4 with value: 0.993006993006993.\n",
      "[I 2020-10-08 13:44:13,139] Trial 39 finished with value: 0.986013986013986 and parameters: {'lambda_l1': 0.059229313079061804, 'lambda_l2': 0.001145052726175218, 'num_leaves': 30, 'feature_fraction': 0.6083848038799201, 'bagging_fraction': 0.6520025726710024, 'bagging_freq': 2, 'min_child_samples': 49}. Best is trial 4 with value: 0.993006993006993.\n",
      "[I 2020-10-08 13:44:13,261] Trial 40 finished with value: 0.958041958041958 and parameters: {'lambda_l1': 0.09493458465835176, 'lambda_l2': 0.03872650313462951, 'num_leaves': 28, 'feature_fraction': 0.7630151909095776, 'bagging_fraction': 0.6517630338955563, 'bagging_freq': 3, 'min_child_samples': 58}. Best is trial 4 with value: 0.993006993006993.\n",
      "[I 2020-10-08 13:44:13,378] Trial 41 finished with value: 0.965034965034965 and parameters: {'lambda_l1': 0.0004487603770573194, 'lambda_l2': 0.0009879612890354892, 'num_leaves': 74, 'feature_fraction': 0.5981736464160636, 'bagging_fraction': 0.6034236272727176, 'bagging_freq': 2, 'min_child_samples': 49}. Best is trial 4 with value: 0.993006993006993.\n",
      "[I 2020-10-08 13:44:13,500] Trial 42 finished with value: 0.965034965034965 and parameters: {'lambda_l1': 0.5056538892735614, 'lambda_l2': 0.0001745844873997508, 'num_leaves': 33, 'feature_fraction': 0.6801230670474039, 'bagging_fraction': 0.6825922730372822, 'bagging_freq': 1, 'min_child_samples': 42}. Best is trial 4 with value: 0.993006993006993.\n",
      "[I 2020-10-08 13:44:13,610] Trial 43 finished with value: 0.986013986013986 and parameters: {'lambda_l1': 0.04766573753789837, 'lambda_l2': 9.404187957330565, 'num_leaves': 56, 'feature_fraction': 0.5555303986278828, 'bagging_fraction': 0.7380175439080336, 'bagging_freq': 2, 'min_child_samples': 75}. Best is trial 4 with value: 0.993006993006993.\n",
      "[I 2020-10-08 13:44:13,729] Trial 44 finished with value: 0.9230769230769231 and parameters: {'lambda_l1': 9.152969119442437, 'lambda_l2': 0.4945852825397194, 'num_leaves': 121, 'feature_fraction': 0.5536440153948468, 'bagging_fraction': 0.7314406785751936, 'bagging_freq': 2, 'min_child_samples': 77}. Best is trial 4 with value: 0.993006993006993.\n"
     ]
    },
    {
     "name": "stderr",
     "output_type": "stream",
     "text": [
      "[I 2020-10-08 13:44:13,855] Trial 45 finished with value: 0.965034965034965 and parameters: {'lambda_l1': 0.0040056776549609145, 'lambda_l2': 7.023762815374617e-07, 'num_leaves': 94, 'feature_fraction': 0.509378801384265, 'bagging_fraction': 0.7942868572923538, 'bagging_freq': 1, 'min_child_samples': 84}. Best is trial 4 with value: 0.993006993006993.\n",
      "[I 2020-10-08 13:44:13,993] Trial 46 finished with value: 0.9790209790209791 and parameters: {'lambda_l1': 0.06632809987367773, 'lambda_l2': 8.401627616173359, 'num_leaves': 55, 'feature_fraction': 0.6226963472208445, 'bagging_fraction': 0.5537639967817853, 'bagging_freq': 2, 'min_child_samples': 75}. Best is trial 4 with value: 0.993006993006993.\n",
      "[I 2020-10-08 13:44:14,121] Trial 47 finished with value: 0.9790209790209791 and parameters: {'lambda_l1': 2.3365989874231137e-07, 'lambda_l2': 1.3223824589694781e-05, 'num_leaves': 82, 'feature_fraction': 0.5534564399390709, 'bagging_fraction': 0.8479173995109347, 'bagging_freq': 4, 'min_child_samples': 64}. Best is trial 4 with value: 0.993006993006993.\n",
      "[I 2020-10-08 13:44:14,229] Trial 48 finished with value: 0.9230769230769231 and parameters: {'lambda_l1': 0.2087418325709046, 'lambda_l2': 9.490866863740727, 'num_leaves': 14, 'feature_fraction': 0.6663202166624737, 'bagging_fraction': 0.6426671758256827, 'bagging_freq': 2, 'min_child_samples': 87}. Best is trial 4 with value: 0.993006993006993.\n",
      "[I 2020-10-08 13:44:14,344] Trial 49 finished with value: 0.951048951048951 and parameters: {'lambda_l1': 0.009325491201674103, 'lambda_l2': 2.7914342591065178, 'num_leaves': 64, 'feature_fraction': 0.7085035845296428, 'bagging_fraction': 0.7535274867151518, 'bagging_freq': 1, 'min_child_samples': 54}. Best is trial 4 with value: 0.993006993006993.\n",
      "[I 2020-10-08 13:44:14,471] Trial 50 finished with value: 0.951048951048951 and parameters: {'lambda_l1': 0.00116951026722446, 'lambda_l2': 7.426688099681368e-05, 'num_leaves': 108, 'feature_fraction': 0.47339629450724785, 'bagging_fraction': 0.9205795132739847, 'bagging_freq': 2, 'min_child_samples': 71}. Best is trial 4 with value: 0.993006993006993.\n",
      "[I 2020-10-08 13:44:14,624] Trial 51 finished with value: 0.972027972027972 and parameters: {'lambda_l1': 3.474145692072078e-08, 'lambda_l2': 2.953681291787291e-06, 'num_leaves': 51, 'feature_fraction': 0.6035781483937535, 'bagging_fraction': 0.7092573488819767, 'bagging_freq': 3, 'min_child_samples': 28}. Best is trial 4 with value: 0.993006993006993.\n",
      "[I 2020-10-08 13:44:14,774] Trial 52 finished with value: 0.986013986013986 and parameters: {'lambda_l1': 0.047448970510028395, 'lambda_l2': 0.00309032332195936, 'num_leaves': 37, 'feature_fraction': 0.5638705862451449, 'bagging_fraction': 0.7354817413376161, 'bagging_freq': 3, 'min_child_samples': 31}. Best is trial 4 with value: 0.993006993006993.\n",
      "[I 2020-10-08 13:44:14,907] Trial 53 finished with value: 0.951048951048951 and parameters: {'lambda_l1': 0.03903593523179901, 'lambda_l2': 0.002946348737069318, 'num_leaves': 74, 'feature_fraction': 0.5426320067363123, 'bagging_fraction': 0.6107774678810131, 'bagging_freq': 3, 'min_child_samples': 61}. Best is trial 4 with value: 0.993006993006993.\n",
      "[I 2020-10-08 13:44:15,057] Trial 54 finished with value: 0.958041958041958 and parameters: {'lambda_l1': 2.180500916504038, 'lambda_l2': 0.03289375732178224, 'num_leaves': 40, 'feature_fraction': 0.6307329910284278, 'bagging_fraction': 0.6594562892089996, 'bagging_freq': 2, 'min_child_samples': 33}. Best is trial 4 with value: 0.993006993006993.\n",
      "[I 2020-10-08 13:44:15,203] Trial 55 finished with value: 0.951048951048951 and parameters: {'lambda_l1': 0.16532730530723183, 'lambda_l2': 0.009132465310257666, 'num_leaves': 23, 'feature_fraction': 0.586063120082833, 'bagging_fraction': 0.7738726685752335, 'bagging_freq': 4, 'min_child_samples': 30}. Best is trial 4 with value: 0.993006993006993.\n",
      "[I 2020-10-08 13:44:15,343] Trial 56 finished with value: 0.972027972027972 and parameters: {'lambda_l1': 5.78426684221286e-05, 'lambda_l2': 0.0012089123964044719, 'num_leaves': 34, 'feature_fraction': 0.5160339980696734, 'bagging_fraction': 0.8175396076297179, 'bagging_freq': 3, 'min_child_samples': 38}. Best is trial 4 with value: 0.993006993006993.\n",
      "[I 2020-10-08 13:44:15,462] Trial 57 finished with value: 0.972027972027972 and parameters: {'lambda_l1': 2.3314069009653414e-08, 'lambda_l2': 0.00029662165440444893, 'num_leaves': 3, 'feature_fraction': 0.5704066390629285, 'bagging_fraction': 0.6906620031291718, 'bagging_freq': 3, 'min_child_samples': 15}. Best is trial 4 with value: 0.993006993006993.\n",
      "[I 2020-10-08 13:44:15,589] Trial 58 finished with value: 0.9790209790209791 and parameters: {'lambda_l1': 8.952798360662414e-07, 'lambda_l2': 0.122235487418853, 'num_leaves': 92, 'feature_fraction': 0.8471334883186542, 'bagging_fraction': 0.736666998707159, 'bagging_freq': 2, 'min_child_samples': 49}. Best is trial 4 with value: 0.993006993006993.\n",
      "[I 2020-10-08 13:44:15,771] Trial 59 finished with value: 0.965034965034965 and parameters: {'lambda_l1': 0.0023491678994804377, 'lambda_l2': 4.7441642424611414e-05, 'num_leaves': 68, 'feature_fraction': 0.4902199963921584, 'bagging_fraction': 0.8120925886357374, 'bagging_freq': 1, 'min_child_samples': 5}. Best is trial 4 with value: 0.993006993006993.\n",
      "[I 2020-10-08 13:44:15,901] Trial 60 finished with value: 0.965034965034965 and parameters: {'lambda_l1': 0.5259037207628211, 'lambda_l2': 0.002522262179392578, 'num_leaves': 49, 'feature_fraction': 0.5275049706632287, 'bagging_fraction': 0.6290124707919449, 'bagging_freq': 2, 'min_child_samples': 21}. Best is trial 4 with value: 0.993006993006993.\n",
      "[I 2020-10-08 13:44:16,049] Trial 61 finished with value: 0.9790209790209791 and parameters: {'lambda_l1': 0.008610835269832102, 'lambda_l2': 2.723283956571913e-05, 'num_leaves': 15, 'feature_fraction': 0.5653120560594153, 'bagging_fraction': 0.7051885967043753, 'bagging_freq': 3, 'min_child_samples': 15}. Best is trial 4 with value: 0.993006993006993.\n",
      "[I 2020-10-08 13:44:16,193] Trial 62 finished with value: 0.958041958041958 and parameters: {'lambda_l1': 0.045820774558982376, 'lambda_l2': 9.869379443817873e-06, 'num_leaves': 57, 'feature_fraction': 0.5947343050083264, 'bagging_fraction': 0.7392498821325333, 'bagging_freq': 4, 'min_child_samples': 27}. Best is trial 4 with value: 0.993006993006993.\n",
      "[I 2020-10-08 13:44:16,334] Trial 63 finished with value: 0.986013986013986 and parameters: {'lambda_l1': 0.11870389677835039, 'lambda_l2': 4.387763485935207e-06, 'num_leaves': 38, 'feature_fraction': 0.43330630934556424, 'bagging_fraction': 0.7180338711896994, 'bagging_freq': 5, 'min_child_samples': 36}. Best is trial 4 with value: 0.993006993006993.\n",
      "[I 2020-10-08 13:44:16,455] Trial 64 finished with value: 0.9440559440559441 and parameters: {'lambda_l1': 0.10341519263580246, 'lambda_l2': 0.00035097992469796264, 'num_leaves': 43, 'feature_fraction': 0.4294250917655555, 'bagging_fraction': 0.6659018542154002, 'bagging_freq': 6, 'min_child_samples': 36}. Best is trial 4 with value: 0.993006993006993.\n",
      "[I 2020-10-08 13:44:16,582] Trial 65 finished with value: 0.972027972027972 and parameters: {'lambda_l1': 0.4403075740093039, 'lambda_l2': 1.087824204612347e-06, 'num_leaves': 213, 'feature_fraction': 0.43125276583569916, 'bagging_fraction': 0.7197420111150545, 'bagging_freq': 5, 'min_child_samples': 46}. Best is trial 4 with value: 0.993006993006993.\n",
      "[I 2020-10-08 13:44:16,713] Trial 66 finished with value: 0.9370629370629371 and parameters: {'lambda_l1': 1.1186919681939605e-07, 'lambda_l2': 3.3451947736710383e-06, 'num_leaves': 27, 'feature_fraction': 0.6361221530720316, 'bagging_fraction': 0.6855182804795277, 'bagging_freq': 6, 'min_child_samples': 42}. Best is trial 4 with value: 0.993006993006993.\n",
      "[I 2020-10-08 13:44:16,843] Trial 67 finished with value: 0.972027972027972 and parameters: {'lambda_l1': 0.025237864284081313, 'lambda_l2': 4.263416299599012e-07, 'num_leaves': 60, 'feature_fraction': 0.46088277220506996, 'bagging_fraction': 0.7692615237198351, 'bagging_freq': 5, 'min_child_samples': 32}. Best is trial 4 with value: 0.993006993006993.\n",
      "[I 2020-10-08 13:44:17,006] Trial 68 finished with value: 0.965034965034965 and parameters: {'lambda_l1': 0.011996034721628761, 'lambda_l2': 1.5954140952414013e-05, 'num_leaves': 80, 'feature_fraction': 0.4806681401698391, 'bagging_fraction': 0.7990002015806164, 'bagging_freq': 5, 'min_child_samples': 24}. Best is trial 4 with value: 0.993006993006993.\n",
      "[I 2020-10-08 13:44:17,132] Trial 69 finished with value: 0.972027972027972 and parameters: {'lambda_l1': 2.1574571658614725, 'lambda_l2': 5.219035458063256e-06, 'num_leaves': 70, 'feature_fraction': 0.5292060579452689, 'bagging_fraction': 0.7188565748165875, 'bagging_freq': 1, 'min_child_samples': 37}. Best is trial 4 with value: 0.993006993006993.\n",
      "[I 2020-10-08 13:44:17,282] Trial 70 finished with value: 0.951048951048951 and parameters: {'lambda_l1': 0.11096799704987796, 'lambda_l2': 1.821984310918818e-07, 'num_leaves': 36, 'feature_fraction': 0.6123823910535707, 'bagging_fraction': 0.8565054771546121, 'bagging_freq': 4, 'min_child_samples': 8}. Best is trial 4 with value: 0.993006993006993.\n",
      "[I 2020-10-08 13:44:17,413] Trial 71 finished with value: 0.986013986013986 and parameters: {'lambda_l1': 0.004447650720077693, 'lambda_l2': 2.002654557514881e-06, 'num_leaves': 20, 'feature_fraction': 0.5690680906345238, 'bagging_fraction': 0.760984841763381, 'bagging_freq': 3, 'min_child_samples': 30}. Best is trial 4 with value: 0.993006993006993.\n",
      "[I 2020-10-08 13:44:17,548] Trial 72 finished with value: 0.965034965034965 and parameters: {'lambda_l1': 0.00529451648341323, 'lambda_l2': 1.2005222552970806e-06, 'num_leaves': 13, 'feature_fraction': 0.578227725980411, 'bagging_fraction': 0.7563551247587247, 'bagging_freq': 3, 'min_child_samples': 31}. Best is trial 4 with value: 0.993006993006993.\n",
      "[I 2020-10-08 13:44:17,694] Trial 73 finished with value: 0.9440559440559441 and parameters: {'lambda_l1': 0.001358063850067638, 'lambda_l2': 1.755513349076942e-06, 'num_leaves': 21, 'feature_fraction': 0.5409583891505403, 'bagging_fraction': 0.6722298996079726, 'bagging_freq': 3, 'min_child_samples': 20}. Best is trial 4 with value: 0.993006993006993.\n",
      "[I 2020-10-08 13:44:17,820] Trial 74 finished with value: 0.965034965034965 and parameters: {'lambda_l1': 0.05147109035867757, 'lambda_l2': 5.018270605058634e-06, 'num_leaves': 8, 'feature_fraction': 0.4101600858611761, 'bagging_fraction': 0.7829391575978927, 'bagging_freq': 6, 'min_child_samples': 34}. Best is trial 4 with value: 0.993006993006993.\n",
      "[I 2020-10-08 13:44:17,971] Trial 75 finished with value: 0.9790209790209791 and parameters: {'lambda_l1': 9.119324534557878e-06, 'lambda_l2': 0.00017298261937402951, 'num_leaves': 46, 'feature_fraction': 0.6480914108323906, 'bagging_fraction': 0.7430586951155413, 'bagging_freq': 3, 'min_child_samples': 26}. Best is trial 4 with value: 0.993006993006993.\n",
      "[I 2020-10-08 13:44:18,113] Trial 76 finished with value: 0.965034965034965 and parameters: {'lambda_l1': 0.016278663634706758, 'lambda_l2': 3.345701391350478e-05, 'num_leaves': 28, 'feature_fraction': 0.9614287901563974, 'bagging_fraction': 0.5714006080578192, 'bagging_freq': 2, 'min_child_samples': 41}. Best is trial 4 with value: 0.993006993006993.\n",
      "[I 2020-10-08 13:44:18,276] Trial 77 finished with value: 0.9790209790209791 and parameters: {'lambda_l1': 0.0006113100137794634, 'lambda_l2': 5.365028624733141e-08, 'num_leaves': 90, 'feature_fraction': 0.5652866502479712, 'bagging_fraction': 0.8285520467795509, 'bagging_freq': 3, 'min_child_samples': 18}. Best is trial 4 with value: 0.993006993006993.\n",
      "[I 2020-10-08 13:44:18,406] Trial 78 finished with value: 0.958041958041958 and parameters: {'lambda_l1': 0.003461474961162693, 'lambda_l2': 0.01764944119697653, 'num_leaves': 35, 'feature_fraction': 0.506755683770318, 'bagging_fraction': 0.6401672805234537, 'bagging_freq': 4, 'min_child_samples': 55}. Best is trial 4 with value: 0.993006993006993.\n",
      "[I 2020-10-08 13:44:18,575] Trial 79 finished with value: 0.9790209790209791 and parameters: {'lambda_l1': 0.00020565576507575368, 'lambda_l2': 0.0006309730291983742, 'num_leaves': 52, 'feature_fraction': 0.6143096458183479, 'bagging_fraction': 0.6860715349617764, 'bagging_freq': 2, 'min_child_samples': 23}. Best is trial 4 with value: 0.993006993006993.\n",
      "[I 2020-10-08 13:44:18,702] Trial 80 finished with value: 0.9370629370629371 and parameters: {'lambda_l1': 0.34088389384754014, 'lambda_l2': 7.285500239921283e-05, 'num_leaves': 19, 'feature_fraction': 0.6939059675954385, 'bagging_fraction': 0.6151815526315612, 'bagging_freq': 2, 'min_child_samples': 40}. Best is trial 4 with value: 0.993006993006993.\n",
      "[I 2020-10-08 13:44:18,837] Trial 81 finished with value: 0.972027972027972 and parameters: {'lambda_l1': 0.03066571690459191, 'lambda_l2': 8.395101314395876e-07, 'num_leaves': 43, 'feature_fraction': 0.5936360262595297, 'bagging_fraction': 0.723525515237151, 'bagging_freq': 4, 'min_child_samples': 29}. Best is trial 4 with value: 0.993006993006993.\n",
      "[I 2020-10-08 13:44:18,984] Trial 82 finished with value: 0.972027972027972 and parameters: {'lambda_l1': 0.06922918269244162, 'lambda_l2': 1.932222178596996e-06, 'num_leaves': 29, 'feature_fraction': 0.5545835761036301, 'bagging_fraction': 0.7032866982231658, 'bagging_freq': 3, 'min_child_samples': 45}. Best is trial 4 with value: 0.993006993006993.\n",
      "[I 2020-10-08 13:44:19,118] Trial 83 finished with value: 0.9790209790209791 and parameters: {'lambda_l1': 0.012429297391732623, 'lambda_l2': 9.147647058106977e-06, 'num_leaves': 59, 'feature_fraction': 0.4007589866179275, 'bagging_fraction': 0.652389242276004, 'bagging_freq': 7, 'min_child_samples': 49}. Best is trial 4 with value: 0.993006993006993.\n",
      "[I 2020-10-08 13:44:19,254] Trial 84 finished with value: 0.9440559440559441 and parameters: {'lambda_l1': 0.1459604159304271, 'lambda_l2': 4.022985523820395e-06, 'num_leaves': 38, 'feature_fraction': 0.5428803524575353, 'bagging_fraction': 0.7605829527237568, 'bagging_freq': 2, 'min_child_samples': 34}. Best is trial 4 with value: 0.993006993006993.\n",
      "[I 2020-10-08 13:44:19,387] Trial 85 finished with value: 0.9790209790209791 and parameters: {'lambda_l1': 0.07482448054270391, 'lambda_l2': 2.6152263948596807e-07, 'num_leaves': 50, 'feature_fraction': 0.4535931699496477, 'bagging_fraction': 0.7396106321072126, 'bagging_freq': 5, 'min_child_samples': 36}. Best is trial 4 with value: 0.993006993006993.\n",
      "[I 2020-10-08 13:44:19,521] Trial 86 finished with value: 0.965034965034965 and parameters: {'lambda_l1': 0.03186046764319199, 'lambda_l2': 7.268589265331505e-06, 'num_leaves': 100, 'feature_fraction': 0.4901939231524543, 'bagging_fraction': 0.7164670348330197, 'bagging_freq': 3, 'min_child_samples': 29}. Best is trial 4 with value: 0.993006993006993.\n",
      "[I 2020-10-08 13:44:19,642] Trial 87 finished with value: 0.972027972027972 and parameters: {'lambda_l1': 1.076999286395698, 'lambda_l2': 1.7637023490261708e-05, 'num_leaves': 112, 'feature_fraction': 0.5862812732436274, 'bagging_fraction': 0.6967924885318184, 'bagging_freq': 1, 'min_child_samples': 84}. Best is trial 4 with value: 0.993006993006993.\n",
      "[I 2020-10-08 13:44:19,774] Trial 88 finished with value: 0.972027972027972 and parameters: {'lambda_l1': 0.2335277139242051, 'lambda_l2': 0.004635516600033409, 'num_leaves': 151, 'feature_fraction': 0.4390708206326812, 'bagging_fraction': 0.7811218944450316, 'bagging_freq': 2, 'min_child_samples': 58}. Best is trial 4 with value: 0.993006993006993.\n",
      "[I 2020-10-08 13:44:19,907] Trial 89 finished with value: 0.965034965034965 and parameters: {'lambda_l1': 0.005525435334954841, 'lambda_l2': 0.0012989252379800897, 'num_leaves': 125, 'feature_fraction': 0.5216774950259685, 'bagging_fraction': 0.675537247554933, 'bagging_freq': 3, 'min_child_samples': 63}. Best is trial 4 with value: 0.993006993006993.\n",
      "[I 2020-10-08 13:44:20,042] Trial 90 finished with value: 0.9440559440559441 and parameters: {'lambda_l1': 4.220226893613308, 'lambda_l2': 7.376383859989248e-08, 'num_leaves': 74, 'feature_fraction': 0.5606676456674913, 'bagging_fraction': 0.7535659411110079, 'bagging_freq': 4, 'min_child_samples': 67}. Best is trial 4 with value: 0.993006993006993.\n"
     ]
    },
    {
     "name": "stderr",
     "output_type": "stream",
     "text": [
      "[I 2020-10-08 13:44:20,193] Trial 91 finished with value: 0.993006993006993 and parameters: {'lambda_l1': 0.016674472668262833, 'lambda_l2': 0.0006282597523511958, 'num_leaves': 85, 'feature_fraction': 0.6428836926864397, 'bagging_fraction': 0.8064821792320519, 'bagging_freq': 5, 'min_child_samples': 38}. Best is trial 4 with value: 0.993006993006993.\n",
      "[I 2020-10-08 13:44:20,312] Trial 92 finished with value: 0.972027972027972 and parameters: {'lambda_l1': 0.0017993893691568388, 'lambda_l2': 0.0002567345180804827, 'num_leaves': 86, 'feature_fraction': 0.6476624572188711, 'bagging_fraction': 0.8099071512479044, 'bagging_freq': 5, 'min_child_samples': 92}. Best is trial 4 with value: 0.993006993006993.\n",
      "[I 2020-10-08 13:44:20,459] Trial 93 finished with value: 0.972027972027972 and parameters: {'lambda_l1': 0.01544774140061836, 'lambda_l2': 0.0005896700589864609, 'num_leaves': 100, 'feature_fraction': 0.6035150311598853, 'bagging_fraction': 0.8892592139142246, 'bagging_freq': 6, 'min_child_samples': 25}. Best is trial 4 with value: 0.993006993006993.\n",
      "[I 2020-10-08 13:44:20,585] Trial 94 finished with value: 0.965034965034965 and parameters: {'lambda_l1': 0.02137644190606159, 'lambda_l2': 0.001783263524624498, 'num_leaves': 63, 'feature_fraction': 0.6257604200428879, 'bagging_fraction': 0.8347052715420871, 'bagging_freq': 5, 'min_child_samples': 51}. Best is trial 4 with value: 0.993006993006993.\n",
      "[I 2020-10-08 13:44:20,732] Trial 95 finished with value: 0.9790209790209791 and parameters: {'lambda_l1': 0.0469112737359714, 'lambda_l2': 2.1552446246472346e-06, 'num_leaves': 30, 'feature_fraction': 0.5750367014980177, 'bagging_fraction': 0.795314084222942, 'bagging_freq': 5, 'min_child_samples': 43}. Best is trial 4 with value: 0.993006993006993.\n",
      "[I 2020-10-08 13:44:20,874] Trial 96 finished with value: 0.965034965034965 and parameters: {'lambda_l1': 0.00961061151754871, 'lambda_l2': 0.00013617641909792578, 'num_leaves': 10, 'feature_fraction': 0.6711181911753616, 'bagging_fraction': 0.7715229677917316, 'bagging_freq': 4, 'min_child_samples': 39}. Best is trial 4 with value: 0.993006993006993.\n",
      "[I 2020-10-08 13:44:21,000] Trial 97 finished with value: 0.972027972027972 and parameters: {'lambda_l1': 1.435653109609053e-07, 'lambda_l2': 8.522847714035868e-05, 'num_leaves': 77, 'feature_fraction': 0.5337697728577473, 'bagging_fraction': 0.7308934983457339, 'bagging_freq': 1, 'min_child_samples': 100}. Best is trial 4 with value: 0.993006993006993.\n",
      "[I 2020-10-08 13:44:21,178] Trial 98 finished with value: 0.9790209790209791 and parameters: {'lambda_l1': 7.40156578983507e-07, 'lambda_l2': 1.0359813813595386e-05, 'num_leaves': 23, 'feature_fraction': 0.5870907716602015, 'bagging_fraction': 0.8063846930074643, 'bagging_freq': 2, 'min_child_samples': 22}. Best is trial 4 with value: 0.993006993006993.\n",
      "[I 2020-10-08 13:44:21,343] Trial 99 finished with value: 0.965034965034965 and parameters: {'lambda_l1': 0.15381577150991546, 'lambda_l2': 5.623728801502102e-07, 'num_leaves': 40, 'feature_fraction': 0.7476635766703212, 'bagging_fraction': 0.8764705481476086, 'bagging_freq': 3, 'min_child_samples': 27}. Best is trial 4 with value: 0.993006993006993.\n"
     ]
    },
    {
     "name": "stdout",
     "output_type": "stream",
     "text": [
      "Wall time: 13.4 s\n"
     ]
    }
   ],
   "source": [
    "%%time\n",
    "study = optuna.create_study(direction=\"maximize\")\n",
    "study.optimize(objective, n_trials=100)"
   ]
  },
  {
   "cell_type": "code",
   "execution_count": 6,
   "metadata": {},
   "outputs": [
    {
     "name": "stdout",
     "output_type": "stream",
     "text": [
      "Number of finished trials: 100\n",
      "Best trial:\n",
      "  Value: 0.993006993006993\n",
      "  Params: \n",
      "    lambda_l1: 4.3509450228679825e-08\n",
      "    lambda_l2: 0.00014385483603431102\n",
      "    num_leaves: 87\n",
      "    feature_fraction: 0.5742998413613465\n",
      "    bagging_fraction: 0.6616367173720703\n",
      "    bagging_freq: 1\n",
      "    min_child_samples: 55\n"
     ]
    }
   ],
   "source": [
    "print(\"Number of finished trials: {}\".format(len(study.trials)))\n",
    "\n",
    "print(\"Best trial:\")\n",
    "trial = study.best_trial\n",
    "\n",
    "print(\"  Value: {}\".format(trial.value))\n",
    "\n",
    "print(\"  Params: \")\n",
    "for key, value in trial.params.items():\n",
    "    print(\"    {}: {}\".format(key, value))"
   ]
  },
  {
   "cell_type": "markdown",
   "metadata": {},
   "source": [
    "## Evaluation"
   ]
  },
  {
   "cell_type": "code",
   "execution_count": 7,
   "metadata": {},
   "outputs": [],
   "source": [
    "data, target = sklearn.datasets.load_breast_cancer(return_X_y=True)\n",
    "train_x, valid_x, train_y, valid_y = train_test_split(data, target, test_size=0.25)\n",
    "dtrain = lgb.Dataset(train_x, label=train_y)"
   ]
  },
  {
   "cell_type": "code",
   "execution_count": 14,
   "metadata": {},
   "outputs": [],
   "source": [
    "# default parameters\n",
    "param = {\n",
    "        \"objective\": \"binary\",\n",
    "        \"metric\": \"binary_logloss\",\n",
    "        \"verbosity\": -1,\n",
    "        \"boosting_type\": \"gbdt\"\n",
    "}"
   ]
  },
  {
   "cell_type": "code",
   "execution_count": 17,
   "metadata": {},
   "outputs": [
    {
     "name": "stdout",
     "output_type": "stream",
     "text": [
      "0.958041958041958\n"
     ]
    }
   ],
   "source": [
    "gbm = lgb.train(param, dtrain)\n",
    "preds = gbm.predict(valid_x)\n",
    "pred_labels = np.rint(preds)\n",
    "accuracy = sklearn.metrics.accuracy_score(valid_y, pred_labels)\n",
    "print(accuracy)"
   ]
  },
  {
   "cell_type": "code",
   "execution_count": 18,
   "metadata": {},
   "outputs": [],
   "source": [
    "# Optuna最適化パラメーター\n",
    "param = {\n",
    "        \"objective\": \"binary\",\n",
    "        \"metric\": \"binary_logloss\",\n",
    "        \"verbosity\": -1,\n",
    "        \"boosting_type\": \"gbdt\",\n",
    "        \"lambda_l1\": 4.3509450228679825e-08,\n",
    "        \"lambda_l2\": 0.00014385483603431102,\n",
    "        \"num_leaves\": 87,\n",
    "        \"feature_fraction\": 0.5742998413613465,\n",
    "        \"bagging_fraction\": 0.6616367173720703,\n",
    "        \"bagging_freq\": 1,\n",
    "        \"min_child_samples\": 55,\n",
    "}"
   ]
  },
  {
   "cell_type": "code",
   "execution_count": 19,
   "metadata": {},
   "outputs": [
    {
     "name": "stdout",
     "output_type": "stream",
     "text": [
      "0.965034965034965\n"
     ]
    }
   ],
   "source": [
    "gbm = lgb.train(param, dtrain)\n",
    "preds = gbm.predict(valid_x)\n",
    "pred_labels = np.rint(preds)\n",
    "accuracy = sklearn.metrics.accuracy_score(valid_y, pred_labels)\n",
    "print(accuracy)"
   ]
  },
  {
   "cell_type": "code",
   "execution_count": null,
   "metadata": {},
   "outputs": [],
   "source": []
  }
 ],
 "metadata": {
  "kernelspec": {
   "display_name": "Python 3",
   "language": "python",
   "name": "python3"
  },
  "language_info": {
   "codemirror_mode": {
    "name": "ipython",
    "version": 3
   },
   "file_extension": ".py",
   "mimetype": "text/x-python",
   "name": "python",
   "nbconvert_exporter": "python",
   "pygments_lexer": "ipython3",
   "version": "3.7.7"
  }
 },
 "nbformat": 4,
 "nbformat_minor": 4
}
