{
 "cells": [
  {
   "cell_type": "markdown",
   "metadata": {},
   "source": [
    "# Optuna LightGBM Tuner"
   ]
  },
  {
   "cell_type": "markdown",
   "metadata": {},
   "source": [
    "https://www.kaggle.com/c/house-prices-advanced-regression-techniques"
   ]
  },
  {
   "cell_type": "code",
   "execution_count": 1,
   "metadata": {},
   "outputs": [],
   "source": [
    "import numpy as np\n",
    "import pandas as pd\n",
    "from matplotlib import pyplot as plt\n",
    "from sklearn.model_selection import train_test_split\n",
    "from sklearn.preprocessing import LabelEncoder\n",
    "from scipy.stats import mode\n",
    "%matplotlib inline"
   ]
  },
  {
   "cell_type": "code",
   "execution_count": 2,
   "metadata": {},
   "outputs": [],
   "source": [
    "pd.set_option('display.max_columns',90)"
   ]
  },
  {
   "cell_type": "code",
   "execution_count": 3,
   "metadata": {},
   "outputs": [],
   "source": [
    "train = pd.read_csv('./data/train.csv')\n",
    "test = pd.read_csv('./data/test.csv')"
   ]
  },
  {
   "cell_type": "code",
   "execution_count": 4,
   "metadata": {
    "scrolled": false
   },
   "outputs": [
    {
     "data": {
      "text/html": [
       "<div>\n",
       "<style scoped>\n",
       "    .dataframe tbody tr th:only-of-type {\n",
       "        vertical-align: middle;\n",
       "    }\n",
       "\n",
       "    .dataframe tbody tr th {\n",
       "        vertical-align: top;\n",
       "    }\n",
       "\n",
       "    .dataframe thead th {\n",
       "        text-align: right;\n",
       "    }\n",
       "</style>\n",
       "<table border=\"1\" class=\"dataframe\">\n",
       "  <thead>\n",
       "    <tr style=\"text-align: right;\">\n",
       "      <th></th>\n",
       "      <th>Id</th>\n",
       "      <th>MSSubClass</th>\n",
       "      <th>MSZoning</th>\n",
       "      <th>LotFrontage</th>\n",
       "      <th>LotArea</th>\n",
       "      <th>Street</th>\n",
       "      <th>Alley</th>\n",
       "      <th>LotShape</th>\n",
       "      <th>LandContour</th>\n",
       "      <th>Utilities</th>\n",
       "      <th>LotConfig</th>\n",
       "      <th>LandSlope</th>\n",
       "      <th>Neighborhood</th>\n",
       "      <th>Condition1</th>\n",
       "      <th>Condition2</th>\n",
       "      <th>BldgType</th>\n",
       "      <th>HouseStyle</th>\n",
       "      <th>OverallQual</th>\n",
       "      <th>OverallCond</th>\n",
       "      <th>YearBuilt</th>\n",
       "      <th>YearRemodAdd</th>\n",
       "      <th>RoofStyle</th>\n",
       "      <th>RoofMatl</th>\n",
       "      <th>Exterior1st</th>\n",
       "      <th>Exterior2nd</th>\n",
       "      <th>MasVnrType</th>\n",
       "      <th>MasVnrArea</th>\n",
       "      <th>ExterQual</th>\n",
       "      <th>ExterCond</th>\n",
       "      <th>Foundation</th>\n",
       "      <th>BsmtQual</th>\n",
       "      <th>BsmtCond</th>\n",
       "      <th>BsmtExposure</th>\n",
       "      <th>BsmtFinType1</th>\n",
       "      <th>BsmtFinSF1</th>\n",
       "      <th>BsmtFinType2</th>\n",
       "      <th>BsmtFinSF2</th>\n",
       "      <th>BsmtUnfSF</th>\n",
       "      <th>TotalBsmtSF</th>\n",
       "      <th>Heating</th>\n",
       "      <th>HeatingQC</th>\n",
       "      <th>CentralAir</th>\n",
       "      <th>Electrical</th>\n",
       "      <th>1stFlrSF</th>\n",
       "      <th>2ndFlrSF</th>\n",
       "      <th>LowQualFinSF</th>\n",
       "      <th>GrLivArea</th>\n",
       "      <th>BsmtFullBath</th>\n",
       "      <th>BsmtHalfBath</th>\n",
       "      <th>FullBath</th>\n",
       "      <th>HalfBath</th>\n",
       "      <th>BedroomAbvGr</th>\n",
       "      <th>KitchenAbvGr</th>\n",
       "      <th>KitchenQual</th>\n",
       "      <th>TotRmsAbvGrd</th>\n",
       "      <th>Functional</th>\n",
       "      <th>Fireplaces</th>\n",
       "      <th>FireplaceQu</th>\n",
       "      <th>GarageType</th>\n",
       "      <th>GarageYrBlt</th>\n",
       "      <th>GarageFinish</th>\n",
       "      <th>GarageCars</th>\n",
       "      <th>GarageArea</th>\n",
       "      <th>GarageQual</th>\n",
       "      <th>GarageCond</th>\n",
       "      <th>PavedDrive</th>\n",
       "      <th>WoodDeckSF</th>\n",
       "      <th>OpenPorchSF</th>\n",
       "      <th>EnclosedPorch</th>\n",
       "      <th>3SsnPorch</th>\n",
       "      <th>ScreenPorch</th>\n",
       "      <th>PoolArea</th>\n",
       "      <th>PoolQC</th>\n",
       "      <th>Fence</th>\n",
       "      <th>MiscFeature</th>\n",
       "      <th>MiscVal</th>\n",
       "      <th>MoSold</th>\n",
       "      <th>YrSold</th>\n",
       "      <th>SaleType</th>\n",
       "      <th>SaleCondition</th>\n",
       "      <th>SalePrice</th>\n",
       "    </tr>\n",
       "  </thead>\n",
       "  <tbody>\n",
       "    <tr>\n",
       "      <th>0</th>\n",
       "      <td>1</td>\n",
       "      <td>60</td>\n",
       "      <td>RL</td>\n",
       "      <td>65.0</td>\n",
       "      <td>8450</td>\n",
       "      <td>Pave</td>\n",
       "      <td>NaN</td>\n",
       "      <td>Reg</td>\n",
       "      <td>Lvl</td>\n",
       "      <td>AllPub</td>\n",
       "      <td>Inside</td>\n",
       "      <td>Gtl</td>\n",
       "      <td>CollgCr</td>\n",
       "      <td>Norm</td>\n",
       "      <td>Norm</td>\n",
       "      <td>1Fam</td>\n",
       "      <td>2Story</td>\n",
       "      <td>7</td>\n",
       "      <td>5</td>\n",
       "      <td>2003</td>\n",
       "      <td>2003</td>\n",
       "      <td>Gable</td>\n",
       "      <td>CompShg</td>\n",
       "      <td>VinylSd</td>\n",
       "      <td>VinylSd</td>\n",
       "      <td>BrkFace</td>\n",
       "      <td>196.0</td>\n",
       "      <td>Gd</td>\n",
       "      <td>TA</td>\n",
       "      <td>PConc</td>\n",
       "      <td>Gd</td>\n",
       "      <td>TA</td>\n",
       "      <td>No</td>\n",
       "      <td>GLQ</td>\n",
       "      <td>706</td>\n",
       "      <td>Unf</td>\n",
       "      <td>0</td>\n",
       "      <td>150</td>\n",
       "      <td>856</td>\n",
       "      <td>GasA</td>\n",
       "      <td>Ex</td>\n",
       "      <td>Y</td>\n",
       "      <td>SBrkr</td>\n",
       "      <td>856</td>\n",
       "      <td>854</td>\n",
       "      <td>0</td>\n",
       "      <td>1710</td>\n",
       "      <td>1</td>\n",
       "      <td>0</td>\n",
       "      <td>2</td>\n",
       "      <td>1</td>\n",
       "      <td>3</td>\n",
       "      <td>1</td>\n",
       "      <td>Gd</td>\n",
       "      <td>8</td>\n",
       "      <td>Typ</td>\n",
       "      <td>0</td>\n",
       "      <td>NaN</td>\n",
       "      <td>Attchd</td>\n",
       "      <td>2003.0</td>\n",
       "      <td>RFn</td>\n",
       "      <td>2</td>\n",
       "      <td>548</td>\n",
       "      <td>TA</td>\n",
       "      <td>TA</td>\n",
       "      <td>Y</td>\n",
       "      <td>0</td>\n",
       "      <td>61</td>\n",
       "      <td>0</td>\n",
       "      <td>0</td>\n",
       "      <td>0</td>\n",
       "      <td>0</td>\n",
       "      <td>NaN</td>\n",
       "      <td>NaN</td>\n",
       "      <td>NaN</td>\n",
       "      <td>0</td>\n",
       "      <td>2</td>\n",
       "      <td>2008</td>\n",
       "      <td>WD</td>\n",
       "      <td>Normal</td>\n",
       "      <td>208500</td>\n",
       "    </tr>\n",
       "    <tr>\n",
       "      <th>1</th>\n",
       "      <td>2</td>\n",
       "      <td>20</td>\n",
       "      <td>RL</td>\n",
       "      <td>80.0</td>\n",
       "      <td>9600</td>\n",
       "      <td>Pave</td>\n",
       "      <td>NaN</td>\n",
       "      <td>Reg</td>\n",
       "      <td>Lvl</td>\n",
       "      <td>AllPub</td>\n",
       "      <td>FR2</td>\n",
       "      <td>Gtl</td>\n",
       "      <td>Veenker</td>\n",
       "      <td>Feedr</td>\n",
       "      <td>Norm</td>\n",
       "      <td>1Fam</td>\n",
       "      <td>1Story</td>\n",
       "      <td>6</td>\n",
       "      <td>8</td>\n",
       "      <td>1976</td>\n",
       "      <td>1976</td>\n",
       "      <td>Gable</td>\n",
       "      <td>CompShg</td>\n",
       "      <td>MetalSd</td>\n",
       "      <td>MetalSd</td>\n",
       "      <td>None</td>\n",
       "      <td>0.0</td>\n",
       "      <td>TA</td>\n",
       "      <td>TA</td>\n",
       "      <td>CBlock</td>\n",
       "      <td>Gd</td>\n",
       "      <td>TA</td>\n",
       "      <td>Gd</td>\n",
       "      <td>ALQ</td>\n",
       "      <td>978</td>\n",
       "      <td>Unf</td>\n",
       "      <td>0</td>\n",
       "      <td>284</td>\n",
       "      <td>1262</td>\n",
       "      <td>GasA</td>\n",
       "      <td>Ex</td>\n",
       "      <td>Y</td>\n",
       "      <td>SBrkr</td>\n",
       "      <td>1262</td>\n",
       "      <td>0</td>\n",
       "      <td>0</td>\n",
       "      <td>1262</td>\n",
       "      <td>0</td>\n",
       "      <td>1</td>\n",
       "      <td>2</td>\n",
       "      <td>0</td>\n",
       "      <td>3</td>\n",
       "      <td>1</td>\n",
       "      <td>TA</td>\n",
       "      <td>6</td>\n",
       "      <td>Typ</td>\n",
       "      <td>1</td>\n",
       "      <td>TA</td>\n",
       "      <td>Attchd</td>\n",
       "      <td>1976.0</td>\n",
       "      <td>RFn</td>\n",
       "      <td>2</td>\n",
       "      <td>460</td>\n",
       "      <td>TA</td>\n",
       "      <td>TA</td>\n",
       "      <td>Y</td>\n",
       "      <td>298</td>\n",
       "      <td>0</td>\n",
       "      <td>0</td>\n",
       "      <td>0</td>\n",
       "      <td>0</td>\n",
       "      <td>0</td>\n",
       "      <td>NaN</td>\n",
       "      <td>NaN</td>\n",
       "      <td>NaN</td>\n",
       "      <td>0</td>\n",
       "      <td>5</td>\n",
       "      <td>2007</td>\n",
       "      <td>WD</td>\n",
       "      <td>Normal</td>\n",
       "      <td>181500</td>\n",
       "    </tr>\n",
       "    <tr>\n",
       "      <th>2</th>\n",
       "      <td>3</td>\n",
       "      <td>60</td>\n",
       "      <td>RL</td>\n",
       "      <td>68.0</td>\n",
       "      <td>11250</td>\n",
       "      <td>Pave</td>\n",
       "      <td>NaN</td>\n",
       "      <td>IR1</td>\n",
       "      <td>Lvl</td>\n",
       "      <td>AllPub</td>\n",
       "      <td>Inside</td>\n",
       "      <td>Gtl</td>\n",
       "      <td>CollgCr</td>\n",
       "      <td>Norm</td>\n",
       "      <td>Norm</td>\n",
       "      <td>1Fam</td>\n",
       "      <td>2Story</td>\n",
       "      <td>7</td>\n",
       "      <td>5</td>\n",
       "      <td>2001</td>\n",
       "      <td>2002</td>\n",
       "      <td>Gable</td>\n",
       "      <td>CompShg</td>\n",
       "      <td>VinylSd</td>\n",
       "      <td>VinylSd</td>\n",
       "      <td>BrkFace</td>\n",
       "      <td>162.0</td>\n",
       "      <td>Gd</td>\n",
       "      <td>TA</td>\n",
       "      <td>PConc</td>\n",
       "      <td>Gd</td>\n",
       "      <td>TA</td>\n",
       "      <td>Mn</td>\n",
       "      <td>GLQ</td>\n",
       "      <td>486</td>\n",
       "      <td>Unf</td>\n",
       "      <td>0</td>\n",
       "      <td>434</td>\n",
       "      <td>920</td>\n",
       "      <td>GasA</td>\n",
       "      <td>Ex</td>\n",
       "      <td>Y</td>\n",
       "      <td>SBrkr</td>\n",
       "      <td>920</td>\n",
       "      <td>866</td>\n",
       "      <td>0</td>\n",
       "      <td>1786</td>\n",
       "      <td>1</td>\n",
       "      <td>0</td>\n",
       "      <td>2</td>\n",
       "      <td>1</td>\n",
       "      <td>3</td>\n",
       "      <td>1</td>\n",
       "      <td>Gd</td>\n",
       "      <td>6</td>\n",
       "      <td>Typ</td>\n",
       "      <td>1</td>\n",
       "      <td>TA</td>\n",
       "      <td>Attchd</td>\n",
       "      <td>2001.0</td>\n",
       "      <td>RFn</td>\n",
       "      <td>2</td>\n",
       "      <td>608</td>\n",
       "      <td>TA</td>\n",
       "      <td>TA</td>\n",
       "      <td>Y</td>\n",
       "      <td>0</td>\n",
       "      <td>42</td>\n",
       "      <td>0</td>\n",
       "      <td>0</td>\n",
       "      <td>0</td>\n",
       "      <td>0</td>\n",
       "      <td>NaN</td>\n",
       "      <td>NaN</td>\n",
       "      <td>NaN</td>\n",
       "      <td>0</td>\n",
       "      <td>9</td>\n",
       "      <td>2008</td>\n",
       "      <td>WD</td>\n",
       "      <td>Normal</td>\n",
       "      <td>223500</td>\n",
       "    </tr>\n",
       "    <tr>\n",
       "      <th>3</th>\n",
       "      <td>4</td>\n",
       "      <td>70</td>\n",
       "      <td>RL</td>\n",
       "      <td>60.0</td>\n",
       "      <td>9550</td>\n",
       "      <td>Pave</td>\n",
       "      <td>NaN</td>\n",
       "      <td>IR1</td>\n",
       "      <td>Lvl</td>\n",
       "      <td>AllPub</td>\n",
       "      <td>Corner</td>\n",
       "      <td>Gtl</td>\n",
       "      <td>Crawfor</td>\n",
       "      <td>Norm</td>\n",
       "      <td>Norm</td>\n",
       "      <td>1Fam</td>\n",
       "      <td>2Story</td>\n",
       "      <td>7</td>\n",
       "      <td>5</td>\n",
       "      <td>1915</td>\n",
       "      <td>1970</td>\n",
       "      <td>Gable</td>\n",
       "      <td>CompShg</td>\n",
       "      <td>Wd Sdng</td>\n",
       "      <td>Wd Shng</td>\n",
       "      <td>None</td>\n",
       "      <td>0.0</td>\n",
       "      <td>TA</td>\n",
       "      <td>TA</td>\n",
       "      <td>BrkTil</td>\n",
       "      <td>TA</td>\n",
       "      <td>Gd</td>\n",
       "      <td>No</td>\n",
       "      <td>ALQ</td>\n",
       "      <td>216</td>\n",
       "      <td>Unf</td>\n",
       "      <td>0</td>\n",
       "      <td>540</td>\n",
       "      <td>756</td>\n",
       "      <td>GasA</td>\n",
       "      <td>Gd</td>\n",
       "      <td>Y</td>\n",
       "      <td>SBrkr</td>\n",
       "      <td>961</td>\n",
       "      <td>756</td>\n",
       "      <td>0</td>\n",
       "      <td>1717</td>\n",
       "      <td>1</td>\n",
       "      <td>0</td>\n",
       "      <td>1</td>\n",
       "      <td>0</td>\n",
       "      <td>3</td>\n",
       "      <td>1</td>\n",
       "      <td>Gd</td>\n",
       "      <td>7</td>\n",
       "      <td>Typ</td>\n",
       "      <td>1</td>\n",
       "      <td>Gd</td>\n",
       "      <td>Detchd</td>\n",
       "      <td>1998.0</td>\n",
       "      <td>Unf</td>\n",
       "      <td>3</td>\n",
       "      <td>642</td>\n",
       "      <td>TA</td>\n",
       "      <td>TA</td>\n",
       "      <td>Y</td>\n",
       "      <td>0</td>\n",
       "      <td>35</td>\n",
       "      <td>272</td>\n",
       "      <td>0</td>\n",
       "      <td>0</td>\n",
       "      <td>0</td>\n",
       "      <td>NaN</td>\n",
       "      <td>NaN</td>\n",
       "      <td>NaN</td>\n",
       "      <td>0</td>\n",
       "      <td>2</td>\n",
       "      <td>2006</td>\n",
       "      <td>WD</td>\n",
       "      <td>Abnorml</td>\n",
       "      <td>140000</td>\n",
       "    </tr>\n",
       "    <tr>\n",
       "      <th>4</th>\n",
       "      <td>5</td>\n",
       "      <td>60</td>\n",
       "      <td>RL</td>\n",
       "      <td>84.0</td>\n",
       "      <td>14260</td>\n",
       "      <td>Pave</td>\n",
       "      <td>NaN</td>\n",
       "      <td>IR1</td>\n",
       "      <td>Lvl</td>\n",
       "      <td>AllPub</td>\n",
       "      <td>FR2</td>\n",
       "      <td>Gtl</td>\n",
       "      <td>NoRidge</td>\n",
       "      <td>Norm</td>\n",
       "      <td>Norm</td>\n",
       "      <td>1Fam</td>\n",
       "      <td>2Story</td>\n",
       "      <td>8</td>\n",
       "      <td>5</td>\n",
       "      <td>2000</td>\n",
       "      <td>2000</td>\n",
       "      <td>Gable</td>\n",
       "      <td>CompShg</td>\n",
       "      <td>VinylSd</td>\n",
       "      <td>VinylSd</td>\n",
       "      <td>BrkFace</td>\n",
       "      <td>350.0</td>\n",
       "      <td>Gd</td>\n",
       "      <td>TA</td>\n",
       "      <td>PConc</td>\n",
       "      <td>Gd</td>\n",
       "      <td>TA</td>\n",
       "      <td>Av</td>\n",
       "      <td>GLQ</td>\n",
       "      <td>655</td>\n",
       "      <td>Unf</td>\n",
       "      <td>0</td>\n",
       "      <td>490</td>\n",
       "      <td>1145</td>\n",
       "      <td>GasA</td>\n",
       "      <td>Ex</td>\n",
       "      <td>Y</td>\n",
       "      <td>SBrkr</td>\n",
       "      <td>1145</td>\n",
       "      <td>1053</td>\n",
       "      <td>0</td>\n",
       "      <td>2198</td>\n",
       "      <td>1</td>\n",
       "      <td>0</td>\n",
       "      <td>2</td>\n",
       "      <td>1</td>\n",
       "      <td>4</td>\n",
       "      <td>1</td>\n",
       "      <td>Gd</td>\n",
       "      <td>9</td>\n",
       "      <td>Typ</td>\n",
       "      <td>1</td>\n",
       "      <td>TA</td>\n",
       "      <td>Attchd</td>\n",
       "      <td>2000.0</td>\n",
       "      <td>RFn</td>\n",
       "      <td>3</td>\n",
       "      <td>836</td>\n",
       "      <td>TA</td>\n",
       "      <td>TA</td>\n",
       "      <td>Y</td>\n",
       "      <td>192</td>\n",
       "      <td>84</td>\n",
       "      <td>0</td>\n",
       "      <td>0</td>\n",
       "      <td>0</td>\n",
       "      <td>0</td>\n",
       "      <td>NaN</td>\n",
       "      <td>NaN</td>\n",
       "      <td>NaN</td>\n",
       "      <td>0</td>\n",
       "      <td>12</td>\n",
       "      <td>2008</td>\n",
       "      <td>WD</td>\n",
       "      <td>Normal</td>\n",
       "      <td>250000</td>\n",
       "    </tr>\n",
       "  </tbody>\n",
       "</table>\n",
       "</div>"
      ],
      "text/plain": [
       "   Id  MSSubClass MSZoning  LotFrontage  LotArea Street Alley LotShape  \\\n",
       "0   1          60       RL         65.0     8450   Pave   NaN      Reg   \n",
       "1   2          20       RL         80.0     9600   Pave   NaN      Reg   \n",
       "2   3          60       RL         68.0    11250   Pave   NaN      IR1   \n",
       "3   4          70       RL         60.0     9550   Pave   NaN      IR1   \n",
       "4   5          60       RL         84.0    14260   Pave   NaN      IR1   \n",
       "\n",
       "  LandContour Utilities LotConfig LandSlope Neighborhood Condition1  \\\n",
       "0         Lvl    AllPub    Inside       Gtl      CollgCr       Norm   \n",
       "1         Lvl    AllPub       FR2       Gtl      Veenker      Feedr   \n",
       "2         Lvl    AllPub    Inside       Gtl      CollgCr       Norm   \n",
       "3         Lvl    AllPub    Corner       Gtl      Crawfor       Norm   \n",
       "4         Lvl    AllPub       FR2       Gtl      NoRidge       Norm   \n",
       "\n",
       "  Condition2 BldgType HouseStyle  OverallQual  OverallCond  YearBuilt  \\\n",
       "0       Norm     1Fam     2Story            7            5       2003   \n",
       "1       Norm     1Fam     1Story            6            8       1976   \n",
       "2       Norm     1Fam     2Story            7            5       2001   \n",
       "3       Norm     1Fam     2Story            7            5       1915   \n",
       "4       Norm     1Fam     2Story            8            5       2000   \n",
       "\n",
       "   YearRemodAdd RoofStyle RoofMatl Exterior1st Exterior2nd MasVnrType  \\\n",
       "0          2003     Gable  CompShg     VinylSd     VinylSd    BrkFace   \n",
       "1          1976     Gable  CompShg     MetalSd     MetalSd       None   \n",
       "2          2002     Gable  CompShg     VinylSd     VinylSd    BrkFace   \n",
       "3          1970     Gable  CompShg     Wd Sdng     Wd Shng       None   \n",
       "4          2000     Gable  CompShg     VinylSd     VinylSd    BrkFace   \n",
       "\n",
       "   MasVnrArea ExterQual ExterCond Foundation BsmtQual BsmtCond BsmtExposure  \\\n",
       "0       196.0        Gd        TA      PConc       Gd       TA           No   \n",
       "1         0.0        TA        TA     CBlock       Gd       TA           Gd   \n",
       "2       162.0        Gd        TA      PConc       Gd       TA           Mn   \n",
       "3         0.0        TA        TA     BrkTil       TA       Gd           No   \n",
       "4       350.0        Gd        TA      PConc       Gd       TA           Av   \n",
       "\n",
       "  BsmtFinType1  BsmtFinSF1 BsmtFinType2  BsmtFinSF2  BsmtUnfSF  TotalBsmtSF  \\\n",
       "0          GLQ         706          Unf           0        150          856   \n",
       "1          ALQ         978          Unf           0        284         1262   \n",
       "2          GLQ         486          Unf           0        434          920   \n",
       "3          ALQ         216          Unf           0        540          756   \n",
       "4          GLQ         655          Unf           0        490         1145   \n",
       "\n",
       "  Heating HeatingQC CentralAir Electrical  1stFlrSF  2ndFlrSF  LowQualFinSF  \\\n",
       "0    GasA        Ex          Y      SBrkr       856       854             0   \n",
       "1    GasA        Ex          Y      SBrkr      1262         0             0   \n",
       "2    GasA        Ex          Y      SBrkr       920       866             0   \n",
       "3    GasA        Gd          Y      SBrkr       961       756             0   \n",
       "4    GasA        Ex          Y      SBrkr      1145      1053             0   \n",
       "\n",
       "   GrLivArea  BsmtFullBath  BsmtHalfBath  FullBath  HalfBath  BedroomAbvGr  \\\n",
       "0       1710             1             0         2         1             3   \n",
       "1       1262             0             1         2         0             3   \n",
       "2       1786             1             0         2         1             3   \n",
       "3       1717             1             0         1         0             3   \n",
       "4       2198             1             0         2         1             4   \n",
       "\n",
       "   KitchenAbvGr KitchenQual  TotRmsAbvGrd Functional  Fireplaces FireplaceQu  \\\n",
       "0             1          Gd             8        Typ           0         NaN   \n",
       "1             1          TA             6        Typ           1          TA   \n",
       "2             1          Gd             6        Typ           1          TA   \n",
       "3             1          Gd             7        Typ           1          Gd   \n",
       "4             1          Gd             9        Typ           1          TA   \n",
       "\n",
       "  GarageType  GarageYrBlt GarageFinish  GarageCars  GarageArea GarageQual  \\\n",
       "0     Attchd       2003.0          RFn           2         548         TA   \n",
       "1     Attchd       1976.0          RFn           2         460         TA   \n",
       "2     Attchd       2001.0          RFn           2         608         TA   \n",
       "3     Detchd       1998.0          Unf           3         642         TA   \n",
       "4     Attchd       2000.0          RFn           3         836         TA   \n",
       "\n",
       "  GarageCond PavedDrive  WoodDeckSF  OpenPorchSF  EnclosedPorch  3SsnPorch  \\\n",
       "0         TA          Y           0           61              0          0   \n",
       "1         TA          Y         298            0              0          0   \n",
       "2         TA          Y           0           42              0          0   \n",
       "3         TA          Y           0           35            272          0   \n",
       "4         TA          Y         192           84              0          0   \n",
       "\n",
       "   ScreenPorch  PoolArea PoolQC Fence MiscFeature  MiscVal  MoSold  YrSold  \\\n",
       "0            0         0    NaN   NaN         NaN        0       2    2008   \n",
       "1            0         0    NaN   NaN         NaN        0       5    2007   \n",
       "2            0         0    NaN   NaN         NaN        0       9    2008   \n",
       "3            0         0    NaN   NaN         NaN        0       2    2006   \n",
       "4            0         0    NaN   NaN         NaN        0      12    2008   \n",
       "\n",
       "  SaleType SaleCondition  SalePrice  \n",
       "0       WD        Normal     208500  \n",
       "1       WD        Normal     181500  \n",
       "2       WD        Normal     223500  \n",
       "3       WD       Abnorml     140000  \n",
       "4       WD        Normal     250000  "
      ]
     },
     "execution_count": 4,
     "metadata": {},
     "output_type": "execute_result"
    }
   ],
   "source": [
    "train.head()"
   ]
  },
  {
   "cell_type": "code",
   "execution_count": 5,
   "metadata": {},
   "outputs": [
    {
     "data": {
      "text/plain": [
       "(1460, 81)"
      ]
     },
     "execution_count": 5,
     "metadata": {},
     "output_type": "execute_result"
    }
   ],
   "source": [
    "train.shape"
   ]
  },
  {
   "cell_type": "code",
   "execution_count": 6,
   "metadata": {},
   "outputs": [
    {
     "name": "stdout",
     "output_type": "stream",
     "text": [
      "<class 'pandas.core.frame.DataFrame'>\n",
      "RangeIndex: 1460 entries, 0 to 1459\n",
      "Data columns (total 81 columns):\n",
      " #   Column         Non-Null Count  Dtype  \n",
      "---  ------         --------------  -----  \n",
      " 0   Id             1460 non-null   int64  \n",
      " 1   MSSubClass     1460 non-null   int64  \n",
      " 2   MSZoning       1460 non-null   object \n",
      " 3   LotFrontage    1201 non-null   float64\n",
      " 4   LotArea        1460 non-null   int64  \n",
      " 5   Street         1460 non-null   object \n",
      " 6   Alley          91 non-null     object \n",
      " 7   LotShape       1460 non-null   object \n",
      " 8   LandContour    1460 non-null   object \n",
      " 9   Utilities      1460 non-null   object \n",
      " 10  LotConfig      1460 non-null   object \n",
      " 11  LandSlope      1460 non-null   object \n",
      " 12  Neighborhood   1460 non-null   object \n",
      " 13  Condition1     1460 non-null   object \n",
      " 14  Condition2     1460 non-null   object \n",
      " 15  BldgType       1460 non-null   object \n",
      " 16  HouseStyle     1460 non-null   object \n",
      " 17  OverallQual    1460 non-null   int64  \n",
      " 18  OverallCond    1460 non-null   int64  \n",
      " 19  YearBuilt      1460 non-null   int64  \n",
      " 20  YearRemodAdd   1460 non-null   int64  \n",
      " 21  RoofStyle      1460 non-null   object \n",
      " 22  RoofMatl       1460 non-null   object \n",
      " 23  Exterior1st    1460 non-null   object \n",
      " 24  Exterior2nd    1460 non-null   object \n",
      " 25  MasVnrType     1452 non-null   object \n",
      " 26  MasVnrArea     1452 non-null   float64\n",
      " 27  ExterQual      1460 non-null   object \n",
      " 28  ExterCond      1460 non-null   object \n",
      " 29  Foundation     1460 non-null   object \n",
      " 30  BsmtQual       1423 non-null   object \n",
      " 31  BsmtCond       1423 non-null   object \n",
      " 32  BsmtExposure   1422 non-null   object \n",
      " 33  BsmtFinType1   1423 non-null   object \n",
      " 34  BsmtFinSF1     1460 non-null   int64  \n",
      " 35  BsmtFinType2   1422 non-null   object \n",
      " 36  BsmtFinSF2     1460 non-null   int64  \n",
      " 37  BsmtUnfSF      1460 non-null   int64  \n",
      " 38  TotalBsmtSF    1460 non-null   int64  \n",
      " 39  Heating        1460 non-null   object \n",
      " 40  HeatingQC      1460 non-null   object \n",
      " 41  CentralAir     1460 non-null   object \n",
      " 42  Electrical     1459 non-null   object \n",
      " 43  1stFlrSF       1460 non-null   int64  \n",
      " 44  2ndFlrSF       1460 non-null   int64  \n",
      " 45  LowQualFinSF   1460 non-null   int64  \n",
      " 46  GrLivArea      1460 non-null   int64  \n",
      " 47  BsmtFullBath   1460 non-null   int64  \n",
      " 48  BsmtHalfBath   1460 non-null   int64  \n",
      " 49  FullBath       1460 non-null   int64  \n",
      " 50  HalfBath       1460 non-null   int64  \n",
      " 51  BedroomAbvGr   1460 non-null   int64  \n",
      " 52  KitchenAbvGr   1460 non-null   int64  \n",
      " 53  KitchenQual    1460 non-null   object \n",
      " 54  TotRmsAbvGrd   1460 non-null   int64  \n",
      " 55  Functional     1460 non-null   object \n",
      " 56  Fireplaces     1460 non-null   int64  \n",
      " 57  FireplaceQu    770 non-null    object \n",
      " 58  GarageType     1379 non-null   object \n",
      " 59  GarageYrBlt    1379 non-null   float64\n",
      " 60  GarageFinish   1379 non-null   object \n",
      " 61  GarageCars     1460 non-null   int64  \n",
      " 62  GarageArea     1460 non-null   int64  \n",
      " 63  GarageQual     1379 non-null   object \n",
      " 64  GarageCond     1379 non-null   object \n",
      " 65  PavedDrive     1460 non-null   object \n",
      " 66  WoodDeckSF     1460 non-null   int64  \n",
      " 67  OpenPorchSF    1460 non-null   int64  \n",
      " 68  EnclosedPorch  1460 non-null   int64  \n",
      " 69  3SsnPorch      1460 non-null   int64  \n",
      " 70  ScreenPorch    1460 non-null   int64  \n",
      " 71  PoolArea       1460 non-null   int64  \n",
      " 72  PoolQC         7 non-null      object \n",
      " 73  Fence          281 non-null    object \n",
      " 74  MiscFeature    54 non-null     object \n",
      " 75  MiscVal        1460 non-null   int64  \n",
      " 76  MoSold         1460 non-null   int64  \n",
      " 77  YrSold         1460 non-null   int64  \n",
      " 78  SaleType       1460 non-null   object \n",
      " 79  SaleCondition  1460 non-null   object \n",
      " 80  SalePrice      1460 non-null   int64  \n",
      "dtypes: float64(3), int64(35), object(43)\n",
      "memory usage: 924.0+ KB\n"
     ]
    }
   ],
   "source": [
    "train.info()"
   ]
  },
  {
   "cell_type": "code",
   "execution_count": 7,
   "metadata": {},
   "outputs": [],
   "source": [
    "# drop columns\n",
    "drop_columns=['Alley','PoolQC','Fence','MiscFeature','Id','PoolArea']\n",
    "train.drop(drop_columns,axis=1,inplace=True)\n",
    "test.drop(drop_columns,axis=1,inplace=True)"
   ]
  },
  {
   "cell_type": "code",
   "execution_count": 8,
   "metadata": {},
   "outputs": [],
   "source": [
    "# area features fill nan\n",
    "area_list = ['LotFrontage','LotArea','MasVnrArea','BsmtFinSF1','BsmtFinSF2',\n",
    "             'BsmtUnfSF','TotalBsmtSF','1stFlrSF','2ndFlrSF','LowQualFinSF','GrLivArea',\n",
    "             'GarageArea','WoodDeckSF','OpenPorchSF','EnclosedPorch','3SsnPorch',\n",
    "             'ScreenPorch']\n",
    "for i in area_list:\n",
    "    train[i].fillna(train[i].mean(),inplace=True)\n",
    "    test[i].fillna(train[i].mean(),inplace=True)"
   ]
  },
  {
   "cell_type": "code",
   "execution_count": 9,
   "metadata": {},
   "outputs": [],
   "source": [
    "# fill nan\n",
    "for i in train.columns:\n",
    "    train[i] = train[i].fillna(mode(train[i])[0][0])\n",
    "for i in test.columns:\n",
    "    test[i] = test[i].fillna(mode(test[i])[0][0])"
   ]
  },
  {
   "cell_type": "code",
   "execution_count": 10,
   "metadata": {},
   "outputs": [],
   "source": [
    "# take out categorical data\n",
    "onehot_list = []\n",
    "for i in train.columns:\n",
    "    if type(train[i][0]) == str:\n",
    "        onehot_list.append(i)"
   ]
  },
  {
   "cell_type": "code",
   "execution_count": 11,
   "metadata": {},
   "outputs": [],
   "source": [
    "# add age data\n",
    "train['age']=train['YrSold']-train['YearBuilt']\n",
    "test['age']=test['YrSold']-test['YearBuilt']\n",
    "train['garage_age']=train['YrSold']-train['GarageYrBlt']\n",
    "test['garage_age']=test['YrSold']-test['GarageYrBlt']\n",
    "train['age2']=train['YrSold']-train['YearRemodAdd']\n",
    "test['age2']=test['YrSold']-test['YearRemodAdd']"
   ]
  },
  {
   "cell_type": "code",
   "execution_count": 12,
   "metadata": {},
   "outputs": [],
   "source": [
    "# label-encoding\n",
    "for i in onehot_list:\n",
    "    l = LabelEncoder().fit(train[i])\n",
    "    train[i] = l.transform(train[i])\n",
    "    test[i] = l.transform(test[i])"
   ]
  },
  {
   "cell_type": "code",
   "execution_count": 13,
   "metadata": {},
   "outputs": [],
   "source": [
    "# # train_test_splits\n",
    "# data_x = train.drop('SalePrice',axis=1)\n",
    "# data_y = train['SalePrice']\n",
    "# x_train,x_test,y_train,y_test = train_test_split(data_x,data_y,test_size=0.2,random_state=0)"
   ]
  },
  {
   "cell_type": "code",
   "execution_count": 14,
   "metadata": {},
   "outputs": [],
   "source": [
    "X_train = train.drop([ 'SalePrice'], axis=1)\n",
    "y_train = np.log1p(train['SalePrice'])"
   ]
  },
  {
   "cell_type": "markdown",
   "metadata": {},
   "source": [
    "# create model (lightgbm)"
   ]
  },
  {
   "cell_type": "code",
   "execution_count": 15,
   "metadata": {},
   "outputs": [],
   "source": [
    "import optuna.integration.lightgbm as lgb\n",
    "#import lightgbm as lgb"
   ]
  },
  {
   "cell_type": "code",
   "execution_count": 16,
   "metadata": {},
   "outputs": [],
   "source": [
    "# Original\n",
    "# model = lgb.LGBMRegressor(n_estimators=669,subsample=0.8,max_depth=6,\n",
    "#                                feature_fraction=0.7,\n",
    "#                                 min_child_samples=14,num_leaves=31)"
   ]
  },
  {
   "cell_type": "code",
   "execution_count": 17,
   "metadata": {},
   "outputs": [],
   "source": [
    "# model.fit(x_train,y_train,categorical_feature=onehot_list,eval_set=(x_test,y_test),eval_metric=['rmse'])"
   ]
  },
  {
   "cell_type": "code",
   "execution_count": 18,
   "metadata": {},
   "outputs": [],
   "source": [
    "from sklearn import preprocessing\n",
    "from sklearn.model_selection import KFold\n",
    "from sklearn.metrics import mean_squared_error"
   ]
  },
  {
   "cell_type": "code",
   "execution_count": 19,
   "metadata": {},
   "outputs": [
    {
     "name": "stderr",
     "output_type": "stream",
     "text": [
      "[I 2020-10-23 12:50:00,531] A new study created in memory with name: no-name-b7e3bb89-08ab-47ee-b909-899a37e4f29a\n",
      "feature_fraction, val_score: inf:   0%|                                                          | 0/7 [00:00<?, ?it/s]"
     ]
    },
    {
     "name": "stdout",
     "output_type": "stream",
     "text": [
      "Training until validation scores don't improve for 10 rounds\n",
      "[10]\ttraining's rmse: 0.195668\tvalid_1's rmse: 0.19553\n",
      "[20]\ttraining's rmse: 0.123163\tvalid_1's rmse: 0.145791\n",
      "[30]\ttraining's rmse: 0.095103\tvalid_1's rmse: 0.136455\n",
      "[40]\ttraining's rmse: 0.0814201\tvalid_1's rmse: 0.134257\n",
      "[50]\ttraining's rmse: 0.0720096\tvalid_1's rmse: 0.132441\n",
      "[60]\ttraining's rmse: 0.0650175\tvalid_1's rmse: 0.13067\n",
      "[70]\ttraining's rmse: 0.0593402\tvalid_1's rmse: 0.130286\n",
      "Early stopping, best iteration is:\n",
      "[65]\ttraining's rmse: 0.0620271\tvalid_1's rmse: 0.130124\n"
     ]
    },
    {
     "name": "stderr",
     "output_type": "stream",
     "text": [
      "feature_fraction, val_score: 0.130124:  14%|######4                                      | 1/7 [00:00<00:00,  7.19it/s][I 2020-10-23 12:50:00,678] Trial 0 finished with value: 0.13012363876875513 and parameters: {'feature_fraction': 0.4}. Best is trial 0 with value: 0.13012363876875513.\n",
      "feature_fraction, val_score: 0.130124:  14%|######4                                      | 1/7 [00:00<00:00,  7.19it/s]"
     ]
    },
    {
     "name": "stdout",
     "output_type": "stream",
     "text": [
      "Training until validation scores don't improve for 10 rounds\n",
      "[10]\ttraining's rmse: 0.188402\tvalid_1's rmse: 0.191118\n",
      "[20]\ttraining's rmse: 0.115976\tvalid_1's rmse: 0.145607\n",
      "[30]\ttraining's rmse: 0.0891932\tvalid_1's rmse: 0.138168\n",
      "[40]\ttraining's rmse: 0.0754537\tvalid_1's rmse: 0.13845\n",
      "Early stopping, best iteration is:\n",
      "[33]\ttraining's rmse: 0.0841447\tvalid_1's rmse: 0.13748\n"
     ]
    },
    {
     "name": "stderr",
     "output_type": "stream",
     "text": [
      "feature_fraction, val_score: 0.130124:  14%|######4                                      | 1/7 [00:00<00:00,  7.19it/s][I 2020-10-23 12:50:00,775] Trial 1 finished with value: 0.13747989881261505 and parameters: {'feature_fraction': 0.8999999999999999}. Best is trial 0 with value: 0.13012363876875513.\n",
      "feature_fraction, val_score: 0.130124:  29%|############8                                | 2/7 [00:00<00:00,  7.19it/s]"
     ]
    },
    {
     "name": "stdout",
     "output_type": "stream",
     "text": [
      "Training until validation scores don't improve for 10 rounds\n",
      "[10]\ttraining's rmse: 0.190613\tvalid_1's rmse: 0.193074\n",
      "[20]\ttraining's rmse: 0.11765\tvalid_1's rmse: 0.148018\n",
      "[30]\ttraining's rmse: 0.0913657\tvalid_1's rmse: 0.140011\n",
      "[40]\ttraining's rmse: 0.0786349\tvalid_1's rmse: 0.138941\n",
      "[50]\ttraining's rmse: 0.0696998\tvalid_1's rmse: 0.138613\n",
      "[60]\ttraining's rmse: 0.0628257\tvalid_1's rmse: 0.138264\n",
      "[70]\ttraining's rmse: 0.0571993\tvalid_1's rmse: 0.137807\n",
      "[80]\ttraining's rmse: 0.0527159\tvalid_1's rmse: 0.137298\n",
      "[90]\ttraining's rmse: 0.0485324\tvalid_1's rmse: 0.136864\n",
      "[100]\ttraining's rmse: 0.0445789\tvalid_1's rmse: 0.136661\n",
      "[110]\ttraining's rmse: 0.0412773\tvalid_1's rmse: 0.136371\n",
      "[120]\ttraining's rmse: 0.0385\tvalid_1's rmse: 0.136256\n",
      "[130]\ttraining's rmse: 0.0359964\tvalid_1's rmse: 0.135736\n",
      "[140]\ttraining's rmse: 0.0337108\tvalid_1's rmse: 0.135776\n",
      "Early stopping, best iteration is:\n",
      "[135]\ttraining's rmse: 0.0347779\tvalid_1's rmse: 0.135643\n"
     ]
    },
    {
     "name": "stderr",
     "output_type": "stream",
     "text": [
      "feature_fraction, val_score: 0.130124:  43%|###################2                         | 3/7 [00:00<00:00,  6.60it/s][I 2020-10-23 12:50:01,038] Trial 2 finished with value: 0.13564313972774678 and parameters: {'feature_fraction': 0.6}. Best is trial 0 with value: 0.13012363876875513.\n",
      "feature_fraction, val_score: 0.130124:  43%|###################2                         | 3/7 [00:00<00:00,  6.60it/s]"
     ]
    },
    {
     "name": "stdout",
     "output_type": "stream",
     "text": [
      "Training until validation scores don't improve for 10 rounds\n",
      "[10]\ttraining's rmse: 0.188741\tvalid_1's rmse: 0.190424\n",
      "[20]\ttraining's rmse: 0.116335\tvalid_1's rmse: 0.143585\n",
      "[30]\ttraining's rmse: 0.0896603\tvalid_1's rmse: 0.1367\n",
      "[40]\ttraining's rmse: 0.076018\tvalid_1's rmse: 0.135954\n",
      "[50]\ttraining's rmse: 0.0672368\tvalid_1's rmse: 0.136078\n",
      "Early stopping, best iteration is:\n",
      "[42]\ttraining's rmse: 0.0740294\tvalid_1's rmse: 0.135639\n"
     ]
    },
    {
     "name": "stderr",
     "output_type": "stream",
     "text": [
      "feature_fraction, val_score: 0.130124:  57%|#########################7                   | 4/7 [00:00<00:00,  7.12it/s][I 2020-10-23 12:50:01,154] Trial 3 finished with value: 0.13563858893735872 and parameters: {'feature_fraction': 0.8}. Best is trial 0 with value: 0.13012363876875513.\n",
      "feature_fraction, val_score: 0.130124:  57%|#########################7                   | 4/7 [00:00<00:00,  7.12it/s]"
     ]
    },
    {
     "name": "stdout",
     "output_type": "stream",
     "text": [
      "Training until validation scores don't improve for 10 rounds\n",
      "[10]\ttraining's rmse: 0.192589\tvalid_1's rmse: 0.192574\n",
      "[20]\ttraining's rmse: 0.119471\tvalid_1's rmse: 0.143394\n",
      "[30]\ttraining's rmse: 0.093096\tvalid_1's rmse: 0.13653\n",
      "[40]\ttraining's rmse: 0.079762\tvalid_1's rmse: 0.135743\n",
      "[50]\ttraining's rmse: 0.0715165\tvalid_1's rmse: 0.136164\n",
      "Early stopping, best iteration is:\n",
      "[40]\ttraining's rmse: 0.079762\tvalid_1's rmse: 0.135743\n"
     ]
    },
    {
     "name": "stderr",
     "output_type": "stream",
     "text": [
      "feature_fraction, val_score: 0.130124:  71%|################################1            | 5/7 [00:00<00:00,  7.49it/s][I 2020-10-23 12:50:01,271] Trial 4 finished with value: 0.13574339662362817 and parameters: {'feature_fraction': 0.5}. Best is trial 0 with value: 0.13012363876875513.\n",
      "feature_fraction, val_score: 0.130124:  71%|################################1            | 5/7 [00:00<00:00,  7.49it/s]"
     ]
    },
    {
     "name": "stdout",
     "output_type": "stream",
     "text": [
      "Training until validation scores don't improve for 10 rounds\n",
      "[10]\ttraining's rmse: 0.189228\tvalid_1's rmse: 0.192561\n",
      "[20]\ttraining's rmse: 0.117148\tvalid_1's rmse: 0.14668\n",
      "[30]\ttraining's rmse: 0.0911373\tvalid_1's rmse: 0.13945\n",
      "[40]\ttraining's rmse: 0.0780227\tvalid_1's rmse: 0.137574\n",
      "[50]\ttraining's rmse: 0.0693261\tvalid_1's rmse: 0.136534\n",
      "[60]\ttraining's rmse: 0.0626483\tvalid_1's rmse: 0.136796\n",
      "Early stopping, best iteration is:\n",
      "[50]\ttraining's rmse: 0.0693261\tvalid_1's rmse: 0.136534\n"
     ]
    },
    {
     "name": "stderr",
     "output_type": "stream",
     "text": [
      "feature_fraction, val_score: 0.130124:  86%|######################################5      | 6/7 [00:00<00:00,  7.47it/s][I 2020-10-23 12:50:01,406] Trial 5 finished with value: 0.13653421202742327 and parameters: {'feature_fraction': 0.7}. Best is trial 0 with value: 0.13012363876875513.\n",
      "feature_fraction, val_score: 0.130124:  86%|######################################5      | 6/7 [00:00<00:00,  7.47it/s]"
     ]
    },
    {
     "name": "stdout",
     "output_type": "stream",
     "text": [
      "Training until validation scores don't improve for 10 rounds\n",
      "[10]\ttraining's rmse: 0.188353\tvalid_1's rmse: 0.19249\n",
      "[20]\ttraining's rmse: 0.116032\tvalid_1's rmse: 0.147004\n",
      "[30]\ttraining's rmse: 0.0889829\tvalid_1's rmse: 0.138596\n",
      "[40]\ttraining's rmse: 0.0753857\tvalid_1's rmse: 0.137353\n",
      "[50]\ttraining's rmse: 0.0670351\tvalid_1's rmse: 0.136546\n",
      "[60]\ttraining's rmse: 0.0604898\tvalid_1's rmse: 0.135993\n",
      "[70]\ttraining's rmse: 0.0547685\tvalid_1's rmse: 0.135823\n",
      "[80]\ttraining's rmse: 0.0498468\tvalid_1's rmse: 0.134688\n",
      "[90]\ttraining's rmse: 0.0456554\tvalid_1's rmse: 0.134384\n",
      "[100]\ttraining's rmse: 0.0422242\tvalid_1's rmse: 0.134035\n",
      "[110]\ttraining's rmse: 0.0389487\tvalid_1's rmse: 0.133686\n",
      "[120]\ttraining's rmse: 0.0363182\tvalid_1's rmse: 0.133767\n",
      "[130]\ttraining's rmse: 0.0339415\tvalid_1's rmse: 0.133484\n",
      "[140]\ttraining's rmse: 0.0318722\tvalid_1's rmse: 0.133277\n",
      "[150]\ttraining's rmse: 0.0298877\tvalid_1's rmse: 0.133198\n",
      "[160]\ttraining's rmse: 0.0280479\tvalid_1's rmse: 0.132931\n",
      "[170]\ttraining's rmse: 0.0264859\tvalid_1's rmse: 0.132743\n",
      "[180]\ttraining's rmse: 0.0250906\tvalid_1's rmse: 0.132486\n",
      "[190]\ttraining's rmse: 0.0237747\tvalid_1's rmse: 0.132394\n",
      "[200]\ttraining's rmse: 0.0225947\tvalid_1's rmse: 0.132236\n",
      "[210]\ttraining's rmse: 0.0215145\tvalid_1's rmse: 0.132097\n",
      "[220]\ttraining's rmse: 0.0205017\tvalid_1's rmse: 0.132022\n",
      "[230]\ttraining's rmse: 0.0196314\tvalid_1's rmse: 0.131834\n",
      "[240]\ttraining's rmse: 0.0188399\tvalid_1's rmse: 0.131733\n",
      "[250]\ttraining's rmse: 0.0180512\tvalid_1's rmse: 0.13158\n",
      "[260]\ttraining's rmse: 0.0173623\tvalid_1's rmse: 0.131489\n",
      "[270]\ttraining's rmse: 0.0166777\tvalid_1's rmse: 0.131384\n",
      "[280]\ttraining's rmse: 0.0160219\tvalid_1's rmse: 0.131222\n",
      "[290]\ttraining's rmse: 0.0154559\tvalid_1's rmse: 0.131125\n",
      "[300]\ttraining's rmse: 0.0149069\tvalid_1's rmse: 0.131066\n",
      "[310]\ttraining's rmse: 0.0143547\tvalid_1's rmse: 0.130923\n",
      "[320]\ttraining's rmse: 0.0138439\tvalid_1's rmse: 0.130816\n",
      "[330]\ttraining's rmse: 0.0133433\tvalid_1's rmse: 0.130774\n",
      "[340]\ttraining's rmse: 0.0129044\tvalid_1's rmse: 0.1307\n",
      "[350]\ttraining's rmse: 0.0124619\tvalid_1's rmse: 0.130591\n",
      "[360]\ttraining's rmse: 0.012075\tvalid_1's rmse: 0.13045\n",
      "[370]\ttraining's rmse: 0.0116993\tvalid_1's rmse: 0.130348\n",
      "[380]\ttraining's rmse: 0.0113422\tvalid_1's rmse: 0.130279\n",
      "[390]\ttraining's rmse: 0.010985\tvalid_1's rmse: 0.130168\n",
      "[400]\ttraining's rmse: 0.0106612\tvalid_1's rmse: 0.130102\n",
      "[410]\ttraining's rmse: 0.010302\tvalid_1's rmse: 0.130004\n",
      "[420]\ttraining's rmse: 0.0100094\tvalid_1's rmse: 0.129949\n",
      "[430]\ttraining's rmse: 0.00969648\tvalid_1's rmse: 0.129856\n",
      "[440]\ttraining's rmse: 0.00941725\tvalid_1's rmse: 0.129785\n",
      "[450]\ttraining's rmse: 0.00913016\tvalid_1's rmse: 0.129683\n",
      "[460]\ttraining's rmse: 0.00885739\tvalid_1's rmse: 0.129603\n",
      "[470]\ttraining's rmse: 0.00861108\tvalid_1's rmse: 0.129538\n",
      "[480]\ttraining's rmse: 0.00836624\tvalid_1's rmse: 0.129465\n",
      "[490]\ttraining's rmse: 0.00811378\tvalid_1's rmse: 0.129368\n",
      "[500]\ttraining's rmse: 0.0078784\tvalid_1's rmse: 0.129297\n",
      "[510]\ttraining's rmse: 0.00763008\tvalid_1's rmse: 0.129237\n",
      "[520]\ttraining's rmse: 0.00743553\tvalid_1's rmse: 0.129176\n",
      "[530]\ttraining's rmse: 0.00719305\tvalid_1's rmse: 0.129097\n",
      "[540]\ttraining's rmse: 0.00696829\tvalid_1's rmse: 0.129057\n",
      "[550]\ttraining's rmse: 0.00680531\tvalid_1's rmse: 0.129003\n",
      "[560]\ttraining's rmse: 0.00663631\tvalid_1's rmse: 0.128946\n",
      "[570]\ttraining's rmse: 0.00644759\tvalid_1's rmse: 0.128937\n",
      "[580]\ttraining's rmse: 0.00625742\tvalid_1's rmse: 0.128885\n",
      "[590]\ttraining's rmse: 0.00609614\tvalid_1's rmse: 0.128846\n",
      "[600]\ttraining's rmse: 0.00592632\tvalid_1's rmse: 0.128803\n",
      "[610]\ttraining's rmse: 0.00576888\tvalid_1's rmse: 0.128762\n",
      "[620]\ttraining's rmse: 0.00562423\tvalid_1's rmse: 0.128712\n",
      "[630]\ttraining's rmse: 0.00547293\tvalid_1's rmse: 0.128681\n",
      "[640]\ttraining's rmse: 0.00533337\tvalid_1's rmse: 0.128647\n",
      "[650]\ttraining's rmse: 0.00521044\tvalid_1's rmse: 0.128625\n",
      "[660]\ttraining's rmse: 0.00505602\tvalid_1's rmse: 0.128573\n",
      "[670]\ttraining's rmse: 0.00491553\tvalid_1's rmse: 0.128541\n",
      "[680]\ttraining's rmse: 0.00479846\tvalid_1's rmse: 0.12851\n",
      "[690]\ttraining's rmse: 0.00467639\tvalid_1's rmse: 0.128477\n",
      "[700]\ttraining's rmse: 0.00457096\tvalid_1's rmse: 0.128454\n",
      "[710]\ttraining's rmse: 0.00445325\tvalid_1's rmse: 0.128423\n",
      "[720]\ttraining's rmse: 0.00434697\tvalid_1's rmse: 0.128389\n",
      "[730]\ttraining's rmse: 0.00423914\tvalid_1's rmse: 0.128372\n",
      "[740]\ttraining's rmse: 0.00413961\tvalid_1's rmse: 0.128339\n",
      "[750]\ttraining's rmse: 0.00404099\tvalid_1's rmse: 0.128305\n",
      "[760]\ttraining's rmse: 0.00395874\tvalid_1's rmse: 0.128282\n",
      "[770]\ttraining's rmse: 0.00385444\tvalid_1's rmse: 0.128255\n",
      "[780]\ttraining's rmse: 0.00375704\tvalid_1's rmse: 0.128227\n",
      "[790]\ttraining's rmse: 0.00366238\tvalid_1's rmse: 0.128198\n",
      "[800]\ttraining's rmse: 0.00358749\tvalid_1's rmse: 0.128172\n",
      "[810]\ttraining's rmse: 0.00352309\tvalid_1's rmse: 0.128162\n",
      "[820]\ttraining's rmse: 0.00341797\tvalid_1's rmse: 0.128129\n",
      "[830]\ttraining's rmse: 0.0033409\tvalid_1's rmse: 0.128118\n",
      "[840]\ttraining's rmse: 0.00325805\tvalid_1's rmse: 0.128096\n",
      "[850]\ttraining's rmse: 0.0031788\tvalid_1's rmse: 0.128078\n",
      "[860]\ttraining's rmse: 0.0030888\tvalid_1's rmse: 0.128062\n",
      "[870]\ttraining's rmse: 0.00299844\tvalid_1's rmse: 0.128039\n",
      "[880]\ttraining's rmse: 0.00291558\tvalid_1's rmse: 0.128027\n",
      "[890]\ttraining's rmse: 0.00284887\tvalid_1's rmse: 0.128002\n",
      "[900]\ttraining's rmse: 0.00278395\tvalid_1's rmse: 0.127992\n",
      "[910]\ttraining's rmse: 0.00272879\tvalid_1's rmse: 0.127978\n",
      "[920]\ttraining's rmse: 0.00263104\tvalid_1's rmse: 0.127943\n",
      "[930]\ttraining's rmse: 0.00256811\tvalid_1's rmse: 0.12793\n",
      "[940]\ttraining's rmse: 0.0025168\tvalid_1's rmse: 0.127929\n",
      "[950]\ttraining's rmse: 0.00246435\tvalid_1's rmse: 0.127909\n",
      "[960]\ttraining's rmse: 0.00238574\tvalid_1's rmse: 0.127893\n",
      "[970]\ttraining's rmse: 0.00231891\tvalid_1's rmse: 0.127883\n",
      "[980]\ttraining's rmse: 0.00226509\tvalid_1's rmse: 0.127867\n",
      "[990]\ttraining's rmse: 0.00220775\tvalid_1's rmse: 0.12786\n",
      "[1000]\ttraining's rmse: 0.00215031\tvalid_1's rmse: 0.127853\n",
      "Did not meet early stopping. Best iteration is:\n",
      "[1000]\ttraining's rmse: 0.00215031\tvalid_1's rmse: 0.127853\n"
     ]
    },
    {
     "name": "stderr",
     "output_type": "stream",
     "text": [
      "feature_fraction, val_score: 0.127853: 100%|#############################################| 7/7 [00:02<00:00,  1.59it/s][I 2020-10-23 12:50:03,192] Trial 6 finished with value: 0.1278529139511811 and parameters: {'feature_fraction': 1.0}. Best is trial 6 with value: 0.1278529139511811.\n",
      "feature_fraction, val_score: 0.127853: 100%|#############################################| 7/7 [00:02<00:00,  2.63it/s]\n",
      "num_leaves, val_score: 0.127853:   0%|                                                          | 0/20 [00:00<?, ?it/s]"
     ]
    },
    {
     "name": "stdout",
     "output_type": "stream",
     "text": [
      "Training until validation scores don't improve for 10 rounds\n",
      "[10]\ttraining's rmse: 0.184362\tvalid_1's rmse: 0.189927\n",
      "[20]\ttraining's rmse: 0.110805\tvalid_1's rmse: 0.14531\n",
      "[30]\ttraining's rmse: 0.0840409\tvalid_1's rmse: 0.138621\n",
      "[40]\ttraining's rmse: 0.0705214\tvalid_1's rmse: 0.137144\n",
      "[50]\ttraining's rmse: 0.0618198\tvalid_1's rmse: 0.136186\n",
      "[60]\ttraining's rmse: 0.0551053\tvalid_1's rmse: 0.136044\n",
      "[70]\ttraining's rmse: 0.0498244\tvalid_1's rmse: 0.135584\n",
      "[80]\ttraining's rmse: 0.0451248\tvalid_1's rmse: 0.134966\n",
      "[90]\ttraining's rmse: 0.041251\tvalid_1's rmse: 0.134641\n",
      "[100]\ttraining's rmse: 0.0381693\tvalid_1's rmse: 0.134175\n",
      "[110]\ttraining's rmse: 0.0354996\tvalid_1's rmse: 0.133821\n",
      "[120]\ttraining's rmse: 0.0330515\tvalid_1's rmse: 0.133563\n",
      "[130]\ttraining's rmse: 0.0310352\tvalid_1's rmse: 0.133224\n",
      "[140]\ttraining's rmse: 0.0289493\tvalid_1's rmse: 0.132945\n",
      "[150]\ttraining's rmse: 0.0272524\tvalid_1's rmse: 0.132751\n",
      "[160]\ttraining's rmse: 0.0257506\tvalid_1's rmse: 0.132544\n",
      "[170]\ttraining's rmse: 0.0243414\tvalid_1's rmse: 0.13229\n",
      "[180]\ttraining's rmse: 0.0230822\tvalid_1's rmse: 0.132072\n",
      "[190]\ttraining's rmse: 0.0217804\tvalid_1's rmse: 0.131813\n",
      "[200]\ttraining's rmse: 0.0207709\tvalid_1's rmse: 0.131632\n",
      "[210]\ttraining's rmse: 0.0198286\tvalid_1's rmse: 0.13142\n",
      "[220]\ttraining's rmse: 0.0190145\tvalid_1's rmse: 0.13119\n",
      "[230]\ttraining's rmse: 0.0181916\tvalid_1's rmse: 0.131056\n",
      "[240]\ttraining's rmse: 0.0174056\tvalid_1's rmse: 0.130925\n",
      "[250]\ttraining's rmse: 0.0166835\tvalid_1's rmse: 0.13079\n",
      "[260]\ttraining's rmse: 0.0160376\tvalid_1's rmse: 0.130572\n",
      "[270]\ttraining's rmse: 0.0153429\tvalid_1's rmse: 0.130413\n",
      "[280]\ttraining's rmse: 0.0148055\tvalid_1's rmse: 0.130346\n",
      "[290]\ttraining's rmse: 0.014264\tvalid_1's rmse: 0.130226\n",
      "[300]\ttraining's rmse: 0.0137986\tvalid_1's rmse: 0.130097\n",
      "[310]\ttraining's rmse: 0.0132919\tvalid_1's rmse: 0.130088\n",
      "[320]\ttraining's rmse: 0.0127788\tvalid_1's rmse: 0.129963\n",
      "[330]\ttraining's rmse: 0.012337\tvalid_1's rmse: 0.129874\n",
      "[340]\ttraining's rmse: 0.0118934\tvalid_1's rmse: 0.129772\n",
      "[350]\ttraining's rmse: 0.0115127\tvalid_1's rmse: 0.12972\n",
      "[360]\ttraining's rmse: 0.0111389\tvalid_1's rmse: 0.129662\n",
      "[370]\ttraining's rmse: 0.0107519\tvalid_1's rmse: 0.129597\n",
      "[380]\ttraining's rmse: 0.0104032\tvalid_1's rmse: 0.129519\n",
      "[390]\ttraining's rmse: 0.0100853\tvalid_1's rmse: 0.129494\n",
      "[400]\ttraining's rmse: 0.00977917\tvalid_1's rmse: 0.129432\n",
      "[410]\ttraining's rmse: 0.00948939\tvalid_1's rmse: 0.129396\n",
      "[420]\ttraining's rmse: 0.00921821\tvalid_1's rmse: 0.129346\n",
      "[430]\ttraining's rmse: 0.00887587\tvalid_1's rmse: 0.129277\n",
      "[440]\ttraining's rmse: 0.00862456\tvalid_1's rmse: 0.129214\n",
      "[450]\ttraining's rmse: 0.00836868\tvalid_1's rmse: 0.129148\n",
      "[460]\ttraining's rmse: 0.00810523\tvalid_1's rmse: 0.129119\n",
      "[470]\ttraining's rmse: 0.00786211\tvalid_1's rmse: 0.129038\n",
      "[480]\ttraining's rmse: 0.0076445\tvalid_1's rmse: 0.128998\n",
      "[490]\ttraining's rmse: 0.00741095\tvalid_1's rmse: 0.128943\n",
      "[500]\ttraining's rmse: 0.00719153\tvalid_1's rmse: 0.128878\n",
      "[510]\ttraining's rmse: 0.00696982\tvalid_1's rmse: 0.128835\n",
      "[520]\ttraining's rmse: 0.00678245\tvalid_1's rmse: 0.128795\n",
      "[530]\ttraining's rmse: 0.00659194\tvalid_1's rmse: 0.128727\n",
      "[540]\ttraining's rmse: 0.00642729\tvalid_1's rmse: 0.12869\n",
      "[550]\ttraining's rmse: 0.00624528\tvalid_1's rmse: 0.128641\n",
      "[560]\ttraining's rmse: 0.00605872\tvalid_1's rmse: 0.128606\n",
      "[570]\ttraining's rmse: 0.00588289\tvalid_1's rmse: 0.128577\n",
      "[580]\ttraining's rmse: 0.00573515\tvalid_1's rmse: 0.128559\n",
      "[590]\ttraining's rmse: 0.00556272\tvalid_1's rmse: 0.128516\n",
      "[600]\ttraining's rmse: 0.00543375\tvalid_1's rmse: 0.128484\n",
      "[610]\ttraining's rmse: 0.00525923\tvalid_1's rmse: 0.128437\n",
      "[620]\ttraining's rmse: 0.00513652\tvalid_1's rmse: 0.128406\n",
      "[630]\ttraining's rmse: 0.00499041\tvalid_1's rmse: 0.128374\n",
      "[640]\ttraining's rmse: 0.00487293\tvalid_1's rmse: 0.12836\n",
      "[650]\ttraining's rmse: 0.00473631\tvalid_1's rmse: 0.12832\n",
      "[660]\ttraining's rmse: 0.00460394\tvalid_1's rmse: 0.128312\n",
      "[670]\ttraining's rmse: 0.00447605\tvalid_1's rmse: 0.128269\n",
      "[680]\ttraining's rmse: 0.00436175\tvalid_1's rmse: 0.128251\n",
      "[690]\ttraining's rmse: 0.00422399\tvalid_1's rmse: 0.128207\n",
      "[700]\ttraining's rmse: 0.00413213\tvalid_1's rmse: 0.128198\n",
      "[710]\ttraining's rmse: 0.00402125\tvalid_1's rmse: 0.128156\n",
      "[720]\ttraining's rmse: 0.00392609\tvalid_1's rmse: 0.128131\n",
      "[730]\ttraining's rmse: 0.00382678\tvalid_1's rmse: 0.12811\n",
      "[740]\ttraining's rmse: 0.00372196\tvalid_1's rmse: 0.128088\n",
      "[750]\ttraining's rmse: 0.00364246\tvalid_1's rmse: 0.128073\n",
      "[760]\ttraining's rmse: 0.00353094\tvalid_1's rmse: 0.128045\n",
      "[770]\ttraining's rmse: 0.00344505\tvalid_1's rmse: 0.128019\n",
      "[780]\ttraining's rmse: 0.00337231\tvalid_1's rmse: 0.127999\n",
      "[790]\ttraining's rmse: 0.00328589\tvalid_1's rmse: 0.127983\n",
      "[800]\ttraining's rmse: 0.00321339\tvalid_1's rmse: 0.127963\n",
      "[810]\ttraining's rmse: 0.00314603\tvalid_1's rmse: 0.127942\n",
      "[820]\ttraining's rmse: 0.0030713\tvalid_1's rmse: 0.127922\n",
      "[830]\ttraining's rmse: 0.00298713\tvalid_1's rmse: 0.127894\n",
      "[840]\ttraining's rmse: 0.00292209\tvalid_1's rmse: 0.127879\n",
      "[850]\ttraining's rmse: 0.00285246\tvalid_1's rmse: 0.127867\n",
      "[860]\ttraining's rmse: 0.00277398\tvalid_1's rmse: 0.127841\n",
      "[870]\ttraining's rmse: 0.00271081\tvalid_1's rmse: 0.127825\n",
      "[880]\ttraining's rmse: 0.00265876\tvalid_1's rmse: 0.127812\n",
      "[890]\ttraining's rmse: 0.00257598\tvalid_1's rmse: 0.127796\n",
      "[900]\ttraining's rmse: 0.00251033\tvalid_1's rmse: 0.127782\n",
      "[910]\ttraining's rmse: 0.00244747\tvalid_1's rmse: 0.127768\n",
      "[920]\ttraining's rmse: 0.0023726\tvalid_1's rmse: 0.127744\n",
      "[930]\ttraining's rmse: 0.00231222\tvalid_1's rmse: 0.127734\n",
      "[940]\ttraining's rmse: 0.00226024\tvalid_1's rmse: 0.127719\n",
      "[950]\ttraining's rmse: 0.00219223\tvalid_1's rmse: 0.127704\n",
      "[960]\ttraining's rmse: 0.00215051\tvalid_1's rmse: 0.127691\n",
      "[970]\ttraining's rmse: 0.00209004\tvalid_1's rmse: 0.127678\n",
      "[980]\ttraining's rmse: 0.00203924\tvalid_1's rmse: 0.127668\n",
      "[990]\ttraining's rmse: 0.00199731\tvalid_1's rmse: 0.127649\n",
      "[1000]\ttraining's rmse: 0.0019402\tvalid_1's rmse: 0.12764\n",
      "Did not meet early stopping. Best iteration is:\n",
      "[1000]\ttraining's rmse: 0.0019402\tvalid_1's rmse: 0.12764\n"
     ]
    },
    {
     "name": "stderr",
     "output_type": "stream",
     "text": [
      "num_leaves, val_score: 0.127640:   5%|##5                                               | 1/20 [00:02<00:44,  2.37s/it][I 2020-10-23 12:50:05,567] Trial 7 finished with value: 0.12764043729973376 and parameters: {'num_leaves': 143}. Best is trial 7 with value: 0.12764043729973376.\n",
      "num_leaves, val_score: 0.127640:   5%|##5                                               | 1/20 [00:02<00:44,  2.37s/it]"
     ]
    },
    {
     "name": "stdout",
     "output_type": "stream",
     "text": [
      "Training until validation scores don't improve for 10 rounds\n",
      "[10]\ttraining's rmse: 0.184362\tvalid_1's rmse: 0.189927\n",
      "[20]\ttraining's rmse: 0.110805\tvalid_1's rmse: 0.14531\n",
      "[30]\ttraining's rmse: 0.0840409\tvalid_1's rmse: 0.138621\n",
      "[40]\ttraining's rmse: 0.0705214\tvalid_1's rmse: 0.137144\n",
      "[50]\ttraining's rmse: 0.0618198\tvalid_1's rmse: 0.136186\n",
      "[60]\ttraining's rmse: 0.0551053\tvalid_1's rmse: 0.136044\n",
      "[70]\ttraining's rmse: 0.0498244\tvalid_1's rmse: 0.135584\n",
      "[80]\ttraining's rmse: 0.0451248\tvalid_1's rmse: 0.134966\n",
      "[90]\ttraining's rmse: 0.041251\tvalid_1's rmse: 0.134641\n",
      "[100]\ttraining's rmse: 0.0381693\tvalid_1's rmse: 0.134175\n",
      "[110]\ttraining's rmse: 0.0354996\tvalid_1's rmse: 0.133821\n",
      "[120]\ttraining's rmse: 0.0330515\tvalid_1's rmse: 0.133563\n",
      "[130]\ttraining's rmse: 0.0310352\tvalid_1's rmse: 0.133224\n",
      "[140]\ttraining's rmse: 0.0289493\tvalid_1's rmse: 0.132945\n",
      "[150]\ttraining's rmse: 0.0272524\tvalid_1's rmse: 0.132751\n",
      "[160]\ttraining's rmse: 0.0257506\tvalid_1's rmse: 0.132544\n",
      "[170]\ttraining's rmse: 0.0243414\tvalid_1's rmse: 0.13229\n",
      "[180]\ttraining's rmse: 0.0230822\tvalid_1's rmse: 0.132072\n",
      "[190]\ttraining's rmse: 0.0217804\tvalid_1's rmse: 0.131813\n",
      "[200]\ttraining's rmse: 0.0207709\tvalid_1's rmse: 0.131632\n",
      "[210]\ttraining's rmse: 0.0198286\tvalid_1's rmse: 0.13142\n",
      "[220]\ttraining's rmse: 0.0190145\tvalid_1's rmse: 0.13119\n",
      "[230]\ttraining's rmse: 0.0181916\tvalid_1's rmse: 0.131056\n",
      "[240]\ttraining's rmse: 0.0174056\tvalid_1's rmse: 0.130925\n",
      "[250]\ttraining's rmse: 0.0166835\tvalid_1's rmse: 0.13079\n",
      "[260]\ttraining's rmse: 0.0160376\tvalid_1's rmse: 0.130572\n",
      "[270]\ttraining's rmse: 0.0153429\tvalid_1's rmse: 0.130413\n",
      "[280]\ttraining's rmse: 0.0148055\tvalid_1's rmse: 0.130346\n",
      "[290]\ttraining's rmse: 0.014264\tvalid_1's rmse: 0.130226\n",
      "[300]\ttraining's rmse: 0.0137986\tvalid_1's rmse: 0.130097\n",
      "[310]\ttraining's rmse: 0.0132919\tvalid_1's rmse: 0.130088\n",
      "[320]\ttraining's rmse: 0.0127788\tvalid_1's rmse: 0.129963\n",
      "[330]\ttraining's rmse: 0.012337\tvalid_1's rmse: 0.129874\n",
      "[340]\ttraining's rmse: 0.0118934\tvalid_1's rmse: 0.129772\n",
      "[350]\ttraining's rmse: 0.0115127\tvalid_1's rmse: 0.12972\n",
      "[360]\ttraining's rmse: 0.0111389\tvalid_1's rmse: 0.129662\n",
      "[370]\ttraining's rmse: 0.0107519\tvalid_1's rmse: 0.129597\n",
      "[380]\ttraining's rmse: 0.0104032\tvalid_1's rmse: 0.129519\n",
      "[390]\ttraining's rmse: 0.0100853\tvalid_1's rmse: 0.129494\n",
      "[400]\ttraining's rmse: 0.00977917\tvalid_1's rmse: 0.129432\n",
      "[410]\ttraining's rmse: 0.00948939\tvalid_1's rmse: 0.129396\n",
      "[420]\ttraining's rmse: 0.00921821\tvalid_1's rmse: 0.129346\n",
      "[430]\ttraining's rmse: 0.00887587\tvalid_1's rmse: 0.129277\n",
      "[440]\ttraining's rmse: 0.00862456\tvalid_1's rmse: 0.129214\n",
      "[450]\ttraining's rmse: 0.00836868\tvalid_1's rmse: 0.129148\n",
      "[460]\ttraining's rmse: 0.00810523\tvalid_1's rmse: 0.129119\n",
      "[470]\ttraining's rmse: 0.00786211\tvalid_1's rmse: 0.129038\n",
      "[480]\ttraining's rmse: 0.0076445\tvalid_1's rmse: 0.128998\n",
      "[490]\ttraining's rmse: 0.00741095\tvalid_1's rmse: 0.128943\n",
      "[500]\ttraining's rmse: 0.00719153\tvalid_1's rmse: 0.128878\n",
      "[510]\ttraining's rmse: 0.00696982\tvalid_1's rmse: 0.128835\n",
      "[520]\ttraining's rmse: 0.00678245\tvalid_1's rmse: 0.128795\n",
      "[530]\ttraining's rmse: 0.00659194\tvalid_1's rmse: 0.128727\n",
      "[540]\ttraining's rmse: 0.00642729\tvalid_1's rmse: 0.12869\n",
      "[550]\ttraining's rmse: 0.00624528\tvalid_1's rmse: 0.128641\n",
      "[560]\ttraining's rmse: 0.00605872\tvalid_1's rmse: 0.128606\n",
      "[570]\ttraining's rmse: 0.00588289\tvalid_1's rmse: 0.128577\n",
      "[580]\ttraining's rmse: 0.00573515\tvalid_1's rmse: 0.128559\n",
      "[590]\ttraining's rmse: 0.00556272\tvalid_1's rmse: 0.128516\n",
      "[600]\ttraining's rmse: 0.00543375\tvalid_1's rmse: 0.128484\n",
      "[610]\ttraining's rmse: 0.00525923\tvalid_1's rmse: 0.128437\n",
      "[620]\ttraining's rmse: 0.00513652\tvalid_1's rmse: 0.128406\n",
      "[630]\ttraining's rmse: 0.00499041\tvalid_1's rmse: 0.128374\n",
      "[640]\ttraining's rmse: 0.00487293\tvalid_1's rmse: 0.12836\n",
      "[650]\ttraining's rmse: 0.00473631\tvalid_1's rmse: 0.12832\n",
      "[660]\ttraining's rmse: 0.00460394\tvalid_1's rmse: 0.128312\n",
      "[670]\ttraining's rmse: 0.00447605\tvalid_1's rmse: 0.128269\n",
      "[680]\ttraining's rmse: 0.00436175\tvalid_1's rmse: 0.128251\n",
      "[690]\ttraining's rmse: 0.00422399\tvalid_1's rmse: 0.128207\n",
      "[700]\ttraining's rmse: 0.00413213\tvalid_1's rmse: 0.128198\n",
      "[710]\ttraining's rmse: 0.00402125\tvalid_1's rmse: 0.128156\n",
      "[720]\ttraining's rmse: 0.00392609\tvalid_1's rmse: 0.128131\n",
      "[730]\ttraining's rmse: 0.00382678\tvalid_1's rmse: 0.12811\n",
      "[740]\ttraining's rmse: 0.00372196\tvalid_1's rmse: 0.128088\n",
      "[750]\ttraining's rmse: 0.00364246\tvalid_1's rmse: 0.128073\n",
      "[760]\ttraining's rmse: 0.00353094\tvalid_1's rmse: 0.128045\n",
      "[770]\ttraining's rmse: 0.00344505\tvalid_1's rmse: 0.128019\n",
      "[780]\ttraining's rmse: 0.00337231\tvalid_1's rmse: 0.127999\n",
      "[790]\ttraining's rmse: 0.00328589\tvalid_1's rmse: 0.127983\n",
      "[800]\ttraining's rmse: 0.00321339\tvalid_1's rmse: 0.127963\n",
      "[810]\ttraining's rmse: 0.00314603\tvalid_1's rmse: 0.127942\n",
      "[820]\ttraining's rmse: 0.0030713\tvalid_1's rmse: 0.127922\n",
      "[830]\ttraining's rmse: 0.00298713\tvalid_1's rmse: 0.127894\n",
      "[840]\ttraining's rmse: 0.00292209\tvalid_1's rmse: 0.127879\n",
      "[850]\ttraining's rmse: 0.00285246\tvalid_1's rmse: 0.127867\n",
      "[860]\ttraining's rmse: 0.00277398\tvalid_1's rmse: 0.127841\n",
      "[870]\ttraining's rmse: 0.00271081\tvalid_1's rmse: 0.127825\n",
      "[880]\ttraining's rmse: 0.00265876\tvalid_1's rmse: 0.127812\n",
      "[890]\ttraining's rmse: 0.00257598\tvalid_1's rmse: 0.127796\n",
      "[900]\ttraining's rmse: 0.00251033\tvalid_1's rmse: 0.127782\n",
      "[910]\ttraining's rmse: 0.00244747\tvalid_1's rmse: 0.127768\n",
      "[920]\ttraining's rmse: 0.0023726\tvalid_1's rmse: 0.127744\n",
      "[930]\ttraining's rmse: 0.00231222\tvalid_1's rmse: 0.127734\n",
      "[940]\ttraining's rmse: 0.00226024\tvalid_1's rmse: 0.127719\n",
      "[950]\ttraining's rmse: 0.00219223\tvalid_1's rmse: 0.127704\n",
      "[960]\ttraining's rmse: 0.00215051\tvalid_1's rmse: 0.127691\n",
      "[970]\ttraining's rmse: 0.00209004\tvalid_1's rmse: 0.127678\n",
      "[980]\ttraining's rmse: 0.00203924\tvalid_1's rmse: 0.127668\n",
      "[990]\ttraining's rmse: 0.00199731\tvalid_1's rmse: 0.127649\n",
      "[1000]\ttraining's rmse: 0.0019402\tvalid_1's rmse: 0.12764\n",
      "Did not meet early stopping. Best iteration is:\n",
      "[1000]\ttraining's rmse: 0.0019402\tvalid_1's rmse: 0.12764\n"
     ]
    },
    {
     "name": "stderr",
     "output_type": "stream",
     "text": [
      "num_leaves, val_score: 0.127640:  10%|#####                                             | 2/20 [00:04<00:41,  2.30s/it][I 2020-10-23 12:50:07,712] Trial 8 finished with value: 0.12764043729973376 and parameters: {'num_leaves': 224}. Best is trial 7 with value: 0.12764043729973376.\n",
      "num_leaves, val_score: 0.127640:  10%|#####                                             | 2/20 [00:04<00:41,  2.30s/it]"
     ]
    },
    {
     "name": "stdout",
     "output_type": "stream",
     "text": [
      "Training until validation scores don't improve for 10 rounds\n",
      "[10]\ttraining's rmse: 0.204422\tvalid_1's rmse: 0.199102\n",
      "[20]\ttraining's rmse: 0.133018\tvalid_1's rmse: 0.149823\n",
      "[30]\ttraining's rmse: 0.106059\tvalid_1's rmse: 0.142387\n",
      "[40]\ttraining's rmse: 0.0931874\tvalid_1's rmse: 0.141542\n",
      "[50]\ttraining's rmse: 0.0849261\tvalid_1's rmse: 0.14147\n",
      "[60]\ttraining's rmse: 0.0784422\tvalid_1's rmse: 0.140541\n",
      "[70]\ttraining's rmse: 0.0735283\tvalid_1's rmse: 0.139669\n",
      "[80]\ttraining's rmse: 0.069553\tvalid_1's rmse: 0.13896\n",
      "[90]\ttraining's rmse: 0.0662833\tvalid_1's rmse: 0.138389\n",
      "[100]\ttraining's rmse: 0.0632501\tvalid_1's rmse: 0.137605\n",
      "[110]\ttraining's rmse: 0.0603814\tvalid_1's rmse: 0.137006\n",
      "[120]\ttraining's rmse: 0.0573552\tvalid_1's rmse: 0.136078\n",
      "[130]\ttraining's rmse: 0.0549828\tvalid_1's rmse: 0.13581\n",
      "Early stopping, best iteration is:\n",
      "[128]\ttraining's rmse: 0.0554586\tvalid_1's rmse: 0.135664\n"
     ]
    },
    {
     "name": "stderr",
     "output_type": "stream",
     "text": [
      "num_leaves, val_score: 0.127640:  15%|#######5                                          | 3/20 [00:04<00:28,  1.65s/it][I 2020-10-23 12:50:07,848] Trial 9 finished with value: 0.13566405645325375 and parameters: {'num_leaves': 14}. Best is trial 7 with value: 0.12764043729973376.\n",
      "num_leaves, val_score: 0.127640:  15%|#######5                                          | 3/20 [00:04<00:28,  1.65s/it]"
     ]
    },
    {
     "name": "stdout",
     "output_type": "stream",
     "text": [
      "Training until validation scores don't improve for 10 rounds\n",
      "[10]\ttraining's rmse: 0.184362\tvalid_1's rmse: 0.189927\n",
      "[20]\ttraining's rmse: 0.110805\tvalid_1's rmse: 0.14531\n",
      "[30]\ttraining's rmse: 0.0840409\tvalid_1's rmse: 0.138621\n",
      "[40]\ttraining's rmse: 0.0705214\tvalid_1's rmse: 0.137144\n",
      "[50]\ttraining's rmse: 0.0618198\tvalid_1's rmse: 0.136186\n",
      "[60]\ttraining's rmse: 0.0551053\tvalid_1's rmse: 0.136044\n",
      "[70]\ttraining's rmse: 0.0498244\tvalid_1's rmse: 0.135584\n",
      "[80]\ttraining's rmse: 0.0451248\tvalid_1's rmse: 0.134966\n",
      "[90]\ttraining's rmse: 0.041251\tvalid_1's rmse: 0.134641\n",
      "[100]\ttraining's rmse: 0.0381693\tvalid_1's rmse: 0.134175\n",
      "[110]\ttraining's rmse: 0.0354996\tvalid_1's rmse: 0.133821\n",
      "[120]\ttraining's rmse: 0.0330515\tvalid_1's rmse: 0.133563\n",
      "[130]\ttraining's rmse: 0.0310352\tvalid_1's rmse: 0.133224\n",
      "[140]\ttraining's rmse: 0.0289493\tvalid_1's rmse: 0.132945\n",
      "[150]\ttraining's rmse: 0.0272524\tvalid_1's rmse: 0.132751\n",
      "[160]\ttraining's rmse: 0.0257506\tvalid_1's rmse: 0.132544\n",
      "[170]\ttraining's rmse: 0.0243414\tvalid_1's rmse: 0.13229\n",
      "[180]\ttraining's rmse: 0.0230822\tvalid_1's rmse: 0.132072\n",
      "[190]\ttraining's rmse: 0.0217804\tvalid_1's rmse: 0.131813\n",
      "[200]\ttraining's rmse: 0.0207709\tvalid_1's rmse: 0.131632\n",
      "[210]\ttraining's rmse: 0.0198286\tvalid_1's rmse: 0.13142\n",
      "[220]\ttraining's rmse: 0.0190145\tvalid_1's rmse: 0.13119\n",
      "[230]\ttraining's rmse: 0.0181916\tvalid_1's rmse: 0.131056\n",
      "[240]\ttraining's rmse: 0.0174056\tvalid_1's rmse: 0.130925\n",
      "[250]\ttraining's rmse: 0.0166835\tvalid_1's rmse: 0.13079\n",
      "[260]\ttraining's rmse: 0.0160376\tvalid_1's rmse: 0.130572\n",
      "[270]\ttraining's rmse: 0.0153429\tvalid_1's rmse: 0.130413\n",
      "[280]\ttraining's rmse: 0.0148055\tvalid_1's rmse: 0.130346\n",
      "[290]\ttraining's rmse: 0.014264\tvalid_1's rmse: 0.130226\n",
      "[300]\ttraining's rmse: 0.0137986\tvalid_1's rmse: 0.130097\n",
      "[310]\ttraining's rmse: 0.0132919\tvalid_1's rmse: 0.130088\n",
      "[320]\ttraining's rmse: 0.0127788\tvalid_1's rmse: 0.129963\n",
      "[330]\ttraining's rmse: 0.012337\tvalid_1's rmse: 0.129874\n",
      "[340]\ttraining's rmse: 0.0118934\tvalid_1's rmse: 0.129772\n",
      "[350]\ttraining's rmse: 0.0115127\tvalid_1's rmse: 0.12972\n",
      "[360]\ttraining's rmse: 0.0111389\tvalid_1's rmse: 0.129662\n",
      "[370]\ttraining's rmse: 0.0107519\tvalid_1's rmse: 0.129597\n",
      "[380]\ttraining's rmse: 0.0104032\tvalid_1's rmse: 0.129519\n",
      "[390]\ttraining's rmse: 0.0100853\tvalid_1's rmse: 0.129494\n",
      "[400]\ttraining's rmse: 0.00977917\tvalid_1's rmse: 0.129432\n",
      "[410]\ttraining's rmse: 0.00948939\tvalid_1's rmse: 0.129396\n",
      "[420]\ttraining's rmse: 0.00921821\tvalid_1's rmse: 0.129346\n",
      "[430]\ttraining's rmse: 0.00887587\tvalid_1's rmse: 0.129277\n",
      "[440]\ttraining's rmse: 0.00862456\tvalid_1's rmse: 0.129214\n",
      "[450]\ttraining's rmse: 0.00836868\tvalid_1's rmse: 0.129148\n",
      "[460]\ttraining's rmse: 0.00810523\tvalid_1's rmse: 0.129119\n",
      "[470]\ttraining's rmse: 0.00786211\tvalid_1's rmse: 0.129038\n",
      "[480]\ttraining's rmse: 0.0076445\tvalid_1's rmse: 0.128998\n",
      "[490]\ttraining's rmse: 0.00741095\tvalid_1's rmse: 0.128943\n",
      "[500]\ttraining's rmse: 0.00719153\tvalid_1's rmse: 0.128878\n",
      "[510]\ttraining's rmse: 0.00696982\tvalid_1's rmse: 0.128835\n",
      "[520]\ttraining's rmse: 0.00678245\tvalid_1's rmse: 0.128795\n",
      "[530]\ttraining's rmse: 0.00659194\tvalid_1's rmse: 0.128727\n",
      "[540]\ttraining's rmse: 0.00642729\tvalid_1's rmse: 0.12869\n",
      "[550]\ttraining's rmse: 0.00624528\tvalid_1's rmse: 0.128641\n",
      "[560]\ttraining's rmse: 0.00605872\tvalid_1's rmse: 0.128606\n",
      "[570]\ttraining's rmse: 0.00588289\tvalid_1's rmse: 0.128577\n",
      "[580]\ttraining's rmse: 0.00573515\tvalid_1's rmse: 0.128559\n",
      "[590]\ttraining's rmse: 0.00556272\tvalid_1's rmse: 0.128516\n",
      "[600]\ttraining's rmse: 0.00543375\tvalid_1's rmse: 0.128484\n",
      "[610]\ttraining's rmse: 0.00525923\tvalid_1's rmse: 0.128437\n",
      "[620]\ttraining's rmse: 0.00513652\tvalid_1's rmse: 0.128406\n",
      "[630]\ttraining's rmse: 0.00499041\tvalid_1's rmse: 0.128374\n",
      "[640]\ttraining's rmse: 0.00487293\tvalid_1's rmse: 0.12836\n",
      "[650]\ttraining's rmse: 0.00473631\tvalid_1's rmse: 0.12832\n",
      "[660]\ttraining's rmse: 0.00460394\tvalid_1's rmse: 0.128312\n",
      "[670]\ttraining's rmse: 0.00447605\tvalid_1's rmse: 0.128269\n",
      "[680]\ttraining's rmse: 0.00436175\tvalid_1's rmse: 0.128251\n",
      "[690]\ttraining's rmse: 0.00422399\tvalid_1's rmse: 0.128207\n",
      "[700]\ttraining's rmse: 0.00413213\tvalid_1's rmse: 0.128198\n",
      "[710]\ttraining's rmse: 0.00402125\tvalid_1's rmse: 0.128156\n",
      "[720]\ttraining's rmse: 0.00392609\tvalid_1's rmse: 0.128131\n",
      "[730]\ttraining's rmse: 0.00382678\tvalid_1's rmse: 0.12811\n",
      "[740]\ttraining's rmse: 0.00372196\tvalid_1's rmse: 0.128088\n",
      "[750]\ttraining's rmse: 0.00364246\tvalid_1's rmse: 0.128073\n",
      "[760]\ttraining's rmse: 0.00353094\tvalid_1's rmse: 0.128045\n",
      "[770]\ttraining's rmse: 0.00344505\tvalid_1's rmse: 0.128019\n",
      "[780]\ttraining's rmse: 0.00337231\tvalid_1's rmse: 0.127999\n",
      "[790]\ttraining's rmse: 0.00328589\tvalid_1's rmse: 0.127983\n",
      "[800]\ttraining's rmse: 0.00321339\tvalid_1's rmse: 0.127963\n",
      "[810]\ttraining's rmse: 0.00314603\tvalid_1's rmse: 0.127942\n",
      "[820]\ttraining's rmse: 0.0030713\tvalid_1's rmse: 0.127922\n",
      "[830]\ttraining's rmse: 0.00298713\tvalid_1's rmse: 0.127894\n",
      "[840]\ttraining's rmse: 0.00292209\tvalid_1's rmse: 0.127879\n",
      "[850]\ttraining's rmse: 0.00285246\tvalid_1's rmse: 0.127867\n",
      "[860]\ttraining's rmse: 0.00277398\tvalid_1's rmse: 0.127841\n",
      "[870]\ttraining's rmse: 0.00271081\tvalid_1's rmse: 0.127825\n",
      "[880]\ttraining's rmse: 0.00265876\tvalid_1's rmse: 0.127812\n",
      "[890]\ttraining's rmse: 0.00257598\tvalid_1's rmse: 0.127796\n",
      "[900]\ttraining's rmse: 0.00251033\tvalid_1's rmse: 0.127782\n",
      "[910]\ttraining's rmse: 0.00244747\tvalid_1's rmse: 0.127768\n",
      "[920]\ttraining's rmse: 0.0023726\tvalid_1's rmse: 0.127744\n",
      "[930]\ttraining's rmse: 0.00231222\tvalid_1's rmse: 0.127734\n",
      "[940]\ttraining's rmse: 0.00226024\tvalid_1's rmse: 0.127719\n",
      "[950]\ttraining's rmse: 0.00219223\tvalid_1's rmse: 0.127704\n",
      "[960]\ttraining's rmse: 0.00215051\tvalid_1's rmse: 0.127691\n",
      "[970]\ttraining's rmse: 0.00209004\tvalid_1's rmse: 0.127678\n",
      "[980]\ttraining's rmse: 0.00203924\tvalid_1's rmse: 0.127668\n",
      "[990]\ttraining's rmse: 0.00199731\tvalid_1's rmse: 0.127649\n",
      "[1000]\ttraining's rmse: 0.0019402\tvalid_1's rmse: 0.12764\n",
      "Did not meet early stopping. Best iteration is:\n",
      "[1000]\ttraining's rmse: 0.0019402\tvalid_1's rmse: 0.12764\n"
     ]
    },
    {
     "name": "stderr",
     "output_type": "stream",
     "text": [
      "num_leaves, val_score: 0.127640:  20%|##########                                        | 4/20 [00:06<00:27,  1.75s/it][I 2020-10-23 12:50:09,817] Trial 10 finished with value: 0.12764043729973376 and parameters: {'num_leaves': 130}. Best is trial 7 with value: 0.12764043729973376.\n",
      "num_leaves, val_score: 0.127640:  20%|##########                                        | 4/20 [00:06<00:27,  1.75s/it]"
     ]
    },
    {
     "name": "stdout",
     "output_type": "stream",
     "text": [
      "Training until validation scores don't improve for 10 rounds\n",
      "[10]\ttraining's rmse: 0.184362\tvalid_1's rmse: 0.189927\n",
      "[20]\ttraining's rmse: 0.110805\tvalid_1's rmse: 0.14531\n",
      "[30]\ttraining's rmse: 0.0840409\tvalid_1's rmse: 0.138621\n",
      "[40]\ttraining's rmse: 0.0705214\tvalid_1's rmse: 0.137144\n",
      "[50]\ttraining's rmse: 0.0618198\tvalid_1's rmse: 0.136186\n",
      "[60]\ttraining's rmse: 0.0551053\tvalid_1's rmse: 0.136044\n",
      "[70]\ttraining's rmse: 0.0498244\tvalid_1's rmse: 0.135584\n",
      "[80]\ttraining's rmse: 0.0451248\tvalid_1's rmse: 0.134966\n",
      "[90]\ttraining's rmse: 0.041251\tvalid_1's rmse: 0.134641\n",
      "[100]\ttraining's rmse: 0.0381693\tvalid_1's rmse: 0.134175\n",
      "[110]\ttraining's rmse: 0.0354996\tvalid_1's rmse: 0.133821\n",
      "[120]\ttraining's rmse: 0.0330515\tvalid_1's rmse: 0.133563\n",
      "[130]\ttraining's rmse: 0.0310352\tvalid_1's rmse: 0.133224\n",
      "[140]\ttraining's rmse: 0.0289493\tvalid_1's rmse: 0.132945\n",
      "[150]\ttraining's rmse: 0.0272524\tvalid_1's rmse: 0.132751\n",
      "[160]\ttraining's rmse: 0.0257506\tvalid_1's rmse: 0.132544\n",
      "[170]\ttraining's rmse: 0.0243414\tvalid_1's rmse: 0.13229\n",
      "[180]\ttraining's rmse: 0.0230822\tvalid_1's rmse: 0.132072\n",
      "[190]\ttraining's rmse: 0.0217804\tvalid_1's rmse: 0.131813\n",
      "[200]\ttraining's rmse: 0.0207709\tvalid_1's rmse: 0.131632\n",
      "[210]\ttraining's rmse: 0.0198286\tvalid_1's rmse: 0.13142\n",
      "[220]\ttraining's rmse: 0.0190145\tvalid_1's rmse: 0.13119\n",
      "[230]\ttraining's rmse: 0.0181916\tvalid_1's rmse: 0.131056\n",
      "[240]\ttraining's rmse: 0.0174056\tvalid_1's rmse: 0.130925\n",
      "[250]\ttraining's rmse: 0.0166835\tvalid_1's rmse: 0.13079\n",
      "[260]\ttraining's rmse: 0.0160376\tvalid_1's rmse: 0.130572\n",
      "[270]\ttraining's rmse: 0.0153429\tvalid_1's rmse: 0.130413\n",
      "[280]\ttraining's rmse: 0.0148055\tvalid_1's rmse: 0.130346\n",
      "[290]\ttraining's rmse: 0.014264\tvalid_1's rmse: 0.130226\n",
      "[300]\ttraining's rmse: 0.0137986\tvalid_1's rmse: 0.130097\n",
      "[310]\ttraining's rmse: 0.0132919\tvalid_1's rmse: 0.130088\n",
      "[320]\ttraining's rmse: 0.0127788\tvalid_1's rmse: 0.129963\n",
      "[330]\ttraining's rmse: 0.012337\tvalid_1's rmse: 0.129874\n",
      "[340]\ttraining's rmse: 0.0118934\tvalid_1's rmse: 0.129772\n",
      "[350]\ttraining's rmse: 0.0115127\tvalid_1's rmse: 0.12972\n",
      "[360]\ttraining's rmse: 0.0111389\tvalid_1's rmse: 0.129662\n",
      "[370]\ttraining's rmse: 0.0107519\tvalid_1's rmse: 0.129597\n",
      "[380]\ttraining's rmse: 0.0104032\tvalid_1's rmse: 0.129519\n",
      "[390]\ttraining's rmse: 0.0100853\tvalid_1's rmse: 0.129494\n",
      "[400]\ttraining's rmse: 0.00977917\tvalid_1's rmse: 0.129432\n",
      "[410]\ttraining's rmse: 0.00948939\tvalid_1's rmse: 0.129396\n",
      "[420]\ttraining's rmse: 0.00921821\tvalid_1's rmse: 0.129346\n",
      "[430]\ttraining's rmse: 0.00887587\tvalid_1's rmse: 0.129277\n",
      "[440]\ttraining's rmse: 0.00862456\tvalid_1's rmse: 0.129214\n",
      "[450]\ttraining's rmse: 0.00836868\tvalid_1's rmse: 0.129148\n",
      "[460]\ttraining's rmse: 0.00810523\tvalid_1's rmse: 0.129119\n",
      "[470]\ttraining's rmse: 0.00786211\tvalid_1's rmse: 0.129038\n",
      "[480]\ttraining's rmse: 0.0076445\tvalid_1's rmse: 0.128998\n",
      "[490]\ttraining's rmse: 0.00741095\tvalid_1's rmse: 0.128943\n",
      "[500]\ttraining's rmse: 0.00719153\tvalid_1's rmse: 0.128878\n",
      "[510]\ttraining's rmse: 0.00696982\tvalid_1's rmse: 0.128835\n",
      "[520]\ttraining's rmse: 0.00678245\tvalid_1's rmse: 0.128795\n",
      "[530]\ttraining's rmse: 0.00659194\tvalid_1's rmse: 0.128727\n",
      "[540]\ttraining's rmse: 0.00642729\tvalid_1's rmse: 0.12869\n",
      "[550]\ttraining's rmse: 0.00624528\tvalid_1's rmse: 0.128641\n",
      "[560]\ttraining's rmse: 0.00605872\tvalid_1's rmse: 0.128606\n",
      "[570]\ttraining's rmse: 0.00588289\tvalid_1's rmse: 0.128577\n",
      "[580]\ttraining's rmse: 0.00573515\tvalid_1's rmse: 0.128559\n",
      "[590]\ttraining's rmse: 0.00556272\tvalid_1's rmse: 0.128516\n",
      "[600]\ttraining's rmse: 0.00543375\tvalid_1's rmse: 0.128484\n",
      "[610]\ttraining's rmse: 0.00525923\tvalid_1's rmse: 0.128437\n",
      "[620]\ttraining's rmse: 0.00513652\tvalid_1's rmse: 0.128406\n",
      "[630]\ttraining's rmse: 0.00499041\tvalid_1's rmse: 0.128374\n",
      "[640]\ttraining's rmse: 0.00487293\tvalid_1's rmse: 0.12836\n",
      "[650]\ttraining's rmse: 0.00473631\tvalid_1's rmse: 0.12832\n",
      "[660]\ttraining's rmse: 0.00460394\tvalid_1's rmse: 0.128312\n",
      "[670]\ttraining's rmse: 0.00447605\tvalid_1's rmse: 0.128269\n",
      "[680]\ttraining's rmse: 0.00436175\tvalid_1's rmse: 0.128251\n",
      "[690]\ttraining's rmse: 0.00422399\tvalid_1's rmse: 0.128207\n",
      "[700]\ttraining's rmse: 0.00413213\tvalid_1's rmse: 0.128198\n",
      "[710]\ttraining's rmse: 0.00402125\tvalid_1's rmse: 0.128156\n",
      "[720]\ttraining's rmse: 0.00392609\tvalid_1's rmse: 0.128131\n",
      "[730]\ttraining's rmse: 0.00382678\tvalid_1's rmse: 0.12811\n",
      "[740]\ttraining's rmse: 0.00372196\tvalid_1's rmse: 0.128088\n",
      "[750]\ttraining's rmse: 0.00364246\tvalid_1's rmse: 0.128073\n",
      "[760]\ttraining's rmse: 0.00353094\tvalid_1's rmse: 0.128045\n",
      "[770]\ttraining's rmse: 0.00344505\tvalid_1's rmse: 0.128019\n",
      "[780]\ttraining's rmse: 0.00337231\tvalid_1's rmse: 0.127999\n",
      "[790]\ttraining's rmse: 0.00328589\tvalid_1's rmse: 0.127983\n",
      "[800]\ttraining's rmse: 0.00321339\tvalid_1's rmse: 0.127963\n",
      "[810]\ttraining's rmse: 0.00314603\tvalid_1's rmse: 0.127942\n",
      "[820]\ttraining's rmse: 0.0030713\tvalid_1's rmse: 0.127922\n",
      "[830]\ttraining's rmse: 0.00298713\tvalid_1's rmse: 0.127894\n",
      "[840]\ttraining's rmse: 0.00292209\tvalid_1's rmse: 0.127879\n",
      "[850]\ttraining's rmse: 0.00285246\tvalid_1's rmse: 0.127867\n",
      "[860]\ttraining's rmse: 0.00277398\tvalid_1's rmse: 0.127841\n",
      "[870]\ttraining's rmse: 0.00271081\tvalid_1's rmse: 0.127825\n",
      "[880]\ttraining's rmse: 0.00265876\tvalid_1's rmse: 0.127812\n",
      "[890]\ttraining's rmse: 0.00257598\tvalid_1's rmse: 0.127796\n",
      "[900]\ttraining's rmse: 0.00251033\tvalid_1's rmse: 0.127782\n",
      "[910]\ttraining's rmse: 0.00244747\tvalid_1's rmse: 0.127768\n",
      "[920]\ttraining's rmse: 0.0023726\tvalid_1's rmse: 0.127744\n",
      "[930]\ttraining's rmse: 0.00231222\tvalid_1's rmse: 0.127734\n",
      "[940]\ttraining's rmse: 0.00226024\tvalid_1's rmse: 0.127719\n",
      "[950]\ttraining's rmse: 0.00219223\tvalid_1's rmse: 0.127704\n",
      "[960]\ttraining's rmse: 0.00215051\tvalid_1's rmse: 0.127691\n",
      "[970]\ttraining's rmse: 0.00209004\tvalid_1's rmse: 0.127678\n",
      "[980]\ttraining's rmse: 0.00203924\tvalid_1's rmse: 0.127668\n",
      "[990]\ttraining's rmse: 0.00199731\tvalid_1's rmse: 0.127649\n",
      "[1000]\ttraining's rmse: 0.0019402\tvalid_1's rmse: 0.12764\n",
      "Did not meet early stopping. Best iteration is:\n",
      "[1000]\ttraining's rmse: 0.0019402\tvalid_1's rmse: 0.12764\n"
     ]
    },
    {
     "name": "stderr",
     "output_type": "stream",
     "text": [
      "num_leaves, val_score: 0.127640:  25%|############5                                     | 5/20 [00:08<00:28,  1.89s/it][I 2020-10-23 12:50:12,031] Trial 11 finished with value: 0.12764043729973376 and parameters: {'num_leaves': 248}. Best is trial 7 with value: 0.12764043729973376.\n",
      "num_leaves, val_score: 0.127640:  25%|############5                                     | 5/20 [00:08<00:28,  1.89s/it]"
     ]
    },
    {
     "name": "stdout",
     "output_type": "stream",
     "text": [
      "Training until validation scores don't improve for 10 rounds\n",
      "[10]\ttraining's rmse: 0.184362\tvalid_1's rmse: 0.189927\n",
      "[20]\ttraining's rmse: 0.110805\tvalid_1's rmse: 0.14531\n",
      "[30]\ttraining's rmse: 0.0840409\tvalid_1's rmse: 0.138621\n",
      "[40]\ttraining's rmse: 0.0705214\tvalid_1's rmse: 0.137144\n",
      "[50]\ttraining's rmse: 0.0618198\tvalid_1's rmse: 0.136186\n",
      "[60]\ttraining's rmse: 0.0551053\tvalid_1's rmse: 0.136044\n",
      "[70]\ttraining's rmse: 0.0498244\tvalid_1's rmse: 0.135584\n",
      "[80]\ttraining's rmse: 0.0451248\tvalid_1's rmse: 0.134966\n",
      "[90]\ttraining's rmse: 0.041251\tvalid_1's rmse: 0.134641\n",
      "[100]\ttraining's rmse: 0.0381693\tvalid_1's rmse: 0.134175\n",
      "[110]\ttraining's rmse: 0.0354996\tvalid_1's rmse: 0.133821\n",
      "[120]\ttraining's rmse: 0.0330515\tvalid_1's rmse: 0.133563\n",
      "[130]\ttraining's rmse: 0.0310352\tvalid_1's rmse: 0.133224\n",
      "[140]\ttraining's rmse: 0.0289493\tvalid_1's rmse: 0.132945\n",
      "[150]\ttraining's rmse: 0.0272524\tvalid_1's rmse: 0.132751\n",
      "[160]\ttraining's rmse: 0.0257506\tvalid_1's rmse: 0.132544\n",
      "[170]\ttraining's rmse: 0.0243414\tvalid_1's rmse: 0.13229\n",
      "[180]\ttraining's rmse: 0.0230822\tvalid_1's rmse: 0.132072\n",
      "[190]\ttraining's rmse: 0.0217804\tvalid_1's rmse: 0.131813\n",
      "[200]\ttraining's rmse: 0.0207709\tvalid_1's rmse: 0.131632\n",
      "[210]\ttraining's rmse: 0.0198286\tvalid_1's rmse: 0.13142\n",
      "[220]\ttraining's rmse: 0.0190145\tvalid_1's rmse: 0.13119\n",
      "[230]\ttraining's rmse: 0.0181916\tvalid_1's rmse: 0.131056\n",
      "[240]\ttraining's rmse: 0.0174056\tvalid_1's rmse: 0.130925\n",
      "[250]\ttraining's rmse: 0.0166835\tvalid_1's rmse: 0.13079\n",
      "[260]\ttraining's rmse: 0.0160376\tvalid_1's rmse: 0.130572\n",
      "[270]\ttraining's rmse: 0.0153429\tvalid_1's rmse: 0.130413\n",
      "[280]\ttraining's rmse: 0.0148055\tvalid_1's rmse: 0.130346\n",
      "[290]\ttraining's rmse: 0.014264\tvalid_1's rmse: 0.130226\n",
      "[300]\ttraining's rmse: 0.0137986\tvalid_1's rmse: 0.130097\n",
      "[310]\ttraining's rmse: 0.0132919\tvalid_1's rmse: 0.130088\n",
      "[320]\ttraining's rmse: 0.0127788\tvalid_1's rmse: 0.129963\n",
      "[330]\ttraining's rmse: 0.012337\tvalid_1's rmse: 0.129874\n",
      "[340]\ttraining's rmse: 0.0118934\tvalid_1's rmse: 0.129772\n",
      "[350]\ttraining's rmse: 0.0115127\tvalid_1's rmse: 0.12972\n",
      "[360]\ttraining's rmse: 0.0111389\tvalid_1's rmse: 0.129662\n",
      "[370]\ttraining's rmse: 0.0107519\tvalid_1's rmse: 0.129597\n",
      "[380]\ttraining's rmse: 0.0104032\tvalid_1's rmse: 0.129519\n",
      "[390]\ttraining's rmse: 0.0100853\tvalid_1's rmse: 0.129494\n",
      "[400]\ttraining's rmse: 0.00977917\tvalid_1's rmse: 0.129432\n",
      "[410]\ttraining's rmse: 0.00948939\tvalid_1's rmse: 0.129396\n",
      "[420]\ttraining's rmse: 0.00921821\tvalid_1's rmse: 0.129346\n",
      "[430]\ttraining's rmse: 0.00887587\tvalid_1's rmse: 0.129277\n",
      "[440]\ttraining's rmse: 0.00862456\tvalid_1's rmse: 0.129214\n",
      "[450]\ttraining's rmse: 0.00836868\tvalid_1's rmse: 0.129148\n",
      "[460]\ttraining's rmse: 0.00810523\tvalid_1's rmse: 0.129119\n",
      "[470]\ttraining's rmse: 0.00786211\tvalid_1's rmse: 0.129038\n",
      "[480]\ttraining's rmse: 0.0076445\tvalid_1's rmse: 0.128998\n",
      "[490]\ttraining's rmse: 0.00741095\tvalid_1's rmse: 0.128943\n",
      "[500]\ttraining's rmse: 0.00719153\tvalid_1's rmse: 0.128878\n",
      "[510]\ttraining's rmse: 0.00696982\tvalid_1's rmse: 0.128835\n",
      "[520]\ttraining's rmse: 0.00678245\tvalid_1's rmse: 0.128795\n",
      "[530]\ttraining's rmse: 0.00659194\tvalid_1's rmse: 0.128727\n",
      "[540]\ttraining's rmse: 0.00642729\tvalid_1's rmse: 0.12869\n",
      "[550]\ttraining's rmse: 0.00624528\tvalid_1's rmse: 0.128641\n",
      "[560]\ttraining's rmse: 0.00605872\tvalid_1's rmse: 0.128606\n",
      "[570]\ttraining's rmse: 0.00588289\tvalid_1's rmse: 0.128577\n",
      "[580]\ttraining's rmse: 0.00573515\tvalid_1's rmse: 0.128559\n",
      "[590]\ttraining's rmse: 0.00556272\tvalid_1's rmse: 0.128516\n",
      "[600]\ttraining's rmse: 0.00543375\tvalid_1's rmse: 0.128484\n",
      "[610]\ttraining's rmse: 0.00525923\tvalid_1's rmse: 0.128437\n",
      "[620]\ttraining's rmse: 0.00513652\tvalid_1's rmse: 0.128406\n",
      "[630]\ttraining's rmse: 0.00499041\tvalid_1's rmse: 0.128374\n",
      "[640]\ttraining's rmse: 0.00487293\tvalid_1's rmse: 0.12836\n",
      "[650]\ttraining's rmse: 0.00473631\tvalid_1's rmse: 0.12832\n",
      "[660]\ttraining's rmse: 0.00460394\tvalid_1's rmse: 0.128312\n",
      "[670]\ttraining's rmse: 0.00447605\tvalid_1's rmse: 0.128269\n",
      "[680]\ttraining's rmse: 0.00436175\tvalid_1's rmse: 0.128251\n",
      "[690]\ttraining's rmse: 0.00422399\tvalid_1's rmse: 0.128207\n",
      "[700]\ttraining's rmse: 0.00413213\tvalid_1's rmse: 0.128198\n",
      "[710]\ttraining's rmse: 0.00402125\tvalid_1's rmse: 0.128156\n",
      "[720]\ttraining's rmse: 0.00392609\tvalid_1's rmse: 0.128131\n",
      "[730]\ttraining's rmse: 0.00382678\tvalid_1's rmse: 0.12811\n",
      "[740]\ttraining's rmse: 0.00372196\tvalid_1's rmse: 0.128088\n",
      "[750]\ttraining's rmse: 0.00364246\tvalid_1's rmse: 0.128073\n",
      "[760]\ttraining's rmse: 0.00353094\tvalid_1's rmse: 0.128045\n",
      "[770]\ttraining's rmse: 0.00344505\tvalid_1's rmse: 0.128019\n",
      "[780]\ttraining's rmse: 0.00337231\tvalid_1's rmse: 0.127999\n",
      "[790]\ttraining's rmse: 0.00328589\tvalid_1's rmse: 0.127983\n",
      "[800]\ttraining's rmse: 0.00321339\tvalid_1's rmse: 0.127963\n",
      "[810]\ttraining's rmse: 0.00314603\tvalid_1's rmse: 0.127942\n",
      "[820]\ttraining's rmse: 0.0030713\tvalid_1's rmse: 0.127922\n",
      "[830]\ttraining's rmse: 0.00298713\tvalid_1's rmse: 0.127894\n",
      "[840]\ttraining's rmse: 0.00292209\tvalid_1's rmse: 0.127879\n",
      "[850]\ttraining's rmse: 0.00285246\tvalid_1's rmse: 0.127867\n",
      "[860]\ttraining's rmse: 0.00277398\tvalid_1's rmse: 0.127841\n",
      "[870]\ttraining's rmse: 0.00271081\tvalid_1's rmse: 0.127825\n",
      "[880]\ttraining's rmse: 0.00265876\tvalid_1's rmse: 0.127812\n",
      "[890]\ttraining's rmse: 0.00257598\tvalid_1's rmse: 0.127796\n",
      "[900]\ttraining's rmse: 0.00251033\tvalid_1's rmse: 0.127782\n",
      "[910]\ttraining's rmse: 0.00244747\tvalid_1's rmse: 0.127768\n",
      "[920]\ttraining's rmse: 0.0023726\tvalid_1's rmse: 0.127744\n",
      "[930]\ttraining's rmse: 0.00231222\tvalid_1's rmse: 0.127734\n",
      "[940]\ttraining's rmse: 0.00226024\tvalid_1's rmse: 0.127719\n",
      "[950]\ttraining's rmse: 0.00219223\tvalid_1's rmse: 0.127704\n",
      "[960]\ttraining's rmse: 0.00215051\tvalid_1's rmse: 0.127691\n",
      "[970]\ttraining's rmse: 0.00209004\tvalid_1's rmse: 0.127678\n",
      "[980]\ttraining's rmse: 0.00203924\tvalid_1's rmse: 0.127668\n",
      "[990]\ttraining's rmse: 0.00199731\tvalid_1's rmse: 0.127649\n",
      "[1000]\ttraining's rmse: 0.0019402\tvalid_1's rmse: 0.12764\n",
      "Did not meet early stopping. Best iteration is:\n",
      "[1000]\ttraining's rmse: 0.0019402\tvalid_1's rmse: 0.12764\n"
     ]
    },
    {
     "name": "stderr",
     "output_type": "stream",
     "text": [
      "num_leaves, val_score: 0.127640:  30%|###############                                   | 6/20 [00:10<00:27,  1.96s/it][I 2020-10-23 12:50:14,179] Trial 12 finished with value: 0.12764043729973376 and parameters: {'num_leaves': 205}. Best is trial 7 with value: 0.12764043729973376.\n",
      "num_leaves, val_score: 0.127640:  30%|###############                                   | 6/20 [00:10<00:27,  1.96s/it]"
     ]
    },
    {
     "name": "stdout",
     "output_type": "stream",
     "text": [
      "Training until validation scores don't improve for 10 rounds\n",
      "[10]\ttraining's rmse: 0.184362\tvalid_1's rmse: 0.189927\n",
      "[20]\ttraining's rmse: 0.110805\tvalid_1's rmse: 0.14531\n",
      "[30]\ttraining's rmse: 0.0840409\tvalid_1's rmse: 0.138621\n",
      "[40]\ttraining's rmse: 0.0705214\tvalid_1's rmse: 0.137144\n",
      "[50]\ttraining's rmse: 0.0618198\tvalid_1's rmse: 0.136186\n",
      "[60]\ttraining's rmse: 0.0551053\tvalid_1's rmse: 0.136044\n",
      "[70]\ttraining's rmse: 0.0498244\tvalid_1's rmse: 0.135584\n",
      "[80]\ttraining's rmse: 0.0451248\tvalid_1's rmse: 0.134966\n",
      "[90]\ttraining's rmse: 0.041251\tvalid_1's rmse: 0.134641\n",
      "[100]\ttraining's rmse: 0.0381693\tvalid_1's rmse: 0.134175\n",
      "[110]\ttraining's rmse: 0.0354996\tvalid_1's rmse: 0.133821\n",
      "[120]\ttraining's rmse: 0.0330515\tvalid_1's rmse: 0.133563\n",
      "[130]\ttraining's rmse: 0.0310352\tvalid_1's rmse: 0.133224\n",
      "[140]\ttraining's rmse: 0.0289493\tvalid_1's rmse: 0.132945\n",
      "[150]\ttraining's rmse: 0.0272524\tvalid_1's rmse: 0.132751\n",
      "[160]\ttraining's rmse: 0.0257506\tvalid_1's rmse: 0.132544\n",
      "[170]\ttraining's rmse: 0.0243414\tvalid_1's rmse: 0.13229\n",
      "[180]\ttraining's rmse: 0.0230822\tvalid_1's rmse: 0.132072\n",
      "[190]\ttraining's rmse: 0.0217804\tvalid_1's rmse: 0.131813\n",
      "[200]\ttraining's rmse: 0.0207709\tvalid_1's rmse: 0.131632\n",
      "[210]\ttraining's rmse: 0.0198286\tvalid_1's rmse: 0.13142\n",
      "[220]\ttraining's rmse: 0.0190145\tvalid_1's rmse: 0.13119\n",
      "[230]\ttraining's rmse: 0.0181916\tvalid_1's rmse: 0.131056\n",
      "[240]\ttraining's rmse: 0.0174056\tvalid_1's rmse: 0.130925\n",
      "[250]\ttraining's rmse: 0.0166835\tvalid_1's rmse: 0.13079\n",
      "[260]\ttraining's rmse: 0.0160376\tvalid_1's rmse: 0.130572\n",
      "[270]\ttraining's rmse: 0.0153429\tvalid_1's rmse: 0.130413\n",
      "[280]\ttraining's rmse: 0.0148055\tvalid_1's rmse: 0.130346\n",
      "[290]\ttraining's rmse: 0.014264\tvalid_1's rmse: 0.130226\n",
      "[300]\ttraining's rmse: 0.0137986\tvalid_1's rmse: 0.130097\n",
      "[310]\ttraining's rmse: 0.0132919\tvalid_1's rmse: 0.130088\n",
      "[320]\ttraining's rmse: 0.0127788\tvalid_1's rmse: 0.129963\n",
      "[330]\ttraining's rmse: 0.012337\tvalid_1's rmse: 0.129874\n",
      "[340]\ttraining's rmse: 0.0118934\tvalid_1's rmse: 0.129772\n",
      "[350]\ttraining's rmse: 0.0115127\tvalid_1's rmse: 0.12972\n",
      "[360]\ttraining's rmse: 0.0111389\tvalid_1's rmse: 0.129662\n",
      "[370]\ttraining's rmse: 0.0107519\tvalid_1's rmse: 0.129597\n",
      "[380]\ttraining's rmse: 0.0104032\tvalid_1's rmse: 0.129519\n",
      "[390]\ttraining's rmse: 0.0100853\tvalid_1's rmse: 0.129494\n",
      "[400]\ttraining's rmse: 0.00977917\tvalid_1's rmse: 0.129432\n",
      "[410]\ttraining's rmse: 0.00948939\tvalid_1's rmse: 0.129396\n",
      "[420]\ttraining's rmse: 0.00921821\tvalid_1's rmse: 0.129346\n",
      "[430]\ttraining's rmse: 0.00887587\tvalid_1's rmse: 0.129277\n",
      "[440]\ttraining's rmse: 0.00862456\tvalid_1's rmse: 0.129214\n",
      "[450]\ttraining's rmse: 0.00836868\tvalid_1's rmse: 0.129148\n",
      "[460]\ttraining's rmse: 0.00810523\tvalid_1's rmse: 0.129119\n",
      "[470]\ttraining's rmse: 0.00786211\tvalid_1's rmse: 0.129038\n",
      "[480]\ttraining's rmse: 0.0076445\tvalid_1's rmse: 0.128998\n",
      "[490]\ttraining's rmse: 0.00741095\tvalid_1's rmse: 0.128943\n",
      "[500]\ttraining's rmse: 0.00719153\tvalid_1's rmse: 0.128878\n",
      "[510]\ttraining's rmse: 0.00696982\tvalid_1's rmse: 0.128835\n",
      "[520]\ttraining's rmse: 0.00678245\tvalid_1's rmse: 0.128795\n",
      "[530]\ttraining's rmse: 0.00659194\tvalid_1's rmse: 0.128727\n",
      "[540]\ttraining's rmse: 0.00642729\tvalid_1's rmse: 0.12869\n",
      "[550]\ttraining's rmse: 0.00624528\tvalid_1's rmse: 0.128641\n",
      "[560]\ttraining's rmse: 0.00605872\tvalid_1's rmse: 0.128606\n",
      "[570]\ttraining's rmse: 0.00588289\tvalid_1's rmse: 0.128577\n",
      "[580]\ttraining's rmse: 0.00573515\tvalid_1's rmse: 0.128559\n",
      "[590]\ttraining's rmse: 0.00556272\tvalid_1's rmse: 0.128516\n",
      "[600]\ttraining's rmse: 0.00543375\tvalid_1's rmse: 0.128484\n",
      "[610]\ttraining's rmse: 0.00525923\tvalid_1's rmse: 0.128437\n",
      "[620]\ttraining's rmse: 0.00513652\tvalid_1's rmse: 0.128406\n",
      "[630]\ttraining's rmse: 0.00499041\tvalid_1's rmse: 0.128374\n",
      "[640]\ttraining's rmse: 0.00487293\tvalid_1's rmse: 0.12836\n",
      "[650]\ttraining's rmse: 0.00473631\tvalid_1's rmse: 0.12832\n",
      "[660]\ttraining's rmse: 0.00460394\tvalid_1's rmse: 0.128312\n",
      "[670]\ttraining's rmse: 0.00447605\tvalid_1's rmse: 0.128269\n",
      "[680]\ttraining's rmse: 0.00436175\tvalid_1's rmse: 0.128251\n",
      "[690]\ttraining's rmse: 0.00422399\tvalid_1's rmse: 0.128207\n",
      "[700]\ttraining's rmse: 0.00413213\tvalid_1's rmse: 0.128198\n",
      "[710]\ttraining's rmse: 0.00402125\tvalid_1's rmse: 0.128156\n",
      "[720]\ttraining's rmse: 0.00392609\tvalid_1's rmse: 0.128131\n",
      "[730]\ttraining's rmse: 0.00382678\tvalid_1's rmse: 0.12811\n",
      "[740]\ttraining's rmse: 0.00372196\tvalid_1's rmse: 0.128088\n",
      "[750]\ttraining's rmse: 0.00364246\tvalid_1's rmse: 0.128073\n",
      "[760]\ttraining's rmse: 0.00353094\tvalid_1's rmse: 0.128045\n",
      "[770]\ttraining's rmse: 0.00344505\tvalid_1's rmse: 0.128019\n",
      "[780]\ttraining's rmse: 0.00337231\tvalid_1's rmse: 0.127999\n",
      "[790]\ttraining's rmse: 0.00328589\tvalid_1's rmse: 0.127983\n",
      "[800]\ttraining's rmse: 0.00321339\tvalid_1's rmse: 0.127963\n",
      "[810]\ttraining's rmse: 0.00314603\tvalid_1's rmse: 0.127942\n",
      "[820]\ttraining's rmse: 0.0030713\tvalid_1's rmse: 0.127922\n",
      "[830]\ttraining's rmse: 0.00298713\tvalid_1's rmse: 0.127894\n",
      "[840]\ttraining's rmse: 0.00292209\tvalid_1's rmse: 0.127879\n",
      "[850]\ttraining's rmse: 0.00285246\tvalid_1's rmse: 0.127867\n",
      "[860]\ttraining's rmse: 0.00277398\tvalid_1's rmse: 0.127841\n",
      "[870]\ttraining's rmse: 0.00271081\tvalid_1's rmse: 0.127825\n",
      "[880]\ttraining's rmse: 0.00265876\tvalid_1's rmse: 0.127812\n",
      "[890]\ttraining's rmse: 0.00257598\tvalid_1's rmse: 0.127796\n",
      "[900]\ttraining's rmse: 0.00251033\tvalid_1's rmse: 0.127782\n",
      "[910]\ttraining's rmse: 0.00244747\tvalid_1's rmse: 0.127768\n",
      "[920]\ttraining's rmse: 0.0023726\tvalid_1's rmse: 0.127744\n",
      "[930]\ttraining's rmse: 0.00231222\tvalid_1's rmse: 0.127734\n",
      "[940]\ttraining's rmse: 0.00226024\tvalid_1's rmse: 0.127719\n",
      "[950]\ttraining's rmse: 0.00219223\tvalid_1's rmse: 0.127704\n",
      "[960]\ttraining's rmse: 0.00215051\tvalid_1's rmse: 0.127691\n",
      "[970]\ttraining's rmse: 0.00209004\tvalid_1's rmse: 0.127678\n",
      "[980]\ttraining's rmse: 0.00203924\tvalid_1's rmse: 0.127668\n",
      "[990]\ttraining's rmse: 0.00199731\tvalid_1's rmse: 0.127649\n",
      "[1000]\ttraining's rmse: 0.0019402\tvalid_1's rmse: 0.12764\n",
      "Did not meet early stopping. Best iteration is:\n",
      "[1000]\ttraining's rmse: 0.0019402\tvalid_1's rmse: 0.12764\n"
     ]
    },
    {
     "name": "stderr",
     "output_type": "stream",
     "text": [
      "num_leaves, val_score: 0.127640:  35%|#################5                                | 7/20 [00:13<00:25,  2.00s/it][I 2020-10-23 12:50:16,253] Trial 13 finished with value: 0.12764043729973376 and parameters: {'num_leaves': 160}. Best is trial 7 with value: 0.12764043729973376.\n",
      "num_leaves, val_score: 0.127640:  35%|#################5                                | 7/20 [00:13<00:25,  2.00s/it]"
     ]
    },
    {
     "name": "stdout",
     "output_type": "stream",
     "text": [
      "Training until validation scores don't improve for 10 rounds\n",
      "[10]\ttraining's rmse: 0.184362\tvalid_1's rmse: 0.189927\n",
      "[20]\ttraining's rmse: 0.110805\tvalid_1's rmse: 0.14531\n",
      "[30]\ttraining's rmse: 0.0840409\tvalid_1's rmse: 0.138621\n",
      "[40]\ttraining's rmse: 0.0705214\tvalid_1's rmse: 0.137144\n",
      "[50]\ttraining's rmse: 0.0618198\tvalid_1's rmse: 0.136186\n",
      "[60]\ttraining's rmse: 0.0551053\tvalid_1's rmse: 0.136044\n",
      "[70]\ttraining's rmse: 0.0498244\tvalid_1's rmse: 0.135584\n",
      "[80]\ttraining's rmse: 0.0451248\tvalid_1's rmse: 0.134966\n",
      "[90]\ttraining's rmse: 0.041251\tvalid_1's rmse: 0.134641\n",
      "[100]\ttraining's rmse: 0.0381693\tvalid_1's rmse: 0.134175\n",
      "[110]\ttraining's rmse: 0.0354996\tvalid_1's rmse: 0.133821\n",
      "[120]\ttraining's rmse: 0.0330515\tvalid_1's rmse: 0.133563\n",
      "[130]\ttraining's rmse: 0.0310352\tvalid_1's rmse: 0.133224\n",
      "[140]\ttraining's rmse: 0.0289493\tvalid_1's rmse: 0.132945\n",
      "[150]\ttraining's rmse: 0.0272524\tvalid_1's rmse: 0.132751\n",
      "[160]\ttraining's rmse: 0.0257506\tvalid_1's rmse: 0.132544\n",
      "[170]\ttraining's rmse: 0.0243414\tvalid_1's rmse: 0.13229\n",
      "[180]\ttraining's rmse: 0.0230822\tvalid_1's rmse: 0.132072\n",
      "[190]\ttraining's rmse: 0.0217804\tvalid_1's rmse: 0.131813\n",
      "[200]\ttraining's rmse: 0.0207709\tvalid_1's rmse: 0.131632\n",
      "[210]\ttraining's rmse: 0.0198286\tvalid_1's rmse: 0.13142\n",
      "[220]\ttraining's rmse: 0.0190145\tvalid_1's rmse: 0.13119\n",
      "[230]\ttraining's rmse: 0.0181916\tvalid_1's rmse: 0.131056\n",
      "[240]\ttraining's rmse: 0.0174056\tvalid_1's rmse: 0.130925\n",
      "[250]\ttraining's rmse: 0.0166835\tvalid_1's rmse: 0.13079\n",
      "[260]\ttraining's rmse: 0.0160376\tvalid_1's rmse: 0.130572\n",
      "[270]\ttraining's rmse: 0.0153429\tvalid_1's rmse: 0.130413\n",
      "[280]\ttraining's rmse: 0.0148055\tvalid_1's rmse: 0.130346\n",
      "[290]\ttraining's rmse: 0.014264\tvalid_1's rmse: 0.130226\n",
      "[300]\ttraining's rmse: 0.0137986\tvalid_1's rmse: 0.130097\n",
      "[310]\ttraining's rmse: 0.0132919\tvalid_1's rmse: 0.130088\n",
      "[320]\ttraining's rmse: 0.0127788\tvalid_1's rmse: 0.129963\n",
      "[330]\ttraining's rmse: 0.0123431\tvalid_1's rmse: 0.129923\n",
      "[340]\ttraining's rmse: 0.0119215\tvalid_1's rmse: 0.12982\n",
      "[350]\ttraining's rmse: 0.0115374\tvalid_1's rmse: 0.129732\n",
      "[360]\ttraining's rmse: 0.0111411\tvalid_1's rmse: 0.129651\n",
      "[370]\ttraining's rmse: 0.0107817\tvalid_1's rmse: 0.129569\n",
      "[380]\ttraining's rmse: 0.0104353\tvalid_1's rmse: 0.129449\n",
      "[390]\ttraining's rmse: 0.0100741\tvalid_1's rmse: 0.129391\n",
      "[400]\ttraining's rmse: 0.00977828\tvalid_1's rmse: 0.129348\n",
      "[410]\ttraining's rmse: 0.00948716\tvalid_1's rmse: 0.12929\n",
      "[420]\ttraining's rmse: 0.00917354\tvalid_1's rmse: 0.129196\n",
      "[430]\ttraining's rmse: 0.00890157\tvalid_1's rmse: 0.129161\n",
      "[440]\ttraining's rmse: 0.00861358\tvalid_1's rmse: 0.12908\n",
      "[450]\ttraining's rmse: 0.00837648\tvalid_1's rmse: 0.129001\n",
      "[460]\ttraining's rmse: 0.00814514\tvalid_1's rmse: 0.128948\n",
      "[470]\ttraining's rmse: 0.00791467\tvalid_1's rmse: 0.128877\n",
      "[480]\ttraining's rmse: 0.00767086\tvalid_1's rmse: 0.128844\n",
      "[490]\ttraining's rmse: 0.00744491\tvalid_1's rmse: 0.128763\n",
      "[500]\ttraining's rmse: 0.00723775\tvalid_1's rmse: 0.128722\n",
      "[510]\ttraining's rmse: 0.00699758\tvalid_1's rmse: 0.12866\n",
      "[520]\ttraining's rmse: 0.0068141\tvalid_1's rmse: 0.128603\n",
      "[530]\ttraining's rmse: 0.00660895\tvalid_1's rmse: 0.128566\n",
      "[540]\ttraining's rmse: 0.00641963\tvalid_1's rmse: 0.128544\n",
      "Early stopping, best iteration is:\n",
      "[534]\ttraining's rmse: 0.00652268\tvalid_1's rmse: 0.128536\n"
     ]
    },
    {
     "name": "stderr",
     "output_type": "stream",
     "text": [
      "num_leaves, val_score: 0.127640:  40%|####################                              | 8/20 [00:14<00:20,  1.74s/it][I 2020-10-23 12:50:17,396] Trial 14 finished with value: 0.12853624109498715 and parameters: {'num_leaves': 49}. Best is trial 7 with value: 0.12764043729973376.\n",
      "num_leaves, val_score: 0.127640:  40%|####################                              | 8/20 [00:14<00:20,  1.74s/it]"
     ]
    },
    {
     "name": "stdout",
     "output_type": "stream",
     "text": [
      "Training until validation scores don't improve for 10 rounds\n",
      "[10]\ttraining's rmse: 0.184362\tvalid_1's rmse: 0.189927\n",
      "[20]\ttraining's rmse: 0.110805\tvalid_1's rmse: 0.14531\n",
      "[30]\ttraining's rmse: 0.0840409\tvalid_1's rmse: 0.138621\n",
      "[40]\ttraining's rmse: 0.0705214\tvalid_1's rmse: 0.137144\n",
      "[50]\ttraining's rmse: 0.0618198\tvalid_1's rmse: 0.136186\n",
      "[60]\ttraining's rmse: 0.0551053\tvalid_1's rmse: 0.136044\n",
      "[70]\ttraining's rmse: 0.0498244\tvalid_1's rmse: 0.135584\n",
      "[80]\ttraining's rmse: 0.0451248\tvalid_1's rmse: 0.134966\n",
      "[90]\ttraining's rmse: 0.041251\tvalid_1's rmse: 0.134641\n",
      "[100]\ttraining's rmse: 0.0381693\tvalid_1's rmse: 0.134175\n",
      "[110]\ttraining's rmse: 0.0354996\tvalid_1's rmse: 0.133821\n",
      "[120]\ttraining's rmse: 0.0330515\tvalid_1's rmse: 0.133563\n",
      "[130]\ttraining's rmse: 0.0310352\tvalid_1's rmse: 0.133224\n",
      "[140]\ttraining's rmse: 0.0289493\tvalid_1's rmse: 0.132945\n",
      "[150]\ttraining's rmse: 0.0272524\tvalid_1's rmse: 0.132751\n",
      "[160]\ttraining's rmse: 0.0257506\tvalid_1's rmse: 0.132544\n",
      "[170]\ttraining's rmse: 0.0243414\tvalid_1's rmse: 0.13229\n",
      "[180]\ttraining's rmse: 0.0230822\tvalid_1's rmse: 0.132072\n",
      "[190]\ttraining's rmse: 0.0217804\tvalid_1's rmse: 0.131813\n",
      "[200]\ttraining's rmse: 0.0207709\tvalid_1's rmse: 0.131632\n",
      "[210]\ttraining's rmse: 0.0198286\tvalid_1's rmse: 0.13142\n",
      "[220]\ttraining's rmse: 0.0190145\tvalid_1's rmse: 0.13119\n",
      "[230]\ttraining's rmse: 0.0181916\tvalid_1's rmse: 0.131056\n",
      "[240]\ttraining's rmse: 0.0174056\tvalid_1's rmse: 0.130925\n",
      "[250]\ttraining's rmse: 0.0166835\tvalid_1's rmse: 0.13079\n",
      "[260]\ttraining's rmse: 0.0160376\tvalid_1's rmse: 0.130572\n",
      "[270]\ttraining's rmse: 0.0153429\tvalid_1's rmse: 0.130413\n",
      "[280]\ttraining's rmse: 0.0148055\tvalid_1's rmse: 0.130346\n",
      "[290]\ttraining's rmse: 0.014264\tvalid_1's rmse: 0.130226\n",
      "[300]\ttraining's rmse: 0.0137986\tvalid_1's rmse: 0.130097\n",
      "[310]\ttraining's rmse: 0.0132919\tvalid_1's rmse: 0.130088\n",
      "[320]\ttraining's rmse: 0.0127788\tvalid_1's rmse: 0.129963\n",
      "[330]\ttraining's rmse: 0.012337\tvalid_1's rmse: 0.129874\n",
      "[340]\ttraining's rmse: 0.0118934\tvalid_1's rmse: 0.129772\n",
      "[350]\ttraining's rmse: 0.0115127\tvalid_1's rmse: 0.12972\n",
      "[360]\ttraining's rmse: 0.0111389\tvalid_1's rmse: 0.129662\n",
      "[370]\ttraining's rmse: 0.0107519\tvalid_1's rmse: 0.129597\n",
      "[380]\ttraining's rmse: 0.0104032\tvalid_1's rmse: 0.129519\n",
      "[390]\ttraining's rmse: 0.0100853\tvalid_1's rmse: 0.129494\n",
      "[400]\ttraining's rmse: 0.00977917\tvalid_1's rmse: 0.129432\n",
      "[410]\ttraining's rmse: 0.00948939\tvalid_1's rmse: 0.129396\n",
      "[420]\ttraining's rmse: 0.00921821\tvalid_1's rmse: 0.129346\n",
      "[430]\ttraining's rmse: 0.00887587\tvalid_1's rmse: 0.129277\n",
      "[440]\ttraining's rmse: 0.00862456\tvalid_1's rmse: 0.129214\n",
      "[450]\ttraining's rmse: 0.00836868\tvalid_1's rmse: 0.129148\n",
      "[460]\ttraining's rmse: 0.00810523\tvalid_1's rmse: 0.129119\n",
      "[470]\ttraining's rmse: 0.00786211\tvalid_1's rmse: 0.129038\n",
      "[480]\ttraining's rmse: 0.0076445\tvalid_1's rmse: 0.128998\n",
      "[490]\ttraining's rmse: 0.00741095\tvalid_1's rmse: 0.128943\n",
      "[500]\ttraining's rmse: 0.00719153\tvalid_1's rmse: 0.128878\n",
      "[510]\ttraining's rmse: 0.00696982\tvalid_1's rmse: 0.128835\n",
      "[520]\ttraining's rmse: 0.00678245\tvalid_1's rmse: 0.128795\n",
      "[530]\ttraining's rmse: 0.00659194\tvalid_1's rmse: 0.128727\n",
      "[540]\ttraining's rmse: 0.00642729\tvalid_1's rmse: 0.12869\n",
      "[550]\ttraining's rmse: 0.00624528\tvalid_1's rmse: 0.128641\n",
      "[560]\ttraining's rmse: 0.00605872\tvalid_1's rmse: 0.128606\n",
      "[570]\ttraining's rmse: 0.00588289\tvalid_1's rmse: 0.128577\n",
      "[580]\ttraining's rmse: 0.00573515\tvalid_1's rmse: 0.128559\n",
      "[590]\ttraining's rmse: 0.00556272\tvalid_1's rmse: 0.128516\n",
      "[600]\ttraining's rmse: 0.00543375\tvalid_1's rmse: 0.128484\n",
      "[610]\ttraining's rmse: 0.00525923\tvalid_1's rmse: 0.128437\n",
      "[620]\ttraining's rmse: 0.00513652\tvalid_1's rmse: 0.128406\n",
      "[630]\ttraining's rmse: 0.00499041\tvalid_1's rmse: 0.128374\n",
      "[640]\ttraining's rmse: 0.00487293\tvalid_1's rmse: 0.12836\n",
      "[650]\ttraining's rmse: 0.00473631\tvalid_1's rmse: 0.12832\n",
      "[660]\ttraining's rmse: 0.00460394\tvalid_1's rmse: 0.128312\n",
      "[670]\ttraining's rmse: 0.00447605\tvalid_1's rmse: 0.128269\n",
      "[680]\ttraining's rmse: 0.00436175\tvalid_1's rmse: 0.128251\n",
      "[690]\ttraining's rmse: 0.00422399\tvalid_1's rmse: 0.128207\n",
      "[700]\ttraining's rmse: 0.00413213\tvalid_1's rmse: 0.128198\n",
      "[710]\ttraining's rmse: 0.00402125\tvalid_1's rmse: 0.128156\n",
      "[720]\ttraining's rmse: 0.00392609\tvalid_1's rmse: 0.128131\n",
      "[730]\ttraining's rmse: 0.00382678\tvalid_1's rmse: 0.12811\n",
      "[740]\ttraining's rmse: 0.00372196\tvalid_1's rmse: 0.128088\n",
      "[750]\ttraining's rmse: 0.00364246\tvalid_1's rmse: 0.128073\n",
      "[760]\ttraining's rmse: 0.00353094\tvalid_1's rmse: 0.128045\n",
      "[770]\ttraining's rmse: 0.00344505\tvalid_1's rmse: 0.128019\n",
      "[780]\ttraining's rmse: 0.00337231\tvalid_1's rmse: 0.127999\n",
      "[790]\ttraining's rmse: 0.00328589\tvalid_1's rmse: 0.127983\n",
      "[800]\ttraining's rmse: 0.00321339\tvalid_1's rmse: 0.127963\n",
      "[810]\ttraining's rmse: 0.00314603\tvalid_1's rmse: 0.127942\n",
      "[820]\ttraining's rmse: 0.0030713\tvalid_1's rmse: 0.127922\n",
      "[830]\ttraining's rmse: 0.00298713\tvalid_1's rmse: 0.127894\n",
      "[840]\ttraining's rmse: 0.00292209\tvalid_1's rmse: 0.127879\n",
      "[850]\ttraining's rmse: 0.00285246\tvalid_1's rmse: 0.127867\n",
      "[860]\ttraining's rmse: 0.00277398\tvalid_1's rmse: 0.127841\n",
      "[870]\ttraining's rmse: 0.00271081\tvalid_1's rmse: 0.127825\n",
      "[880]\ttraining's rmse: 0.00265876\tvalid_1's rmse: 0.127812\n",
      "[890]\ttraining's rmse: 0.00257598\tvalid_1's rmse: 0.127796\n",
      "[900]\ttraining's rmse: 0.00251033\tvalid_1's rmse: 0.127782\n",
      "[910]\ttraining's rmse: 0.00244747\tvalid_1's rmse: 0.127768\n",
      "[920]\ttraining's rmse: 0.0023726\tvalid_1's rmse: 0.127744\n",
      "[930]\ttraining's rmse: 0.00231222\tvalid_1's rmse: 0.127734\n",
      "[940]\ttraining's rmse: 0.00226024\tvalid_1's rmse: 0.127719\n",
      "[950]\ttraining's rmse: 0.00219223\tvalid_1's rmse: 0.127704\n",
      "[960]\ttraining's rmse: 0.00215051\tvalid_1's rmse: 0.127691\n",
      "[970]\ttraining's rmse: 0.00209004\tvalid_1's rmse: 0.127678\n",
      "[980]\ttraining's rmse: 0.00203924\tvalid_1's rmse: 0.127668\n",
      "[990]\ttraining's rmse: 0.00199731\tvalid_1's rmse: 0.127649\n",
      "[1000]\ttraining's rmse: 0.0019402\tvalid_1's rmse: 0.12764\n",
      "Did not meet early stopping. Best iteration is:\n",
      "[1000]\ttraining's rmse: 0.0019402\tvalid_1's rmse: 0.12764\n"
     ]
    },
    {
     "name": "stderr",
     "output_type": "stream",
     "text": [
      "num_leaves, val_score: 0.127640:  45%|######################5                           | 9/20 [00:16<00:20,  1.87s/it][I 2020-10-23 12:50:19,559] Trial 15 finished with value: 0.12764043729973376 and parameters: {'num_leaves': 247}. Best is trial 7 with value: 0.12764043729973376.\n",
      "num_leaves, val_score: 0.127640:  45%|######################5                           | 9/20 [00:16<00:20,  1.87s/it]"
     ]
    },
    {
     "name": "stdout",
     "output_type": "stream",
     "text": [
      "Training until validation scores don't improve for 10 rounds\n",
      "[10]\ttraining's rmse: 0.184362\tvalid_1's rmse: 0.189927\n",
      "[20]\ttraining's rmse: 0.110805\tvalid_1's rmse: 0.14531\n",
      "[30]\ttraining's rmse: 0.0840409\tvalid_1's rmse: 0.138621\n",
      "[40]\ttraining's rmse: 0.0705214\tvalid_1's rmse: 0.137144\n",
      "[50]\ttraining's rmse: 0.0618198\tvalid_1's rmse: 0.136186\n",
      "[60]\ttraining's rmse: 0.0551053\tvalid_1's rmse: 0.136044\n",
      "[70]\ttraining's rmse: 0.0498244\tvalid_1's rmse: 0.135584\n",
      "[80]\ttraining's rmse: 0.0451248\tvalid_1's rmse: 0.134966\n",
      "[90]\ttraining's rmse: 0.041251\tvalid_1's rmse: 0.134641\n",
      "[100]\ttraining's rmse: 0.0381693\tvalid_1's rmse: 0.134175\n",
      "[110]\ttraining's rmse: 0.0354996\tvalid_1's rmse: 0.133821\n",
      "[120]\ttraining's rmse: 0.0330515\tvalid_1's rmse: 0.133563\n",
      "[130]\ttraining's rmse: 0.0310352\tvalid_1's rmse: 0.133224\n",
      "[140]\ttraining's rmse: 0.0289493\tvalid_1's rmse: 0.132945\n",
      "[150]\ttraining's rmse: 0.0272524\tvalid_1's rmse: 0.132751\n",
      "[160]\ttraining's rmse: 0.0257506\tvalid_1's rmse: 0.132544\n",
      "[170]\ttraining's rmse: 0.0243414\tvalid_1's rmse: 0.13229\n",
      "[180]\ttraining's rmse: 0.0230822\tvalid_1's rmse: 0.132072\n",
      "[190]\ttraining's rmse: 0.0217804\tvalid_1's rmse: 0.131813\n",
      "[200]\ttraining's rmse: 0.0207709\tvalid_1's rmse: 0.131632\n",
      "[210]\ttraining's rmse: 0.0198286\tvalid_1's rmse: 0.13142\n",
      "[220]\ttraining's rmse: 0.0190145\tvalid_1's rmse: 0.13119\n",
      "[230]\ttraining's rmse: 0.0181916\tvalid_1's rmse: 0.131056\n",
      "[240]\ttraining's rmse: 0.0174056\tvalid_1's rmse: 0.130925\n",
      "[250]\ttraining's rmse: 0.0166835\tvalid_1's rmse: 0.13079\n",
      "[260]\ttraining's rmse: 0.0160376\tvalid_1's rmse: 0.130572\n",
      "[270]\ttraining's rmse: 0.0153429\tvalid_1's rmse: 0.130413\n",
      "[280]\ttraining's rmse: 0.0148055\tvalid_1's rmse: 0.130346\n",
      "[290]\ttraining's rmse: 0.014264\tvalid_1's rmse: 0.130226\n",
      "[300]\ttraining's rmse: 0.0137986\tvalid_1's rmse: 0.130097\n",
      "[310]\ttraining's rmse: 0.0132919\tvalid_1's rmse: 0.130088\n",
      "[320]\ttraining's rmse: 0.0127788\tvalid_1's rmse: 0.129963\n",
      "[330]\ttraining's rmse: 0.012337\tvalid_1's rmse: 0.129874\n",
      "[340]\ttraining's rmse: 0.0118934\tvalid_1's rmse: 0.129772\n",
      "[350]\ttraining's rmse: 0.0115127\tvalid_1's rmse: 0.12972\n",
      "[360]\ttraining's rmse: 0.0111389\tvalid_1's rmse: 0.129662\n",
      "[370]\ttraining's rmse: 0.0107519\tvalid_1's rmse: 0.129597\n",
      "[380]\ttraining's rmse: 0.0104032\tvalid_1's rmse: 0.129519\n",
      "[390]\ttraining's rmse: 0.0100853\tvalid_1's rmse: 0.129494\n",
      "[400]\ttraining's rmse: 0.00977917\tvalid_1's rmse: 0.129432\n",
      "[410]\ttraining's rmse: 0.00948939\tvalid_1's rmse: 0.129396\n",
      "[420]\ttraining's rmse: 0.00921821\tvalid_1's rmse: 0.129346\n",
      "[430]\ttraining's rmse: 0.00887587\tvalid_1's rmse: 0.129277\n",
      "[440]\ttraining's rmse: 0.00862456\tvalid_1's rmse: 0.129214\n",
      "[450]\ttraining's rmse: 0.00836868\tvalid_1's rmse: 0.129148\n",
      "[460]\ttraining's rmse: 0.00810523\tvalid_1's rmse: 0.129119\n",
      "[470]\ttraining's rmse: 0.00786211\tvalid_1's rmse: 0.129038\n",
      "[480]\ttraining's rmse: 0.0076445\tvalid_1's rmse: 0.128998\n",
      "[490]\ttraining's rmse: 0.00741095\tvalid_1's rmse: 0.128943\n",
      "[500]\ttraining's rmse: 0.00719153\tvalid_1's rmse: 0.128878\n",
      "[510]\ttraining's rmse: 0.00696982\tvalid_1's rmse: 0.128835\n",
      "[520]\ttraining's rmse: 0.00678245\tvalid_1's rmse: 0.128795\n",
      "[530]\ttraining's rmse: 0.00659194\tvalid_1's rmse: 0.128727\n",
      "[540]\ttraining's rmse: 0.00642729\tvalid_1's rmse: 0.12869\n",
      "[550]\ttraining's rmse: 0.00624528\tvalid_1's rmse: 0.128641\n",
      "[560]\ttraining's rmse: 0.00605872\tvalid_1's rmse: 0.128606\n",
      "[570]\ttraining's rmse: 0.00588289\tvalid_1's rmse: 0.128577\n",
      "[580]\ttraining's rmse: 0.00573515\tvalid_1's rmse: 0.128559\n",
      "[590]\ttraining's rmse: 0.00556272\tvalid_1's rmse: 0.128516\n",
      "[600]\ttraining's rmse: 0.00543375\tvalid_1's rmse: 0.128484\n",
      "[610]\ttraining's rmse: 0.00525923\tvalid_1's rmse: 0.128437\n",
      "[620]\ttraining's rmse: 0.00513652\tvalid_1's rmse: 0.128406\n",
      "[630]\ttraining's rmse: 0.00499041\tvalid_1's rmse: 0.128374\n",
      "[640]\ttraining's rmse: 0.00487293\tvalid_1's rmse: 0.12836\n",
      "[650]\ttraining's rmse: 0.00473631\tvalid_1's rmse: 0.12832\n",
      "[660]\ttraining's rmse: 0.00460394\tvalid_1's rmse: 0.128312\n",
      "[670]\ttraining's rmse: 0.00447605\tvalid_1's rmse: 0.128269\n",
      "[680]\ttraining's rmse: 0.00436175\tvalid_1's rmse: 0.128251\n",
      "[690]\ttraining's rmse: 0.00422399\tvalid_1's rmse: 0.128207\n",
      "[700]\ttraining's rmse: 0.00413213\tvalid_1's rmse: 0.128198\n",
      "[710]\ttraining's rmse: 0.00402125\tvalid_1's rmse: 0.128156\n",
      "[720]\ttraining's rmse: 0.00392609\tvalid_1's rmse: 0.128131\n",
      "[730]\ttraining's rmse: 0.00382678\tvalid_1's rmse: 0.12811\n",
      "[740]\ttraining's rmse: 0.00372196\tvalid_1's rmse: 0.128088\n",
      "[750]\ttraining's rmse: 0.00364246\tvalid_1's rmse: 0.128073\n",
      "[760]\ttraining's rmse: 0.00353094\tvalid_1's rmse: 0.128045\n",
      "[770]\ttraining's rmse: 0.00344505\tvalid_1's rmse: 0.128019\n",
      "[780]\ttraining's rmse: 0.00337231\tvalid_1's rmse: 0.127999\n",
      "[790]\ttraining's rmse: 0.00328589\tvalid_1's rmse: 0.127983\n",
      "[800]\ttraining's rmse: 0.00321339\tvalid_1's rmse: 0.127963\n",
      "[810]\ttraining's rmse: 0.00314603\tvalid_1's rmse: 0.127942\n",
      "[820]\ttraining's rmse: 0.0030713\tvalid_1's rmse: 0.127922\n",
      "[830]\ttraining's rmse: 0.00298713\tvalid_1's rmse: 0.127894\n",
      "[840]\ttraining's rmse: 0.00292209\tvalid_1's rmse: 0.127879\n",
      "[850]\ttraining's rmse: 0.00285246\tvalid_1's rmse: 0.127867\n",
      "[860]\ttraining's rmse: 0.00277398\tvalid_1's rmse: 0.127841\n",
      "[870]\ttraining's rmse: 0.00271081\tvalid_1's rmse: 0.127825\n",
      "[880]\ttraining's rmse: 0.00265876\tvalid_1's rmse: 0.127812\n",
      "[890]\ttraining's rmse: 0.00257598\tvalid_1's rmse: 0.127796\n",
      "[900]\ttraining's rmse: 0.00251033\tvalid_1's rmse: 0.127782\n",
      "[910]\ttraining's rmse: 0.00244747\tvalid_1's rmse: 0.127768\n",
      "[920]\ttraining's rmse: 0.0023726\tvalid_1's rmse: 0.127744\n",
      "[930]\ttraining's rmse: 0.00231222\tvalid_1's rmse: 0.127734\n",
      "[940]\ttraining's rmse: 0.00226024\tvalid_1's rmse: 0.127719\n",
      "[950]\ttraining's rmse: 0.00219223\tvalid_1's rmse: 0.127704\n",
      "[960]\ttraining's rmse: 0.00215051\tvalid_1's rmse: 0.127691\n",
      "[970]\ttraining's rmse: 0.00209004\tvalid_1's rmse: 0.127678\n",
      "[980]\ttraining's rmse: 0.00203924\tvalid_1's rmse: 0.127668\n",
      "[990]\ttraining's rmse: 0.00199731\tvalid_1's rmse: 0.127649\n",
      "[1000]\ttraining's rmse: 0.0019402\tvalid_1's rmse: 0.12764\n",
      "Did not meet early stopping. Best iteration is:\n",
      "[1000]\ttraining's rmse: 0.0019402\tvalid_1's rmse: 0.12764\n"
     ]
    },
    {
     "name": "stderr",
     "output_type": "stream",
     "text": [
      "num_leaves, val_score: 0.127640:  50%|########################5                        | 10/20 [00:18<00:20,  2.07s/it][I 2020-10-23 12:50:22,087] Trial 16 finished with value: 0.12764043729973376 and parameters: {'num_leaves': 67}. Best is trial 7 with value: 0.12764043729973376.\n",
      "num_leaves, val_score: 0.127640:  50%|########################5                        | 10/20 [00:18<00:20,  2.07s/it]"
     ]
    },
    {
     "name": "stdout",
     "output_type": "stream",
     "text": [
      "Training until validation scores don't improve for 10 rounds\n",
      "[10]\ttraining's rmse: 0.184362\tvalid_1's rmse: 0.189927\n",
      "[20]\ttraining's rmse: 0.110805\tvalid_1's rmse: 0.14531\n",
      "[30]\ttraining's rmse: 0.0840409\tvalid_1's rmse: 0.138621\n",
      "[40]\ttraining's rmse: 0.0705214\tvalid_1's rmse: 0.137144\n",
      "[50]\ttraining's rmse: 0.0618198\tvalid_1's rmse: 0.136186\n",
      "[60]\ttraining's rmse: 0.0551053\tvalid_1's rmse: 0.136044\n",
      "[70]\ttraining's rmse: 0.0498244\tvalid_1's rmse: 0.135584\n",
      "[80]\ttraining's rmse: 0.0451248\tvalid_1's rmse: 0.134966\n",
      "[90]\ttraining's rmse: 0.041251\tvalid_1's rmse: 0.134641\n",
      "[100]\ttraining's rmse: 0.0381693\tvalid_1's rmse: 0.134175\n",
      "[110]\ttraining's rmse: 0.0354996\tvalid_1's rmse: 0.133821\n",
      "[120]\ttraining's rmse: 0.0330515\tvalid_1's rmse: 0.133563\n",
      "[130]\ttraining's rmse: 0.0310352\tvalid_1's rmse: 0.133224\n",
      "[140]\ttraining's rmse: 0.0289493\tvalid_1's rmse: 0.132945\n",
      "[150]\ttraining's rmse: 0.0272524\tvalid_1's rmse: 0.132751\n",
      "[160]\ttraining's rmse: 0.0257506\tvalid_1's rmse: 0.132544\n",
      "[170]\ttraining's rmse: 0.0243414\tvalid_1's rmse: 0.13229\n",
      "[180]\ttraining's rmse: 0.0230822\tvalid_1's rmse: 0.132072\n",
      "[190]\ttraining's rmse: 0.0217804\tvalid_1's rmse: 0.131813\n",
      "[200]\ttraining's rmse: 0.0207709\tvalid_1's rmse: 0.131632\n",
      "[210]\ttraining's rmse: 0.0198286\tvalid_1's rmse: 0.13142\n",
      "[220]\ttraining's rmse: 0.0190145\tvalid_1's rmse: 0.13119\n",
      "[230]\ttraining's rmse: 0.0181916\tvalid_1's rmse: 0.131056\n",
      "[240]\ttraining's rmse: 0.0174056\tvalid_1's rmse: 0.130925\n",
      "[250]\ttraining's rmse: 0.0166835\tvalid_1's rmse: 0.13079\n",
      "[260]\ttraining's rmse: 0.0160376\tvalid_1's rmse: 0.130572\n",
      "[270]\ttraining's rmse: 0.0153429\tvalid_1's rmse: 0.130413\n",
      "[280]\ttraining's rmse: 0.0148055\tvalid_1's rmse: 0.130346\n",
      "[290]\ttraining's rmse: 0.014264\tvalid_1's rmse: 0.130226\n",
      "[300]\ttraining's rmse: 0.0137986\tvalid_1's rmse: 0.130097\n",
      "[310]\ttraining's rmse: 0.0132919\tvalid_1's rmse: 0.130088\n",
      "[320]\ttraining's rmse: 0.0127788\tvalid_1's rmse: 0.129963\n",
      "[330]\ttraining's rmse: 0.012337\tvalid_1's rmse: 0.129874\n",
      "[340]\ttraining's rmse: 0.0118934\tvalid_1's rmse: 0.129772\n",
      "[350]\ttraining's rmse: 0.0115127\tvalid_1's rmse: 0.12972\n",
      "[360]\ttraining's rmse: 0.0111389\tvalid_1's rmse: 0.129662\n",
      "[370]\ttraining's rmse: 0.0107519\tvalid_1's rmse: 0.129597\n",
      "[380]\ttraining's rmse: 0.0104032\tvalid_1's rmse: 0.129519\n",
      "[390]\ttraining's rmse: 0.0100853\tvalid_1's rmse: 0.129494\n",
      "[400]\ttraining's rmse: 0.00977917\tvalid_1's rmse: 0.129432\n",
      "[410]\ttraining's rmse: 0.00948939\tvalid_1's rmse: 0.129396\n",
      "[420]\ttraining's rmse: 0.00921821\tvalid_1's rmse: 0.129346\n",
      "[430]\ttraining's rmse: 0.00887587\tvalid_1's rmse: 0.129277\n",
      "[440]\ttraining's rmse: 0.00862456\tvalid_1's rmse: 0.129214\n",
      "[450]\ttraining's rmse: 0.00836868\tvalid_1's rmse: 0.129148\n",
      "[460]\ttraining's rmse: 0.00810523\tvalid_1's rmse: 0.129119\n",
      "[470]\ttraining's rmse: 0.00786211\tvalid_1's rmse: 0.129038\n",
      "[480]\ttraining's rmse: 0.0076445\tvalid_1's rmse: 0.128998\n",
      "[490]\ttraining's rmse: 0.00741095\tvalid_1's rmse: 0.128943\n",
      "[500]\ttraining's rmse: 0.00719153\tvalid_1's rmse: 0.128878\n",
      "[510]\ttraining's rmse: 0.00696982\tvalid_1's rmse: 0.128835\n",
      "[520]\ttraining's rmse: 0.00678245\tvalid_1's rmse: 0.128795\n",
      "[530]\ttraining's rmse: 0.00659194\tvalid_1's rmse: 0.128727\n",
      "[540]\ttraining's rmse: 0.00642729\tvalid_1's rmse: 0.12869\n",
      "[550]\ttraining's rmse: 0.00624528\tvalid_1's rmse: 0.128641\n",
      "[560]\ttraining's rmse: 0.00605872\tvalid_1's rmse: 0.128606\n",
      "[570]\ttraining's rmse: 0.00588289\tvalid_1's rmse: 0.128577\n",
      "[580]\ttraining's rmse: 0.00573515\tvalid_1's rmse: 0.128559\n",
      "[590]\ttraining's rmse: 0.00556272\tvalid_1's rmse: 0.128516\n",
      "[600]\ttraining's rmse: 0.00543375\tvalid_1's rmse: 0.128484\n",
      "[610]\ttraining's rmse: 0.00525923\tvalid_1's rmse: 0.128437\n",
      "[620]\ttraining's rmse: 0.00513652\tvalid_1's rmse: 0.128406\n",
      "[630]\ttraining's rmse: 0.00499041\tvalid_1's rmse: 0.128374\n",
      "[640]\ttraining's rmse: 0.00487293\tvalid_1's rmse: 0.12836\n",
      "[650]\ttraining's rmse: 0.00473631\tvalid_1's rmse: 0.12832\n",
      "[660]\ttraining's rmse: 0.00460394\tvalid_1's rmse: 0.128312\n",
      "[670]\ttraining's rmse: 0.00447605\tvalid_1's rmse: 0.128269\n",
      "[680]\ttraining's rmse: 0.00436175\tvalid_1's rmse: 0.128251\n",
      "[690]\ttraining's rmse: 0.00422399\tvalid_1's rmse: 0.128207\n",
      "[700]\ttraining's rmse: 0.00413213\tvalid_1's rmse: 0.128198\n",
      "[710]\ttraining's rmse: 0.00402125\tvalid_1's rmse: 0.128156\n",
      "[720]\ttraining's rmse: 0.00392609\tvalid_1's rmse: 0.128131\n",
      "[730]\ttraining's rmse: 0.00382678\tvalid_1's rmse: 0.12811\n",
      "[740]\ttraining's rmse: 0.00372196\tvalid_1's rmse: 0.128088\n",
      "[750]\ttraining's rmse: 0.00364246\tvalid_1's rmse: 0.128073\n",
      "[760]\ttraining's rmse: 0.00353094\tvalid_1's rmse: 0.128045\n",
      "[770]\ttraining's rmse: 0.00344505\tvalid_1's rmse: 0.128019\n",
      "[780]\ttraining's rmse: 0.00337231\tvalid_1's rmse: 0.127999\n",
      "[790]\ttraining's rmse: 0.00328589\tvalid_1's rmse: 0.127983\n",
      "[800]\ttraining's rmse: 0.00321339\tvalid_1's rmse: 0.127963\n",
      "[810]\ttraining's rmse: 0.00314603\tvalid_1's rmse: 0.127942\n",
      "[820]\ttraining's rmse: 0.0030713\tvalid_1's rmse: 0.127922\n",
      "[830]\ttraining's rmse: 0.00298713\tvalid_1's rmse: 0.127894\n",
      "[840]\ttraining's rmse: 0.00292209\tvalid_1's rmse: 0.127879\n",
      "[850]\ttraining's rmse: 0.00285246\tvalid_1's rmse: 0.127867\n",
      "[860]\ttraining's rmse: 0.00277398\tvalid_1's rmse: 0.127841\n",
      "[870]\ttraining's rmse: 0.00271081\tvalid_1's rmse: 0.127825\n",
      "[880]\ttraining's rmse: 0.00265876\tvalid_1's rmse: 0.127812\n",
      "[890]\ttraining's rmse: 0.00257598\tvalid_1's rmse: 0.127796\n",
      "[900]\ttraining's rmse: 0.00251033\tvalid_1's rmse: 0.127782\n",
      "[910]\ttraining's rmse: 0.00244747\tvalid_1's rmse: 0.127768\n",
      "[920]\ttraining's rmse: 0.0023726\tvalid_1's rmse: 0.127744\n",
      "[930]\ttraining's rmse: 0.00231222\tvalid_1's rmse: 0.127734\n",
      "[940]\ttraining's rmse: 0.00226024\tvalid_1's rmse: 0.127719\n",
      "[950]\ttraining's rmse: 0.00219223\tvalid_1's rmse: 0.127704\n",
      "[960]\ttraining's rmse: 0.00215051\tvalid_1's rmse: 0.127691\n",
      "[970]\ttraining's rmse: 0.00209004\tvalid_1's rmse: 0.127678\n",
      "[980]\ttraining's rmse: 0.00203924\tvalid_1's rmse: 0.127668\n",
      "[990]\ttraining's rmse: 0.00199731\tvalid_1's rmse: 0.127649\n",
      "[1000]\ttraining's rmse: 0.0019402\tvalid_1's rmse: 0.12764\n",
      "Did not meet early stopping. Best iteration is:\n",
      "[1000]\ttraining's rmse: 0.0019402\tvalid_1's rmse: 0.12764\n"
     ]
    },
    {
     "name": "stderr",
     "output_type": "stream",
     "text": [
      "num_leaves, val_score: 0.127640:  55%|##########################9                      | 11/20 [00:20<00:18,  2.05s/it][I 2020-10-23 12:50:24,114] Trial 17 finished with value: 0.12764043729973376 and parameters: {'num_leaves': 187}. Best is trial 7 with value: 0.12764043729973376.\n",
      "num_leaves, val_score: 0.127640:  55%|##########################9                      | 11/20 [00:20<00:18,  2.05s/it]"
     ]
    },
    {
     "name": "stdout",
     "output_type": "stream",
     "text": [
      "Training until validation scores don't improve for 10 rounds\n",
      "[10]\ttraining's rmse: 0.184362\tvalid_1's rmse: 0.189927\n",
      "[20]\ttraining's rmse: 0.110805\tvalid_1's rmse: 0.14531\n",
      "[30]\ttraining's rmse: 0.0840409\tvalid_1's rmse: 0.138621\n",
      "[40]\ttraining's rmse: 0.0705214\tvalid_1's rmse: 0.137144\n",
      "[50]\ttraining's rmse: 0.0618198\tvalid_1's rmse: 0.136186\n",
      "[60]\ttraining's rmse: 0.0551053\tvalid_1's rmse: 0.136044\n",
      "[70]\ttraining's rmse: 0.0498244\tvalid_1's rmse: 0.135584\n",
      "[80]\ttraining's rmse: 0.0451248\tvalid_1's rmse: 0.134966\n",
      "[90]\ttraining's rmse: 0.041251\tvalid_1's rmse: 0.134641\n",
      "[100]\ttraining's rmse: 0.0381693\tvalid_1's rmse: 0.134175\n",
      "[110]\ttraining's rmse: 0.0354996\tvalid_1's rmse: 0.133821\n",
      "[120]\ttraining's rmse: 0.0330515\tvalid_1's rmse: 0.133563\n",
      "[130]\ttraining's rmse: 0.0310352\tvalid_1's rmse: 0.133224\n",
      "[140]\ttraining's rmse: 0.0289493\tvalid_1's rmse: 0.132945\n",
      "[150]\ttraining's rmse: 0.0272524\tvalid_1's rmse: 0.132751\n",
      "[160]\ttraining's rmse: 0.0257506\tvalid_1's rmse: 0.132544\n",
      "[170]\ttraining's rmse: 0.0243414\tvalid_1's rmse: 0.13229\n",
      "[180]\ttraining's rmse: 0.0230822\tvalid_1's rmse: 0.132072\n",
      "[190]\ttraining's rmse: 0.0217804\tvalid_1's rmse: 0.131813\n",
      "[200]\ttraining's rmse: 0.0207709\tvalid_1's rmse: 0.131632\n",
      "[210]\ttraining's rmse: 0.0198286\tvalid_1's rmse: 0.13142\n",
      "[220]\ttraining's rmse: 0.0190145\tvalid_1's rmse: 0.13119\n",
      "[230]\ttraining's rmse: 0.0181916\tvalid_1's rmse: 0.131056\n",
      "[240]\ttraining's rmse: 0.0174056\tvalid_1's rmse: 0.130925\n",
      "[250]\ttraining's rmse: 0.0166835\tvalid_1's rmse: 0.13079\n",
      "[260]\ttraining's rmse: 0.0160376\tvalid_1's rmse: 0.130572\n",
      "[270]\ttraining's rmse: 0.0153429\tvalid_1's rmse: 0.130413\n",
      "[280]\ttraining's rmse: 0.0148055\tvalid_1's rmse: 0.130346\n",
      "[290]\ttraining's rmse: 0.014264\tvalid_1's rmse: 0.130226\n",
      "[300]\ttraining's rmse: 0.0137986\tvalid_1's rmse: 0.130097\n",
      "[310]\ttraining's rmse: 0.0132919\tvalid_1's rmse: 0.130088\n",
      "[320]\ttraining's rmse: 0.0127788\tvalid_1's rmse: 0.129963\n",
      "[330]\ttraining's rmse: 0.012337\tvalid_1's rmse: 0.129874\n",
      "[340]\ttraining's rmse: 0.0118934\tvalid_1's rmse: 0.129772\n",
      "[350]\ttraining's rmse: 0.0115127\tvalid_1's rmse: 0.12972\n",
      "[360]\ttraining's rmse: 0.0111389\tvalid_1's rmse: 0.129662\n",
      "[370]\ttraining's rmse: 0.0107519\tvalid_1's rmse: 0.129597\n",
      "[380]\ttraining's rmse: 0.0104032\tvalid_1's rmse: 0.129519\n",
      "[390]\ttraining's rmse: 0.0100853\tvalid_1's rmse: 0.129494\n",
      "[400]\ttraining's rmse: 0.00977917\tvalid_1's rmse: 0.129432\n",
      "[410]\ttraining's rmse: 0.00948939\tvalid_1's rmse: 0.129396\n",
      "[420]\ttraining's rmse: 0.00921821\tvalid_1's rmse: 0.129346\n",
      "[430]\ttraining's rmse: 0.00887587\tvalid_1's rmse: 0.129277\n",
      "[440]\ttraining's rmse: 0.00862456\tvalid_1's rmse: 0.129214\n",
      "[450]\ttraining's rmse: 0.00836868\tvalid_1's rmse: 0.129148\n",
      "[460]\ttraining's rmse: 0.00810523\tvalid_1's rmse: 0.129119\n",
      "[470]\ttraining's rmse: 0.00786211\tvalid_1's rmse: 0.129038\n",
      "[480]\ttraining's rmse: 0.0076445\tvalid_1's rmse: 0.128998\n",
      "[490]\ttraining's rmse: 0.00741095\tvalid_1's rmse: 0.128943\n",
      "[500]\ttraining's rmse: 0.00719153\tvalid_1's rmse: 0.128878\n",
      "[510]\ttraining's rmse: 0.00696982\tvalid_1's rmse: 0.128835\n",
      "[520]\ttraining's rmse: 0.00678245\tvalid_1's rmse: 0.128795\n",
      "[530]\ttraining's rmse: 0.00659194\tvalid_1's rmse: 0.128727\n",
      "[540]\ttraining's rmse: 0.00642729\tvalid_1's rmse: 0.12869\n",
      "[550]\ttraining's rmse: 0.00624528\tvalid_1's rmse: 0.128641\n",
      "[560]\ttraining's rmse: 0.00605872\tvalid_1's rmse: 0.128606\n",
      "[570]\ttraining's rmse: 0.00588289\tvalid_1's rmse: 0.128577\n",
      "[580]\ttraining's rmse: 0.00573515\tvalid_1's rmse: 0.128559\n",
      "[590]\ttraining's rmse: 0.00556272\tvalid_1's rmse: 0.128516\n",
      "[600]\ttraining's rmse: 0.00543375\tvalid_1's rmse: 0.128484\n",
      "[610]\ttraining's rmse: 0.00525923\tvalid_1's rmse: 0.128437\n",
      "[620]\ttraining's rmse: 0.00513652\tvalid_1's rmse: 0.128406\n",
      "[630]\ttraining's rmse: 0.00499041\tvalid_1's rmse: 0.128374\n",
      "[640]\ttraining's rmse: 0.00487293\tvalid_1's rmse: 0.12836\n",
      "[650]\ttraining's rmse: 0.00473631\tvalid_1's rmse: 0.12832\n",
      "[660]\ttraining's rmse: 0.00460394\tvalid_1's rmse: 0.128312\n",
      "[670]\ttraining's rmse: 0.00447605\tvalid_1's rmse: 0.128269\n",
      "[680]\ttraining's rmse: 0.00436175\tvalid_1's rmse: 0.128251\n",
      "[690]\ttraining's rmse: 0.00422399\tvalid_1's rmse: 0.128207\n",
      "[700]\ttraining's rmse: 0.00413213\tvalid_1's rmse: 0.128198\n",
      "[710]\ttraining's rmse: 0.00402125\tvalid_1's rmse: 0.128156\n",
      "[720]\ttraining's rmse: 0.00392609\tvalid_1's rmse: 0.128131\n",
      "[730]\ttraining's rmse: 0.00382678\tvalid_1's rmse: 0.12811\n",
      "[740]\ttraining's rmse: 0.00372196\tvalid_1's rmse: 0.128088\n",
      "[750]\ttraining's rmse: 0.00364246\tvalid_1's rmse: 0.128073\n",
      "[760]\ttraining's rmse: 0.00353094\tvalid_1's rmse: 0.128045\n",
      "[770]\ttraining's rmse: 0.00344505\tvalid_1's rmse: 0.128019\n",
      "[780]\ttraining's rmse: 0.00337231\tvalid_1's rmse: 0.127999\n",
      "[790]\ttraining's rmse: 0.00328589\tvalid_1's rmse: 0.127983\n",
      "[800]\ttraining's rmse: 0.00321339\tvalid_1's rmse: 0.127963\n",
      "[810]\ttraining's rmse: 0.00314603\tvalid_1's rmse: 0.127942\n",
      "[820]\ttraining's rmse: 0.0030713\tvalid_1's rmse: 0.127922\n",
      "[830]\ttraining's rmse: 0.00298713\tvalid_1's rmse: 0.127894\n",
      "[840]\ttraining's rmse: 0.00292209\tvalid_1's rmse: 0.127879\n",
      "[850]\ttraining's rmse: 0.00285246\tvalid_1's rmse: 0.127867\n",
      "[860]\ttraining's rmse: 0.00277398\tvalid_1's rmse: 0.127841\n",
      "[870]\ttraining's rmse: 0.00271081\tvalid_1's rmse: 0.127825\n",
      "[880]\ttraining's rmse: 0.00265876\tvalid_1's rmse: 0.127812\n",
      "[890]\ttraining's rmse: 0.00257598\tvalid_1's rmse: 0.127796\n",
      "[900]\ttraining's rmse: 0.00251033\tvalid_1's rmse: 0.127782\n",
      "[910]\ttraining's rmse: 0.00244747\tvalid_1's rmse: 0.127768\n",
      "[920]\ttraining's rmse: 0.0023726\tvalid_1's rmse: 0.127744\n",
      "[930]\ttraining's rmse: 0.00231222\tvalid_1's rmse: 0.127734\n",
      "[940]\ttraining's rmse: 0.00226024\tvalid_1's rmse: 0.127719\n",
      "[950]\ttraining's rmse: 0.00219223\tvalid_1's rmse: 0.127704\n",
      "[960]\ttraining's rmse: 0.00215051\tvalid_1's rmse: 0.127691\n",
      "[970]\ttraining's rmse: 0.00209004\tvalid_1's rmse: 0.127678\n",
      "[980]\ttraining's rmse: 0.00203924\tvalid_1's rmse: 0.127668\n",
      "[990]\ttraining's rmse: 0.00199731\tvalid_1's rmse: 0.127649\n",
      "[1000]\ttraining's rmse: 0.0019402\tvalid_1's rmse: 0.12764\n",
      "Did not meet early stopping. Best iteration is:\n",
      "[1000]\ttraining's rmse: 0.0019402\tvalid_1's rmse: 0.12764\n"
     ]
    },
    {
     "name": "stderr",
     "output_type": "stream",
     "text": [
      "num_leaves, val_score: 0.127640:  60%|#############################4                   | 12/20 [00:22<00:16,  2.05s/it][I 2020-10-23 12:50:26,168] Trial 18 finished with value: 0.12764043729973376 and parameters: {'num_leaves': 251}. Best is trial 7 with value: 0.12764043729973376.\n",
      "num_leaves, val_score: 0.127640:  60%|#############################4                   | 12/20 [00:22<00:16,  2.05s/it]"
     ]
    },
    {
     "name": "stdout",
     "output_type": "stream",
     "text": [
      "Training until validation scores don't improve for 10 rounds\n",
      "[10]\ttraining's rmse: 0.184362\tvalid_1's rmse: 0.189927\n",
      "[20]\ttraining's rmse: 0.110805\tvalid_1's rmse: 0.14531\n",
      "[30]\ttraining's rmse: 0.0840409\tvalid_1's rmse: 0.138621\n",
      "[40]\ttraining's rmse: 0.0705214\tvalid_1's rmse: 0.137144\n",
      "[50]\ttraining's rmse: 0.0618198\tvalid_1's rmse: 0.136186\n",
      "[60]\ttraining's rmse: 0.0551053\tvalid_1's rmse: 0.136044\n",
      "[70]\ttraining's rmse: 0.0498244\tvalid_1's rmse: 0.135584\n",
      "[80]\ttraining's rmse: 0.0451248\tvalid_1's rmse: 0.134966\n",
      "[90]\ttraining's rmse: 0.041251\tvalid_1's rmse: 0.134641\n",
      "[100]\ttraining's rmse: 0.0381693\tvalid_1's rmse: 0.134175\n",
      "[110]\ttraining's rmse: 0.0354996\tvalid_1's rmse: 0.133821\n",
      "[120]\ttraining's rmse: 0.0330515\tvalid_1's rmse: 0.133563\n",
      "[130]\ttraining's rmse: 0.0310352\tvalid_1's rmse: 0.133224\n",
      "[140]\ttraining's rmse: 0.0289493\tvalid_1's rmse: 0.132945\n",
      "[150]\ttraining's rmse: 0.0272524\tvalid_1's rmse: 0.132751\n",
      "[160]\ttraining's rmse: 0.0257506\tvalid_1's rmse: 0.132544\n",
      "[170]\ttraining's rmse: 0.0243414\tvalid_1's rmse: 0.13229\n",
      "[180]\ttraining's rmse: 0.0230822\tvalid_1's rmse: 0.132072\n",
      "[190]\ttraining's rmse: 0.0217804\tvalid_1's rmse: 0.131813\n",
      "[200]\ttraining's rmse: 0.0207709\tvalid_1's rmse: 0.131632\n",
      "[210]\ttraining's rmse: 0.0198286\tvalid_1's rmse: 0.13142\n",
      "[220]\ttraining's rmse: 0.0190145\tvalid_1's rmse: 0.13119\n",
      "[230]\ttraining's rmse: 0.0181916\tvalid_1's rmse: 0.131056\n",
      "[240]\ttraining's rmse: 0.0174056\tvalid_1's rmse: 0.130925\n",
      "[250]\ttraining's rmse: 0.0166835\tvalid_1's rmse: 0.13079\n",
      "[260]\ttraining's rmse: 0.0160376\tvalid_1's rmse: 0.130572\n",
      "[270]\ttraining's rmse: 0.0153429\tvalid_1's rmse: 0.130413\n",
      "[280]\ttraining's rmse: 0.0148055\tvalid_1's rmse: 0.130346\n",
      "[290]\ttraining's rmse: 0.014264\tvalid_1's rmse: 0.130226\n",
      "[300]\ttraining's rmse: 0.0137986\tvalid_1's rmse: 0.130097\n",
      "[310]\ttraining's rmse: 0.0132919\tvalid_1's rmse: 0.130088\n",
      "[320]\ttraining's rmse: 0.0127788\tvalid_1's rmse: 0.129963\n",
      "[330]\ttraining's rmse: 0.012337\tvalid_1's rmse: 0.129874\n",
      "[340]\ttraining's rmse: 0.0118934\tvalid_1's rmse: 0.129772\n",
      "[350]\ttraining's rmse: 0.0115127\tvalid_1's rmse: 0.12972\n",
      "[360]\ttraining's rmse: 0.0111389\tvalid_1's rmse: 0.129662\n",
      "[370]\ttraining's rmse: 0.0107519\tvalid_1's rmse: 0.129597\n",
      "[380]\ttraining's rmse: 0.0104032\tvalid_1's rmse: 0.129519\n",
      "[390]\ttraining's rmse: 0.0100853\tvalid_1's rmse: 0.129494\n",
      "[400]\ttraining's rmse: 0.00977917\tvalid_1's rmse: 0.129432\n",
      "[410]\ttraining's rmse: 0.00948939\tvalid_1's rmse: 0.129396\n",
      "[420]\ttraining's rmse: 0.00921821\tvalid_1's rmse: 0.129346\n",
      "[430]\ttraining's rmse: 0.00887587\tvalid_1's rmse: 0.129277\n",
      "[440]\ttraining's rmse: 0.00862456\tvalid_1's rmse: 0.129214\n",
      "[450]\ttraining's rmse: 0.00836868\tvalid_1's rmse: 0.129148\n",
      "[460]\ttraining's rmse: 0.00810523\tvalid_1's rmse: 0.129119\n",
      "[470]\ttraining's rmse: 0.00786211\tvalid_1's rmse: 0.129038\n",
      "[480]\ttraining's rmse: 0.0076445\tvalid_1's rmse: 0.128998\n",
      "[490]\ttraining's rmse: 0.00741095\tvalid_1's rmse: 0.128943\n",
      "[500]\ttraining's rmse: 0.00719153\tvalid_1's rmse: 0.128878\n",
      "[510]\ttraining's rmse: 0.00696982\tvalid_1's rmse: 0.128835\n",
      "[520]\ttraining's rmse: 0.00678245\tvalid_1's rmse: 0.128795\n",
      "[530]\ttraining's rmse: 0.00659194\tvalid_1's rmse: 0.128727\n",
      "[540]\ttraining's rmse: 0.00642729\tvalid_1's rmse: 0.12869\n",
      "[550]\ttraining's rmse: 0.00624528\tvalid_1's rmse: 0.128641\n",
      "[560]\ttraining's rmse: 0.00605872\tvalid_1's rmse: 0.128606\n",
      "[570]\ttraining's rmse: 0.00588289\tvalid_1's rmse: 0.128577\n",
      "[580]\ttraining's rmse: 0.00573515\tvalid_1's rmse: 0.128559\n",
      "[590]\ttraining's rmse: 0.00556272\tvalid_1's rmse: 0.128516\n",
      "[600]\ttraining's rmse: 0.00543375\tvalid_1's rmse: 0.128484\n",
      "[610]\ttraining's rmse: 0.00525923\tvalid_1's rmse: 0.128437\n",
      "[620]\ttraining's rmse: 0.00513652\tvalid_1's rmse: 0.128406\n",
      "[630]\ttraining's rmse: 0.00499041\tvalid_1's rmse: 0.128374\n",
      "[640]\ttraining's rmse: 0.00487293\tvalid_1's rmse: 0.12836\n",
      "[650]\ttraining's rmse: 0.00473631\tvalid_1's rmse: 0.12832\n",
      "[660]\ttraining's rmse: 0.00460394\tvalid_1's rmse: 0.128312\n",
      "[670]\ttraining's rmse: 0.00447605\tvalid_1's rmse: 0.128269\n",
      "[680]\ttraining's rmse: 0.00436175\tvalid_1's rmse: 0.128251\n",
      "[690]\ttraining's rmse: 0.00422399\tvalid_1's rmse: 0.128207\n",
      "[700]\ttraining's rmse: 0.00413213\tvalid_1's rmse: 0.128198\n",
      "[710]\ttraining's rmse: 0.00402125\tvalid_1's rmse: 0.128156\n",
      "[720]\ttraining's rmse: 0.00392609\tvalid_1's rmse: 0.128131\n",
      "[730]\ttraining's rmse: 0.00382678\tvalid_1's rmse: 0.12811\n",
      "[740]\ttraining's rmse: 0.00372196\tvalid_1's rmse: 0.128088\n",
      "[750]\ttraining's rmse: 0.00364246\tvalid_1's rmse: 0.128073\n",
      "[760]\ttraining's rmse: 0.00353094\tvalid_1's rmse: 0.128045\n",
      "[770]\ttraining's rmse: 0.00344505\tvalid_1's rmse: 0.128019\n",
      "[780]\ttraining's rmse: 0.00337231\tvalid_1's rmse: 0.127999\n",
      "[790]\ttraining's rmse: 0.00328589\tvalid_1's rmse: 0.127983\n",
      "[800]\ttraining's rmse: 0.00321339\tvalid_1's rmse: 0.127963\n",
      "[810]\ttraining's rmse: 0.00314603\tvalid_1's rmse: 0.127942\n",
      "[820]\ttraining's rmse: 0.0030713\tvalid_1's rmse: 0.127922\n",
      "[830]\ttraining's rmse: 0.00298713\tvalid_1's rmse: 0.127894\n",
      "[840]\ttraining's rmse: 0.00292209\tvalid_1's rmse: 0.127879\n",
      "[850]\ttraining's rmse: 0.00285246\tvalid_1's rmse: 0.127867\n",
      "[860]\ttraining's rmse: 0.00277398\tvalid_1's rmse: 0.127841\n",
      "[870]\ttraining's rmse: 0.00271081\tvalid_1's rmse: 0.127825\n",
      "[880]\ttraining's rmse: 0.00265876\tvalid_1's rmse: 0.127812\n",
      "[890]\ttraining's rmse: 0.00257598\tvalid_1's rmse: 0.127796\n",
      "[900]\ttraining's rmse: 0.00251033\tvalid_1's rmse: 0.127782\n",
      "[910]\ttraining's rmse: 0.00244747\tvalid_1's rmse: 0.127768\n",
      "[920]\ttraining's rmse: 0.0023726\tvalid_1's rmse: 0.127744\n",
      "[930]\ttraining's rmse: 0.00231222\tvalid_1's rmse: 0.127734\n",
      "[940]\ttraining's rmse: 0.00226024\tvalid_1's rmse: 0.127719\n",
      "[950]\ttraining's rmse: 0.00219223\tvalid_1's rmse: 0.127704\n",
      "[960]\ttraining's rmse: 0.00215051\tvalid_1's rmse: 0.127691\n",
      "[970]\ttraining's rmse: 0.00209004\tvalid_1's rmse: 0.127678\n",
      "[980]\ttraining's rmse: 0.00203924\tvalid_1's rmse: 0.127668\n",
      "[990]\ttraining's rmse: 0.00199731\tvalid_1's rmse: 0.127649\n",
      "[1000]\ttraining's rmse: 0.0019402\tvalid_1's rmse: 0.12764\n",
      "Did not meet early stopping. Best iteration is:\n",
      "[1000]\ttraining's rmse: 0.0019402\tvalid_1's rmse: 0.12764\n"
     ]
    },
    {
     "name": "stderr",
     "output_type": "stream",
     "text": [
      "num_leaves, val_score: 0.127640:  65%|###############################8                 | 13/20 [00:25<00:14,  2.06s/it][I 2020-10-23 12:50:28,239] Trial 19 finished with value: 0.12764043729973376 and parameters: {'num_leaves': 70}. Best is trial 7 with value: 0.12764043729973376.\n",
      "num_leaves, val_score: 0.127640:  65%|###############################8                 | 13/20 [00:25<00:14,  2.06s/it]"
     ]
    },
    {
     "name": "stdout",
     "output_type": "stream",
     "text": [
      "Training until validation scores don't improve for 10 rounds\n",
      "[10]\ttraining's rmse: 0.184362\tvalid_1's rmse: 0.189927\n",
      "[20]\ttraining's rmse: 0.110805\tvalid_1's rmse: 0.14531\n",
      "[30]\ttraining's rmse: 0.0840409\tvalid_1's rmse: 0.138621\n",
      "[40]\ttraining's rmse: 0.0705214\tvalid_1's rmse: 0.137144\n",
      "[50]\ttraining's rmse: 0.0618198\tvalid_1's rmse: 0.136186\n",
      "[60]\ttraining's rmse: 0.0551053\tvalid_1's rmse: 0.136044\n",
      "[70]\ttraining's rmse: 0.0498244\tvalid_1's rmse: 0.135584\n",
      "[80]\ttraining's rmse: 0.0451248\tvalid_1's rmse: 0.134966\n",
      "[90]\ttraining's rmse: 0.041251\tvalid_1's rmse: 0.134641\n",
      "[100]\ttraining's rmse: 0.0381693\tvalid_1's rmse: 0.134175\n",
      "[110]\ttraining's rmse: 0.0354996\tvalid_1's rmse: 0.133821\n",
      "[120]\ttraining's rmse: 0.0330515\tvalid_1's rmse: 0.133563\n",
      "[130]\ttraining's rmse: 0.0310352\tvalid_1's rmse: 0.133224\n",
      "[140]\ttraining's rmse: 0.0289493\tvalid_1's rmse: 0.132945\n",
      "[150]\ttraining's rmse: 0.0272524\tvalid_1's rmse: 0.132751\n",
      "[160]\ttraining's rmse: 0.0257506\tvalid_1's rmse: 0.132544\n",
      "[170]\ttraining's rmse: 0.0243414\tvalid_1's rmse: 0.13229\n",
      "[180]\ttraining's rmse: 0.0230822\tvalid_1's rmse: 0.132072\n",
      "[190]\ttraining's rmse: 0.0217804\tvalid_1's rmse: 0.131813\n",
      "[200]\ttraining's rmse: 0.0207709\tvalid_1's rmse: 0.131632\n",
      "[210]\ttraining's rmse: 0.0198286\tvalid_1's rmse: 0.13142\n",
      "[220]\ttraining's rmse: 0.0190145\tvalid_1's rmse: 0.13119\n",
      "[230]\ttraining's rmse: 0.0181916\tvalid_1's rmse: 0.131056\n",
      "[240]\ttraining's rmse: 0.0174056\tvalid_1's rmse: 0.130925\n",
      "[250]\ttraining's rmse: 0.0166835\tvalid_1's rmse: 0.13079\n",
      "[260]\ttraining's rmse: 0.0160376\tvalid_1's rmse: 0.130572\n",
      "[270]\ttraining's rmse: 0.0153429\tvalid_1's rmse: 0.130413\n",
      "[280]\ttraining's rmse: 0.0148055\tvalid_1's rmse: 0.130346\n",
      "[290]\ttraining's rmse: 0.014264\tvalid_1's rmse: 0.130226\n",
      "[300]\ttraining's rmse: 0.0137986\tvalid_1's rmse: 0.130097\n",
      "[310]\ttraining's rmse: 0.0132919\tvalid_1's rmse: 0.130088\n",
      "[320]\ttraining's rmse: 0.0127788\tvalid_1's rmse: 0.129963\n",
      "[330]\ttraining's rmse: 0.012337\tvalid_1's rmse: 0.129874\n",
      "[340]\ttraining's rmse: 0.0118934\tvalid_1's rmse: 0.129772\n",
      "[350]\ttraining's rmse: 0.0115127\tvalid_1's rmse: 0.12972\n",
      "[360]\ttraining's rmse: 0.0111389\tvalid_1's rmse: 0.129662\n",
      "[370]\ttraining's rmse: 0.0107519\tvalid_1's rmse: 0.129597\n",
      "[380]\ttraining's rmse: 0.0104032\tvalid_1's rmse: 0.129519\n",
      "[390]\ttraining's rmse: 0.0100853\tvalid_1's rmse: 0.129494\n",
      "[400]\ttraining's rmse: 0.00977917\tvalid_1's rmse: 0.129432\n",
      "[410]\ttraining's rmse: 0.00948939\tvalid_1's rmse: 0.129396\n",
      "[420]\ttraining's rmse: 0.00921821\tvalid_1's rmse: 0.129346\n",
      "[430]\ttraining's rmse: 0.00887587\tvalid_1's rmse: 0.129277\n",
      "[440]\ttraining's rmse: 0.00862456\tvalid_1's rmse: 0.129214\n",
      "[450]\ttraining's rmse: 0.00836868\tvalid_1's rmse: 0.129148\n",
      "[460]\ttraining's rmse: 0.00810523\tvalid_1's rmse: 0.129119\n",
      "[470]\ttraining's rmse: 0.00786211\tvalid_1's rmse: 0.129038\n",
      "[480]\ttraining's rmse: 0.0076445\tvalid_1's rmse: 0.128998\n",
      "[490]\ttraining's rmse: 0.00741095\tvalid_1's rmse: 0.128943\n",
      "[500]\ttraining's rmse: 0.00719153\tvalid_1's rmse: 0.128878\n",
      "[510]\ttraining's rmse: 0.00696982\tvalid_1's rmse: 0.128835\n",
      "[520]\ttraining's rmse: 0.00678245\tvalid_1's rmse: 0.128795\n",
      "[530]\ttraining's rmse: 0.00659194\tvalid_1's rmse: 0.128727\n",
      "[540]\ttraining's rmse: 0.00642729\tvalid_1's rmse: 0.12869\n",
      "[550]\ttraining's rmse: 0.00624528\tvalid_1's rmse: 0.128641\n",
      "[560]\ttraining's rmse: 0.00605872\tvalid_1's rmse: 0.128606\n",
      "[570]\ttraining's rmse: 0.00588289\tvalid_1's rmse: 0.128577\n",
      "[580]\ttraining's rmse: 0.00573515\tvalid_1's rmse: 0.128559\n",
      "[590]\ttraining's rmse: 0.00556272\tvalid_1's rmse: 0.128516\n",
      "[600]\ttraining's rmse: 0.00543375\tvalid_1's rmse: 0.128484\n",
      "[610]\ttraining's rmse: 0.00525923\tvalid_1's rmse: 0.128437\n",
      "[620]\ttraining's rmse: 0.00513652\tvalid_1's rmse: 0.128406\n",
      "[630]\ttraining's rmse: 0.00499041\tvalid_1's rmse: 0.128374\n",
      "[640]\ttraining's rmse: 0.00487293\tvalid_1's rmse: 0.12836\n",
      "[650]\ttraining's rmse: 0.00473631\tvalid_1's rmse: 0.12832\n",
      "[660]\ttraining's rmse: 0.00460394\tvalid_1's rmse: 0.128312\n",
      "[670]\ttraining's rmse: 0.00447605\tvalid_1's rmse: 0.128269\n",
      "[680]\ttraining's rmse: 0.00436175\tvalid_1's rmse: 0.128251\n",
      "[690]\ttraining's rmse: 0.00422399\tvalid_1's rmse: 0.128207\n",
      "[700]\ttraining's rmse: 0.00413213\tvalid_1's rmse: 0.128198\n",
      "[710]\ttraining's rmse: 0.00402125\tvalid_1's rmse: 0.128156\n",
      "[720]\ttraining's rmse: 0.00392609\tvalid_1's rmse: 0.128131\n",
      "[730]\ttraining's rmse: 0.00382678\tvalid_1's rmse: 0.12811\n",
      "[740]\ttraining's rmse: 0.00372196\tvalid_1's rmse: 0.128088\n",
      "[750]\ttraining's rmse: 0.00364246\tvalid_1's rmse: 0.128073\n",
      "[760]\ttraining's rmse: 0.00353094\tvalid_1's rmse: 0.128045\n",
      "[770]\ttraining's rmse: 0.00344505\tvalid_1's rmse: 0.128019\n",
      "[780]\ttraining's rmse: 0.00337231\tvalid_1's rmse: 0.127999\n",
      "[790]\ttraining's rmse: 0.00328589\tvalid_1's rmse: 0.127983\n",
      "[800]\ttraining's rmse: 0.00321339\tvalid_1's rmse: 0.127963\n",
      "[810]\ttraining's rmse: 0.00314603\tvalid_1's rmse: 0.127942\n",
      "[820]\ttraining's rmse: 0.0030713\tvalid_1's rmse: 0.127922\n",
      "[830]\ttraining's rmse: 0.00298713\tvalid_1's rmse: 0.127894\n",
      "[840]\ttraining's rmse: 0.00292209\tvalid_1's rmse: 0.127879\n",
      "[850]\ttraining's rmse: 0.00285246\tvalid_1's rmse: 0.127867\n",
      "[860]\ttraining's rmse: 0.00277398\tvalid_1's rmse: 0.127841\n",
      "[870]\ttraining's rmse: 0.00271081\tvalid_1's rmse: 0.127825\n",
      "[880]\ttraining's rmse: 0.00265876\tvalid_1's rmse: 0.127812\n",
      "[890]\ttraining's rmse: 0.00257598\tvalid_1's rmse: 0.127796\n",
      "[900]\ttraining's rmse: 0.00251033\tvalid_1's rmse: 0.127782\n",
      "[910]\ttraining's rmse: 0.00244747\tvalid_1's rmse: 0.127768\n",
      "[920]\ttraining's rmse: 0.0023726\tvalid_1's rmse: 0.127744\n",
      "[930]\ttraining's rmse: 0.00231222\tvalid_1's rmse: 0.127734\n",
      "[940]\ttraining's rmse: 0.00226024\tvalid_1's rmse: 0.127719\n",
      "[950]\ttraining's rmse: 0.00219223\tvalid_1's rmse: 0.127704\n",
      "[960]\ttraining's rmse: 0.00215051\tvalid_1's rmse: 0.127691\n",
      "[970]\ttraining's rmse: 0.00209004\tvalid_1's rmse: 0.127678\n",
      "[980]\ttraining's rmse: 0.00203924\tvalid_1's rmse: 0.127668\n",
      "[990]\ttraining's rmse: 0.00199731\tvalid_1's rmse: 0.127649\n",
      "[1000]\ttraining's rmse: 0.0019402\tvalid_1's rmse: 0.12764\n",
      "Did not meet early stopping. Best iteration is:\n",
      "[1000]\ttraining's rmse: 0.0019402\tvalid_1's rmse: 0.12764\n"
     ]
    },
    {
     "name": "stderr",
     "output_type": "stream",
     "text": [
      "num_leaves, val_score: 0.127640:  70%|##################################3              | 14/20 [00:27<00:12,  2.07s/it][I 2020-10-23 12:50:30,329] Trial 20 finished with value: 0.12764043729973376 and parameters: {'num_leaves': 87}. Best is trial 7 with value: 0.12764043729973376.\n",
      "num_leaves, val_score: 0.127640:  70%|##################################3              | 14/20 [00:27<00:12,  2.07s/it]"
     ]
    },
    {
     "name": "stdout",
     "output_type": "stream",
     "text": [
      "Training until validation scores don't improve for 10 rounds\n",
      "[10]\ttraining's rmse: 0.184362\tvalid_1's rmse: 0.189927\n",
      "[20]\ttraining's rmse: 0.110805\tvalid_1's rmse: 0.14531\n",
      "[30]\ttraining's rmse: 0.0840409\tvalid_1's rmse: 0.138621\n",
      "[40]\ttraining's rmse: 0.0705214\tvalid_1's rmse: 0.137144\n",
      "[50]\ttraining's rmse: 0.0618198\tvalid_1's rmse: 0.136186\n",
      "[60]\ttraining's rmse: 0.0551053\tvalid_1's rmse: 0.136044\n",
      "[70]\ttraining's rmse: 0.0498244\tvalid_1's rmse: 0.135584\n",
      "[80]\ttraining's rmse: 0.0451248\tvalid_1's rmse: 0.134966\n",
      "[90]\ttraining's rmse: 0.041251\tvalid_1's rmse: 0.134641\n",
      "[100]\ttraining's rmse: 0.0381693\tvalid_1's rmse: 0.134175\n",
      "[110]\ttraining's rmse: 0.0354996\tvalid_1's rmse: 0.133821\n",
      "[120]\ttraining's rmse: 0.0330515\tvalid_1's rmse: 0.133563\n",
      "[130]\ttraining's rmse: 0.0310352\tvalid_1's rmse: 0.133224\n",
      "[140]\ttraining's rmse: 0.0289493\tvalid_1's rmse: 0.132945\n",
      "[150]\ttraining's rmse: 0.0272524\tvalid_1's rmse: 0.132751\n",
      "[160]\ttraining's rmse: 0.0257506\tvalid_1's rmse: 0.132544\n",
      "[170]\ttraining's rmse: 0.0243414\tvalid_1's rmse: 0.13229\n",
      "[180]\ttraining's rmse: 0.0230822\tvalid_1's rmse: 0.132072\n",
      "[190]\ttraining's rmse: 0.0217804\tvalid_1's rmse: 0.131813\n",
      "[200]\ttraining's rmse: 0.0207709\tvalid_1's rmse: 0.131632\n",
      "[210]\ttraining's rmse: 0.0198286\tvalid_1's rmse: 0.13142\n",
      "[220]\ttraining's rmse: 0.0190145\tvalid_1's rmse: 0.13119\n",
      "[230]\ttraining's rmse: 0.0181916\tvalid_1's rmse: 0.131056\n",
      "[240]\ttraining's rmse: 0.0174056\tvalid_1's rmse: 0.130925\n",
      "[250]\ttraining's rmse: 0.0166835\tvalid_1's rmse: 0.13079\n",
      "[260]\ttraining's rmse: 0.0160376\tvalid_1's rmse: 0.130572\n",
      "[270]\ttraining's rmse: 0.0153429\tvalid_1's rmse: 0.130413\n",
      "[280]\ttraining's rmse: 0.0148055\tvalid_1's rmse: 0.130346\n",
      "[290]\ttraining's rmse: 0.014264\tvalid_1's rmse: 0.130226\n",
      "[300]\ttraining's rmse: 0.0137986\tvalid_1's rmse: 0.130097\n",
      "[310]\ttraining's rmse: 0.0132919\tvalid_1's rmse: 0.130088\n",
      "[320]\ttraining's rmse: 0.0127788\tvalid_1's rmse: 0.129963\n",
      "[330]\ttraining's rmse: 0.012337\tvalid_1's rmse: 0.129874\n",
      "[340]\ttraining's rmse: 0.0118934\tvalid_1's rmse: 0.129772\n",
      "[350]\ttraining's rmse: 0.0115127\tvalid_1's rmse: 0.12972\n",
      "[360]\ttraining's rmse: 0.0111389\tvalid_1's rmse: 0.129662\n",
      "[370]\ttraining's rmse: 0.0107519\tvalid_1's rmse: 0.129597\n",
      "[380]\ttraining's rmse: 0.0104032\tvalid_1's rmse: 0.129519\n",
      "[390]\ttraining's rmse: 0.0100853\tvalid_1's rmse: 0.129494\n",
      "[400]\ttraining's rmse: 0.00977917\tvalid_1's rmse: 0.129432\n",
      "[410]\ttraining's rmse: 0.00948939\tvalid_1's rmse: 0.129396\n",
      "[420]\ttraining's rmse: 0.00921821\tvalid_1's rmse: 0.129346\n",
      "[430]\ttraining's rmse: 0.00887587\tvalid_1's rmse: 0.129277\n",
      "[440]\ttraining's rmse: 0.00862456\tvalid_1's rmse: 0.129214\n",
      "[450]\ttraining's rmse: 0.00836868\tvalid_1's rmse: 0.129148\n",
      "[460]\ttraining's rmse: 0.00810523\tvalid_1's rmse: 0.129119\n",
      "[470]\ttraining's rmse: 0.00786211\tvalid_1's rmse: 0.129038\n",
      "[480]\ttraining's rmse: 0.0076445\tvalid_1's rmse: 0.128998\n",
      "[490]\ttraining's rmse: 0.00741095\tvalid_1's rmse: 0.128943\n",
      "[500]\ttraining's rmse: 0.00719153\tvalid_1's rmse: 0.128878\n",
      "[510]\ttraining's rmse: 0.00696982\tvalid_1's rmse: 0.128835\n",
      "[520]\ttraining's rmse: 0.00678245\tvalid_1's rmse: 0.128795\n",
      "[530]\ttraining's rmse: 0.00659194\tvalid_1's rmse: 0.128727\n",
      "[540]\ttraining's rmse: 0.00642729\tvalid_1's rmse: 0.12869\n",
      "[550]\ttraining's rmse: 0.00624528\tvalid_1's rmse: 0.128641\n",
      "[560]\ttraining's rmse: 0.00605872\tvalid_1's rmse: 0.128606\n",
      "[570]\ttraining's rmse: 0.00588289\tvalid_1's rmse: 0.128577\n",
      "[580]\ttraining's rmse: 0.00573515\tvalid_1's rmse: 0.128559\n",
      "[590]\ttraining's rmse: 0.00556272\tvalid_1's rmse: 0.128516\n",
      "[600]\ttraining's rmse: 0.00543375\tvalid_1's rmse: 0.128484\n",
      "[610]\ttraining's rmse: 0.00525923\tvalid_1's rmse: 0.128437\n",
      "[620]\ttraining's rmse: 0.00513652\tvalid_1's rmse: 0.128406\n",
      "[630]\ttraining's rmse: 0.00499041\tvalid_1's rmse: 0.128374\n",
      "[640]\ttraining's rmse: 0.00487293\tvalid_1's rmse: 0.12836\n",
      "[650]\ttraining's rmse: 0.00473631\tvalid_1's rmse: 0.12832\n",
      "[660]\ttraining's rmse: 0.00460394\tvalid_1's rmse: 0.128312\n",
      "[670]\ttraining's rmse: 0.00447605\tvalid_1's rmse: 0.128269\n",
      "[680]\ttraining's rmse: 0.00436175\tvalid_1's rmse: 0.128251\n",
      "[690]\ttraining's rmse: 0.00422399\tvalid_1's rmse: 0.128207\n",
      "[700]\ttraining's rmse: 0.00413213\tvalid_1's rmse: 0.128198\n",
      "[710]\ttraining's rmse: 0.00402125\tvalid_1's rmse: 0.128156\n",
      "[720]\ttraining's rmse: 0.00392609\tvalid_1's rmse: 0.128131\n",
      "[730]\ttraining's rmse: 0.00382678\tvalid_1's rmse: 0.12811\n",
      "[740]\ttraining's rmse: 0.00372196\tvalid_1's rmse: 0.128088\n",
      "[750]\ttraining's rmse: 0.00364246\tvalid_1's rmse: 0.128073\n",
      "[760]\ttraining's rmse: 0.00353094\tvalid_1's rmse: 0.128045\n",
      "[770]\ttraining's rmse: 0.00344505\tvalid_1's rmse: 0.128019\n",
      "[780]\ttraining's rmse: 0.00337231\tvalid_1's rmse: 0.127999\n",
      "[790]\ttraining's rmse: 0.00328589\tvalid_1's rmse: 0.127983\n",
      "[800]\ttraining's rmse: 0.00321339\tvalid_1's rmse: 0.127963\n",
      "[810]\ttraining's rmse: 0.00314603\tvalid_1's rmse: 0.127942\n",
      "[820]\ttraining's rmse: 0.0030713\tvalid_1's rmse: 0.127922\n",
      "[830]\ttraining's rmse: 0.00298713\tvalid_1's rmse: 0.127894\n",
      "[840]\ttraining's rmse: 0.00292209\tvalid_1's rmse: 0.127879\n",
      "[850]\ttraining's rmse: 0.00285246\tvalid_1's rmse: 0.127867\n",
      "[860]\ttraining's rmse: 0.00277398\tvalid_1's rmse: 0.127841\n",
      "[870]\ttraining's rmse: 0.00271081\tvalid_1's rmse: 0.127825\n",
      "[880]\ttraining's rmse: 0.00265876\tvalid_1's rmse: 0.127812\n",
      "[890]\ttraining's rmse: 0.00257598\tvalid_1's rmse: 0.127796\n",
      "[900]\ttraining's rmse: 0.00251033\tvalid_1's rmse: 0.127782\n",
      "[910]\ttraining's rmse: 0.00244747\tvalid_1's rmse: 0.127768\n",
      "[920]\ttraining's rmse: 0.0023726\tvalid_1's rmse: 0.127744\n",
      "[930]\ttraining's rmse: 0.00231222\tvalid_1's rmse: 0.127734\n",
      "[940]\ttraining's rmse: 0.00226024\tvalid_1's rmse: 0.127719\n",
      "[950]\ttraining's rmse: 0.00219223\tvalid_1's rmse: 0.127704\n",
      "[960]\ttraining's rmse: 0.00215051\tvalid_1's rmse: 0.127691\n",
      "[970]\ttraining's rmse: 0.00209004\tvalid_1's rmse: 0.127678\n",
      "[980]\ttraining's rmse: 0.00203924\tvalid_1's rmse: 0.127668\n",
      "[990]\ttraining's rmse: 0.00199731\tvalid_1's rmse: 0.127649\n",
      "[1000]\ttraining's rmse: 0.0019402\tvalid_1's rmse: 0.12764\n",
      "Did not meet early stopping. Best iteration is:\n",
      "[1000]\ttraining's rmse: 0.0019402\tvalid_1's rmse: 0.12764\n"
     ]
    },
    {
     "name": "stderr",
     "output_type": "stream",
     "text": [
      "num_leaves, val_score: 0.127640:  75%|####################################7            | 15/20 [00:29<00:10,  2.09s/it][I 2020-10-23 12:50:32,478] Trial 21 finished with value: 0.12764043729973376 and parameters: {'num_leaves': 179}. Best is trial 7 with value: 0.12764043729973376.\n",
      "num_leaves, val_score: 0.127640:  75%|####################################7            | 15/20 [00:29<00:10,  2.09s/it]"
     ]
    },
    {
     "name": "stdout",
     "output_type": "stream",
     "text": [
      "Training until validation scores don't improve for 10 rounds\n",
      "[10]\ttraining's rmse: 0.184362\tvalid_1's rmse: 0.189927\n",
      "[20]\ttraining's rmse: 0.110805\tvalid_1's rmse: 0.14531\n",
      "[30]\ttraining's rmse: 0.0840409\tvalid_1's rmse: 0.138621\n",
      "[40]\ttraining's rmse: 0.0705214\tvalid_1's rmse: 0.137144\n",
      "[50]\ttraining's rmse: 0.0618198\tvalid_1's rmse: 0.136186\n",
      "[60]\ttraining's rmse: 0.0551053\tvalid_1's rmse: 0.136044\n",
      "[70]\ttraining's rmse: 0.0498244\tvalid_1's rmse: 0.135584\n",
      "[80]\ttraining's rmse: 0.0451248\tvalid_1's rmse: 0.134966\n",
      "[90]\ttraining's rmse: 0.041251\tvalid_1's rmse: 0.134641\n",
      "[100]\ttraining's rmse: 0.0381693\tvalid_1's rmse: 0.134175\n",
      "[110]\ttraining's rmse: 0.0354996\tvalid_1's rmse: 0.133821\n",
      "[120]\ttraining's rmse: 0.0330515\tvalid_1's rmse: 0.133563\n",
      "[130]\ttraining's rmse: 0.0310352\tvalid_1's rmse: 0.133224\n",
      "[140]\ttraining's rmse: 0.0289493\tvalid_1's rmse: 0.132945\n",
      "[150]\ttraining's rmse: 0.0272524\tvalid_1's rmse: 0.132751\n",
      "[160]\ttraining's rmse: 0.0257506\tvalid_1's rmse: 0.132544\n",
      "[170]\ttraining's rmse: 0.0243414\tvalid_1's rmse: 0.13229\n",
      "[180]\ttraining's rmse: 0.0230822\tvalid_1's rmse: 0.132072\n",
      "[190]\ttraining's rmse: 0.0217804\tvalid_1's rmse: 0.131813\n",
      "[200]\ttraining's rmse: 0.0207709\tvalid_1's rmse: 0.131632\n",
      "[210]\ttraining's rmse: 0.0198286\tvalid_1's rmse: 0.13142\n",
      "[220]\ttraining's rmse: 0.0190145\tvalid_1's rmse: 0.13119\n",
      "[230]\ttraining's rmse: 0.0181916\tvalid_1's rmse: 0.131056\n",
      "[240]\ttraining's rmse: 0.0174056\tvalid_1's rmse: 0.130925\n",
      "[250]\ttraining's rmse: 0.0166835\tvalid_1's rmse: 0.13079\n",
      "[260]\ttraining's rmse: 0.0160376\tvalid_1's rmse: 0.130572\n",
      "[270]\ttraining's rmse: 0.0153429\tvalid_1's rmse: 0.130413\n",
      "[280]\ttraining's rmse: 0.0148055\tvalid_1's rmse: 0.130346\n",
      "[290]\ttraining's rmse: 0.014264\tvalid_1's rmse: 0.130226\n",
      "[300]\ttraining's rmse: 0.0137986\tvalid_1's rmse: 0.130097\n",
      "[310]\ttraining's rmse: 0.0132919\tvalid_1's rmse: 0.130088\n",
      "[320]\ttraining's rmse: 0.0127788\tvalid_1's rmse: 0.129963\n",
      "[330]\ttraining's rmse: 0.012337\tvalid_1's rmse: 0.129874\n",
      "[340]\ttraining's rmse: 0.0118934\tvalid_1's rmse: 0.129772\n",
      "[350]\ttraining's rmse: 0.0115127\tvalid_1's rmse: 0.12972\n",
      "[360]\ttraining's rmse: 0.0111389\tvalid_1's rmse: 0.129662\n",
      "[370]\ttraining's rmse: 0.0107519\tvalid_1's rmse: 0.129597\n",
      "[380]\ttraining's rmse: 0.0104032\tvalid_1's rmse: 0.129519\n",
      "[390]\ttraining's rmse: 0.0100853\tvalid_1's rmse: 0.129494\n",
      "[400]\ttraining's rmse: 0.00977917\tvalid_1's rmse: 0.129432\n",
      "[410]\ttraining's rmse: 0.00948939\tvalid_1's rmse: 0.129396\n",
      "[420]\ttraining's rmse: 0.00921821\tvalid_1's rmse: 0.129346\n",
      "[430]\ttraining's rmse: 0.00887587\tvalid_1's rmse: 0.129277\n",
      "[440]\ttraining's rmse: 0.00862456\tvalid_1's rmse: 0.129214\n",
      "[450]\ttraining's rmse: 0.00836868\tvalid_1's rmse: 0.129148\n",
      "[460]\ttraining's rmse: 0.00810523\tvalid_1's rmse: 0.129119\n",
      "[470]\ttraining's rmse: 0.00786211\tvalid_1's rmse: 0.129038\n",
      "[480]\ttraining's rmse: 0.0076445\tvalid_1's rmse: 0.128998\n",
      "[490]\ttraining's rmse: 0.00741095\tvalid_1's rmse: 0.128943\n",
      "[500]\ttraining's rmse: 0.00719153\tvalid_1's rmse: 0.128878\n",
      "[510]\ttraining's rmse: 0.00696982\tvalid_1's rmse: 0.128835\n",
      "[520]\ttraining's rmse: 0.00678245\tvalid_1's rmse: 0.128795\n",
      "[530]\ttraining's rmse: 0.00659194\tvalid_1's rmse: 0.128727\n",
      "[540]\ttraining's rmse: 0.00642729\tvalid_1's rmse: 0.12869\n",
      "[550]\ttraining's rmse: 0.00624528\tvalid_1's rmse: 0.128641\n",
      "[560]\ttraining's rmse: 0.00605872\tvalid_1's rmse: 0.128606\n",
      "[570]\ttraining's rmse: 0.00588289\tvalid_1's rmse: 0.128577\n",
      "[580]\ttraining's rmse: 0.00573515\tvalid_1's rmse: 0.128559\n",
      "[590]\ttraining's rmse: 0.00556272\tvalid_1's rmse: 0.128516\n",
      "[600]\ttraining's rmse: 0.00543375\tvalid_1's rmse: 0.128484\n",
      "[610]\ttraining's rmse: 0.00525923\tvalid_1's rmse: 0.128437\n",
      "[620]\ttraining's rmse: 0.00513652\tvalid_1's rmse: 0.128406\n",
      "[630]\ttraining's rmse: 0.00499041\tvalid_1's rmse: 0.128374\n",
      "[640]\ttraining's rmse: 0.00487293\tvalid_1's rmse: 0.12836\n",
      "[650]\ttraining's rmse: 0.00473631\tvalid_1's rmse: 0.12832\n",
      "[660]\ttraining's rmse: 0.00460394\tvalid_1's rmse: 0.128312\n",
      "[670]\ttraining's rmse: 0.00447605\tvalid_1's rmse: 0.128269\n",
      "[680]\ttraining's rmse: 0.00436175\tvalid_1's rmse: 0.128251\n",
      "[690]\ttraining's rmse: 0.00422399\tvalid_1's rmse: 0.128207\n",
      "[700]\ttraining's rmse: 0.00413213\tvalid_1's rmse: 0.128198\n",
      "[710]\ttraining's rmse: 0.00402125\tvalid_1's rmse: 0.128156\n",
      "[720]\ttraining's rmse: 0.00392609\tvalid_1's rmse: 0.128131\n",
      "[730]\ttraining's rmse: 0.00382678\tvalid_1's rmse: 0.12811\n",
      "[740]\ttraining's rmse: 0.00372196\tvalid_1's rmse: 0.128088\n",
      "[750]\ttraining's rmse: 0.00364246\tvalid_1's rmse: 0.128073\n",
      "[760]\ttraining's rmse: 0.00353094\tvalid_1's rmse: 0.128045\n",
      "[770]\ttraining's rmse: 0.00344505\tvalid_1's rmse: 0.128019\n",
      "[780]\ttraining's rmse: 0.00337231\tvalid_1's rmse: 0.127999\n",
      "[790]\ttraining's rmse: 0.00328589\tvalid_1's rmse: 0.127983\n",
      "[800]\ttraining's rmse: 0.00321339\tvalid_1's rmse: 0.127963\n",
      "[810]\ttraining's rmse: 0.00314603\tvalid_1's rmse: 0.127942\n",
      "[820]\ttraining's rmse: 0.0030713\tvalid_1's rmse: 0.127922\n",
      "[830]\ttraining's rmse: 0.00298713\tvalid_1's rmse: 0.127894\n",
      "[840]\ttraining's rmse: 0.00292209\tvalid_1's rmse: 0.127879\n",
      "[850]\ttraining's rmse: 0.00285246\tvalid_1's rmse: 0.127867\n",
      "[860]\ttraining's rmse: 0.00277398\tvalid_1's rmse: 0.127841\n",
      "[870]\ttraining's rmse: 0.00271081\tvalid_1's rmse: 0.127825\n",
      "[880]\ttraining's rmse: 0.00265876\tvalid_1's rmse: 0.127812\n",
      "[890]\ttraining's rmse: 0.00257598\tvalid_1's rmse: 0.127796\n",
      "[900]\ttraining's rmse: 0.00251033\tvalid_1's rmse: 0.127782\n",
      "[910]\ttraining's rmse: 0.00244747\tvalid_1's rmse: 0.127768\n",
      "[920]\ttraining's rmse: 0.0023726\tvalid_1's rmse: 0.127744\n",
      "[930]\ttraining's rmse: 0.00231222\tvalid_1's rmse: 0.127734\n",
      "[940]\ttraining's rmse: 0.00226024\tvalid_1's rmse: 0.127719\n",
      "[950]\ttraining's rmse: 0.00219223\tvalid_1's rmse: 0.127704\n",
      "[960]\ttraining's rmse: 0.00215051\tvalid_1's rmse: 0.127691\n",
      "[970]\ttraining's rmse: 0.00209004\tvalid_1's rmse: 0.127678\n",
      "[980]\ttraining's rmse: 0.00203924\tvalid_1's rmse: 0.127668\n",
      "[990]\ttraining's rmse: 0.00199731\tvalid_1's rmse: 0.127649\n",
      "[1000]\ttraining's rmse: 0.0019402\tvalid_1's rmse: 0.12764\n",
      "Did not meet early stopping. Best iteration is:\n",
      "[1000]\ttraining's rmse: 0.0019402\tvalid_1's rmse: 0.12764\n"
     ]
    },
    {
     "name": "stderr",
     "output_type": "stream",
     "text": [
      "num_leaves, val_score: 0.127640:  80%|#######################################2         | 16/20 [00:31<00:08,  2.11s/it][I 2020-10-23 12:50:34,636] Trial 22 finished with value: 0.12764043729973376 and parameters: {'num_leaves': 105}. Best is trial 7 with value: 0.12764043729973376.\n",
      "num_leaves, val_score: 0.127640:  80%|#######################################2         | 16/20 [00:31<00:08,  2.11s/it]"
     ]
    },
    {
     "name": "stdout",
     "output_type": "stream",
     "text": [
      "Training until validation scores don't improve for 10 rounds\n",
      "[10]\ttraining's rmse: 0.184362\tvalid_1's rmse: 0.189927\n",
      "[20]\ttraining's rmse: 0.110805\tvalid_1's rmse: 0.14531\n",
      "[30]\ttraining's rmse: 0.0840409\tvalid_1's rmse: 0.138621\n",
      "[40]\ttraining's rmse: 0.0705214\tvalid_1's rmse: 0.137144\n",
      "[50]\ttraining's rmse: 0.0618198\tvalid_1's rmse: 0.136186\n",
      "[60]\ttraining's rmse: 0.0551053\tvalid_1's rmse: 0.136044\n",
      "[70]\ttraining's rmse: 0.0498244\tvalid_1's rmse: 0.135584\n",
      "[80]\ttraining's rmse: 0.0451248\tvalid_1's rmse: 0.134966\n",
      "[90]\ttraining's rmse: 0.041251\tvalid_1's rmse: 0.134641\n",
      "[100]\ttraining's rmse: 0.0381693\tvalid_1's rmse: 0.134175\n",
      "[110]\ttraining's rmse: 0.0354996\tvalid_1's rmse: 0.133821\n",
      "[120]\ttraining's rmse: 0.0330515\tvalid_1's rmse: 0.133563\n",
      "[130]\ttraining's rmse: 0.0310352\tvalid_1's rmse: 0.133224\n",
      "[140]\ttraining's rmse: 0.0289493\tvalid_1's rmse: 0.132945\n",
      "[150]\ttraining's rmse: 0.0272524\tvalid_1's rmse: 0.132751\n",
      "[160]\ttraining's rmse: 0.0257506\tvalid_1's rmse: 0.132544\n",
      "[170]\ttraining's rmse: 0.0243414\tvalid_1's rmse: 0.13229\n",
      "[180]\ttraining's rmse: 0.0230822\tvalid_1's rmse: 0.132072\n",
      "[190]\ttraining's rmse: 0.0217804\tvalid_1's rmse: 0.131813\n",
      "[200]\ttraining's rmse: 0.0207709\tvalid_1's rmse: 0.131632\n",
      "[210]\ttraining's rmse: 0.0198286\tvalid_1's rmse: 0.13142\n",
      "[220]\ttraining's rmse: 0.0190145\tvalid_1's rmse: 0.13119\n",
      "[230]\ttraining's rmse: 0.0181916\tvalid_1's rmse: 0.131056\n",
      "[240]\ttraining's rmse: 0.0174056\tvalid_1's rmse: 0.130925\n",
      "[250]\ttraining's rmse: 0.0166835\tvalid_1's rmse: 0.13079\n",
      "[260]\ttraining's rmse: 0.0160376\tvalid_1's rmse: 0.130572\n",
      "[270]\ttraining's rmse: 0.0153429\tvalid_1's rmse: 0.130413\n",
      "[280]\ttraining's rmse: 0.0148055\tvalid_1's rmse: 0.130346\n",
      "[290]\ttraining's rmse: 0.014264\tvalid_1's rmse: 0.130226\n",
      "[300]\ttraining's rmse: 0.0137986\tvalid_1's rmse: 0.130097\n",
      "[310]\ttraining's rmse: 0.0132919\tvalid_1's rmse: 0.130088\n",
      "[320]\ttraining's rmse: 0.0127788\tvalid_1's rmse: 0.129963\n",
      "[330]\ttraining's rmse: 0.012337\tvalid_1's rmse: 0.129874\n",
      "[340]\ttraining's rmse: 0.0118934\tvalid_1's rmse: 0.129772\n",
      "[350]\ttraining's rmse: 0.0115127\tvalid_1's rmse: 0.12972\n",
      "[360]\ttraining's rmse: 0.0111389\tvalid_1's rmse: 0.129662\n",
      "[370]\ttraining's rmse: 0.0107519\tvalid_1's rmse: 0.129597\n",
      "[380]\ttraining's rmse: 0.0104032\tvalid_1's rmse: 0.129519\n",
      "[390]\ttraining's rmse: 0.0100853\tvalid_1's rmse: 0.129494\n",
      "[400]\ttraining's rmse: 0.00977917\tvalid_1's rmse: 0.129432\n",
      "[410]\ttraining's rmse: 0.00948939\tvalid_1's rmse: 0.129396\n",
      "[420]\ttraining's rmse: 0.00921821\tvalid_1's rmse: 0.129346\n",
      "[430]\ttraining's rmse: 0.00887587\tvalid_1's rmse: 0.129277\n",
      "[440]\ttraining's rmse: 0.00862456\tvalid_1's rmse: 0.129214\n",
      "[450]\ttraining's rmse: 0.00836868\tvalid_1's rmse: 0.129148\n",
      "[460]\ttraining's rmse: 0.00810523\tvalid_1's rmse: 0.129119\n",
      "[470]\ttraining's rmse: 0.00786211\tvalid_1's rmse: 0.129038\n",
      "[480]\ttraining's rmse: 0.0076445\tvalid_1's rmse: 0.128998\n",
      "[490]\ttraining's rmse: 0.00741095\tvalid_1's rmse: 0.128943\n",
      "[500]\ttraining's rmse: 0.00719153\tvalid_1's rmse: 0.128878\n",
      "[510]\ttraining's rmse: 0.00696982\tvalid_1's rmse: 0.128835\n",
      "[520]\ttraining's rmse: 0.00678245\tvalid_1's rmse: 0.128795\n",
      "[530]\ttraining's rmse: 0.00659194\tvalid_1's rmse: 0.128727\n",
      "[540]\ttraining's rmse: 0.00642729\tvalid_1's rmse: 0.12869\n",
      "[550]\ttraining's rmse: 0.00624528\tvalid_1's rmse: 0.128641\n",
      "[560]\ttraining's rmse: 0.00605872\tvalid_1's rmse: 0.128606\n",
      "[570]\ttraining's rmse: 0.00588289\tvalid_1's rmse: 0.128577\n",
      "[580]\ttraining's rmse: 0.00573515\tvalid_1's rmse: 0.128559\n",
      "[590]\ttraining's rmse: 0.00556272\tvalid_1's rmse: 0.128516\n",
      "[600]\ttraining's rmse: 0.00543375\tvalid_1's rmse: 0.128484\n",
      "[610]\ttraining's rmse: 0.00525923\tvalid_1's rmse: 0.128437\n",
      "[620]\ttraining's rmse: 0.00513652\tvalid_1's rmse: 0.128406\n",
      "[630]\ttraining's rmse: 0.00499041\tvalid_1's rmse: 0.128374\n",
      "[640]\ttraining's rmse: 0.00487293\tvalid_1's rmse: 0.12836\n",
      "[650]\ttraining's rmse: 0.00473631\tvalid_1's rmse: 0.12832\n",
      "[660]\ttraining's rmse: 0.00460394\tvalid_1's rmse: 0.128312\n",
      "[670]\ttraining's rmse: 0.00447605\tvalid_1's rmse: 0.128269\n",
      "[680]\ttraining's rmse: 0.00436175\tvalid_1's rmse: 0.128251\n",
      "[690]\ttraining's rmse: 0.00422399\tvalid_1's rmse: 0.128207\n",
      "[700]\ttraining's rmse: 0.00413213\tvalid_1's rmse: 0.128198\n",
      "[710]\ttraining's rmse: 0.00402125\tvalid_1's rmse: 0.128156\n",
      "[720]\ttraining's rmse: 0.00392609\tvalid_1's rmse: 0.128131\n",
      "[730]\ttraining's rmse: 0.00382678\tvalid_1's rmse: 0.12811\n",
      "[740]\ttraining's rmse: 0.00372196\tvalid_1's rmse: 0.128088\n",
      "[750]\ttraining's rmse: 0.00364246\tvalid_1's rmse: 0.128073\n",
      "[760]\ttraining's rmse: 0.00353094\tvalid_1's rmse: 0.128045\n",
      "[770]\ttraining's rmse: 0.00344505\tvalid_1's rmse: 0.128019\n",
      "[780]\ttraining's rmse: 0.00337231\tvalid_1's rmse: 0.127999\n",
      "[790]\ttraining's rmse: 0.00328589\tvalid_1's rmse: 0.127983\n",
      "[800]\ttraining's rmse: 0.00321339\tvalid_1's rmse: 0.127963\n",
      "[810]\ttraining's rmse: 0.00314603\tvalid_1's rmse: 0.127942\n",
      "[820]\ttraining's rmse: 0.0030713\tvalid_1's rmse: 0.127922\n",
      "[830]\ttraining's rmse: 0.00298713\tvalid_1's rmse: 0.127894\n",
      "[840]\ttraining's rmse: 0.00292209\tvalid_1's rmse: 0.127879\n",
      "[850]\ttraining's rmse: 0.00285246\tvalid_1's rmse: 0.127867\n",
      "[860]\ttraining's rmse: 0.00277398\tvalid_1's rmse: 0.127841\n",
      "[870]\ttraining's rmse: 0.00271081\tvalid_1's rmse: 0.127825\n",
      "[880]\ttraining's rmse: 0.00265876\tvalid_1's rmse: 0.127812\n",
      "[890]\ttraining's rmse: 0.00257598\tvalid_1's rmse: 0.127796\n",
      "[900]\ttraining's rmse: 0.00251033\tvalid_1's rmse: 0.127782\n",
      "[910]\ttraining's rmse: 0.00244747\tvalid_1's rmse: 0.127768\n",
      "[920]\ttraining's rmse: 0.0023726\tvalid_1's rmse: 0.127744\n",
      "[930]\ttraining's rmse: 0.00231222\tvalid_1's rmse: 0.127734\n",
      "[940]\ttraining's rmse: 0.00226024\tvalid_1's rmse: 0.127719\n",
      "[950]\ttraining's rmse: 0.00219223\tvalid_1's rmse: 0.127704\n",
      "[960]\ttraining's rmse: 0.00215051\tvalid_1's rmse: 0.127691\n",
      "[970]\ttraining's rmse: 0.00209004\tvalid_1's rmse: 0.127678\n",
      "[980]\ttraining's rmse: 0.00203924\tvalid_1's rmse: 0.127668\n",
      "[990]\ttraining's rmse: 0.00199731\tvalid_1's rmse: 0.127649\n",
      "[1000]\ttraining's rmse: 0.0019402\tvalid_1's rmse: 0.12764\n",
      "Did not meet early stopping. Best iteration is:\n",
      "[1000]\ttraining's rmse: 0.0019402\tvalid_1's rmse: 0.12764\n"
     ]
    },
    {
     "name": "stderr",
     "output_type": "stream",
     "text": [
      "num_leaves, val_score: 0.127640:  85%|#########################################6       | 17/20 [00:33<00:06,  2.10s/it][I 2020-10-23 12:50:36,697] Trial 23 finished with value: 0.12764043729973376 and parameters: {'num_leaves': 94}. Best is trial 7 with value: 0.12764043729973376.\n",
      "num_leaves, val_score: 0.127640:  85%|#########################################6       | 17/20 [00:33<00:06,  2.10s/it]"
     ]
    },
    {
     "name": "stdout",
     "output_type": "stream",
     "text": [
      "Training until validation scores don't improve for 10 rounds\n",
      "[10]\ttraining's rmse: 0.184362\tvalid_1's rmse: 0.189927\n",
      "[20]\ttraining's rmse: 0.110805\tvalid_1's rmse: 0.14531\n",
      "[30]\ttraining's rmse: 0.0840409\tvalid_1's rmse: 0.138621\n",
      "[40]\ttraining's rmse: 0.0705214\tvalid_1's rmse: 0.137144\n",
      "[50]\ttraining's rmse: 0.0618198\tvalid_1's rmse: 0.136186\n",
      "[60]\ttraining's rmse: 0.0551053\tvalid_1's rmse: 0.136044\n",
      "[70]\ttraining's rmse: 0.0498244\tvalid_1's rmse: 0.135584\n",
      "[80]\ttraining's rmse: 0.0451248\tvalid_1's rmse: 0.134966\n",
      "[90]\ttraining's rmse: 0.041251\tvalid_1's rmse: 0.134641\n",
      "[100]\ttraining's rmse: 0.0381693\tvalid_1's rmse: 0.134175\n",
      "[110]\ttraining's rmse: 0.0354996\tvalid_1's rmse: 0.133821\n",
      "[120]\ttraining's rmse: 0.0330515\tvalid_1's rmse: 0.133563\n",
      "[130]\ttraining's rmse: 0.0310352\tvalid_1's rmse: 0.133224\n",
      "[140]\ttraining's rmse: 0.0289493\tvalid_1's rmse: 0.132945\n",
      "[150]\ttraining's rmse: 0.0272524\tvalid_1's rmse: 0.132751\n",
      "[160]\ttraining's rmse: 0.0257506\tvalid_1's rmse: 0.132544\n",
      "[170]\ttraining's rmse: 0.0243414\tvalid_1's rmse: 0.13229\n",
      "[180]\ttraining's rmse: 0.0230822\tvalid_1's rmse: 0.132072\n",
      "[190]\ttraining's rmse: 0.0217804\tvalid_1's rmse: 0.131813\n",
      "[200]\ttraining's rmse: 0.0207709\tvalid_1's rmse: 0.131632\n",
      "[210]\ttraining's rmse: 0.0198286\tvalid_1's rmse: 0.13142\n",
      "[220]\ttraining's rmse: 0.0190145\tvalid_1's rmse: 0.13119\n",
      "[230]\ttraining's rmse: 0.0181916\tvalid_1's rmse: 0.131056\n",
      "[240]\ttraining's rmse: 0.0174056\tvalid_1's rmse: 0.130925\n",
      "[250]\ttraining's rmse: 0.0166835\tvalid_1's rmse: 0.13079\n",
      "[260]\ttraining's rmse: 0.0160376\tvalid_1's rmse: 0.130572\n",
      "[270]\ttraining's rmse: 0.0153429\tvalid_1's rmse: 0.130413\n",
      "[280]\ttraining's rmse: 0.0148055\tvalid_1's rmse: 0.130346\n",
      "[290]\ttraining's rmse: 0.014264\tvalid_1's rmse: 0.130226\n",
      "[300]\ttraining's rmse: 0.0137986\tvalid_1's rmse: 0.130097\n",
      "[310]\ttraining's rmse: 0.0132919\tvalid_1's rmse: 0.130088\n",
      "[320]\ttraining's rmse: 0.0127788\tvalid_1's rmse: 0.129963\n",
      "[330]\ttraining's rmse: 0.012337\tvalid_1's rmse: 0.129874\n",
      "[340]\ttraining's rmse: 0.0118934\tvalid_1's rmse: 0.129772\n",
      "[350]\ttraining's rmse: 0.0115127\tvalid_1's rmse: 0.12972\n",
      "[360]\ttraining's rmse: 0.0111389\tvalid_1's rmse: 0.129662\n",
      "[370]\ttraining's rmse: 0.0107519\tvalid_1's rmse: 0.129597\n",
      "[380]\ttraining's rmse: 0.0104032\tvalid_1's rmse: 0.129519\n",
      "[390]\ttraining's rmse: 0.0100853\tvalid_1's rmse: 0.129494\n",
      "[400]\ttraining's rmse: 0.00977917\tvalid_1's rmse: 0.129432\n",
      "[410]\ttraining's rmse: 0.00948939\tvalid_1's rmse: 0.129396\n",
      "[420]\ttraining's rmse: 0.00921821\tvalid_1's rmse: 0.129346\n",
      "[430]\ttraining's rmse: 0.00887587\tvalid_1's rmse: 0.129277\n",
      "[440]\ttraining's rmse: 0.00862456\tvalid_1's rmse: 0.129214\n",
      "[450]\ttraining's rmse: 0.00836868\tvalid_1's rmse: 0.129148\n",
      "[460]\ttraining's rmse: 0.00810523\tvalid_1's rmse: 0.129119\n",
      "[470]\ttraining's rmse: 0.00786211\tvalid_1's rmse: 0.129038\n",
      "[480]\ttraining's rmse: 0.0076445\tvalid_1's rmse: 0.128998\n",
      "[490]\ttraining's rmse: 0.00741095\tvalid_1's rmse: 0.128943\n",
      "[500]\ttraining's rmse: 0.00719153\tvalid_1's rmse: 0.128878\n",
      "[510]\ttraining's rmse: 0.00696982\tvalid_1's rmse: 0.128835\n",
      "[520]\ttraining's rmse: 0.00678245\tvalid_1's rmse: 0.128795\n",
      "[530]\ttraining's rmse: 0.00659194\tvalid_1's rmse: 0.128727\n",
      "[540]\ttraining's rmse: 0.00642729\tvalid_1's rmse: 0.12869\n",
      "[550]\ttraining's rmse: 0.00624528\tvalid_1's rmse: 0.128641\n",
      "[560]\ttraining's rmse: 0.00605872\tvalid_1's rmse: 0.128606\n",
      "[570]\ttraining's rmse: 0.00588289\tvalid_1's rmse: 0.128577\n",
      "[580]\ttraining's rmse: 0.00573515\tvalid_1's rmse: 0.128559\n",
      "[590]\ttraining's rmse: 0.00556272\tvalid_1's rmse: 0.128516\n",
      "[600]\ttraining's rmse: 0.00543375\tvalid_1's rmse: 0.128484\n",
      "[610]\ttraining's rmse: 0.00525923\tvalid_1's rmse: 0.128437\n",
      "[620]\ttraining's rmse: 0.00513652\tvalid_1's rmse: 0.128406\n",
      "[630]\ttraining's rmse: 0.00499041\tvalid_1's rmse: 0.128374\n",
      "[640]\ttraining's rmse: 0.00487293\tvalid_1's rmse: 0.12836\n",
      "[650]\ttraining's rmse: 0.00473631\tvalid_1's rmse: 0.12832\n",
      "[660]\ttraining's rmse: 0.00460394\tvalid_1's rmse: 0.128312\n",
      "[670]\ttraining's rmse: 0.00447605\tvalid_1's rmse: 0.128269\n",
      "[680]\ttraining's rmse: 0.00436175\tvalid_1's rmse: 0.128251\n",
      "[690]\ttraining's rmse: 0.00422399\tvalid_1's rmse: 0.128207\n",
      "[700]\ttraining's rmse: 0.00413213\tvalid_1's rmse: 0.128198\n",
      "[710]\ttraining's rmse: 0.00402125\tvalid_1's rmse: 0.128156\n",
      "[720]\ttraining's rmse: 0.00392609\tvalid_1's rmse: 0.128131\n",
      "[730]\ttraining's rmse: 0.00382678\tvalid_1's rmse: 0.12811\n",
      "[740]\ttraining's rmse: 0.00372196\tvalid_1's rmse: 0.128088\n",
      "[750]\ttraining's rmse: 0.00364246\tvalid_1's rmse: 0.128073\n",
      "[760]\ttraining's rmse: 0.00353094\tvalid_1's rmse: 0.128045\n",
      "[770]\ttraining's rmse: 0.00344505\tvalid_1's rmse: 0.128019\n",
      "[780]\ttraining's rmse: 0.00337231\tvalid_1's rmse: 0.127999\n",
      "[790]\ttraining's rmse: 0.00328589\tvalid_1's rmse: 0.127983\n",
      "[800]\ttraining's rmse: 0.00321339\tvalid_1's rmse: 0.127963\n",
      "[810]\ttraining's rmse: 0.00314603\tvalid_1's rmse: 0.127942\n",
      "[820]\ttraining's rmse: 0.0030713\tvalid_1's rmse: 0.127922\n",
      "[830]\ttraining's rmse: 0.00298713\tvalid_1's rmse: 0.127894\n",
      "[840]\ttraining's rmse: 0.00292209\tvalid_1's rmse: 0.127879\n",
      "[850]\ttraining's rmse: 0.00285246\tvalid_1's rmse: 0.127867\n",
      "[860]\ttraining's rmse: 0.00277398\tvalid_1's rmse: 0.127841\n",
      "[870]\ttraining's rmse: 0.00271081\tvalid_1's rmse: 0.127825\n",
      "[880]\ttraining's rmse: 0.00265876\tvalid_1's rmse: 0.127812\n",
      "[890]\ttraining's rmse: 0.00257598\tvalid_1's rmse: 0.127796\n",
      "[900]\ttraining's rmse: 0.00251033\tvalid_1's rmse: 0.127782\n",
      "[910]\ttraining's rmse: 0.00244747\tvalid_1's rmse: 0.127768\n",
      "[920]\ttraining's rmse: 0.0023726\tvalid_1's rmse: 0.127744\n",
      "[930]\ttraining's rmse: 0.00231222\tvalid_1's rmse: 0.127734\n",
      "[940]\ttraining's rmse: 0.00226024\tvalid_1's rmse: 0.127719\n",
      "[950]\ttraining's rmse: 0.00219223\tvalid_1's rmse: 0.127704\n",
      "[960]\ttraining's rmse: 0.00215051\tvalid_1's rmse: 0.127691\n",
      "[970]\ttraining's rmse: 0.00209004\tvalid_1's rmse: 0.127678\n",
      "[980]\ttraining's rmse: 0.00203924\tvalid_1's rmse: 0.127668\n",
      "[990]\ttraining's rmse: 0.00199731\tvalid_1's rmse: 0.127649\n",
      "[1000]\ttraining's rmse: 0.0019402\tvalid_1's rmse: 0.12764\n",
      "Did not meet early stopping. Best iteration is:\n",
      "[1000]\ttraining's rmse: 0.0019402\tvalid_1's rmse: 0.12764\n"
     ]
    },
    {
     "name": "stderr",
     "output_type": "stream",
     "text": [
      "num_leaves, val_score: 0.127640:  90%|############################################1    | 18/20 [00:35<00:04,  2.09s/it][I 2020-10-23 12:50:38,763] Trial 24 finished with value: 0.12764043729973376 and parameters: {'num_leaves': 174}. Best is trial 7 with value: 0.12764043729973376.\n",
      "num_leaves, val_score: 0.127640:  90%|############################################1    | 18/20 [00:35<00:04,  2.09s/it]"
     ]
    },
    {
     "name": "stdout",
     "output_type": "stream",
     "text": [
      "Training until validation scores don't improve for 10 rounds\n",
      "[10]\ttraining's rmse: 0.184362\tvalid_1's rmse: 0.189927\n",
      "[20]\ttraining's rmse: 0.110805\tvalid_1's rmse: 0.14531\n",
      "[30]\ttraining's rmse: 0.0840409\tvalid_1's rmse: 0.138621\n",
      "[40]\ttraining's rmse: 0.0705214\tvalid_1's rmse: 0.137144\n",
      "[50]\ttraining's rmse: 0.0618198\tvalid_1's rmse: 0.136186\n",
      "[60]\ttraining's rmse: 0.0551053\tvalid_1's rmse: 0.136044\n",
      "[70]\ttraining's rmse: 0.0498244\tvalid_1's rmse: 0.135584\n",
      "[80]\ttraining's rmse: 0.0451248\tvalid_1's rmse: 0.134966\n",
      "[90]\ttraining's rmse: 0.041251\tvalid_1's rmse: 0.134641\n",
      "[100]\ttraining's rmse: 0.0381693\tvalid_1's rmse: 0.134175\n",
      "[110]\ttraining's rmse: 0.0354996\tvalid_1's rmse: 0.133821\n",
      "[120]\ttraining's rmse: 0.0330515\tvalid_1's rmse: 0.133563\n",
      "[130]\ttraining's rmse: 0.0310352\tvalid_1's rmse: 0.133224\n",
      "[140]\ttraining's rmse: 0.0289493\tvalid_1's rmse: 0.132945\n",
      "[150]\ttraining's rmse: 0.0272524\tvalid_1's rmse: 0.132751\n",
      "[160]\ttraining's rmse: 0.0257506\tvalid_1's rmse: 0.132544\n",
      "[170]\ttraining's rmse: 0.0243414\tvalid_1's rmse: 0.13229\n",
      "[180]\ttraining's rmse: 0.0230822\tvalid_1's rmse: 0.132072\n",
      "[190]\ttraining's rmse: 0.0217804\tvalid_1's rmse: 0.131813\n",
      "[200]\ttraining's rmse: 0.0207709\tvalid_1's rmse: 0.131632\n",
      "[210]\ttraining's rmse: 0.0198286\tvalid_1's rmse: 0.13142\n",
      "[220]\ttraining's rmse: 0.0190145\tvalid_1's rmse: 0.13119\n",
      "[230]\ttraining's rmse: 0.0181916\tvalid_1's rmse: 0.131056\n",
      "[240]\ttraining's rmse: 0.0174056\tvalid_1's rmse: 0.130925\n",
      "[250]\ttraining's rmse: 0.0166835\tvalid_1's rmse: 0.13079\n",
      "[260]\ttraining's rmse: 0.0160376\tvalid_1's rmse: 0.130572\n",
      "[270]\ttraining's rmse: 0.0153429\tvalid_1's rmse: 0.130413\n",
      "[280]\ttraining's rmse: 0.0148055\tvalid_1's rmse: 0.130346\n",
      "[290]\ttraining's rmse: 0.014264\tvalid_1's rmse: 0.130226\n",
      "[300]\ttraining's rmse: 0.0137986\tvalid_1's rmse: 0.130097\n",
      "[310]\ttraining's rmse: 0.0132919\tvalid_1's rmse: 0.130088\n",
      "[320]\ttraining's rmse: 0.0127788\tvalid_1's rmse: 0.129963\n",
      "[330]\ttraining's rmse: 0.012337\tvalid_1's rmse: 0.129874\n",
      "[340]\ttraining's rmse: 0.0118934\tvalid_1's rmse: 0.129772\n",
      "[350]\ttraining's rmse: 0.0115127\tvalid_1's rmse: 0.12972\n",
      "[360]\ttraining's rmse: 0.0111389\tvalid_1's rmse: 0.129662\n",
      "[370]\ttraining's rmse: 0.0107519\tvalid_1's rmse: 0.129597\n",
      "[380]\ttraining's rmse: 0.0104032\tvalid_1's rmse: 0.129519\n",
      "[390]\ttraining's rmse: 0.0100853\tvalid_1's rmse: 0.129494\n",
      "[400]\ttraining's rmse: 0.00977917\tvalid_1's rmse: 0.129432\n",
      "[410]\ttraining's rmse: 0.00948939\tvalid_1's rmse: 0.129396\n",
      "[420]\ttraining's rmse: 0.00921821\tvalid_1's rmse: 0.129346\n",
      "[430]\ttraining's rmse: 0.00887587\tvalid_1's rmse: 0.129277\n",
      "[440]\ttraining's rmse: 0.00862456\tvalid_1's rmse: 0.129214\n",
      "[450]\ttraining's rmse: 0.00836868\tvalid_1's rmse: 0.129148\n",
      "[460]\ttraining's rmse: 0.00810523\tvalid_1's rmse: 0.129119\n",
      "[470]\ttraining's rmse: 0.00786211\tvalid_1's rmse: 0.129038\n",
      "[480]\ttraining's rmse: 0.0076445\tvalid_1's rmse: 0.128998\n",
      "[490]\ttraining's rmse: 0.00741095\tvalid_1's rmse: 0.128943\n",
      "[500]\ttraining's rmse: 0.00719153\tvalid_1's rmse: 0.128878\n",
      "[510]\ttraining's rmse: 0.00696982\tvalid_1's rmse: 0.128835\n",
      "[520]\ttraining's rmse: 0.00678245\tvalid_1's rmse: 0.128795\n",
      "[530]\ttraining's rmse: 0.00659194\tvalid_1's rmse: 0.128727\n",
      "[540]\ttraining's rmse: 0.00642729\tvalid_1's rmse: 0.12869\n",
      "[550]\ttraining's rmse: 0.00624528\tvalid_1's rmse: 0.128641\n",
      "[560]\ttraining's rmse: 0.00605872\tvalid_1's rmse: 0.128606\n",
      "[570]\ttraining's rmse: 0.00588289\tvalid_1's rmse: 0.128577\n",
      "[580]\ttraining's rmse: 0.00573515\tvalid_1's rmse: 0.128559\n",
      "[590]\ttraining's rmse: 0.00556272\tvalid_1's rmse: 0.128516\n",
      "[600]\ttraining's rmse: 0.00543375\tvalid_1's rmse: 0.128484\n",
      "[610]\ttraining's rmse: 0.00525923\tvalid_1's rmse: 0.128437\n",
      "[620]\ttraining's rmse: 0.00513652\tvalid_1's rmse: 0.128406\n",
      "[630]\ttraining's rmse: 0.00499041\tvalid_1's rmse: 0.128374\n",
      "[640]\ttraining's rmse: 0.00487293\tvalid_1's rmse: 0.12836\n",
      "[650]\ttraining's rmse: 0.00473631\tvalid_1's rmse: 0.12832\n",
      "[660]\ttraining's rmse: 0.00460394\tvalid_1's rmse: 0.128312\n",
      "[670]\ttraining's rmse: 0.00447605\tvalid_1's rmse: 0.128269\n",
      "[680]\ttraining's rmse: 0.00436175\tvalid_1's rmse: 0.128251\n",
      "[690]\ttraining's rmse: 0.00422399\tvalid_1's rmse: 0.128207\n",
      "[700]\ttraining's rmse: 0.00413213\tvalid_1's rmse: 0.128198\n",
      "[710]\ttraining's rmse: 0.00402125\tvalid_1's rmse: 0.128156\n",
      "[720]\ttraining's rmse: 0.00392609\tvalid_1's rmse: 0.128131\n",
      "[730]\ttraining's rmse: 0.00382678\tvalid_1's rmse: 0.12811\n",
      "[740]\ttraining's rmse: 0.00372196\tvalid_1's rmse: 0.128088\n",
      "[750]\ttraining's rmse: 0.00364246\tvalid_1's rmse: 0.128073\n",
      "[760]\ttraining's rmse: 0.00353094\tvalid_1's rmse: 0.128045\n",
      "[770]\ttraining's rmse: 0.00344505\tvalid_1's rmse: 0.128019\n",
      "[780]\ttraining's rmse: 0.00337231\tvalid_1's rmse: 0.127999\n",
      "[790]\ttraining's rmse: 0.00328589\tvalid_1's rmse: 0.127983\n",
      "[800]\ttraining's rmse: 0.00321339\tvalid_1's rmse: 0.127963\n",
      "[810]\ttraining's rmse: 0.00314603\tvalid_1's rmse: 0.127942\n",
      "[820]\ttraining's rmse: 0.0030713\tvalid_1's rmse: 0.127922\n",
      "[830]\ttraining's rmse: 0.00298713\tvalid_1's rmse: 0.127894\n",
      "[840]\ttraining's rmse: 0.00292209\tvalid_1's rmse: 0.127879\n",
      "[850]\ttraining's rmse: 0.00285246\tvalid_1's rmse: 0.127867\n",
      "[860]\ttraining's rmse: 0.00277398\tvalid_1's rmse: 0.127841\n",
      "[870]\ttraining's rmse: 0.00271081\tvalid_1's rmse: 0.127825\n",
      "[880]\ttraining's rmse: 0.00265876\tvalid_1's rmse: 0.127812\n",
      "[890]\ttraining's rmse: 0.00257598\tvalid_1's rmse: 0.127796\n",
      "[900]\ttraining's rmse: 0.00251033\tvalid_1's rmse: 0.127782\n",
      "[910]\ttraining's rmse: 0.00244747\tvalid_1's rmse: 0.127768\n",
      "[920]\ttraining's rmse: 0.0023726\tvalid_1's rmse: 0.127744\n",
      "[930]\ttraining's rmse: 0.00231222\tvalid_1's rmse: 0.127734\n",
      "[940]\ttraining's rmse: 0.00226024\tvalid_1's rmse: 0.127719\n",
      "[950]\ttraining's rmse: 0.00219223\tvalid_1's rmse: 0.127704\n",
      "[960]\ttraining's rmse: 0.00215051\tvalid_1's rmse: 0.127691\n",
      "[970]\ttraining's rmse: 0.00209004\tvalid_1's rmse: 0.127678\n",
      "[980]\ttraining's rmse: 0.00203924\tvalid_1's rmse: 0.127668\n",
      "[990]\ttraining's rmse: 0.00199731\tvalid_1's rmse: 0.127649\n",
      "[1000]\ttraining's rmse: 0.0019402\tvalid_1's rmse: 0.12764\n",
      "Did not meet early stopping. Best iteration is:\n",
      "[1000]\ttraining's rmse: 0.0019402\tvalid_1's rmse: 0.12764\n"
     ]
    },
    {
     "name": "stderr",
     "output_type": "stream",
     "text": [
      "num_leaves, val_score: 0.127640:  95%|##############################################5  | 19/20 [00:37<00:02,  2.11s/it][I 2020-10-23 12:50:40,921] Trial 25 finished with value: 0.12764043729973376 and parameters: {'num_leaves': 201}. Best is trial 7 with value: 0.12764043729973376.\n",
      "num_leaves, val_score: 0.127640:  95%|##############################################5  | 19/20 [00:37<00:02,  2.11s/it]"
     ]
    },
    {
     "name": "stdout",
     "output_type": "stream",
     "text": [
      "Training until validation scores don't improve for 10 rounds\n",
      "[10]\ttraining's rmse: 0.184362\tvalid_1's rmse: 0.189927\n",
      "[20]\ttraining's rmse: 0.110805\tvalid_1's rmse: 0.14531\n",
      "[30]\ttraining's rmse: 0.0840409\tvalid_1's rmse: 0.138621\n",
      "[40]\ttraining's rmse: 0.0705214\tvalid_1's rmse: 0.137144\n",
      "[50]\ttraining's rmse: 0.0618198\tvalid_1's rmse: 0.136186\n",
      "[60]\ttraining's rmse: 0.0551053\tvalid_1's rmse: 0.136044\n",
      "[70]\ttraining's rmse: 0.0498244\tvalid_1's rmse: 0.135584\n",
      "[80]\ttraining's rmse: 0.0451248\tvalid_1's rmse: 0.134966\n",
      "[90]\ttraining's rmse: 0.041251\tvalid_1's rmse: 0.134641\n",
      "[100]\ttraining's rmse: 0.0381693\tvalid_1's rmse: 0.134175\n",
      "[110]\ttraining's rmse: 0.0354996\tvalid_1's rmse: 0.133821\n",
      "[120]\ttraining's rmse: 0.0330515\tvalid_1's rmse: 0.133563\n",
      "[130]\ttraining's rmse: 0.0310352\tvalid_1's rmse: 0.133224\n",
      "[140]\ttraining's rmse: 0.0289493\tvalid_1's rmse: 0.132945\n",
      "[150]\ttraining's rmse: 0.0272524\tvalid_1's rmse: 0.132751\n",
      "[160]\ttraining's rmse: 0.0257506\tvalid_1's rmse: 0.132544\n",
      "[170]\ttraining's rmse: 0.0243414\tvalid_1's rmse: 0.13229\n",
      "[180]\ttraining's rmse: 0.0230822\tvalid_1's rmse: 0.132072\n",
      "[190]\ttraining's rmse: 0.0217804\tvalid_1's rmse: 0.131813\n",
      "[200]\ttraining's rmse: 0.0207709\tvalid_1's rmse: 0.131632\n",
      "[210]\ttraining's rmse: 0.0198286\tvalid_1's rmse: 0.13142\n",
      "[220]\ttraining's rmse: 0.0190145\tvalid_1's rmse: 0.13119\n",
      "[230]\ttraining's rmse: 0.0181916\tvalid_1's rmse: 0.131056\n",
      "[240]\ttraining's rmse: 0.0174056\tvalid_1's rmse: 0.130925\n",
      "[250]\ttraining's rmse: 0.0166835\tvalid_1's rmse: 0.13079\n",
      "[260]\ttraining's rmse: 0.0160376\tvalid_1's rmse: 0.130572\n",
      "[270]\ttraining's rmse: 0.0153429\tvalid_1's rmse: 0.130413\n",
      "[280]\ttraining's rmse: 0.0148055\tvalid_1's rmse: 0.130346\n",
      "[290]\ttraining's rmse: 0.014264\tvalid_1's rmse: 0.130226\n",
      "[300]\ttraining's rmse: 0.0137986\tvalid_1's rmse: 0.130097\n",
      "[310]\ttraining's rmse: 0.0132919\tvalid_1's rmse: 0.130088\n",
      "[320]\ttraining's rmse: 0.0127788\tvalid_1's rmse: 0.129963\n",
      "[330]\ttraining's rmse: 0.012337\tvalid_1's rmse: 0.129874\n",
      "[340]\ttraining's rmse: 0.0118934\tvalid_1's rmse: 0.129772\n",
      "[350]\ttraining's rmse: 0.0115127\tvalid_1's rmse: 0.12972\n",
      "[360]\ttraining's rmse: 0.0111389\tvalid_1's rmse: 0.129662\n",
      "[370]\ttraining's rmse: 0.0107519\tvalid_1's rmse: 0.129597\n",
      "[380]\ttraining's rmse: 0.0104032\tvalid_1's rmse: 0.129519\n",
      "[390]\ttraining's rmse: 0.0100853\tvalid_1's rmse: 0.129494\n",
      "[400]\ttraining's rmse: 0.00977917\tvalid_1's rmse: 0.129432\n",
      "[410]\ttraining's rmse: 0.00948939\tvalid_1's rmse: 0.129396\n",
      "[420]\ttraining's rmse: 0.00921821\tvalid_1's rmse: 0.129346\n",
      "[430]\ttraining's rmse: 0.00887587\tvalid_1's rmse: 0.129277\n",
      "[440]\ttraining's rmse: 0.00862456\tvalid_1's rmse: 0.129214\n",
      "[450]\ttraining's rmse: 0.00836868\tvalid_1's rmse: 0.129148\n",
      "[460]\ttraining's rmse: 0.00810523\tvalid_1's rmse: 0.129119\n",
      "[470]\ttraining's rmse: 0.00786211\tvalid_1's rmse: 0.129038\n",
      "[480]\ttraining's rmse: 0.0076445\tvalid_1's rmse: 0.128998\n",
      "[490]\ttraining's rmse: 0.00741095\tvalid_1's rmse: 0.128943\n",
      "[500]\ttraining's rmse: 0.00719153\tvalid_1's rmse: 0.128878\n",
      "[510]\ttraining's rmse: 0.00696982\tvalid_1's rmse: 0.128835\n",
      "[520]\ttraining's rmse: 0.00678245\tvalid_1's rmse: 0.128795\n",
      "[530]\ttraining's rmse: 0.00659194\tvalid_1's rmse: 0.128727\n",
      "[540]\ttraining's rmse: 0.00642729\tvalid_1's rmse: 0.12869\n",
      "[550]\ttraining's rmse: 0.00624528\tvalid_1's rmse: 0.128641\n",
      "[560]\ttraining's rmse: 0.00605872\tvalid_1's rmse: 0.128606\n",
      "[570]\ttraining's rmse: 0.00588289\tvalid_1's rmse: 0.128577\n",
      "[580]\ttraining's rmse: 0.00573515\tvalid_1's rmse: 0.128559\n",
      "[590]\ttraining's rmse: 0.00556272\tvalid_1's rmse: 0.128516\n",
      "[600]\ttraining's rmse: 0.00543375\tvalid_1's rmse: 0.128484\n",
      "[610]\ttraining's rmse: 0.00525923\tvalid_1's rmse: 0.128437\n",
      "[620]\ttraining's rmse: 0.00513652\tvalid_1's rmse: 0.128406\n",
      "[630]\ttraining's rmse: 0.00499041\tvalid_1's rmse: 0.128374\n",
      "[640]\ttraining's rmse: 0.00487293\tvalid_1's rmse: 0.12836\n",
      "[650]\ttraining's rmse: 0.00473631\tvalid_1's rmse: 0.12832\n",
      "[660]\ttraining's rmse: 0.00460394\tvalid_1's rmse: 0.128312\n",
      "[670]\ttraining's rmse: 0.00447605\tvalid_1's rmse: 0.128269\n",
      "[680]\ttraining's rmse: 0.00436175\tvalid_1's rmse: 0.128251\n",
      "[690]\ttraining's rmse: 0.00422399\tvalid_1's rmse: 0.128207\n",
      "[700]\ttraining's rmse: 0.00413213\tvalid_1's rmse: 0.128198\n",
      "[710]\ttraining's rmse: 0.00402125\tvalid_1's rmse: 0.128156\n",
      "[720]\ttraining's rmse: 0.00392609\tvalid_1's rmse: 0.128131\n",
      "[730]\ttraining's rmse: 0.00382678\tvalid_1's rmse: 0.12811\n",
      "[740]\ttraining's rmse: 0.00372196\tvalid_1's rmse: 0.128088\n",
      "[750]\ttraining's rmse: 0.00364246\tvalid_1's rmse: 0.128073\n",
      "[760]\ttraining's rmse: 0.00353094\tvalid_1's rmse: 0.128045\n",
      "[770]\ttraining's rmse: 0.00344505\tvalid_1's rmse: 0.128019\n",
      "[780]\ttraining's rmse: 0.00337231\tvalid_1's rmse: 0.127999\n",
      "[790]\ttraining's rmse: 0.00328589\tvalid_1's rmse: 0.127983\n",
      "[800]\ttraining's rmse: 0.00321339\tvalid_1's rmse: 0.127963\n",
      "[810]\ttraining's rmse: 0.00314603\tvalid_1's rmse: 0.127942\n",
      "[820]\ttraining's rmse: 0.0030713\tvalid_1's rmse: 0.127922\n",
      "[830]\ttraining's rmse: 0.00298713\tvalid_1's rmse: 0.127894\n",
      "[840]\ttraining's rmse: 0.00292209\tvalid_1's rmse: 0.127879\n",
      "[850]\ttraining's rmse: 0.00285246\tvalid_1's rmse: 0.127867\n",
      "[860]\ttraining's rmse: 0.00277398\tvalid_1's rmse: 0.127841\n",
      "[870]\ttraining's rmse: 0.00271081\tvalid_1's rmse: 0.127825\n",
      "[880]\ttraining's rmse: 0.00265876\tvalid_1's rmse: 0.127812\n",
      "[890]\ttraining's rmse: 0.00257598\tvalid_1's rmse: 0.127796\n",
      "[900]\ttraining's rmse: 0.00251033\tvalid_1's rmse: 0.127782\n",
      "[910]\ttraining's rmse: 0.00244747\tvalid_1's rmse: 0.127768\n",
      "[920]\ttraining's rmse: 0.0023726\tvalid_1's rmse: 0.127744\n",
      "[930]\ttraining's rmse: 0.00231222\tvalid_1's rmse: 0.127734\n",
      "[940]\ttraining's rmse: 0.00226024\tvalid_1's rmse: 0.127719\n",
      "[950]\ttraining's rmse: 0.00219223\tvalid_1's rmse: 0.127704\n",
      "[960]\ttraining's rmse: 0.00215051\tvalid_1's rmse: 0.127691\n",
      "[970]\ttraining's rmse: 0.00209004\tvalid_1's rmse: 0.127678\n",
      "[980]\ttraining's rmse: 0.00203924\tvalid_1's rmse: 0.127668\n",
      "[990]\ttraining's rmse: 0.00199731\tvalid_1's rmse: 0.127649\n",
      "[1000]\ttraining's rmse: 0.0019402\tvalid_1's rmse: 0.12764\n",
      "Did not meet early stopping. Best iteration is:\n",
      "[1000]\ttraining's rmse: 0.0019402\tvalid_1's rmse: 0.12764\n"
     ]
    },
    {
     "name": "stderr",
     "output_type": "stream",
     "text": [
      "num_leaves, val_score: 0.127640: 100%|#################################################| 20/20 [00:39<00:00,  2.09s/it][I 2020-10-23 12:50:42,977] Trial 26 finished with value: 0.12764043729973376 and parameters: {'num_leaves': 111}. Best is trial 7 with value: 0.12764043729973376.\n",
      "num_leaves, val_score: 0.127640: 100%|#################################################| 20/20 [00:39<00:00,  1.99s/it]\n",
      "bagging, val_score: 0.127640:   0%|                                                             | 0/10 [00:00<?, ?it/s]"
     ]
    },
    {
     "name": "stdout",
     "output_type": "stream",
     "text": [
      "Training until validation scores don't improve for 10 rounds\n",
      "[10]\ttraining's rmse: 0.199863\tvalid_1's rmse: 0.195085\n",
      "[20]\ttraining's rmse: 0.133013\tvalid_1's rmse: 0.149141\n",
      "[30]\ttraining's rmse: 0.110089\tvalid_1's rmse: 0.142896\n",
      "[40]\ttraining's rmse: 0.0989902\tvalid_1's rmse: 0.140391\n",
      "[50]\ttraining's rmse: 0.0922125\tvalid_1's rmse: 0.140604\n",
      "Early stopping, best iteration is:\n",
      "[43]\ttraining's rmse: 0.0967364\tvalid_1's rmse: 0.139607\n"
     ]
    },
    {
     "name": "stderr",
     "output_type": "stream",
     "text": [
      "bagging, val_score: 0.127640:   0%|                                                             | 0/10 [00:00<?, ?it/s][I 2020-10-23 12:50:43,075] Trial 27 finished with value: 0.1396068094105013 and parameters: {'bagging_fraction': 0.5441952412497408, 'bagging_freq': 5}. Best is trial 27 with value: 0.1396068094105013.\n",
      "bagging, val_score: 0.127640:  10%|#####3                                               | 1/10 [00:00<00:00, 10.87it/s]"
     ]
    },
    {
     "name": "stdout",
     "output_type": "stream",
     "text": [
      "Training until validation scores don't improve for 10 rounds\n",
      "[10]\ttraining's rmse: 0.184907\tvalid_1's rmse: 0.188839\n",
      "[20]\ttraining's rmse: 0.112215\tvalid_1's rmse: 0.14344\n",
      "[30]\ttraining's rmse: 0.0857986\tvalid_1's rmse: 0.137136\n",
      "[40]\ttraining's rmse: 0.0718447\tvalid_1's rmse: 0.135966\n",
      "[50]\ttraining's rmse: 0.0629782\tvalid_1's rmse: 0.135949\n",
      "[60]\ttraining's rmse: 0.0563499\tvalid_1's rmse: 0.135463\n",
      "[70]\ttraining's rmse: 0.0508281\tvalid_1's rmse: 0.134806\n",
      "[80]\ttraining's rmse: 0.0460919\tvalid_1's rmse: 0.134137\n",
      "[90]\ttraining's rmse: 0.0421993\tvalid_1's rmse: 0.134124\n",
      "[100]\ttraining's rmse: 0.0389228\tvalid_1's rmse: 0.133906\n",
      "[110]\ttraining's rmse: 0.0359025\tvalid_1's rmse: 0.133774\n",
      "[120]\ttraining's rmse: 0.0332014\tvalid_1's rmse: 0.133434\n",
      "[130]\ttraining's rmse: 0.0310016\tvalid_1's rmse: 0.13317\n",
      "[140]\ttraining's rmse: 0.0289786\tvalid_1's rmse: 0.132922\n",
      "[150]\ttraining's rmse: 0.0271302\tvalid_1's rmse: 0.132704\n",
      "[160]\ttraining's rmse: 0.0254107\tvalid_1's rmse: 0.132557\n",
      "[170]\ttraining's rmse: 0.0238376\tvalid_1's rmse: 0.132484\n",
      "[180]\ttraining's rmse: 0.0226802\tvalid_1's rmse: 0.132423\n",
      "[190]\ttraining's rmse: 0.0215083\tvalid_1's rmse: 0.132198\n",
      "[200]\ttraining's rmse: 0.0203656\tvalid_1's rmse: 0.131999\n",
      "[210]\ttraining's rmse: 0.0194372\tvalid_1's rmse: 0.131884\n",
      "[220]\ttraining's rmse: 0.0186111\tvalid_1's rmse: 0.13191\n",
      "Early stopping, best iteration is:\n",
      "[211]\ttraining's rmse: 0.0193513\tvalid_1's rmse: 0.131832\n"
     ]
    },
    {
     "name": "stderr",
     "output_type": "stream",
     "text": [
      "bagging, val_score: 0.127640:  20%|##########6                                          | 2/10 [00:00<00:02,  3.88it/s][I 2020-10-23 12:50:43,503] Trial 28 finished with value: 0.13183232908584155 and parameters: {'bagging_fraction': 0.9717214806705811, 'bagging_freq': 1}. Best is trial 28 with value: 0.13183232908584155.\n",
      "bagging, val_score: 0.127640:  20%|##########6                                          | 2/10 [00:00<00:02,  3.88it/s]"
     ]
    },
    {
     "name": "stdout",
     "output_type": "stream",
     "text": [
      "Training until validation scores don't improve for 10 rounds\n",
      "[10]\ttraining's rmse: 0.186071\tvalid_1's rmse: 0.188778\n",
      "[20]\ttraining's rmse: 0.113816\tvalid_1's rmse: 0.144033\n",
      "[30]\ttraining's rmse: 0.0875669\tvalid_1's rmse: 0.137701\n",
      "[40]\ttraining's rmse: 0.0746354\tvalid_1's rmse: 0.13671\n",
      "[50]\ttraining's rmse: 0.0658278\tvalid_1's rmse: 0.135227\n",
      "[60]\ttraining's rmse: 0.0582469\tvalid_1's rmse: 0.134186\n",
      "[70]\ttraining's rmse: 0.0524818\tvalid_1's rmse: 0.133996\n",
      "[80]\ttraining's rmse: 0.047514\tvalid_1's rmse: 0.133786\n",
      "Early stopping, best iteration is:\n",
      "[75]\ttraining's rmse: 0.0499484\tvalid_1's rmse: 0.133624\n"
     ]
    },
    {
     "name": "stderr",
     "output_type": "stream",
     "text": [
      "bagging, val_score: 0.127640:  30%|###############9                                     | 3/10 [00:00<00:01,  4.23it/s][I 2020-10-23 12:50:43,689] Trial 29 finished with value: 0.13362374685802028 and parameters: {'bagging_fraction': 0.9744496256029453, 'bagging_freq': 7}. Best is trial 28 with value: 0.13183232908584155.\n",
      "bagging, val_score: 0.127640:  30%|###############9                                     | 3/10 [00:00<00:01,  4.23it/s]"
     ]
    },
    {
     "name": "stdout",
     "output_type": "stream",
     "text": [
      "Training until validation scores don't improve for 10 rounds\n",
      "[10]\ttraining's rmse: 0.202256\tvalid_1's rmse: 0.197118\n",
      "[20]\ttraining's rmse: 0.136465\tvalid_1's rmse: 0.150544\n",
      "[30]\ttraining's rmse: 0.113927\tvalid_1's rmse: 0.143626\n",
      "[40]\ttraining's rmse: 0.104\tvalid_1's rmse: 0.143231\n",
      "Early stopping, best iteration is:\n",
      "[35]\ttraining's rmse: 0.108115\tvalid_1's rmse: 0.142292\n"
     ]
    },
    {
     "name": "stderr",
     "output_type": "stream",
     "text": [
      "bagging, val_score: 0.127640:  30%|###############9                                     | 3/10 [00:00<00:01,  4.23it/s][I 2020-10-23 12:50:43,766] Trial 30 finished with value: 0.14229244731806048 and parameters: {'bagging_fraction': 0.43296445732333466, 'bagging_freq': 1}. Best is trial 28 with value: 0.13183232908584155.\n",
      "bagging, val_score: 0.127640:  40%|#####################2                               | 4/10 [00:00<00:01,  4.23it/s]"
     ]
    },
    {
     "name": "stdout",
     "output_type": "stream",
     "text": [
      "Training until validation scores don't improve for 10 rounds\n",
      "[10]\ttraining's rmse: 0.194469\tvalid_1's rmse: 0.194041\n",
      "[20]\ttraining's rmse: 0.125592\tvalid_1's rmse: 0.148992\n",
      "[30]\ttraining's rmse: 0.100464\tvalid_1's rmse: 0.142588\n",
      "[40]\ttraining's rmse: 0.0883006\tvalid_1's rmse: 0.142344\n",
      "Early stopping, best iteration is:\n",
      "[33]\ttraining's rmse: 0.0956406\tvalid_1's rmse: 0.141852\n"
     ]
    },
    {
     "name": "stderr",
     "output_type": "stream",
     "text": [
      "bagging, val_score: 0.127640:  50%|##########################5                          | 5/10 [00:00<00:00,  5.25it/s][I 2020-10-23 12:50:43,854] Trial 31 finished with value: 0.1418515356109441 and parameters: {'bagging_fraction': 0.7465499034681816, 'bagging_freq': 3}. Best is trial 28 with value: 0.13183232908584155.\n",
      "bagging, val_score: 0.127640:  50%|##########################5                          | 5/10 [00:00<00:00,  5.25it/s]"
     ]
    },
    {
     "name": "stdout",
     "output_type": "stream",
     "text": [
      "Training until validation scores don't improve for 10 rounds\n",
      "[10]\ttraining's rmse: 0.193812\tvalid_1's rmse: 0.193649\n",
      "[20]\ttraining's rmse: 0.124632\tvalid_1's rmse: 0.146736\n",
      "[30]\ttraining's rmse: 0.0986559\tvalid_1's rmse: 0.138601\n",
      "[40]\ttraining's rmse: 0.0869344\tvalid_1's rmse: 0.137782\n",
      "Early stopping, best iteration is:\n",
      "[38]\ttraining's rmse: 0.0888771\tvalid_1's rmse: 0.137605\n"
     ]
    },
    {
     "name": "stderr",
     "output_type": "stream",
     "text": [
      "bagging, val_score: 0.127640:  50%|##########################5                          | 5/10 [00:00<00:00,  5.25it/s][I 2020-10-23 12:50:43,947] Trial 32 finished with value: 0.1376049686981213 and parameters: {'bagging_fraction': 0.7570014578961196, 'bagging_freq': 7}. Best is trial 28 with value: 0.13183232908584155.\n",
      "bagging, val_score: 0.127640:  60%|###############################8                     | 6/10 [00:00<00:00,  5.25it/s]"
     ]
    },
    {
     "name": "stdout",
     "output_type": "stream",
     "text": [
      "Training until validation scores don't improve for 10 rounds\n",
      "[10]\ttraining's rmse: 0.19858\tvalid_1's rmse: 0.19575\n",
      "[20]\ttraining's rmse: 0.132383\tvalid_1's rmse: 0.147506\n",
      "[30]\ttraining's rmse: 0.108917\tvalid_1's rmse: 0.140438\n",
      "[40]\ttraining's rmse: 0.0979482\tvalid_1's rmse: 0.139879\n",
      "[50]\ttraining's rmse: 0.0899366\tvalid_1's rmse: 0.139894\n",
      "Early stopping, best iteration is:\n",
      "[44]\ttraining's rmse: 0.0945388\tvalid_1's rmse: 0.13955\n"
     ]
    },
    {
     "name": "stderr",
     "output_type": "stream",
     "text": [
      "bagging, val_score: 0.127640:  70%|#####################################                | 7/10 [00:01<00:00,  6.24it/s][I 2020-10-23 12:50:44,035] Trial 33 finished with value: 0.1395504599618726 and parameters: {'bagging_fraction': 0.5601395653505439, 'bagging_freq': 4}. Best is trial 28 with value: 0.13183232908584155.\n",
      "bagging, val_score: 0.127640:  70%|#####################################                | 7/10 [00:01<00:00,  6.24it/s]"
     ]
    },
    {
     "name": "stdout",
     "output_type": "stream",
     "text": [
      "Training until validation scores don't improve for 10 rounds\n",
      "[10]\ttraining's rmse: 0.19104\tvalid_1's rmse: 0.193326\n",
      "[20]\ttraining's rmse: 0.119015\tvalid_1's rmse: 0.143963\n",
      "[30]\ttraining's rmse: 0.0932989\tvalid_1's rmse: 0.137959\n",
      "[40]\ttraining's rmse: 0.0804324\tvalid_1's rmse: 0.137301\n",
      "Early stopping, best iteration is:\n",
      "[35]\ttraining's rmse: 0.0860134\tvalid_1's rmse: 0.137054\n"
     ]
    },
    {
     "name": "stderr",
     "output_type": "stream",
     "text": [
      "bagging, val_score: 0.127640:  80%|##########################################4          | 8/10 [00:01<00:00,  6.93it/s][I 2020-10-23 12:50:44,142] Trial 34 finished with value: 0.13705384898976292 and parameters: {'bagging_fraction': 0.8586838993982897, 'bagging_freq': 3}. Best is trial 28 with value: 0.13183232908584155.\n",
      "bagging, val_score: 0.127640:  80%|##########################################4          | 8/10 [00:01<00:00,  6.93it/s]"
     ]
    },
    {
     "name": "stdout",
     "output_type": "stream",
     "text": [
      "Training until validation scores don't improve for 10 rounds\n",
      "[10]\ttraining's rmse: 0.199405\tvalid_1's rmse: 0.194457\n",
      "[20]\ttraining's rmse: 0.132583\tvalid_1's rmse: 0.147208\n",
      "[30]\ttraining's rmse: 0.107807\tvalid_1's rmse: 0.142426\n",
      "[40]\ttraining's rmse: 0.0970736\tvalid_1's rmse: 0.141536\n",
      "[50]\ttraining's rmse: 0.0889997\tvalid_1's rmse: 0.139705\n",
      "[60]\ttraining's rmse: 0.0837571\tvalid_1's rmse: 0.140521\n",
      "Early stopping, best iteration is:\n",
      "[52]\ttraining's rmse: 0.0878799\tvalid_1's rmse: 0.139376\n"
     ]
    },
    {
     "name": "stderr",
     "output_type": "stream",
     "text": [
      "bagging, val_score: 0.127640:  90%|###############################################7     | 9/10 [00:01<00:00,  7.60it/s][I 2020-10-23 12:50:44,244] Trial 35 finished with value: 0.139376095545104 and parameters: {'bagging_fraction': 0.5976865500294121, 'bagging_freq': 6}. Best is trial 28 with value: 0.13183232908584155.\n",
      "bagging, val_score: 0.127640:  90%|###############################################7     | 9/10 [00:01<00:00,  7.60it/s]"
     ]
    },
    {
     "name": "stdout",
     "output_type": "stream",
     "text": [
      "Training until validation scores don't improve for 10 rounds\n",
      "[10]\ttraining's rmse: 0.203268\tvalid_1's rmse: 0.197737\n",
      "[20]\ttraining's rmse: 0.140596\tvalid_1's rmse: 0.152121\n",
      "[30]\ttraining's rmse: 0.118286\tvalid_1's rmse: 0.142766\n",
      "[40]\ttraining's rmse: 0.107695\tvalid_1's rmse: 0.142345\n",
      "[50]\ttraining's rmse: 0.101426\tvalid_1's rmse: 0.141284\n",
      "[60]\ttraining's rmse: 0.0961941\tvalid_1's rmse: 0.141015\n",
      "Early stopping, best iteration is:\n",
      "[52]\ttraining's rmse: 0.100271\tvalid_1's rmse: 0.140214\n"
     ]
    },
    {
     "name": "stderr",
     "output_type": "stream",
     "text": [
      "bagging, val_score: 0.127640:  90%|###############################################7     | 9/10 [00:01<00:00,  7.60it/s][I 2020-10-23 12:50:44,333] Trial 36 finished with value: 0.14021399670640958 and parameters: {'bagging_fraction': 0.40113786533425927, 'bagging_freq': 2}. Best is trial 28 with value: 0.13183232908584155.\n",
      "bagging, val_score: 0.127640: 100%|####################################################| 10/10 [00:01<00:00,  7.41it/s]\n",
      "feature_fraction_stage2, val_score: 0.127640:   0%|                                              | 0/3 [00:00<?, ?it/s]"
     ]
    },
    {
     "name": "stdout",
     "output_type": "stream",
     "text": [
      "Training until validation scores don't improve for 10 rounds\n",
      "[10]\ttraining's rmse: 0.184356\tvalid_1's rmse: 0.187833\n",
      "[20]\ttraining's rmse: 0.110865\tvalid_1's rmse: 0.143652\n",
      "[30]\ttraining's rmse: 0.0844617\tvalid_1's rmse: 0.137811\n",
      "[40]\ttraining's rmse: 0.0714649\tvalid_1's rmse: 0.136391\n",
      "[50]\ttraining's rmse: 0.062842\tvalid_1's rmse: 0.134626\n",
      "[60]\ttraining's rmse: 0.0562272\tvalid_1's rmse: 0.133807\n",
      "[70]\ttraining's rmse: 0.0507825\tvalid_1's rmse: 0.133089\n",
      "[80]\ttraining's rmse: 0.0463091\tvalid_1's rmse: 0.132861\n",
      "[90]\ttraining's rmse: 0.0425663\tvalid_1's rmse: 0.132578\n",
      "[100]\ttraining's rmse: 0.0393521\tvalid_1's rmse: 0.132287\n",
      "[110]\ttraining's rmse: 0.0366366\tvalid_1's rmse: 0.132161\n",
      "[120]\ttraining's rmse: 0.0342745\tvalid_1's rmse: 0.131796\n",
      "[130]\ttraining's rmse: 0.0322003\tvalid_1's rmse: 0.131609\n",
      "[140]\ttraining's rmse: 0.0302742\tvalid_1's rmse: 0.131386\n",
      "[150]\ttraining's rmse: 0.0285282\tvalid_1's rmse: 0.131129\n",
      "[160]\ttraining's rmse: 0.0269892\tvalid_1's rmse: 0.13097\n",
      "[170]\ttraining's rmse: 0.0254263\tvalid_1's rmse: 0.130526\n",
      "[180]\ttraining's rmse: 0.0241805\tvalid_1's rmse: 0.130371\n",
      "[190]\ttraining's rmse: 0.0230255\tvalid_1's rmse: 0.13021\n",
      "[200]\ttraining's rmse: 0.0220262\tvalid_1's rmse: 0.129983\n",
      "[210]\ttraining's rmse: 0.0211406\tvalid_1's rmse: 0.129846\n",
      "[220]\ttraining's rmse: 0.0201511\tvalid_1's rmse: 0.129629\n",
      "[230]\ttraining's rmse: 0.0193679\tvalid_1's rmse: 0.129553\n",
      "[240]\ttraining's rmse: 0.0186085\tvalid_1's rmse: 0.129382\n",
      "[250]\ttraining's rmse: 0.0178046\tvalid_1's rmse: 0.129179\n",
      "[260]\ttraining's rmse: 0.017162\tvalid_1's rmse: 0.129032\n",
      "[270]\ttraining's rmse: 0.0165084\tvalid_1's rmse: 0.128859\n",
      "[280]\ttraining's rmse: 0.0159351\tvalid_1's rmse: 0.128768\n",
      "[290]\ttraining's rmse: 0.015391\tvalid_1's rmse: 0.128718\n",
      "[300]\ttraining's rmse: 0.0148976\tvalid_1's rmse: 0.128535\n",
      "[310]\ttraining's rmse: 0.0143603\tvalid_1's rmse: 0.128452\n",
      "[320]\ttraining's rmse: 0.0138941\tvalid_1's rmse: 0.128346\n",
      "[330]\ttraining's rmse: 0.0134546\tvalid_1's rmse: 0.128255\n",
      "[340]\ttraining's rmse: 0.013077\tvalid_1's rmse: 0.128177\n",
      "[350]\ttraining's rmse: 0.0126264\tvalid_1's rmse: 0.128036\n",
      "[360]\ttraining's rmse: 0.0122113\tvalid_1's rmse: 0.127925\n",
      "[370]\ttraining's rmse: 0.0118607\tvalid_1's rmse: 0.127882\n",
      "[380]\ttraining's rmse: 0.0114754\tvalid_1's rmse: 0.127749\n",
      "[390]\ttraining's rmse: 0.0111419\tvalid_1's rmse: 0.127707\n",
      "[400]\ttraining's rmse: 0.010759\tvalid_1's rmse: 0.127603\n",
      "[410]\ttraining's rmse: 0.0104441\tvalid_1's rmse: 0.127562\n",
      "[420]\ttraining's rmse: 0.0100925\tvalid_1's rmse: 0.127474\n",
      "[430]\ttraining's rmse: 0.00981509\tvalid_1's rmse: 0.127403\n",
      "[440]\ttraining's rmse: 0.00949927\tvalid_1's rmse: 0.127313\n",
      "[450]\ttraining's rmse: 0.00924696\tvalid_1's rmse: 0.12725\n",
      "[460]\ttraining's rmse: 0.00898642\tvalid_1's rmse: 0.127216\n",
      "[470]\ttraining's rmse: 0.00869445\tvalid_1's rmse: 0.127145\n",
      "[480]\ttraining's rmse: 0.00846707\tvalid_1's rmse: 0.127093\n",
      "[490]\ttraining's rmse: 0.00820371\tvalid_1's rmse: 0.127039\n",
      "[500]\ttraining's rmse: 0.0079811\tvalid_1's rmse: 0.127008\n",
      "[510]\ttraining's rmse: 0.00776665\tvalid_1's rmse: 0.126958\n",
      "[520]\ttraining's rmse: 0.00755789\tvalid_1's rmse: 0.126923\n",
      "[530]\ttraining's rmse: 0.00734396\tvalid_1's rmse: 0.126874\n",
      "[540]\ttraining's rmse: 0.00713507\tvalid_1's rmse: 0.126814\n",
      "[550]\ttraining's rmse: 0.00693906\tvalid_1's rmse: 0.126785\n",
      "[560]\ttraining's rmse: 0.00671227\tvalid_1's rmse: 0.126728\n",
      "[570]\ttraining's rmse: 0.0065274\tvalid_1's rmse: 0.126689\n",
      "[580]\ttraining's rmse: 0.00634725\tvalid_1's rmse: 0.126649\n",
      "[590]\ttraining's rmse: 0.00616656\tvalid_1's rmse: 0.126594\n",
      "[600]\ttraining's rmse: 0.00601542\tvalid_1's rmse: 0.12655\n",
      "[610]\ttraining's rmse: 0.00583816\tvalid_1's rmse: 0.126527\n",
      "[620]\ttraining's rmse: 0.00566946\tvalid_1's rmse: 0.126495\n",
      "[630]\ttraining's rmse: 0.00553524\tvalid_1's rmse: 0.126481\n",
      "[640]\ttraining's rmse: 0.00538768\tvalid_1's rmse: 0.126461\n",
      "[650]\ttraining's rmse: 0.0052518\tvalid_1's rmse: 0.126436\n",
      "[660]\ttraining's rmse: 0.00509552\tvalid_1's rmse: 0.126401\n",
      "[670]\ttraining's rmse: 0.00496927\tvalid_1's rmse: 0.12638\n",
      "[680]\ttraining's rmse: 0.00483149\tvalid_1's rmse: 0.126353\n",
      "[690]\ttraining's rmse: 0.00471136\tvalid_1's rmse: 0.126327\n",
      "[700]\ttraining's rmse: 0.00459967\tvalid_1's rmse: 0.126307\n",
      "[710]\ttraining's rmse: 0.00447681\tvalid_1's rmse: 0.126298\n",
      "Early stopping, best iteration is:\n",
      "[702]\ttraining's rmse: 0.00457255\tvalid_1's rmse: 0.126288\n"
     ]
    },
    {
     "name": "stderr",
     "output_type": "stream",
     "text": [
      "feature_fraction_stage2, val_score: 0.126288:  33%|############6                         | 1/3 [00:01<00:02,  1.41s/it][I 2020-10-23 12:50:45,750] Trial 37 finished with value: 0.1262883971855037 and parameters: {'feature_fraction': 0.9520000000000001}. Best is trial 37 with value: 0.1262883971855037.\n",
      "feature_fraction_stage2, val_score: 0.126288:  33%|############6                         | 1/3 [00:01<00:02,  1.41s/it]"
     ]
    },
    {
     "name": "stdout",
     "output_type": "stream",
     "text": [
      "Training until validation scores don't improve for 10 rounds\n",
      "[10]\ttraining's rmse: 0.184433\tvalid_1's rmse: 0.189273\n",
      "[20]\ttraining's rmse: 0.110979\tvalid_1's rmse: 0.143878\n",
      "[30]\ttraining's rmse: 0.0847751\tvalid_1's rmse: 0.136593\n",
      "[40]\ttraining's rmse: 0.0713613\tvalid_1's rmse: 0.134557\n",
      "[50]\ttraining's rmse: 0.0628732\tvalid_1's rmse: 0.133909\n",
      "[60]\ttraining's rmse: 0.0564823\tvalid_1's rmse: 0.133228\n",
      "[70]\ttraining's rmse: 0.0510142\tvalid_1's rmse: 0.132375\n",
      "[80]\ttraining's rmse: 0.0465473\tvalid_1's rmse: 0.131805\n",
      "[90]\ttraining's rmse: 0.0426024\tvalid_1's rmse: 0.131608\n",
      "[100]\ttraining's rmse: 0.0392428\tvalid_1's rmse: 0.131548\n",
      "Early stopping, best iteration is:\n",
      "[94]\ttraining's rmse: 0.0410372\tvalid_1's rmse: 0.131475\n"
     ]
    },
    {
     "name": "stderr",
     "output_type": "stream",
     "text": [
      "feature_fraction_stage2, val_score: 0.126288:  67%|#########################3            | 2/3 [00:01<00:01,  1.05s/it][I 2020-10-23 12:50:45,960] Trial 38 finished with value: 0.13147464924273847 and parameters: {'feature_fraction': 0.9840000000000001}. Best is trial 37 with value: 0.1262883971855037.\n",
      "feature_fraction_stage2, val_score: 0.126288:  67%|#########################3            | 2/3 [00:01<00:01,  1.05s/it]"
     ]
    },
    {
     "name": "stdout",
     "output_type": "stream",
     "text": [
      "Training until validation scores don't improve for 10 rounds\n",
      "[10]\ttraining's rmse: 0.185264\tvalid_1's rmse: 0.190007\n",
      "[20]\ttraining's rmse: 0.111182\tvalid_1's rmse: 0.143388\n",
      "[30]\ttraining's rmse: 0.0844878\tvalid_1's rmse: 0.136619\n",
      "[40]\ttraining's rmse: 0.0712804\tvalid_1's rmse: 0.134915\n",
      "[50]\ttraining's rmse: 0.062553\tvalid_1's rmse: 0.13391\n",
      "[60]\ttraining's rmse: 0.0561061\tvalid_1's rmse: 0.133223\n",
      "[70]\ttraining's rmse: 0.0501043\tvalid_1's rmse: 0.132723\n",
      "[80]\ttraining's rmse: 0.0456761\tvalid_1's rmse: 0.132387\n",
      "[90]\ttraining's rmse: 0.0418622\tvalid_1's rmse: 0.131763\n",
      "[100]\ttraining's rmse: 0.0383942\tvalid_1's rmse: 0.131665\n",
      "[110]\ttraining's rmse: 0.0355293\tvalid_1's rmse: 0.131372\n",
      "[120]\ttraining's rmse: 0.033137\tvalid_1's rmse: 0.131203\n",
      "[130]\ttraining's rmse: 0.0309422\tvalid_1's rmse: 0.131157\n",
      "Early stopping, best iteration is:\n",
      "[126]\ttraining's rmse: 0.0317998\tvalid_1's rmse: 0.131078\n"
     ]
    },
    {
     "name": "stderr",
     "output_type": "stream",
     "text": [
      "feature_fraction_stage2, val_score: 0.126288: 100%|######################################| 3/3 [00:01<00:00,  1.22it/s][I 2020-10-23 12:50:46,232] Trial 39 finished with value: 0.13107790275199002 and parameters: {'feature_fraction': 0.92}. Best is trial 37 with value: 0.1262883971855037.\n",
      "feature_fraction_stage2, val_score: 0.126288: 100%|######################################| 3/3 [00:01<00:00,  1.58it/s]\n",
      "regularization_factors, val_score: 0.126288:   0%|                                              | 0/20 [00:00<?, ?it/s]"
     ]
    },
    {
     "name": "stdout",
     "output_type": "stream",
     "text": [
      "Training until validation scores don't improve for 10 rounds\n",
      "[10]\ttraining's rmse: 0.184442\tvalid_1's rmse: 0.188293\n",
      "[20]\ttraining's rmse: 0.109902\tvalid_1's rmse: 0.144641\n",
      "[30]\ttraining's rmse: 0.0831937\tvalid_1's rmse: 0.137895\n",
      "[40]\ttraining's rmse: 0.0701608\tvalid_1's rmse: 0.137656\n",
      "Early stopping, best iteration is:\n",
      "[32]\ttraining's rmse: 0.0799775\tvalid_1's rmse: 0.137461\n"
     ]
    },
    {
     "name": "stderr",
     "output_type": "stream",
     "text": [
      "regularization_factors, val_score: 0.126288:   5%|#9                                    | 1/20 [00:00<00:01,  9.62it/s][I 2020-10-23 12:50:46,349] Trial 40 finished with value: 0.13746131821683927 and parameters: {'lambda_l1': 0.00015191305896635797, 'lambda_l2': 0.021352116824098398}. Best is trial 40 with value: 0.13746131821683927.\n",
      "regularization_factors, val_score: 0.126288:   5%|#9                                    | 1/20 [00:00<00:01,  9.62it/s]"
     ]
    },
    {
     "name": "stdout",
     "output_type": "stream",
     "text": [
      "Training until validation scores don't improve for 10 rounds\n",
      "[10]\ttraining's rmse: 0.249477\tvalid_1's rmse: 0.240254\n",
      "[20]\ttraining's rmse: 0.193433\tvalid_1's rmse: 0.191736\n",
      "[30]\ttraining's rmse: 0.168195\tvalid_1's rmse: 0.172626\n",
      "[40]\ttraining's rmse: 0.154941\tvalid_1's rmse: 0.1644\n",
      "[50]\ttraining's rmse: 0.147466\tvalid_1's rmse: 0.160388\n",
      "[60]\ttraining's rmse: 0.142721\tvalid_1's rmse: 0.15841\n",
      "[70]\ttraining's rmse: 0.139897\tvalid_1's rmse: 0.157014\n",
      "[80]\ttraining's rmse: 0.138103\tvalid_1's rmse: 0.156361\n",
      "[90]\ttraining's rmse: 0.13752\tvalid_1's rmse: 0.156127\n",
      "Early stopping, best iteration is:\n",
      "[87]\ttraining's rmse: 0.13752\tvalid_1's rmse: 0.156127\n"
     ]
    },
    {
     "name": "stderr",
     "output_type": "stream",
     "text": [
      "regularization_factors, val_score: 0.126288:   5%|#9                                    | 1/20 [00:00<00:01,  9.62it/s][I 2020-10-23 12:50:46,440] Trial 41 finished with value: 0.15612706060348885 and parameters: {'lambda_l1': 9.638127208561569, 'lambda_l2': 1.2024753703710892e-08}. Best is trial 40 with value: 0.13746131821683927.\n",
      "regularization_factors, val_score: 0.126288:  10%|###8                                  | 2/20 [00:00<00:01,  9.62it/s]"
     ]
    },
    {
     "name": "stdout",
     "output_type": "stream",
     "text": [
      "Training until validation scores don't improve for 10 rounds\n",
      "[10]\ttraining's rmse: 0.184356\tvalid_1's rmse: 0.187833\n",
      "[20]\ttraining's rmse: 0.110865\tvalid_1's rmse: 0.143652\n",
      "[30]\ttraining's rmse: 0.0844617\tvalid_1's rmse: 0.137811\n",
      "[40]\ttraining's rmse: 0.0714649\tvalid_1's rmse: 0.136391\n",
      "[50]\ttraining's rmse: 0.062842\tvalid_1's rmse: 0.134626\n",
      "[60]\ttraining's rmse: 0.0562272\tvalid_1's rmse: 0.133807\n",
      "[70]\ttraining's rmse: 0.0507825\tvalid_1's rmse: 0.133089\n",
      "[80]\ttraining's rmse: 0.0463091\tvalid_1's rmse: 0.132861\n",
      "[90]\ttraining's rmse: 0.0425663\tvalid_1's rmse: 0.132578\n",
      "[100]\ttraining's rmse: 0.0393521\tvalid_1's rmse: 0.132287\n",
      "[110]\ttraining's rmse: 0.0366366\tvalid_1's rmse: 0.132161\n",
      "[120]\ttraining's rmse: 0.0342745\tvalid_1's rmse: 0.131796\n",
      "[130]\ttraining's rmse: 0.0322003\tvalid_1's rmse: 0.131609\n",
      "[140]\ttraining's rmse: 0.0302742\tvalid_1's rmse: 0.131386\n",
      "[150]\ttraining's rmse: 0.0285282\tvalid_1's rmse: 0.131129\n",
      "[160]\ttraining's rmse: 0.0269892\tvalid_1's rmse: 0.13097\n",
      "[170]\ttraining's rmse: 0.0254263\tvalid_1's rmse: 0.130526\n",
      "[180]\ttraining's rmse: 0.0241805\tvalid_1's rmse: 0.130371\n",
      "[190]\ttraining's rmse: 0.0230255\tvalid_1's rmse: 0.13021\n",
      "[200]\ttraining's rmse: 0.0220265\tvalid_1's rmse: 0.129983\n",
      "[210]\ttraining's rmse: 0.0211105\tvalid_1's rmse: 0.129883\n",
      "[220]\ttraining's rmse: 0.0202795\tvalid_1's rmse: 0.129676\n",
      "[230]\ttraining's rmse: 0.0193719\tvalid_1's rmse: 0.129373\n",
      "[240]\ttraining's rmse: 0.0185802\tvalid_1's rmse: 0.129245\n",
      "[250]\ttraining's rmse: 0.0179025\tvalid_1's rmse: 0.129025\n",
      "[260]\ttraining's rmse: 0.017245\tvalid_1's rmse: 0.128863\n",
      "[270]\ttraining's rmse: 0.0166382\tvalid_1's rmse: 0.128762\n",
      "[280]\ttraining's rmse: 0.0160417\tvalid_1's rmse: 0.128668\n",
      "[290]\ttraining's rmse: 0.0154552\tvalid_1's rmse: 0.128592\n",
      "[300]\ttraining's rmse: 0.0149299\tvalid_1's rmse: 0.128436\n",
      "[310]\ttraining's rmse: 0.0144148\tvalid_1's rmse: 0.128316\n",
      "[320]\ttraining's rmse: 0.013907\tvalid_1's rmse: 0.12823\n",
      "[330]\ttraining's rmse: 0.013424\tvalid_1's rmse: 0.128125\n",
      "[340]\ttraining's rmse: 0.0129993\tvalid_1's rmse: 0.128107\n",
      "[350]\ttraining's rmse: 0.0126114\tvalid_1's rmse: 0.128045\n",
      "[360]\ttraining's rmse: 0.012235\tvalid_1's rmse: 0.127972\n",
      "[370]\ttraining's rmse: 0.0117889\tvalid_1's rmse: 0.127845\n",
      "[380]\ttraining's rmse: 0.0114482\tvalid_1's rmse: 0.127812\n",
      "[390]\ttraining's rmse: 0.0111245\tvalid_1's rmse: 0.127744\n",
      "[400]\ttraining's rmse: 0.0107754\tvalid_1's rmse: 0.12767\n",
      "[410]\ttraining's rmse: 0.0104354\tvalid_1's rmse: 0.127598\n",
      "[420]\ttraining's rmse: 0.0101202\tvalid_1's rmse: 0.127505\n",
      "[430]\ttraining's rmse: 0.00984761\tvalid_1's rmse: 0.127439\n",
      "[440]\ttraining's rmse: 0.00953672\tvalid_1's rmse: 0.127384\n",
      "[450]\ttraining's rmse: 0.00924968\tvalid_1's rmse: 0.12737\n",
      "[460]\ttraining's rmse: 0.0089995\tvalid_1's rmse: 0.127332\n",
      "[470]\ttraining's rmse: 0.00873905\tvalid_1's rmse: 0.127252\n",
      "[480]\ttraining's rmse: 0.00847631\tvalid_1's rmse: 0.127192\n",
      "[490]\ttraining's rmse: 0.00826516\tvalid_1's rmse: 0.127179\n",
      "[500]\ttraining's rmse: 0.00800049\tvalid_1's rmse: 0.1271\n",
      "[510]\ttraining's rmse: 0.00777551\tvalid_1's rmse: 0.127031\n",
      "[520]\ttraining's rmse: 0.00756558\tvalid_1's rmse: 0.126984\n",
      "[530]\ttraining's rmse: 0.00736041\tvalid_1's rmse: 0.126946\n",
      "[540]\ttraining's rmse: 0.00715062\tvalid_1's rmse: 0.126901\n",
      "[550]\ttraining's rmse: 0.00693683\tvalid_1's rmse: 0.126874\n",
      "[560]\ttraining's rmse: 0.00674504\tvalid_1's rmse: 0.126821\n",
      "[570]\ttraining's rmse: 0.00656262\tvalid_1's rmse: 0.126776\n",
      "[580]\ttraining's rmse: 0.00637368\tvalid_1's rmse: 0.126742\n",
      "[590]\ttraining's rmse: 0.00621812\tvalid_1's rmse: 0.126709\n",
      "[600]\ttraining's rmse: 0.00604303\tvalid_1's rmse: 0.126672\n",
      "[610]\ttraining's rmse: 0.00586605\tvalid_1's rmse: 0.126635\n",
      "[620]\ttraining's rmse: 0.00572021\tvalid_1's rmse: 0.126609\n",
      "[630]\ttraining's rmse: 0.00554741\tvalid_1's rmse: 0.126584\n",
      "[640]\ttraining's rmse: 0.0053967\tvalid_1's rmse: 0.126543\n",
      "[650]\ttraining's rmse: 0.00523528\tvalid_1's rmse: 0.126506\n",
      "[660]\ttraining's rmse: 0.00509444\tvalid_1's rmse: 0.12648\n",
      "[670]\ttraining's rmse: 0.00496343\tvalid_1's rmse: 0.126449\n",
      "[680]\ttraining's rmse: 0.00483561\tvalid_1's rmse: 0.12643\n",
      "[690]\ttraining's rmse: 0.00468655\tvalid_1's rmse: 0.126403\n",
      "[700]\ttraining's rmse: 0.00457147\tvalid_1's rmse: 0.126388\n",
      "[710]\ttraining's rmse: 0.00446221\tvalid_1's rmse: 0.12636\n",
      "[720]\ttraining's rmse: 0.00432166\tvalid_1's rmse: 0.126325\n",
      "[730]\ttraining's rmse: 0.00421945\tvalid_1's rmse: 0.126304\n",
      "[740]\ttraining's rmse: 0.00409482\tvalid_1's rmse: 0.126283\n",
      "[750]\ttraining's rmse: 0.00400826\tvalid_1's rmse: 0.126282\n",
      "Early stopping, best iteration is:\n",
      "[742]\ttraining's rmse: 0.00407672\tvalid_1's rmse: 0.126281\n"
     ]
    },
    {
     "name": "stderr",
     "output_type": "stream",
     "text": [
      "regularization_factors, val_score: 0.126281:  15%|#####7                                | 3/20 [00:01<00:05,  2.94it/s][I 2020-10-23 12:50:48,133] Trial 42 finished with value: 0.12628136930727857 and parameters: {'lambda_l1': 1.7872048941168885e-08, 'lambda_l2': 2.352460147159283e-08}. Best is trial 42 with value: 0.12628136930727857.\n",
      "regularization_factors, val_score: 0.126281:  15%|#####7                                | 3/20 [00:01<00:05,  2.94it/s]"
     ]
    },
    {
     "name": "stdout",
     "output_type": "stream",
     "text": [
      "Training until validation scores don't improve for 10 rounds\n",
      "[10]\ttraining's rmse: 0.184356\tvalid_1's rmse: 0.187833\n",
      "[20]\ttraining's rmse: 0.110865\tvalid_1's rmse: 0.143652\n",
      "[30]\ttraining's rmse: 0.0844617\tvalid_1's rmse: 0.137811\n",
      "[40]\ttraining's rmse: 0.0714649\tvalid_1's rmse: 0.136391\n",
      "[50]\ttraining's rmse: 0.062842\tvalid_1's rmse: 0.134626\n",
      "[60]\ttraining's rmse: 0.0562272\tvalid_1's rmse: 0.133807\n",
      "[70]\ttraining's rmse: 0.0507825\tvalid_1's rmse: 0.133089\n",
      "[80]\ttraining's rmse: 0.0463091\tvalid_1's rmse: 0.132861\n",
      "[90]\ttraining's rmse: 0.0425663\tvalid_1's rmse: 0.132578\n",
      "[100]\ttraining's rmse: 0.0393521\tvalid_1's rmse: 0.132287\n",
      "[110]\ttraining's rmse: 0.0366366\tvalid_1's rmse: 0.132161\n",
      "[120]\ttraining's rmse: 0.0342745\tvalid_1's rmse: 0.131796\n",
      "[130]\ttraining's rmse: 0.0322003\tvalid_1's rmse: 0.131609\n",
      "[140]\ttraining's rmse: 0.0302742\tvalid_1's rmse: 0.131386\n",
      "[150]\ttraining's rmse: 0.0285282\tvalid_1's rmse: 0.131129\n",
      "[160]\ttraining's rmse: 0.0269892\tvalid_1's rmse: 0.13097\n",
      "[170]\ttraining's rmse: 0.0254263\tvalid_1's rmse: 0.130526\n",
      "[180]\ttraining's rmse: 0.0241805\tvalid_1's rmse: 0.130371\n",
      "[190]\ttraining's rmse: 0.0230255\tvalid_1's rmse: 0.13021\n",
      "[200]\ttraining's rmse: 0.0220265\tvalid_1's rmse: 0.129983\n",
      "[210]\ttraining's rmse: 0.0211105\tvalid_1's rmse: 0.129883\n",
      "[220]\ttraining's rmse: 0.0202795\tvalid_1's rmse: 0.129676\n",
      "[230]\ttraining's rmse: 0.0193719\tvalid_1's rmse: 0.129373\n",
      "[240]\ttraining's rmse: 0.0185802\tvalid_1's rmse: 0.129245\n",
      "[250]\ttraining's rmse: 0.0179025\tvalid_1's rmse: 0.129025\n",
      "[260]\ttraining's rmse: 0.017245\tvalid_1's rmse: 0.128863\n",
      "[270]\ttraining's rmse: 0.0166382\tvalid_1's rmse: 0.128762\n",
      "[280]\ttraining's rmse: 0.0160417\tvalid_1's rmse: 0.128668\n",
      "[290]\ttraining's rmse: 0.0154552\tvalid_1's rmse: 0.128592\n",
      "[300]\ttraining's rmse: 0.0149299\tvalid_1's rmse: 0.128436\n",
      "[310]\ttraining's rmse: 0.0144148\tvalid_1's rmse: 0.128316\n",
      "[320]\ttraining's rmse: 0.013907\tvalid_1's rmse: 0.12823\n",
      "[330]\ttraining's rmse: 0.013424\tvalid_1's rmse: 0.128125\n",
      "[340]\ttraining's rmse: 0.0129993\tvalid_1's rmse: 0.128107\n",
      "[350]\ttraining's rmse: 0.0126114\tvalid_1's rmse: 0.128045\n",
      "[360]\ttraining's rmse: 0.012235\tvalid_1's rmse: 0.127972\n",
      "[370]\ttraining's rmse: 0.0117889\tvalid_1's rmse: 0.127845\n",
      "[380]\ttraining's rmse: 0.0114482\tvalid_1's rmse: 0.127812\n",
      "[390]\ttraining's rmse: 0.0111245\tvalid_1's rmse: 0.127744\n",
      "[400]\ttraining's rmse: 0.0107754\tvalid_1's rmse: 0.12767\n",
      "[410]\ttraining's rmse: 0.0104354\tvalid_1's rmse: 0.127598\n",
      "[420]\ttraining's rmse: 0.0101202\tvalid_1's rmse: 0.127505\n",
      "[430]\ttraining's rmse: 0.00984761\tvalid_1's rmse: 0.127439\n",
      "[440]\ttraining's rmse: 0.00953672\tvalid_1's rmse: 0.127384\n",
      "[450]\ttraining's rmse: 0.00924968\tvalid_1's rmse: 0.12737\n",
      "[460]\ttraining's rmse: 0.0089995\tvalid_1's rmse: 0.127332\n",
      "[470]\ttraining's rmse: 0.00873905\tvalid_1's rmse: 0.127252\n",
      "[480]\ttraining's rmse: 0.00847631\tvalid_1's rmse: 0.127192\n",
      "[490]\ttraining's rmse: 0.00826516\tvalid_1's rmse: 0.127179\n",
      "[500]\ttraining's rmse: 0.00800049\tvalid_1's rmse: 0.1271\n",
      "[510]\ttraining's rmse: 0.00777551\tvalid_1's rmse: 0.127031\n",
      "[520]\ttraining's rmse: 0.00756558\tvalid_1's rmse: 0.126984\n",
      "[530]\ttraining's rmse: 0.00736041\tvalid_1's rmse: 0.126946\n",
      "[540]\ttraining's rmse: 0.00715062\tvalid_1's rmse: 0.126901\n",
      "[550]\ttraining's rmse: 0.00693683\tvalid_1's rmse: 0.126874\n",
      "[560]\ttraining's rmse: 0.00674504\tvalid_1's rmse: 0.126821\n",
      "[570]\ttraining's rmse: 0.00656262\tvalid_1's rmse: 0.126776\n",
      "[580]\ttraining's rmse: 0.00637368\tvalid_1's rmse: 0.126742\n",
      "[590]\ttraining's rmse: 0.00621812\tvalid_1's rmse: 0.126709\n",
      "[600]\ttraining's rmse: 0.00604303\tvalid_1's rmse: 0.126672\n",
      "[610]\ttraining's rmse: 0.00586605\tvalid_1's rmse: 0.126635\n",
      "[620]\ttraining's rmse: 0.00572021\tvalid_1's rmse: 0.126609\n",
      "[630]\ttraining's rmse: 0.0055474\tvalid_1's rmse: 0.126584\n",
      "[640]\ttraining's rmse: 0.0053967\tvalid_1's rmse: 0.126543\n",
      "[650]\ttraining's rmse: 0.00523528\tvalid_1's rmse: 0.126506\n",
      "[660]\ttraining's rmse: 0.00509444\tvalid_1's rmse: 0.12648\n",
      "[670]\ttraining's rmse: 0.00496343\tvalid_1's rmse: 0.126449\n",
      "[680]\ttraining's rmse: 0.00483561\tvalid_1's rmse: 0.12643\n",
      "[690]\ttraining's rmse: 0.00468655\tvalid_1's rmse: 0.126403\n",
      "[700]\ttraining's rmse: 0.00457147\tvalid_1's rmse: 0.126388\n",
      "[710]\ttraining's rmse: 0.00446221\tvalid_1's rmse: 0.12636\n",
      "[720]\ttraining's rmse: 0.00432166\tvalid_1's rmse: 0.126325\n",
      "[730]\ttraining's rmse: 0.00421945\tvalid_1's rmse: 0.126304\n",
      "[740]\ttraining's rmse: 0.00409482\tvalid_1's rmse: 0.126283\n",
      "[750]\ttraining's rmse: 0.00400826\tvalid_1's rmse: 0.126282\n",
      "Early stopping, best iteration is:\n",
      "[742]\ttraining's rmse: 0.00407672\tvalid_1's rmse: 0.126281\n"
     ]
    },
    {
     "name": "stderr",
     "output_type": "stream",
     "text": [
      "regularization_factors, val_score: 0.126281:  20%|#######6                              | 4/20 [00:03<00:12,  1.27it/s][I 2020-10-23 12:50:49,957] Trial 43 finished with value: 0.12628136930860734 and parameters: {'lambda_l1': 1.3066358795017992e-08, 'lambda_l2': 1.2257085646087851e-08}. Best is trial 42 with value: 0.12628136930727857.\n",
      "regularization_factors, val_score: 0.126281:  20%|#######6                              | 4/20 [00:03<00:12,  1.27it/s]"
     ]
    },
    {
     "name": "stdout",
     "output_type": "stream",
     "text": [
      "Training until validation scores don't improve for 10 rounds\n",
      "[10]\ttraining's rmse: 0.184356\tvalid_1's rmse: 0.187833\n",
      "[20]\ttraining's rmse: 0.110865\tvalid_1's rmse: 0.143652\n",
      "[30]\ttraining's rmse: 0.0844617\tvalid_1's rmse: 0.137811\n",
      "[40]\ttraining's rmse: 0.0714649\tvalid_1's rmse: 0.136391\n",
      "[50]\ttraining's rmse: 0.062842\tvalid_1's rmse: 0.134626\n",
      "[60]\ttraining's rmse: 0.0562272\tvalid_1's rmse: 0.133807\n",
      "[70]\ttraining's rmse: 0.0507825\tvalid_1's rmse: 0.133089\n",
      "[80]\ttraining's rmse: 0.0463091\tvalid_1's rmse: 0.132861\n",
      "[90]\ttraining's rmse: 0.0425663\tvalid_1's rmse: 0.132578\n",
      "[100]\ttraining's rmse: 0.0393521\tvalid_1's rmse: 0.132287\n",
      "[110]\ttraining's rmse: 0.0366366\tvalid_1's rmse: 0.132161\n",
      "[120]\ttraining's rmse: 0.0342745\tvalid_1's rmse: 0.131796\n",
      "[130]\ttraining's rmse: 0.0322003\tvalid_1's rmse: 0.131609\n",
      "[140]\ttraining's rmse: 0.0302742\tvalid_1's rmse: 0.131386\n",
      "[150]\ttraining's rmse: 0.0285282\tvalid_1's rmse: 0.131129\n",
      "[160]\ttraining's rmse: 0.0269892\tvalid_1's rmse: 0.13097\n",
      "[170]\ttraining's rmse: 0.0254263\tvalid_1's rmse: 0.130526\n",
      "[180]\ttraining's rmse: 0.0241805\tvalid_1's rmse: 0.130371\n",
      "[190]\ttraining's rmse: 0.0230255\tvalid_1's rmse: 0.13021\n",
      "[200]\ttraining's rmse: 0.0220265\tvalid_1's rmse: 0.129983\n",
      "[210]\ttraining's rmse: 0.0211105\tvalid_1's rmse: 0.129883\n",
      "[220]\ttraining's rmse: 0.0202795\tvalid_1's rmse: 0.129676\n",
      "[230]\ttraining's rmse: 0.0193719\tvalid_1's rmse: 0.129373\n",
      "[240]\ttraining's rmse: 0.0185802\tvalid_1's rmse: 0.129245\n",
      "[250]\ttraining's rmse: 0.0179025\tvalid_1's rmse: 0.129025\n",
      "[260]\ttraining's rmse: 0.017245\tvalid_1's rmse: 0.128863\n",
      "[270]\ttraining's rmse: 0.0166382\tvalid_1's rmse: 0.128762\n",
      "[280]\ttraining's rmse: 0.0160417\tvalid_1's rmse: 0.128668\n",
      "[290]\ttraining's rmse: 0.0154552\tvalid_1's rmse: 0.128592\n",
      "[300]\ttraining's rmse: 0.0149299\tvalid_1's rmse: 0.128436\n",
      "[310]\ttraining's rmse: 0.0144148\tvalid_1's rmse: 0.128316\n",
      "[320]\ttraining's rmse: 0.013907\tvalid_1's rmse: 0.12823\n",
      "[330]\ttraining's rmse: 0.013424\tvalid_1's rmse: 0.128125\n",
      "[340]\ttraining's rmse: 0.0129993\tvalid_1's rmse: 0.128107\n",
      "[350]\ttraining's rmse: 0.0126114\tvalid_1's rmse: 0.128045\n",
      "[360]\ttraining's rmse: 0.012235\tvalid_1's rmse: 0.127972\n",
      "[370]\ttraining's rmse: 0.0117889\tvalid_1's rmse: 0.127845\n",
      "[380]\ttraining's rmse: 0.0114482\tvalid_1's rmse: 0.127812\n",
      "[390]\ttraining's rmse: 0.0111245\tvalid_1's rmse: 0.127744\n",
      "[400]\ttraining's rmse: 0.0107754\tvalid_1's rmse: 0.12767\n",
      "[410]\ttraining's rmse: 0.0104354\tvalid_1's rmse: 0.127598\n",
      "[420]\ttraining's rmse: 0.0101202\tvalid_1's rmse: 0.127505\n",
      "[430]\ttraining's rmse: 0.00984761\tvalid_1's rmse: 0.127439\n",
      "[440]\ttraining's rmse: 0.00953672\tvalid_1's rmse: 0.127384\n",
      "[450]\ttraining's rmse: 0.00924968\tvalid_1's rmse: 0.12737\n",
      "[460]\ttraining's rmse: 0.0089995\tvalid_1's rmse: 0.127332\n",
      "[470]\ttraining's rmse: 0.00873905\tvalid_1's rmse: 0.127252\n",
      "[480]\ttraining's rmse: 0.00847631\tvalid_1's rmse: 0.127192\n",
      "[490]\ttraining's rmse: 0.00826516\tvalid_1's rmse: 0.127179\n",
      "[500]\ttraining's rmse: 0.00800049\tvalid_1's rmse: 0.1271\n",
      "[510]\ttraining's rmse: 0.00777551\tvalid_1's rmse: 0.127031\n",
      "[520]\ttraining's rmse: 0.00756558\tvalid_1's rmse: 0.126984\n",
      "[530]\ttraining's rmse: 0.00736041\tvalid_1's rmse: 0.126946\n",
      "[540]\ttraining's rmse: 0.00715062\tvalid_1's rmse: 0.126901\n",
      "[550]\ttraining's rmse: 0.00693683\tvalid_1's rmse: 0.126874\n",
      "[560]\ttraining's rmse: 0.00674504\tvalid_1's rmse: 0.126821\n",
      "[570]\ttraining's rmse: 0.00656262\tvalid_1's rmse: 0.126776\n",
      "[580]\ttraining's rmse: 0.00637368\tvalid_1's rmse: 0.126742\n",
      "[590]\ttraining's rmse: 0.00621812\tvalid_1's rmse: 0.126709\n",
      "[600]\ttraining's rmse: 0.00604303\tvalid_1's rmse: 0.126672\n",
      "[610]\ttraining's rmse: 0.00586605\tvalid_1's rmse: 0.126635\n",
      "[620]\ttraining's rmse: 0.00572021\tvalid_1's rmse: 0.126609\n",
      "[630]\ttraining's rmse: 0.0055474\tvalid_1's rmse: 0.126584\n",
      "[640]\ttraining's rmse: 0.0053967\tvalid_1's rmse: 0.126543\n",
      "[650]\ttraining's rmse: 0.00523528\tvalid_1's rmse: 0.126506\n",
      "[660]\ttraining's rmse: 0.00509444\tvalid_1's rmse: 0.12648\n",
      "[670]\ttraining's rmse: 0.00496343\tvalid_1's rmse: 0.126449\n",
      "[680]\ttraining's rmse: 0.00483561\tvalid_1's rmse: 0.12643\n",
      "[690]\ttraining's rmse: 0.00468655\tvalid_1's rmse: 0.126403\n",
      "[700]\ttraining's rmse: 0.00457147\tvalid_1's rmse: 0.126388\n",
      "[710]\ttraining's rmse: 0.00446221\tvalid_1's rmse: 0.12636\n",
      "[720]\ttraining's rmse: 0.00432166\tvalid_1's rmse: 0.126325\n",
      "[730]\ttraining's rmse: 0.00421945\tvalid_1's rmse: 0.126304\n",
      "[740]\ttraining's rmse: 0.00409482\tvalid_1's rmse: 0.126283\n",
      "[750]\ttraining's rmse: 0.00400826\tvalid_1's rmse: 0.126282\n",
      "Early stopping, best iteration is:\n",
      "[742]\ttraining's rmse: 0.00407672\tvalid_1's rmse: 0.126281\n"
     ]
    },
    {
     "name": "stderr",
     "output_type": "stream",
     "text": [
      "regularization_factors, val_score: 0.126281:  25%|#########5                            | 5/20 [00:05<00:15,  1.04s/it][I 2020-10-23 12:50:51,604] Trial 44 finished with value: 0.1262813693006542 and parameters: {'lambda_l1': 1.5621196508522306e-08, 'lambda_l2': 1.0399140510842597e-08}. Best is trial 44 with value: 0.1262813693006542.\n",
      "regularization_factors, val_score: 0.126281:  25%|#########5                            | 5/20 [00:05<00:15,  1.04s/it]"
     ]
    },
    {
     "name": "stdout",
     "output_type": "stream",
     "text": [
      "Training until validation scores don't improve for 10 rounds\n",
      "[10]\ttraining's rmse: 0.184356\tvalid_1's rmse: 0.187833\n",
      "[20]\ttraining's rmse: 0.110865\tvalid_1's rmse: 0.143652\n",
      "[30]\ttraining's rmse: 0.0844617\tvalid_1's rmse: 0.137811\n",
      "[40]\ttraining's rmse: 0.0714649\tvalid_1's rmse: 0.136391\n",
      "[50]\ttraining's rmse: 0.062842\tvalid_1's rmse: 0.134626\n",
      "[60]\ttraining's rmse: 0.0562272\tvalid_1's rmse: 0.133807\n",
      "[70]\ttraining's rmse: 0.0507825\tvalid_1's rmse: 0.133089\n",
      "[80]\ttraining's rmse: 0.0463091\tvalid_1's rmse: 0.132861\n",
      "[90]\ttraining's rmse: 0.0425663\tvalid_1's rmse: 0.132578\n",
      "[100]\ttraining's rmse: 0.0393521\tvalid_1's rmse: 0.132287\n",
      "[110]\ttraining's rmse: 0.0366366\tvalid_1's rmse: 0.132161\n",
      "[120]\ttraining's rmse: 0.0342745\tvalid_1's rmse: 0.131796\n",
      "[130]\ttraining's rmse: 0.0322003\tvalid_1's rmse: 0.131609\n",
      "[140]\ttraining's rmse: 0.0302742\tvalid_1's rmse: 0.131386\n",
      "[150]\ttraining's rmse: 0.0285282\tvalid_1's rmse: 0.131129\n",
      "[160]\ttraining's rmse: 0.0269892\tvalid_1's rmse: 0.13097\n",
      "[170]\ttraining's rmse: 0.0254263\tvalid_1's rmse: 0.130526\n",
      "[180]\ttraining's rmse: 0.0241805\tvalid_1's rmse: 0.130371\n",
      "[190]\ttraining's rmse: 0.0230255\tvalid_1's rmse: 0.13021\n",
      "[200]\ttraining's rmse: 0.0220262\tvalid_1's rmse: 0.129983\n",
      "[210]\ttraining's rmse: 0.0211187\tvalid_1's rmse: 0.129749\n",
      "[220]\ttraining's rmse: 0.0202293\tvalid_1's rmse: 0.129586\n",
      "[230]\ttraining's rmse: 0.0193851\tvalid_1's rmse: 0.129263\n",
      "[240]\ttraining's rmse: 0.0186467\tvalid_1's rmse: 0.129124\n",
      "[250]\ttraining's rmse: 0.0179676\tvalid_1's rmse: 0.128978\n",
      "[260]\ttraining's rmse: 0.0173134\tvalid_1's rmse: 0.128908\n",
      "[270]\ttraining's rmse: 0.0166924\tvalid_1's rmse: 0.128844\n",
      "[280]\ttraining's rmse: 0.0160643\tvalid_1's rmse: 0.128788\n",
      "[290]\ttraining's rmse: 0.0155011\tvalid_1's rmse: 0.128635\n",
      "[300]\ttraining's rmse: 0.0149196\tvalid_1's rmse: 0.12854\n",
      "[310]\ttraining's rmse: 0.0144537\tvalid_1's rmse: 0.12841\n",
      "[320]\ttraining's rmse: 0.0139923\tvalid_1's rmse: 0.128326\n",
      "[330]\ttraining's rmse: 0.01354\tvalid_1's rmse: 0.128189\n",
      "[340]\ttraining's rmse: 0.0130915\tvalid_1's rmse: 0.128113\n",
      "[350]\ttraining's rmse: 0.0126972\tvalid_1's rmse: 0.128031\n",
      "[360]\ttraining's rmse: 0.012282\tvalid_1's rmse: 0.127901\n",
      "[370]\ttraining's rmse: 0.0119317\tvalid_1's rmse: 0.127841\n",
      "[380]\ttraining's rmse: 0.0115332\tvalid_1's rmse: 0.127748\n",
      "[390]\ttraining's rmse: 0.0112003\tvalid_1's rmse: 0.12767\n",
      "[400]\ttraining's rmse: 0.0108585\tvalid_1's rmse: 0.127597\n",
      "[410]\ttraining's rmse: 0.0105645\tvalid_1's rmse: 0.127568\n",
      "[420]\ttraining's rmse: 0.0101935\tvalid_1's rmse: 0.127445\n",
      "[430]\ttraining's rmse: 0.00991317\tvalid_1's rmse: 0.127367\n",
      "[440]\ttraining's rmse: 0.00962828\tvalid_1's rmse: 0.127326\n",
      "[450]\ttraining's rmse: 0.0093201\tvalid_1's rmse: 0.127283\n",
      "[460]\ttraining's rmse: 0.00902366\tvalid_1's rmse: 0.127223\n",
      "[470]\ttraining's rmse: 0.00878999\tvalid_1's rmse: 0.127211\n",
      "[480]\ttraining's rmse: 0.00851498\tvalid_1's rmse: 0.127115\n",
      "[490]\ttraining's rmse: 0.00828746\tvalid_1's rmse: 0.127083\n",
      "[500]\ttraining's rmse: 0.00806266\tvalid_1's rmse: 0.12701\n",
      "[510]\ttraining's rmse: 0.00782861\tvalid_1's rmse: 0.127001\n",
      "[520]\ttraining's rmse: 0.00756856\tvalid_1's rmse: 0.12696\n",
      "[530]\ttraining's rmse: 0.00737663\tvalid_1's rmse: 0.12693\n",
      "[540]\ttraining's rmse: 0.00714369\tvalid_1's rmse: 0.126866\n",
      "[550]\ttraining's rmse: 0.00695725\tvalid_1's rmse: 0.126857\n",
      "[560]\ttraining's rmse: 0.00674834\tvalid_1's rmse: 0.126803\n",
      "[570]\ttraining's rmse: 0.0065741\tvalid_1's rmse: 0.126765\n",
      "[580]\ttraining's rmse: 0.00638748\tvalid_1's rmse: 0.12674\n",
      "[590]\ttraining's rmse: 0.00619586\tvalid_1's rmse: 0.126685\n",
      "[600]\ttraining's rmse: 0.00602588\tvalid_1's rmse: 0.126655\n",
      "[610]\ttraining's rmse: 0.00585822\tvalid_1's rmse: 0.126618\n",
      "[620]\ttraining's rmse: 0.00572109\tvalid_1's rmse: 0.126602\n",
      "[630]\ttraining's rmse: 0.00555031\tvalid_1's rmse: 0.126561\n",
      "[640]\ttraining's rmse: 0.0053918\tvalid_1's rmse: 0.126535\n",
      "[650]\ttraining's rmse: 0.00524372\tvalid_1's rmse: 0.126496\n",
      "[660]\ttraining's rmse: 0.00510549\tvalid_1's rmse: 0.126456\n",
      "[670]\ttraining's rmse: 0.00496288\tvalid_1's rmse: 0.126458\n",
      "Early stopping, best iteration is:\n",
      "[660]\ttraining's rmse: 0.00510549\tvalid_1's rmse: 0.126456\n"
     ]
    },
    {
     "name": "stderr",
     "output_type": "stream",
     "text": [
      "regularization_factors, val_score: 0.126281:  30%|###########4                          | 6/20 [00:06<00:16,  1.19s/it][I 2020-10-23 12:50:53,126] Trial 45 finished with value: 0.12645614735429786 and parameters: {'lambda_l1': 1.0225070017882764e-08, 'lambda_l2': 3.4095743596118624e-08}. Best is trial 44 with value: 0.1262813693006542.\n",
      "regularization_factors, val_score: 0.126281:  30%|###########4                          | 6/20 [00:06<00:16,  1.19s/it]"
     ]
    },
    {
     "name": "stdout",
     "output_type": "stream",
     "text": [
      "Training until validation scores don't improve for 10 rounds\n",
      "[10]\ttraining's rmse: 0.184356\tvalid_1's rmse: 0.187833\n",
      "[20]\ttraining's rmse: 0.110865\tvalid_1's rmse: 0.143652\n",
      "[30]\ttraining's rmse: 0.0844617\tvalid_1's rmse: 0.137811\n",
      "[40]\ttraining's rmse: 0.0714649\tvalid_1's rmse: 0.136391\n",
      "[50]\ttraining's rmse: 0.062842\tvalid_1's rmse: 0.134626\n",
      "[60]\ttraining's rmse: 0.0562272\tvalid_1's rmse: 0.133807\n",
      "[70]\ttraining's rmse: 0.0507825\tvalid_1's rmse: 0.133089\n",
      "[80]\ttraining's rmse: 0.0463091\tvalid_1's rmse: 0.132861\n",
      "[90]\ttraining's rmse: 0.0425663\tvalid_1's rmse: 0.132578\n",
      "[100]\ttraining's rmse: 0.0393521\tvalid_1's rmse: 0.132287\n",
      "[110]\ttraining's rmse: 0.0366366\tvalid_1's rmse: 0.132161\n",
      "[120]\ttraining's rmse: 0.0342745\tvalid_1's rmse: 0.131796\n",
      "[130]\ttraining's rmse: 0.0322003\tvalid_1's rmse: 0.131609\n",
      "[140]\ttraining's rmse: 0.0302742\tvalid_1's rmse: 0.131386\n",
      "[150]\ttraining's rmse: 0.0285282\tvalid_1's rmse: 0.131129\n",
      "[160]\ttraining's rmse: 0.0269892\tvalid_1's rmse: 0.13097\n",
      "[170]\ttraining's rmse: 0.0254263\tvalid_1's rmse: 0.130526\n",
      "[180]\ttraining's rmse: 0.0241805\tvalid_1's rmse: 0.130371\n",
      "[190]\ttraining's rmse: 0.0230255\tvalid_1's rmse: 0.13021\n",
      "[200]\ttraining's rmse: 0.0220265\tvalid_1's rmse: 0.129983\n",
      "[210]\ttraining's rmse: 0.0211105\tvalid_1's rmse: 0.129883\n",
      "[220]\ttraining's rmse: 0.0202795\tvalid_1's rmse: 0.129676\n",
      "[230]\ttraining's rmse: 0.0193719\tvalid_1's rmse: 0.129373\n",
      "[240]\ttraining's rmse: 0.0185802\tvalid_1's rmse: 0.129245\n",
      "[250]\ttraining's rmse: 0.0179025\tvalid_1's rmse: 0.129025\n",
      "[260]\ttraining's rmse: 0.017245\tvalid_1's rmse: 0.128863\n",
      "[270]\ttraining's rmse: 0.0166382\tvalid_1's rmse: 0.128762\n",
      "[280]\ttraining's rmse: 0.0160417\tvalid_1's rmse: 0.128668\n",
      "[290]\ttraining's rmse: 0.0154552\tvalid_1's rmse: 0.128592\n",
      "[300]\ttraining's rmse: 0.0149299\tvalid_1's rmse: 0.128436\n",
      "[310]\ttraining's rmse: 0.0144148\tvalid_1's rmse: 0.128316\n",
      "[320]\ttraining's rmse: 0.013907\tvalid_1's rmse: 0.12823\n",
      "[330]\ttraining's rmse: 0.013424\tvalid_1's rmse: 0.128125\n",
      "[340]\ttraining's rmse: 0.0129993\tvalid_1's rmse: 0.128107\n",
      "[350]\ttraining's rmse: 0.0126114\tvalid_1's rmse: 0.128045\n",
      "[360]\ttraining's rmse: 0.012235\tvalid_1's rmse: 0.127972\n",
      "[370]\ttraining's rmse: 0.0117889\tvalid_1's rmse: 0.127845\n",
      "[380]\ttraining's rmse: 0.0114482\tvalid_1's rmse: 0.127812\n",
      "[390]\ttraining's rmse: 0.0111245\tvalid_1's rmse: 0.127744\n",
      "[400]\ttraining's rmse: 0.0107754\tvalid_1's rmse: 0.12767\n",
      "[410]\ttraining's rmse: 0.0104354\tvalid_1's rmse: 0.127598\n",
      "[420]\ttraining's rmse: 0.0101202\tvalid_1's rmse: 0.127505\n",
      "[430]\ttraining's rmse: 0.00984761\tvalid_1's rmse: 0.127439\n",
      "[440]\ttraining's rmse: 0.00953672\tvalid_1's rmse: 0.127384\n",
      "[450]\ttraining's rmse: 0.00924968\tvalid_1's rmse: 0.12737\n",
      "[460]\ttraining's rmse: 0.0089995\tvalid_1's rmse: 0.127332\n",
      "[470]\ttraining's rmse: 0.00873905\tvalid_1's rmse: 0.127252\n",
      "[480]\ttraining's rmse: 0.00847631\tvalid_1's rmse: 0.127192\n",
      "[490]\ttraining's rmse: 0.00826516\tvalid_1's rmse: 0.127179\n",
      "[500]\ttraining's rmse: 0.00800049\tvalid_1's rmse: 0.1271\n",
      "[510]\ttraining's rmse: 0.00777551\tvalid_1's rmse: 0.127031\n",
      "[520]\ttraining's rmse: 0.00756558\tvalid_1's rmse: 0.126984\n",
      "[530]\ttraining's rmse: 0.00736041\tvalid_1's rmse: 0.126946\n",
      "[540]\ttraining's rmse: 0.00715062\tvalid_1's rmse: 0.126901\n",
      "[550]\ttraining's rmse: 0.00693683\tvalid_1's rmse: 0.126874\n",
      "[560]\ttraining's rmse: 0.00674504\tvalid_1's rmse: 0.126821\n",
      "[570]\ttraining's rmse: 0.00656262\tvalid_1's rmse: 0.126776\n",
      "[580]\ttraining's rmse: 0.00637368\tvalid_1's rmse: 0.126742\n",
      "[590]\ttraining's rmse: 0.00621812\tvalid_1's rmse: 0.126709\n",
      "[600]\ttraining's rmse: 0.00604303\tvalid_1's rmse: 0.126672\n",
      "[610]\ttraining's rmse: 0.00586605\tvalid_1's rmse: 0.126635\n",
      "[620]\ttraining's rmse: 0.00572021\tvalid_1's rmse: 0.126609\n",
      "[630]\ttraining's rmse: 0.0055474\tvalid_1's rmse: 0.126584\n",
      "[640]\ttraining's rmse: 0.0053967\tvalid_1's rmse: 0.126543\n",
      "[650]\ttraining's rmse: 0.00523528\tvalid_1's rmse: 0.126506\n",
      "[660]\ttraining's rmse: 0.00509444\tvalid_1's rmse: 0.12648\n",
      "[670]\ttraining's rmse: 0.00496343\tvalid_1's rmse: 0.126449\n",
      "[680]\ttraining's rmse: 0.00483561\tvalid_1's rmse: 0.12643\n",
      "[690]\ttraining's rmse: 0.00468655\tvalid_1's rmse: 0.126403\n",
      "[700]\ttraining's rmse: 0.00457147\tvalid_1's rmse: 0.126388\n",
      "[710]\ttraining's rmse: 0.00446221\tvalid_1's rmse: 0.12636\n",
      "[720]\ttraining's rmse: 0.00432166\tvalid_1's rmse: 0.126325\n",
      "[730]\ttraining's rmse: 0.00421945\tvalid_1's rmse: 0.126304\n",
      "[740]\ttraining's rmse: 0.00409482\tvalid_1's rmse: 0.126283\n",
      "[750]\ttraining's rmse: 0.00400826\tvalid_1's rmse: 0.126282\n",
      "Early stopping, best iteration is:\n",
      "[742]\ttraining's rmse: 0.00407672\tvalid_1's rmse: 0.126281\n"
     ]
    },
    {
     "name": "stderr",
     "output_type": "stream",
     "text": [
      "regularization_factors, val_score: 0.126281:  35%|#############3                        | 7/20 [00:08<00:17,  1.36s/it][I 2020-10-23 12:50:54,882] Trial 46 finished with value: 0.12628136930363096 and parameters: {'lambda_l1': 1.4450487628741102e-08, 'lambda_l2': 1.3293248650684541e-08}. Best is trial 44 with value: 0.1262813693006542.\n",
      "regularization_factors, val_score: 0.126281:  35%|#############3                        | 7/20 [00:08<00:17,  1.36s/it]"
     ]
    },
    {
     "name": "stdout",
     "output_type": "stream",
     "text": [
      "Training until validation scores don't improve for 10 rounds\n",
      "[10]\ttraining's rmse: 0.184356\tvalid_1's rmse: 0.187833\n",
      "[20]\ttraining's rmse: 0.110865\tvalid_1's rmse: 0.143652\n",
      "[30]\ttraining's rmse: 0.0844617\tvalid_1's rmse: 0.137811\n",
      "[40]\ttraining's rmse: 0.0714649\tvalid_1's rmse: 0.136391\n",
      "[50]\ttraining's rmse: 0.062842\tvalid_1's rmse: 0.134626\n",
      "[60]\ttraining's rmse: 0.0562272\tvalid_1's rmse: 0.133807\n",
      "[70]\ttraining's rmse: 0.0507825\tvalid_1's rmse: 0.133089\n",
      "[80]\ttraining's rmse: 0.0463091\tvalid_1's rmse: 0.132861\n",
      "[90]\ttraining's rmse: 0.0425663\tvalid_1's rmse: 0.132578\n",
      "[100]\ttraining's rmse: 0.0393521\tvalid_1's rmse: 0.132287\n",
      "[110]\ttraining's rmse: 0.0366366\tvalid_1's rmse: 0.132161\n",
      "[120]\ttraining's rmse: 0.0342745\tvalid_1's rmse: 0.131796\n",
      "[130]\ttraining's rmse: 0.0322003\tvalid_1's rmse: 0.131609\n",
      "[140]\ttraining's rmse: 0.0302742\tvalid_1's rmse: 0.131386\n",
      "[150]\ttraining's rmse: 0.0285282\tvalid_1's rmse: 0.131129\n",
      "[160]\ttraining's rmse: 0.0269892\tvalid_1's rmse: 0.13097\n",
      "[170]\ttraining's rmse: 0.0254263\tvalid_1's rmse: 0.130526\n",
      "[180]\ttraining's rmse: 0.0241805\tvalid_1's rmse: 0.130371\n",
      "[190]\ttraining's rmse: 0.0230255\tvalid_1's rmse: 0.13021\n",
      "[200]\ttraining's rmse: 0.0220262\tvalid_1's rmse: 0.129983\n",
      "[210]\ttraining's rmse: 0.0211187\tvalid_1's rmse: 0.129749\n",
      "[220]\ttraining's rmse: 0.0202293\tvalid_1's rmse: 0.129586\n",
      "[230]\ttraining's rmse: 0.0193851\tvalid_1's rmse: 0.129263\n",
      "[240]\ttraining's rmse: 0.0186467\tvalid_1's rmse: 0.129124\n",
      "[250]\ttraining's rmse: 0.0179676\tvalid_1's rmse: 0.128978\n",
      "[260]\ttraining's rmse: 0.0173134\tvalid_1's rmse: 0.128908\n",
      "[270]\ttraining's rmse: 0.0166924\tvalid_1's rmse: 0.128844\n",
      "[280]\ttraining's rmse: 0.0160643\tvalid_1's rmse: 0.128788\n",
      "[290]\ttraining's rmse: 0.0155011\tvalid_1's rmse: 0.128635\n",
      "[300]\ttraining's rmse: 0.0149196\tvalid_1's rmse: 0.12854\n",
      "[310]\ttraining's rmse: 0.0144537\tvalid_1's rmse: 0.12841\n",
      "[320]\ttraining's rmse: 0.0139923\tvalid_1's rmse: 0.128326\n",
      "[330]\ttraining's rmse: 0.01354\tvalid_1's rmse: 0.128189\n",
      "[340]\ttraining's rmse: 0.0130915\tvalid_1's rmse: 0.128113\n",
      "[350]\ttraining's rmse: 0.0126972\tvalid_1's rmse: 0.128031\n",
      "[360]\ttraining's rmse: 0.012282\tvalid_1's rmse: 0.127901\n",
      "[370]\ttraining's rmse: 0.0119317\tvalid_1's rmse: 0.127841\n",
      "[380]\ttraining's rmse: 0.0115332\tvalid_1's rmse: 0.127748\n",
      "[390]\ttraining's rmse: 0.0112003\tvalid_1's rmse: 0.12767\n",
      "[400]\ttraining's rmse: 0.0108585\tvalid_1's rmse: 0.127597\n",
      "[410]\ttraining's rmse: 0.0105645\tvalid_1's rmse: 0.127568\n",
      "[420]\ttraining's rmse: 0.0101935\tvalid_1's rmse: 0.127445\n",
      "[430]\ttraining's rmse: 0.00991317\tvalid_1's rmse: 0.127367\n",
      "[440]\ttraining's rmse: 0.00962828\tvalid_1's rmse: 0.127326\n",
      "[450]\ttraining's rmse: 0.0093201\tvalid_1's rmse: 0.127283\n",
      "[460]\ttraining's rmse: 0.00902366\tvalid_1's rmse: 0.127223\n",
      "[470]\ttraining's rmse: 0.00878999\tvalid_1's rmse: 0.127211\n",
      "[480]\ttraining's rmse: 0.00851498\tvalid_1's rmse: 0.127115\n",
      "[490]\ttraining's rmse: 0.00828746\tvalid_1's rmse: 0.127083\n",
      "[500]\ttraining's rmse: 0.00806266\tvalid_1's rmse: 0.12701\n",
      "[510]\ttraining's rmse: 0.00782861\tvalid_1's rmse: 0.127001\n",
      "[520]\ttraining's rmse: 0.00756856\tvalid_1's rmse: 0.12696\n",
      "[530]\ttraining's rmse: 0.00737663\tvalid_1's rmse: 0.12693\n",
      "[540]\ttraining's rmse: 0.00714369\tvalid_1's rmse: 0.126866\n",
      "[550]\ttraining's rmse: 0.00695725\tvalid_1's rmse: 0.126857\n",
      "[560]\ttraining's rmse: 0.00674834\tvalid_1's rmse: 0.126803\n",
      "[570]\ttraining's rmse: 0.0065741\tvalid_1's rmse: 0.126765\n",
      "[580]\ttraining's rmse: 0.00638748\tvalid_1's rmse: 0.12674\n",
      "[590]\ttraining's rmse: 0.00619586\tvalid_1's rmse: 0.126685\n",
      "[600]\ttraining's rmse: 0.00602588\tvalid_1's rmse: 0.126655\n",
      "[610]\ttraining's rmse: 0.00585822\tvalid_1's rmse: 0.126618\n",
      "[620]\ttraining's rmse: 0.00572109\tvalid_1's rmse: 0.126602\n",
      "[630]\ttraining's rmse: 0.00555031\tvalid_1's rmse: 0.126561\n",
      "[640]\ttraining's rmse: 0.0053918\tvalid_1's rmse: 0.126535\n",
      "[650]\ttraining's rmse: 0.00524372\tvalid_1's rmse: 0.126496\n",
      "[660]\ttraining's rmse: 0.00510549\tvalid_1's rmse: 0.126456\n",
      "[670]\ttraining's rmse: 0.00496288\tvalid_1's rmse: 0.126458\n",
      "Early stopping, best iteration is:\n",
      "[660]\ttraining's rmse: 0.00510549\tvalid_1's rmse: 0.126456\n"
     ]
    },
    {
     "name": "stderr",
     "output_type": "stream",
     "text": [
      "regularization_factors, val_score: 0.126281:  40%|###############2                      | 8/20 [00:10<00:16,  1.41s/it][I 2020-10-23 12:50:56,429] Trial 47 finished with value: 0.12645614734691 and parameters: {'lambda_l1': 1.0390914310711929e-08, 'lambda_l2': 3.213696186640557e-08}. Best is trial 44 with value: 0.1262813693006542.\n",
      "regularization_factors, val_score: 0.126281:  40%|###############2                      | 8/20 [00:10<00:16,  1.41s/it]"
     ]
    },
    {
     "name": "stdout",
     "output_type": "stream",
     "text": [
      "Training until validation scores don't improve for 10 rounds\n",
      "[10]\ttraining's rmse: 0.184356\tvalid_1's rmse: 0.187833\n",
      "[20]\ttraining's rmse: 0.110865\tvalid_1's rmse: 0.143652\n",
      "[30]\ttraining's rmse: 0.0844617\tvalid_1's rmse: 0.137811\n",
      "[40]\ttraining's rmse: 0.0714649\tvalid_1's rmse: 0.136391\n",
      "[50]\ttraining's rmse: 0.062842\tvalid_1's rmse: 0.134626\n",
      "[60]\ttraining's rmse: 0.0562272\tvalid_1's rmse: 0.133807\n",
      "[70]\ttraining's rmse: 0.0507825\tvalid_1's rmse: 0.133089\n",
      "[80]\ttraining's rmse: 0.0463091\tvalid_1's rmse: 0.132861\n",
      "[90]\ttraining's rmse: 0.0425663\tvalid_1's rmse: 0.132578\n",
      "[100]\ttraining's rmse: 0.0393521\tvalid_1's rmse: 0.132287\n",
      "[110]\ttraining's rmse: 0.0366366\tvalid_1's rmse: 0.132161\n",
      "[120]\ttraining's rmse: 0.0342745\tvalid_1's rmse: 0.131796\n",
      "[130]\ttraining's rmse: 0.0322003\tvalid_1's rmse: 0.131609\n",
      "[140]\ttraining's rmse: 0.0302742\tvalid_1's rmse: 0.131386\n",
      "[150]\ttraining's rmse: 0.0285282\tvalid_1's rmse: 0.131129\n",
      "[160]\ttraining's rmse: 0.0269892\tvalid_1's rmse: 0.13097\n",
      "[170]\ttraining's rmse: 0.0254263\tvalid_1's rmse: 0.130526\n",
      "[180]\ttraining's rmse: 0.0241805\tvalid_1's rmse: 0.130371\n",
      "[190]\ttraining's rmse: 0.0230255\tvalid_1's rmse: 0.13021\n",
      "[200]\ttraining's rmse: 0.0220262\tvalid_1's rmse: 0.129983\n",
      "[210]\ttraining's rmse: 0.0211187\tvalid_1's rmse: 0.129749\n",
      "[220]\ttraining's rmse: 0.0202293\tvalid_1's rmse: 0.129586\n",
      "[230]\ttraining's rmse: 0.0193851\tvalid_1's rmse: 0.129263\n",
      "[240]\ttraining's rmse: 0.0186467\tvalid_1's rmse: 0.129124\n",
      "[250]\ttraining's rmse: 0.0179676\tvalid_1's rmse: 0.128978\n",
      "[260]\ttraining's rmse: 0.0173134\tvalid_1's rmse: 0.128908\n",
      "[270]\ttraining's rmse: 0.0166924\tvalid_1's rmse: 0.128844\n",
      "[280]\ttraining's rmse: 0.0160643\tvalid_1's rmse: 0.128788\n",
      "[290]\ttraining's rmse: 0.0155011\tvalid_1's rmse: 0.128635\n",
      "[300]\ttraining's rmse: 0.0149196\tvalid_1's rmse: 0.12854\n",
      "[310]\ttraining's rmse: 0.0144537\tvalid_1's rmse: 0.12841\n",
      "[320]\ttraining's rmse: 0.0139923\tvalid_1's rmse: 0.128326\n",
      "[330]\ttraining's rmse: 0.01354\tvalid_1's rmse: 0.128189\n",
      "[340]\ttraining's rmse: 0.0130915\tvalid_1's rmse: 0.128113\n",
      "[350]\ttraining's rmse: 0.0126972\tvalid_1's rmse: 0.128031\n",
      "[360]\ttraining's rmse: 0.012282\tvalid_1's rmse: 0.127901\n",
      "[370]\ttraining's rmse: 0.0119317\tvalid_1's rmse: 0.127841\n",
      "[380]\ttraining's rmse: 0.0115332\tvalid_1's rmse: 0.127748\n",
      "[390]\ttraining's rmse: 0.0112003\tvalid_1's rmse: 0.12767\n",
      "[400]\ttraining's rmse: 0.0108585\tvalid_1's rmse: 0.127597\n",
      "[410]\ttraining's rmse: 0.0105645\tvalid_1's rmse: 0.127568\n",
      "[420]\ttraining's rmse: 0.0101935\tvalid_1's rmse: 0.127445\n",
      "[430]\ttraining's rmse: 0.00991317\tvalid_1's rmse: 0.127367\n",
      "[440]\ttraining's rmse: 0.00962828\tvalid_1's rmse: 0.127326\n",
      "[450]\ttraining's rmse: 0.0093201\tvalid_1's rmse: 0.127283\n",
      "[460]\ttraining's rmse: 0.00902366\tvalid_1's rmse: 0.127223\n",
      "[470]\ttraining's rmse: 0.00878999\tvalid_1's rmse: 0.127211\n",
      "[480]\ttraining's rmse: 0.00851498\tvalid_1's rmse: 0.127115\n",
      "[490]\ttraining's rmse: 0.00828746\tvalid_1's rmse: 0.127083\n",
      "[500]\ttraining's rmse: 0.00806266\tvalid_1's rmse: 0.12701\n",
      "[510]\ttraining's rmse: 0.00782861\tvalid_1's rmse: 0.127001\n",
      "[520]\ttraining's rmse: 0.00756856\tvalid_1's rmse: 0.12696\n",
      "[530]\ttraining's rmse: 0.00737663\tvalid_1's rmse: 0.12693\n",
      "[540]\ttraining's rmse: 0.00714369\tvalid_1's rmse: 0.126866\n",
      "[550]\ttraining's rmse: 0.00695725\tvalid_1's rmse: 0.126857\n",
      "[560]\ttraining's rmse: 0.00674834\tvalid_1's rmse: 0.126803\n",
      "[570]\ttraining's rmse: 0.0065741\tvalid_1's rmse: 0.126765\n",
      "[580]\ttraining's rmse: 0.00638748\tvalid_1's rmse: 0.12674\n",
      "[590]\ttraining's rmse: 0.00619586\tvalid_1's rmse: 0.126685\n",
      "[600]\ttraining's rmse: 0.00602588\tvalid_1's rmse: 0.126655\n",
      "[610]\ttraining's rmse: 0.00585822\tvalid_1's rmse: 0.126618\n",
      "[620]\ttraining's rmse: 0.00572109\tvalid_1's rmse: 0.126602\n",
      "[630]\ttraining's rmse: 0.00555031\tvalid_1's rmse: 0.126561\n",
      "[640]\ttraining's rmse: 0.0053918\tvalid_1's rmse: 0.126535\n",
      "[650]\ttraining's rmse: 0.00524372\tvalid_1's rmse: 0.126496\n",
      "[660]\ttraining's rmse: 0.00510549\tvalid_1's rmse: 0.126456\n",
      "[670]\ttraining's rmse: 0.00496288\tvalid_1's rmse: 0.126458\n",
      "Early stopping, best iteration is:\n",
      "[660]\ttraining's rmse: 0.00510549\tvalid_1's rmse: 0.126456\n"
     ]
    },
    {
     "name": "stderr",
     "output_type": "stream",
     "text": [
      "regularization_factors, val_score: 0.126281:  45%|#################1                    | 9/20 [00:11<00:16,  1.46s/it][I 2020-10-23 12:50:57,981] Trial 48 finished with value: 0.1264561473530482 and parameters: {'lambda_l1': 1.1399024872900244e-08, 'lambda_l2': 1.0168579735272253e-08}. Best is trial 44 with value: 0.1262813693006542.\n",
      "regularization_factors, val_score: 0.126281:  45%|#################1                    | 9/20 [00:11<00:16,  1.46s/it]"
     ]
    },
    {
     "name": "stdout",
     "output_type": "stream",
     "text": [
      "Training until validation scores don't improve for 10 rounds\n",
      "[10]\ttraining's rmse: 0.184356\tvalid_1's rmse: 0.187833\n",
      "[20]\ttraining's rmse: 0.110865\tvalid_1's rmse: 0.143652\n",
      "[30]\ttraining's rmse: 0.0844617\tvalid_1's rmse: 0.137811\n",
      "[40]\ttraining's rmse: 0.0715102\tvalid_1's rmse: 0.136162\n",
      "[50]\ttraining's rmse: 0.0628865\tvalid_1's rmse: 0.134659\n",
      "[60]\ttraining's rmse: 0.0560919\tvalid_1's rmse: 0.134334\n",
      "[70]\ttraining's rmse: 0.0505864\tvalid_1's rmse: 0.133904\n",
      "[80]\ttraining's rmse: 0.0463203\tvalid_1's rmse: 0.133717\n",
      "[90]\ttraining's rmse: 0.0426174\tvalid_1's rmse: 0.133119\n",
      "[100]\ttraining's rmse: 0.0393438\tvalid_1's rmse: 0.132755\n",
      "[110]\ttraining's rmse: 0.0365828\tvalid_1's rmse: 0.132575\n",
      "Early stopping, best iteration is:\n",
      "[108]\ttraining's rmse: 0.0370456\tvalid_1's rmse: 0.13252\n"
     ]
    },
    {
     "name": "stderr",
     "output_type": "stream",
     "text": [
      "regularization_factors, val_score: 0.126281:  50%|##################5                  | 10/20 [00:12<00:11,  1.10s/it][I 2020-10-23 12:50:58,250] Trial 49 finished with value: 0.13251965407474042 and parameters: {'lambda_l1': 3.137016998982642e-07, 'lambda_l2': 3.753028961266242e-06}. Best is trial 44 with value: 0.1262813693006542.\n",
      "regularization_factors, val_score: 0.126281:  50%|##################5                  | 10/20 [00:12<00:11,  1.10s/it]"
     ]
    },
    {
     "name": "stdout",
     "output_type": "stream",
     "text": [
      "Training until validation scores don't improve for 10 rounds\n",
      "[10]\ttraining's rmse: 0.184356\tvalid_1's rmse: 0.187833\n",
      "[20]\ttraining's rmse: 0.110865\tvalid_1's rmse: 0.143652\n",
      "[30]\ttraining's rmse: 0.0844617\tvalid_1's rmse: 0.137811\n",
      "[40]\ttraining's rmse: 0.0715102\tvalid_1's rmse: 0.136162\n",
      "[50]\ttraining's rmse: 0.0628864\tvalid_1's rmse: 0.134659\n",
      "[60]\ttraining's rmse: 0.0560919\tvalid_1's rmse: 0.134334\n",
      "[70]\ttraining's rmse: 0.0505864\tvalid_1's rmse: 0.133904\n",
      "[80]\ttraining's rmse: 0.0463203\tvalid_1's rmse: 0.133718\n",
      "[90]\ttraining's rmse: 0.0426174\tvalid_1's rmse: 0.133119\n",
      "[100]\ttraining's rmse: 0.0393438\tvalid_1's rmse: 0.132755\n",
      "[110]\ttraining's rmse: 0.0365828\tvalid_1's rmse: 0.132575\n",
      "Early stopping, best iteration is:\n",
      "[108]\ttraining's rmse: 0.0370456\tvalid_1's rmse: 0.13252\n"
     ]
    },
    {
     "name": "stderr",
     "output_type": "stream",
     "text": [
      "regularization_factors, val_score: 0.126281:  55%|####################3                | 11/20 [00:12<00:07,  1.17it/s][I 2020-10-23 12:50:58,535] Trial 50 finished with value: 0.13251965488509485 and parameters: {'lambda_l1': 3.442605819642431e-07, 'lambda_l2': 6.395598187988922e-07}. Best is trial 44 with value: 0.1262813693006542.\n",
      "regularization_factors, val_score: 0.126281:  55%|####################3                | 11/20 [00:12<00:07,  1.17it/s]"
     ]
    },
    {
     "name": "stdout",
     "output_type": "stream",
     "text": [
      "Training until validation scores don't improve for 10 rounds\n",
      "[10]\ttraining's rmse: 0.184356\tvalid_1's rmse: 0.187833\n",
      "[20]\ttraining's rmse: 0.110865\tvalid_1's rmse: 0.143652\n",
      "[30]\ttraining's rmse: 0.0844617\tvalid_1's rmse: 0.137811\n",
      "[40]\ttraining's rmse: 0.0714649\tvalid_1's rmse: 0.136391\n",
      "[50]\ttraining's rmse: 0.062842\tvalid_1's rmse: 0.134626\n",
      "[60]\ttraining's rmse: 0.0562272\tvalid_1's rmse: 0.133807\n",
      "[70]\ttraining's rmse: 0.0507825\tvalid_1's rmse: 0.133089\n",
      "[80]\ttraining's rmse: 0.0463091\tvalid_1's rmse: 0.132861\n",
      "[90]\ttraining's rmse: 0.0425663\tvalid_1's rmse: 0.132578\n",
      "[100]\ttraining's rmse: 0.0393521\tvalid_1's rmse: 0.132287\n",
      "[110]\ttraining's rmse: 0.0366366\tvalid_1's rmse: 0.132161\n",
      "[120]\ttraining's rmse: 0.0342745\tvalid_1's rmse: 0.131796\n",
      "[130]\ttraining's rmse: 0.0322003\tvalid_1's rmse: 0.131609\n",
      "[140]\ttraining's rmse: 0.0302742\tvalid_1's rmse: 0.131386\n",
      "[150]\ttraining's rmse: 0.0285282\tvalid_1's rmse: 0.131129\n",
      "[160]\ttraining's rmse: 0.0269892\tvalid_1's rmse: 0.13097\n",
      "[170]\ttraining's rmse: 0.0254263\tvalid_1's rmse: 0.130526\n",
      "[180]\ttraining's rmse: 0.0241805\tvalid_1's rmse: 0.130371\n",
      "[190]\ttraining's rmse: 0.0230255\tvalid_1's rmse: 0.13021\n",
      "[200]\ttraining's rmse: 0.0220262\tvalid_1's rmse: 0.129983\n",
      "[210]\ttraining's rmse: 0.0211187\tvalid_1's rmse: 0.129749\n",
      "[220]\ttraining's rmse: 0.0202293\tvalid_1's rmse: 0.129586\n",
      "[230]\ttraining's rmse: 0.0193851\tvalid_1's rmse: 0.129263\n",
      "[240]\ttraining's rmse: 0.0186467\tvalid_1's rmse: 0.129124\n",
      "[250]\ttraining's rmse: 0.0179676\tvalid_1's rmse: 0.128978\n",
      "[260]\ttraining's rmse: 0.0173134\tvalid_1's rmse: 0.128908\n",
      "[270]\ttraining's rmse: 0.0166924\tvalid_1's rmse: 0.128844\n",
      "[280]\ttraining's rmse: 0.0160643\tvalid_1's rmse: 0.128788\n",
      "[290]\ttraining's rmse: 0.0155011\tvalid_1's rmse: 0.128635\n",
      "[300]\ttraining's rmse: 0.0149196\tvalid_1's rmse: 0.12854\n",
      "[310]\ttraining's rmse: 0.0144537\tvalid_1's rmse: 0.12841\n",
      "[320]\ttraining's rmse: 0.0139923\tvalid_1's rmse: 0.128326\n",
      "[330]\ttraining's rmse: 0.01354\tvalid_1's rmse: 0.128189\n",
      "[340]\ttraining's rmse: 0.0130915\tvalid_1's rmse: 0.128113\n",
      "[350]\ttraining's rmse: 0.0126972\tvalid_1's rmse: 0.128031\n",
      "[360]\ttraining's rmse: 0.012282\tvalid_1's rmse: 0.127901\n",
      "[370]\ttraining's rmse: 0.0119317\tvalid_1's rmse: 0.127841\n",
      "[380]\ttraining's rmse: 0.0115332\tvalid_1's rmse: 0.127748\n",
      "[390]\ttraining's rmse: 0.0112003\tvalid_1's rmse: 0.12767\n",
      "[400]\ttraining's rmse: 0.0108585\tvalid_1's rmse: 0.127597\n",
      "[410]\ttraining's rmse: 0.0105645\tvalid_1's rmse: 0.127568\n",
      "[420]\ttraining's rmse: 0.0101935\tvalid_1's rmse: 0.127445\n",
      "[430]\ttraining's rmse: 0.00991317\tvalid_1's rmse: 0.127367\n",
      "[440]\ttraining's rmse: 0.00962828\tvalid_1's rmse: 0.127326\n",
      "[450]\ttraining's rmse: 0.0093201\tvalid_1's rmse: 0.127283\n",
      "[460]\ttraining's rmse: 0.00902366\tvalid_1's rmse: 0.127223\n",
      "[470]\ttraining's rmse: 0.00878999\tvalid_1's rmse: 0.127211\n",
      "[480]\ttraining's rmse: 0.00851498\tvalid_1's rmse: 0.127115\n",
      "[490]\ttraining's rmse: 0.00828746\tvalid_1's rmse: 0.127083\n",
      "[500]\ttraining's rmse: 0.00806266\tvalid_1's rmse: 0.12701\n",
      "[510]\ttraining's rmse: 0.00782861\tvalid_1's rmse: 0.127001\n",
      "[520]\ttraining's rmse: 0.00756856\tvalid_1's rmse: 0.12696\n",
      "[530]\ttraining's rmse: 0.00737663\tvalid_1's rmse: 0.12693\n",
      "[540]\ttraining's rmse: 0.00714369\tvalid_1's rmse: 0.126866\n",
      "[550]\ttraining's rmse: 0.00695725\tvalid_1's rmse: 0.126857\n",
      "[560]\ttraining's rmse: 0.00674834\tvalid_1's rmse: 0.126803\n",
      "[570]\ttraining's rmse: 0.0065741\tvalid_1's rmse: 0.126765\n",
      "[580]\ttraining's rmse: 0.00638748\tvalid_1's rmse: 0.12674\n",
      "[590]\ttraining's rmse: 0.00619586\tvalid_1's rmse: 0.126685\n",
      "[600]\ttraining's rmse: 0.00602588\tvalid_1's rmse: 0.126655\n",
      "[610]\ttraining's rmse: 0.00585822\tvalid_1's rmse: 0.126618\n",
      "[620]\ttraining's rmse: 0.00572109\tvalid_1's rmse: 0.126602\n",
      "[630]\ttraining's rmse: 0.00555031\tvalid_1's rmse: 0.126561\n",
      "[640]\ttraining's rmse: 0.0053918\tvalid_1's rmse: 0.126535\n",
      "[650]\ttraining's rmse: 0.00524372\tvalid_1's rmse: 0.126496\n",
      "[660]\ttraining's rmse: 0.00510549\tvalid_1's rmse: 0.126456\n",
      "[670]\ttraining's rmse: 0.00496288\tvalid_1's rmse: 0.126458\n",
      "Early stopping, best iteration is:\n",
      "[660]\ttraining's rmse: 0.00510549\tvalid_1's rmse: 0.126456\n"
     ]
    },
    {
     "name": "stderr",
     "output_type": "stream",
     "text": [
      "regularization_factors, val_score: 0.126281:  60%|######################2              | 12/20 [00:13<00:08,  1.07s/it][I 2020-10-23 12:51:00,113] Trial 51 finished with value: 0.12645614735321895 and parameters: {'lambda_l1': 1.1988298335791798e-08, 'lambda_l2': 1.0844684044289949e-08}. Best is trial 44 with value: 0.1262813693006542.\n",
      "regularization_factors, val_score: 0.126281:  60%|######################2              | 12/20 [00:13<00:08,  1.07s/it]"
     ]
    },
    {
     "name": "stdout",
     "output_type": "stream",
     "text": [
      "Training until validation scores don't improve for 10 rounds\n",
      "[10]\ttraining's rmse: 0.184356\tvalid_1's rmse: 0.187833\n",
      "[20]\ttraining's rmse: 0.110865\tvalid_1's rmse: 0.143652\n",
      "[30]\ttraining's rmse: 0.0844617\tvalid_1's rmse: 0.137811\n",
      "[40]\ttraining's rmse: 0.0714649\tvalid_1's rmse: 0.136391\n",
      "[50]\ttraining's rmse: 0.062842\tvalid_1's rmse: 0.134626\n",
      "[60]\ttraining's rmse: 0.0562272\tvalid_1's rmse: 0.133807\n",
      "[70]\ttraining's rmse: 0.0507825\tvalid_1's rmse: 0.133089\n",
      "[80]\ttraining's rmse: 0.0463091\tvalid_1's rmse: 0.132861\n",
      "[90]\ttraining's rmse: 0.0425663\tvalid_1's rmse: 0.132578\n",
      "[100]\ttraining's rmse: 0.0393521\tvalid_1's rmse: 0.132287\n",
      "[110]\ttraining's rmse: 0.0366366\tvalid_1's rmse: 0.132161\n",
      "[120]\ttraining's rmse: 0.0342745\tvalid_1's rmse: 0.131796\n",
      "[130]\ttraining's rmse: 0.0322003\tvalid_1's rmse: 0.131609\n",
      "[140]\ttraining's rmse: 0.0302742\tvalid_1's rmse: 0.131386\n",
      "[150]\ttraining's rmse: 0.0285282\tvalid_1's rmse: 0.131129\n",
      "[160]\ttraining's rmse: 0.0269892\tvalid_1's rmse: 0.13097\n",
      "[170]\ttraining's rmse: 0.0254263\tvalid_1's rmse: 0.130526\n",
      "[180]\ttraining's rmse: 0.0241805\tvalid_1's rmse: 0.130371\n",
      "[190]\ttraining's rmse: 0.0230255\tvalid_1's rmse: 0.13021\n",
      "[200]\ttraining's rmse: 0.0220262\tvalid_1's rmse: 0.129983\n",
      "[210]\ttraining's rmse: 0.0211187\tvalid_1's rmse: 0.129749\n",
      "[220]\ttraining's rmse: 0.0202293\tvalid_1's rmse: 0.129586\n",
      "[230]\ttraining's rmse: 0.0193851\tvalid_1's rmse: 0.129263\n",
      "[240]\ttraining's rmse: 0.0186467\tvalid_1's rmse: 0.129124\n",
      "[250]\ttraining's rmse: 0.0179676\tvalid_1's rmse: 0.128978\n",
      "[260]\ttraining's rmse: 0.0173134\tvalid_1's rmse: 0.128908\n",
      "[270]\ttraining's rmse: 0.0166924\tvalid_1's rmse: 0.128844\n",
      "[280]\ttraining's rmse: 0.0160643\tvalid_1's rmse: 0.128788\n",
      "[290]\ttraining's rmse: 0.0155011\tvalid_1's rmse: 0.128635\n",
      "[300]\ttraining's rmse: 0.0149196\tvalid_1's rmse: 0.12854\n",
      "[310]\ttraining's rmse: 0.0144537\tvalid_1's rmse: 0.12841\n",
      "[320]\ttraining's rmse: 0.0139923\tvalid_1's rmse: 0.128326\n",
      "[330]\ttraining's rmse: 0.01354\tvalid_1's rmse: 0.128189\n",
      "[340]\ttraining's rmse: 0.0130915\tvalid_1's rmse: 0.128113\n",
      "[350]\ttraining's rmse: 0.0126972\tvalid_1's rmse: 0.128031\n",
      "[360]\ttraining's rmse: 0.012282\tvalid_1's rmse: 0.127901\n",
      "[370]\ttraining's rmse: 0.0119317\tvalid_1's rmse: 0.127841\n",
      "[380]\ttraining's rmse: 0.0115332\tvalid_1's rmse: 0.127748\n",
      "[390]\ttraining's rmse: 0.0112003\tvalid_1's rmse: 0.12767\n",
      "[400]\ttraining's rmse: 0.0108585\tvalid_1's rmse: 0.127597\n",
      "[410]\ttraining's rmse: 0.0105645\tvalid_1's rmse: 0.127568\n",
      "[420]\ttraining's rmse: 0.0101935\tvalid_1's rmse: 0.127445\n",
      "[430]\ttraining's rmse: 0.00991317\tvalid_1's rmse: 0.127367\n",
      "[440]\ttraining's rmse: 0.00962828\tvalid_1's rmse: 0.127326\n",
      "[450]\ttraining's rmse: 0.0093201\tvalid_1's rmse: 0.127283\n",
      "[460]\ttraining's rmse: 0.00902366\tvalid_1's rmse: 0.127223\n",
      "[470]\ttraining's rmse: 0.00878999\tvalid_1's rmse: 0.127211\n",
      "[480]\ttraining's rmse: 0.00851498\tvalid_1's rmse: 0.127115\n",
      "[490]\ttraining's rmse: 0.00828746\tvalid_1's rmse: 0.127083\n",
      "[500]\ttraining's rmse: 0.00806266\tvalid_1's rmse: 0.12701\n",
      "[510]\ttraining's rmse: 0.00782861\tvalid_1's rmse: 0.127001\n",
      "[520]\ttraining's rmse: 0.00756856\tvalid_1's rmse: 0.12696\n",
      "[530]\ttraining's rmse: 0.00737663\tvalid_1's rmse: 0.12693\n",
      "[540]\ttraining's rmse: 0.00714369\tvalid_1's rmse: 0.126866\n",
      "[550]\ttraining's rmse: 0.00695725\tvalid_1's rmse: 0.126857\n",
      "[560]\ttraining's rmse: 0.00674834\tvalid_1's rmse: 0.126803\n",
      "[570]\ttraining's rmse: 0.0065741\tvalid_1's rmse: 0.126765\n",
      "[580]\ttraining's rmse: 0.00638748\tvalid_1's rmse: 0.12674\n",
      "[590]\ttraining's rmse: 0.00619586\tvalid_1's rmse: 0.126685\n",
      "[600]\ttraining's rmse: 0.00602588\tvalid_1's rmse: 0.126655\n",
      "[610]\ttraining's rmse: 0.00585822\tvalid_1's rmse: 0.126618\n",
      "[620]\ttraining's rmse: 0.00572109\tvalid_1's rmse: 0.126602\n",
      "[630]\ttraining's rmse: 0.00555031\tvalid_1's rmse: 0.126561\n",
      "[640]\ttraining's rmse: 0.0053918\tvalid_1's rmse: 0.126535\n",
      "[650]\ttraining's rmse: 0.00524372\tvalid_1's rmse: 0.126496\n",
      "[660]\ttraining's rmse: 0.00510549\tvalid_1's rmse: 0.126456\n",
      "[670]\ttraining's rmse: 0.00496288\tvalid_1's rmse: 0.126458\n",
      "Early stopping, best iteration is:\n",
      "[660]\ttraining's rmse: 0.00510549\tvalid_1's rmse: 0.126456\n"
     ]
    },
    {
     "name": "stderr",
     "output_type": "stream",
     "text": [
      "regularization_factors, val_score: 0.126281:  65%|########################             | 13/20 [00:15<00:08,  1.21s/it][I 2020-10-23 12:51:01,651] Trial 52 finished with value: 0.12645614735346325 and parameters: {'lambda_l1': 1.0082047654032213e-08, 'lambda_l2': 1.5492593331373084e-08}. Best is trial 44 with value: 0.1262813693006542.\n",
      "regularization_factors, val_score: 0.126281:  65%|########################             | 13/20 [00:15<00:08,  1.21s/it]"
     ]
    },
    {
     "name": "stdout",
     "output_type": "stream",
     "text": [
      "Training until validation scores don't improve for 10 rounds\n",
      "[10]\ttraining's rmse: 0.184356\tvalid_1's rmse: 0.187833\n",
      "[20]\ttraining's rmse: 0.110865\tvalid_1's rmse: 0.143652\n",
      "[30]\ttraining's rmse: 0.0844617\tvalid_1's rmse: 0.137811\n",
      "[40]\ttraining's rmse: 0.0715102\tvalid_1's rmse: 0.136162\n",
      "[50]\ttraining's rmse: 0.0628864\tvalid_1's rmse: 0.134659\n",
      "[60]\ttraining's rmse: 0.0560919\tvalid_1's rmse: 0.134334\n",
      "[70]\ttraining's rmse: 0.0505864\tvalid_1's rmse: 0.133904\n",
      "[80]\ttraining's rmse: 0.0463203\tvalid_1's rmse: 0.133718\n",
      "[90]\ttraining's rmse: 0.0426174\tvalid_1's rmse: 0.133119\n",
      "[100]\ttraining's rmse: 0.0393438\tvalid_1's rmse: 0.132755\n",
      "[110]\ttraining's rmse: 0.0365828\tvalid_1's rmse: 0.132575\n",
      "Early stopping, best iteration is:\n",
      "[108]\ttraining's rmse: 0.0370456\tvalid_1's rmse: 0.13252\n"
     ]
    },
    {
     "name": "stderr",
     "output_type": "stream",
     "text": [
      "regularization_factors, val_score: 0.126281:  70%|#########################9           | 14/20 [00:15<00:05,  1.08it/s][I 2020-10-23 12:51:01,922] Trial 53 finished with value: 0.1325196550037422 and parameters: {'lambda_l1': 2.47114421655247e-07, 'lambda_l2': 5.220345288175577e-07}. Best is trial 44 with value: 0.1262813693006542.\n",
      "regularization_factors, val_score: 0.126281:  70%|#########################9           | 14/20 [00:15<00:05,  1.08it/s]"
     ]
    },
    {
     "name": "stdout",
     "output_type": "stream",
     "text": [
      "Training until validation scores don't improve for 10 rounds\n",
      "[10]\ttraining's rmse: 0.184356\tvalid_1's rmse: 0.187833\n",
      "[20]\ttraining's rmse: 0.110865\tvalid_1's rmse: 0.143652\n",
      "[30]\ttraining's rmse: 0.0844617\tvalid_1's rmse: 0.137811\n",
      "[40]\ttraining's rmse: 0.0714649\tvalid_1's rmse: 0.136391\n",
      "[50]\ttraining's rmse: 0.062842\tvalid_1's rmse: 0.134626\n",
      "[60]\ttraining's rmse: 0.0562272\tvalid_1's rmse: 0.133807\n",
      "[70]\ttraining's rmse: 0.0507825\tvalid_1's rmse: 0.133089\n",
      "[80]\ttraining's rmse: 0.0463091\tvalid_1's rmse: 0.132861\n",
      "[90]\ttraining's rmse: 0.0425663\tvalid_1's rmse: 0.132578\n",
      "[100]\ttraining's rmse: 0.0393521\tvalid_1's rmse: 0.132287\n",
      "[110]\ttraining's rmse: 0.0366366\tvalid_1's rmse: 0.132161\n",
      "[120]\ttraining's rmse: 0.0342745\tvalid_1's rmse: 0.131796\n",
      "[130]\ttraining's rmse: 0.0322003\tvalid_1's rmse: 0.131609\n",
      "[140]\ttraining's rmse: 0.0302742\tvalid_1's rmse: 0.131386\n",
      "[150]\ttraining's rmse: 0.0285282\tvalid_1's rmse: 0.131129\n",
      "[160]\ttraining's rmse: 0.0269892\tvalid_1's rmse: 0.13097\n",
      "[170]\ttraining's rmse: 0.0254263\tvalid_1's rmse: 0.130526\n",
      "[180]\ttraining's rmse: 0.0241805\tvalid_1's rmse: 0.130371\n",
      "[190]\ttraining's rmse: 0.0230255\tvalid_1's rmse: 0.13021\n",
      "[200]\ttraining's rmse: 0.0220265\tvalid_1's rmse: 0.129983\n",
      "[210]\ttraining's rmse: 0.0211105\tvalid_1's rmse: 0.129883\n",
      "[220]\ttraining's rmse: 0.0202795\tvalid_1's rmse: 0.129676\n",
      "[230]\ttraining's rmse: 0.0193719\tvalid_1's rmse: 0.129373\n",
      "[240]\ttraining's rmse: 0.0185802\tvalid_1's rmse: 0.129245\n",
      "[250]\ttraining's rmse: 0.0179025\tvalid_1's rmse: 0.129025\n",
      "[260]\ttraining's rmse: 0.017245\tvalid_1's rmse: 0.128863\n",
      "[270]\ttraining's rmse: 0.0166382\tvalid_1's rmse: 0.128762\n",
      "[280]\ttraining's rmse: 0.0160417\tvalid_1's rmse: 0.128668\n",
      "[290]\ttraining's rmse: 0.0154552\tvalid_1's rmse: 0.128592\n",
      "[300]\ttraining's rmse: 0.0149299\tvalid_1's rmse: 0.128436\n",
      "[310]\ttraining's rmse: 0.0144148\tvalid_1's rmse: 0.128316\n",
      "[320]\ttraining's rmse: 0.013907\tvalid_1's rmse: 0.12823\n",
      "[330]\ttraining's rmse: 0.013424\tvalid_1's rmse: 0.128125\n",
      "[340]\ttraining's rmse: 0.0129993\tvalid_1's rmse: 0.128107\n",
      "[350]\ttraining's rmse: 0.0126114\tvalid_1's rmse: 0.128045\n",
      "[360]\ttraining's rmse: 0.012235\tvalid_1's rmse: 0.127972\n",
      "[370]\ttraining's rmse: 0.0117889\tvalid_1's rmse: 0.127845\n",
      "[380]\ttraining's rmse: 0.0114482\tvalid_1's rmse: 0.127812\n",
      "[390]\ttraining's rmse: 0.0111245\tvalid_1's rmse: 0.127744\n",
      "[400]\ttraining's rmse: 0.0107754\tvalid_1's rmse: 0.12767\n",
      "[410]\ttraining's rmse: 0.0104354\tvalid_1's rmse: 0.127598\n",
      "[420]\ttraining's rmse: 0.0101202\tvalid_1's rmse: 0.127505\n",
      "[430]\ttraining's rmse: 0.00984761\tvalid_1's rmse: 0.127439\n",
      "[440]\ttraining's rmse: 0.00953672\tvalid_1's rmse: 0.127384\n",
      "[450]\ttraining's rmse: 0.00924968\tvalid_1's rmse: 0.12737\n",
      "[460]\ttraining's rmse: 0.0089995\tvalid_1's rmse: 0.127332\n",
      "[470]\ttraining's rmse: 0.00873905\tvalid_1's rmse: 0.127252\n",
      "[480]\ttraining's rmse: 0.00847631\tvalid_1's rmse: 0.127192\n",
      "[490]\ttraining's rmse: 0.00826516\tvalid_1's rmse: 0.127179\n",
      "[500]\ttraining's rmse: 0.00800049\tvalid_1's rmse: 0.1271\n",
      "[510]\ttraining's rmse: 0.00777551\tvalid_1's rmse: 0.127031\n",
      "[520]\ttraining's rmse: 0.00756558\tvalid_1's rmse: 0.126984\n",
      "[530]\ttraining's rmse: 0.00736041\tvalid_1's rmse: 0.126946\n",
      "[540]\ttraining's rmse: 0.00715062\tvalid_1's rmse: 0.126901\n",
      "[550]\ttraining's rmse: 0.00693683\tvalid_1's rmse: 0.126874\n",
      "[560]\ttraining's rmse: 0.00674504\tvalid_1's rmse: 0.126821\n",
      "[570]\ttraining's rmse: 0.00656262\tvalid_1's rmse: 0.126776\n",
      "[580]\ttraining's rmse: 0.00637368\tvalid_1's rmse: 0.126742\n",
      "[590]\ttraining's rmse: 0.00621812\tvalid_1's rmse: 0.126709\n",
      "[600]\ttraining's rmse: 0.00604303\tvalid_1's rmse: 0.126672\n",
      "[610]\ttraining's rmse: 0.00586605\tvalid_1's rmse: 0.126635\n",
      "[620]\ttraining's rmse: 0.00572021\tvalid_1's rmse: 0.126609\n",
      "[630]\ttraining's rmse: 0.0055474\tvalid_1's rmse: 0.126584\n",
      "[640]\ttraining's rmse: 0.0053967\tvalid_1's rmse: 0.126543\n",
      "[650]\ttraining's rmse: 0.00523528\tvalid_1's rmse: 0.126506\n",
      "[660]\ttraining's rmse: 0.00509444\tvalid_1's rmse: 0.12648\n",
      "[670]\ttraining's rmse: 0.00496343\tvalid_1's rmse: 0.126449\n",
      "[680]\ttraining's rmse: 0.00483561\tvalid_1's rmse: 0.12643\n",
      "[690]\ttraining's rmse: 0.00468655\tvalid_1's rmse: 0.126403\n",
      "[700]\ttraining's rmse: 0.00457147\tvalid_1's rmse: 0.126388\n",
      "[710]\ttraining's rmse: 0.00446221\tvalid_1's rmse: 0.12636\n",
      "[720]\ttraining's rmse: 0.00432166\tvalid_1's rmse: 0.126325\n",
      "[730]\ttraining's rmse: 0.00421945\tvalid_1's rmse: 0.126304\n",
      "[740]\ttraining's rmse: 0.00409481\tvalid_1's rmse: 0.126283\n",
      "[750]\ttraining's rmse: 0.00400826\tvalid_1's rmse: 0.126282\n",
      "Early stopping, best iteration is:\n",
      "[742]\ttraining's rmse: 0.00407672\tvalid_1's rmse: 0.126281\n"
     ]
    },
    {
     "name": "stderr",
     "output_type": "stream",
     "text": [
      "regularization_factors, val_score: 0.126281:  75%|###########################7         | 15/20 [00:17<00:05,  1.18s/it][I 2020-10-23 12:51:03,688] Trial 54 finished with value: 0.12628136930742295 and parameters: {'lambda_l1': 1.2268897587241799e-08, 'lambda_l2': 1.0651128432910188e-08}. Best is trial 44 with value: 0.1262813693006542.\n",
      "regularization_factors, val_score: 0.126281:  75%|###########################7         | 15/20 [00:17<00:05,  1.18s/it]"
     ]
    },
    {
     "name": "stdout",
     "output_type": "stream",
     "text": [
      "Training until validation scores don't improve for 10 rounds\n",
      "[10]\ttraining's rmse: 0.184356\tvalid_1's rmse: 0.187833\n",
      "[20]\ttraining's rmse: 0.110865\tvalid_1's rmse: 0.143652\n",
      "[30]\ttraining's rmse: 0.0844617\tvalid_1's rmse: 0.137811\n",
      "[40]\ttraining's rmse: 0.0715101\tvalid_1's rmse: 0.136162\n",
      "[50]\ttraining's rmse: 0.0628864\tvalid_1's rmse: 0.134659\n",
      "[60]\ttraining's rmse: 0.0560919\tvalid_1's rmse: 0.134334\n",
      "[70]\ttraining's rmse: 0.0505864\tvalid_1's rmse: 0.133904\n",
      "[80]\ttraining's rmse: 0.0463202\tvalid_1's rmse: 0.133718\n",
      "[90]\ttraining's rmse: 0.0426174\tvalid_1's rmse: 0.133119\n",
      "[100]\ttraining's rmse: 0.0393438\tvalid_1's rmse: 0.132755\n",
      "[110]\ttraining's rmse: 0.0365828\tvalid_1's rmse: 0.132575\n",
      "Early stopping, best iteration is:\n",
      "[108]\ttraining's rmse: 0.0370456\tvalid_1's rmse: 0.13252\n"
     ]
    },
    {
     "name": "stderr",
     "output_type": "stream",
     "text": [
      "regularization_factors, val_score: 0.126281:  80%|#############################6       | 16/20 [00:17<00:03,  1.10it/s][I 2020-10-23 12:51:03,952] Trial 55 finished with value: 0.1325196551831687 and parameters: {'lambda_l1': 1.7292869201695042e-07, 'lambda_l2': 1.5809321988487977e-07}. Best is trial 44 with value: 0.1262813693006542.\n",
      "regularization_factors, val_score: 0.126281:  80%|#############################6       | 16/20 [00:17<00:03,  1.10it/s]"
     ]
    },
    {
     "name": "stdout",
     "output_type": "stream",
     "text": [
      "Training until validation scores don't improve for 10 rounds\n",
      "[10]\ttraining's rmse: 0.184356\tvalid_1's rmse: 0.187833\n",
      "[20]\ttraining's rmse: 0.110865\tvalid_1's rmse: 0.143652\n",
      "[30]\ttraining's rmse: 0.0844617\tvalid_1's rmse: 0.137811\n",
      "[40]\ttraining's rmse: 0.0715102\tvalid_1's rmse: 0.136162\n",
      "[50]\ttraining's rmse: 0.0628865\tvalid_1's rmse: 0.134659\n",
      "[60]\ttraining's rmse: 0.0560919\tvalid_1's rmse: 0.134334\n",
      "[70]\ttraining's rmse: 0.0505865\tvalid_1's rmse: 0.133904\n",
      "[80]\ttraining's rmse: 0.0463203\tvalid_1's rmse: 0.133717\n",
      "[90]\ttraining's rmse: 0.0426174\tvalid_1's rmse: 0.133119\n",
      "[100]\ttraining's rmse: 0.0393439\tvalid_1's rmse: 0.132755\n",
      "[110]\ttraining's rmse: 0.0365828\tvalid_1's rmse: 0.132575\n",
      "Early stopping, best iteration is:\n",
      "[108]\ttraining's rmse: 0.0370456\tvalid_1's rmse: 0.13252\n"
     ]
    },
    {
     "name": "stderr",
     "output_type": "stream",
     "text": [
      "regularization_factors, val_score: 0.126281:  85%|###############################4     | 17/20 [00:17<00:02,  1.40it/s][I 2020-10-23 12:51:04,217] Trial 56 finished with value: 0.1325196470726611 and parameters: {'lambda_l1': 4.773407542892664e-08, 'lambda_l2': 2.8050064070887e-05}. Best is trial 44 with value: 0.1262813693006542.\n",
      "regularization_factors, val_score: 0.126281:  85%|###############################4     | 17/20 [00:17<00:02,  1.40it/s]"
     ]
    },
    {
     "name": "stdout",
     "output_type": "stream",
     "text": [
      "Training until validation scores don't improve for 10 rounds\n",
      "[10]\ttraining's rmse: 0.184356\tvalid_1's rmse: 0.187833\n",
      "[20]\ttraining's rmse: 0.110865\tvalid_1's rmse: 0.143652\n",
      "[30]\ttraining's rmse: 0.0844626\tvalid_1's rmse: 0.1378\n",
      "[40]\ttraining's rmse: 0.0713827\tvalid_1's rmse: 0.136723\n",
      "[50]\ttraining's rmse: 0.0633299\tvalid_1's rmse: 0.135517\n",
      "[60]\ttraining's rmse: 0.0564709\tvalid_1's rmse: 0.134814\n",
      "[70]\ttraining's rmse: 0.0508584\tvalid_1's rmse: 0.134097\n",
      "[80]\ttraining's rmse: 0.0462036\tvalid_1's rmse: 0.13342\n",
      "[90]\ttraining's rmse: 0.0425737\tvalid_1's rmse: 0.133081\n",
      "[100]\ttraining's rmse: 0.0394665\tvalid_1's rmse: 0.132613\n",
      "[110]\ttraining's rmse: 0.0365175\tvalid_1's rmse: 0.132191\n",
      "[120]\ttraining's rmse: 0.0340724\tvalid_1's rmse: 0.131793\n",
      "[130]\ttraining's rmse: 0.0319231\tvalid_1's rmse: 0.131796\n",
      "Early stopping, best iteration is:\n",
      "[121]\ttraining's rmse: 0.033862\tvalid_1's rmse: 0.131746\n"
     ]
    },
    {
     "name": "stderr",
     "output_type": "stream",
     "text": [
      "regularization_factors, val_score: 0.126281:  90%|#################################3   | 18/20 [00:18<00:01,  1.70it/s][I 2020-10-23 12:51:04,516] Trial 57 finished with value: 0.13174583363403952 and parameters: {'lambda_l1': 5.470966680606288e-06, 'lambda_l2': 1.0851196178642976e-08}. Best is trial 44 with value: 0.1262813693006542.\n",
      "regularization_factors, val_score: 0.126281:  90%|#################################3   | 18/20 [00:18<00:01,  1.70it/s]"
     ]
    },
    {
     "name": "stdout",
     "output_type": "stream",
     "text": [
      "Training until validation scores don't improve for 10 rounds\n",
      "[10]\ttraining's rmse: 0.192648\tvalid_1's rmse: 0.19418\n",
      "[20]\ttraining's rmse: 0.117209\tvalid_1's rmse: 0.14547\n",
      "[30]\ttraining's rmse: 0.0890956\tvalid_1's rmse: 0.138283\n",
      "[40]\ttraining's rmse: 0.0751467\tvalid_1's rmse: 0.136874\n",
      "[50]\ttraining's rmse: 0.0661044\tvalid_1's rmse: 0.136239\n",
      "[60]\ttraining's rmse: 0.0591346\tvalid_1's rmse: 0.13518\n",
      "[70]\ttraining's rmse: 0.0533734\tvalid_1's rmse: 0.134193\n",
      "[80]\ttraining's rmse: 0.0486373\tvalid_1's rmse: 0.1338\n",
      "[90]\ttraining's rmse: 0.0447783\tvalid_1's rmse: 0.133176\n",
      "[100]\ttraining's rmse: 0.0412083\tvalid_1's rmse: 0.133189\n",
      "[110]\ttraining's rmse: 0.038245\tvalid_1's rmse: 0.132741\n",
      "[120]\ttraining's rmse: 0.0356497\tvalid_1's rmse: 0.1324\n",
      "[130]\ttraining's rmse: 0.0334155\tvalid_1's rmse: 0.132292\n",
      "[140]\ttraining's rmse: 0.0314256\tvalid_1's rmse: 0.132088\n",
      "[150]\ttraining's rmse: 0.0296595\tvalid_1's rmse: 0.131758\n",
      "[160]\ttraining's rmse: 0.0281392\tvalid_1's rmse: 0.131541\n",
      "[170]\ttraining's rmse: 0.0266469\tvalid_1's rmse: 0.131293\n",
      "[180]\ttraining's rmse: 0.0252614\tvalid_1's rmse: 0.131086\n",
      "[190]\ttraining's rmse: 0.0239296\tvalid_1's rmse: 0.130884\n",
      "[200]\ttraining's rmse: 0.0227931\tvalid_1's rmse: 0.130882\n",
      "[210]\ttraining's rmse: 0.0217022\tvalid_1's rmse: 0.130545\n",
      "[220]\ttraining's rmse: 0.0207252\tvalid_1's rmse: 0.130424\n",
      "[230]\ttraining's rmse: 0.0197934\tvalid_1's rmse: 0.130213\n",
      "[240]\ttraining's rmse: 0.0190038\tvalid_1's rmse: 0.130079\n",
      "[250]\ttraining's rmse: 0.0182039\tvalid_1's rmse: 0.129932\n",
      "[260]\ttraining's rmse: 0.0174963\tvalid_1's rmse: 0.129807\n",
      "[270]\ttraining's rmse: 0.0168426\tvalid_1's rmse: 0.129656\n",
      "[280]\ttraining's rmse: 0.0162719\tvalid_1's rmse: 0.129499\n",
      "[290]\ttraining's rmse: 0.0156613\tvalid_1's rmse: 0.129423\n",
      "[300]\ttraining's rmse: 0.0151299\tvalid_1's rmse: 0.129295\n",
      "[310]\ttraining's rmse: 0.0145964\tvalid_1's rmse: 0.129238\n",
      "[320]\ttraining's rmse: 0.0141042\tvalid_1's rmse: 0.12912\n",
      "[330]\ttraining's rmse: 0.0136447\tvalid_1's rmse: 0.129072\n",
      "[340]\ttraining's rmse: 0.0131915\tvalid_1's rmse: 0.129038\n",
      "[350]\ttraining's rmse: 0.0127257\tvalid_1's rmse: 0.128921\n",
      "[360]\ttraining's rmse: 0.0123208\tvalid_1's rmse: 0.128839\n",
      "[370]\ttraining's rmse: 0.0119304\tvalid_1's rmse: 0.12874\n",
      "[380]\ttraining's rmse: 0.0115592\tvalid_1's rmse: 0.128619\n",
      "[390]\ttraining's rmse: 0.0112206\tvalid_1's rmse: 0.128545\n",
      "[400]\ttraining's rmse: 0.0109116\tvalid_1's rmse: 0.128454\n",
      "[410]\ttraining's rmse: 0.0106137\tvalid_1's rmse: 0.128406\n",
      "[420]\ttraining's rmse: 0.0102947\tvalid_1's rmse: 0.128345\n",
      "[430]\ttraining's rmse: 0.00999222\tvalid_1's rmse: 0.128291\n",
      "[440]\ttraining's rmse: 0.00969855\tvalid_1's rmse: 0.128202\n",
      "[450]\ttraining's rmse: 0.00942031\tvalid_1's rmse: 0.128141\n",
      "[460]\ttraining's rmse: 0.00918764\tvalid_1's rmse: 0.12808\n",
      "[470]\ttraining's rmse: 0.00889645\tvalid_1's rmse: 0.127985\n",
      "[480]\ttraining's rmse: 0.00867661\tvalid_1's rmse: 0.127939\n",
      "[490]\ttraining's rmse: 0.00844272\tvalid_1's rmse: 0.127874\n",
      "[500]\ttraining's rmse: 0.00823429\tvalid_1's rmse: 0.127839\n",
      "[510]\ttraining's rmse: 0.00802178\tvalid_1's rmse: 0.127787\n",
      "[520]\ttraining's rmse: 0.00778115\tvalid_1's rmse: 0.127652\n",
      "[530]\ttraining's rmse: 0.00759753\tvalid_1's rmse: 0.127618\n",
      "[540]\ttraining's rmse: 0.00739557\tvalid_1's rmse: 0.127565\n",
      "[550]\ttraining's rmse: 0.00722035\tvalid_1's rmse: 0.127515\n",
      "[560]\ttraining's rmse: 0.0070468\tvalid_1's rmse: 0.127462\n",
      "[570]\ttraining's rmse: 0.00686244\tvalid_1's rmse: 0.127434\n",
      "[580]\ttraining's rmse: 0.00666241\tvalid_1's rmse: 0.127392\n",
      "[590]\ttraining's rmse: 0.0065056\tvalid_1's rmse: 0.127366\n",
      "[600]\ttraining's rmse: 0.00634071\tvalid_1's rmse: 0.127327\n",
      "[610]\ttraining's rmse: 0.00616982\tvalid_1's rmse: 0.127287\n",
      "[620]\ttraining's rmse: 0.00601413\tvalid_1's rmse: 0.127262\n",
      "[630]\ttraining's rmse: 0.00583812\tvalid_1's rmse: 0.127203\n",
      "[640]\ttraining's rmse: 0.0056889\tvalid_1's rmse: 0.127183\n",
      "[650]\ttraining's rmse: 0.00554935\tvalid_1's rmse: 0.127165\n",
      "[660]\ttraining's rmse: 0.00540841\tvalid_1's rmse: 0.127106\n",
      "[670]\ttraining's rmse: 0.00527044\tvalid_1's rmse: 0.127064\n",
      "[680]\ttraining's rmse: 0.0051409\tvalid_1's rmse: 0.127057\n",
      "[690]\ttraining's rmse: 0.00498429\tvalid_1's rmse: 0.127005\n",
      "[700]\ttraining's rmse: 0.00487791\tvalid_1's rmse: 0.126989\n",
      "[710]\ttraining's rmse: 0.0047516\tvalid_1's rmse: 0.126958\n",
      "[720]\ttraining's rmse: 0.00463105\tvalid_1's rmse: 0.126935\n",
      "[730]\ttraining's rmse: 0.00452634\tvalid_1's rmse: 0.126916\n",
      "[740]\ttraining's rmse: 0.00439013\tvalid_1's rmse: 0.126876\n",
      "[750]\ttraining's rmse: 0.00427426\tvalid_1's rmse: 0.126844\n",
      "[760]\ttraining's rmse: 0.00417336\tvalid_1's rmse: 0.126822\n",
      "[770]\ttraining's rmse: 0.00407577\tvalid_1's rmse: 0.126802\n",
      "[780]\ttraining's rmse: 0.00396225\tvalid_1's rmse: 0.126773\n",
      "[790]\ttraining's rmse: 0.0038598\tvalid_1's rmse: 0.126746\n",
      "[800]\ttraining's rmse: 0.00376472\tvalid_1's rmse: 0.126704\n",
      "[810]\ttraining's rmse: 0.00366624\tvalid_1's rmse: 0.126698\n",
      "[820]\ttraining's rmse: 0.00357336\tvalid_1's rmse: 0.126697\n",
      "[830]\ttraining's rmse: 0.0034894\tvalid_1's rmse: 0.126668\n",
      "[840]\ttraining's rmse: 0.00340925\tvalid_1's rmse: 0.126656\n",
      "[850]\ttraining's rmse: 0.0033224\tvalid_1's rmse: 0.126629\n",
      "[860]\ttraining's rmse: 0.0032495\tvalid_1's rmse: 0.12662\n",
      "[870]\ttraining's rmse: 0.00317434\tvalid_1's rmse: 0.126609\n",
      "[880]\ttraining's rmse: 0.00310204\tvalid_1's rmse: 0.126592\n",
      "[890]\ttraining's rmse: 0.00302582\tvalid_1's rmse: 0.126577\n",
      "[900]\ttraining's rmse: 0.00296114\tvalid_1's rmse: 0.126562\n",
      "[910]\ttraining's rmse: 0.00288303\tvalid_1's rmse: 0.126552\n",
      "[920]\ttraining's rmse: 0.00281987\tvalid_1's rmse: 0.12654\n",
      "[930]\ttraining's rmse: 0.00274997\tvalid_1's rmse: 0.126521\n",
      "[940]\ttraining's rmse: 0.00268936\tvalid_1's rmse: 0.126511\n",
      "[950]\ttraining's rmse: 0.00262602\tvalid_1's rmse: 0.126496\n",
      "[960]\ttraining's rmse: 0.00255886\tvalid_1's rmse: 0.126476\n",
      "[970]\ttraining's rmse: 0.00248841\tvalid_1's rmse: 0.126462\n",
      "[980]\ttraining's rmse: 0.00242974\tvalid_1's rmse: 0.126454\n",
      "[990]\ttraining's rmse: 0.00237088\tvalid_1's rmse: 0.12644\n",
      "[1000]\ttraining's rmse: 0.00231717\tvalid_1's rmse: 0.126426\n",
      "Did not meet early stopping. Best iteration is:\n",
      "[1000]\ttraining's rmse: 0.00231717\tvalid_1's rmse: 0.126426\n"
     ]
    },
    {
     "name": "stderr",
     "output_type": "stream",
     "text": [
      "regularization_factors, val_score: 0.126281:  95%|###################################1 | 19/20 [00:20<00:01,  1.13s/it][I 2020-10-23 12:51:06,910] Trial 58 finished with value: 0.12642591446934692 and parameters: {'lambda_l1': 1.16079370587291e-08, 'lambda_l2': 1.6589144613092266}. Best is trial 44 with value: 0.1262813693006542.\n",
      "regularization_factors, val_score: 0.126281:  95%|###################################1 | 19/20 [00:20<00:01,  1.13s/it]"
     ]
    },
    {
     "name": "stdout",
     "output_type": "stream",
     "text": [
      "Training until validation scores don't improve for 10 rounds\n",
      "[10]\ttraining's rmse: 0.195486\tvalid_1's rmse: 0.196842\n",
      "[20]\ttraining's rmse: 0.123419\tvalid_1's rmse: 0.148504\n",
      "[30]\ttraining's rmse: 0.0973146\tvalid_1's rmse: 0.139765\n",
      "[40]\ttraining's rmse: 0.0846821\tvalid_1's rmse: 0.138071\n",
      "[50]\ttraining's rmse: 0.0768851\tvalid_1's rmse: 0.137459\n",
      "Early stopping, best iteration is:\n",
      "[47]\ttraining's rmse: 0.0788969\tvalid_1's rmse: 0.13724\n"
     ]
    },
    {
     "name": "stderr",
     "output_type": "stream",
     "text": [
      "regularization_factors, val_score: 0.126281: 100%|#####################################| 20/20 [00:20<00:00,  1.21it/s][I 2020-10-23 12:51:07,030] Trial 59 finished with value: 0.13724023215218714 and parameters: {'lambda_l1': 0.5276397745629852, 'lambda_l2': 1.420784290296438e-07}. Best is trial 44 with value: 0.1262813693006542.\n",
      "regularization_factors, val_score: 0.126281: 100%|#####################################| 20/20 [00:20<00:00,  1.04s/it]\n",
      "min_data_in_leaf, val_score: 0.126281:   0%|                                                     | 0/5 [00:00<?, ?it/s]"
     ]
    },
    {
     "name": "stdout",
     "output_type": "stream",
     "text": [
      "Training until validation scores don't improve for 10 rounds\n",
      "[10]\ttraining's rmse: 0.189986\tvalid_1's rmse: 0.190052\n",
      "[20]\ttraining's rmse: 0.119849\tvalid_1's rmse: 0.144119\n",
      "[30]\ttraining's rmse: 0.0939947\tvalid_1's rmse: 0.136461\n",
      "[40]\ttraining's rmse: 0.081558\tvalid_1's rmse: 0.1355\n",
      "[50]\ttraining's rmse: 0.0727758\tvalid_1's rmse: 0.136119\n",
      "Early stopping, best iteration is:\n",
      "[40]\ttraining's rmse: 0.081558\tvalid_1's rmse: 0.1355\n"
     ]
    },
    {
     "name": "stderr",
     "output_type": "stream",
     "text": [
      "min_data_in_leaf, val_score: 0.126281:  20%|#########                                    | 1/5 [00:00<00:00,  8.85it/s][I 2020-10-23 12:51:07,156] Trial 60 finished with value: 0.13549995237903714 and parameters: {'min_child_samples': 25}. Best is trial 60 with value: 0.13549995237903714.\n",
      "min_data_in_leaf, val_score: 0.126281:  20%|#########                                    | 1/5 [00:00<00:00,  8.85it/s]"
     ]
    },
    {
     "name": "stdout",
     "output_type": "stream",
     "text": [
      "Training until validation scores don't improve for 10 rounds\n",
      "[10]\ttraining's rmse: 0.224326\tvalid_1's rmse: 0.214813\n",
      "[20]\ttraining's rmse: 0.163113\tvalid_1's rmse: 0.165407\n",
      "[30]\ttraining's rmse: 0.140576\tvalid_1's rmse: 0.152369\n",
      "[40]\ttraining's rmse: 0.129773\tvalid_1's rmse: 0.147483\n",
      "[50]\ttraining's rmse: 0.123309\tvalid_1's rmse: 0.145068\n",
      "[60]\ttraining's rmse: 0.118828\tvalid_1's rmse: 0.14383\n",
      "[70]\ttraining's rmse: 0.114724\tvalid_1's rmse: 0.142767\n",
      "[80]\ttraining's rmse: 0.111293\tvalid_1's rmse: 0.143016\n",
      "Early stopping, best iteration is:\n",
      "[72]\ttraining's rmse: 0.114026\tvalid_1's rmse: 0.142631\n"
     ]
    },
    {
     "name": "stderr",
     "output_type": "stream",
     "text": [
      "min_data_in_leaf, val_score: 0.126281:  20%|#########                                    | 1/5 [00:00<00:00,  8.85it/s][I 2020-10-23 12:51:07,237] Trial 61 finished with value: 0.14263087012252143 and parameters: {'min_child_samples': 100}. Best is trial 60 with value: 0.13549995237903714.\n",
      "min_data_in_leaf, val_score: 0.126281:  40%|##################                           | 2/5 [00:00<00:00,  8.85it/s]"
     ]
    },
    {
     "name": "stdout",
     "output_type": "stream",
     "text": [
      "Training until validation scores don't improve for 10 rounds\n",
      "[10]\ttraining's rmse: 0.169856\tvalid_1's rmse: 0.186687\n",
      "[20]\ttraining's rmse: 0.0878174\tvalid_1's rmse: 0.141409\n",
      "[30]\ttraining's rmse: 0.0582113\tvalid_1's rmse: 0.136251\n",
      "[40]\ttraining's rmse: 0.0438341\tvalid_1's rmse: 0.13508\n",
      "[50]\ttraining's rmse: 0.0360197\tvalid_1's rmse: 0.134263\n",
      "[60]\ttraining's rmse: 0.0305764\tvalid_1's rmse: 0.133631\n",
      "[70]\ttraining's rmse: 0.0262959\tvalid_1's rmse: 0.133109\n",
      "[80]\ttraining's rmse: 0.0232637\tvalid_1's rmse: 0.132835\n",
      "Early stopping, best iteration is:\n",
      "[79]\ttraining's rmse: 0.0235119\tvalid_1's rmse: 0.132821\n"
     ]
    },
    {
     "name": "stderr",
     "output_type": "stream",
     "text": [
      "min_data_in_leaf, val_score: 0.126281:  60%|###########################                  | 3/5 [00:00<00:00,  7.20it/s][I 2020-10-23 12:51:07,554] Trial 62 finished with value: 0.13282086202013021 and parameters: {'min_child_samples': 10}. Best is trial 62 with value: 0.13282086202013021.\n",
      "min_data_in_leaf, val_score: 0.126281:  60%|###########################                  | 3/5 [00:00<00:00,  7.20it/s]"
     ]
    },
    {
     "name": "stdout",
     "output_type": "stream",
     "text": [
      "Training until validation scores don't improve for 10 rounds\n",
      "[10]\ttraining's rmse: 0.207442\tvalid_1's rmse: 0.200108\n",
      "[20]\ttraining's rmse: 0.14123\tvalid_1's rmse: 0.150168\n",
      "[30]\ttraining's rmse: 0.118325\tvalid_1's rmse: 0.138391\n",
      "[40]\ttraining's rmse: 0.107754\tvalid_1's rmse: 0.136833\n",
      "[50]\ttraining's rmse: 0.10074\tvalid_1's rmse: 0.137\n",
      "Early stopping, best iteration is:\n",
      "[45]\ttraining's rmse: 0.104047\tvalid_1's rmse: 0.136694\n"
     ]
    },
    {
     "name": "stderr",
     "output_type": "stream",
     "text": [
      "min_data_in_leaf, val_score: 0.126281:  60%|###########################                  | 3/5 [00:00<00:00,  7.20it/s][I 2020-10-23 12:51:07,632] Trial 63 finished with value: 0.1366936975961547 and parameters: {'min_child_samples': 50}. Best is trial 62 with value: 0.13282086202013021.\n",
      "min_data_in_leaf, val_score: 0.126281:  80%|####################################         | 4/5 [00:00<00:00,  7.20it/s]"
     ]
    },
    {
     "name": "stdout",
     "output_type": "stream",
     "text": [
      "Training until validation scores don't improve for 10 rounds\n",
      "[10]\ttraining's rmse: 0.156493\tvalid_1's rmse: 0.185651\n",
      "[20]\ttraining's rmse: 0.0680321\tvalid_1's rmse: 0.147211\n",
      "[30]\ttraining's rmse: 0.0359794\tvalid_1's rmse: 0.142812\n",
      "[40]\ttraining's rmse: 0.0233434\tvalid_1's rmse: 0.141543\n",
      "Early stopping, best iteration is:\n",
      "[38]\ttraining's rmse: 0.0251448\tvalid_1's rmse: 0.141476\n"
     ]
    },
    {
     "name": "stderr",
     "output_type": "stream",
     "text": [
      "min_data_in_leaf, val_score: 0.126281: 100%|#############################################| 5/5 [00:00<00:00,  6.72it/s][I 2020-10-23 12:51:07,898] Trial 64 finished with value: 0.1414756117007733 and parameters: {'min_child_samples': 5}. Best is trial 62 with value: 0.13282086202013021.\n",
      "min_data_in_leaf, val_score: 0.126281: 100%|#############################################| 5/5 [00:00<00:00,  5.82it/s]\n",
      "[I 2020-10-23 12:51:07,980] A new study created in memory with name: no-name-238439ac-14fa-406e-bc5c-9d3caa1016fb\n",
      "feature_fraction, val_score: inf:   0%|                                                          | 0/7 [00:00<?, ?it/s]"
     ]
    },
    {
     "name": "stdout",
     "output_type": "stream",
     "text": [
      "Training until validation scores don't improve for 10 rounds\n",
      "[10]\ttraining's rmse: 0.193442\tvalid_1's rmse: 0.191583\n",
      "[20]\ttraining's rmse: 0.123579\tvalid_1's rmse: 0.1341\n",
      "[30]\ttraining's rmse: 0.0973687\tvalid_1's rmse: 0.118131\n",
      "[40]\ttraining's rmse: 0.0841781\tvalid_1's rmse: 0.111944\n",
      "[50]\ttraining's rmse: 0.0747691\tvalid_1's rmse: 0.109343\n",
      "[60]\ttraining's rmse: 0.0678012\tvalid_1's rmse: 0.10796\n",
      "[70]\ttraining's rmse: 0.0617988\tvalid_1's rmse: 0.107754\n",
      "[80]\ttraining's rmse: 0.0564488\tvalid_1's rmse: 0.107945\n",
      "Early stopping, best iteration is:\n",
      "[72]\ttraining's rmse: 0.0607401\tvalid_1's rmse: 0.107619\n"
     ]
    },
    {
     "name": "stderr",
     "output_type": "stream",
     "text": [
      "feature_fraction, val_score: 0.107619:  14%|######4                                      | 1/7 [00:00<00:00,  7.30it/s][I 2020-10-23 12:51:08,124] Trial 0 finished with value: 0.10761926716504414 and parameters: {'feature_fraction': 0.5}. Best is trial 0 with value: 0.10761926716504414.\n",
      "feature_fraction, val_score: 0.107619:  14%|######4                                      | 1/7 [00:00<00:00,  7.30it/s]"
     ]
    },
    {
     "name": "stdout",
     "output_type": "stream",
     "text": [
      "Training until validation scores don't improve for 10 rounds\n",
      "[10]\ttraining's rmse: 0.191663\tvalid_1's rmse: 0.195496\n",
      "[20]\ttraining's rmse: 0.12184\tvalid_1's rmse: 0.141677\n",
      "[30]\ttraining's rmse: 0.0955103\tvalid_1's rmse: 0.125603\n",
      "[40]\ttraining's rmse: 0.0820723\tvalid_1's rmse: 0.120153\n",
      "[50]\ttraining's rmse: 0.0731766\tvalid_1's rmse: 0.117505\n",
      "[60]\ttraining's rmse: 0.0661922\tvalid_1's rmse: 0.116964\n",
      "[70]\ttraining's rmse: 0.0602774\tvalid_1's rmse: 0.116289\n",
      "Early stopping, best iteration is:\n",
      "[69]\ttraining's rmse: 0.0608054\tvalid_1's rmse: 0.116187\n"
     ]
    },
    {
     "name": "stderr",
     "output_type": "stream",
     "text": [
      "feature_fraction, val_score: 0.107619:  29%|############8                                | 2/7 [00:00<00:00,  7.45it/s][I 2020-10-23 12:51:08,251] Trial 1 finished with value: 0.11618748954434634 and parameters: {'feature_fraction': 0.6}. Best is trial 0 with value: 0.10761926716504414.\n",
      "feature_fraction, val_score: 0.107619:  29%|############8                                | 2/7 [00:00<00:00,  7.45it/s]"
     ]
    },
    {
     "name": "stdout",
     "output_type": "stream",
     "text": [
      "Training until validation scores don't improve for 10 rounds\n",
      "[10]\ttraining's rmse: 0.189867\tvalid_1's rmse: 0.195008\n",
      "[20]\ttraining's rmse: 0.120312\tvalid_1's rmse: 0.143428\n",
      "[30]\ttraining's rmse: 0.0934577\tvalid_1's rmse: 0.126807\n",
      "[40]\ttraining's rmse: 0.0801785\tvalid_1's rmse: 0.122135\n",
      "[50]\ttraining's rmse: 0.0707867\tvalid_1's rmse: 0.120364\n",
      "[60]\ttraining's rmse: 0.0637283\tvalid_1's rmse: 0.119736\n",
      "Early stopping, best iteration is:\n",
      "[59]\ttraining's rmse: 0.0644358\tvalid_1's rmse: 0.119524\n"
     ]
    },
    {
     "name": "stderr",
     "output_type": "stream",
     "text": [
      "feature_fraction, val_score: 0.107619:  43%|###################2                         | 3/7 [00:00<00:00,  7.30it/s][I 2020-10-23 12:51:08,395] Trial 2 finished with value: 0.11952412794053294 and parameters: {'feature_fraction': 1.0}. Best is trial 0 with value: 0.10761926716504414.\n",
      "feature_fraction, val_score: 0.107619:  43%|###################2                         | 3/7 [00:00<00:00,  7.30it/s]"
     ]
    },
    {
     "name": "stdout",
     "output_type": "stream",
     "text": [
      "Training until validation scores don't improve for 10 rounds\n",
      "[10]\ttraining's rmse: 0.19758\tvalid_1's rmse: 0.196878\n",
      "[20]\ttraining's rmse: 0.127277\tvalid_1's rmse: 0.138278\n",
      "[30]\ttraining's rmse: 0.100409\tvalid_1's rmse: 0.121214\n",
      "[40]\ttraining's rmse: 0.0864252\tvalid_1's rmse: 0.115089\n",
      "[50]\ttraining's rmse: 0.0761994\tvalid_1's rmse: 0.111981\n",
      "[60]\ttraining's rmse: 0.0688274\tvalid_1's rmse: 0.110888\n",
      "[70]\ttraining's rmse: 0.0625683\tvalid_1's rmse: 0.1095\n",
      "[80]\ttraining's rmse: 0.0575401\tvalid_1's rmse: 0.108633\n",
      "[90]\ttraining's rmse: 0.0529259\tvalid_1's rmse: 0.108707\n",
      "Early stopping, best iteration is:\n",
      "[81]\ttraining's rmse: 0.0570611\tvalid_1's rmse: 0.108454\n"
     ]
    },
    {
     "name": "stderr",
     "output_type": "stream",
     "text": [
      "feature_fraction, val_score: 0.107619:  57%|#########################7                   | 4/7 [00:00<00:00,  7.16it/s][I 2020-10-23 12:51:08,540] Trial 3 finished with value: 0.10845394857835117 and parameters: {'feature_fraction': 0.4}. Best is trial 0 with value: 0.10761926716504414.\n",
      "feature_fraction, val_score: 0.107619:  57%|#########################7                   | 4/7 [00:00<00:00,  7.16it/s]"
     ]
    },
    {
     "name": "stdout",
     "output_type": "stream",
     "text": [
      "Training until validation scores don't improve for 10 rounds\n",
      "[10]\ttraining's rmse: 0.189692\tvalid_1's rmse: 0.193278\n",
      "[20]\ttraining's rmse: 0.120341\tvalid_1's rmse: 0.14026\n",
      "[30]\ttraining's rmse: 0.0936239\tvalid_1's rmse: 0.124885\n",
      "[40]\ttraining's rmse: 0.0801794\tvalid_1's rmse: 0.119625\n",
      "[50]\ttraining's rmse: 0.0710491\tvalid_1's rmse: 0.117069\n",
      "[60]\ttraining's rmse: 0.0642668\tvalid_1's rmse: 0.116307\n",
      "[70]\ttraining's rmse: 0.0582791\tvalid_1's rmse: 0.116135\n",
      "Early stopping, best iteration is:\n",
      "[64]\ttraining's rmse: 0.0618866\tvalid_1's rmse: 0.116014\n"
     ]
    },
    {
     "name": "stderr",
     "output_type": "stream",
     "text": [
      "feature_fraction, val_score: 0.107619:  71%|################################1            | 5/7 [00:00<00:00,  7.51it/s][I 2020-10-23 12:51:08,659] Trial 4 finished with value: 0.11601421604216336 and parameters: {'feature_fraction': 0.8}. Best is trial 0 with value: 0.10761926716504414.\n",
      "feature_fraction, val_score: 0.107619:  71%|################################1            | 5/7 [00:00<00:00,  7.51it/s]"
     ]
    },
    {
     "name": "stdout",
     "output_type": "stream",
     "text": [
      "Training until validation scores don't improve for 10 rounds\n",
      "[10]\ttraining's rmse: 0.189591\tvalid_1's rmse: 0.194463\n",
      "[20]\ttraining's rmse: 0.119835\tvalid_1's rmse: 0.141746\n",
      "[30]\ttraining's rmse: 0.0930956\tvalid_1's rmse: 0.12602\n",
      "[40]\ttraining's rmse: 0.0794789\tvalid_1's rmse: 0.121218\n",
      "[50]\ttraining's rmse: 0.0703414\tvalid_1's rmse: 0.119936\n",
      "[60]\ttraining's rmse: 0.062924\tvalid_1's rmse: 0.118851\n",
      "[70]\ttraining's rmse: 0.0573144\tvalid_1's rmse: 0.118405\n",
      "Early stopping, best iteration is:\n",
      "[68]\ttraining's rmse: 0.0583117\tvalid_1's rmse: 0.118247\n"
     ]
    },
    {
     "name": "stderr",
     "output_type": "stream",
     "text": [
      "feature_fraction, val_score: 0.107619:  86%|######################################5      | 6/7 [00:00<00:00,  7.23it/s][I 2020-10-23 12:51:08,809] Trial 5 finished with value: 0.1182466323604174 and parameters: {'feature_fraction': 0.8999999999999999}. Best is trial 0 with value: 0.10761926716504414.\n",
      "feature_fraction, val_score: 0.107619:  86%|######################################5      | 6/7 [00:00<00:00,  7.23it/s]"
     ]
    },
    {
     "name": "stdout",
     "output_type": "stream",
     "text": [
      "Training until validation scores don't improve for 10 rounds\n",
      "[10]\ttraining's rmse: 0.191448\tvalid_1's rmse: 0.194765\n",
      "[20]\ttraining's rmse: 0.121367\tvalid_1's rmse: 0.141618\n",
      "[30]\ttraining's rmse: 0.0951658\tvalid_1's rmse: 0.125854\n",
      "[40]\ttraining's rmse: 0.0815024\tvalid_1's rmse: 0.119565\n",
      "[50]\ttraining's rmse: 0.0722466\tvalid_1's rmse: 0.117593\n",
      "[60]\ttraining's rmse: 0.0648485\tvalid_1's rmse: 0.116216\n",
      "[70]\ttraining's rmse: 0.0593398\tvalid_1's rmse: 0.115185\n",
      "[80]\ttraining's rmse: 0.0543135\tvalid_1's rmse: 0.115022\n",
      "Early stopping, best iteration is:\n",
      "[73]\ttraining's rmse: 0.0576154\tvalid_1's rmse: 0.11487\n"
     ]
    },
    {
     "name": "stderr",
     "output_type": "stream",
     "text": [
      "feature_fraction, val_score: 0.107619: 100%|#############################################| 7/7 [00:00<00:00,  6.95it/s][I 2020-10-23 12:51:08,966] Trial 6 finished with value: 0.11486997580338827 and parameters: {'feature_fraction': 0.7}. Best is trial 0 with value: 0.10761926716504414.\n",
      "feature_fraction, val_score: 0.107619: 100%|#############################################| 7/7 [00:00<00:00,  7.10it/s]\n",
      "num_leaves, val_score: 0.107619:   0%|                                                          | 0/20 [00:00<?, ?it/s]"
     ]
    },
    {
     "name": "stdout",
     "output_type": "stream",
     "text": [
      "Training until validation scores don't improve for 10 rounds\n",
      "[10]\ttraining's rmse: 0.190478\tvalid_1's rmse: 0.188717\n",
      "[20]\ttraining's rmse: 0.11901\tvalid_1's rmse: 0.131421\n",
      "[30]\ttraining's rmse: 0.0924214\tvalid_1's rmse: 0.115727\n",
      "[40]\ttraining's rmse: 0.0787186\tvalid_1's rmse: 0.1093\n",
      "[50]\ttraining's rmse: 0.0695063\tvalid_1's rmse: 0.106939\n",
      "[60]\ttraining's rmse: 0.0626515\tvalid_1's rmse: 0.105518\n",
      "[70]\ttraining's rmse: 0.0567034\tvalid_1's rmse: 0.105232\n",
      "Early stopping, best iteration is:\n",
      "[64]\ttraining's rmse: 0.0603165\tvalid_1's rmse: 0.104881\n"
     ]
    },
    {
     "name": "stderr",
     "output_type": "stream",
     "text": [
      "num_leaves, val_score: 0.104881:   5%|##5                                               | 1/20 [00:00<00:02,  6.90it/s][I 2020-10-23 12:51:09,121] Trial 7 finished with value: 0.10488076523050406 and parameters: {'num_leaves': 82}. Best is trial 7 with value: 0.10488076523050406.\n",
      "num_leaves, val_score: 0.104881:   5%|##5                                               | 1/20 [00:00<00:02,  6.90it/s]"
     ]
    },
    {
     "name": "stdout",
     "output_type": "stream",
     "text": [
      "Training until validation scores don't improve for 10 rounds\n",
      "[10]\ttraining's rmse: 0.190478\tvalid_1's rmse: 0.188717\n",
      "[20]\ttraining's rmse: 0.11901\tvalid_1's rmse: 0.131421\n",
      "[30]\ttraining's rmse: 0.0924214\tvalid_1's rmse: 0.115727\n",
      "[40]\ttraining's rmse: 0.0787186\tvalid_1's rmse: 0.1093\n",
      "[50]\ttraining's rmse: 0.0695063\tvalid_1's rmse: 0.106939\n",
      "[60]\ttraining's rmse: 0.0626515\tvalid_1's rmse: 0.105518\n",
      "[70]\ttraining's rmse: 0.0567034\tvalid_1's rmse: 0.105232\n",
      "Early stopping, best iteration is:\n",
      "[64]\ttraining's rmse: 0.0603165\tvalid_1's rmse: 0.104881\n"
     ]
    },
    {
     "name": "stderr",
     "output_type": "stream",
     "text": [
      "num_leaves, val_score: 0.104881:  10%|#####                                             | 2/20 [00:00<00:02,  6.95it/s][I 2020-10-23 12:51:09,262] Trial 8 finished with value: 0.10488076523050406 and parameters: {'num_leaves': 117}. Best is trial 7 with value: 0.10488076523050406.\n",
      "num_leaves, val_score: 0.104881:  10%|#####                                             | 2/20 [00:00<00:02,  6.95it/s]"
     ]
    },
    {
     "name": "stdout",
     "output_type": "stream",
     "text": [
      "Training until validation scores don't improve for 10 rounds\n",
      "[10]\ttraining's rmse: 0.247478\tvalid_1's rmse: 0.238245\n",
      "[20]\ttraining's rmse: 0.184032\tvalid_1's rmse: 0.178904\n",
      "[30]\ttraining's rmse: 0.156342\tvalid_1's rmse: 0.151861\n",
      "[40]\ttraining's rmse: 0.142282\tvalid_1's rmse: 0.136565\n",
      "[50]\ttraining's rmse: 0.133475\tvalid_1's rmse: 0.127556\n",
      "[60]\ttraining's rmse: 0.127413\tvalid_1's rmse: 0.122502\n",
      "[70]\ttraining's rmse: 0.122865\tvalid_1's rmse: 0.117639\n",
      "[80]\ttraining's rmse: 0.119597\tvalid_1's rmse: 0.114977\n",
      "[90]\ttraining's rmse: 0.116867\tvalid_1's rmse: 0.113433\n",
      "[100]\ttraining's rmse: 0.114366\tvalid_1's rmse: 0.111524\n",
      "[110]\ttraining's rmse: 0.11242\tvalid_1's rmse: 0.110767\n",
      "[120]\ttraining's rmse: 0.110625\tvalid_1's rmse: 0.109857\n",
      "[130]\ttraining's rmse: 0.108994\tvalid_1's rmse: 0.109191\n",
      "[140]\ttraining's rmse: 0.107236\tvalid_1's rmse: 0.108799\n",
      "Early stopping, best iteration is:\n",
      "[138]\ttraining's rmse: 0.107537\tvalid_1's rmse: 0.108681\n"
     ]
    },
    {
     "name": "stderr",
     "output_type": "stream",
     "text": [
      "num_leaves, val_score: 0.104881:  15%|#######5                                          | 3/20 [00:00<00:02,  7.45it/s][I 2020-10-23 12:51:09,374] Trial 9 finished with value: 0.10868066949939716 and parameters: {'num_leaves': 4}. Best is trial 7 with value: 0.10488076523050406.\n",
      "num_leaves, val_score: 0.104881:  15%|#######5                                          | 3/20 [00:00<00:02,  7.45it/s]"
     ]
    },
    {
     "name": "stdout",
     "output_type": "stream",
     "text": [
      "Training until validation scores don't improve for 10 rounds\n",
      "[10]\ttraining's rmse: 0.190478\tvalid_1's rmse: 0.188717\n",
      "[20]\ttraining's rmse: 0.11901\tvalid_1's rmse: 0.131421\n",
      "[30]\ttraining's rmse: 0.0924214\tvalid_1's rmse: 0.115727\n",
      "[40]\ttraining's rmse: 0.0787186\tvalid_1's rmse: 0.1093\n",
      "[50]\ttraining's rmse: 0.0695063\tvalid_1's rmse: 0.106939\n",
      "[60]\ttraining's rmse: 0.0626515\tvalid_1's rmse: 0.105518\n",
      "[70]\ttraining's rmse: 0.0567034\tvalid_1's rmse: 0.105232\n",
      "Early stopping, best iteration is:\n",
      "[64]\ttraining's rmse: 0.0603165\tvalid_1's rmse: 0.104881\n"
     ]
    },
    {
     "name": "stderr",
     "output_type": "stream",
     "text": [
      "num_leaves, val_score: 0.104881:  20%|##########                                        | 4/20 [00:00<00:02,  7.26it/s][I 2020-10-23 12:51:09,520] Trial 10 finished with value: 0.10488076523050406 and parameters: {'num_leaves': 104}. Best is trial 7 with value: 0.10488076523050406.\n",
      "num_leaves, val_score: 0.104881:  20%|##########                                        | 4/20 [00:00<00:02,  7.26it/s]"
     ]
    },
    {
     "name": "stdout",
     "output_type": "stream",
     "text": [
      "Training until validation scores don't improve for 10 rounds\n",
      "[10]\ttraining's rmse: 0.190478\tvalid_1's rmse: 0.188717\n",
      "[20]\ttraining's rmse: 0.11901\tvalid_1's rmse: 0.131421\n",
      "[30]\ttraining's rmse: 0.0924214\tvalid_1's rmse: 0.115727\n",
      "[40]\ttraining's rmse: 0.0787186\tvalid_1's rmse: 0.1093\n",
      "[50]\ttraining's rmse: 0.0695063\tvalid_1's rmse: 0.106939\n",
      "[60]\ttraining's rmse: 0.0626515\tvalid_1's rmse: 0.105518\n",
      "[70]\ttraining's rmse: 0.0567034\tvalid_1's rmse: 0.105232\n",
      "Early stopping, best iteration is:\n",
      "[64]\ttraining's rmse: 0.0603165\tvalid_1's rmse: 0.104881\n"
     ]
    },
    {
     "name": "stderr",
     "output_type": "stream",
     "text": [
      "num_leaves, val_score: 0.104881:  25%|############5                                     | 5/20 [00:00<00:02,  7.21it/s][I 2020-10-23 12:51:09,661] Trial 11 finished with value: 0.10488076523050406 and parameters: {'num_leaves': 121}. Best is trial 7 with value: 0.10488076523050406.\n",
      "num_leaves, val_score: 0.104881:  25%|############5                                     | 5/20 [00:00<00:02,  7.21it/s]"
     ]
    },
    {
     "name": "stdout",
     "output_type": "stream",
     "text": [
      "Training until validation scores don't improve for 10 rounds\n",
      "[10]\ttraining's rmse: 0.190478\tvalid_1's rmse: 0.188717\n",
      "[20]\ttraining's rmse: 0.11901\tvalid_1's rmse: 0.131421\n",
      "[30]\ttraining's rmse: 0.0924214\tvalid_1's rmse: 0.115727\n",
      "[40]\ttraining's rmse: 0.0787186\tvalid_1's rmse: 0.1093\n",
      "[50]\ttraining's rmse: 0.0695063\tvalid_1's rmse: 0.106939\n",
      "[60]\ttraining's rmse: 0.0626515\tvalid_1's rmse: 0.105518\n",
      "[70]\ttraining's rmse: 0.0567034\tvalid_1's rmse: 0.105232\n",
      "Early stopping, best iteration is:\n",
      "[64]\ttraining's rmse: 0.0603165\tvalid_1's rmse: 0.104881\n"
     ]
    },
    {
     "name": "stderr",
     "output_type": "stream",
     "text": [
      "num_leaves, val_score: 0.104881:  30%|###############                                   | 6/20 [00:00<00:02,  6.88it/s][I 2020-10-23 12:51:09,821] Trial 12 finished with value: 0.10488076523050406 and parameters: {'num_leaves': 71}. Best is trial 7 with value: 0.10488076523050406.\n",
      "num_leaves, val_score: 0.104881:  30%|###############                                   | 6/20 [00:00<00:02,  6.88it/s]"
     ]
    },
    {
     "name": "stdout",
     "output_type": "stream",
     "text": [
      "Training until validation scores don't improve for 10 rounds\n",
      "[10]\ttraining's rmse: 0.190478\tvalid_1's rmse: 0.188717\n",
      "[20]\ttraining's rmse: 0.11901\tvalid_1's rmse: 0.131421\n",
      "[30]\ttraining's rmse: 0.0924214\tvalid_1's rmse: 0.115727\n",
      "[40]\ttraining's rmse: 0.0787186\tvalid_1's rmse: 0.1093\n",
      "[50]\ttraining's rmse: 0.0695063\tvalid_1's rmse: 0.106939\n",
      "[60]\ttraining's rmse: 0.0626515\tvalid_1's rmse: 0.105518\n",
      "[70]\ttraining's rmse: 0.0567034\tvalid_1's rmse: 0.105232\n",
      "Early stopping, best iteration is:\n",
      "[64]\ttraining's rmse: 0.0603165\tvalid_1's rmse: 0.104881\n"
     ]
    },
    {
     "name": "stderr",
     "output_type": "stream",
     "text": [
      "num_leaves, val_score: 0.104881:  35%|#################5                                | 7/20 [00:00<00:01,  6.78it/s][I 2020-10-23 12:51:09,973] Trial 13 finished with value: 0.10488076523050406 and parameters: {'num_leaves': 240}. Best is trial 7 with value: 0.10488076523050406.\n",
      "num_leaves, val_score: 0.104881:  35%|#################5                                | 7/20 [00:01<00:01,  6.78it/s]"
     ]
    },
    {
     "name": "stdout",
     "output_type": "stream",
     "text": [
      "Training until validation scores don't improve for 10 rounds\n",
      "[10]\ttraining's rmse: 0.190478\tvalid_1's rmse: 0.188717\n",
      "[20]\ttraining's rmse: 0.11901\tvalid_1's rmse: 0.131421\n",
      "[30]\ttraining's rmse: 0.0924214\tvalid_1's rmse: 0.115727\n",
      "[40]\ttraining's rmse: 0.0787186\tvalid_1's rmse: 0.1093\n",
      "[50]\ttraining's rmse: 0.0695063\tvalid_1's rmse: 0.106939\n",
      "[60]\ttraining's rmse: 0.0626515\tvalid_1's rmse: 0.105518\n",
      "[70]\ttraining's rmse: 0.0567034\tvalid_1's rmse: 0.105232\n",
      "Early stopping, best iteration is:\n",
      "[64]\ttraining's rmse: 0.0603165\tvalid_1's rmse: 0.104881\n"
     ]
    },
    {
     "name": "stderr",
     "output_type": "stream",
     "text": [
      "num_leaves, val_score: 0.104881:  40%|####################                              | 8/20 [00:01<00:01,  6.63it/s][I 2020-10-23 12:51:10,132] Trial 14 finished with value: 0.10488076523050406 and parameters: {'num_leaves': 197}. Best is trial 7 with value: 0.10488076523050406.\n",
      "num_leaves, val_score: 0.104881:  40%|####################                              | 8/20 [00:01<00:01,  6.63it/s]"
     ]
    },
    {
     "name": "stdout",
     "output_type": "stream",
     "text": [
      "Training until validation scores don't improve for 10 rounds\n",
      "[10]\ttraining's rmse: 0.190902\tvalid_1's rmse: 0.189026\n",
      "[20]\ttraining's rmse: 0.120191\tvalid_1's rmse: 0.132055\n",
      "[30]\ttraining's rmse: 0.0938638\tvalid_1's rmse: 0.116302\n",
      "[40]\ttraining's rmse: 0.0801833\tvalid_1's rmse: 0.110479\n",
      "[50]\ttraining's rmse: 0.0707217\tvalid_1's rmse: 0.108422\n",
      "[60]\ttraining's rmse: 0.0632676\tvalid_1's rmse: 0.107208\n",
      "[70]\ttraining's rmse: 0.0574952\tvalid_1's rmse: 0.106698\n",
      "[80]\ttraining's rmse: 0.0524588\tvalid_1's rmse: 0.106595\n",
      "Early stopping, best iteration is:\n",
      "[74]\ttraining's rmse: 0.0556059\tvalid_1's rmse: 0.106332\n"
     ]
    },
    {
     "name": "stderr",
     "output_type": "stream",
     "text": [
      "num_leaves, val_score: 0.104881:  45%|######################5                           | 9/20 [00:01<00:01,  6.41it/s][I 2020-10-23 12:51:10,303] Trial 15 finished with value: 0.10633214243505419 and parameters: {'num_leaves': 41}. Best is trial 7 with value: 0.10488076523050406.\n",
      "num_leaves, val_score: 0.104881:  45%|######################5                           | 9/20 [00:01<00:01,  6.41it/s]"
     ]
    },
    {
     "name": "stdout",
     "output_type": "stream",
     "text": [
      "Training until validation scores don't improve for 10 rounds\n",
      "[10]\ttraining's rmse: 0.190478\tvalid_1's rmse: 0.188717\n",
      "[20]\ttraining's rmse: 0.11901\tvalid_1's rmse: 0.131421\n",
      "[30]\ttraining's rmse: 0.0924214\tvalid_1's rmse: 0.115727\n",
      "[40]\ttraining's rmse: 0.0787186\tvalid_1's rmse: 0.1093\n",
      "[50]\ttraining's rmse: 0.0695063\tvalid_1's rmse: 0.106939\n",
      "[60]\ttraining's rmse: 0.0626515\tvalid_1's rmse: 0.105518\n",
      "[70]\ttraining's rmse: 0.0567034\tvalid_1's rmse: 0.105232\n",
      "Early stopping, best iteration is:\n",
      "[64]\ttraining's rmse: 0.0603165\tvalid_1's rmse: 0.104881\n"
     ]
    },
    {
     "name": "stderr",
     "output_type": "stream",
     "text": [
      "num_leaves, val_score: 0.104881:  50%|########################5                        | 10/20 [00:01<00:01,  6.18it/s][I 2020-10-23 12:51:10,475] Trial 16 finished with value: 0.10488076523050406 and parameters: {'num_leaves': 170}. Best is trial 7 with value: 0.10488076523050406.\n",
      "num_leaves, val_score: 0.104881:  50%|########################5                        | 10/20 [00:01<00:01,  6.18it/s]"
     ]
    },
    {
     "name": "stdout",
     "output_type": "stream",
     "text": [
      "Training until validation scores don't improve for 10 rounds\n",
      "[10]\ttraining's rmse: 0.190478\tvalid_1's rmse: 0.188717\n",
      "[20]\ttraining's rmse: 0.11901\tvalid_1's rmse: 0.131421\n",
      "[30]\ttraining's rmse: 0.0924214\tvalid_1's rmse: 0.115727\n",
      "[40]\ttraining's rmse: 0.0787186\tvalid_1's rmse: 0.1093\n",
      "[50]\ttraining's rmse: 0.0695063\tvalid_1's rmse: 0.106939\n",
      "[60]\ttraining's rmse: 0.0626515\tvalid_1's rmse: 0.105518\n",
      "[70]\ttraining's rmse: 0.0567034\tvalid_1's rmse: 0.105232\n",
      "Early stopping, best iteration is:\n",
      "[64]\ttraining's rmse: 0.0603165\tvalid_1's rmse: 0.104881\n"
     ]
    },
    {
     "name": "stderr",
     "output_type": "stream",
     "text": [
      "num_leaves, val_score: 0.104881:  55%|##########################9                      | 11/20 [00:01<00:01,  6.26it/s][I 2020-10-23 12:51:10,630] Trial 17 finished with value: 0.10488076523050406 and parameters: {'num_leaves': 187}. Best is trial 7 with value: 0.10488076523050406.\n",
      "num_leaves, val_score: 0.104881:  55%|##########################9                      | 11/20 [00:01<00:01,  6.26it/s]"
     ]
    },
    {
     "name": "stdout",
     "output_type": "stream",
     "text": [
      "Training until validation scores don't improve for 10 rounds\n",
      "[10]\ttraining's rmse: 0.190478\tvalid_1's rmse: 0.188717\n",
      "[20]\ttraining's rmse: 0.11901\tvalid_1's rmse: 0.131421\n",
      "[30]\ttraining's rmse: 0.0924214\tvalid_1's rmse: 0.115727\n",
      "[40]\ttraining's rmse: 0.0787186\tvalid_1's rmse: 0.1093\n",
      "[50]\ttraining's rmse: 0.0695063\tvalid_1's rmse: 0.106939\n",
      "[60]\ttraining's rmse: 0.0626515\tvalid_1's rmse: 0.105518\n",
      "[70]\ttraining's rmse: 0.0567034\tvalid_1's rmse: 0.105232\n",
      "Early stopping, best iteration is:\n",
      "[64]\ttraining's rmse: 0.0603165\tvalid_1's rmse: 0.104881\n"
     ]
    },
    {
     "name": "stderr",
     "output_type": "stream",
     "text": [
      "num_leaves, val_score: 0.104881:  60%|#############################4                   | 12/20 [00:01<00:01,  6.29it/s][I 2020-10-23 12:51:10,787] Trial 18 finished with value: 0.10488076523050406 and parameters: {'num_leaves': 173}. Best is trial 7 with value: 0.10488076523050406.\n",
      "num_leaves, val_score: 0.104881:  60%|#############################4                   | 12/20 [00:01<00:01,  6.29it/s]"
     ]
    },
    {
     "name": "stdout",
     "output_type": "stream",
     "text": [
      "Training until validation scores don't improve for 10 rounds\n",
      "[10]\ttraining's rmse: 0.190478\tvalid_1's rmse: 0.188717\n",
      "[20]\ttraining's rmse: 0.11901\tvalid_1's rmse: 0.131421\n",
      "[30]\ttraining's rmse: 0.0924214\tvalid_1's rmse: 0.115727\n",
      "[40]\ttraining's rmse: 0.0787186\tvalid_1's rmse: 0.1093\n",
      "[50]\ttraining's rmse: 0.0695063\tvalid_1's rmse: 0.106939\n",
      "[60]\ttraining's rmse: 0.0626515\tvalid_1's rmse: 0.105518\n",
      "[70]\ttraining's rmse: 0.0567034\tvalid_1's rmse: 0.105232\n",
      "Early stopping, best iteration is:\n",
      "[64]\ttraining's rmse: 0.0603165\tvalid_1's rmse: 0.104881\n"
     ]
    },
    {
     "name": "stderr",
     "output_type": "stream",
     "text": [
      "num_leaves, val_score: 0.104881:  65%|###############################8                 | 13/20 [00:01<00:01,  6.10it/s][I 2020-10-23 12:51:10,965] Trial 19 finished with value: 0.10488076523050406 and parameters: {'num_leaves': 173}. Best is trial 7 with value: 0.10488076523050406.\n",
      "num_leaves, val_score: 0.104881:  65%|###############################8                 | 13/20 [00:01<00:01,  6.10it/s]"
     ]
    },
    {
     "name": "stdout",
     "output_type": "stream",
     "text": [
      "Training until validation scores don't improve for 10 rounds\n",
      "[10]\ttraining's rmse: 0.190478\tvalid_1's rmse: 0.188717\n",
      "[20]\ttraining's rmse: 0.11901\tvalid_1's rmse: 0.131421\n",
      "[30]\ttraining's rmse: 0.0924214\tvalid_1's rmse: 0.115727\n",
      "[40]\ttraining's rmse: 0.0787186\tvalid_1's rmse: 0.1093\n",
      "[50]\ttraining's rmse: 0.0695063\tvalid_1's rmse: 0.106939\n",
      "[60]\ttraining's rmse: 0.0626515\tvalid_1's rmse: 0.105518\n",
      "[70]\ttraining's rmse: 0.0567034\tvalid_1's rmse: 0.105232\n",
      "Early stopping, best iteration is:\n",
      "[64]\ttraining's rmse: 0.0603165\tvalid_1's rmse: 0.104881\n"
     ]
    },
    {
     "name": "stderr",
     "output_type": "stream",
     "text": [
      "num_leaves, val_score: 0.104881:  70%|##################################3              | 14/20 [00:02<00:00,  6.05it/s][I 2020-10-23 12:51:11,131] Trial 20 finished with value: 0.10488076523050406 and parameters: {'num_leaves': 254}. Best is trial 7 with value: 0.10488076523050406.\n",
      "num_leaves, val_score: 0.104881:  70%|##################################3              | 14/20 [00:02<00:00,  6.05it/s]"
     ]
    },
    {
     "name": "stdout",
     "output_type": "stream",
     "text": [
      "Training until validation scores don't improve for 10 rounds\n",
      "[10]\ttraining's rmse: 0.190478\tvalid_1's rmse: 0.188717\n",
      "[20]\ttraining's rmse: 0.11901\tvalid_1's rmse: 0.131421\n",
      "[30]\ttraining's rmse: 0.0924214\tvalid_1's rmse: 0.115727\n",
      "[40]\ttraining's rmse: 0.0787186\tvalid_1's rmse: 0.1093\n",
      "[50]\ttraining's rmse: 0.0695063\tvalid_1's rmse: 0.106939\n",
      "[60]\ttraining's rmse: 0.0626515\tvalid_1's rmse: 0.105518\n",
      "[70]\ttraining's rmse: 0.0567034\tvalid_1's rmse: 0.105232\n",
      "Early stopping, best iteration is:\n",
      "[64]\ttraining's rmse: 0.0603165\tvalid_1's rmse: 0.104881\n"
     ]
    },
    {
     "name": "stderr",
     "output_type": "stream",
     "text": [
      "num_leaves, val_score: 0.104881:  75%|####################################7            | 15/20 [00:02<00:00,  6.16it/s][I 2020-10-23 12:51:11,288] Trial 21 finished with value: 0.10488076523050406 and parameters: {'num_leaves': 204}. Best is trial 7 with value: 0.10488076523050406.\n",
      "num_leaves, val_score: 0.104881:  75%|####################################7            | 15/20 [00:02<00:00,  6.16it/s]"
     ]
    },
    {
     "name": "stdout",
     "output_type": "stream",
     "text": [
      "Training until validation scores don't improve for 10 rounds\n",
      "[10]\ttraining's rmse: 0.190478\tvalid_1's rmse: 0.188717\n",
      "[20]\ttraining's rmse: 0.11901\tvalid_1's rmse: 0.131421\n",
      "[30]\ttraining's rmse: 0.0924214\tvalid_1's rmse: 0.115727\n",
      "[40]\ttraining's rmse: 0.0787186\tvalid_1's rmse: 0.1093\n",
      "[50]\ttraining's rmse: 0.0695063\tvalid_1's rmse: 0.106939\n",
      "[60]\ttraining's rmse: 0.0626515\tvalid_1's rmse: 0.105518\n",
      "[70]\ttraining's rmse: 0.0567034\tvalid_1's rmse: 0.105232\n",
      "Early stopping, best iteration is:\n",
      "[64]\ttraining's rmse: 0.0603165\tvalid_1's rmse: 0.104881\n"
     ]
    },
    {
     "name": "stderr",
     "output_type": "stream",
     "text": [
      "num_leaves, val_score: 0.104881:  80%|#######################################2         | 16/20 [00:02<00:00,  6.24it/s][I 2020-10-23 12:51:11,444] Trial 22 finished with value: 0.10488076523050406 and parameters: {'num_leaves': 154}. Best is trial 7 with value: 0.10488076523050406.\n",
      "num_leaves, val_score: 0.104881:  80%|#######################################2         | 16/20 [00:02<00:00,  6.24it/s]"
     ]
    },
    {
     "name": "stdout",
     "output_type": "stream",
     "text": [
      "Training until validation scores don't improve for 10 rounds\n",
      "[10]\ttraining's rmse: 0.190478\tvalid_1's rmse: 0.188717\n",
      "[20]\ttraining's rmse: 0.11901\tvalid_1's rmse: 0.131421\n",
      "[30]\ttraining's rmse: 0.0924214\tvalid_1's rmse: 0.115727\n",
      "[40]\ttraining's rmse: 0.0787186\tvalid_1's rmse: 0.1093\n",
      "[50]\ttraining's rmse: 0.0695063\tvalid_1's rmse: 0.106939\n",
      "[60]\ttraining's rmse: 0.0626515\tvalid_1's rmse: 0.105518\n",
      "[70]\ttraining's rmse: 0.0567034\tvalid_1's rmse: 0.105232\n",
      "Early stopping, best iteration is:\n",
      "[64]\ttraining's rmse: 0.0603165\tvalid_1's rmse: 0.104881\n"
     ]
    },
    {
     "name": "stderr",
     "output_type": "stream",
     "text": [
      "num_leaves, val_score: 0.104881:  85%|#########################################6       | 17/20 [00:02<00:00,  6.33it/s][I 2020-10-23 12:51:11,596] Trial 23 finished with value: 0.10488076523050406 and parameters: {'num_leaves': 233}. Best is trial 7 with value: 0.10488076523050406.\n",
      "num_leaves, val_score: 0.104881:  85%|#########################################6       | 17/20 [00:02<00:00,  6.33it/s]"
     ]
    },
    {
     "name": "stdout",
     "output_type": "stream",
     "text": [
      "Training until validation scores don't improve for 10 rounds\n",
      "[10]\ttraining's rmse: 0.190478\tvalid_1's rmse: 0.188717\n",
      "[20]\ttraining's rmse: 0.11901\tvalid_1's rmse: 0.131421\n",
      "[30]\ttraining's rmse: 0.0924214\tvalid_1's rmse: 0.115727\n",
      "[40]\ttraining's rmse: 0.0787186\tvalid_1's rmse: 0.1093\n",
      "[50]\ttraining's rmse: 0.0695063\tvalid_1's rmse: 0.106939\n",
      "[60]\ttraining's rmse: 0.0626515\tvalid_1's rmse: 0.105518\n",
      "[70]\ttraining's rmse: 0.0567034\tvalid_1's rmse: 0.105232\n",
      "Early stopping, best iteration is:\n",
      "[64]\ttraining's rmse: 0.0603165\tvalid_1's rmse: 0.104881\n"
     ]
    },
    {
     "name": "stderr",
     "output_type": "stream",
     "text": [
      "num_leaves, val_score: 0.104881:  90%|############################################1    | 18/20 [00:02<00:00,  6.21it/s][I 2020-10-23 12:51:11,764] Trial 24 finished with value: 0.10488076523050406 and parameters: {'num_leaves': 255}. Best is trial 7 with value: 0.10488076523050406.\n",
      "num_leaves, val_score: 0.104881:  90%|############################################1    | 18/20 [00:02<00:00,  6.21it/s]"
     ]
    },
    {
     "name": "stdout",
     "output_type": "stream",
     "text": [
      "Training until validation scores don't improve for 10 rounds\n",
      "[10]\ttraining's rmse: 0.190478\tvalid_1's rmse: 0.188717\n",
      "[20]\ttraining's rmse: 0.11901\tvalid_1's rmse: 0.131421\n",
      "[30]\ttraining's rmse: 0.0924214\tvalid_1's rmse: 0.115727\n",
      "[40]\ttraining's rmse: 0.0787186\tvalid_1's rmse: 0.1093\n",
      "[50]\ttraining's rmse: 0.0695063\tvalid_1's rmse: 0.106939\n",
      "[60]\ttraining's rmse: 0.0626515\tvalid_1's rmse: 0.105518\n",
      "[70]\ttraining's rmse: 0.0567034\tvalid_1's rmse: 0.105232\n",
      "Early stopping, best iteration is:\n",
      "[64]\ttraining's rmse: 0.0603165\tvalid_1's rmse: 0.104881\n"
     ]
    },
    {
     "name": "stderr",
     "output_type": "stream",
     "text": [
      "num_leaves, val_score: 0.104881:  95%|##############################################5  | 19/20 [00:02<00:00,  6.28it/s][I 2020-10-23 12:51:11,919] Trial 25 finished with value: 0.10488076523050406 and parameters: {'num_leaves': 70}. Best is trial 7 with value: 0.10488076523050406.\n",
      "num_leaves, val_score: 0.104881:  95%|##############################################5  | 19/20 [00:02<00:00,  6.28it/s]"
     ]
    },
    {
     "name": "stdout",
     "output_type": "stream",
     "text": [
      "Training until validation scores don't improve for 10 rounds\n",
      "[10]\ttraining's rmse: 0.190478\tvalid_1's rmse: 0.188717\n",
      "[20]\ttraining's rmse: 0.11901\tvalid_1's rmse: 0.131421\n",
      "[30]\ttraining's rmse: 0.0924214\tvalid_1's rmse: 0.115727\n",
      "[40]\ttraining's rmse: 0.0787186\tvalid_1's rmse: 0.1093\n",
      "[50]\ttraining's rmse: 0.0695063\tvalid_1's rmse: 0.106939\n",
      "[60]\ttraining's rmse: 0.0626515\tvalid_1's rmse: 0.105518\n",
      "[70]\ttraining's rmse: 0.0567034\tvalid_1's rmse: 0.105232\n",
      "Early stopping, best iteration is:\n",
      "[64]\ttraining's rmse: 0.0603165\tvalid_1's rmse: 0.104881\n"
     ]
    },
    {
     "name": "stderr",
     "output_type": "stream",
     "text": [
      "num_leaves, val_score: 0.104881: 100%|#################################################| 20/20 [00:03<00:00,  6.32it/s][I 2020-10-23 12:51:12,075] Trial 26 finished with value: 0.10488076523050406 and parameters: {'num_leaves': 148}. Best is trial 7 with value: 0.10488076523050406.\n",
      "num_leaves, val_score: 0.104881: 100%|#################################################| 20/20 [00:03<00:00,  6.45it/s]\n",
      "bagging, val_score: 0.104881:   0%|                                                             | 0/10 [00:00<?, ?it/s]"
     ]
    },
    {
     "name": "stdout",
     "output_type": "stream",
     "text": [
      "Training until validation scores don't improve for 10 rounds\n",
      "[10]\ttraining's rmse: 0.207921\tvalid_1's rmse: 0.199474\n",
      "[20]\ttraining's rmse: 0.146591\tvalid_1's rmse: 0.14359\n",
      "[30]\ttraining's rmse: 0.123597\tvalid_1's rmse: 0.124513\n",
      "[40]\ttraining's rmse: 0.11121\tvalid_1's rmse: 0.117497\n",
      "[50]\ttraining's rmse: 0.104574\tvalid_1's rmse: 0.113962\n",
      "[60]\ttraining's rmse: 0.0990815\tvalid_1's rmse: 0.113064\n",
      "[70]\ttraining's rmse: 0.0942843\tvalid_1's rmse: 0.113156\n",
      "Early stopping, best iteration is:\n",
      "[63]\ttraining's rmse: 0.0974853\tvalid_1's rmse: 0.112502\n"
     ]
    },
    {
     "name": "stderr",
     "output_type": "stream",
     "text": [
      "bagging, val_score: 0.104881:  10%|#####3                                               | 1/10 [00:00<00:00,  9.26it/s][I 2020-10-23 12:51:12,191] Trial 27 finished with value: 0.11250171451305269 and parameters: {'bagging_fraction': 0.4572481533939947, 'bagging_freq': 3}. Best is trial 27 with value: 0.11250171451305269.\n",
      "bagging, val_score: 0.104881:  10%|#####3                                               | 1/10 [00:00<00:00,  9.26it/s]"
     ]
    },
    {
     "name": "stdout",
     "output_type": "stream",
     "text": [
      "Training until validation scores don't improve for 10 rounds\n",
      "[10]\ttraining's rmse: 0.191031\tvalid_1's rmse: 0.188459\n",
      "[20]\ttraining's rmse: 0.120227\tvalid_1's rmse: 0.131955\n",
      "[30]\ttraining's rmse: 0.0940313\tvalid_1's rmse: 0.117193\n",
      "[40]\ttraining's rmse: 0.0802653\tvalid_1's rmse: 0.111639\n",
      "[50]\ttraining's rmse: 0.0704263\tvalid_1's rmse: 0.110124\n",
      "[60]\ttraining's rmse: 0.063162\tvalid_1's rmse: 0.109014\n",
      "[70]\ttraining's rmse: 0.0573522\tvalid_1's rmse: 0.108372\n",
      "[80]\ttraining's rmse: 0.052338\tvalid_1's rmse: 0.108134\n",
      "Early stopping, best iteration is:\n",
      "[77]\ttraining's rmse: 0.0538103\tvalid_1's rmse: 0.107848\n"
     ]
    },
    {
     "name": "stderr",
     "output_type": "stream",
     "text": [
      "bagging, val_score: 0.104881:  20%|##########6                                          | 2/10 [00:00<00:01,  7.23it/s][I 2020-10-23 12:51:12,399] Trial 28 finished with value: 0.10784780925747062 and parameters: {'bagging_fraction': 0.9719485631244371, 'bagging_freq': 7}. Best is trial 28 with value: 0.10784780925747062.\n",
      "bagging, val_score: 0.104881:  20%|##########6                                          | 2/10 [00:00<00:01,  7.23it/s]"
     ]
    },
    {
     "name": "stdout",
     "output_type": "stream",
     "text": [
      "Training until validation scores don't improve for 10 rounds\n",
      "[10]\ttraining's rmse: 0.190524\tvalid_1's rmse: 0.18996\n",
      "[20]\ttraining's rmse: 0.120128\tvalid_1's rmse: 0.13279\n",
      "[30]\ttraining's rmse: 0.0934889\tvalid_1's rmse: 0.116989\n",
      "[40]\ttraining's rmse: 0.0797216\tvalid_1's rmse: 0.110924\n",
      "[50]\ttraining's rmse: 0.0703692\tvalid_1's rmse: 0.10884\n",
      "[60]\ttraining's rmse: 0.0630609\tvalid_1's rmse: 0.107201\n",
      "[70]\ttraining's rmse: 0.0569428\tvalid_1's rmse: 0.10647\n",
      "[80]\ttraining's rmse: 0.0518371\tvalid_1's rmse: 0.106163\n",
      "[90]\ttraining's rmse: 0.0472214\tvalid_1's rmse: 0.106418\n",
      "Early stopping, best iteration is:\n",
      "[81]\ttraining's rmse: 0.0513516\tvalid_1's rmse: 0.106115\n"
     ]
    },
    {
     "name": "stderr",
     "output_type": "stream",
     "text": [
      "bagging, val_score: 0.104881:  30%|###############9                                     | 3/10 [00:00<00:01,  6.53it/s][I 2020-10-23 12:51:12,588] Trial 29 finished with value: 0.10611501579181377 and parameters: {'bagging_fraction': 0.9933690952018197, 'bagging_freq': 1}. Best is trial 29 with value: 0.10611501579181377.\n",
      "bagging, val_score: 0.104881:  30%|###############9                                     | 3/10 [00:00<00:01,  6.53it/s]"
     ]
    },
    {
     "name": "stdout",
     "output_type": "stream",
     "text": [
      "Training until validation scores don't improve for 10 rounds\n",
      "[10]\ttraining's rmse: 0.200798\tvalid_1's rmse: 0.19314\n",
      "[20]\ttraining's rmse: 0.133488\tvalid_1's rmse: 0.136818\n",
      "[30]\ttraining's rmse: 0.111461\tvalid_1's rmse: 0.122996\n",
      "[40]\ttraining's rmse: 0.0999801\tvalid_1's rmse: 0.116606\n",
      "[50]\ttraining's rmse: 0.0924267\tvalid_1's rmse: 0.115312\n",
      "[60]\ttraining's rmse: 0.0861325\tvalid_1's rmse: 0.113991\n",
      "[70]\ttraining's rmse: 0.080362\tvalid_1's rmse: 0.1125\n",
      "Early stopping, best iteration is:\n",
      "[69]\ttraining's rmse: 0.0809739\tvalid_1's rmse: 0.112488\n"
     ]
    },
    {
     "name": "stderr",
     "output_type": "stream",
     "text": [
      "bagging, val_score: 0.104881:  40%|#####################2                               | 4/10 [00:00<00:00,  6.85it/s][I 2020-10-23 12:51:12,716] Trial 30 finished with value: 0.1124875003825999 and parameters: {'bagging_fraction': 0.6367030066332788, 'bagging_freq': 7}. Best is trial 29 with value: 0.10611501579181377.\n",
      "bagging, val_score: 0.104881:  40%|#####################2                               | 4/10 [00:00<00:00,  6.85it/s]"
     ]
    },
    {
     "name": "stdout",
     "output_type": "stream",
     "text": [
      "Training until validation scores don't improve for 10 rounds\n",
      "[10]\ttraining's rmse: 0.196225\tvalid_1's rmse: 0.190066\n",
      "[20]\ttraining's rmse: 0.12753\tvalid_1's rmse: 0.134673\n",
      "[30]\ttraining's rmse: 0.103271\tvalid_1's rmse: 0.120606\n",
      "[40]\ttraining's rmse: 0.0900829\tvalid_1's rmse: 0.115437\n",
      "[50]\ttraining's rmse: 0.0813592\tvalid_1's rmse: 0.11264\n",
      "[60]\ttraining's rmse: 0.0742396\tvalid_1's rmse: 0.110343\n",
      "[70]\ttraining's rmse: 0.0685298\tvalid_1's rmse: 0.10999\n",
      "[80]\ttraining's rmse: 0.06368\tvalid_1's rmse: 0.109714\n",
      "[90]\ttraining's rmse: 0.0589747\tvalid_1's rmse: 0.109256\n",
      "Early stopping, best iteration is:\n",
      "[88]\ttraining's rmse: 0.0598604\tvalid_1's rmse: 0.109024\n"
     ]
    },
    {
     "name": "stderr",
     "output_type": "stream",
     "text": [
      "bagging, val_score: 0.104881:  50%|##########################5                          | 5/10 [00:00<00:00,  6.14it/s][I 2020-10-23 12:51:12,918] Trial 31 finished with value: 0.10902400244734242 and parameters: {'bagging_fraction': 0.777480793510041, 'bagging_freq': 4}. Best is trial 29 with value: 0.10611501579181377.\n",
      "bagging, val_score: 0.104881:  50%|##########################5                          | 5/10 [00:00<00:00,  6.14it/s]"
     ]
    },
    {
     "name": "stdout",
     "output_type": "stream",
     "text": [
      "Training until validation scores don't improve for 10 rounds\n",
      "[10]\ttraining's rmse: 0.20808\tvalid_1's rmse: 0.199008\n",
      "[20]\ttraining's rmse: 0.144425\tvalid_1's rmse: 0.141121\n",
      "[30]\ttraining's rmse: 0.123765\tvalid_1's rmse: 0.124252\n",
      "[40]\ttraining's rmse: 0.111466\tvalid_1's rmse: 0.116812\n",
      "[50]\ttraining's rmse: 0.10443\tvalid_1's rmse: 0.114974\n",
      "[60]\ttraining's rmse: 0.0981967\tvalid_1's rmse: 0.114085\n",
      "[70]\ttraining's rmse: 0.0934578\tvalid_1's rmse: 0.114012\n",
      "[80]\ttraining's rmse: 0.0896087\tvalid_1's rmse: 0.113895\n",
      "Early stopping, best iteration is:\n",
      "[75]\ttraining's rmse: 0.0911198\tvalid_1's rmse: 0.113248\n"
     ]
    },
    {
     "name": "stderr",
     "output_type": "stream",
     "text": [
      "bagging, val_score: 0.104881:  60%|###############################8                     | 6/10 [00:00<00:00,  6.74it/s][I 2020-10-23 12:51:13,033] Trial 32 finished with value: 0.11324828486305623 and parameters: {'bagging_fraction': 0.4686654655308778, 'bagging_freq': 5}. Best is trial 29 with value: 0.10611501579181377.\n",
      "bagging, val_score: 0.104881:  60%|###############################8                     | 6/10 [00:00<00:00,  6.74it/s]"
     ]
    },
    {
     "name": "stdout",
     "output_type": "stream",
     "text": [
      "Training until validation scores don't improve for 10 rounds\n",
      "[10]\ttraining's rmse: 0.196002\tvalid_1's rmse: 0.191694\n",
      "[20]\ttraining's rmse: 0.126953\tvalid_1's rmse: 0.133613\n",
      "[30]\ttraining's rmse: 0.102841\tvalid_1's rmse: 0.118599\n",
      "[40]\ttraining's rmse: 0.0903642\tvalid_1's rmse: 0.113429\n",
      "[50]\ttraining's rmse: 0.0811313\tvalid_1's rmse: 0.11114\n",
      "[60]\ttraining's rmse: 0.07409\tvalid_1's rmse: 0.110999\n",
      "[70]\ttraining's rmse: 0.0684408\tvalid_1's rmse: 0.109482\n",
      "[80]\ttraining's rmse: 0.0629565\tvalid_1's rmse: 0.109063\n",
      "[90]\ttraining's rmse: 0.0583167\tvalid_1's rmse: 0.109198\n",
      "Early stopping, best iteration is:\n",
      "[85]\ttraining's rmse: 0.0607109\tvalid_1's rmse: 0.109044\n"
     ]
    },
    {
     "name": "stderr",
     "output_type": "stream",
     "text": [
      "bagging, val_score: 0.104881:  70%|#####################################                | 7/10 [00:01<00:00,  6.39it/s][I 2020-10-23 12:51:13,209] Trial 33 finished with value: 0.10904426744848802 and parameters: {'bagging_fraction': 0.7821857998912776, 'bagging_freq': 1}. Best is trial 29 with value: 0.10611501579181377.\n",
      "bagging, val_score: 0.104881:  70%|#####################################                | 7/10 [00:01<00:00,  6.39it/s]"
     ]
    },
    {
     "name": "stdout",
     "output_type": "stream",
     "text": [
      "Training until validation scores don't improve for 10 rounds\n",
      "[10]\ttraining's rmse: 0.201551\tvalid_1's rmse: 0.194128\n",
      "[20]\ttraining's rmse: 0.138325\tvalid_1's rmse: 0.139689\n",
      "[30]\ttraining's rmse: 0.113794\tvalid_1's rmse: 0.122956\n",
      "[40]\ttraining's rmse: 0.100352\tvalid_1's rmse: 0.11594\n",
      "[50]\ttraining's rmse: 0.0930522\tvalid_1's rmse: 0.113672\n",
      "[60]\ttraining's rmse: 0.0865928\tvalid_1's rmse: 0.11207\n",
      "[70]\ttraining's rmse: 0.0814915\tvalid_1's rmse: 0.111994\n",
      "Early stopping, best iteration is:\n",
      "[65]\ttraining's rmse: 0.0837399\tvalid_1's rmse: 0.110878\n"
     ]
    },
    {
     "name": "stderr",
     "output_type": "stream",
     "text": [
      "bagging, val_score: 0.104881:  80%|##########################################4          | 8/10 [00:01<00:00,  6.86it/s][I 2020-10-23 12:51:13,330] Trial 34 finished with value: 0.11087822989620257 and parameters: {'bagging_fraction': 0.6042078664780275, 'bagging_freq': 3}. Best is trial 29 with value: 0.10611501579181377.\n",
      "bagging, val_score: 0.104881:  80%|##########################################4          | 8/10 [00:01<00:00,  6.86it/s]"
     ]
    },
    {
     "name": "stdout",
     "output_type": "stream",
     "text": [
      "Training until validation scores don't improve for 10 rounds\n",
      "[10]\ttraining's rmse: 0.192909\tvalid_1's rmse: 0.19077\n",
      "[20]\ttraining's rmse: 0.12272\tvalid_1's rmse: 0.135053\n",
      "[30]\ttraining's rmse: 0.0984041\tvalid_1's rmse: 0.119791\n",
      "[40]\ttraining's rmse: 0.0844021\tvalid_1's rmse: 0.113596\n",
      "[50]\ttraining's rmse: 0.0750916\tvalid_1's rmse: 0.110488\n",
      "[60]\ttraining's rmse: 0.0679154\tvalid_1's rmse: 0.110826\n",
      "Early stopping, best iteration is:\n",
      "[53]\ttraining's rmse: 0.0727063\tvalid_1's rmse: 0.110268\n"
     ]
    },
    {
     "name": "stderr",
     "output_type": "stream",
     "text": [
      "bagging, val_score: 0.104881:  90%|###############################################7     | 9/10 [00:01<00:00,  7.09it/s][I 2020-10-23 12:51:13,460] Trial 35 finished with value: 0.11026806856308541 and parameters: {'bagging_fraction': 0.8816095926486891, 'bagging_freq': 6}. Best is trial 29 with value: 0.10611501579181377.\n",
      "bagging, val_score: 0.104881:  90%|###############################################7     | 9/10 [00:01<00:00,  7.09it/s]"
     ]
    },
    {
     "name": "stdout",
     "output_type": "stream",
     "text": [
      "Training until validation scores don't improve for 10 rounds\n",
      "[10]\ttraining's rmse: 0.208483\tvalid_1's rmse: 0.200042\n",
      "[20]\ttraining's rmse: 0.142826\tvalid_1's rmse: 0.143331\n",
      "[30]\ttraining's rmse: 0.11879\tvalid_1's rmse: 0.125149\n",
      "[40]\ttraining's rmse: 0.10715\tvalid_1's rmse: 0.116996\n",
      "[50]\ttraining's rmse: 0.100475\tvalid_1's rmse: 0.115377\n",
      "[60]\ttraining's rmse: 0.0943186\tvalid_1's rmse: 0.113097\n",
      "[70]\ttraining's rmse: 0.0894752\tvalid_1's rmse: 0.111549\n",
      "[80]\ttraining's rmse: 0.0856839\tvalid_1's rmse: 0.110441\n",
      "Early stopping, best iteration is:\n",
      "[78]\ttraining's rmse: 0.0863908\tvalid_1's rmse: 0.110211\n"
     ]
    },
    {
     "name": "stderr",
     "output_type": "stream",
     "text": [
      "bagging, val_score: 0.104881: 100%|####################################################| 10/10 [00:01<00:00,  6.97it/s][I 2020-10-23 12:51:13,609] Trial 36 finished with value: 0.11021113725726223 and parameters: {'bagging_fraction': 0.5252064274759118, 'bagging_freq': 2}. Best is trial 29 with value: 0.10611501579181377.\n",
      "bagging, val_score: 0.104881: 100%|####################################################| 10/10 [00:01<00:00,  6.54it/s]\n",
      "feature_fraction_stage2, val_score: 0.104881:   0%|                                              | 0/6 [00:00<?, ?it/s]"
     ]
    },
    {
     "name": "stdout",
     "output_type": "stream",
     "text": [
      "Training until validation scores don't improve for 10 rounds\n",
      "[10]\ttraining's rmse: 0.19317\tvalid_1's rmse: 0.189281\n",
      "[20]\ttraining's rmse: 0.122276\tvalid_1's rmse: 0.132553\n",
      "[30]\ttraining's rmse: 0.0952352\tvalid_1's rmse: 0.117694\n",
      "[40]\ttraining's rmse: 0.0813637\tvalid_1's rmse: 0.112106\n",
      "[50]\ttraining's rmse: 0.071458\tvalid_1's rmse: 0.109475\n",
      "[60]\ttraining's rmse: 0.0642084\tvalid_1's rmse: 0.109201\n",
      "Early stopping, best iteration is:\n",
      "[59]\ttraining's rmse: 0.0647938\tvalid_1's rmse: 0.109179\n"
     ]
    },
    {
     "name": "stderr",
     "output_type": "stream",
     "text": [
      "feature_fraction_stage2, val_score: 0.104881:  17%|######3                               | 1/6 [00:00<00:00,  7.87it/s][I 2020-10-23 12:51:13,743] Trial 37 finished with value: 0.10917850907884141 and parameters: {'feature_fraction': 0.45199999999999996}. Best is trial 37 with value: 0.10917850907884141.\n",
      "feature_fraction_stage2, val_score: 0.104881:  17%|######3                               | 1/6 [00:00<00:00,  7.87it/s]"
     ]
    },
    {
     "name": "stdout",
     "output_type": "stream",
     "text": [
      "Training until validation scores don't improve for 10 rounds\n",
      "[10]\ttraining's rmse: 0.19022\tvalid_1's rmse: 0.188794\n",
      "[20]\ttraining's rmse: 0.118776\tvalid_1's rmse: 0.132471\n",
      "[30]\ttraining's rmse: 0.092731\tvalid_1's rmse: 0.117905\n",
      "[40]\ttraining's rmse: 0.078658\tvalid_1's rmse: 0.113606\n",
      "[50]\ttraining's rmse: 0.0695158\tvalid_1's rmse: 0.113096\n",
      "[60]\ttraining's rmse: 0.0625032\tvalid_1's rmse: 0.111751\n",
      "[70]\ttraining's rmse: 0.0564465\tvalid_1's rmse: 0.111552\n",
      "[80]\ttraining's rmse: 0.0513298\tvalid_1's rmse: 0.11144\n",
      "[90]\ttraining's rmse: 0.0465752\tvalid_1's rmse: 0.111588\n",
      "Early stopping, best iteration is:\n",
      "[85]\ttraining's rmse: 0.0488494\tvalid_1's rmse: 0.111271\n"
     ]
    },
    {
     "name": "stderr",
     "output_type": "stream",
     "text": [
      "feature_fraction_stage2, val_score: 0.104881:  33%|############6                         | 2/6 [00:00<00:00,  7.06it/s][I 2020-10-23 12:51:13,918] Trial 38 finished with value: 0.11127060933281314 and parameters: {'feature_fraction': 0.5479999999999999}. Best is trial 37 with value: 0.10917850907884141.\n",
      "feature_fraction_stage2, val_score: 0.104881:  33%|############6                         | 2/6 [00:00<00:00,  7.06it/s]"
     ]
    },
    {
     "name": "stdout",
     "output_type": "stream",
     "text": [
      "Training until validation scores don't improve for 10 rounds\n",
      "[10]\ttraining's rmse: 0.18907\tvalid_1's rmse: 0.192531\n",
      "[20]\ttraining's rmse: 0.117367\tvalid_1's rmse: 0.135611\n",
      "[30]\ttraining's rmse: 0.0907045\tvalid_1's rmse: 0.120013\n",
      "[40]\ttraining's rmse: 0.0774442\tvalid_1's rmse: 0.114568\n",
      "[50]\ttraining's rmse: 0.0682492\tvalid_1's rmse: 0.112926\n",
      "[60]\ttraining's rmse: 0.0612185\tvalid_1's rmse: 0.111709\n",
      "[70]\ttraining's rmse: 0.0548653\tvalid_1's rmse: 0.11157\n",
      "Early stopping, best iteration is:\n",
      "[62]\ttraining's rmse: 0.059757\tvalid_1's rmse: 0.111446\n"
     ]
    },
    {
     "name": "stderr",
     "output_type": "stream",
     "text": [
      "feature_fraction_stage2, val_score: 0.104881:  50%|###################                   | 3/6 [00:00<00:00,  7.14it/s][I 2020-10-23 12:51:14,054] Trial 39 finished with value: 0.11144605937678523 and parameters: {'feature_fraction': 0.58}. Best is trial 37 with value: 0.10917850907884141.\n",
      "feature_fraction_stage2, val_score: 0.104881:  50%|###################                   | 3/6 [00:00<00:00,  7.14it/s]"
     ]
    },
    {
     "name": "stdout",
     "output_type": "stream",
     "text": [
      "Training until validation scores don't improve for 10 rounds\n",
      "[10]\ttraining's rmse: 0.195054\tvalid_1's rmse: 0.195027\n",
      "[20]\ttraining's rmse: 0.123117\tvalid_1's rmse: 0.135451\n",
      "[30]\ttraining's rmse: 0.0962295\tvalid_1's rmse: 0.119471\n",
      "[40]\ttraining's rmse: 0.0822684\tvalid_1's rmse: 0.114136\n",
      "[50]\ttraining's rmse: 0.0723341\tvalid_1's rmse: 0.11164\n",
      "[60]\ttraining's rmse: 0.0651222\tvalid_1's rmse: 0.110894\n",
      "[70]\ttraining's rmse: 0.0590371\tvalid_1's rmse: 0.110454\n",
      "[80]\ttraining's rmse: 0.0538023\tvalid_1's rmse: 0.109966\n",
      "[90]\ttraining's rmse: 0.0490847\tvalid_1's rmse: 0.109453\n",
      "[100]\ttraining's rmse: 0.0451086\tvalid_1's rmse: 0.10983\n",
      "Early stopping, best iteration is:\n",
      "[90]\ttraining's rmse: 0.0490847\tvalid_1's rmse: 0.109453\n"
     ]
    },
    {
     "name": "stderr",
     "output_type": "stream",
     "text": [
      "feature_fraction_stage2, val_score: 0.104881:  67%|#########################3            | 4/6 [00:00<00:00,  6.41it/s][I 2020-10-23 12:51:14,248] Trial 40 finished with value: 0.10945316864034774 and parameters: {'feature_fraction': 0.42}. Best is trial 37 with value: 0.10917850907884141.\n",
      "feature_fraction_stage2, val_score: 0.104881:  67%|#########################3            | 4/6 [00:00<00:00,  6.41it/s]"
     ]
    },
    {
     "name": "stdout",
     "output_type": "stream",
     "text": [
      "Training until validation scores don't improve for 10 rounds\n",
      "[10]\ttraining's rmse: 0.192967\tvalid_1's rmse: 0.191185\n",
      "[20]\ttraining's rmse: 0.121763\tvalid_1's rmse: 0.133071\n",
      "[30]\ttraining's rmse: 0.0948357\tvalid_1's rmse: 0.116927\n",
      "[40]\ttraining's rmse: 0.0814263\tvalid_1's rmse: 0.11161\n",
      "[50]\ttraining's rmse: 0.071885\tvalid_1's rmse: 0.109251\n",
      "[60]\ttraining's rmse: 0.0646586\tvalid_1's rmse: 0.10818\n",
      "[70]\ttraining's rmse: 0.0585981\tvalid_1's rmse: 0.107606\n",
      "[80]\ttraining's rmse: 0.0537368\tvalid_1's rmse: 0.107565\n",
      "Early stopping, best iteration is:\n",
      "[72]\ttraining's rmse: 0.0576333\tvalid_1's rmse: 0.107228\n"
     ]
    },
    {
     "name": "stderr",
     "output_type": "stream",
     "text": [
      "feature_fraction_stage2, val_score: 0.104881:  83%|###############################6      | 5/6 [00:00<00:00,  6.28it/s][I 2020-10-23 12:51:14,415] Trial 41 finished with value: 0.10722804340083866 and parameters: {'feature_fraction': 0.484}. Best is trial 41 with value: 0.10722804340083866.\n",
      "feature_fraction_stage2, val_score: 0.104881:  83%|###############################6      | 5/6 [00:00<00:00,  6.28it/s]"
     ]
    },
    {
     "name": "stdout",
     "output_type": "stream",
     "text": [
      "Training until validation scores don't improve for 10 rounds\n",
      "[10]\ttraining's rmse: 0.190489\tvalid_1's rmse: 0.187964\n",
      "[20]\ttraining's rmse: 0.119413\tvalid_1's rmse: 0.132663\n",
      "[30]\ttraining's rmse: 0.092545\tvalid_1's rmse: 0.117109\n",
      "[40]\ttraining's rmse: 0.0793755\tvalid_1's rmse: 0.113177\n",
      "[50]\ttraining's rmse: 0.0699281\tvalid_1's rmse: 0.111223\n",
      "[60]\ttraining's rmse: 0.0630895\tvalid_1's rmse: 0.110675\n",
      "[70]\ttraining's rmse: 0.0570094\tvalid_1's rmse: 0.110091\n",
      "[80]\ttraining's rmse: 0.0519355\tvalid_1's rmse: 0.110229\n",
      "Early stopping, best iteration is:\n",
      "[78]\ttraining's rmse: 0.0527955\tvalid_1's rmse: 0.109933\n"
     ]
    },
    {
     "name": "stderr",
     "output_type": "stream",
     "text": [
      "feature_fraction_stage2, val_score: 0.104881: 100%|######################################| 6/6 [00:00<00:00,  6.18it/s][I 2020-10-23 12:51:14,583] Trial 42 finished with value: 0.10993281751479513 and parameters: {'feature_fraction': 0.516}. Best is trial 41 with value: 0.10722804340083866.\n",
      "feature_fraction_stage2, val_score: 0.104881: 100%|######################################| 6/6 [00:00<00:00,  6.18it/s]\n",
      "regularization_factors, val_score: 0.104881:   0%|                                              | 0/20 [00:00<?, ?it/s]"
     ]
    },
    {
     "name": "stdout",
     "output_type": "stream",
     "text": [
      "Training until validation scores don't improve for 10 rounds\n",
      "[10]\ttraining's rmse: 0.190479\tvalid_1's rmse: 0.188718\n",
      "[20]\ttraining's rmse: 0.119011\tvalid_1's rmse: 0.131421\n",
      "[30]\ttraining's rmse: 0.0924224\tvalid_1's rmse: 0.115727\n",
      "[40]\ttraining's rmse: 0.0787197\tvalid_1's rmse: 0.1093\n",
      "[50]\ttraining's rmse: 0.069366\tvalid_1's rmse: 0.106679\n",
      "[60]\ttraining's rmse: 0.0623733\tvalid_1's rmse: 0.105976\n",
      "Early stopping, best iteration is:\n",
      "[58]\ttraining's rmse: 0.0636735\tvalid_1's rmse: 0.105717\n"
     ]
    },
    {
     "name": "stderr",
     "output_type": "stream",
     "text": [
      "regularization_factors, val_score: 0.104881:   5%|#9                                    | 1/20 [00:00<00:02,  6.37it/s][I 2020-10-23 12:51:14,748] Trial 43 finished with value: 0.10571711762073008 and parameters: {'lambda_l1': 6.51837210192896e-05, 'lambda_l2': 4.761042400866452e-08}. Best is trial 43 with value: 0.10571711762073008.\n",
      "regularization_factors, val_score: 0.104881:   5%|#9                                    | 1/20 [00:00<00:02,  6.37it/s]"
     ]
    },
    {
     "name": "stdout",
     "output_type": "stream",
     "text": [
      "Training until validation scores don't improve for 10 rounds\n",
      "[10]\ttraining's rmse: 0.248162\tvalid_1's rmse: 0.240184\n",
      "[20]\ttraining's rmse: 0.189924\tvalid_1's rmse: 0.188969\n",
      "[30]\ttraining's rmse: 0.166507\tvalid_1's rmse: 0.167425\n",
      "[40]\ttraining's rmse: 0.154818\tvalid_1's rmse: 0.156324\n",
      "[50]\ttraining's rmse: 0.14806\tvalid_1's rmse: 0.149753\n",
      "[60]\ttraining's rmse: 0.143702\tvalid_1's rmse: 0.144833\n",
      "[70]\ttraining's rmse: 0.141131\tvalid_1's rmse: 0.142077\n",
      "[80]\ttraining's rmse: 0.139142\tvalid_1's rmse: 0.139834\n",
      "[90]\ttraining's rmse: 0.138347\tvalid_1's rmse: 0.139166\n",
      "[100]\ttraining's rmse: 0.138339\tvalid_1's rmse: 0.13916\n",
      "[110]\ttraining's rmse: 0.138338\tvalid_1's rmse: 0.139158\n",
      "[120]\ttraining's rmse: 0.138337\tvalid_1's rmse: 0.139158\n",
      "[130]\ttraining's rmse: 0.138336\tvalid_1's rmse: 0.139157\n",
      "[140]\ttraining's rmse: 0.138336\tvalid_1's rmse: 0.139157\n",
      "[150]\ttraining's rmse: 0.138336\tvalid_1's rmse: 0.139156\n",
      "[160]\ttraining's rmse: 0.138336\tvalid_1's rmse: 0.139156\n",
      "[170]\ttraining's rmse: 0.138336\tvalid_1's rmse: 0.139156\n",
      "[180]\ttraining's rmse: 0.138336\tvalid_1's rmse: 0.139156\n",
      "[190]\ttraining's rmse: 0.138336\tvalid_1's rmse: 0.139156\n",
      "[200]\ttraining's rmse: 0.138336\tvalid_1's rmse: 0.139156\n",
      "[210]\ttraining's rmse: 0.138336\tvalid_1's rmse: 0.139156\n",
      "[220]\ttraining's rmse: 0.138336\tvalid_1's rmse: 0.139156\n",
      "[230]\ttraining's rmse: 0.138336\tvalid_1's rmse: 0.139156\n",
      "[240]\ttraining's rmse: 0.138336\tvalid_1's rmse: 0.139156\n",
      "[250]\ttraining's rmse: 0.138336\tvalid_1's rmse: 0.139156\n",
      "[260]\ttraining's rmse: 0.138336\tvalid_1's rmse: 0.139156\n",
      "[270]\ttraining's rmse: 0.138336\tvalid_1's rmse: 0.139156\n",
      "[280]\ttraining's rmse: 0.138336\tvalid_1's rmse: 0.139156\n",
      "[290]\ttraining's rmse: 0.138336\tvalid_1's rmse: 0.139156\n",
      "[300]\ttraining's rmse: 0.138336\tvalid_1's rmse: 0.139156\n",
      "[310]\ttraining's rmse: 0.138336\tvalid_1's rmse: 0.139156\n",
      "[320]\ttraining's rmse: 0.138336\tvalid_1's rmse: 0.139156\n",
      "[330]\ttraining's rmse: 0.138336\tvalid_1's rmse: 0.139156\n",
      "[340]\ttraining's rmse: 0.138336\tvalid_1's rmse: 0.139156\n",
      "[350]\ttraining's rmse: 0.138336\tvalid_1's rmse: 0.139156\n",
      "[360]\ttraining's rmse: 0.138336\tvalid_1's rmse: 0.139156\n",
      "[370]\ttraining's rmse: 0.138336\tvalid_1's rmse: 0.139156\n",
      "[380]\ttraining's rmse: 0.138336\tvalid_1's rmse: 0.139156\n",
      "[390]\ttraining's rmse: 0.138336\tvalid_1's rmse: 0.139156\n",
      "[400]\ttraining's rmse: 0.138336\tvalid_1's rmse: 0.139156\n",
      "[410]\ttraining's rmse: 0.138336\tvalid_1's rmse: 0.139156\n",
      "[420]\ttraining's rmse: 0.138336\tvalid_1's rmse: 0.139156\n",
      "[430]\ttraining's rmse: 0.138336\tvalid_1's rmse: 0.139156\n",
      "Early stopping, best iteration is:\n",
      "[424]\ttraining's rmse: 0.138336\tvalid_1's rmse: 0.139156\n"
     ]
    },
    {
     "name": "stderr",
     "output_type": "stream",
     "text": [
      "regularization_factors, val_score: 0.104881:  10%|###8                                  | 2/20 [00:00<00:03,  5.32it/s][I 2020-10-23 12:51:15,007] Trial 44 finished with value: 0.1391560569239388 and parameters: {'lambda_l1': 7.834155662717443, 'lambda_l2': 0.5707840379945748}. Best is trial 43 with value: 0.10571711762073008.\n",
      "regularization_factors, val_score: 0.104881:  10%|###8                                  | 2/20 [00:00<00:03,  5.32it/s]"
     ]
    },
    {
     "name": "stdout",
     "output_type": "stream",
     "text": [
      "Training until validation scores don't improve for 10 rounds\n",
      "[10]\ttraining's rmse: 0.190478\tvalid_1's rmse: 0.188717\n",
      "[20]\ttraining's rmse: 0.11901\tvalid_1's rmse: 0.131421\n",
      "[30]\ttraining's rmse: 0.0924214\tvalid_1's rmse: 0.115727\n",
      "[40]\ttraining's rmse: 0.0787186\tvalid_1's rmse: 0.1093\n",
      "[50]\ttraining's rmse: 0.0695063\tvalid_1's rmse: 0.106939\n",
      "[60]\ttraining's rmse: 0.0626515\tvalid_1's rmse: 0.105518\n",
      "[70]\ttraining's rmse: 0.0567034\tvalid_1's rmse: 0.105232\n",
      "Early stopping, best iteration is:\n",
      "[64]\ttraining's rmse: 0.0603165\tvalid_1's rmse: 0.104881\n"
     ]
    },
    {
     "name": "stderr",
     "output_type": "stream",
     "text": [
      "regularization_factors, val_score: 0.104881:  15%|#####7                                | 3/20 [00:00<00:03,  5.53it/s][I 2020-10-23 12:51:15,171] Trial 45 finished with value: 0.1048807652182184 and parameters: {'lambda_l1': 2.719787487167322e-08, 'lambda_l2': 9.520391569040892e-08}. Best is trial 45 with value: 0.1048807652182184.\n",
      "regularization_factors, val_score: 0.104881:  15%|#####7                                | 3/20 [00:00<00:03,  5.53it/s]"
     ]
    },
    {
     "name": "stdout",
     "output_type": "stream",
     "text": [
      "Training until validation scores don't improve for 10 rounds\n",
      "[10]\ttraining's rmse: 0.190478\tvalid_1's rmse: 0.188717\n",
      "[20]\ttraining's rmse: 0.11901\tvalid_1's rmse: 0.131421\n",
      "[30]\ttraining's rmse: 0.0924214\tvalid_1's rmse: 0.115727\n",
      "[40]\ttraining's rmse: 0.0787186\tvalid_1's rmse: 0.1093\n",
      "[50]\ttraining's rmse: 0.0695063\tvalid_1's rmse: 0.106939\n",
      "[60]\ttraining's rmse: 0.0626515\tvalid_1's rmse: 0.105518\n",
      "[70]\ttraining's rmse: 0.0567034\tvalid_1's rmse: 0.105232\n",
      "Early stopping, best iteration is:\n",
      "[64]\ttraining's rmse: 0.0603165\tvalid_1's rmse: 0.104881\n"
     ]
    },
    {
     "name": "stderr",
     "output_type": "stream",
     "text": [
      "regularization_factors, val_score: 0.104881:  20%|#######6                              | 4/20 [00:00<00:02,  5.60it/s][I 2020-10-23 12:51:15,346] Trial 46 finished with value: 0.10488076521918428 and parameters: {'lambda_l1': 1.795343210544608e-08, 'lambda_l2': 1.5024997174062153e-08}. Best is trial 45 with value: 0.1048807652182184.\n",
      "regularization_factors, val_score: 0.104881:  20%|#######6                              | 4/20 [00:00<00:02,  5.60it/s]"
     ]
    },
    {
     "name": "stdout",
     "output_type": "stream",
     "text": [
      "Training until validation scores don't improve for 10 rounds\n",
      "[10]\ttraining's rmse: 0.190478\tvalid_1's rmse: 0.188717\n",
      "[20]\ttraining's rmse: 0.11901\tvalid_1's rmse: 0.131421\n",
      "[30]\ttraining's rmse: 0.0924214\tvalid_1's rmse: 0.115727\n",
      "[40]\ttraining's rmse: 0.0787186\tvalid_1's rmse: 0.1093\n",
      "[50]\ttraining's rmse: 0.0695063\tvalid_1's rmse: 0.106939\n",
      "[60]\ttraining's rmse: 0.0626515\tvalid_1's rmse: 0.105518\n",
      "[70]\ttraining's rmse: 0.0567034\tvalid_1's rmse: 0.105232\n",
      "Early stopping, best iteration is:\n",
      "[64]\ttraining's rmse: 0.0603165\tvalid_1's rmse: 0.104881\n"
     ]
    },
    {
     "name": "stderr",
     "output_type": "stream",
     "text": [
      "regularization_factors, val_score: 0.104881:  25%|#########5                            | 5/20 [00:00<00:02,  5.84it/s][I 2020-10-23 12:51:15,500] Trial 47 finished with value: 0.1048807652394435 and parameters: {'lambda_l1': 1.5793397620703433e-08, 'lambda_l2': 1.1298252427284697e-08}. Best is trial 45 with value: 0.1048807652182184.\n",
      "regularization_factors, val_score: 0.104881:  25%|#########5                            | 5/20 [00:00<00:02,  5.84it/s]"
     ]
    },
    {
     "name": "stdout",
     "output_type": "stream",
     "text": [
      "Training until validation scores don't improve for 10 rounds\n",
      "[10]\ttraining's rmse: 0.190478\tvalid_1's rmse: 0.188717\n",
      "[20]\ttraining's rmse: 0.11901\tvalid_1's rmse: 0.131421\n",
      "[30]\ttraining's rmse: 0.0924214\tvalid_1's rmse: 0.115727\n",
      "[40]\ttraining's rmse: 0.0787186\tvalid_1's rmse: 0.1093\n",
      "[50]\ttraining's rmse: 0.0695063\tvalid_1's rmse: 0.106939\n",
      "[60]\ttraining's rmse: 0.0626515\tvalid_1's rmse: 0.105518\n",
      "[70]\ttraining's rmse: 0.0567034\tvalid_1's rmse: 0.105232\n",
      "Early stopping, best iteration is:\n",
      "[64]\ttraining's rmse: 0.0603165\tvalid_1's rmse: 0.104881\n"
     ]
    },
    {
     "name": "stderr",
     "output_type": "stream",
     "text": [
      "regularization_factors, val_score: 0.104881:  30%|###########4                          | 6/20 [00:01<00:02,  6.05it/s][I 2020-10-23 12:51:15,650] Trial 48 finished with value: 0.10488076529611606 and parameters: {'lambda_l1': 2.0741350185756254e-08, 'lambda_l2': 2.6130416560289996e-06}. Best is trial 45 with value: 0.1048807652182184.\n",
      "regularization_factors, val_score: 0.104881:  30%|###########4                          | 6/20 [00:01<00:02,  6.05it/s]"
     ]
    },
    {
     "name": "stdout",
     "output_type": "stream",
     "text": [
      "Training until validation scores don't improve for 10 rounds\n",
      "[10]\ttraining's rmse: 0.190478\tvalid_1's rmse: 0.188718\n",
      "[20]\ttraining's rmse: 0.11901\tvalid_1's rmse: 0.131421\n",
      "[30]\ttraining's rmse: 0.0924216\tvalid_1's rmse: 0.115727\n",
      "[40]\ttraining's rmse: 0.0787188\tvalid_1's rmse: 0.1093\n",
      "[50]\ttraining's rmse: 0.0695065\tvalid_1's rmse: 0.106939\n",
      "[60]\ttraining's rmse: 0.0626517\tvalid_1's rmse: 0.105518\n",
      "[70]\ttraining's rmse: 0.0567037\tvalid_1's rmse: 0.105232\n",
      "Early stopping, best iteration is:\n",
      "[64]\ttraining's rmse: 0.0603167\tvalid_1's rmse: 0.104881\n"
     ]
    },
    {
     "name": "stderr",
     "output_type": "stream",
     "text": [
      "regularization_factors, val_score: 0.104881:  35%|#############3                        | 7/20 [00:01<00:02,  6.14it/s][I 2020-10-23 12:51:15,808] Trial 49 finished with value: 0.10488076525880997 and parameters: {'lambda_l1': 4.306814606494174e-06, 'lambda_l2': 8.552352215208257e-05}. Best is trial 45 with value: 0.1048807652182184.\n",
      "regularization_factors, val_score: 0.104881:  35%|#############3                        | 7/20 [00:01<00:02,  6.14it/s]"
     ]
    },
    {
     "name": "stdout",
     "output_type": "stream",
     "text": [
      "Training until validation scores don't improve for 10 rounds\n",
      "[10]\ttraining's rmse: 0.190478\tvalid_1's rmse: 0.188717\n",
      "[20]\ttraining's rmse: 0.11901\tvalid_1's rmse: 0.131421\n",
      "[30]\ttraining's rmse: 0.0924214\tvalid_1's rmse: 0.115727\n",
      "[40]\ttraining's rmse: 0.0787186\tvalid_1's rmse: 0.1093\n",
      "[50]\ttraining's rmse: 0.0695063\tvalid_1's rmse: 0.106939\n",
      "[60]\ttraining's rmse: 0.0626515\tvalid_1's rmse: 0.105518\n",
      "[70]\ttraining's rmse: 0.0567034\tvalid_1's rmse: 0.105232\n",
      "Early stopping, best iteration is:\n",
      "[64]\ttraining's rmse: 0.0603165\tvalid_1's rmse: 0.104881\n"
     ]
    },
    {
     "name": "stderr",
     "output_type": "stream",
     "text": [
      "regularization_factors, val_score: 0.104881:  40%|###############2                      | 8/20 [00:01<00:02,  5.32it/s][I 2020-10-23 12:51:16,054] Trial 50 finished with value: 0.10488076524200364 and parameters: {'lambda_l1': 1.594470830138734e-08, 'lambda_l2': 1.3044001112788157e-08}. Best is trial 45 with value: 0.1048807652182184.\n",
      "regularization_factors, val_score: 0.104881:  40%|###############2                      | 8/20 [00:01<00:02,  5.32it/s]"
     ]
    },
    {
     "name": "stdout",
     "output_type": "stream",
     "text": [
      "Training until validation scores don't improve for 10 rounds\n",
      "[10]\ttraining's rmse: 0.192572\tvalid_1's rmse: 0.190013\n",
      "[20]\ttraining's rmse: 0.121583\tvalid_1's rmse: 0.13483\n",
      "[30]\ttraining's rmse: 0.0951954\tvalid_1's rmse: 0.119418\n",
      "[40]\ttraining's rmse: 0.0816817\tvalid_1's rmse: 0.112926\n",
      "[50]\ttraining's rmse: 0.0724914\tvalid_1's rmse: 0.110615\n",
      "[60]\ttraining's rmse: 0.0651418\tvalid_1's rmse: 0.109894\n",
      "[70]\ttraining's rmse: 0.0597592\tvalid_1's rmse: 0.109277\n",
      "[80]\ttraining's rmse: 0.0546674\tvalid_1's rmse: 0.109484\n",
      "Early stopping, best iteration is:\n",
      "[73]\ttraining's rmse: 0.0581881\tvalid_1's rmse: 0.108856\n"
     ]
    },
    {
     "name": "stderr",
     "output_type": "stream",
     "text": [
      "regularization_factors, val_score: 0.104881:  45%|#################1                    | 9/20 [00:01<00:02,  5.13it/s][I 2020-10-23 12:51:16,266] Trial 51 finished with value: 0.10885604148352182 and parameters: {'lambda_l1': 0.11803802583994888, 'lambda_l2': 1.1730720293765143e-06}. Best is trial 45 with value: 0.1048807652182184.\n",
      "regularization_factors, val_score: 0.104881:  45%|#################1                    | 9/20 [00:01<00:02,  5.13it/s]"
     ]
    },
    {
     "name": "stdout",
     "output_type": "stream",
     "text": [
      "Training until validation scores don't improve for 10 rounds\n",
      "[10]\ttraining's rmse: 0.190734\tvalid_1's rmse: 0.18832\n",
      "[20]\ttraining's rmse: 0.119435\tvalid_1's rmse: 0.131358\n",
      "[30]\ttraining's rmse: 0.0926512\tvalid_1's rmse: 0.116217\n",
      "[40]\ttraining's rmse: 0.0790286\tvalid_1's rmse: 0.111099\n",
      "[50]\ttraining's rmse: 0.0697399\tvalid_1's rmse: 0.109371\n",
      "[60]\ttraining's rmse: 0.0629944\tvalid_1's rmse: 0.108487\n",
      "Early stopping, best iteration is:\n",
      "[59]\ttraining's rmse: 0.0635239\tvalid_1's rmse: 0.108388\n"
     ]
    },
    {
     "name": "stderr",
     "output_type": "stream",
     "text": [
      "regularization_factors, val_score: 0.104881:  50%|##################5                  | 10/20 [00:01<00:01,  5.60it/s][I 2020-10-23 12:51:16,406] Trial 52 finished with value: 0.10838763883128945 and parameters: {'lambda_l1': 1.1981991055116524e-06, 'lambda_l2': 0.030324521900672325}. Best is trial 45 with value: 0.1048807652182184.\n",
      "regularization_factors, val_score: 0.104881:  50%|##################5                  | 10/20 [00:01<00:01,  5.60it/s]"
     ]
    },
    {
     "name": "stdout",
     "output_type": "stream",
     "text": [
      "Training until validation scores don't improve for 10 rounds\n",
      "[10]\ttraining's rmse: 0.190478\tvalid_1's rmse: 0.188717\n",
      "[20]\ttraining's rmse: 0.11901\tvalid_1's rmse: 0.131421\n",
      "[30]\ttraining's rmse: 0.0924214\tvalid_1's rmse: 0.115727\n",
      "[40]\ttraining's rmse: 0.0787186\tvalid_1's rmse: 0.1093\n",
      "[50]\ttraining's rmse: 0.0695063\tvalid_1's rmse: 0.106939\n",
      "[60]\ttraining's rmse: 0.0626515\tvalid_1's rmse: 0.105518\n",
      "[70]\ttraining's rmse: 0.0567034\tvalid_1's rmse: 0.105232\n",
      "Early stopping, best iteration is:\n",
      "[64]\ttraining's rmse: 0.0603165\tvalid_1's rmse: 0.104881\n"
     ]
    },
    {
     "name": "stderr",
     "output_type": "stream",
     "text": [
      "regularization_factors, val_score: 0.104881:  55%|####################3                | 11/20 [00:01<00:01,  5.92it/s][I 2020-10-23 12:51:16,553] Trial 53 finished with value: 0.10488076515484185 and parameters: {'lambda_l1': 4.236171852403082e-07, 'lambda_l2': 9.642527931520828e-07}. Best is trial 53 with value: 0.10488076515484185.\n",
      "regularization_factors, val_score: 0.104881:  55%|####################3                | 11/20 [00:01<00:01,  5.92it/s]"
     ]
    },
    {
     "name": "stdout",
     "output_type": "stream",
     "text": [
      "Training until validation scores don't improve for 10 rounds\n",
      "[10]\ttraining's rmse: 0.190478\tvalid_1's rmse: 0.188717\n",
      "[20]\ttraining's rmse: 0.11901\tvalid_1's rmse: 0.131421\n",
      "[30]\ttraining's rmse: 0.0924214\tvalid_1's rmse: 0.115727\n",
      "[40]\ttraining's rmse: 0.0787186\tvalid_1's rmse: 0.1093\n",
      "[50]\ttraining's rmse: 0.0695063\tvalid_1's rmse: 0.106939\n",
      "[60]\ttraining's rmse: 0.0626515\tvalid_1's rmse: 0.105518\n",
      "[70]\ttraining's rmse: 0.0567034\tvalid_1's rmse: 0.105232\n",
      "Early stopping, best iteration is:\n",
      "[64]\ttraining's rmse: 0.0603165\tvalid_1's rmse: 0.104881\n"
     ]
    },
    {
     "name": "stderr",
     "output_type": "stream",
     "text": [
      "regularization_factors, val_score: 0.104881:  60%|######################2              | 12/20 [00:02<00:01,  6.07it/s][I 2020-10-23 12:51:16,708] Trial 54 finished with value: 0.10488076516242255 and parameters: {'lambda_l1': 3.9937939866360786e-07, 'lambda_l2': 3.8629078231987e-07}. Best is trial 53 with value: 0.10488076515484185.\n",
      "regularization_factors, val_score: 0.104881:  60%|######################2              | 12/20 [00:02<00:01,  6.07it/s]"
     ]
    },
    {
     "name": "stdout",
     "output_type": "stream",
     "text": [
      "Training until validation scores don't improve for 10 rounds\n",
      "[10]\ttraining's rmse: 0.190478\tvalid_1's rmse: 0.188717\n",
      "[20]\ttraining's rmse: 0.11901\tvalid_1's rmse: 0.131421\n",
      "[30]\ttraining's rmse: 0.0924214\tvalid_1's rmse: 0.115727\n",
      "[40]\ttraining's rmse: 0.0787186\tvalid_1's rmse: 0.1093\n",
      "[50]\ttraining's rmse: 0.0695063\tvalid_1's rmse: 0.106939\n",
      "[60]\ttraining's rmse: 0.0626515\tvalid_1's rmse: 0.105518\n",
      "[70]\ttraining's rmse: 0.0567034\tvalid_1's rmse: 0.105232\n",
      "Early stopping, best iteration is:\n",
      "[64]\ttraining's rmse: 0.0603165\tvalid_1's rmse: 0.104881\n"
     ]
    },
    {
     "name": "stderr",
     "output_type": "stream",
     "text": [
      "regularization_factors, val_score: 0.104881:  65%|########################             | 13/20 [00:02<00:01,  6.26it/s][I 2020-10-23 12:51:16,855] Trial 55 finished with value: 0.10488076516563916 and parameters: {'lambda_l1': 3.4378386702060193e-07, 'lambda_l2': 4.343354779693821e-07}. Best is trial 53 with value: 0.10488076515484185.\n",
      "regularization_factors, val_score: 0.104881:  65%|########################             | 13/20 [00:02<00:01,  6.26it/s]"
     ]
    },
    {
     "name": "stdout",
     "output_type": "stream",
     "text": [
      "Training until validation scores don't improve for 10 rounds\n",
      "[10]\ttraining's rmse: 0.190478\tvalid_1's rmse: 0.188717\n",
      "[20]\ttraining's rmse: 0.11901\tvalid_1's rmse: 0.131421\n",
      "[30]\ttraining's rmse: 0.0924214\tvalid_1's rmse: 0.115727\n",
      "[40]\ttraining's rmse: 0.0787186\tvalid_1's rmse: 0.1093\n",
      "[50]\ttraining's rmse: 0.0695063\tvalid_1's rmse: 0.106939\n",
      "[60]\ttraining's rmse: 0.0626515\tvalid_1's rmse: 0.105518\n",
      "[70]\ttraining's rmse: 0.0567035\tvalid_1's rmse: 0.105232\n",
      "Early stopping, best iteration is:\n",
      "[64]\ttraining's rmse: 0.0603165\tvalid_1's rmse: 0.104881\n"
     ]
    },
    {
     "name": "stderr",
     "output_type": "stream",
     "text": [
      "regularization_factors, val_score: 0.104881:  70%|#########################9           | 14/20 [00:02<00:00,  6.27it/s][I 2020-10-23 12:51:17,014] Trial 56 finished with value: 0.10488076509295781 and parameters: {'lambda_l1': 5.206427890906149e-07, 'lambda_l2': 3.0197961342360566e-07}. Best is trial 56 with value: 0.10488076509295781.\n",
      "regularization_factors, val_score: 0.104881:  70%|#########################9           | 14/20 [00:02<00:00,  6.27it/s]"
     ]
    },
    {
     "name": "stdout",
     "output_type": "stream",
     "text": [
      "Training until validation scores don't improve for 10 rounds\n",
      "[10]\ttraining's rmse: 0.190478\tvalid_1's rmse: 0.188717\n",
      "[20]\ttraining's rmse: 0.11901\tvalid_1's rmse: 0.131421\n",
      "[30]\ttraining's rmse: 0.0924214\tvalid_1's rmse: 0.115727\n",
      "[40]\ttraining's rmse: 0.0787186\tvalid_1's rmse: 0.1093\n",
      "[50]\ttraining's rmse: 0.0695063\tvalid_1's rmse: 0.106939\n",
      "[60]\ttraining's rmse: 0.0626515\tvalid_1's rmse: 0.105518\n",
      "[70]\ttraining's rmse: 0.0567034\tvalid_1's rmse: 0.105232\n",
      "Early stopping, best iteration is:\n",
      "[64]\ttraining's rmse: 0.0603165\tvalid_1's rmse: 0.104881\n"
     ]
    },
    {
     "name": "stderr",
     "output_type": "stream",
     "text": [
      "regularization_factors, val_score: 0.104881:  75%|###########################7         | 15/20 [00:02<00:00,  6.01it/s][I 2020-10-23 12:51:17,198] Trial 57 finished with value: 0.10488076515409418 and parameters: {'lambda_l1': 3.068044751651371e-07, 'lambda_l2': 4.875281067434624e-07}. Best is trial 56 with value: 0.10488076509295781.\n",
      "regularization_factors, val_score: 0.104881:  75%|###########################7         | 15/20 [00:02<00:00,  6.01it/s]"
     ]
    },
    {
     "name": "stdout",
     "output_type": "stream",
     "text": [
      "Training until validation scores don't improve for 10 rounds\n",
      "[10]\ttraining's rmse: 0.190478\tvalid_1's rmse: 0.188717\n",
      "[20]\ttraining's rmse: 0.11901\tvalid_1's rmse: 0.131421\n",
      "[30]\ttraining's rmse: 0.0924214\tvalid_1's rmse: 0.115727\n",
      "[40]\ttraining's rmse: 0.0787186\tvalid_1's rmse: 0.1093\n",
      "[50]\ttraining's rmse: 0.0695064\tvalid_1's rmse: 0.106939\n",
      "[60]\ttraining's rmse: 0.0626516\tvalid_1's rmse: 0.105518\n",
      "[70]\ttraining's rmse: 0.0567035\tvalid_1's rmse: 0.105232\n",
      "Early stopping, best iteration is:\n",
      "[64]\ttraining's rmse: 0.0603165\tvalid_1's rmse: 0.104881\n"
     ]
    },
    {
     "name": "stderr",
     "output_type": "stream",
     "text": [
      "regularization_factors, val_score: 0.104881:  80%|#############################6       | 16/20 [00:02<00:00,  6.02it/s][I 2020-10-23 12:51:17,363] Trial 58 finished with value: 0.10488076498036018 and parameters: {'lambda_l1': 1.0477406717975643e-06, 'lambda_l2': 6.774694754900845e-07}. Best is trial 58 with value: 0.10488076498036018.\n",
      "regularization_factors, val_score: 0.104881:  80%|#############################6       | 16/20 [00:02<00:00,  6.02it/s]"
     ]
    },
    {
     "name": "stdout",
     "output_type": "stream",
     "text": [
      "Training until validation scores don't improve for 10 rounds\n",
      "[10]\ttraining's rmse: 0.190478\tvalid_1's rmse: 0.188717\n",
      "[20]\ttraining's rmse: 0.11901\tvalid_1's rmse: 0.131421\n",
      "[30]\ttraining's rmse: 0.0924214\tvalid_1's rmse: 0.115727\n",
      "[40]\ttraining's rmse: 0.0787186\tvalid_1's rmse: 0.1093\n",
      "[50]\ttraining's rmse: 0.0695064\tvalid_1's rmse: 0.106939\n",
      "[60]\ttraining's rmse: 0.0626515\tvalid_1's rmse: 0.105518\n",
      "[70]\ttraining's rmse: 0.0567035\tvalid_1's rmse: 0.105232\n",
      "Early stopping, best iteration is:\n",
      "[64]\ttraining's rmse: 0.0603165\tvalid_1's rmse: 0.104881\n"
     ]
    },
    {
     "name": "stderr",
     "output_type": "stream",
     "text": [
      "regularization_factors, val_score: 0.104881:  85%|###############################4     | 17/20 [00:02<00:00,  6.23it/s][I 2020-10-23 12:51:17,511] Trial 59 finished with value: 0.10488076511277697 and parameters: {'lambda_l1': 7.519723777301044e-07, 'lambda_l2': 1.7480034370886375e-06}. Best is trial 58 with value: 0.10488076498036018.\n",
      "regularization_factors, val_score: 0.104881:  85%|###############################4     | 17/20 [00:02<00:00,  6.23it/s]"
     ]
    },
    {
     "name": "stdout",
     "output_type": "stream",
     "text": [
      "Training until validation scores don't improve for 10 rounds\n",
      "[10]\ttraining's rmse: 0.190478\tvalid_1's rmse: 0.188717\n",
      "[20]\ttraining's rmse: 0.11901\tvalid_1's rmse: 0.131421\n",
      "[30]\ttraining's rmse: 0.0924214\tvalid_1's rmse: 0.115727\n",
      "[40]\ttraining's rmse: 0.0787187\tvalid_1's rmse: 0.1093\n",
      "[50]\ttraining's rmse: 0.0695064\tvalid_1's rmse: 0.106939\n",
      "[60]\ttraining's rmse: 0.0626516\tvalid_1's rmse: 0.105518\n",
      "[70]\ttraining's rmse: 0.0567035\tvalid_1's rmse: 0.105232\n",
      "Early stopping, best iteration is:\n",
      "[64]\ttraining's rmse: 0.0603166\tvalid_1's rmse: 0.104881\n"
     ]
    },
    {
     "name": "stderr",
     "output_type": "stream",
     "text": [
      "regularization_factors, val_score: 0.104881:  90%|#################################3   | 18/20 [00:03<00:00,  6.34it/s][I 2020-10-23 12:51:17,662] Trial 60 finished with value: 0.10488076518354962 and parameters: {'lambda_l1': 9.82218950068275e-07, 'lambda_l2': 1.5234064099083893e-05}. Best is trial 58 with value: 0.10488076498036018.\n",
      "regularization_factors, val_score: 0.104881:  90%|#################################3   | 18/20 [00:03<00:00,  6.34it/s]"
     ]
    },
    {
     "name": "stdout",
     "output_type": "stream",
     "text": [
      "Training until validation scores don't improve for 10 rounds\n",
      "[10]\ttraining's rmse: 0.190478\tvalid_1's rmse: 0.188717\n",
      "[20]\ttraining's rmse: 0.11901\tvalid_1's rmse: 0.131421\n",
      "[30]\ttraining's rmse: 0.0924214\tvalid_1's rmse: 0.115727\n",
      "[40]\ttraining's rmse: 0.0787186\tvalid_1's rmse: 0.1093\n",
      "[50]\ttraining's rmse: 0.0695063\tvalid_1's rmse: 0.106939\n",
      "[60]\ttraining's rmse: 0.0626515\tvalid_1's rmse: 0.105518\n",
      "[70]\ttraining's rmse: 0.0567035\tvalid_1's rmse: 0.105232\n",
      "Early stopping, best iteration is:\n",
      "[64]\ttraining's rmse: 0.0603165\tvalid_1's rmse: 0.104881\n"
     ]
    },
    {
     "name": "stderr",
     "output_type": "stream",
     "text": [
      "regularization_factors, val_score: 0.104881:  95%|###################################1 | 19/20 [00:03<00:00,  6.39it/s][I 2020-10-23 12:51:17,816] Trial 61 finished with value: 0.10488076514031411 and parameters: {'lambda_l1': 5.26944328498574e-07, 'lambda_l2': 6.50947129174452e-07}. Best is trial 58 with value: 0.10488076498036018.\n",
      "regularization_factors, val_score: 0.104881:  95%|###################################1 | 19/20 [00:03<00:00,  6.39it/s]"
     ]
    },
    {
     "name": "stdout",
     "output_type": "stream",
     "text": [
      "Training until validation scores don't improve for 10 rounds\n",
      "[10]\ttraining's rmse: 0.190478\tvalid_1's rmse: 0.188717\n",
      "[20]\ttraining's rmse: 0.11901\tvalid_1's rmse: 0.131421\n",
      "[30]\ttraining's rmse: 0.0924214\tvalid_1's rmse: 0.115727\n",
      "[40]\ttraining's rmse: 0.0787186\tvalid_1's rmse: 0.1093\n",
      "[50]\ttraining's rmse: 0.0695063\tvalid_1's rmse: 0.106939\n",
      "[60]\ttraining's rmse: 0.0626515\tvalid_1's rmse: 0.105518\n",
      "[70]\ttraining's rmse: 0.0567034\tvalid_1's rmse: 0.105232\n",
      "Early stopping, best iteration is:\n",
      "[64]\ttraining's rmse: 0.0603165\tvalid_1's rmse: 0.104881\n"
     ]
    },
    {
     "name": "stderr",
     "output_type": "stream",
     "text": [
      "regularization_factors, val_score: 0.104881: 100%|#####################################| 20/20 [00:03<00:00,  6.22it/s][I 2020-10-23 12:51:17,988] Trial 62 finished with value: 0.10488076517042315 and parameters: {'lambda_l1': 3.8088691951115475e-07, 'lambda_l2': 6.858580420543472e-07}. Best is trial 58 with value: 0.10488076498036018.\n",
      "regularization_factors, val_score: 0.104881: 100%|#####################################| 20/20 [00:03<00:00,  5.88it/s]\n",
      "min_data_in_leaf, val_score: 0.104881:   0%|                                                     | 0/5 [00:00<?, ?it/s]"
     ]
    },
    {
     "name": "stdout",
     "output_type": "stream",
     "text": [
      "Training until validation scores don't improve for 10 rounds\n",
      "[10]\ttraining's rmse: 0.209805\tvalid_1's rmse: 0.203433\n",
      "[20]\ttraining's rmse: 0.146034\tvalid_1's rmse: 0.148091\n",
      "[30]\ttraining's rmse: 0.12424\tvalid_1's rmse: 0.130132\n",
      "[40]\ttraining's rmse: 0.113898\tvalid_1's rmse: 0.122839\n",
      "[50]\ttraining's rmse: 0.106781\tvalid_1's rmse: 0.119623\n",
      "[60]\ttraining's rmse: 0.100927\tvalid_1's rmse: 0.117266\n",
      "[70]\ttraining's rmse: 0.0959347\tvalid_1's rmse: 0.115499\n",
      "[80]\ttraining's rmse: 0.0918973\tvalid_1's rmse: 0.114369\n",
      "[90]\ttraining's rmse: 0.088132\tvalid_1's rmse: 0.113387\n",
      "Early stopping, best iteration is:\n",
      "[89]\ttraining's rmse: 0.0884457\tvalid_1's rmse: 0.113307\n"
     ]
    },
    {
     "name": "stderr",
     "output_type": "stream",
     "text": [
      "min_data_in_leaf, val_score: 0.104881:  20%|#########                                    | 1/5 [00:00<00:00,  7.87it/s][I 2020-10-23 12:51:18,122] Trial 63 finished with value: 0.11330748778906531 and parameters: {'min_child_samples': 50}. Best is trial 63 with value: 0.11330748778906531.\n",
      "min_data_in_leaf, val_score: 0.104881:  20%|#########                                    | 1/5 [00:00<00:00,  7.87it/s]"
     ]
    },
    {
     "name": "stdout",
     "output_type": "stream",
     "text": [
      "Training until validation scores don't improve for 10 rounds\n",
      "[10]\ttraining's rmse: 0.167641\tvalid_1's rmse: 0.189272\n",
      "[20]\ttraining's rmse: 0.0814836\tvalid_1's rmse: 0.131687\n",
      "[30]\ttraining's rmse: 0.0478276\tvalid_1's rmse: 0.118011\n",
      "[40]\ttraining's rmse: 0.0325945\tvalid_1's rmse: 0.113988\n",
      "[50]\ttraining's rmse: 0.0238374\tvalid_1's rmse: 0.111871\n",
      "[60]\ttraining's rmse: 0.0179906\tvalid_1's rmse: 0.110987\n",
      "[70]\ttraining's rmse: 0.0137639\tvalid_1's rmse: 0.110711\n",
      "Early stopping, best iteration is:\n",
      "[69]\ttraining's rmse: 0.0141593\tvalid_1's rmse: 0.110676\n"
     ]
    },
    {
     "name": "stderr",
     "output_type": "stream",
     "text": [
      "min_data_in_leaf, val_score: 0.104881:  40%|##################                           | 2/5 [00:00<00:00,  5.84it/s][I 2020-10-23 12:51:18,395] Trial 64 finished with value: 0.11067626021164038 and parameters: {'min_child_samples': 5}. Best is trial 64 with value: 0.11067626021164038.\n",
      "min_data_in_leaf, val_score: 0.104881:  40%|##################                           | 2/5 [00:00<00:00,  5.84it/s]"
     ]
    },
    {
     "name": "stdout",
     "output_type": "stream",
     "text": [
      "Training until validation scores don't improve for 10 rounds\n",
      "[10]\ttraining's rmse: 0.175266\tvalid_1's rmse: 0.187514\n",
      "[20]\ttraining's rmse: 0.0957151\tvalid_1's rmse: 0.131586\n",
      "[30]\ttraining's rmse: 0.0651978\tvalid_1's rmse: 0.117793\n",
      "[40]\ttraining's rmse: 0.0500985\tvalid_1's rmse: 0.113988\n",
      "[50]\ttraining's rmse: 0.0403818\tvalid_1's rmse: 0.112208\n",
      "[60]\ttraining's rmse: 0.0339889\tvalid_1's rmse: 0.112019\n",
      "[70]\ttraining's rmse: 0.0290163\tvalid_1's rmse: 0.111655\n",
      "Early stopping, best iteration is:\n",
      "[63]\ttraining's rmse: 0.0323943\tvalid_1's rmse: 0.111569\n"
     ]
    },
    {
     "name": "stderr",
     "output_type": "stream",
     "text": [
      "min_data_in_leaf, val_score: 0.104881:  60%|###########################                  | 3/5 [00:00<00:00,  5.31it/s][I 2020-10-23 12:51:18,624] Trial 65 finished with value: 0.11156924991808884 and parameters: {'min_child_samples': 10}. Best is trial 64 with value: 0.11067626021164038.\n",
      "min_data_in_leaf, val_score: 0.104881:  60%|###########################                  | 3/5 [00:00<00:00,  5.31it/s]"
     ]
    },
    {
     "name": "stdout",
     "output_type": "stream",
     "text": [
      "Training until validation scores don't improve for 10 rounds\n",
      "[10]\ttraining's rmse: 0.227022\tvalid_1's rmse: 0.219486\n",
      "[20]\ttraining's rmse: 0.167106\tvalid_1's rmse: 0.164772\n",
      "[30]\ttraining's rmse: 0.14582\tvalid_1's rmse: 0.145365\n",
      "[40]\ttraining's rmse: 0.135914\tvalid_1's rmse: 0.136725\n",
      "[50]\ttraining's rmse: 0.129862\tvalid_1's rmse: 0.13111\n",
      "[60]\ttraining's rmse: 0.124917\tvalid_1's rmse: 0.126549\n",
      "[70]\ttraining's rmse: 0.121254\tvalid_1's rmse: 0.124023\n",
      "[80]\ttraining's rmse: 0.11792\tvalid_1's rmse: 0.12286\n",
      "[90]\ttraining's rmse: 0.115457\tvalid_1's rmse: 0.121683\n",
      "[100]\ttraining's rmse: 0.112765\tvalid_1's rmse: 0.121073\n",
      "[110]\ttraining's rmse: 0.110469\tvalid_1's rmse: 0.120616\n",
      "[120]\ttraining's rmse: 0.108394\tvalid_1's rmse: 0.120426\n",
      "[130]\ttraining's rmse: 0.106346\tvalid_1's rmse: 0.120114\n",
      "[140]\ttraining's rmse: 0.104533\tvalid_1's rmse: 0.11984\n",
      "[150]\ttraining's rmse: 0.102605\tvalid_1's rmse: 0.119458\n",
      "Early stopping, best iteration is:\n",
      "[146]\ttraining's rmse: 0.103402\tvalid_1's rmse: 0.119375\n"
     ]
    },
    {
     "name": "stderr",
     "output_type": "stream",
     "text": [
      "min_data_in_leaf, val_score: 0.104881:  80%|####################################         | 4/5 [00:00<00:00,  5.71it/s][I 2020-10-23 12:51:18,771] Trial 66 finished with value: 0.11937463459388924 and parameters: {'min_child_samples': 100}. Best is trial 64 with value: 0.11067626021164038.\n",
      "min_data_in_leaf, val_score: 0.104881:  80%|####################################         | 4/5 [00:00<00:00,  5.71it/s]"
     ]
    },
    {
     "name": "stdout",
     "output_type": "stream",
     "text": [
      "Training until validation scores don't improve for 10 rounds\n",
      "[10]\ttraining's rmse: 0.19491\tvalid_1's rmse: 0.19042\n",
      "[20]\ttraining's rmse: 0.125636\tvalid_1's rmse: 0.134209\n",
      "[30]\ttraining's rmse: 0.100831\tvalid_1's rmse: 0.119373\n",
      "[40]\ttraining's rmse: 0.0879034\tvalid_1's rmse: 0.113199\n",
      "[50]\ttraining's rmse: 0.0788177\tvalid_1's rmse: 0.109716\n",
      "[60]\ttraining's rmse: 0.0716889\tvalid_1's rmse: 0.108625\n",
      "[70]\ttraining's rmse: 0.0658784\tvalid_1's rmse: 0.10754\n",
      "[80]\ttraining's rmse: 0.0604106\tvalid_1's rmse: 0.107184\n",
      "[90]\ttraining's rmse: 0.0560283\tvalid_1's rmse: 0.107212\n",
      "Early stopping, best iteration is:\n",
      "[83]\ttraining's rmse: 0.0590733\tvalid_1's rmse: 0.106892\n"
     ]
    },
    {
     "name": "stderr",
     "output_type": "stream",
     "text": [
      "min_data_in_leaf, val_score: 0.104881: 100%|#############################################| 5/5 [00:00<00:00,  5.35it/s][I 2020-10-23 12:51:18,982] Trial 67 finished with value: 0.10689193470667877 and parameters: {'min_child_samples': 25}. Best is trial 67 with value: 0.10689193470667877.\n",
      "min_data_in_leaf, val_score: 0.104881: 100%|#############################################| 5/5 [00:00<00:00,  5.05it/s]\n",
      "[I 2020-10-23 12:51:19,002] A new study created in memory with name: no-name-d1b58f36-5049-4639-9875-d9b184581959\n",
      "feature_fraction, val_score: inf:   0%|                                                          | 0/7 [00:00<?, ?it/s]"
     ]
    },
    {
     "name": "stdout",
     "output_type": "stream",
     "text": [
      "Training until validation scores don't improve for 10 rounds\n",
      "[10]\ttraining's rmse: 0.18549\tvalid_1's rmse: 0.251256\n",
      "[20]\ttraining's rmse: 0.115649\tvalid_1's rmse: 0.191702\n",
      "[30]\ttraining's rmse: 0.0890608\tvalid_1's rmse: 0.174353\n",
      "[40]\ttraining's rmse: 0.0752705\tvalid_1's rmse: 0.167612\n",
      "[50]\ttraining's rmse: 0.0667523\tvalid_1's rmse: 0.1655\n",
      "[60]\ttraining's rmse: 0.0601306\tvalid_1's rmse: 0.163923\n",
      "[70]\ttraining's rmse: 0.0544953\tvalid_1's rmse: 0.162659\n",
      "[80]\ttraining's rmse: 0.0499716\tvalid_1's rmse: 0.162488\n",
      "[90]\ttraining's rmse: 0.0458952\tvalid_1's rmse: 0.162103\n",
      "[100]\ttraining's rmse: 0.04223\tvalid_1's rmse: 0.162099\n",
      "[110]\ttraining's rmse: 0.0391344\tvalid_1's rmse: 0.162043\n",
      "Early stopping, best iteration is:\n",
      "[108]\ttraining's rmse: 0.0397896\tvalid_1's rmse: 0.161916\n"
     ]
    },
    {
     "name": "stderr",
     "output_type": "stream",
     "text": [
      "feature_fraction, val_score: 0.161916:  14%|######4                                      | 1/7 [00:00<00:01,  5.56it/s][I 2020-10-23 12:51:19,187] Trial 0 finished with value: 0.1619163418408414 and parameters: {'feature_fraction': 0.4}. Best is trial 0 with value: 0.1619163418408414.\n",
      "feature_fraction, val_score: 0.161916:  14%|######4                                      | 1/7 [00:00<00:01,  5.56it/s]"
     ]
    },
    {
     "name": "stdout",
     "output_type": "stream",
     "text": [
      "Training until validation scores don't improve for 10 rounds\n",
      "[10]\ttraining's rmse: 0.179911\tvalid_1's rmse: 0.242086\n",
      "[20]\ttraining's rmse: 0.110363\tvalid_1's rmse: 0.186187\n",
      "[30]\ttraining's rmse: 0.0845251\tvalid_1's rmse: 0.169979\n",
      "[40]\ttraining's rmse: 0.0712525\tvalid_1's rmse: 0.16333\n",
      "[50]\ttraining's rmse: 0.0627944\tvalid_1's rmse: 0.16092\n",
      "[60]\ttraining's rmse: 0.0563878\tvalid_1's rmse: 0.160891\n",
      "[70]\ttraining's rmse: 0.051416\tvalid_1's rmse: 0.160474\n",
      "[80]\ttraining's rmse: 0.047227\tvalid_1's rmse: 0.160091\n",
      "Early stopping, best iteration is:\n",
      "[79]\ttraining's rmse: 0.0475473\tvalid_1's rmse: 0.160083\n"
     ]
    },
    {
     "name": "stderr",
     "output_type": "stream",
     "text": [
      "feature_fraction, val_score: 0.160083:  29%|############8                                | 2/7 [00:00<00:00,  6.00it/s][I 2020-10-23 12:51:19,323] Trial 1 finished with value: 0.1600832061103807 and parameters: {'feature_fraction': 0.7}. Best is trial 1 with value: 0.1600832061103807.\n",
      "feature_fraction, val_score: 0.160083:  29%|############8                                | 2/7 [00:00<00:00,  6.00it/s]"
     ]
    },
    {
     "name": "stdout",
     "output_type": "stream",
     "text": [
      "Training until validation scores don't improve for 10 rounds\n",
      "[10]\ttraining's rmse: 0.180273\tvalid_1's rmse: 0.242904\n",
      "[20]\ttraining's rmse: 0.1101\tvalid_1's rmse: 0.186187\n",
      "[30]\ttraining's rmse: 0.0832143\tvalid_1's rmse: 0.170889\n",
      "[40]\ttraining's rmse: 0.0694174\tvalid_1's rmse: 0.163903\n",
      "[50]\ttraining's rmse: 0.0607132\tvalid_1's rmse: 0.162358\n",
      "[60]\ttraining's rmse: 0.0543216\tvalid_1's rmse: 0.162105\n",
      "[70]\ttraining's rmse: 0.0490603\tvalid_1's rmse: 0.161628\n",
      "Early stopping, best iteration is:\n",
      "[67]\ttraining's rmse: 0.0505024\tvalid_1's rmse: 0.16144\n"
     ]
    },
    {
     "name": "stderr",
     "output_type": "stream",
     "text": [
      "feature_fraction, val_score: 0.160083:  43%|###################2                         | 3/7 [00:00<00:00,  6.50it/s][I 2020-10-23 12:51:19,448] Trial 2 finished with value: 0.16144006151312487 and parameters: {'feature_fraction': 1.0}. Best is trial 1 with value: 0.1600832061103807.\n",
      "feature_fraction, val_score: 0.160083:  43%|###################2                         | 3/7 [00:00<00:00,  6.50it/s]"
     ]
    },
    {
     "name": "stdout",
     "output_type": "stream",
     "text": [
      "Training until validation scores don't improve for 10 rounds\n",
      "[10]\ttraining's rmse: 0.181429\tvalid_1's rmse: 0.244675\n",
      "[20]\ttraining's rmse: 0.111129\tvalid_1's rmse: 0.187045\n",
      "[30]\ttraining's rmse: 0.0853595\tvalid_1's rmse: 0.169601\n",
      "[40]\ttraining's rmse: 0.072041\tvalid_1's rmse: 0.162686\n",
      "[50]\ttraining's rmse: 0.0639199\tvalid_1's rmse: 0.160936\n",
      "[60]\ttraining's rmse: 0.0571775\tvalid_1's rmse: 0.160075\n",
      "[70]\ttraining's rmse: 0.0519506\tvalid_1's rmse: 0.15913\n",
      "Early stopping, best iteration is:\n",
      "[68]\ttraining's rmse: 0.0528931\tvalid_1's rmse: 0.159048\n"
     ]
    },
    {
     "name": "stderr",
     "output_type": "stream",
     "text": [
      "feature_fraction, val_score: 0.159048:  57%|#########################7                   | 4/7 [00:00<00:00,  6.96it/s][I 2020-10-23 12:51:19,567] Trial 3 finished with value: 0.15904808756721256 and parameters: {'feature_fraction': 0.6}. Best is trial 3 with value: 0.15904808756721256.\n",
      "feature_fraction, val_score: 0.159048:  57%|#########################7                   | 4/7 [00:00<00:00,  6.96it/s]"
     ]
    },
    {
     "name": "stdout",
     "output_type": "stream",
     "text": [
      "Training until validation scores don't improve for 10 rounds\n",
      "[10]\ttraining's rmse: 0.182242\tvalid_1's rmse: 0.24702\n",
      "[20]\ttraining's rmse: 0.111974\tvalid_1's rmse: 0.18802\n",
      "[30]\ttraining's rmse: 0.0852505\tvalid_1's rmse: 0.169589\n",
      "[40]\ttraining's rmse: 0.0722455\tvalid_1's rmse: 0.16329\n",
      "[50]\ttraining's rmse: 0.0637947\tvalid_1's rmse: 0.16089\n",
      "[60]\ttraining's rmse: 0.0576107\tvalid_1's rmse: 0.159492\n",
      "[70]\ttraining's rmse: 0.0525666\tvalid_1's rmse: 0.159084\n",
      "[80]\ttraining's rmse: 0.0481055\tvalid_1's rmse: 0.159322\n",
      "Early stopping, best iteration is:\n",
      "[72]\ttraining's rmse: 0.0517367\tvalid_1's rmse: 0.158823\n"
     ]
    },
    {
     "name": "stderr",
     "output_type": "stream",
     "text": [
      "feature_fraction, val_score: 0.158823:  71%|################################1            | 5/7 [00:00<00:00,  7.15it/s][I 2020-10-23 12:51:19,698] Trial 4 finished with value: 0.15882343556666695 and parameters: {'feature_fraction': 0.5}. Best is trial 4 with value: 0.15882343556666695.\n",
      "feature_fraction, val_score: 0.158823:  71%|################################1            | 5/7 [00:00<00:00,  7.15it/s]"
     ]
    },
    {
     "name": "stdout",
     "output_type": "stream",
     "text": [
      "Training until validation scores don't improve for 10 rounds\n",
      "[10]\ttraining's rmse: 0.17985\tvalid_1's rmse: 0.242704\n",
      "[20]\ttraining's rmse: 0.110402\tvalid_1's rmse: 0.187532\n",
      "[30]\ttraining's rmse: 0.084039\tvalid_1's rmse: 0.172598\n",
      "[40]\ttraining's rmse: 0.0709486\tvalid_1's rmse: 0.166479\n",
      "[50]\ttraining's rmse: 0.0628522\tvalid_1's rmse: 0.163382\n",
      "[60]\ttraining's rmse: 0.0560463\tvalid_1's rmse: 0.162403\n",
      "[70]\ttraining's rmse: 0.0509119\tvalid_1's rmse: 0.162281\n",
      "[80]\ttraining's rmse: 0.0464881\tvalid_1's rmse: 0.161964\n",
      "[90]\ttraining's rmse: 0.0425615\tvalid_1's rmse: 0.161781\n",
      "Early stopping, best iteration is:\n",
      "[85]\ttraining's rmse: 0.0444174\tvalid_1's rmse: 0.16165\n"
     ]
    },
    {
     "name": "stderr",
     "output_type": "stream",
     "text": [
      "feature_fraction, val_score: 0.158823:  86%|######################################5      | 6/7 [00:00<00:00,  6.94it/s][I 2020-10-23 12:51:19,853] Trial 5 finished with value: 0.16164956042122042 and parameters: {'feature_fraction': 0.8}. Best is trial 4 with value: 0.15882343556666695.\n",
      "feature_fraction, val_score: 0.158823:  86%|######################################5      | 6/7 [00:00<00:00,  6.94it/s]"
     ]
    },
    {
     "name": "stdout",
     "output_type": "stream",
     "text": [
      "Training until validation scores don't improve for 10 rounds\n",
      "[10]\ttraining's rmse: 0.179858\tvalid_1's rmse: 0.242631\n",
      "[20]\ttraining's rmse: 0.109396\tvalid_1's rmse: 0.187025\n",
      "[30]\ttraining's rmse: 0.0833167\tvalid_1's rmse: 0.171234\n",
      "[40]\ttraining's rmse: 0.0698224\tvalid_1's rmse: 0.163333\n",
      "[50]\ttraining's rmse: 0.0616386\tvalid_1's rmse: 0.16197\n",
      "[60]\ttraining's rmse: 0.0553086\tvalid_1's rmse: 0.161188\n",
      "[70]\ttraining's rmse: 0.0500789\tvalid_1's rmse: 0.16079\n",
      "[80]\ttraining's rmse: 0.0456882\tvalid_1's rmse: 0.160786\n",
      "[90]\ttraining's rmse: 0.0415998\tvalid_1's rmse: 0.160557\n",
      "Early stopping, best iteration is:\n",
      "[88]\ttraining's rmse: 0.0423028\tvalid_1's rmse: 0.160453\n"
     ]
    },
    {
     "name": "stderr",
     "output_type": "stream",
     "text": [
      "feature_fraction, val_score: 0.158823: 100%|#############################################| 7/7 [00:01<00:00,  6.72it/s][I 2020-10-23 12:51:20,013] Trial 6 finished with value: 0.16045292213251258 and parameters: {'feature_fraction': 0.8999999999999999}. Best is trial 4 with value: 0.15882343556666695.\n",
      "feature_fraction, val_score: 0.158823: 100%|#############################################| 7/7 [00:01<00:00,  6.94it/s]\n",
      "num_leaves, val_score: 0.158823:   0%|                                                          | 0/20 [00:00<?, ?it/s]"
     ]
    },
    {
     "name": "stdout",
     "output_type": "stream",
     "text": [
      "Training until validation scores don't improve for 10 rounds\n",
      "[10]\ttraining's rmse: 0.237991\tvalid_1's rmse: 0.291306\n",
      "[20]\ttraining's rmse: 0.176535\tvalid_1's rmse: 0.231075\n",
      "[30]\ttraining's rmse: 0.144832\tvalid_1's rmse: 0.202411\n",
      "[40]\ttraining's rmse: 0.129191\tvalid_1's rmse: 0.189393\n",
      "[50]\ttraining's rmse: 0.120289\tvalid_1's rmse: 0.182434\n",
      "[60]\ttraining's rmse: 0.113781\tvalid_1's rmse: 0.176933\n",
      "[70]\ttraining's rmse: 0.108907\tvalid_1's rmse: 0.172931\n",
      "[80]\ttraining's rmse: 0.105434\tvalid_1's rmse: 0.170457\n",
      "[90]\ttraining's rmse: 0.102853\tvalid_1's rmse: 0.169114\n",
      "[100]\ttraining's rmse: 0.100608\tvalid_1's rmse: 0.168091\n",
      "[110]\ttraining's rmse: 0.0988708\tvalid_1's rmse: 0.16787\n",
      "[120]\ttraining's rmse: 0.0973097\tvalid_1's rmse: 0.167307\n",
      "[130]\ttraining's rmse: 0.0958518\tvalid_1's rmse: 0.166678\n",
      "[140]\ttraining's rmse: 0.0943907\tvalid_1's rmse: 0.166195\n",
      "Early stopping, best iteration is:\n",
      "[137]\ttraining's rmse: 0.0948062\tvalid_1's rmse: 0.166167\n"
     ]
    },
    {
     "name": "stderr",
     "output_type": "stream",
     "text": [
      "num_leaves, val_score: 0.158823:   5%|##5                                               | 1/20 [00:00<00:02,  9.43it/s][I 2020-10-23 12:51:20,126] Trial 7 finished with value: 0.16616700235799434 and parameters: {'num_leaves': 4}. Best is trial 7 with value: 0.16616700235799434.\n",
      "num_leaves, val_score: 0.158823:   5%|##5                                               | 1/20 [00:00<00:02,  9.43it/s]"
     ]
    },
    {
     "name": "stdout",
     "output_type": "stream",
     "text": [
      "Training until validation scores don't improve for 10 rounds\n",
      "[10]\ttraining's rmse: 0.183326\tvalid_1's rmse: 0.246567\n",
      "[20]\ttraining's rmse: 0.113323\tvalid_1's rmse: 0.187963\n",
      "[30]\ttraining's rmse: 0.0864401\tvalid_1's rmse: 0.169388\n",
      "[40]\ttraining's rmse: 0.0733603\tvalid_1's rmse: 0.162416\n",
      "[50]\ttraining's rmse: 0.0653251\tvalid_1's rmse: 0.160025\n",
      "[60]\ttraining's rmse: 0.0593271\tvalid_1's rmse: 0.158912\n",
      "Early stopping, best iteration is:\n",
      "[58]\ttraining's rmse: 0.0604373\tvalid_1's rmse: 0.158816\n"
     ]
    },
    {
     "name": "stderr",
     "output_type": "stream",
     "text": [
      "num_leaves, val_score: 0.158816:  10%|#####                                             | 2/20 [00:00<00:01,  9.54it/s][I 2020-10-23 12:51:20,228] Trial 8 finished with value: 0.15881619569965555 and parameters: {'num_leaves': 28}. Best is trial 8 with value: 0.15881619569965555.\n",
      "num_leaves, val_score: 0.158816:  10%|#####                                             | 2/20 [00:00<00:01,  9.54it/s]"
     ]
    },
    {
     "name": "stdout",
     "output_type": "stream",
     "text": [
      "Training until validation scores don't improve for 10 rounds\n",
      "[10]\ttraining's rmse: 0.179371\tvalid_1's rmse: 0.245595\n",
      "[20]\ttraining's rmse: 0.109395\tvalid_1's rmse: 0.189808\n",
      "[30]\ttraining's rmse: 0.0825083\tvalid_1's rmse: 0.172563\n",
      "[40]\ttraining's rmse: 0.0688161\tvalid_1's rmse: 0.16703\n",
      "[50]\ttraining's rmse: 0.0602336\tvalid_1's rmse: 0.164618\n",
      "[60]\ttraining's rmse: 0.053595\tvalid_1's rmse: 0.162882\n",
      "[70]\ttraining's rmse: 0.0479844\tvalid_1's rmse: 0.162049\n",
      "[80]\ttraining's rmse: 0.0432676\tvalid_1's rmse: 0.161782\n",
      "[90]\ttraining's rmse: 0.0393656\tvalid_1's rmse: 0.161476\n",
      "[100]\ttraining's rmse: 0.035982\tvalid_1's rmse: 0.161554\n",
      "Early stopping, best iteration is:\n",
      "[91]\ttraining's rmse: 0.0390758\tvalid_1's rmse: 0.161351\n"
     ]
    },
    {
     "name": "stderr",
     "output_type": "stream",
     "text": [
      "num_leaves, val_score: 0.158816:  15%|#######5                                          | 3/20 [00:00<00:02,  7.67it/s][I 2020-10-23 12:51:20,417] Trial 9 finished with value: 0.16135051684051022 and parameters: {'num_leaves': 141}. Best is trial 8 with value: 0.15881619569965555.\n",
      "num_leaves, val_score: 0.158816:  15%|#######5                                          | 3/20 [00:00<00:02,  7.67it/s]"
     ]
    },
    {
     "name": "stdout",
     "output_type": "stream",
     "text": [
      "Training until validation scores don't improve for 10 rounds\n",
      "[10]\ttraining's rmse: 0.194895\tvalid_1's rmse: 0.2546\n",
      "[20]\ttraining's rmse: 0.126917\tvalid_1's rmse: 0.194878\n",
      "[30]\ttraining's rmse: 0.100697\tvalid_1's rmse: 0.176042\n",
      "[40]\ttraining's rmse: 0.0882143\tvalid_1's rmse: 0.167907\n",
      "[50]\ttraining's rmse: 0.0799264\tvalid_1's rmse: 0.164967\n",
      "[60]\ttraining's rmse: 0.074185\tvalid_1's rmse: 0.162425\n",
      "[70]\ttraining's rmse: 0.0699782\tvalid_1's rmse: 0.160944\n",
      "[80]\ttraining's rmse: 0.0661097\tvalid_1's rmse: 0.160525\n",
      "Early stopping, best iteration is:\n",
      "[79]\ttraining's rmse: 0.0664482\tvalid_1's rmse: 0.160478\n"
     ]
    },
    {
     "name": "stderr",
     "output_type": "stream",
     "text": [
      "num_leaves, val_score: 0.158816:  20%|##########                                        | 4/20 [00:00<00:01,  8.09it/s][I 2020-10-23 12:51:20,525] Trial 10 finished with value: 0.16047816163375514 and parameters: {'num_leaves': 15}. Best is trial 8 with value: 0.15881619569965555.\n",
      "num_leaves, val_score: 0.158816:  20%|##########                                        | 4/20 [00:00<00:01,  8.09it/s]"
     ]
    },
    {
     "name": "stdout",
     "output_type": "stream",
     "text": [
      "Training until validation scores don't improve for 10 rounds\n",
      "[10]\ttraining's rmse: 0.179371\tvalid_1's rmse: 0.245595\n",
      "[20]\ttraining's rmse: 0.109395\tvalid_1's rmse: 0.189808\n",
      "[30]\ttraining's rmse: 0.0825083\tvalid_1's rmse: 0.172563\n",
      "[40]\ttraining's rmse: 0.0688161\tvalid_1's rmse: 0.16703\n",
      "[50]\ttraining's rmse: 0.0602336\tvalid_1's rmse: 0.164618\n",
      "[60]\ttraining's rmse: 0.053595\tvalid_1's rmse: 0.162882\n",
      "[70]\ttraining's rmse: 0.0479844\tvalid_1's rmse: 0.162049\n",
      "[80]\ttraining's rmse: 0.0432676\tvalid_1's rmse: 0.161782\n",
      "[90]\ttraining's rmse: 0.0393656\tvalid_1's rmse: 0.161476\n",
      "[100]\ttraining's rmse: 0.035982\tvalid_1's rmse: 0.161554\n",
      "Early stopping, best iteration is:\n",
      "[91]\ttraining's rmse: 0.0390758\tvalid_1's rmse: 0.161351\n"
     ]
    },
    {
     "name": "stderr",
     "output_type": "stream",
     "text": [
      "num_leaves, val_score: 0.158816:  25%|############5                                     | 5/20 [00:00<00:02,  6.87it/s][I 2020-10-23 12:51:20,723] Trial 11 finished with value: 0.16135051684051022 and parameters: {'num_leaves': 252}. Best is trial 8 with value: 0.15881619569965555.\n",
      "num_leaves, val_score: 0.158816:  25%|############5                                     | 5/20 [00:00<00:02,  6.87it/s]"
     ]
    },
    {
     "name": "stdout",
     "output_type": "stream",
     "text": [
      "Training until validation scores don't improve for 10 rounds\n",
      "[10]\ttraining's rmse: 0.179371\tvalid_1's rmse: 0.245595\n",
      "[20]\ttraining's rmse: 0.109395\tvalid_1's rmse: 0.189808\n",
      "[30]\ttraining's rmse: 0.0825083\tvalid_1's rmse: 0.172563\n",
      "[40]\ttraining's rmse: 0.0688161\tvalid_1's rmse: 0.16703\n",
      "[50]\ttraining's rmse: 0.0602336\tvalid_1's rmse: 0.164618\n",
      "[60]\ttraining's rmse: 0.053595\tvalid_1's rmse: 0.162882\n",
      "[70]\ttraining's rmse: 0.0479844\tvalid_1's rmse: 0.162049\n",
      "[80]\ttraining's rmse: 0.0432676\tvalid_1's rmse: 0.161782\n",
      "[90]\ttraining's rmse: 0.0393656\tvalid_1's rmse: 0.161476\n",
      "[100]\ttraining's rmse: 0.035982\tvalid_1's rmse: 0.161554\n",
      "Early stopping, best iteration is:\n",
      "[91]\ttraining's rmse: 0.0390758\tvalid_1's rmse: 0.161351\n"
     ]
    },
    {
     "name": "stderr",
     "output_type": "stream",
     "text": [
      "num_leaves, val_score: 0.158816:  30%|###############                                   | 6/20 [00:00<00:02,  6.36it/s][I 2020-10-23 12:51:20,907] Trial 12 finished with value: 0.16135051684051022 and parameters: {'num_leaves': 93}. Best is trial 8 with value: 0.15881619569965555.\n",
      "num_leaves, val_score: 0.158816:  30%|###############                                   | 6/20 [00:00<00:02,  6.36it/s]"
     ]
    },
    {
     "name": "stdout",
     "output_type": "stream",
     "text": [
      "Training until validation scores don't improve for 10 rounds\n",
      "[10]\ttraining's rmse: 0.179371\tvalid_1's rmse: 0.245595\n",
      "[20]\ttraining's rmse: 0.109395\tvalid_1's rmse: 0.189808\n",
      "[30]\ttraining's rmse: 0.0825083\tvalid_1's rmse: 0.172563\n",
      "[40]\ttraining's rmse: 0.0688161\tvalid_1's rmse: 0.16703\n",
      "[50]\ttraining's rmse: 0.0602336\tvalid_1's rmse: 0.164618\n",
      "[60]\ttraining's rmse: 0.053595\tvalid_1's rmse: 0.162882\n",
      "[70]\ttraining's rmse: 0.0479844\tvalid_1's rmse: 0.162049\n",
      "[80]\ttraining's rmse: 0.0432676\tvalid_1's rmse: 0.161782\n",
      "[90]\ttraining's rmse: 0.0393656\tvalid_1's rmse: 0.161476\n",
      "[100]\ttraining's rmse: 0.035982\tvalid_1's rmse: 0.161554\n",
      "Early stopping, best iteration is:\n",
      "[91]\ttraining's rmse: 0.0390758\tvalid_1's rmse: 0.161351\n"
     ]
    },
    {
     "name": "stderr",
     "output_type": "stream",
     "text": [
      "num_leaves, val_score: 0.158816:  35%|#################5                                | 7/20 [00:01<00:02,  6.01it/s][I 2020-10-23 12:51:21,095] Trial 13 finished with value: 0.16135051684051022 and parameters: {'num_leaves': 91}. Best is trial 8 with value: 0.15881619569965555.\n",
      "num_leaves, val_score: 0.158816:  35%|#################5                                | 7/20 [00:01<00:02,  6.01it/s]"
     ]
    },
    {
     "name": "stdout",
     "output_type": "stream",
     "text": [
      "Training until validation scores don't improve for 10 rounds\n",
      "[10]\ttraining's rmse: 0.179371\tvalid_1's rmse: 0.245595\n",
      "[20]\ttraining's rmse: 0.109395\tvalid_1's rmse: 0.189808\n",
      "[30]\ttraining's rmse: 0.0825083\tvalid_1's rmse: 0.172563\n",
      "[40]\ttraining's rmse: 0.0688161\tvalid_1's rmse: 0.16703\n",
      "[50]\ttraining's rmse: 0.0602336\tvalid_1's rmse: 0.164618\n",
      "[60]\ttraining's rmse: 0.053595\tvalid_1's rmse: 0.162882\n",
      "[70]\ttraining's rmse: 0.0479844\tvalid_1's rmse: 0.162049\n",
      "[80]\ttraining's rmse: 0.0432676\tvalid_1's rmse: 0.161782\n",
      "[90]\ttraining's rmse: 0.0393656\tvalid_1's rmse: 0.161476\n",
      "[100]\ttraining's rmse: 0.035982\tvalid_1's rmse: 0.161554\n",
      "Early stopping, best iteration is:\n",
      "[91]\ttraining's rmse: 0.0390758\tvalid_1's rmse: 0.161351\n"
     ]
    },
    {
     "name": "stderr",
     "output_type": "stream",
     "text": [
      "num_leaves, val_score: 0.158816:  40%|####################                              | 8/20 [00:01<00:02,  5.70it/s][I 2020-10-23 12:51:21,291] Trial 14 finished with value: 0.16135051684051022 and parameters: {'num_leaves': 181}. Best is trial 8 with value: 0.15881619569965555.\n",
      "num_leaves, val_score: 0.158816:  40%|####################                              | 8/20 [00:01<00:02,  5.70it/s]"
     ]
    },
    {
     "name": "stdout",
     "output_type": "stream",
     "text": [
      "Training until validation scores don't improve for 10 rounds\n",
      "[10]\ttraining's rmse: 0.179409\tvalid_1's rmse: 0.24568\n",
      "[20]\ttraining's rmse: 0.109276\tvalid_1's rmse: 0.189293\n",
      "[30]\ttraining's rmse: 0.0822303\tvalid_1's rmse: 0.171606\n",
      "[40]\ttraining's rmse: 0.0691221\tvalid_1's rmse: 0.165428\n",
      "[50]\ttraining's rmse: 0.0603459\tvalid_1's rmse: 0.162927\n",
      "[60]\ttraining's rmse: 0.0538541\tvalid_1's rmse: 0.161743\n",
      "[70]\ttraining's rmse: 0.0484055\tvalid_1's rmse: 0.161171\n",
      "Early stopping, best iteration is:\n",
      "[69]\ttraining's rmse: 0.0488788\tvalid_1's rmse: 0.161114\n"
     ]
    },
    {
     "name": "stderr",
     "output_type": "stream",
     "text": [
      "num_leaves, val_score: 0.158816:  45%|######################5                           | 9/20 [00:01<00:01,  6.04it/s][I 2020-10-23 12:51:21,434] Trial 15 finished with value: 0.16111437340482038 and parameters: {'num_leaves': 44}. Best is trial 8 with value: 0.15881619569965555.\n",
      "num_leaves, val_score: 0.158816:  45%|######################5                           | 9/20 [00:01<00:01,  6.04it/s]"
     ]
    },
    {
     "name": "stdout",
     "output_type": "stream",
     "text": [
      "Training until validation scores don't improve for 10 rounds\n",
      "[10]\ttraining's rmse: 0.179371\tvalid_1's rmse: 0.245595\n",
      "[20]\ttraining's rmse: 0.109395\tvalid_1's rmse: 0.189808\n",
      "[30]\ttraining's rmse: 0.0825083\tvalid_1's rmse: 0.172563\n",
      "[40]\ttraining's rmse: 0.0688161\tvalid_1's rmse: 0.16703\n",
      "[50]\ttraining's rmse: 0.0602336\tvalid_1's rmse: 0.164618\n",
      "[60]\ttraining's rmse: 0.053595\tvalid_1's rmse: 0.162882\n",
      "[70]\ttraining's rmse: 0.0479844\tvalid_1's rmse: 0.162049\n",
      "[80]\ttraining's rmse: 0.0432676\tvalid_1's rmse: 0.161782\n",
      "[90]\ttraining's rmse: 0.0393656\tvalid_1's rmse: 0.161476\n",
      "[100]\ttraining's rmse: 0.035982\tvalid_1's rmse: 0.161554\n",
      "Early stopping, best iteration is:\n",
      "[91]\ttraining's rmse: 0.0390758\tvalid_1's rmse: 0.161351\n"
     ]
    },
    {
     "name": "stderr",
     "output_type": "stream",
     "text": [
      "num_leaves, val_score: 0.158816:  50%|########################5                        | 10/20 [00:01<00:01,  5.52it/s][I 2020-10-23 12:51:21,651] Trial 16 finished with value: 0.16135051684051022 and parameters: {'num_leaves': 57}. Best is trial 8 with value: 0.15881619569965555.\n",
      "num_leaves, val_score: 0.158816:  50%|########################5                        | 10/20 [00:01<00:01,  5.52it/s]"
     ]
    },
    {
     "name": "stdout",
     "output_type": "stream",
     "text": [
      "Training until validation scores don't improve for 10 rounds\n",
      "[10]\ttraining's rmse: 0.179371\tvalid_1's rmse: 0.245595\n",
      "[20]\ttraining's rmse: 0.109395\tvalid_1's rmse: 0.189808\n",
      "[30]\ttraining's rmse: 0.0825083\tvalid_1's rmse: 0.172563\n",
      "[40]\ttraining's rmse: 0.0688161\tvalid_1's rmse: 0.16703\n",
      "[50]\ttraining's rmse: 0.0602336\tvalid_1's rmse: 0.164618\n",
      "[60]\ttraining's rmse: 0.053595\tvalid_1's rmse: 0.162882\n",
      "[70]\ttraining's rmse: 0.0479844\tvalid_1's rmse: 0.162049\n",
      "[80]\ttraining's rmse: 0.0432676\tvalid_1's rmse: 0.161782\n",
      "[90]\ttraining's rmse: 0.0393656\tvalid_1's rmse: 0.161476\n",
      "[100]\ttraining's rmse: 0.035982\tvalid_1's rmse: 0.161554\n",
      "Early stopping, best iteration is:\n",
      "[91]\ttraining's rmse: 0.0390758\tvalid_1's rmse: 0.161351\n"
     ]
    },
    {
     "name": "stderr",
     "output_type": "stream",
     "text": [
      "num_leaves, val_score: 0.158816:  55%|##########################9                      | 11/20 [00:01<00:01,  5.19it/s][I 2020-10-23 12:51:21,871] Trial 17 finished with value: 0.16135051684051022 and parameters: {'num_leaves': 216}. Best is trial 8 with value: 0.15881619569965555.\n",
      "num_leaves, val_score: 0.158816:  55%|##########################9                      | 11/20 [00:01<00:01,  5.19it/s]"
     ]
    },
    {
     "name": "stdout",
     "output_type": "stream",
     "text": [
      "Training until validation scores don't improve for 10 rounds\n",
      "[10]\ttraining's rmse: 0.179371\tvalid_1's rmse: 0.245595\n",
      "[20]\ttraining's rmse: 0.109395\tvalid_1's rmse: 0.189808\n",
      "[30]\ttraining's rmse: 0.0825083\tvalid_1's rmse: 0.172563\n",
      "[40]\ttraining's rmse: 0.0688161\tvalid_1's rmse: 0.16703\n",
      "[50]\ttraining's rmse: 0.0602336\tvalid_1's rmse: 0.164618\n",
      "[60]\ttraining's rmse: 0.053595\tvalid_1's rmse: 0.162882\n",
      "[70]\ttraining's rmse: 0.0479844\tvalid_1's rmse: 0.162049\n",
      "[80]\ttraining's rmse: 0.0432676\tvalid_1's rmse: 0.161782\n",
      "[90]\ttraining's rmse: 0.0393656\tvalid_1's rmse: 0.161476\n",
      "[100]\ttraining's rmse: 0.035982\tvalid_1's rmse: 0.161554\n",
      "Early stopping, best iteration is:\n",
      "[91]\ttraining's rmse: 0.0390758\tvalid_1's rmse: 0.161351\n"
     ]
    },
    {
     "name": "stderr",
     "output_type": "stream",
     "text": [
      "num_leaves, val_score: 0.158816:  60%|#############################4                   | 12/20 [00:02<00:01,  5.14it/s][I 2020-10-23 12:51:22,070] Trial 18 finished with value: 0.16135051684051022 and parameters: {'num_leaves': 129}. Best is trial 8 with value: 0.15881619569965555.\n",
      "num_leaves, val_score: 0.158816:  60%|#############################4                   | 12/20 [00:02<00:01,  5.14it/s]"
     ]
    },
    {
     "name": "stdout",
     "output_type": "stream",
     "text": [
      "Training until validation scores don't improve for 10 rounds\n",
      "[10]\ttraining's rmse: 0.228724\tvalid_1's rmse: 0.280857\n",
      "[20]\ttraining's rmse: 0.164358\tvalid_1's rmse: 0.221057\n",
      "[30]\ttraining's rmse: 0.134576\tvalid_1's rmse: 0.196524\n",
      "[40]\ttraining's rmse: 0.119976\tvalid_1's rmse: 0.183971\n",
      "[50]\ttraining's rmse: 0.111638\tvalid_1's rmse: 0.177611\n",
      "[60]\ttraining's rmse: 0.105449\tvalid_1's rmse: 0.172969\n",
      "[70]\ttraining's rmse: 0.101511\tvalid_1's rmse: 0.170789\n",
      "[80]\ttraining's rmse: 0.0985353\tvalid_1's rmse: 0.16913\n",
      "[90]\ttraining's rmse: 0.0961051\tvalid_1's rmse: 0.168188\n",
      "[100]\ttraining's rmse: 0.0934863\tvalid_1's rmse: 0.16646\n",
      "[110]\ttraining's rmse: 0.0913335\tvalid_1's rmse: 0.165698\n",
      "[120]\ttraining's rmse: 0.0897543\tvalid_1's rmse: 0.164875\n",
      "[130]\ttraining's rmse: 0.0878927\tvalid_1's rmse: 0.164409\n",
      "[140]\ttraining's rmse: 0.086612\tvalid_1's rmse: 0.164034\n",
      "[150]\ttraining's rmse: 0.0851942\tvalid_1's rmse: 0.163453\n",
      "[160]\ttraining's rmse: 0.0838298\tvalid_1's rmse: 0.16299\n",
      "[170]\ttraining's rmse: 0.0826364\tvalid_1's rmse: 0.162581\n",
      "[180]\ttraining's rmse: 0.0812001\tvalid_1's rmse: 0.162204\n",
      "[190]\ttraining's rmse: 0.0801086\tvalid_1's rmse: 0.161857\n",
      "[200]\ttraining's rmse: 0.0789424\tvalid_1's rmse: 0.16179\n",
      "[210]\ttraining's rmse: 0.0778493\tvalid_1's rmse: 0.161828\n",
      "Early stopping, best iteration is:\n",
      "[204]\ttraining's rmse: 0.0785555\tvalid_1's rmse: 0.161516\n"
     ]
    },
    {
     "name": "stderr",
     "output_type": "stream",
     "text": [
      "num_leaves, val_score: 0.158816:  65%|###############################8                 | 13/20 [00:02<00:01,  5.47it/s][I 2020-10-23 12:51:22,225] Trial 19 finished with value: 0.16151564502863072 and parameters: {'num_leaves': 5}. Best is trial 8 with value: 0.15881619569965555.\n",
      "num_leaves, val_score: 0.158816:  65%|###############################8                 | 13/20 [00:02<00:01,  5.47it/s]"
     ]
    },
    {
     "name": "stdout",
     "output_type": "stream",
     "text": [
      "Training until validation scores don't improve for 10 rounds\n",
      "[10]\ttraining's rmse: 0.179371\tvalid_1's rmse: 0.245595\n",
      "[20]\ttraining's rmse: 0.109395\tvalid_1's rmse: 0.189808\n",
      "[30]\ttraining's rmse: 0.0825083\tvalid_1's rmse: 0.172563\n",
      "[40]\ttraining's rmse: 0.0688161\tvalid_1's rmse: 0.16703\n",
      "[50]\ttraining's rmse: 0.0602336\tvalid_1's rmse: 0.164618\n",
      "[60]\ttraining's rmse: 0.053595\tvalid_1's rmse: 0.162882\n",
      "[70]\ttraining's rmse: 0.0479844\tvalid_1's rmse: 0.162049\n",
      "[80]\ttraining's rmse: 0.0432676\tvalid_1's rmse: 0.161782\n",
      "[90]\ttraining's rmse: 0.0393656\tvalid_1's rmse: 0.161476\n",
      "[100]\ttraining's rmse: 0.035982\tvalid_1's rmse: 0.161554\n",
      "Early stopping, best iteration is:\n",
      "[91]\ttraining's rmse: 0.0390758\tvalid_1's rmse: 0.161351\n"
     ]
    },
    {
     "name": "stderr",
     "output_type": "stream",
     "text": [
      "num_leaves, val_score: 0.158816:  70%|##################################3              | 14/20 [00:02<00:01,  5.45it/s][I 2020-10-23 12:51:22,410] Trial 20 finished with value: 0.16135051684051022 and parameters: {'num_leaves': 57}. Best is trial 8 with value: 0.15881619569965555.\n",
      "num_leaves, val_score: 0.158816:  70%|##################################3              | 14/20 [00:02<00:01,  5.45it/s]"
     ]
    },
    {
     "name": "stdout",
     "output_type": "stream",
     "text": [
      "Training until validation scores don't improve for 10 rounds\n",
      "[10]\ttraining's rmse: 0.179371\tvalid_1's rmse: 0.245595\n",
      "[20]\ttraining's rmse: 0.109395\tvalid_1's rmse: 0.189808\n",
      "[30]\ttraining's rmse: 0.0825083\tvalid_1's rmse: 0.172563\n",
      "[40]\ttraining's rmse: 0.0688161\tvalid_1's rmse: 0.16703\n",
      "[50]\ttraining's rmse: 0.0602336\tvalid_1's rmse: 0.164618\n",
      "[60]\ttraining's rmse: 0.053595\tvalid_1's rmse: 0.162882\n",
      "[70]\ttraining's rmse: 0.0479844\tvalid_1's rmse: 0.162049\n",
      "[80]\ttraining's rmse: 0.0432676\tvalid_1's rmse: 0.161782\n",
      "[90]\ttraining's rmse: 0.0393656\tvalid_1's rmse: 0.161476\n",
      "[100]\ttraining's rmse: 0.035982\tvalid_1's rmse: 0.161554\n",
      "Early stopping, best iteration is:\n",
      "[91]\ttraining's rmse: 0.0390758\tvalid_1's rmse: 0.161351\n"
     ]
    },
    {
     "name": "stderr",
     "output_type": "stream",
     "text": [
      "num_leaves, val_score: 0.158816:  75%|####################################7            | 15/20 [00:02<00:00,  5.31it/s][I 2020-10-23 12:51:22,610] Trial 21 finished with value: 0.16135051684051022 and parameters: {'num_leaves': 162}. Best is trial 8 with value: 0.15881619569965555.\n",
      "num_leaves, val_score: 0.158816:  75%|####################################7            | 15/20 [00:02<00:00,  5.31it/s]"
     ]
    },
    {
     "name": "stdout",
     "output_type": "stream",
     "text": [
      "Training until validation scores don't improve for 10 rounds\n",
      "[10]\ttraining's rmse: 0.179371\tvalid_1's rmse: 0.245595\n",
      "[20]\ttraining's rmse: 0.109395\tvalid_1's rmse: 0.189808\n",
      "[30]\ttraining's rmse: 0.0825083\tvalid_1's rmse: 0.172563\n",
      "[40]\ttraining's rmse: 0.0688161\tvalid_1's rmse: 0.16703\n",
      "[50]\ttraining's rmse: 0.0602336\tvalid_1's rmse: 0.164618\n",
      "[60]\ttraining's rmse: 0.053595\tvalid_1's rmse: 0.162882\n",
      "[70]\ttraining's rmse: 0.0479844\tvalid_1's rmse: 0.162049\n",
      "[80]\ttraining's rmse: 0.0432676\tvalid_1's rmse: 0.161782\n",
      "[90]\ttraining's rmse: 0.0393656\tvalid_1's rmse: 0.161476\n",
      "[100]\ttraining's rmse: 0.035982\tvalid_1's rmse: 0.161554\n",
      "Early stopping, best iteration is:\n",
      "[91]\ttraining's rmse: 0.0390758\tvalid_1's rmse: 0.161351\n"
     ]
    },
    {
     "name": "stderr",
     "output_type": "stream",
     "text": [
      "num_leaves, val_score: 0.158816:  80%|#######################################2         | 16/20 [00:02<00:00,  5.20it/s][I 2020-10-23 12:51:22,813] Trial 22 finished with value: 0.16135051684051022 and parameters: {'num_leaves': 89}. Best is trial 8 with value: 0.15881619569965555.\n",
      "num_leaves, val_score: 0.158816:  80%|#######################################2         | 16/20 [00:02<00:00,  5.20it/s]"
     ]
    },
    {
     "name": "stdout",
     "output_type": "stream",
     "text": [
      "Training until validation scores don't improve for 10 rounds\n",
      "[10]\ttraining's rmse: 0.183746\tvalid_1's rmse: 0.246491\n",
      "[20]\ttraining's rmse: 0.114523\tvalid_1's rmse: 0.190303\n",
      "[30]\ttraining's rmse: 0.0880407\tvalid_1's rmse: 0.172473\n",
      "[40]\ttraining's rmse: 0.0751168\tvalid_1's rmse: 0.165388\n",
      "[50]\ttraining's rmse: 0.0668188\tvalid_1's rmse: 0.162163\n",
      "[60]\ttraining's rmse: 0.0605565\tvalid_1's rmse: 0.161401\n",
      "[70]\ttraining's rmse: 0.0554825\tvalid_1's rmse: 0.160485\n",
      "[80]\ttraining's rmse: 0.0509863\tvalid_1's rmse: 0.160042\n",
      "[90]\ttraining's rmse: 0.0471133\tvalid_1's rmse: 0.159859\n",
      "[100]\ttraining's rmse: 0.0435148\tvalid_1's rmse: 0.160048\n",
      "Early stopping, best iteration is:\n",
      "[91]\ttraining's rmse: 0.0467331\tvalid_1's rmse: 0.159676\n"
     ]
    },
    {
     "name": "stderr",
     "output_type": "stream",
     "text": [
      "num_leaves, val_score: 0.158816:  85%|#########################################6       | 17/20 [00:02<00:00,  5.52it/s][I 2020-10-23 12:51:22,967] Trial 23 finished with value: 0.15967582113550624 and parameters: {'num_leaves': 27}. Best is trial 8 with value: 0.15881619569965555.\n",
      "num_leaves, val_score: 0.158816:  85%|#########################################6       | 17/20 [00:02<00:00,  5.52it/s]"
     ]
    },
    {
     "name": "stdout",
     "output_type": "stream",
     "text": [
      "Training until validation scores don't improve for 10 rounds\n",
      "[10]\ttraining's rmse: 0.179371\tvalid_1's rmse: 0.245595\n",
      "[20]\ttraining's rmse: 0.109395\tvalid_1's rmse: 0.189808\n",
      "[30]\ttraining's rmse: 0.0825083\tvalid_1's rmse: 0.172563\n",
      "[40]\ttraining's rmse: 0.0688161\tvalid_1's rmse: 0.16703\n",
      "[50]\ttraining's rmse: 0.0602336\tvalid_1's rmse: 0.164618\n",
      "[60]\ttraining's rmse: 0.053595\tvalid_1's rmse: 0.162882\n",
      "[70]\ttraining's rmse: 0.0479844\tvalid_1's rmse: 0.162049\n",
      "[80]\ttraining's rmse: 0.0432676\tvalid_1's rmse: 0.161782\n",
      "[90]\ttraining's rmse: 0.0393656\tvalid_1's rmse: 0.161476\n",
      "[100]\ttraining's rmse: 0.035982\tvalid_1's rmse: 0.161554\n",
      "Early stopping, best iteration is:\n",
      "[91]\ttraining's rmse: 0.0390758\tvalid_1's rmse: 0.161351\n"
     ]
    },
    {
     "name": "stderr",
     "output_type": "stream",
     "text": [
      "num_leaves, val_score: 0.158816:  90%|############################################1    | 18/20 [00:03<00:00,  5.33it/s][I 2020-10-23 12:51:23,169] Trial 24 finished with value: 0.16135051684051022 and parameters: {'num_leaves': 201}. Best is trial 8 with value: 0.15881619569965555.\n",
      "num_leaves, val_score: 0.158816:  90%|############################################1    | 18/20 [00:03<00:00,  5.33it/s]"
     ]
    },
    {
     "name": "stdout",
     "output_type": "stream",
     "text": [
      "Training until validation scores don't improve for 10 rounds\n",
      "[10]\ttraining's rmse: 0.179371\tvalid_1's rmse: 0.245595\n",
      "[20]\ttraining's rmse: 0.109395\tvalid_1's rmse: 0.189808\n",
      "[30]\ttraining's rmse: 0.0825083\tvalid_1's rmse: 0.172563\n",
      "[40]\ttraining's rmse: 0.0688161\tvalid_1's rmse: 0.16703\n",
      "[50]\ttraining's rmse: 0.0602336\tvalid_1's rmse: 0.164618\n",
      "[60]\ttraining's rmse: 0.053595\tvalid_1's rmse: 0.162882\n",
      "[70]\ttraining's rmse: 0.0479844\tvalid_1's rmse: 0.162049\n",
      "[80]\ttraining's rmse: 0.0432676\tvalid_1's rmse: 0.161782\n",
      "[90]\ttraining's rmse: 0.0393656\tvalid_1's rmse: 0.161476\n",
      "[100]\ttraining's rmse: 0.035982\tvalid_1's rmse: 0.161554\n",
      "Early stopping, best iteration is:\n",
      "[91]\ttraining's rmse: 0.0390758\tvalid_1's rmse: 0.161351\n"
     ]
    },
    {
     "name": "stderr",
     "output_type": "stream",
     "text": [
      "num_leaves, val_score: 0.158816:  95%|##############################################5  | 19/20 [00:03<00:00,  4.97it/s][I 2020-10-23 12:51:23,401] Trial 25 finished with value: 0.16135051684051022 and parameters: {'num_leaves': 247}. Best is trial 8 with value: 0.15881619569965555.\n",
      "num_leaves, val_score: 0.158816:  95%|##############################################5  | 19/20 [00:03<00:00,  4.97it/s]"
     ]
    },
    {
     "name": "stdout",
     "output_type": "stream",
     "text": [
      "Training until validation scores don't improve for 10 rounds\n",
      "[10]\ttraining's rmse: 0.179371\tvalid_1's rmse: 0.245595\n",
      "[20]\ttraining's rmse: 0.109395\tvalid_1's rmse: 0.189808\n",
      "[30]\ttraining's rmse: 0.0825083\tvalid_1's rmse: 0.172563\n",
      "[40]\ttraining's rmse: 0.0688161\tvalid_1's rmse: 0.16703\n",
      "[50]\ttraining's rmse: 0.0602336\tvalid_1's rmse: 0.164618\n",
      "[60]\ttraining's rmse: 0.053595\tvalid_1's rmse: 0.162882\n",
      "[70]\ttraining's rmse: 0.0479844\tvalid_1's rmse: 0.162049\n",
      "[80]\ttraining's rmse: 0.0432676\tvalid_1's rmse: 0.161782\n",
      "[90]\ttraining's rmse: 0.0393656\tvalid_1's rmse: 0.161476\n",
      "[100]\ttraining's rmse: 0.035982\tvalid_1's rmse: 0.161554\n",
      "Early stopping, best iteration is:\n",
      "[91]\ttraining's rmse: 0.0390758\tvalid_1's rmse: 0.161351\n"
     ]
    },
    {
     "name": "stderr",
     "output_type": "stream",
     "text": [
      "num_leaves, val_score: 0.158816: 100%|#################################################| 20/20 [00:03<00:00,  4.94it/s][I 2020-10-23 12:51:23,608] Trial 26 finished with value: 0.16135051684051022 and parameters: {'num_leaves': 109}. Best is trial 8 with value: 0.15881619569965555.\n",
      "num_leaves, val_score: 0.158816: 100%|#################################################| 20/20 [00:03<00:00,  5.57it/s]\n",
      "bagging, val_score: 0.158816:   0%|                                                             | 0/10 [00:00<?, ?it/s]"
     ]
    },
    {
     "name": "stdout",
     "output_type": "stream",
     "text": [
      "Training until validation scores don't improve for 10 rounds\n",
      "[10]\ttraining's rmse: 0.198466\tvalid_1's rmse: 0.254478\n",
      "[20]\ttraining's rmse: 0.135096\tvalid_1's rmse: 0.196806\n",
      "[30]\ttraining's rmse: 0.111966\tvalid_1's rmse: 0.178578\n",
      "[40]\ttraining's rmse: 0.101011\tvalid_1's rmse: 0.172791\n",
      "[50]\ttraining's rmse: 0.0943231\tvalid_1's rmse: 0.169955\n",
      "[60]\ttraining's rmse: 0.0888912\tvalid_1's rmse: 0.169281\n",
      "[70]\ttraining's rmse: 0.0847437\tvalid_1's rmse: 0.168765\n",
      "[80]\ttraining's rmse: 0.081129\tvalid_1's rmse: 0.168397\n",
      "[90]\ttraining's rmse: 0.0781161\tvalid_1's rmse: 0.166611\n",
      "[100]\ttraining's rmse: 0.0753676\tvalid_1's rmse: 0.167218\n",
      "Early stopping, best iteration is:\n",
      "[90]\ttraining's rmse: 0.0781161\tvalid_1's rmse: 0.166611\n"
     ]
    },
    {
     "name": "stderr",
     "output_type": "stream",
     "text": [
      "bagging, val_score: 0.158816:  10%|#####3                                               | 1/10 [00:00<00:01,  7.75it/s][I 2020-10-23 12:51:23,746] Trial 27 finished with value: 0.16661064942583448 and parameters: {'bagging_fraction': 0.41236174936919284, 'bagging_freq': 3}. Best is trial 27 with value: 0.16661064942583448.\n",
      "bagging, val_score: 0.158816:  10%|#####3                                               | 1/10 [00:00<00:01,  7.75it/s]"
     ]
    },
    {
     "name": "stdout",
     "output_type": "stream",
     "text": [
      "Training until validation scores don't improve for 10 rounds\n",
      "[10]\ttraining's rmse: 0.18441\tvalid_1's rmse: 0.247165\n",
      "[20]\ttraining's rmse: 0.115016\tvalid_1's rmse: 0.187827\n",
      "[30]\ttraining's rmse: 0.0886749\tvalid_1's rmse: 0.168636\n",
      "[40]\ttraining's rmse: 0.0758728\tvalid_1's rmse: 0.162447\n",
      "[50]\ttraining's rmse: 0.067823\tvalid_1's rmse: 0.160983\n",
      "[60]\ttraining's rmse: 0.0612503\tvalid_1's rmse: 0.159046\n",
      "[70]\ttraining's rmse: 0.05633\tvalid_1's rmse: 0.158538\n",
      "[80]\ttraining's rmse: 0.0519512\tvalid_1's rmse: 0.158452\n",
      "Early stopping, best iteration is:\n",
      "[74]\ttraining's rmse: 0.0545805\tvalid_1's rmse: 0.158264\n"
     ]
    },
    {
     "name": "stderr",
     "output_type": "stream",
     "text": [
      "bagging, val_score: 0.158264:  20%|##########6                                          | 2/10 [00:00<00:01,  7.33it/s][I 2020-10-23 12:51:23,899] Trial 28 finished with value: 0.15826365549574103 and parameters: {'bagging_fraction': 0.9495555580206898, 'bagging_freq': 7}. Best is trial 28 with value: 0.15826365549574103.\n",
      "bagging, val_score: 0.158264:  20%|##########6                                          | 2/10 [00:00<00:01,  7.33it/s]"
     ]
    },
    {
     "name": "stdout",
     "output_type": "stream",
     "text": [
      "Training until validation scores don't improve for 10 rounds\n",
      "[10]\ttraining's rmse: 0.183309\tvalid_1's rmse: 0.24654\n",
      "[20]\ttraining's rmse: 0.113782\tvalid_1's rmse: 0.187225\n",
      "[30]\ttraining's rmse: 0.0876813\tvalid_1's rmse: 0.17071\n",
      "[40]\ttraining's rmse: 0.0747993\tvalid_1's rmse: 0.164333\n",
      "[50]\ttraining's rmse: 0.0659922\tvalid_1's rmse: 0.162443\n",
      "[60]\ttraining's rmse: 0.0595334\tvalid_1's rmse: 0.161555\n",
      "[70]\ttraining's rmse: 0.0547159\tvalid_1's rmse: 0.161362\n",
      "[80]\ttraining's rmse: 0.0502598\tvalid_1's rmse: 0.16125\n",
      "[90]\ttraining's rmse: 0.0463407\tvalid_1's rmse: 0.160897\n",
      "[100]\ttraining's rmse: 0.0429282\tvalid_1's rmse: 0.161005\n",
      "Early stopping, best iteration is:\n",
      "[92]\ttraining's rmse: 0.0456363\tvalid_1's rmse: 0.160829\n"
     ]
    },
    {
     "name": "stderr",
     "output_type": "stream",
     "text": [
      "bagging, val_score: 0.158264:  30%|###############9                                     | 3/10 [00:00<00:01,  6.78it/s][I 2020-10-23 12:51:24,072] Trial 29 finished with value: 0.16082858040739612 and parameters: {'bagging_fraction': 0.9886586357908993, 'bagging_freq': 7}. Best is trial 28 with value: 0.15826365549574103.\n",
      "bagging, val_score: 0.158264:  30%|###############9                                     | 3/10 [00:00<00:01,  6.78it/s]"
     ]
    },
    {
     "name": "stdout",
     "output_type": "stream",
     "text": [
      "Training until validation scores don't improve for 10 rounds\n",
      "[10]\ttraining's rmse: 0.18339\tvalid_1's rmse: 0.246653\n",
      "[20]\ttraining's rmse: 0.113987\tvalid_1's rmse: 0.18717\n",
      "[30]\ttraining's rmse: 0.08743\tvalid_1's rmse: 0.171078\n",
      "[40]\ttraining's rmse: 0.0743634\tvalid_1's rmse: 0.164295\n",
      "[50]\ttraining's rmse: 0.0658389\tvalid_1's rmse: 0.161361\n",
      "[60]\ttraining's rmse: 0.0598908\tvalid_1's rmse: 0.160463\n",
      "[70]\ttraining's rmse: 0.0546737\tvalid_1's rmse: 0.160319\n",
      "Early stopping, best iteration is:\n",
      "[63]\ttraining's rmse: 0.0581384\tvalid_1's rmse: 0.159967\n"
     ]
    },
    {
     "name": "stderr",
     "output_type": "stream",
     "text": [
      "bagging, val_score: 0.158264:  40%|#####################2                               | 4/10 [00:00<00:00,  6.93it/s][I 2020-10-23 12:51:24,210] Trial 30 finished with value: 0.1599672093145379 and parameters: {'bagging_fraction': 0.991605100089246, 'bagging_freq': 7}. Best is trial 28 with value: 0.15826365549574103.\n",
      "bagging, val_score: 0.158264:  40%|#####################2                               | 4/10 [00:00<00:00,  6.93it/s]"
     ]
    },
    {
     "name": "stdout",
     "output_type": "stream",
     "text": [
      "Training until validation scores don't improve for 10 rounds\n",
      "[10]\ttraining's rmse: 0.187361\tvalid_1's rmse: 0.247206\n",
      "[20]\ttraining's rmse: 0.120205\tvalid_1's rmse: 0.188893\n",
      "[30]\ttraining's rmse: 0.0958667\tvalid_1's rmse: 0.171491\n",
      "[40]\ttraining's rmse: 0.0833046\tvalid_1's rmse: 0.166082\n",
      "[50]\ttraining's rmse: 0.0745689\tvalid_1's rmse: 0.164166\n",
      "[60]\ttraining's rmse: 0.0684322\tvalid_1's rmse: 0.164296\n",
      "[70]\ttraining's rmse: 0.0632733\tvalid_1's rmse: 0.162828\n",
      "[80]\ttraining's rmse: 0.0585269\tvalid_1's rmse: 0.162994\n",
      "Early stopping, best iteration is:\n",
      "[72]\ttraining's rmse: 0.0619828\tvalid_1's rmse: 0.16246\n"
     ]
    },
    {
     "name": "stderr",
     "output_type": "stream",
     "text": [
      "bagging, val_score: 0.158264:  50%|##########################5                          | 5/10 [00:00<00:00,  6.98it/s][I 2020-10-23 12:51:24,351] Trial 31 finished with value: 0.16246029197444808 and parameters: {'bagging_fraction': 0.7315953814034695, 'bagging_freq': 5}. Best is trial 28 with value: 0.15826365549574103.\n",
      "bagging, val_score: 0.158264:  50%|##########################5                          | 5/10 [00:00<00:00,  6.98it/s]"
     ]
    },
    {
     "name": "stdout",
     "output_type": "stream",
     "text": [
      "Training until validation scores don't improve for 10 rounds\n",
      "[10]\ttraining's rmse: 0.186544\tvalid_1's rmse: 0.249557\n",
      "[20]\ttraining's rmse: 0.117677\tvalid_1's rmse: 0.192212\n",
      "[30]\ttraining's rmse: 0.0922272\tvalid_1's rmse: 0.173634\n",
      "[40]\ttraining's rmse: 0.0799328\tvalid_1's rmse: 0.16735\n",
      "[50]\ttraining's rmse: 0.072117\tvalid_1's rmse: 0.166716\n",
      "[60]\ttraining's rmse: 0.0663919\tvalid_1's rmse: 0.166087\n",
      "[70]\ttraining's rmse: 0.0616867\tvalid_1's rmse: 0.165377\n",
      "[80]\ttraining's rmse: 0.0575282\tvalid_1's rmse: 0.165645\n",
      "Early stopping, best iteration is:\n",
      "[72]\ttraining's rmse: 0.0607866\tvalid_1's rmse: 0.165247\n"
     ]
    },
    {
     "name": "stderr",
     "output_type": "stream",
     "text": [
      "bagging, val_score: 0.158264:  60%|###############################8                     | 6/10 [00:00<00:00,  7.07it/s][I 2020-10-23 12:51:24,488] Trial 32 finished with value: 0.16524680489308732 and parameters: {'bagging_fraction': 0.7730421661251267, 'bagging_freq': 1}. Best is trial 28 with value: 0.15826365549574103.\n",
      "bagging, val_score: 0.158264:  60%|###############################8                     | 6/10 [00:00<00:00,  7.07it/s]"
     ]
    },
    {
     "name": "stdout",
     "output_type": "stream",
     "text": [
      "Training until validation scores don't improve for 10 rounds\n",
      "[10]\ttraining's rmse: 0.195608\tvalid_1's rmse: 0.253161\n",
      "[20]\ttraining's rmse: 0.130942\tvalid_1's rmse: 0.195291\n",
      "[30]\ttraining's rmse: 0.10805\tvalid_1's rmse: 0.177574\n",
      "[40]\ttraining's rmse: 0.0974015\tvalid_1's rmse: 0.172281\n",
      "[50]\ttraining's rmse: 0.0903719\tvalid_1's rmse: 0.169105\n",
      "[60]\ttraining's rmse: 0.0850995\tvalid_1's rmse: 0.168976\n",
      "[70]\ttraining's rmse: 0.0801653\tvalid_1's rmse: 0.167981\n",
      "[80]\ttraining's rmse: 0.0759669\tvalid_1's rmse: 0.167667\n",
      "[90]\ttraining's rmse: 0.0722733\tvalid_1's rmse: 0.165746\n",
      "[100]\ttraining's rmse: 0.0688599\tvalid_1's rmse: 0.166934\n",
      "Early stopping, best iteration is:\n",
      "[90]\ttraining's rmse: 0.0722733\tvalid_1's rmse: 0.165746\n"
     ]
    },
    {
     "name": "stderr",
     "output_type": "stream",
     "text": [
      "bagging, val_score: 0.158264:  70%|#####################################                | 7/10 [00:01<00:00,  7.12it/s][I 2020-10-23 12:51:24,625] Trial 33 finished with value: 0.1657457993792708 and parameters: {'bagging_fraction': 0.4859107728216634, 'bagging_freq': 5}. Best is trial 28 with value: 0.15826365549574103.\n",
      "bagging, val_score: 0.158264:  70%|#####################################                | 7/10 [00:01<00:00,  7.12it/s]"
     ]
    },
    {
     "name": "stdout",
     "output_type": "stream",
     "text": [
      "Training until validation scores don't improve for 10 rounds\n",
      "[10]\ttraining's rmse: 0.185507\tvalid_1's rmse: 0.246179\n",
      "[20]\ttraining's rmse: 0.1172\tvalid_1's rmse: 0.187514\n",
      "[30]\ttraining's rmse: 0.091465\tvalid_1's rmse: 0.169778\n",
      "[40]\ttraining's rmse: 0.0780706\tvalid_1's rmse: 0.165181\n",
      "[50]\ttraining's rmse: 0.0701589\tvalid_1's rmse: 0.162952\n",
      "[60]\ttraining's rmse: 0.0640808\tvalid_1's rmse: 0.161652\n",
      "[70]\ttraining's rmse: 0.0589624\tvalid_1's rmse: 0.161214\n",
      "[80]\ttraining's rmse: 0.0544738\tvalid_1's rmse: 0.161242\n",
      "[90]\ttraining's rmse: 0.0504063\tvalid_1's rmse: 0.161063\n",
      "Early stopping, best iteration is:\n",
      "[88]\ttraining's rmse: 0.0511562\tvalid_1's rmse: 0.160798\n"
     ]
    },
    {
     "name": "stderr",
     "output_type": "stream",
     "text": [
      "bagging, val_score: 0.158264:  80%|##########################################4          | 8/10 [00:01<00:00,  6.62it/s][I 2020-10-23 12:51:24,801] Trial 34 finished with value: 0.16079806268710148 and parameters: {'bagging_fraction': 0.8635809028872585, 'bagging_freq': 7}. Best is trial 28 with value: 0.15826365549574103.\n",
      "bagging, val_score: 0.158264:  80%|##########################################4          | 8/10 [00:01<00:00,  6.62it/s]"
     ]
    },
    {
     "name": "stdout",
     "output_type": "stream",
     "text": [
      "Training until validation scores don't improve for 10 rounds\n",
      "[10]\ttraining's rmse: 0.190202\tvalid_1's rmse: 0.246411\n",
      "[20]\ttraining's rmse: 0.126049\tvalid_1's rmse: 0.190405\n",
      "[30]\ttraining's rmse: 0.101106\tvalid_1's rmse: 0.17334\n",
      "[40]\ttraining's rmse: 0.0893626\tvalid_1's rmse: 0.168356\n",
      "[50]\ttraining's rmse: 0.0816054\tvalid_1's rmse: 0.165421\n",
      "[60]\ttraining's rmse: 0.075745\tvalid_1's rmse: 0.164706\n",
      "[70]\ttraining's rmse: 0.0713567\tvalid_1's rmse: 0.164199\n",
      "[80]\ttraining's rmse: 0.0667103\tvalid_1's rmse: 0.164184\n",
      "Early stopping, best iteration is:\n",
      "[73]\ttraining's rmse: 0.0697637\tvalid_1's rmse: 0.164015\n"
     ]
    },
    {
     "name": "stderr",
     "output_type": "stream",
     "text": [
      "bagging, val_score: 0.158264:  90%|###############################################7     | 9/10 [00:01<00:00,  6.58it/s][I 2020-10-23 12:51:24,956] Trial 35 finished with value: 0.16401513169097218 and parameters: {'bagging_fraction': 0.5775212360030505, 'bagging_freq': 3}. Best is trial 28 with value: 0.15826365549574103.\n",
      "bagging, val_score: 0.158264:  90%|###############################################7     | 9/10 [00:01<00:00,  6.58it/s]"
     ]
    },
    {
     "name": "stdout",
     "output_type": "stream",
     "text": [
      "Training until validation scores don't improve for 10 rounds\n",
      "[10]\ttraining's rmse: 0.185985\tvalid_1's rmse: 0.249015\n",
      "[20]\ttraining's rmse: 0.11637\tvalid_1's rmse: 0.19012\n",
      "[30]\ttraining's rmse: 0.0907765\tvalid_1's rmse: 0.173109\n",
      "[40]\ttraining's rmse: 0.07818\tvalid_1's rmse: 0.166809\n",
      "[50]\ttraining's rmse: 0.0696376\tvalid_1's rmse: 0.163341\n",
      "[60]\ttraining's rmse: 0.0633548\tvalid_1's rmse: 0.163186\n",
      "Early stopping, best iteration is:\n",
      "[53]\ttraining's rmse: 0.0676863\tvalid_1's rmse: 0.162651\n"
     ]
    },
    {
     "name": "stderr",
     "output_type": "stream",
     "text": [
      "bagging, val_score: 0.158264: 100%|####################################################| 10/10 [00:01<00:00,  6.99it/s][I 2020-10-23 12:51:25,078] Trial 36 finished with value: 0.16265063276427502 and parameters: {'bagging_fraction': 0.8844555418122434, 'bagging_freq': 5}. Best is trial 28 with value: 0.15826365549574103.\n",
      "bagging, val_score: 0.158264: 100%|####################################################| 10/10 [00:01<00:00,  6.83it/s]\n",
      "feature_fraction_stage2, val_score: 0.158264:   0%|                                              | 0/6 [00:00<?, ?it/s]"
     ]
    },
    {
     "name": "stdout",
     "output_type": "stream",
     "text": [
      "Training until validation scores don't improve for 10 rounds\n",
      "[10]\ttraining's rmse: 0.184097\tvalid_1's rmse: 0.247065\n",
      "[20]\ttraining's rmse: 0.113597\tvalid_1's rmse: 0.188428\n",
      "[30]\ttraining's rmse: 0.0876062\tvalid_1's rmse: 0.170473\n",
      "[40]\ttraining's rmse: 0.074473\tvalid_1's rmse: 0.163604\n",
      "[50]\ttraining's rmse: 0.0665047\tvalid_1's rmse: 0.162604\n",
      "[60]\ttraining's rmse: 0.0598151\tvalid_1's rmse: 0.160559\n",
      "Early stopping, best iteration is:\n",
      "[59]\ttraining's rmse: 0.0603961\tvalid_1's rmse: 0.160328\n"
     ]
    },
    {
     "name": "stderr",
     "output_type": "stream",
     "text": [
      "feature_fraction_stage2, val_score: 0.158264:  17%|######3                               | 1/6 [00:00<00:00,  8.13it/s][I 2020-10-23 12:51:25,209] Trial 37 finished with value: 0.16032757241775972 and parameters: {'feature_fraction': 0.58}. Best is trial 37 with value: 0.16032757241775972.\n",
      "feature_fraction_stage2, val_score: 0.158264:  17%|######3                               | 1/6 [00:00<00:00,  8.13it/s]"
     ]
    },
    {
     "name": "stdout",
     "output_type": "stream",
     "text": [
      "Training until validation scores don't improve for 10 rounds\n",
      "[10]\ttraining's rmse: 0.184274\tvalid_1's rmse: 0.247126\n",
      "[20]\ttraining's rmse: 0.115078\tvalid_1's rmse: 0.189835\n",
      "[30]\ttraining's rmse: 0.0885892\tvalid_1's rmse: 0.171257\n",
      "[40]\ttraining's rmse: 0.0757342\tvalid_1's rmse: 0.16543\n",
      "[50]\ttraining's rmse: 0.067654\tvalid_1's rmse: 0.163367\n",
      "[60]\ttraining's rmse: 0.0611389\tvalid_1's rmse: 0.162156\n",
      "[70]\ttraining's rmse: 0.0559849\tvalid_1's rmse: 0.16214\n",
      "Early stopping, best iteration is:\n",
      "[67]\ttraining's rmse: 0.0573588\tvalid_1's rmse: 0.161768\n"
     ]
    },
    {
     "name": "stderr",
     "output_type": "stream",
     "text": [
      "feature_fraction_stage2, val_score: 0.158264:  33%|############6                         | 2/6 [00:00<00:00,  7.79it/s][I 2020-10-23 12:51:25,349] Trial 38 finished with value: 0.161768444308929 and parameters: {'feature_fraction': 0.516}. Best is trial 37 with value: 0.16032757241775972.\n",
      "feature_fraction_stage2, val_score: 0.158264:  33%|############6                         | 2/6 [00:00<00:00,  7.79it/s]"
     ]
    },
    {
     "name": "stdout",
     "output_type": "stream",
     "text": [
      "Training until validation scores don't improve for 10 rounds\n",
      "[10]\ttraining's rmse: 0.185248\tvalid_1's rmse: 0.248845\n",
      "[20]\ttraining's rmse: 0.115466\tvalid_1's rmse: 0.187926\n",
      "[30]\ttraining's rmse: 0.0889337\tvalid_1's rmse: 0.168605\n",
      "[40]\ttraining's rmse: 0.0758929\tvalid_1's rmse: 0.161629\n",
      "[50]\ttraining's rmse: 0.0676712\tvalid_1's rmse: 0.159713\n",
      "[60]\ttraining's rmse: 0.0611935\tvalid_1's rmse: 0.158255\n",
      "[70]\ttraining's rmse: 0.0558233\tvalid_1's rmse: 0.157341\n",
      "[80]\ttraining's rmse: 0.051473\tvalid_1's rmse: 0.157606\n",
      "Early stopping, best iteration is:\n",
      "[70]\ttraining's rmse: 0.0558233\tvalid_1's rmse: 0.157341\n"
     ]
    },
    {
     "name": "stderr",
     "output_type": "stream",
     "text": [
      "feature_fraction_stage2, val_score: 0.157341:  50%|###################                   | 3/6 [00:00<00:00,  7.62it/s][I 2020-10-23 12:51:25,488] Trial 39 finished with value: 0.15734058950653917 and parameters: {'feature_fraction': 0.484}. Best is trial 39 with value: 0.15734058950653917.\n",
      "feature_fraction_stage2, val_score: 0.157341:  50%|###################                   | 3/6 [00:00<00:00,  7.62it/s]"
     ]
    },
    {
     "name": "stdout",
     "output_type": "stream",
     "text": [
      "Training until validation scores don't improve for 10 rounds\n",
      "[10]\ttraining's rmse: 0.186729\tvalid_1's rmse: 0.248222\n",
      "[20]\ttraining's rmse: 0.116883\tvalid_1's rmse: 0.187051\n",
      "[30]\ttraining's rmse: 0.0898776\tvalid_1's rmse: 0.168876\n",
      "[40]\ttraining's rmse: 0.0768314\tvalid_1's rmse: 0.161659\n",
      "[50]\ttraining's rmse: 0.0688681\tvalid_1's rmse: 0.159865\n",
      "[60]\ttraining's rmse: 0.0623875\tvalid_1's rmse: 0.15746\n",
      "[70]\ttraining's rmse: 0.057125\tvalid_1's rmse: 0.156075\n",
      "Early stopping, best iteration is:\n",
      "[68]\ttraining's rmse: 0.0580119\tvalid_1's rmse: 0.156037\n"
     ]
    },
    {
     "name": "stderr",
     "output_type": "stream",
     "text": [
      "feature_fraction_stage2, val_score: 0.156037:  67%|#########################3            | 4/6 [00:00<00:00,  7.60it/s][I 2020-10-23 12:51:25,619] Trial 40 finished with value: 0.15603652544690708 and parameters: {'feature_fraction': 0.42}. Best is trial 40 with value: 0.15603652544690708.\n",
      "feature_fraction_stage2, val_score: 0.156037:  67%|#########################3            | 4/6 [00:00<00:00,  7.60it/s]"
     ]
    },
    {
     "name": "stdout",
     "output_type": "stream",
     "text": [
      "Training until validation scores don't improve for 10 rounds\n",
      "[10]\ttraining's rmse: 0.184443\tvalid_1's rmse: 0.24694\n",
      "[20]\ttraining's rmse: 0.114232\tvalid_1's rmse: 0.188271\n",
      "[30]\ttraining's rmse: 0.0877173\tvalid_1's rmse: 0.171008\n",
      "[40]\ttraining's rmse: 0.0748833\tvalid_1's rmse: 0.166016\n",
      "[50]\ttraining's rmse: 0.0665209\tvalid_1's rmse: 0.164147\n",
      "[60]\ttraining's rmse: 0.059932\tvalid_1's rmse: 0.162713\n",
      "[70]\ttraining's rmse: 0.0549147\tvalid_1's rmse: 0.161809\n",
      "[80]\ttraining's rmse: 0.0504068\tvalid_1's rmse: 0.161319\n",
      "[90]\ttraining's rmse: 0.0466053\tvalid_1's rmse: 0.161355\n",
      "Early stopping, best iteration is:\n",
      "[83]\ttraining's rmse: 0.0491392\tvalid_1's rmse: 0.160907\n"
     ]
    },
    {
     "name": "stderr",
     "output_type": "stream",
     "text": [
      "feature_fraction_stage2, val_score: 0.156037:  83%|###############################6      | 5/6 [00:00<00:00,  7.09it/s][I 2020-10-23 12:51:25,783] Trial 41 finished with value: 0.16090721242357028 and parameters: {'feature_fraction': 0.5479999999999999}. Best is trial 40 with value: 0.15603652544690708.\n",
      "feature_fraction_stage2, val_score: 0.156037:  83%|###############################6      | 5/6 [00:00<00:00,  7.09it/s]"
     ]
    },
    {
     "name": "stdout",
     "output_type": "stream",
     "text": [
      "Training until validation scores don't improve for 10 rounds\n",
      "[10]\ttraining's rmse: 0.185725\tvalid_1's rmse: 0.247295\n",
      "[20]\ttraining's rmse: 0.115896\tvalid_1's rmse: 0.186896\n",
      "[30]\ttraining's rmse: 0.0888707\tvalid_1's rmse: 0.169178\n",
      "[40]\ttraining's rmse: 0.0760464\tvalid_1's rmse: 0.162573\n",
      "[50]\ttraining's rmse: 0.0677378\tvalid_1's rmse: 0.160935\n",
      "[60]\ttraining's rmse: 0.0609533\tvalid_1's rmse: 0.159495\n",
      "[70]\ttraining's rmse: 0.0556601\tvalid_1's rmse: 0.158847\n",
      "[80]\ttraining's rmse: 0.0512399\tvalid_1's rmse: 0.159291\n",
      "Early stopping, best iteration is:\n",
      "[70]\ttraining's rmse: 0.0556601\tvalid_1's rmse: 0.158847\n"
     ]
    },
    {
     "name": "stderr",
     "output_type": "stream",
     "text": [
      "feature_fraction_stage2, val_score: 0.156037: 100%|######################################| 6/6 [00:00<00:00,  7.17it/s][I 2020-10-23 12:51:25,919] Trial 42 finished with value: 0.15884725398738478 and parameters: {'feature_fraction': 0.45199999999999996}. Best is trial 40 with value: 0.15603652544690708.\n",
      "feature_fraction_stage2, val_score: 0.156037: 100%|######################################| 6/6 [00:00<00:00,  7.17it/s]\n",
      "regularization_factors, val_score: 0.156037:   0%|                                              | 0/20 [00:00<?, ?it/s]"
     ]
    },
    {
     "name": "stdout",
     "output_type": "stream",
     "text": [
      "Training until validation scores don't improve for 10 rounds\n",
      "[10]\ttraining's rmse: 0.191458\tvalid_1's rmse: 0.252119\n",
      "[20]\ttraining's rmse: 0.122876\tvalid_1's rmse: 0.193558\n",
      "[30]\ttraining's rmse: 0.0965608\tvalid_1's rmse: 0.173885\n",
      "[40]\ttraining's rmse: 0.0838547\tvalid_1's rmse: 0.167422\n",
      "[50]\ttraining's rmse: 0.0763207\tvalid_1's rmse: 0.164194\n",
      "[60]\ttraining's rmse: 0.0702438\tvalid_1's rmse: 0.161946\n",
      "[70]\ttraining's rmse: 0.0655974\tvalid_1's rmse: 0.160809\n",
      "Early stopping, best iteration is:\n",
      "[69]\ttraining's rmse: 0.0661141\tvalid_1's rmse: 0.160755\n"
     ]
    },
    {
     "name": "stderr",
     "output_type": "stream",
     "text": [
      "regularization_factors, val_score: 0.156037:   5%|#9                                    | 1/20 [00:00<00:02,  6.94it/s][I 2020-10-23 12:51:26,071] Trial 43 finished with value: 0.1607551300606607 and parameters: {'lambda_l1': 0.40228002851925687, 'lambda_l2': 0.010144980675382602}. Best is trial 43 with value: 0.1607551300606607.\n",
      "regularization_factors, val_score: 0.156037:   5%|#9                                    | 1/20 [00:00<00:02,  6.94it/s]"
     ]
    },
    {
     "name": "stdout",
     "output_type": "stream",
     "text": [
      "Training until validation scores don't improve for 10 rounds\n",
      "[10]\ttraining's rmse: 0.186729\tvalid_1's rmse: 0.248222\n",
      "[20]\ttraining's rmse: 0.116883\tvalid_1's rmse: 0.187051\n",
      "[30]\ttraining's rmse: 0.0898776\tvalid_1's rmse: 0.168876\n",
      "[40]\ttraining's rmse: 0.0768314\tvalid_1's rmse: 0.161659\n",
      "[50]\ttraining's rmse: 0.0688681\tvalid_1's rmse: 0.159865\n",
      "[60]\ttraining's rmse: 0.0623875\tvalid_1's rmse: 0.15746\n",
      "[70]\ttraining's rmse: 0.057125\tvalid_1's rmse: 0.156075\n",
      "Early stopping, best iteration is:\n",
      "[68]\ttraining's rmse: 0.0580119\tvalid_1's rmse: 0.156037\n"
     ]
    },
    {
     "name": "stderr",
     "output_type": "stream",
     "text": [
      "regularization_factors, val_score: 0.156037:  10%|###8                                  | 2/20 [00:00<00:02,  6.96it/s][I 2020-10-23 12:51:26,215] Trial 44 finished with value: 0.15603652552534053 and parameters: {'lambda_l1': 1.5280257087577295e-08, 'lambda_l2': 1.4948359647903844e-08}. Best is trial 44 with value: 0.15603652552534053.\n",
      "regularization_factors, val_score: 0.156037:  10%|###8                                  | 2/20 [00:00<00:02,  6.96it/s]"
     ]
    },
    {
     "name": "stdout",
     "output_type": "stream",
     "text": [
      "Training until validation scores don't improve for 10 rounds\n",
      "[10]\ttraining's rmse: 0.186729\tvalid_1's rmse: 0.248222\n",
      "[20]\ttraining's rmse: 0.116883\tvalid_1's rmse: 0.187051\n",
      "[30]\ttraining's rmse: 0.0898776\tvalid_1's rmse: 0.168876\n",
      "[40]\ttraining's rmse: 0.0768314\tvalid_1's rmse: 0.161659\n",
      "[50]\ttraining's rmse: 0.0688681\tvalid_1's rmse: 0.159865\n",
      "[60]\ttraining's rmse: 0.0623875\tvalid_1's rmse: 0.15746\n",
      "[70]\ttraining's rmse: 0.057125\tvalid_1's rmse: 0.156075\n",
      "Early stopping, best iteration is:\n",
      "[68]\ttraining's rmse: 0.0580119\tvalid_1's rmse: 0.156037\n"
     ]
    },
    {
     "name": "stderr",
     "output_type": "stream",
     "text": [
      "regularization_factors, val_score: 0.156037:  15%|#####7                                | 3/20 [00:00<00:02,  7.00it/s][I 2020-10-23 12:51:26,355] Trial 45 finished with value: 0.15603652581091593 and parameters: {'lambda_l1': 7.169627415591462e-08, 'lambda_l2': 1.2336254316919235e-08}. Best is trial 44 with value: 0.15603652552534053.\n",
      "regularization_factors, val_score: 0.156037:  15%|#####7                                | 3/20 [00:00<00:02,  7.00it/s]"
     ]
    },
    {
     "name": "stdout",
     "output_type": "stream",
     "text": [
      "Training until validation scores don't improve for 10 rounds\n",
      "[10]\ttraining's rmse: 0.186729\tvalid_1's rmse: 0.248222\n",
      "[20]\ttraining's rmse: 0.116883\tvalid_1's rmse: 0.187051\n",
      "[30]\ttraining's rmse: 0.0898776\tvalid_1's rmse: 0.168876\n",
      "[40]\ttraining's rmse: 0.0768314\tvalid_1's rmse: 0.161659\n",
      "[50]\ttraining's rmse: 0.0688681\tvalid_1's rmse: 0.159865\n",
      "[60]\ttraining's rmse: 0.0623875\tvalid_1's rmse: 0.15746\n",
      "[70]\ttraining's rmse: 0.057125\tvalid_1's rmse: 0.156075\n",
      "Early stopping, best iteration is:\n",
      "[68]\ttraining's rmse: 0.0580119\tvalid_1's rmse: 0.156037\n"
     ]
    },
    {
     "name": "stderr",
     "output_type": "stream",
     "text": [
      "regularization_factors, val_score: 0.156037:  20%|#######6                              | 4/20 [00:00<00:02,  7.01it/s][I 2020-10-23 12:51:26,497] Trial 46 finished with value: 0.15603652550934405 and parameters: {'lambda_l1': 1.2890757615428746e-08, 'lambda_l2': 1.1124145993384268e-08}. Best is trial 46 with value: 0.15603652550934405.\n",
      "regularization_factors, val_score: 0.156037:  20%|#######6                              | 4/20 [00:00<00:02,  7.01it/s]"
     ]
    },
    {
     "name": "stdout",
     "output_type": "stream",
     "text": [
      "Training until validation scores don't improve for 10 rounds\n",
      "[10]\ttraining's rmse: 0.186729\tvalid_1's rmse: 0.248222\n",
      "[20]\ttraining's rmse: 0.116883\tvalid_1's rmse: 0.187051\n",
      "[30]\ttraining's rmse: 0.0898776\tvalid_1's rmse: 0.168876\n",
      "[40]\ttraining's rmse: 0.0768314\tvalid_1's rmse: 0.161659\n",
      "[50]\ttraining's rmse: 0.0688681\tvalid_1's rmse: 0.159865\n",
      "[60]\ttraining's rmse: 0.0623875\tvalid_1's rmse: 0.15746\n",
      "[70]\ttraining's rmse: 0.057125\tvalid_1's rmse: 0.156075\n",
      "Early stopping, best iteration is:\n",
      "[68]\ttraining's rmse: 0.0580119\tvalid_1's rmse: 0.156037\n"
     ]
    },
    {
     "name": "stderr",
     "output_type": "stream",
     "text": [
      "regularization_factors, val_score: 0.156037:  25%|#########5                            | 5/20 [00:00<00:02,  7.04it/s][I 2020-10-23 12:51:26,638] Trial 47 finished with value: 0.1560365255134371 and parameters: {'lambda_l1': 1.3716405800796281e-08, 'lambda_l2': 1.0516259882490257e-08}. Best is trial 46 with value: 0.15603652550934405.\n",
      "regularization_factors, val_score: 0.156037:  25%|#########5                            | 5/20 [00:00<00:02,  7.04it/s]"
     ]
    },
    {
     "name": "stdout",
     "output_type": "stream",
     "text": [
      "Training until validation scores don't improve for 10 rounds\n",
      "[10]\ttraining's rmse: 0.186729\tvalid_1's rmse: 0.248222\n",
      "[20]\ttraining's rmse: 0.116883\tvalid_1's rmse: 0.187051\n",
      "[30]\ttraining's rmse: 0.0898776\tvalid_1's rmse: 0.168876\n",
      "[40]\ttraining's rmse: 0.0768314\tvalid_1's rmse: 0.161659\n",
      "[50]\ttraining's rmse: 0.0688681\tvalid_1's rmse: 0.159865\n",
      "[60]\ttraining's rmse: 0.0623875\tvalid_1's rmse: 0.15746\n",
      "[70]\ttraining's rmse: 0.057125\tvalid_1's rmse: 0.156075\n",
      "Early stopping, best iteration is:\n",
      "[68]\ttraining's rmse: 0.0580119\tvalid_1's rmse: 0.156037\n"
     ]
    },
    {
     "name": "stderr",
     "output_type": "stream",
     "text": [
      "regularization_factors, val_score: 0.156037:  30%|###########4                          | 6/20 [00:00<00:01,  7.13it/s][I 2020-10-23 12:51:26,775] Trial 48 finished with value: 0.15603652551677888 and parameters: {'lambda_l1': 1.3832809484088856e-08, 'lambda_l2': 1.7789358958233265e-08}. Best is trial 46 with value: 0.15603652550934405.\n",
      "regularization_factors, val_score: 0.156037:  30%|###########4                          | 6/20 [00:00<00:01,  7.13it/s]"
     ]
    },
    {
     "name": "stdout",
     "output_type": "stream",
     "text": [
      "Training until validation scores don't improve for 10 rounds\n",
      "[10]\ttraining's rmse: 0.186729\tvalid_1's rmse: 0.248222\n",
      "[20]\ttraining's rmse: 0.116883\tvalid_1's rmse: 0.187051\n",
      "[30]\ttraining's rmse: 0.0898776\tvalid_1's rmse: 0.168876\n",
      "[40]\ttraining's rmse: 0.0768314\tvalid_1's rmse: 0.161659\n",
      "[50]\ttraining's rmse: 0.0688681\tvalid_1's rmse: 0.159865\n",
      "[60]\ttraining's rmse: 0.0623875\tvalid_1's rmse: 0.15746\n",
      "[70]\ttraining's rmse: 0.057125\tvalid_1's rmse: 0.156075\n",
      "Early stopping, best iteration is:\n",
      "[68]\ttraining's rmse: 0.0580119\tvalid_1's rmse: 0.156037\n"
     ]
    },
    {
     "name": "stderr",
     "output_type": "stream",
     "text": [
      "regularization_factors, val_score: 0.156037:  35%|#############3                        | 7/20 [00:01<00:02,  5.72it/s][I 2020-10-23 12:51:27,030] Trial 49 finished with value: 0.15603652550011365 and parameters: {'lambda_l1': 1.017982199993485e-08, 'lambda_l2': 1.1342623997000112e-08}. Best is trial 49 with value: 0.15603652550011365.\n",
      "regularization_factors, val_score: 0.156037:  35%|#############3                        | 7/20 [00:01<00:02,  5.72it/s]"
     ]
    },
    {
     "name": "stdout",
     "output_type": "stream",
     "text": [
      "Training until validation scores don't improve for 10 rounds\n",
      "[10]\ttraining's rmse: 0.186729\tvalid_1's rmse: 0.248222\n",
      "[20]\ttraining's rmse: 0.116883\tvalid_1's rmse: 0.187051\n",
      "[30]\ttraining's rmse: 0.0898776\tvalid_1's rmse: 0.168876\n",
      "[40]\ttraining's rmse: 0.0768314\tvalid_1's rmse: 0.161659\n",
      "[50]\ttraining's rmse: 0.0688681\tvalid_1's rmse: 0.159865\n",
      "[60]\ttraining's rmse: 0.0623875\tvalid_1's rmse: 0.15746\n",
      "[70]\ttraining's rmse: 0.057125\tvalid_1's rmse: 0.156075\n",
      "Early stopping, best iteration is:\n",
      "[68]\ttraining's rmse: 0.0580119\tvalid_1's rmse: 0.156037\n"
     ]
    },
    {
     "name": "stderr",
     "output_type": "stream",
     "text": [
      "regularization_factors, val_score: 0.156037:  40%|###############2                      | 8/20 [00:01<00:02,  5.80it/s][I 2020-10-23 12:51:27,196] Trial 50 finished with value: 0.1560365255042228 and parameters: {'lambda_l1': 1.2212629912028913e-08, 'lambda_l2': 1.0438356461502136e-08}. Best is trial 49 with value: 0.15603652550011365.\n",
      "regularization_factors, val_score: 0.156037:  40%|###############2                      | 8/20 [00:01<00:02,  5.80it/s]"
     ]
    },
    {
     "name": "stdout",
     "output_type": "stream",
     "text": [
      "Training until validation scores don't improve for 10 rounds\n",
      "[10]\ttraining's rmse: 0.186729\tvalid_1's rmse: 0.248222\n",
      "[20]\ttraining's rmse: 0.116883\tvalid_1's rmse: 0.187051\n",
      "[30]\ttraining's rmse: 0.0898776\tvalid_1's rmse: 0.168876\n",
      "[40]\ttraining's rmse: 0.0768314\tvalid_1's rmse: 0.161659\n",
      "[50]\ttraining's rmse: 0.0688681\tvalid_1's rmse: 0.159865\n",
      "[60]\ttraining's rmse: 0.0623875\tvalid_1's rmse: 0.15746\n",
      "[70]\ttraining's rmse: 0.057125\tvalid_1's rmse: 0.156075\n",
      "Early stopping, best iteration is:\n",
      "[68]\ttraining's rmse: 0.0580119\tvalid_1's rmse: 0.156037\n"
     ]
    },
    {
     "name": "stderr",
     "output_type": "stream",
     "text": [
      "regularization_factors, val_score: 0.156037:  45%|#################1                    | 9/20 [00:01<00:01,  6.07it/s][I 2020-10-23 12:51:27,342] Trial 51 finished with value: 0.15603652550552674 and parameters: {'lambda_l1': 1.084551053041336e-08, 'lambda_l2': 1.6507073297980656e-08}. Best is trial 49 with value: 0.15603652550011365.\n",
      "regularization_factors, val_score: 0.156037:  45%|#################1                    | 9/20 [00:01<00:01,  6.07it/s]"
     ]
    },
    {
     "name": "stdout",
     "output_type": "stream",
     "text": [
      "Training until validation scores don't improve for 10 rounds\n",
      "[10]\ttraining's rmse: 0.186729\tvalid_1's rmse: 0.248222\n",
      "[20]\ttraining's rmse: 0.116883\tvalid_1's rmse: 0.187051\n",
      "[30]\ttraining's rmse: 0.0898776\tvalid_1's rmse: 0.168876\n",
      "[40]\ttraining's rmse: 0.0768314\tvalid_1's rmse: 0.161659\n",
      "[50]\ttraining's rmse: 0.0688681\tvalid_1's rmse: 0.159865\n",
      "[60]\ttraining's rmse: 0.0623875\tvalid_1's rmse: 0.15746\n",
      "[70]\ttraining's rmse: 0.057125\tvalid_1's rmse: 0.156075\n",
      "Early stopping, best iteration is:\n",
      "[68]\ttraining's rmse: 0.0580119\tvalid_1's rmse: 0.156037\n"
     ]
    },
    {
     "name": "stderr",
     "output_type": "stream",
     "text": [
      "regularization_factors, val_score: 0.156037:  50%|##################5                  | 10/20 [00:01<00:01,  6.39it/s][I 2020-10-23 12:51:27,480] Trial 52 finished with value: 0.15603652552195135 and parameters: {'lambda_l1': 1.4540386479830482e-08, 'lambda_l2': 1.2171787320033765e-08}. Best is trial 49 with value: 0.15603652550011365.\n",
      "regularization_factors, val_score: 0.156037:  50%|##################5                  | 10/20 [00:01<00:01,  6.39it/s]"
     ]
    },
    {
     "name": "stdout",
     "output_type": "stream",
     "text": [
      "Training until validation scores don't improve for 10 rounds\n",
      "[10]\ttraining's rmse: 0.186729\tvalid_1's rmse: 0.248222\n",
      "[20]\ttraining's rmse: 0.116883\tvalid_1's rmse: 0.187051\n",
      "[30]\ttraining's rmse: 0.0898776\tvalid_1's rmse: 0.168876\n",
      "[40]\ttraining's rmse: 0.0768314\tvalid_1's rmse: 0.161659\n",
      "[50]\ttraining's rmse: 0.0688681\tvalid_1's rmse: 0.159865\n",
      "[60]\ttraining's rmse: 0.0623875\tvalid_1's rmse: 0.15746\n",
      "[70]\ttraining's rmse: 0.057125\tvalid_1's rmse: 0.156075\n",
      "Early stopping, best iteration is:\n",
      "[68]\ttraining's rmse: 0.0580119\tvalid_1's rmse: 0.156037\n"
     ]
    },
    {
     "name": "stderr",
     "output_type": "stream",
     "text": [
      "regularization_factors, val_score: 0.156037:  55%|####################3                | 11/20 [00:01<00:01,  6.46it/s][I 2020-10-23 12:51:27,631] Trial 53 finished with value: 0.15603652556842154 and parameters: {'lambda_l1': 2.256407490542432e-08, 'lambda_l2': 1.0269444608696825e-08}. Best is trial 49 with value: 0.15603652550011365.\n",
      "regularization_factors, val_score: 0.156037:  55%|####################3                | 11/20 [00:01<00:01,  6.46it/s]"
     ]
    },
    {
     "name": "stdout",
     "output_type": "stream",
     "text": [
      "Training until validation scores don't improve for 10 rounds\n",
      "[10]\ttraining's rmse: 0.186729\tvalid_1's rmse: 0.248222\n",
      "[20]\ttraining's rmse: 0.116883\tvalid_1's rmse: 0.187051\n",
      "[30]\ttraining's rmse: 0.0898776\tvalid_1's rmse: 0.168876\n",
      "[40]\ttraining's rmse: 0.0768314\tvalid_1's rmse: 0.161659\n",
      "[50]\ttraining's rmse: 0.0688953\tvalid_1's rmse: 0.159662\n",
      "[60]\ttraining's rmse: 0.0621714\tvalid_1's rmse: 0.157567\n",
      "[70]\ttraining's rmse: 0.0569176\tvalid_1's rmse: 0.157179\n",
      "[80]\ttraining's rmse: 0.0523442\tvalid_1's rmse: 0.15687\n",
      "[90]\ttraining's rmse: 0.0484622\tvalid_1's rmse: 0.156825\n",
      "[100]\ttraining's rmse: 0.0449032\tvalid_1's rmse: 0.156968\n",
      "Early stopping, best iteration is:\n",
      "[97]\ttraining's rmse: 0.0459214\tvalid_1's rmse: 0.156434\n"
     ]
    },
    {
     "name": "stderr",
     "output_type": "stream",
     "text": [
      "regularization_factors, val_score: 0.156037:  60%|######################2              | 12/20 [00:01<00:01,  6.04it/s][I 2020-10-23 12:51:27,822] Trial 54 finished with value: 0.15643379313312422 and parameters: {'lambda_l1': 1.1511780081675198e-06, 'lambda_l2': 2.7667766936409252e-06}. Best is trial 49 with value: 0.15603652550011365.\n",
      "regularization_factors, val_score: 0.156037:  60%|######################2              | 12/20 [00:01<00:01,  6.04it/s]"
     ]
    },
    {
     "name": "stdout",
     "output_type": "stream",
     "text": [
      "Training until validation scores don't improve for 10 rounds\n",
      "[10]\ttraining's rmse: 0.186729\tvalid_1's rmse: 0.248222\n",
      "[20]\ttraining's rmse: 0.116883\tvalid_1's rmse: 0.187051\n",
      "[30]\ttraining's rmse: 0.0898776\tvalid_1's rmse: 0.168876\n",
      "[40]\ttraining's rmse: 0.0768314\tvalid_1's rmse: 0.161659\n",
      "[50]\ttraining's rmse: 0.0688953\tvalid_1's rmse: 0.159662\n",
      "[60]\ttraining's rmse: 0.0621714\tvalid_1's rmse: 0.157567\n",
      "[70]\ttraining's rmse: 0.0569176\tvalid_1's rmse: 0.157179\n",
      "[80]\ttraining's rmse: 0.0523442\tvalid_1's rmse: 0.15687\n",
      "[90]\ttraining's rmse: 0.0484622\tvalid_1's rmse: 0.156825\n",
      "[100]\ttraining's rmse: 0.0449032\tvalid_1's rmse: 0.156968\n",
      "Early stopping, best iteration is:\n",
      "[97]\ttraining's rmse: 0.0459214\tvalid_1's rmse: 0.156434\n"
     ]
    },
    {
     "name": "stderr",
     "output_type": "stream",
     "text": [
      "regularization_factors, val_score: 0.156037:  65%|########################             | 13/20 [00:02<00:01,  5.73it/s][I 2020-10-23 12:51:28,016] Trial 55 finished with value: 0.15643379291003942 and parameters: {'lambda_l1': 1.1870652145549295e-06, 'lambda_l2': 5.988441086050096e-07}. Best is trial 49 with value: 0.15603652550011365.\n",
      "regularization_factors, val_score: 0.156037:  65%|########################             | 13/20 [00:02<00:01,  5.73it/s]"
     ]
    },
    {
     "name": "stdout",
     "output_type": "stream",
     "text": [
      "Training until validation scores don't improve for 10 rounds\n",
      "[10]\ttraining's rmse: 0.186729\tvalid_1's rmse: 0.248222\n",
      "[20]\ttraining's rmse: 0.116883\tvalid_1's rmse: 0.187051\n",
      "[30]\ttraining's rmse: 0.0898776\tvalid_1's rmse: 0.168876\n",
      "[40]\ttraining's rmse: 0.0768314\tvalid_1's rmse: 0.161659\n",
      "[50]\ttraining's rmse: 0.0688681\tvalid_1's rmse: 0.159865\n",
      "[60]\ttraining's rmse: 0.0623875\tvalid_1's rmse: 0.15746\n",
      "[70]\ttraining's rmse: 0.057125\tvalid_1's rmse: 0.156075\n",
      "Early stopping, best iteration is:\n",
      "[68]\ttraining's rmse: 0.0580119\tvalid_1's rmse: 0.156037\n"
     ]
    },
    {
     "name": "stderr",
     "output_type": "stream",
     "text": [
      "regularization_factors, val_score: 0.156037:  70%|#########################9           | 14/20 [00:02<00:00,  6.02it/s][I 2020-10-23 12:51:28,165] Trial 56 finished with value: 0.1560365256451744 and parameters: {'lambda_l1': 1.122334634179949e-08, 'lambda_l2': 3.678473375483381e-07}. Best is trial 49 with value: 0.15603652550011365.\n",
      "regularization_factors, val_score: 0.156037:  70%|#########################9           | 14/20 [00:02<00:00,  6.02it/s]"
     ]
    },
    {
     "name": "stdout",
     "output_type": "stream",
     "text": [
      "Training until validation scores don't improve for 10 rounds\n",
      "[10]\ttraining's rmse: 0.209768\tvalid_1's rmse: 0.270515\n",
      "[20]\ttraining's rmse: 0.139323\tvalid_1's rmse: 0.207193\n",
      "[30]\ttraining's rmse: 0.107879\tvalid_1's rmse: 0.182402\n",
      "[40]\ttraining's rmse: 0.0916399\tvalid_1's rmse: 0.172785\n",
      "[50]\ttraining's rmse: 0.0815436\tvalid_1's rmse: 0.16828\n",
      "[60]\ttraining's rmse: 0.073856\tvalid_1's rmse: 0.165632\n",
      "[70]\ttraining's rmse: 0.0683312\tvalid_1's rmse: 0.164085\n",
      "[80]\ttraining's rmse: 0.0632499\tvalid_1's rmse: 0.163702\n",
      "[90]\ttraining's rmse: 0.0589726\tvalid_1's rmse: 0.163346\n",
      "[100]\ttraining's rmse: 0.0550258\tvalid_1's rmse: 0.162832\n",
      "Early stopping, best iteration is:\n",
      "[97]\ttraining's rmse: 0.0561197\tvalid_1's rmse: 0.162785\n"
     ]
    },
    {
     "name": "stderr",
     "output_type": "stream",
     "text": [
      "regularization_factors, val_score: 0.156037:  75%|###########################7         | 15/20 [00:02<00:00,  5.73it/s][I 2020-10-23 12:51:28,358] Trial 57 finished with value: 0.1627853111517485 and parameters: {'lambda_l1': 2.6690802443973703e-07, 'lambda_l2': 9.039408177475645}. Best is trial 49 with value: 0.15603652550011365.\n",
      "regularization_factors, val_score: 0.156037:  75%|###########################7         | 15/20 [00:02<00:00,  5.73it/s]"
     ]
    },
    {
     "name": "stdout",
     "output_type": "stream",
     "text": [
      "Training until validation scores don't improve for 10 rounds\n",
      "[10]\ttraining's rmse: 0.18673\tvalid_1's rmse: 0.248224\n",
      "[20]\ttraining's rmse: 0.116885\tvalid_1's rmse: 0.187053\n",
      "[30]\ttraining's rmse: 0.0898789\tvalid_1's rmse: 0.168877\n",
      "[40]\ttraining's rmse: 0.0768365\tvalid_1's rmse: 0.16166\n",
      "[50]\ttraining's rmse: 0.0689377\tvalid_1's rmse: 0.159906\n",
      "[60]\ttraining's rmse: 0.0622765\tvalid_1's rmse: 0.157905\n",
      "[70]\ttraining's rmse: 0.057132\tvalid_1's rmse: 0.157209\n",
      "Early stopping, best iteration is:\n",
      "[68]\ttraining's rmse: 0.058042\tvalid_1's rmse: 0.157097\n"
     ]
    },
    {
     "name": "stderr",
     "output_type": "stream",
     "text": [
      "regularization_factors, val_score: 0.156037:  80%|#############################6       | 16/20 [00:02<00:00,  6.06it/s][I 2020-10-23 12:51:28,501] Trial 58 finished with value: 0.1570967664694346 and parameters: {'lambda_l1': 0.00012311913628310542, 'lambda_l2': 1.0479093602026105e-07}. Best is trial 49 with value: 0.15603652550011365.\n",
      "regularization_factors, val_score: 0.156037:  80%|#############################6       | 16/20 [00:02<00:00,  6.06it/s]"
     ]
    },
    {
     "name": "stdout",
     "output_type": "stream",
     "text": [
      "Training until validation scores don't improve for 10 rounds\n",
      "[10]\ttraining's rmse: 0.186729\tvalid_1's rmse: 0.248222\n",
      "[20]\ttraining's rmse: 0.116883\tvalid_1's rmse: 0.187051\n",
      "[30]\ttraining's rmse: 0.0898776\tvalid_1's rmse: 0.168876\n",
      "[40]\ttraining's rmse: 0.0768314\tvalid_1's rmse: 0.161659\n",
      "[50]\ttraining's rmse: 0.0688681\tvalid_1's rmse: 0.159865\n",
      "[60]\ttraining's rmse: 0.0623875\tvalid_1's rmse: 0.15746\n",
      "[70]\ttraining's rmse: 0.057125\tvalid_1's rmse: 0.156075\n",
      "Early stopping, best iteration is:\n",
      "[68]\ttraining's rmse: 0.0580119\tvalid_1's rmse: 0.156037\n"
     ]
    },
    {
     "name": "stderr",
     "output_type": "stream",
     "text": [
      "regularization_factors, val_score: 0.156037:  85%|###############################4     | 17/20 [00:02<00:00,  6.33it/s][I 2020-10-23 12:51:28,642] Trial 59 finished with value: 0.1560365255002237 and parameters: {'lambda_l1': 1.0165620318786059e-08, 'lambda_l2': 1.07633462857159e-08}. Best is trial 49 with value: 0.15603652550011365.\n",
      "regularization_factors, val_score: 0.156037:  85%|###############################4     | 17/20 [00:02<00:00,  6.33it/s]"
     ]
    },
    {
     "name": "stdout",
     "output_type": "stream",
     "text": [
      "Training until validation scores don't improve for 10 rounds\n",
      "[10]\ttraining's rmse: 0.186729\tvalid_1's rmse: 0.248222\n",
      "[20]\ttraining's rmse: 0.116883\tvalid_1's rmse: 0.187051\n",
      "[30]\ttraining's rmse: 0.0898776\tvalid_1's rmse: 0.168876\n",
      "[40]\ttraining's rmse: 0.0768314\tvalid_1's rmse: 0.161659\n",
      "[50]\ttraining's rmse: 0.0688953\tvalid_1's rmse: 0.159662\n",
      "[60]\ttraining's rmse: 0.0621714\tvalid_1's rmse: 0.157567\n",
      "[70]\ttraining's rmse: 0.0569176\tvalid_1's rmse: 0.157179\n",
      "[80]\ttraining's rmse: 0.0523442\tvalid_1's rmse: 0.15687\n",
      "[90]\ttraining's rmse: 0.0484622\tvalid_1's rmse: 0.156825\n",
      "[100]\ttraining's rmse: 0.0449032\tvalid_1's rmse: 0.156968\n",
      "Early stopping, best iteration is:\n",
      "[97]\ttraining's rmse: 0.0459214\tvalid_1's rmse: 0.156434\n"
     ]
    },
    {
     "name": "stderr",
     "output_type": "stream",
     "text": [
      "regularization_factors, val_score: 0.156037:  90%|#################################3   | 18/20 [00:02<00:00,  5.95it/s][I 2020-10-23 12:51:28,834] Trial 60 finished with value: 0.15643379332392165 and parameters: {'lambda_l1': 2.825483211045856e-07, 'lambda_l2': 1.7977791682501586e-05}. Best is trial 49 with value: 0.15603652550011365.\n",
      "regularization_factors, val_score: 0.156037:  90%|#################################3   | 18/20 [00:02<00:00,  5.95it/s]"
     ]
    },
    {
     "name": "stdout",
     "output_type": "stream",
     "text": [
      "Training until validation scores don't improve for 10 rounds\n",
      "[10]\ttraining's rmse: 0.186729\tvalid_1's rmse: 0.248222\n",
      "[20]\ttraining's rmse: 0.116883\tvalid_1's rmse: 0.187051\n",
      "[30]\ttraining's rmse: 0.0898776\tvalid_1's rmse: 0.168876\n",
      "[40]\ttraining's rmse: 0.0768314\tvalid_1's rmse: 0.161659\n",
      "[50]\ttraining's rmse: 0.0688681\tvalid_1's rmse: 0.159865\n",
      "[60]\ttraining's rmse: 0.0623875\tvalid_1's rmse: 0.15746\n",
      "[70]\ttraining's rmse: 0.057125\tvalid_1's rmse: 0.156075\n",
      "Early stopping, best iteration is:\n",
      "[68]\ttraining's rmse: 0.0580119\tvalid_1's rmse: 0.156037\n"
     ]
    },
    {
     "name": "stderr",
     "output_type": "stream",
     "text": [
      "regularization_factors, val_score: 0.156037:  95%|###################################1 | 19/20 [00:03<00:00,  6.27it/s][I 2020-10-23 12:51:28,973] Trial 61 finished with value: 0.15603652549941854 and parameters: {'lambda_l1': 1.1013941192798643e-08, 'lambda_l2': 1.0041695496425935e-08}. Best is trial 61 with value: 0.15603652549941854.\n",
      "regularization_factors, val_score: 0.156037:  95%|###################################1 | 19/20 [00:03<00:00,  6.27it/s]"
     ]
    },
    {
     "name": "stdout",
     "output_type": "stream",
     "text": [
      "Training until validation scores don't improve for 10 rounds\n",
      "[10]\ttraining's rmse: 0.186729\tvalid_1's rmse: 0.248222\n",
      "[20]\ttraining's rmse: 0.116883\tvalid_1's rmse: 0.187051\n",
      "[30]\ttraining's rmse: 0.0898776\tvalid_1's rmse: 0.168876\n",
      "[40]\ttraining's rmse: 0.0768314\tvalid_1's rmse: 0.161659\n",
      "[50]\ttraining's rmse: 0.0688681\tvalid_1's rmse: 0.159865\n",
      "[60]\ttraining's rmse: 0.0623875\tvalid_1's rmse: 0.15746\n",
      "[70]\ttraining's rmse: 0.057125\tvalid_1's rmse: 0.156075\n",
      "Early stopping, best iteration is:\n",
      "[68]\ttraining's rmse: 0.0580119\tvalid_1's rmse: 0.156037\n"
     ]
    },
    {
     "name": "stderr",
     "output_type": "stream",
     "text": [
      "regularization_factors, val_score: 0.156037: 100%|#####################################| 20/20 [00:03<00:00,  6.46it/s][I 2020-10-23 12:51:29,116] Trial 62 finished with value: 0.15603652551831015 and parameters: {'lambda_l1': 1.0351864918171574e-08, 'lambda_l2': 8.009641573881095e-08}. Best is trial 61 with value: 0.15603652549941854.\n",
      "regularization_factors, val_score: 0.156037: 100%|#####################################| 20/20 [00:03<00:00,  6.26it/s]\n",
      "min_data_in_leaf, val_score: 0.156037:   0%|                                                     | 0/5 [00:00<?, ?it/s]"
     ]
    },
    {
     "name": "stdout",
     "output_type": "stream",
     "text": [
      "Training until validation scores don't improve for 10 rounds\n",
      "[10]\ttraining's rmse: 0.182577\tvalid_1's rmse: 0.249295\n",
      "[20]\ttraining's rmse: 0.109518\tvalid_1's rmse: 0.190447\n",
      "[30]\ttraining's rmse: 0.0818529\tvalid_1's rmse: 0.171588\n",
      "[40]\ttraining's rmse: 0.0677636\tvalid_1's rmse: 0.164693\n",
      "[50]\ttraining's rmse: 0.0586336\tvalid_1's rmse: 0.162016\n",
      "[60]\ttraining's rmse: 0.0515418\tvalid_1's rmse: 0.160815\n",
      "[70]\ttraining's rmse: 0.0461107\tvalid_1's rmse: 0.159826\n",
      "[80]\ttraining's rmse: 0.0418534\tvalid_1's rmse: 0.159611\n",
      "[90]\ttraining's rmse: 0.0382402\tvalid_1's rmse: 0.159259\n",
      "[100]\ttraining's rmse: 0.0347392\tvalid_1's rmse: 0.159102\n",
      "Early stopping, best iteration is:\n",
      "[95]\ttraining's rmse: 0.0364518\tvalid_1's rmse: 0.15906\n"
     ]
    },
    {
     "name": "stderr",
     "output_type": "stream",
     "text": [
      "min_data_in_leaf, val_score: 0.156037:  20%|#########                                    | 1/5 [00:00<00:00,  5.46it/s][I 2020-10-23 12:51:29,306] Trial 63 finished with value: 0.15905987969028254 and parameters: {'min_child_samples': 10}. Best is trial 63 with value: 0.15905987969028254.\n",
      "min_data_in_leaf, val_score: 0.156037:  20%|#########                                    | 1/5 [00:00<00:00,  5.46it/s]"
     ]
    },
    {
     "name": "stdout",
     "output_type": "stream",
     "text": [
      "Training until validation scores don't improve for 10 rounds\n",
      "[10]\ttraining's rmse: 0.219867\tvalid_1's rmse: 0.274022\n",
      "[20]\ttraining's rmse: 0.161523\tvalid_1's rmse: 0.213775\n",
      "[30]\ttraining's rmse: 0.138198\tvalid_1's rmse: 0.191916\n",
      "[40]\ttraining's rmse: 0.127508\tvalid_1's rmse: 0.182345\n",
      "[50]\ttraining's rmse: 0.120759\tvalid_1's rmse: 0.177872\n",
      "[60]\ttraining's rmse: 0.115469\tvalid_1's rmse: 0.174862\n",
      "[70]\ttraining's rmse: 0.111004\tvalid_1's rmse: 0.172637\n",
      "[80]\ttraining's rmse: 0.107689\tvalid_1's rmse: 0.171044\n",
      "[90]\ttraining's rmse: 0.105159\tvalid_1's rmse: 0.170453\n",
      "[100]\ttraining's rmse: 0.102589\tvalid_1's rmse: 0.169404\n",
      "[110]\ttraining's rmse: 0.100188\tvalid_1's rmse: 0.168322\n",
      "[120]\ttraining's rmse: 0.0981899\tvalid_1's rmse: 0.167904\n",
      "[130]\ttraining's rmse: 0.0962988\tvalid_1's rmse: 0.167301\n",
      "[140]\ttraining's rmse: 0.0947129\tvalid_1's rmse: 0.166881\n",
      "Early stopping, best iteration is:\n",
      "[137]\ttraining's rmse: 0.0951979\tvalid_1's rmse: 0.166867\n"
     ]
    },
    {
     "name": "stderr",
     "output_type": "stream",
     "text": [
      "min_data_in_leaf, val_score: 0.156037:  40%|##################                           | 2/5 [00:00<00:00,  5.75it/s][I 2020-10-23 12:51:29,458] Trial 64 finished with value: 0.16686684946434088 and parameters: {'min_child_samples': 100}. Best is trial 63 with value: 0.15905987969028254.\n",
      "min_data_in_leaf, val_score: 0.156037:  40%|##################                           | 2/5 [00:00<00:00,  5.75it/s]"
     ]
    },
    {
     "name": "stdout",
     "output_type": "stream",
     "text": [
      "Training until validation scores don't improve for 10 rounds\n",
      "[10]\ttraining's rmse: 0.188331\tvalid_1's rmse: 0.250131\n",
      "[20]\ttraining's rmse: 0.119549\tvalid_1's rmse: 0.190231\n",
      "[30]\ttraining's rmse: 0.0939146\tvalid_1's rmse: 0.171906\n",
      "[40]\ttraining's rmse: 0.0812958\tvalid_1's rmse: 0.165946\n",
      "[50]\ttraining's rmse: 0.0730505\tvalid_1's rmse: 0.164199\n",
      "[60]\ttraining's rmse: 0.0664376\tvalid_1's rmse: 0.162402\n",
      "[70]\ttraining's rmse: 0.061278\tvalid_1's rmse: 0.162174\n",
      "Early stopping, best iteration is:\n",
      "[66]\ttraining's rmse: 0.0631828\tvalid_1's rmse: 0.161657\n"
     ]
    },
    {
     "name": "stderr",
     "output_type": "stream",
     "text": [
      "min_data_in_leaf, val_score: 0.156037:  60%|###########################                  | 3/5 [00:00<00:00,  6.22it/s][I 2020-10-23 12:51:29,588] Trial 65 finished with value: 0.16165661985304394 and parameters: {'min_child_samples': 25}. Best is trial 63 with value: 0.15905987969028254.\n",
      "min_data_in_leaf, val_score: 0.156037:  60%|###########################                  | 3/5 [00:00<00:00,  6.22it/s]"
     ]
    },
    {
     "name": "stdout",
     "output_type": "stream",
     "text": [
      "Training until validation scores don't improve for 10 rounds\n",
      "[10]\ttraining's rmse: 0.180816\tvalid_1's rmse: 0.248554\n",
      "[20]\ttraining's rmse: 0.106333\tvalid_1's rmse: 0.189637\n",
      "[30]\ttraining's rmse: 0.0770818\tvalid_1's rmse: 0.171813\n",
      "[40]\ttraining's rmse: 0.0620338\tvalid_1's rmse: 0.166217\n",
      "[50]\ttraining's rmse: 0.0528586\tvalid_1's rmse: 0.164169\n",
      "[60]\ttraining's rmse: 0.0459906\tvalid_1's rmse: 0.162484\n",
      "[70]\ttraining's rmse: 0.0409552\tvalid_1's rmse: 0.16163\n",
      "[80]\ttraining's rmse: 0.0365059\tvalid_1's rmse: 0.161415\n",
      "Early stopping, best iteration is:\n",
      "[79]\ttraining's rmse: 0.0369092\tvalid_1's rmse: 0.161338\n"
     ]
    },
    {
     "name": "stderr",
     "output_type": "stream",
     "text": [
      "min_data_in_leaf, val_score: 0.156037:  80%|####################################         | 4/5 [00:00<00:00,  6.26it/s][I 2020-10-23 12:51:29,746] Trial 66 finished with value: 0.1613382844458236 and parameters: {'min_child_samples': 5}. Best is trial 63 with value: 0.15905987969028254.\n",
      "min_data_in_leaf, val_score: 0.156037:  80%|####################################         | 4/5 [00:00<00:00,  6.26it/s]"
     ]
    },
    {
     "name": "stdout",
     "output_type": "stream",
     "text": [
      "Training until validation scores don't improve for 10 rounds\n",
      "[10]\ttraining's rmse: 0.201441\tvalid_1's rmse: 0.261468\n",
      "[20]\ttraining's rmse: 0.13768\tvalid_1's rmse: 0.202788\n",
      "[30]\ttraining's rmse: 0.113346\tvalid_1's rmse: 0.182538\n",
      "[40]\ttraining's rmse: 0.103049\tvalid_1's rmse: 0.176052\n",
      "[50]\ttraining's rmse: 0.0963088\tvalid_1's rmse: 0.172701\n",
      "[60]\ttraining's rmse: 0.0902749\tvalid_1's rmse: 0.170762\n",
      "[70]\ttraining's rmse: 0.0857404\tvalid_1's rmse: 0.169969\n",
      "[80]\ttraining's rmse: 0.0820574\tvalid_1's rmse: 0.169562\n",
      "[90]\ttraining's rmse: 0.0790918\tvalid_1's rmse: 0.169255\n",
      "[100]\ttraining's rmse: 0.0759837\tvalid_1's rmse: 0.168445\n",
      "[110]\ttraining's rmse: 0.0730418\tvalid_1's rmse: 0.168912\n",
      "Early stopping, best iteration is:\n",
      "[101]\ttraining's rmse: 0.0757098\tvalid_1's rmse: 0.168421\n"
     ]
    },
    {
     "name": "stderr",
     "output_type": "stream",
     "text": [
      "min_data_in_leaf, val_score: 0.156037: 100%|#############################################| 5/5 [00:00<00:00,  6.44it/s][I 2020-10-23 12:51:29,891] Trial 67 finished with value: 0.16842062238275082 and parameters: {'min_child_samples': 50}. Best is trial 63 with value: 0.15905987969028254.\n",
      "min_data_in_leaf, val_score: 0.156037: 100%|#############################################| 5/5 [00:00<00:00,  6.48it/s]\n",
      "[I 2020-10-23 12:51:29,913] A new study created in memory with name: no-name-3a677c4f-28b5-4c40-83c0-32a03de2fdaf\n",
      "feature_fraction, val_score: inf:   0%|                                                          | 0/7 [00:00<?, ?it/s]"
     ]
    },
    {
     "name": "stdout",
     "output_type": "stream",
     "text": [
      "Training until validation scores don't improve for 10 rounds\n",
      "[10]\ttraining's rmse: 0.193292\tvalid_1's rmse: 0.202656\n",
      "[20]\ttraining's rmse: 0.121884\tvalid_1's rmse: 0.146074\n",
      "[30]\ttraining's rmse: 0.0953273\tvalid_1's rmse: 0.129582\n",
      "[40]\ttraining's rmse: 0.081572\tvalid_1's rmse: 0.121841\n",
      "[50]\ttraining's rmse: 0.0725471\tvalid_1's rmse: 0.119354\n",
      "[60]\ttraining's rmse: 0.0651106\tvalid_1's rmse: 0.117989\n",
      "[70]\ttraining's rmse: 0.0592014\tvalid_1's rmse: 0.117565\n",
      "Early stopping, best iteration is:\n",
      "[69]\ttraining's rmse: 0.0598083\tvalid_1's rmse: 0.117243\n"
     ]
    },
    {
     "name": "stderr",
     "output_type": "stream",
     "text": [
      "feature_fraction, val_score: 0.117243:  14%|######4                                      | 1/7 [00:00<00:00,  6.85it/s][I 2020-10-23 12:51:30,065] Trial 0 finished with value: 0.11724276151551655 and parameters: {'feature_fraction': 0.5}. Best is trial 0 with value: 0.11724276151551655.\n",
      "feature_fraction, val_score: 0.117243:  14%|######4                                      | 1/7 [00:00<00:00,  6.85it/s]"
     ]
    },
    {
     "name": "stdout",
     "output_type": "stream",
     "text": [
      "Training until validation scores don't improve for 10 rounds\n",
      "[10]\ttraining's rmse: 0.196822\tvalid_1's rmse: 0.205269\n",
      "[20]\ttraining's rmse: 0.124643\tvalid_1's rmse: 0.146111\n",
      "[30]\ttraining's rmse: 0.0976283\tvalid_1's rmse: 0.127416\n",
      "[40]\ttraining's rmse: 0.0837695\tvalid_1's rmse: 0.120139\n",
      "[50]\ttraining's rmse: 0.0746977\tvalid_1's rmse: 0.117294\n",
      "[60]\ttraining's rmse: 0.0675201\tvalid_1's rmse: 0.116416\n",
      "[70]\ttraining's rmse: 0.0615513\tvalid_1's rmse: 0.116246\n",
      "[80]\ttraining's rmse: 0.0563682\tvalid_1's rmse: 0.115743\n",
      "[90]\ttraining's rmse: 0.0518121\tvalid_1's rmse: 0.11588\n",
      "Early stopping, best iteration is:\n",
      "[85]\ttraining's rmse: 0.0541093\tvalid_1's rmse: 0.115447\n"
     ]
    },
    {
     "name": "stderr",
     "output_type": "stream",
     "text": [
      "feature_fraction, val_score: 0.115447:  29%|############8                                | 2/7 [00:00<00:00,  6.68it/s][I 2020-10-23 12:51:30,223] Trial 1 finished with value: 0.11544738573392473 and parameters: {'feature_fraction': 0.4}. Best is trial 1 with value: 0.11544738573392473.\n",
      "feature_fraction, val_score: 0.115447:  29%|############8                                | 2/7 [00:00<00:00,  6.68it/s]"
     ]
    },
    {
     "name": "stdout",
     "output_type": "stream",
     "text": [
      "Training until validation scores don't improve for 10 rounds\n",
      "[10]\ttraining's rmse: 0.191684\tvalid_1's rmse: 0.201468\n",
      "[20]\ttraining's rmse: 0.119137\tvalid_1's rmse: 0.144872\n",
      "[30]\ttraining's rmse: 0.0929504\tvalid_1's rmse: 0.128348\n",
      "[40]\ttraining's rmse: 0.0796133\tvalid_1's rmse: 0.120953\n",
      "[50]\ttraining's rmse: 0.0708791\tvalid_1's rmse: 0.118447\n",
      "[60]\ttraining's rmse: 0.0638879\tvalid_1's rmse: 0.117909\n",
      "[70]\ttraining's rmse: 0.0583257\tvalid_1's rmse: 0.116844\n",
      "[80]\ttraining's rmse: 0.0528315\tvalid_1's rmse: 0.116815\n",
      "Early stopping, best iteration is:\n",
      "[75]\ttraining's rmse: 0.0556392\tvalid_1's rmse: 0.116362\n"
     ]
    },
    {
     "name": "stderr",
     "output_type": "stream",
     "text": [
      "feature_fraction, val_score: 0.115447:  43%|###################2                         | 3/7 [00:00<00:00,  6.68it/s][I 2020-10-23 12:51:30,374] Trial 2 finished with value: 0.11636210340936647 and parameters: {'feature_fraction': 0.6}. Best is trial 1 with value: 0.11544738573392473.\n",
      "feature_fraction, val_score: 0.115447:  43%|###################2                         | 3/7 [00:00<00:00,  6.68it/s]"
     ]
    },
    {
     "name": "stdout",
     "output_type": "stream",
     "text": [
      "Training until validation scores don't improve for 10 rounds\n",
      "[10]\ttraining's rmse: 0.18946\tvalid_1's rmse: 0.197978\n",
      "[20]\ttraining's rmse: 0.117418\tvalid_1's rmse: 0.142604\n",
      "[30]\ttraining's rmse: 0.0914084\tvalid_1's rmse: 0.126471\n",
      "[40]\ttraining's rmse: 0.0785807\tvalid_1's rmse: 0.120872\n",
      "[50]\ttraining's rmse: 0.0698037\tvalid_1's rmse: 0.120099\n",
      "[60]\ttraining's rmse: 0.0627097\tvalid_1's rmse: 0.120375\n",
      "Early stopping, best iteration is:\n",
      "[54]\ttraining's rmse: 0.0666217\tvalid_1's rmse: 0.119826\n"
     ]
    },
    {
     "name": "stderr",
     "output_type": "stream",
     "text": [
      "feature_fraction, val_score: 0.115447:  57%|#########################7                   | 4/7 [00:00<00:00,  7.16it/s][I 2020-10-23 12:51:30,490] Trial 3 finished with value: 0.11982558837509981 and parameters: {'feature_fraction': 0.8999999999999999}. Best is trial 1 with value: 0.11544738573392473.\n",
      "feature_fraction, val_score: 0.115447:  57%|#########################7                   | 4/7 [00:00<00:00,  7.16it/s]"
     ]
    },
    {
     "name": "stdout",
     "output_type": "stream",
     "text": [
      "Training until validation scores don't improve for 10 rounds\n",
      "[10]\ttraining's rmse: 0.189316\tvalid_1's rmse: 0.198346\n",
      "[20]\ttraining's rmse: 0.116642\tvalid_1's rmse: 0.143865\n",
      "[30]\ttraining's rmse: 0.0901327\tvalid_1's rmse: 0.129379\n",
      "[40]\ttraining's rmse: 0.0768497\tvalid_1's rmse: 0.123241\n",
      "[50]\ttraining's rmse: 0.0682231\tvalid_1's rmse: 0.122284\n",
      "Early stopping, best iteration is:\n",
      "[45]\ttraining's rmse: 0.0721928\tvalid_1's rmse: 0.121788\n"
     ]
    },
    {
     "name": "stderr",
     "output_type": "stream",
     "text": [
      "feature_fraction, val_score: 0.115447:  71%|################################1            | 5/7 [00:00<00:00,  7.77it/s][I 2020-10-23 12:51:30,593] Trial 4 finished with value: 0.1217875977277126 and parameters: {'feature_fraction': 1.0}. Best is trial 1 with value: 0.11544738573392473.\n",
      "feature_fraction, val_score: 0.115447:  71%|################################1            | 5/7 [00:00<00:00,  7.77it/s]"
     ]
    },
    {
     "name": "stdout",
     "output_type": "stream",
     "text": [
      "Training until validation scores don't improve for 10 rounds\n",
      "[10]\ttraining's rmse: 0.189515\tvalid_1's rmse: 0.201864\n",
      "[20]\ttraining's rmse: 0.118602\tvalid_1's rmse: 0.144464\n",
      "[30]\ttraining's rmse: 0.0935326\tvalid_1's rmse: 0.128299\n",
      "[40]\ttraining's rmse: 0.079984\tvalid_1's rmse: 0.122116\n",
      "[50]\ttraining's rmse: 0.0712013\tvalid_1's rmse: 0.118993\n",
      "[60]\ttraining's rmse: 0.064052\tvalid_1's rmse: 0.118097\n",
      "[70]\ttraining's rmse: 0.0580671\tvalid_1's rmse: 0.118122\n",
      "[80]\ttraining's rmse: 0.0529212\tvalid_1's rmse: 0.117723\n",
      "Early stopping, best iteration is:\n",
      "[76]\ttraining's rmse: 0.0549\tvalid_1's rmse: 0.117405\n"
     ]
    },
    {
     "name": "stderr",
     "output_type": "stream",
     "text": [
      "feature_fraction, val_score: 0.115447:  86%|######################################5      | 6/7 [00:00<00:00,  7.51it/s][I 2020-10-23 12:51:30,738] Trial 5 finished with value: 0.11740545086928994 and parameters: {'feature_fraction': 0.7}. Best is trial 1 with value: 0.11544738573392473.\n",
      "feature_fraction, val_score: 0.115447:  86%|######################################5      | 6/7 [00:00<00:00,  7.51it/s]"
     ]
    },
    {
     "name": "stdout",
     "output_type": "stream",
     "text": [
      "Training until validation scores don't improve for 10 rounds\n",
      "[10]\ttraining's rmse: 0.189091\tvalid_1's rmse: 0.198596\n",
      "[20]\ttraining's rmse: 0.117938\tvalid_1's rmse: 0.141171\n",
      "[30]\ttraining's rmse: 0.0924975\tvalid_1's rmse: 0.126806\n",
      "[40]\ttraining's rmse: 0.0785152\tvalid_1's rmse: 0.120805\n",
      "[50]\ttraining's rmse: 0.0698439\tvalid_1's rmse: 0.118468\n",
      "[60]\ttraining's rmse: 0.0627503\tvalid_1's rmse: 0.117646\n",
      "[70]\ttraining's rmse: 0.0570326\tvalid_1's rmse: 0.117697\n",
      "Early stopping, best iteration is:\n",
      "[65]\ttraining's rmse: 0.0597462\tvalid_1's rmse: 0.117187\n"
     ]
    },
    {
     "name": "stderr",
     "output_type": "stream",
     "text": [
      "feature_fraction, val_score: 0.115447: 100%|#############################################| 7/7 [00:00<00:00,  7.54it/s][I 2020-10-23 12:51:30,868] Trial 6 finished with value: 0.11718707885638156 and parameters: {'feature_fraction': 0.8}. Best is trial 1 with value: 0.11544738573392473.\n",
      "feature_fraction, val_score: 0.115447: 100%|#############################################| 7/7 [00:00<00:00,  7.35it/s]\n",
      "num_leaves, val_score: 0.115447:   0%|                                                          | 0/20 [00:00<?, ?it/s]"
     ]
    },
    {
     "name": "stdout",
     "output_type": "stream",
     "text": [
      "Training until validation scores don't improve for 10 rounds\n",
      "[10]\ttraining's rmse: 0.194729\tvalid_1's rmse: 0.204453\n",
      "[20]\ttraining's rmse: 0.121648\tvalid_1's rmse: 0.143253\n",
      "[30]\ttraining's rmse: 0.0945847\tvalid_1's rmse: 0.125462\n",
      "[40]\ttraining's rmse: 0.0807568\tvalid_1's rmse: 0.118558\n",
      "[50]\ttraining's rmse: 0.0712318\tvalid_1's rmse: 0.114828\n",
      "[60]\ttraining's rmse: 0.0638037\tvalid_1's rmse: 0.113864\n",
      "[70]\ttraining's rmse: 0.057617\tvalid_1's rmse: 0.113753\n",
      "Early stopping, best iteration is:\n",
      "[66]\ttraining's rmse: 0.0598116\tvalid_1's rmse: 0.11341\n"
     ]
    },
    {
     "name": "stderr",
     "output_type": "stream",
     "text": [
      "num_leaves, val_score: 0.113410:   5%|##5                                               | 1/20 [00:00<00:02,  6.76it/s][I 2020-10-23 12:51:31,025] Trial 7 finished with value: 0.11340965186160151 and parameters: {'num_leaves': 162}. Best is trial 7 with value: 0.11340965186160151.\n",
      "num_leaves, val_score: 0.113410:   5%|##5                                               | 1/20 [00:00<00:02,  6.76it/s]"
     ]
    },
    {
     "name": "stdout",
     "output_type": "stream",
     "text": [
      "Training until validation scores don't improve for 10 rounds\n",
      "[10]\ttraining's rmse: 0.226261\tvalid_1's rmse: 0.227793\n",
      "[20]\ttraining's rmse: 0.160273\tvalid_1's rmse: 0.165567\n",
      "[30]\ttraining's rmse: 0.132408\tvalid_1's rmse: 0.141235\n",
      "[40]\ttraining's rmse: 0.118407\tvalid_1's rmse: 0.128903\n",
      "[50]\ttraining's rmse: 0.109809\tvalid_1's rmse: 0.122315\n",
      "[60]\ttraining's rmse: 0.103518\tvalid_1's rmse: 0.116945\n",
      "[70]\ttraining's rmse: 0.0989064\tvalid_1's rmse: 0.114796\n",
      "[80]\ttraining's rmse: 0.0951955\tvalid_1's rmse: 0.113897\n",
      "[90]\ttraining's rmse: 0.0920858\tvalid_1's rmse: 0.114299\n",
      "Early stopping, best iteration is:\n",
      "[86]\ttraining's rmse: 0.093183\tvalid_1's rmse: 0.113769\n"
     ]
    },
    {
     "name": "stderr",
     "output_type": "stream",
     "text": [
      "num_leaves, val_score: 0.113410:   5%|##5                                               | 1/20 [00:00<00:02,  6.76it/s][I 2020-10-23 12:51:31,113] Trial 8 finished with value: 0.11376858714483523 and parameters: {'num_leaves': 8}. Best is trial 7 with value: 0.11340965186160151.\n",
      "num_leaves, val_score: 0.113410:  10%|#####                                             | 2/20 [00:00<00:02,  6.76it/s]"
     ]
    },
    {
     "name": "stdout",
     "output_type": "stream",
     "text": [
      "Training until validation scores don't improve for 10 rounds\n",
      "[10]\ttraining's rmse: 0.194747\tvalid_1's rmse: 0.204181\n",
      "[20]\ttraining's rmse: 0.12217\tvalid_1's rmse: 0.144802\n",
      "[30]\ttraining's rmse: 0.0948751\tvalid_1's rmse: 0.127903\n",
      "[40]\ttraining's rmse: 0.0805383\tvalid_1's rmse: 0.121301\n",
      "[50]\ttraining's rmse: 0.0712812\tvalid_1's rmse: 0.118089\n",
      "[60]\ttraining's rmse: 0.0641141\tvalid_1's rmse: 0.117482\n",
      "[70]\ttraining's rmse: 0.0578778\tvalid_1's rmse: 0.117294\n",
      "Early stopping, best iteration is:\n",
      "[66]\ttraining's rmse: 0.0603338\tvalid_1's rmse: 0.116976\n"
     ]
    },
    {
     "name": "stderr",
     "output_type": "stream",
     "text": [
      "num_leaves, val_score: 0.113410:  15%|#######5                                          | 3/20 [00:00<00:02,  7.18it/s][I 2020-10-23 12:51:31,263] Trial 9 finished with value: 0.11697559202997558 and parameters: {'num_leaves': 43}. Best is trial 7 with value: 0.11340965186160151.\n",
      "num_leaves, val_score: 0.113410:  15%|#######5                                          | 3/20 [00:00<00:02,  7.18it/s]"
     ]
    },
    {
     "name": "stdout",
     "output_type": "stream",
     "text": [
      "Training until validation scores don't improve for 10 rounds\n",
      "[10]\ttraining's rmse: 0.194729\tvalid_1's rmse: 0.204453\n",
      "[20]\ttraining's rmse: 0.121648\tvalid_1's rmse: 0.143253\n",
      "[30]\ttraining's rmse: 0.0945847\tvalid_1's rmse: 0.125462\n",
      "[40]\ttraining's rmse: 0.0807568\tvalid_1's rmse: 0.118558\n",
      "[50]\ttraining's rmse: 0.0712318\tvalid_1's rmse: 0.114828\n",
      "[60]\ttraining's rmse: 0.0638037\tvalid_1's rmse: 0.113864\n",
      "[70]\ttraining's rmse: 0.057617\tvalid_1's rmse: 0.113753\n",
      "Early stopping, best iteration is:\n",
      "[66]\ttraining's rmse: 0.0598116\tvalid_1's rmse: 0.11341\n"
     ]
    },
    {
     "name": "stderr",
     "output_type": "stream",
     "text": [
      "num_leaves, val_score: 0.113410:  20%|##########                                        | 4/20 [00:00<00:02,  6.80it/s][I 2020-10-23 12:51:31,428] Trial 10 finished with value: 0.11340965186160151 and parameters: {'num_leaves': 228}. Best is trial 7 with value: 0.11340965186160151.\n",
      "num_leaves, val_score: 0.113410:  20%|##########                                        | 4/20 [00:00<00:02,  6.80it/s]"
     ]
    },
    {
     "name": "stdout",
     "output_type": "stream",
     "text": [
      "Training until validation scores don't improve for 10 rounds\n",
      "[10]\ttraining's rmse: 0.194729\tvalid_1's rmse: 0.204453\n",
      "[20]\ttraining's rmse: 0.121648\tvalid_1's rmse: 0.143253\n",
      "[30]\ttraining's rmse: 0.0945847\tvalid_1's rmse: 0.125462\n",
      "[40]\ttraining's rmse: 0.0807568\tvalid_1's rmse: 0.118558\n",
      "[50]\ttraining's rmse: 0.0712318\tvalid_1's rmse: 0.114828\n",
      "[60]\ttraining's rmse: 0.0638037\tvalid_1's rmse: 0.113864\n",
      "[70]\ttraining's rmse: 0.057617\tvalid_1's rmse: 0.113753\n",
      "Early stopping, best iteration is:\n",
      "[66]\ttraining's rmse: 0.0598116\tvalid_1's rmse: 0.11341\n"
     ]
    },
    {
     "name": "stderr",
     "output_type": "stream",
     "text": [
      "num_leaves, val_score: 0.113410:  25%|############5                                     | 5/20 [00:00<00:02,  6.59it/s][I 2020-10-23 12:51:31,591] Trial 11 finished with value: 0.11340965186160151 and parameters: {'num_leaves': 214}. Best is trial 7 with value: 0.11340965186160151.\n",
      "num_leaves, val_score: 0.113410:  25%|############5                                     | 5/20 [00:00<00:02,  6.59it/s]"
     ]
    },
    {
     "name": "stdout",
     "output_type": "stream",
     "text": [
      "Training until validation scores don't improve for 10 rounds\n",
      "[10]\ttraining's rmse: 0.194729\tvalid_1's rmse: 0.204453\n",
      "[20]\ttraining's rmse: 0.121648\tvalid_1's rmse: 0.143253\n",
      "[30]\ttraining's rmse: 0.0945847\tvalid_1's rmse: 0.125462\n",
      "[40]\ttraining's rmse: 0.0807568\tvalid_1's rmse: 0.118558\n",
      "[50]\ttraining's rmse: 0.0712318\tvalid_1's rmse: 0.114828\n",
      "[60]\ttraining's rmse: 0.0638037\tvalid_1's rmse: 0.113864\n",
      "[70]\ttraining's rmse: 0.057617\tvalid_1's rmse: 0.113753\n",
      "Early stopping, best iteration is:\n",
      "[66]\ttraining's rmse: 0.0598116\tvalid_1's rmse: 0.11341\n"
     ]
    },
    {
     "name": "stderr",
     "output_type": "stream",
     "text": [
      "num_leaves, val_score: 0.113410:  30%|###############                                   | 6/20 [00:00<00:02,  6.56it/s][I 2020-10-23 12:51:31,745] Trial 12 finished with value: 0.11340965186160151 and parameters: {'num_leaves': 197}. Best is trial 7 with value: 0.11340965186160151.\n",
      "num_leaves, val_score: 0.113410:  30%|###############                                   | 6/20 [00:00<00:02,  6.56it/s]"
     ]
    },
    {
     "name": "stdout",
     "output_type": "stream",
     "text": [
      "Training until validation scores don't improve for 10 rounds\n",
      "[10]\ttraining's rmse: 0.194729\tvalid_1's rmse: 0.204453\n",
      "[20]\ttraining's rmse: 0.121648\tvalid_1's rmse: 0.143253\n",
      "[30]\ttraining's rmse: 0.0945847\tvalid_1's rmse: 0.125462\n",
      "[40]\ttraining's rmse: 0.0807568\tvalid_1's rmse: 0.118558\n",
      "[50]\ttraining's rmse: 0.0712318\tvalid_1's rmse: 0.114828\n",
      "[60]\ttraining's rmse: 0.0638037\tvalid_1's rmse: 0.113864\n",
      "[70]\ttraining's rmse: 0.057617\tvalid_1's rmse: 0.113753\n",
      "Early stopping, best iteration is:\n",
      "[66]\ttraining's rmse: 0.0598116\tvalid_1's rmse: 0.11341\n"
     ]
    },
    {
     "name": "stderr",
     "output_type": "stream",
     "text": [
      "num_leaves, val_score: 0.113410:  35%|#################5                                | 7/20 [00:01<00:01,  6.55it/s][I 2020-10-23 12:51:31,897] Trial 13 finished with value: 0.11340965186160151 and parameters: {'num_leaves': 139}. Best is trial 7 with value: 0.11340965186160151.\n",
      "num_leaves, val_score: 0.113410:  35%|#################5                                | 7/20 [00:01<00:01,  6.55it/s]"
     ]
    },
    {
     "name": "stdout",
     "output_type": "stream",
     "text": [
      "Training until validation scores don't improve for 10 rounds\n",
      "[10]\ttraining's rmse: 0.194729\tvalid_1's rmse: 0.204453\n",
      "[20]\ttraining's rmse: 0.121648\tvalid_1's rmse: 0.143253\n",
      "[30]\ttraining's rmse: 0.0945847\tvalid_1's rmse: 0.125462\n",
      "[40]\ttraining's rmse: 0.0807568\tvalid_1's rmse: 0.118558\n",
      "[50]\ttraining's rmse: 0.0712318\tvalid_1's rmse: 0.114828\n",
      "[60]\ttraining's rmse: 0.0638037\tvalid_1's rmse: 0.113864\n",
      "[70]\ttraining's rmse: 0.057617\tvalid_1's rmse: 0.113753\n",
      "Early stopping, best iteration is:\n",
      "[66]\ttraining's rmse: 0.0598116\tvalid_1's rmse: 0.11341\n"
     ]
    },
    {
     "name": "stderr",
     "output_type": "stream",
     "text": [
      "num_leaves, val_score: 0.113410:  40%|####################                              | 8/20 [00:01<00:01,  6.52it/s][I 2020-10-23 12:51:32,053] Trial 14 finished with value: 0.11340965186160151 and parameters: {'num_leaves': 249}. Best is trial 7 with value: 0.11340965186160151.\n",
      "num_leaves, val_score: 0.113410:  40%|####################                              | 8/20 [00:01<00:01,  6.52it/s]"
     ]
    },
    {
     "name": "stdout",
     "output_type": "stream",
     "text": [
      "Training until validation scores don't improve for 10 rounds\n",
      "[10]\ttraining's rmse: 0.194729\tvalid_1's rmse: 0.204453\n",
      "[20]\ttraining's rmse: 0.121648\tvalid_1's rmse: 0.143253\n",
      "[30]\ttraining's rmse: 0.0945847\tvalid_1's rmse: 0.125462\n",
      "[40]\ttraining's rmse: 0.0807568\tvalid_1's rmse: 0.118558\n",
      "[50]\ttraining's rmse: 0.0712318\tvalid_1's rmse: 0.114828\n",
      "[60]\ttraining's rmse: 0.0638037\tvalid_1's rmse: 0.113864\n",
      "[70]\ttraining's rmse: 0.057617\tvalid_1's rmse: 0.113753\n",
      "Early stopping, best iteration is:\n",
      "[66]\ttraining's rmse: 0.0598116\tvalid_1's rmse: 0.11341\n"
     ]
    },
    {
     "name": "stderr",
     "output_type": "stream",
     "text": [
      "num_leaves, val_score: 0.113410:  45%|######################5                           | 9/20 [00:01<00:01,  6.53it/s][I 2020-10-23 12:51:32,206] Trial 15 finished with value: 0.11340965186160151 and parameters: {'num_leaves': 137}. Best is trial 7 with value: 0.11340965186160151.\n",
      "num_leaves, val_score: 0.113410:  45%|######################5                           | 9/20 [00:01<00:01,  6.53it/s]"
     ]
    },
    {
     "name": "stdout",
     "output_type": "stream",
     "text": [
      "Training until validation scores don't improve for 10 rounds\n",
      "[10]\ttraining's rmse: 0.194729\tvalid_1's rmse: 0.204453\n",
      "[20]\ttraining's rmse: 0.121648\tvalid_1's rmse: 0.143253\n",
      "[30]\ttraining's rmse: 0.0945847\tvalid_1's rmse: 0.125462\n",
      "[40]\ttraining's rmse: 0.0807568\tvalid_1's rmse: 0.118558\n",
      "[50]\ttraining's rmse: 0.0712318\tvalid_1's rmse: 0.114828\n",
      "[60]\ttraining's rmse: 0.0638037\tvalid_1's rmse: 0.113864\n",
      "[70]\ttraining's rmse: 0.057617\tvalid_1's rmse: 0.113753\n",
      "Early stopping, best iteration is:\n",
      "[66]\ttraining's rmse: 0.0598116\tvalid_1's rmse: 0.11341\n"
     ]
    },
    {
     "name": "stderr",
     "output_type": "stream",
     "text": [
      "num_leaves, val_score: 0.113410:  50%|########################5                        | 10/20 [00:01<00:01,  6.53it/s][I 2020-10-23 12:51:32,359] Trial 16 finished with value: 0.11340965186160151 and parameters: {'num_leaves': 182}. Best is trial 7 with value: 0.11340965186160151.\n",
      "num_leaves, val_score: 0.113410:  50%|########################5                        | 10/20 [00:01<00:01,  6.53it/s]"
     ]
    },
    {
     "name": "stdout",
     "output_type": "stream",
     "text": [
      "Training until validation scores don't improve for 10 rounds\n",
      "[10]\ttraining's rmse: 0.194729\tvalid_1's rmse: 0.204453\n",
      "[20]\ttraining's rmse: 0.121648\tvalid_1's rmse: 0.143253\n",
      "[30]\ttraining's rmse: 0.0945847\tvalid_1's rmse: 0.125462\n",
      "[40]\ttraining's rmse: 0.0807568\tvalid_1's rmse: 0.118558\n",
      "[50]\ttraining's rmse: 0.0712318\tvalid_1's rmse: 0.114828\n",
      "[60]\ttraining's rmse: 0.0638037\tvalid_1's rmse: 0.113864\n",
      "[70]\ttraining's rmse: 0.057617\tvalid_1's rmse: 0.113753\n",
      "Early stopping, best iteration is:\n",
      "[66]\ttraining's rmse: 0.0598116\tvalid_1's rmse: 0.11341\n"
     ]
    },
    {
     "name": "stderr",
     "output_type": "stream",
     "text": [
      "num_leaves, val_score: 0.113410:  55%|##########################9                      | 11/20 [00:01<00:01,  6.44it/s][I 2020-10-23 12:51:32,518] Trial 17 finished with value: 0.11340965186160151 and parameters: {'num_leaves': 255}. Best is trial 7 with value: 0.11340965186160151.\n",
      "num_leaves, val_score: 0.113410:  55%|##########################9                      | 11/20 [00:01<00:01,  6.44it/s]"
     ]
    },
    {
     "name": "stdout",
     "output_type": "stream",
     "text": [
      "Training until validation scores don't improve for 10 rounds\n",
      "[10]\ttraining's rmse: 0.194729\tvalid_1's rmse: 0.204453\n",
      "[20]\ttraining's rmse: 0.121648\tvalid_1's rmse: 0.143253\n",
      "[30]\ttraining's rmse: 0.0945847\tvalid_1's rmse: 0.125462\n",
      "[40]\ttraining's rmse: 0.0807568\tvalid_1's rmse: 0.118558\n",
      "[50]\ttraining's rmse: 0.0712318\tvalid_1's rmse: 0.114828\n",
      "[60]\ttraining's rmse: 0.0638037\tvalid_1's rmse: 0.113864\n",
      "[70]\ttraining's rmse: 0.057617\tvalid_1's rmse: 0.113753\n",
      "Early stopping, best iteration is:\n",
      "[66]\ttraining's rmse: 0.0598116\tvalid_1's rmse: 0.11341\n"
     ]
    },
    {
     "name": "stderr",
     "output_type": "stream",
     "text": [
      "num_leaves, val_score: 0.113410:  60%|#############################4                   | 12/20 [00:01<00:01,  6.43it/s][I 2020-10-23 12:51:32,674] Trial 18 finished with value: 0.11340965186160151 and parameters: {'num_leaves': 86}. Best is trial 7 with value: 0.11340965186160151.\n",
      "num_leaves, val_score: 0.113410:  60%|#############################4                   | 12/20 [00:01<00:01,  6.43it/s]"
     ]
    },
    {
     "name": "stdout",
     "output_type": "stream",
     "text": [
      "Training until validation scores don't improve for 10 rounds\n",
      "[10]\ttraining's rmse: 0.194729\tvalid_1's rmse: 0.204453\n",
      "[20]\ttraining's rmse: 0.121648\tvalid_1's rmse: 0.143253\n",
      "[30]\ttraining's rmse: 0.0945847\tvalid_1's rmse: 0.125462\n",
      "[40]\ttraining's rmse: 0.0807568\tvalid_1's rmse: 0.118558\n",
      "[50]\ttraining's rmse: 0.0712318\tvalid_1's rmse: 0.114828\n",
      "[60]\ttraining's rmse: 0.0638037\tvalid_1's rmse: 0.113864\n",
      "[70]\ttraining's rmse: 0.057617\tvalid_1's rmse: 0.113753\n",
      "Early stopping, best iteration is:\n",
      "[66]\ttraining's rmse: 0.0598116\tvalid_1's rmse: 0.11341\n"
     ]
    },
    {
     "name": "stderr",
     "output_type": "stream",
     "text": [
      "num_leaves, val_score: 0.113410:  65%|###############################8                 | 13/20 [00:01<00:01,  6.50it/s][I 2020-10-23 12:51:32,824] Trial 19 finished with value: 0.11340965186160151 and parameters: {'num_leaves': 72}. Best is trial 7 with value: 0.11340965186160151.\n",
      "num_leaves, val_score: 0.113410:  65%|###############################8                 | 13/20 [00:01<00:01,  6.50it/s]"
     ]
    },
    {
     "name": "stdout",
     "output_type": "stream",
     "text": [
      "Training until validation scores don't improve for 10 rounds\n",
      "[10]\ttraining's rmse: 0.194729\tvalid_1's rmse: 0.204453\n",
      "[20]\ttraining's rmse: 0.121648\tvalid_1's rmse: 0.143253\n",
      "[30]\ttraining's rmse: 0.0945847\tvalid_1's rmse: 0.125462\n",
      "[40]\ttraining's rmse: 0.0807568\tvalid_1's rmse: 0.118558\n",
      "[50]\ttraining's rmse: 0.0712318\tvalid_1's rmse: 0.114828\n",
      "[60]\ttraining's rmse: 0.0638037\tvalid_1's rmse: 0.113864\n",
      "[70]\ttraining's rmse: 0.057617\tvalid_1's rmse: 0.113753\n",
      "Early stopping, best iteration is:\n",
      "[66]\ttraining's rmse: 0.0598116\tvalid_1's rmse: 0.11341\n"
     ]
    },
    {
     "name": "stderr",
     "output_type": "stream",
     "text": [
      "num_leaves, val_score: 0.113410:  70%|##################################3              | 14/20 [00:02<00:00,  6.55it/s][I 2020-10-23 12:51:32,974] Trial 20 finished with value: 0.11340965186160151 and parameters: {'num_leaves': 87}. Best is trial 7 with value: 0.11340965186160151.\n",
      "num_leaves, val_score: 0.113410:  70%|##################################3              | 14/20 [00:02<00:00,  6.55it/s]"
     ]
    },
    {
     "name": "stdout",
     "output_type": "stream",
     "text": [
      "Training until validation scores don't improve for 10 rounds\n",
      "[10]\ttraining's rmse: 0.194729\tvalid_1's rmse: 0.204453\n",
      "[20]\ttraining's rmse: 0.121648\tvalid_1's rmse: 0.143253\n",
      "[30]\ttraining's rmse: 0.0945847\tvalid_1's rmse: 0.125462\n",
      "[40]\ttraining's rmse: 0.0807568\tvalid_1's rmse: 0.118558\n",
      "[50]\ttraining's rmse: 0.0712318\tvalid_1's rmse: 0.114828\n",
      "[60]\ttraining's rmse: 0.0638037\tvalid_1's rmse: 0.113864\n",
      "[70]\ttraining's rmse: 0.057617\tvalid_1's rmse: 0.113753\n",
      "Early stopping, best iteration is:\n",
      "[66]\ttraining's rmse: 0.0598116\tvalid_1's rmse: 0.11341\n"
     ]
    },
    {
     "name": "stderr",
     "output_type": "stream",
     "text": [
      "num_leaves, val_score: 0.113410:  75%|####################################7            | 15/20 [00:02<00:00,  6.60it/s][I 2020-10-23 12:51:33,124] Trial 21 finished with value: 0.11340965186160151 and parameters: {'num_leaves': 251}. Best is trial 7 with value: 0.11340965186160151.\n",
      "num_leaves, val_score: 0.113410:  75%|####################################7            | 15/20 [00:02<00:00,  6.60it/s]"
     ]
    },
    {
     "name": "stdout",
     "output_type": "stream",
     "text": [
      "Training until validation scores don't improve for 10 rounds\n",
      "[10]\ttraining's rmse: 0.194729\tvalid_1's rmse: 0.204453\n",
      "[20]\ttraining's rmse: 0.121648\tvalid_1's rmse: 0.143253\n",
      "[30]\ttraining's rmse: 0.0945847\tvalid_1's rmse: 0.125462\n",
      "[40]\ttraining's rmse: 0.0807568\tvalid_1's rmse: 0.118558\n",
      "[50]\ttraining's rmse: 0.0712318\tvalid_1's rmse: 0.114828\n",
      "[60]\ttraining's rmse: 0.0638037\tvalid_1's rmse: 0.113864\n",
      "[70]\ttraining's rmse: 0.057617\tvalid_1's rmse: 0.113753\n",
      "Early stopping, best iteration is:\n",
      "[66]\ttraining's rmse: 0.0598116\tvalid_1's rmse: 0.11341\n"
     ]
    },
    {
     "name": "stderr",
     "output_type": "stream",
     "text": [
      "num_leaves, val_score: 0.113410:  80%|#######################################2         | 16/20 [00:02<00:00,  6.61it/s][I 2020-10-23 12:51:33,275] Trial 22 finished with value: 0.11340965186160151 and parameters: {'num_leaves': 82}. Best is trial 7 with value: 0.11340965186160151.\n",
      "num_leaves, val_score: 0.113410:  80%|#######################################2         | 16/20 [00:02<00:00,  6.61it/s]"
     ]
    },
    {
     "name": "stdout",
     "output_type": "stream",
     "text": [
      "Training until validation scores don't improve for 10 rounds\n",
      "[10]\ttraining's rmse: 0.194729\tvalid_1's rmse: 0.204453\n",
      "[20]\ttraining's rmse: 0.121648\tvalid_1's rmse: 0.143253\n",
      "[30]\ttraining's rmse: 0.0945847\tvalid_1's rmse: 0.125462\n",
      "[40]\ttraining's rmse: 0.0807568\tvalid_1's rmse: 0.118558\n",
      "[50]\ttraining's rmse: 0.0712318\tvalid_1's rmse: 0.114828\n",
      "[60]\ttraining's rmse: 0.0638037\tvalid_1's rmse: 0.113864\n",
      "[70]\ttraining's rmse: 0.057617\tvalid_1's rmse: 0.113753\n",
      "Early stopping, best iteration is:\n",
      "[66]\ttraining's rmse: 0.0598116\tvalid_1's rmse: 0.11341\n"
     ]
    },
    {
     "name": "stderr",
     "output_type": "stream",
     "text": [
      "num_leaves, val_score: 0.113410:  85%|#########################################6       | 17/20 [00:02<00:00,  6.66it/s][I 2020-10-23 12:51:33,422] Trial 23 finished with value: 0.11340965186160151 and parameters: {'num_leaves': 75}. Best is trial 7 with value: 0.11340965186160151.\n",
      "num_leaves, val_score: 0.113410:  85%|#########################################6       | 17/20 [00:02<00:00,  6.66it/s]"
     ]
    },
    {
     "name": "stdout",
     "output_type": "stream",
     "text": [
      "Training until validation scores don't improve for 10 rounds\n",
      "[10]\ttraining's rmse: 0.194729\tvalid_1's rmse: 0.204453\n",
      "[20]\ttraining's rmse: 0.121648\tvalid_1's rmse: 0.143253\n",
      "[30]\ttraining's rmse: 0.0945847\tvalid_1's rmse: 0.125462\n",
      "[40]\ttraining's rmse: 0.0807568\tvalid_1's rmse: 0.118558\n",
      "[50]\ttraining's rmse: 0.0712318\tvalid_1's rmse: 0.114828\n",
      "[60]\ttraining's rmse: 0.0638037\tvalid_1's rmse: 0.113864\n",
      "[70]\ttraining's rmse: 0.057617\tvalid_1's rmse: 0.113753\n",
      "Early stopping, best iteration is:\n",
      "[66]\ttraining's rmse: 0.0598116\tvalid_1's rmse: 0.11341\n"
     ]
    },
    {
     "name": "stderr",
     "output_type": "stream",
     "text": [
      "num_leaves, val_score: 0.113410:  90%|############################################1    | 18/20 [00:02<00:00,  6.64it/s][I 2020-10-23 12:51:33,574] Trial 24 finished with value: 0.11340965186160151 and parameters: {'num_leaves': 224}. Best is trial 7 with value: 0.11340965186160151.\n",
      "num_leaves, val_score: 0.113410:  90%|############################################1    | 18/20 [00:02<00:00,  6.64it/s]"
     ]
    },
    {
     "name": "stdout",
     "output_type": "stream",
     "text": [
      "Training until validation scores don't improve for 10 rounds\n",
      "[10]\ttraining's rmse: 0.194729\tvalid_1's rmse: 0.204453\n",
      "[20]\ttraining's rmse: 0.121648\tvalid_1's rmse: 0.143253\n",
      "[30]\ttraining's rmse: 0.0945847\tvalid_1's rmse: 0.125462\n",
      "[40]\ttraining's rmse: 0.0807568\tvalid_1's rmse: 0.118558\n",
      "[50]\ttraining's rmse: 0.0712318\tvalid_1's rmse: 0.114828\n",
      "[60]\ttraining's rmse: 0.0638037\tvalid_1's rmse: 0.113864\n",
      "[70]\ttraining's rmse: 0.057617\tvalid_1's rmse: 0.113753\n",
      "Early stopping, best iteration is:\n",
      "[66]\ttraining's rmse: 0.0598116\tvalid_1's rmse: 0.11341\n"
     ]
    },
    {
     "name": "stderr",
     "output_type": "stream",
     "text": [
      "num_leaves, val_score: 0.113410:  95%|##############################################5  | 19/20 [00:02<00:00,  6.52it/s][I 2020-10-23 12:51:33,734] Trial 25 finished with value: 0.11340965186160151 and parameters: {'num_leaves': 193}. Best is trial 7 with value: 0.11340965186160151.\n",
      "num_leaves, val_score: 0.113410:  95%|##############################################5  | 19/20 [00:02<00:00,  6.52it/s]"
     ]
    },
    {
     "name": "stdout",
     "output_type": "stream",
     "text": [
      "Training until validation scores don't improve for 10 rounds\n",
      "[10]\ttraining's rmse: 0.194729\tvalid_1's rmse: 0.204453\n",
      "[20]\ttraining's rmse: 0.121648\tvalid_1's rmse: 0.143253\n",
      "[30]\ttraining's rmse: 0.0945847\tvalid_1's rmse: 0.125462\n",
      "[40]\ttraining's rmse: 0.0807568\tvalid_1's rmse: 0.118558\n",
      "[50]\ttraining's rmse: 0.0712318\tvalid_1's rmse: 0.114828\n",
      "[60]\ttraining's rmse: 0.0638037\tvalid_1's rmse: 0.113864\n",
      "[70]\ttraining's rmse: 0.057617\tvalid_1's rmse: 0.113753\n",
      "Early stopping, best iteration is:\n",
      "[66]\ttraining's rmse: 0.0598116\tvalid_1's rmse: 0.11341\n"
     ]
    },
    {
     "name": "stderr",
     "output_type": "stream",
     "text": [
      "num_leaves, val_score: 0.113410: 100%|#################################################| 20/20 [00:03<00:00,  6.55it/s][I 2020-10-23 12:51:33,885] Trial 26 finished with value: 0.11340965186160151 and parameters: {'num_leaves': 111}. Best is trial 7 with value: 0.11340965186160151.\n",
      "num_leaves, val_score: 0.113410: 100%|#################################################| 20/20 [00:03<00:00,  6.64it/s]\n",
      "bagging, val_score: 0.113410:   0%|                                                             | 0/10 [00:00<?, ?it/s]"
     ]
    },
    {
     "name": "stdout",
     "output_type": "stream",
     "text": [
      "Training until validation scores don't improve for 10 rounds\n",
      "[10]\ttraining's rmse: 0.20854\tvalid_1's rmse: 0.213812\n",
      "[20]\ttraining's rmse: 0.140895\tvalid_1's rmse: 0.152403\n",
      "[30]\ttraining's rmse: 0.116954\tvalid_1's rmse: 0.13331\n",
      "[40]\ttraining's rmse: 0.104983\tvalid_1's rmse: 0.124666\n",
      "[50]\ttraining's rmse: 0.0975148\tvalid_1's rmse: 0.119749\n",
      "[60]\ttraining's rmse: 0.0904859\tvalid_1's rmse: 0.117086\n",
      "[70]\ttraining's rmse: 0.0852272\tvalid_1's rmse: 0.115218\n",
      "Early stopping, best iteration is:\n",
      "[69]\ttraining's rmse: 0.085926\tvalid_1's rmse: 0.115013\n"
     ]
    },
    {
     "name": "stderr",
     "output_type": "stream",
     "text": [
      "bagging, val_score: 0.113410:  10%|#####3                                               | 1/10 [00:00<00:01,  7.63it/s][I 2020-10-23 12:51:34,023] Trial 27 finished with value: 0.11501349488743502 and parameters: {'bagging_fraction': 0.6145839478565402, 'bagging_freq': 4}. Best is trial 27 with value: 0.11501349488743502.\n",
      "bagging, val_score: 0.113410:  10%|#####3                                               | 1/10 [00:00<00:01,  7.63it/s]"
     ]
    },
    {
     "name": "stdout",
     "output_type": "stream",
     "text": [
      "Training until validation scores don't improve for 10 rounds\n",
      "[10]\ttraining's rmse: 0.194699\tvalid_1's rmse: 0.204404\n",
      "[20]\ttraining's rmse: 0.122619\tvalid_1's rmse: 0.146086\n",
      "[30]\ttraining's rmse: 0.0953988\tvalid_1's rmse: 0.12759\n",
      "[40]\ttraining's rmse: 0.0813521\tvalid_1's rmse: 0.119871\n",
      "[50]\ttraining's rmse: 0.0715058\tvalid_1's rmse: 0.117196\n",
      "[60]\ttraining's rmse: 0.064059\tvalid_1's rmse: 0.114991\n",
      "[70]\ttraining's rmse: 0.057973\tvalid_1's rmse: 0.11467\n",
      "[80]\ttraining's rmse: 0.0523814\tvalid_1's rmse: 0.114135\n",
      "[90]\ttraining's rmse: 0.0480195\tvalid_1's rmse: 0.113885\n",
      "Early stopping, best iteration is:\n",
      "[84]\ttraining's rmse: 0.0505905\tvalid_1's rmse: 0.113606\n"
     ]
    },
    {
     "name": "stderr",
     "output_type": "stream",
     "text": [
      "bagging, val_score: 0.113410:  20%|##########6                                          | 2/10 [00:00<00:01,  6.68it/s][I 2020-10-23 12:51:34,217] Trial 28 finished with value: 0.11360579793858601 and parameters: {'bagging_fraction': 0.9780857842228639, 'bagging_freq': 7}. Best is trial 28 with value: 0.11360579793858601.\n",
      "bagging, val_score: 0.113410:  20%|##########6                                          | 2/10 [00:00<00:01,  6.68it/s]"
     ]
    },
    {
     "name": "stdout",
     "output_type": "stream",
     "text": [
      "Training until validation scores don't improve for 10 rounds\n",
      "[10]\ttraining's rmse: 0.215047\tvalid_1's rmse: 0.217727\n",
      "[20]\ttraining's rmse: 0.14954\tvalid_1's rmse: 0.156335\n",
      "[30]\ttraining's rmse: 0.126452\tvalid_1's rmse: 0.136823\n",
      "[40]\ttraining's rmse: 0.115976\tvalid_1's rmse: 0.128711\n",
      "[50]\ttraining's rmse: 0.109184\tvalid_1's rmse: 0.122406\n",
      "[60]\ttraining's rmse: 0.1043\tvalid_1's rmse: 0.12104\n",
      "[70]\ttraining's rmse: 0.100233\tvalid_1's rmse: 0.121151\n",
      "Early stopping, best iteration is:\n",
      "[65]\ttraining's rmse: 0.102061\tvalid_1's rmse: 0.120468\n"
     ]
    },
    {
     "name": "stderr",
     "output_type": "stream",
     "text": [
      "bagging, val_score: 0.113410:  30%|###############9                                     | 3/10 [00:00<00:00,  7.23it/s][I 2020-10-23 12:51:34,329] Trial 29 finished with value: 0.1204675176197151 and parameters: {'bagging_fraction': 0.41065674465639823, 'bagging_freq': 1}. Best is trial 28 with value: 0.11360579793858601.\n",
      "bagging, val_score: 0.113410:  30%|###############9                                     | 3/10 [00:00<00:00,  7.23it/s]"
     ]
    },
    {
     "name": "stdout",
     "output_type": "stream",
     "text": [
      "Training until validation scores don't improve for 10 rounds\n",
      "[10]\ttraining's rmse: 0.194902\tvalid_1's rmse: 0.204007\n",
      "[20]\ttraining's rmse: 0.123398\tvalid_1's rmse: 0.14613\n",
      "[30]\ttraining's rmse: 0.0959235\tvalid_1's rmse: 0.127608\n",
      "[40]\ttraining's rmse: 0.0817215\tvalid_1's rmse: 0.120451\n",
      "[50]\ttraining's rmse: 0.0722568\tvalid_1's rmse: 0.117414\n",
      "[60]\ttraining's rmse: 0.065062\tvalid_1's rmse: 0.116491\n",
      "[70]\ttraining's rmse: 0.0588968\tvalid_1's rmse: 0.115377\n",
      "[80]\ttraining's rmse: 0.053283\tvalid_1's rmse: 0.11494\n",
      "[90]\ttraining's rmse: 0.0487953\tvalid_1's rmse: 0.115191\n",
      "Early stopping, best iteration is:\n",
      "[84]\ttraining's rmse: 0.0513473\tvalid_1's rmse: 0.114622\n"
     ]
    },
    {
     "name": "stderr",
     "output_type": "stream",
     "text": [
      "bagging, val_score: 0.113410:  40%|#####################2                               | 4/10 [00:00<00:00,  6.46it/s][I 2020-10-23 12:51:34,521] Trial 30 finished with value: 0.11462192942958649 and parameters: {'bagging_fraction': 0.9724825104307591, 'bagging_freq': 7}. Best is trial 28 with value: 0.11360579793858601.\n",
      "bagging, val_score: 0.113410:  40%|#####################2                               | 4/10 [00:00<00:00,  6.46it/s]"
     ]
    },
    {
     "name": "stdout",
     "output_type": "stream",
     "text": [
      "Training until validation scores don't improve for 10 rounds\n",
      "[10]\ttraining's rmse: 0.201416\tvalid_1's rmse: 0.205988\n",
      "[20]\ttraining's rmse: 0.132845\tvalid_1's rmse: 0.14322\n",
      "[30]\ttraining's rmse: 0.107963\tvalid_1's rmse: 0.124334\n",
      "[40]\ttraining's rmse: 0.0950318\tvalid_1's rmse: 0.115997\n",
      "[50]\ttraining's rmse: 0.085679\tvalid_1's rmse: 0.112371\n",
      "[60]\ttraining's rmse: 0.0786429\tvalid_1's rmse: 0.109847\n",
      "[70]\ttraining's rmse: 0.0728279\tvalid_1's rmse: 0.109154\n",
      "[80]\ttraining's rmse: 0.0682677\tvalid_1's rmse: 0.10907\n",
      "Early stopping, best iteration is:\n",
      "[74]\ttraining's rmse: 0.0711134\tvalid_1's rmse: 0.108707\n"
     ]
    },
    {
     "name": "stderr",
     "output_type": "stream",
     "text": [
      "bagging, val_score: 0.108707:  50%|##########################5                          | 5/10 [00:00<00:00,  6.57it/s][I 2020-10-23 12:51:34,668] Trial 31 finished with value: 0.10870731086206264 and parameters: {'bagging_fraction': 0.7203951015121736, 'bagging_freq': 1}. Best is trial 31 with value: 0.10870731086206264.\n",
      "bagging, val_score: 0.108707:  50%|##########################5                          | 5/10 [00:00<00:00,  6.57it/s]"
     ]
    },
    {
     "name": "stdout",
     "output_type": "stream",
     "text": [
      "Training until validation scores don't improve for 10 rounds\n",
      "[10]\ttraining's rmse: 0.20016\tvalid_1's rmse: 0.206101\n",
      "[20]\ttraining's rmse: 0.131301\tvalid_1's rmse: 0.14492\n",
      "[30]\ttraining's rmse: 0.105649\tvalid_1's rmse: 0.125381\n",
      "[40]\ttraining's rmse: 0.0931393\tvalid_1's rmse: 0.118438\n",
      "[50]\ttraining's rmse: 0.0844007\tvalid_1's rmse: 0.116455\n",
      "[60]\ttraining's rmse: 0.0773466\tvalid_1's rmse: 0.114129\n",
      "[70]\ttraining's rmse: 0.071694\tvalid_1's rmse: 0.113608\n",
      "[80]\ttraining's rmse: 0.0669674\tvalid_1's rmse: 0.113817\n",
      "Early stopping, best iteration is:\n",
      "[73]\ttraining's rmse: 0.0701326\tvalid_1's rmse: 0.113238\n"
     ]
    },
    {
     "name": "stderr",
     "output_type": "stream",
     "text": [
      "bagging, val_score: 0.108707:  60%|###############################8                     | 6/10 [00:00<00:00,  6.63it/s][I 2020-10-23 12:51:34,816] Trial 32 finished with value: 0.11323829223043778 and parameters: {'bagging_fraction': 0.7342255007913598, 'bagging_freq': 1}. Best is trial 31 with value: 0.10870731086206264.\n",
      "bagging, val_score: 0.108707:  60%|###############################8                     | 6/10 [00:00<00:00,  6.63it/s]"
     ]
    },
    {
     "name": "stdout",
     "output_type": "stream",
     "text": [
      "Training until validation scores don't improve for 10 rounds\n",
      "[10]\ttraining's rmse: 0.200258\tvalid_1's rmse: 0.20579\n",
      "[20]\ttraining's rmse: 0.131298\tvalid_1's rmse: 0.144336\n",
      "[30]\ttraining's rmse: 0.105926\tvalid_1's rmse: 0.125913\n",
      "[40]\ttraining's rmse: 0.0939513\tvalid_1's rmse: 0.119247\n",
      "[50]\ttraining's rmse: 0.085305\tvalid_1's rmse: 0.115831\n",
      "[60]\ttraining's rmse: 0.0784305\tvalid_1's rmse: 0.113834\n",
      "[70]\ttraining's rmse: 0.0728998\tvalid_1's rmse: 0.113208\n",
      "[80]\ttraining's rmse: 0.068263\tvalid_1's rmse: 0.113323\n",
      "Early stopping, best iteration is:\n",
      "[73]\ttraining's rmse: 0.0715458\tvalid_1's rmse: 0.112438\n"
     ]
    },
    {
     "name": "stderr",
     "output_type": "stream",
     "text": [
      "bagging, val_score: 0.108707:  70%|#####################################                | 7/10 [00:01<00:00,  6.64it/s][I 2020-10-23 12:51:34,966] Trial 33 finished with value: 0.11243827602983533 and parameters: {'bagging_fraction': 0.7301555574741408, 'bagging_freq': 1}. Best is trial 31 with value: 0.10870731086206264.\n",
      "bagging, val_score: 0.108707:  70%|#####################################                | 7/10 [00:01<00:00,  6.64it/s]"
     ]
    },
    {
     "name": "stdout",
     "output_type": "stream",
     "text": [
      "Training until validation scores don't improve for 10 rounds\n",
      "[10]\ttraining's rmse: 0.2001\tvalid_1's rmse: 0.205788\n",
      "[20]\ttraining's rmse: 0.131792\tvalid_1's rmse: 0.145958\n",
      "[30]\ttraining's rmse: 0.10638\tvalid_1's rmse: 0.126378\n",
      "[40]\ttraining's rmse: 0.0935773\tvalid_1's rmse: 0.1188\n",
      "[50]\ttraining's rmse: 0.0850513\tvalid_1's rmse: 0.115585\n",
      "[60]\ttraining's rmse: 0.0782823\tvalid_1's rmse: 0.112882\n",
      "[70]\ttraining's rmse: 0.0725693\tvalid_1's rmse: 0.112676\n",
      "[80]\ttraining's rmse: 0.0674945\tvalid_1's rmse: 0.112267\n",
      "Early stopping, best iteration is:\n",
      "[74]\ttraining's rmse: 0.0703328\tvalid_1's rmse: 0.112178\n"
     ]
    },
    {
     "name": "stderr",
     "output_type": "stream",
     "text": [
      "bagging, val_score: 0.108707:  80%|##########################################4          | 8/10 [00:01<00:00,  6.70it/s][I 2020-10-23 12:51:35,112] Trial 34 finished with value: 0.112177636770739 and parameters: {'bagging_fraction': 0.7284111646093491, 'bagging_freq': 1}. Best is trial 31 with value: 0.10870731086206264.\n",
      "bagging, val_score: 0.108707:  80%|##########################################4          | 8/10 [00:01<00:00,  6.70it/s]"
     ]
    },
    {
     "name": "stdout",
     "output_type": "stream",
     "text": [
      "Training until validation scores don't improve for 10 rounds\n",
      "[10]\ttraining's rmse: 0.201376\tvalid_1's rmse: 0.206513\n",
      "[20]\ttraining's rmse: 0.13282\tvalid_1's rmse: 0.144065\n",
      "[30]\ttraining's rmse: 0.107525\tvalid_1's rmse: 0.12623\n",
      "[40]\ttraining's rmse: 0.0948625\tvalid_1's rmse: 0.11924\n",
      "[50]\ttraining's rmse: 0.0861838\tvalid_1's rmse: 0.114941\n",
      "[60]\ttraining's rmse: 0.0792675\tvalid_1's rmse: 0.1121\n",
      "[70]\ttraining's rmse: 0.0737928\tvalid_1's rmse: 0.111186\n",
      "[80]\ttraining's rmse: 0.0687321\tvalid_1's rmse: 0.111082\n",
      "Early stopping, best iteration is:\n",
      "[72]\ttraining's rmse: 0.072706\tvalid_1's rmse: 0.110759\n"
     ]
    },
    {
     "name": "stderr",
     "output_type": "stream",
     "text": [
      "bagging, val_score: 0.108707:  90%|###############################################7     | 9/10 [00:01<00:00,  6.74it/s][I 2020-10-23 12:51:35,258] Trial 35 finished with value: 0.11075935390123484 and parameters: {'bagging_fraction': 0.7243346481362175, 'bagging_freq': 1}. Best is trial 31 with value: 0.10870731086206264.\n",
      "bagging, val_score: 0.108707:  90%|###############################################7     | 9/10 [00:01<00:00,  6.74it/s]"
     ]
    },
    {
     "name": "stdout",
     "output_type": "stream",
     "text": [
      "Training until validation scores don't improve for 10 rounds\n",
      "[10]\ttraining's rmse: 0.201565\tvalid_1's rmse: 0.206066\n",
      "[20]\ttraining's rmse: 0.133637\tvalid_1's rmse: 0.145814\n",
      "[30]\ttraining's rmse: 0.107657\tvalid_1's rmse: 0.126128\n",
      "[40]\ttraining's rmse: 0.0954344\tvalid_1's rmse: 0.118986\n",
      "[50]\ttraining's rmse: 0.0865938\tvalid_1's rmse: 0.114563\n",
      "[60]\ttraining's rmse: 0.0798171\tvalid_1's rmse: 0.113215\n",
      "[70]\ttraining's rmse: 0.0744822\tvalid_1's rmse: 0.113188\n",
      "[80]\ttraining's rmse: 0.0696704\tvalid_1's rmse: 0.113318\n",
      "Early stopping, best iteration is:\n",
      "[74]\ttraining's rmse: 0.0723884\tvalid_1's rmse: 0.112209\n"
     ]
    },
    {
     "name": "stderr",
     "output_type": "stream",
     "text": [
      "bagging, val_score: 0.108707: 100%|####################################################| 10/10 [00:01<00:00,  6.75it/s][I 2020-10-23 12:51:35,405] Trial 36 finished with value: 0.1122091038578315 and parameters: {'bagging_fraction': 0.7216306097372204, 'bagging_freq': 1}. Best is trial 31 with value: 0.10870731086206264.\n",
      "bagging, val_score: 0.108707: 100%|####################################################| 10/10 [00:01<00:00,  6.60it/s]\n",
      "feature_fraction_stage2, val_score: 0.108707:   0%|                                              | 0/3 [00:00<?, ?it/s]"
     ]
    },
    {
     "name": "stdout",
     "output_type": "stream",
     "text": [
      "Training until validation scores don't improve for 10 rounds\n",
      "[10]\ttraining's rmse: 0.201395\tvalid_1's rmse: 0.205955\n",
      "[20]\ttraining's rmse: 0.131897\tvalid_1's rmse: 0.143812\n",
      "[30]\ttraining's rmse: 0.107529\tvalid_1's rmse: 0.124729\n",
      "[40]\ttraining's rmse: 0.0952253\tvalid_1's rmse: 0.116897\n",
      "[50]\ttraining's rmse: 0.0867378\tvalid_1's rmse: 0.112359\n",
      "[60]\ttraining's rmse: 0.0797556\tvalid_1's rmse: 0.110289\n",
      "[70]\ttraining's rmse: 0.0740871\tvalid_1's rmse: 0.1107\n",
      "Early stopping, best iteration is:\n",
      "[60]\ttraining's rmse: 0.0797556\tvalid_1's rmse: 0.110289\n"
     ]
    },
    {
     "name": "stderr",
     "output_type": "stream",
     "text": [
      "feature_fraction_stage2, val_score: 0.108707:  33%|############6                         | 1/3 [00:00<00:00,  8.13it/s][I 2020-10-23 12:51:35,534] Trial 37 finished with value: 0.11028946977825574 and parameters: {'feature_fraction': 0.41600000000000004}. Best is trial 37 with value: 0.11028946977825574.\n",
      "feature_fraction_stage2, val_score: 0.108707:  33%|############6                         | 1/3 [00:00<00:00,  8.13it/s]"
     ]
    },
    {
     "name": "stdout",
     "output_type": "stream",
     "text": [
      "Training until validation scores don't improve for 10 rounds\n",
      "[10]\ttraining's rmse: 0.200463\tvalid_1's rmse: 0.205642\n",
      "[20]\ttraining's rmse: 0.130752\tvalid_1's rmse: 0.142615\n",
      "[30]\ttraining's rmse: 0.106721\tvalid_1's rmse: 0.125589\n",
      "[40]\ttraining's rmse: 0.0947987\tvalid_1's rmse: 0.118184\n",
      "[50]\ttraining's rmse: 0.0865596\tvalid_1's rmse: 0.113943\n",
      "[60]\ttraining's rmse: 0.0799143\tvalid_1's rmse: 0.111957\n",
      "[70]\ttraining's rmse: 0.0741455\tvalid_1's rmse: 0.111865\n",
      "[80]\ttraining's rmse: 0.0691999\tvalid_1's rmse: 0.112397\n",
      "Early stopping, best iteration is:\n",
      "[73]\ttraining's rmse: 0.0726344\tvalid_1's rmse: 0.111611\n"
     ]
    },
    {
     "name": "stderr",
     "output_type": "stream",
     "text": [
      "feature_fraction_stage2, val_score: 0.108707:  67%|#########################3            | 2/3 [00:00<00:00,  7.86it/s][I 2020-10-23 12:51:35,672] Trial 38 finished with value: 0.11161096708329314 and parameters: {'feature_fraction': 0.48000000000000004}. Best is trial 37 with value: 0.11028946977825574.\n",
      "feature_fraction_stage2, val_score: 0.108707:  67%|#########################3            | 2/3 [00:00<00:00,  7.86it/s]"
     ]
    },
    {
     "name": "stdout",
     "output_type": "stream",
     "text": [
      "Training until validation scores don't improve for 10 rounds\n",
      "[10]\ttraining's rmse: 0.198677\tvalid_1's rmse: 0.205628\n",
      "[20]\ttraining's rmse: 0.129591\tvalid_1's rmse: 0.144313\n",
      "[30]\ttraining's rmse: 0.105886\tvalid_1's rmse: 0.12556\n",
      "[40]\ttraining's rmse: 0.0934275\tvalid_1's rmse: 0.11904\n",
      "[50]\ttraining's rmse: 0.0848767\tvalid_1's rmse: 0.115403\n",
      "[60]\ttraining's rmse: 0.0781389\tvalid_1's rmse: 0.114171\n",
      "[70]\ttraining's rmse: 0.0728882\tvalid_1's rmse: 0.113432\n",
      "[80]\ttraining's rmse: 0.0679776\tvalid_1's rmse: 0.113495\n",
      "Early stopping, best iteration is:\n",
      "[74]\ttraining's rmse: 0.0707451\tvalid_1's rmse: 0.11273\n"
     ]
    },
    {
     "name": "stderr",
     "output_type": "stream",
     "text": [
      "feature_fraction_stage2, val_score: 0.108707: 100%|######################################| 3/3 [00:00<00:00,  7.46it/s][I 2020-10-23 12:51:35,821] Trial 39 finished with value: 0.11273028482281355 and parameters: {'feature_fraction': 0.44800000000000006}. Best is trial 37 with value: 0.11028946977825574.\n",
      "feature_fraction_stage2, val_score: 0.108707: 100%|######################################| 3/3 [00:00<00:00,  7.26it/s]\n",
      "regularization_factors, val_score: 0.108707:   0%|                                              | 0/20 [00:00<?, ?it/s]"
     ]
    },
    {
     "name": "stdout",
     "output_type": "stream",
     "text": [
      "Training until validation scores don't improve for 10 rounds\n",
      "[10]\ttraining's rmse: 0.202307\tvalid_1's rmse: 0.207774\n",
      "[20]\ttraining's rmse: 0.133787\tvalid_1's rmse: 0.146106\n",
      "[30]\ttraining's rmse: 0.108127\tvalid_1's rmse: 0.126206\n",
      "[40]\ttraining's rmse: 0.0957043\tvalid_1's rmse: 0.11863\n",
      "[50]\ttraining's rmse: 0.0870142\tvalid_1's rmse: 0.114894\n",
      "[60]\ttraining's rmse: 0.0801211\tvalid_1's rmse: 0.112773\n",
      "[70]\ttraining's rmse: 0.0743443\tvalid_1's rmse: 0.112368\n",
      "[80]\ttraining's rmse: 0.0693364\tvalid_1's rmse: 0.111515\n",
      "[90]\ttraining's rmse: 0.0645488\tvalid_1's rmse: 0.111842\n",
      "Early stopping, best iteration is:\n",
      "[84]\ttraining's rmse: 0.0672671\tvalid_1's rmse: 0.111149\n"
     ]
    },
    {
     "name": "stderr",
     "output_type": "stream",
     "text": [
      "regularization_factors, val_score: 0.108707:   5%|#9                                    | 1/20 [00:00<00:03,  6.17it/s][I 2020-10-23 12:51:35,989] Trial 40 finished with value: 0.11114926603733538 and parameters: {'lambda_l1': 0.030757640502787603, 'lambda_l2': 1.3696296585444804e-07}. Best is trial 40 with value: 0.11114926603733538.\n",
      "regularization_factors, val_score: 0.108707:   5%|#9                                    | 1/20 [00:00<00:03,  6.17it/s]"
     ]
    },
    {
     "name": "stdout",
     "output_type": "stream",
     "text": [
      "Training until validation scores don't improve for 10 rounds\n",
      "[10]\ttraining's rmse: 0.202347\tvalid_1's rmse: 0.206835\n",
      "[20]\ttraining's rmse: 0.13394\tvalid_1's rmse: 0.144712\n",
      "[30]\ttraining's rmse: 0.108313\tvalid_1's rmse: 0.125415\n",
      "[40]\ttraining's rmse: 0.0958683\tvalid_1's rmse: 0.118241\n",
      "[50]\ttraining's rmse: 0.0870759\tvalid_1's rmse: 0.114008\n",
      "[60]\ttraining's rmse: 0.0803337\tvalid_1's rmse: 0.111323\n",
      "[70]\ttraining's rmse: 0.074784\tvalid_1's rmse: 0.110868\n",
      "[80]\ttraining's rmse: 0.0700793\tvalid_1's rmse: 0.110761\n",
      "Early stopping, best iteration is:\n",
      "[74]\ttraining's rmse: 0.0728593\tvalid_1's rmse: 0.110198\n"
     ]
    },
    {
     "name": "stderr",
     "output_type": "stream",
     "text": [
      "regularization_factors, val_score: 0.108707:  10%|###8                                  | 2/20 [00:00<00:02,  6.34it/s][I 2020-10-23 12:51:36,138] Trial 41 finished with value: 0.11019777526150644 and parameters: {'lambda_l1': 0.048071798105494674, 'lambda_l2': 3.521942701417569e-08}. Best is trial 41 with value: 0.11019777526150644.\n",
      "regularization_factors, val_score: 0.108707:  10%|###8                                  | 2/20 [00:00<00:02,  6.34it/s]"
     ]
    },
    {
     "name": "stdout",
     "output_type": "stream",
     "text": [
      "Training until validation scores don't improve for 10 rounds\n",
      "[10]\ttraining's rmse: 0.202109\tvalid_1's rmse: 0.206629\n",
      "[20]\ttraining's rmse: 0.13374\tvalid_1's rmse: 0.14451\n",
      "[30]\ttraining's rmse: 0.107713\tvalid_1's rmse: 0.12518\n",
      "[40]\ttraining's rmse: 0.0952706\tvalid_1's rmse: 0.117878\n",
      "[50]\ttraining's rmse: 0.0865216\tvalid_1's rmse: 0.114433\n",
      "[60]\ttraining's rmse: 0.0798135\tvalid_1's rmse: 0.112734\n",
      "[70]\ttraining's rmse: 0.0743837\tvalid_1's rmse: 0.112489\n",
      "[80]\ttraining's rmse: 0.0696408\tvalid_1's rmse: 0.112641\n",
      "Early stopping, best iteration is:\n",
      "[74]\ttraining's rmse: 0.0722163\tvalid_1's rmse: 0.112012\n"
     ]
    },
    {
     "name": "stderr",
     "output_type": "stream",
     "text": [
      "regularization_factors, val_score: 0.108707:  15%|#####7                                | 3/20 [00:00<00:02,  6.35it/s][I 2020-10-23 12:51:36,295] Trial 42 finished with value: 0.11201237038862741 and parameters: {'lambda_l1': 0.03755901412583065, 'lambda_l2': 1.3074693503704573e-08}. Best is trial 41 with value: 0.11019777526150644.\n",
      "regularization_factors, val_score: 0.108707:  15%|#####7                                | 3/20 [00:00<00:02,  6.35it/s]"
     ]
    },
    {
     "name": "stdout",
     "output_type": "stream",
     "text": [
      "Training until validation scores don't improve for 10 rounds\n",
      "[10]\ttraining's rmse: 0.202641\tvalid_1's rmse: 0.207816\n",
      "[20]\ttraining's rmse: 0.133893\tvalid_1's rmse: 0.146927\n",
      "[30]\ttraining's rmse: 0.109202\tvalid_1's rmse: 0.126509\n",
      "[40]\ttraining's rmse: 0.0966666\tvalid_1's rmse: 0.117964\n",
      "[50]\ttraining's rmse: 0.087565\tvalid_1's rmse: 0.11363\n",
      "[60]\ttraining's rmse: 0.0803425\tvalid_1's rmse: 0.111728\n",
      "[70]\ttraining's rmse: 0.0751587\tvalid_1's rmse: 0.111354\n",
      "[80]\ttraining's rmse: 0.0707487\tvalid_1's rmse: 0.110809\n",
      "Early stopping, best iteration is:\n",
      "[78]\ttraining's rmse: 0.0715959\tvalid_1's rmse: 0.110653\n"
     ]
    },
    {
     "name": "stderr",
     "output_type": "stream",
     "text": [
      "regularization_factors, val_score: 0.108707:  20%|#######6                              | 4/20 [00:00<00:02,  6.38it/s][I 2020-10-23 12:51:36,450] Trial 43 finished with value: 0.11065272173454353 and parameters: {'lambda_l1': 0.09531101794347503, 'lambda_l2': 4.677354076044999e-08}. Best is trial 41 with value: 0.11019777526150644.\n",
      "regularization_factors, val_score: 0.108707:  20%|#######6                              | 4/20 [00:00<00:02,  6.38it/s]"
     ]
    },
    {
     "name": "stdout",
     "output_type": "stream",
     "text": [
      "Training until validation scores don't improve for 10 rounds\n",
      "[10]\ttraining's rmse: 0.256029\tvalid_1's rmse: 0.254536\n",
      "[20]\ttraining's rmse: 0.199856\tvalid_1's rmse: 0.20216\n",
      "[30]\ttraining's rmse: 0.175078\tvalid_1's rmse: 0.181592\n",
      "[40]\ttraining's rmse: 0.16312\tvalid_1's rmse: 0.172203\n",
      "[50]\ttraining's rmse: 0.15549\tvalid_1's rmse: 0.165284\n",
      "[60]\ttraining's rmse: 0.150383\tvalid_1's rmse: 0.161036\n",
      "[70]\ttraining's rmse: 0.147237\tvalid_1's rmse: 0.158097\n",
      "[80]\ttraining's rmse: 0.145178\tvalid_1's rmse: 0.156231\n",
      "[90]\ttraining's rmse: 0.144288\tvalid_1's rmse: 0.155598\n",
      "[100]\ttraining's rmse: 0.143533\tvalid_1's rmse: 0.154912\n",
      "[110]\ttraining's rmse: 0.14311\tvalid_1's rmse: 0.154699\n",
      "[120]\ttraining's rmse: 0.14256\tvalid_1's rmse: 0.154118\n",
      "[130]\ttraining's rmse: 0.14162\tvalid_1's rmse: 0.152916\n",
      "[140]\ttraining's rmse: 0.141257\tvalid_1's rmse: 0.152577\n",
      "[150]\ttraining's rmse: 0.140897\tvalid_1's rmse: 0.152156\n",
      "[160]\ttraining's rmse: 0.14062\tvalid_1's rmse: 0.151848\n",
      "[170]\ttraining's rmse: 0.140271\tvalid_1's rmse: 0.151368\n",
      "[180]\ttraining's rmse: 0.140069\tvalid_1's rmse: 0.151131\n",
      "[190]\ttraining's rmse: 0.139928\tvalid_1's rmse: 0.151008\n",
      "[200]\ttraining's rmse: 0.139684\tvalid_1's rmse: 0.15075\n",
      "[210]\ttraining's rmse: 0.139549\tvalid_1's rmse: 0.1507\n",
      "[220]\ttraining's rmse: 0.139371\tvalid_1's rmse: 0.150413\n",
      "[230]\ttraining's rmse: 0.139151\tvalid_1's rmse: 0.150299\n",
      "[240]\ttraining's rmse: 0.139058\tvalid_1's rmse: 0.150182\n",
      "[250]\ttraining's rmse: 0.138931\tvalid_1's rmse: 0.150103\n",
      "[260]\ttraining's rmse: 0.138858\tvalid_1's rmse: 0.149925\n",
      "[270]\ttraining's rmse: 0.138737\tvalid_1's rmse: 0.149734\n",
      "[280]\ttraining's rmse: 0.138489\tvalid_1's rmse: 0.149526\n",
      "[290]\ttraining's rmse: 0.138452\tvalid_1's rmse: 0.149519\n",
      "Early stopping, best iteration is:\n",
      "[288]\ttraining's rmse: 0.138478\tvalid_1's rmse: 0.149491\n"
     ]
    },
    {
     "name": "stderr",
     "output_type": "stream",
     "text": [
      "regularization_factors, val_score: 0.108707:  25%|#########5                            | 5/20 [00:00<00:02,  5.12it/s][I 2020-10-23 12:51:36,735] Trial 44 finished with value: 0.14949133874740606 and parameters: {'lambda_l1': 7.224824407812844, 'lambda_l2': 0.39595201884198383}. Best is trial 41 with value: 0.11019777526150644.\n",
      "regularization_factors, val_score: 0.108707:  25%|#########5                            | 5/20 [00:00<00:02,  5.12it/s]"
     ]
    },
    {
     "name": "stdout",
     "output_type": "stream",
     "text": [
      "Training until validation scores don't improve for 10 rounds\n",
      "[10]\ttraining's rmse: 0.201416\tvalid_1's rmse: 0.205989\n",
      "[20]\ttraining's rmse: 0.132845\tvalid_1's rmse: 0.14322\n",
      "[30]\ttraining's rmse: 0.107963\tvalid_1's rmse: 0.124334\n",
      "[40]\ttraining's rmse: 0.0950318\tvalid_1's rmse: 0.115997\n",
      "[50]\ttraining's rmse: 0.085679\tvalid_1's rmse: 0.112371\n",
      "[60]\ttraining's rmse: 0.0786429\tvalid_1's rmse: 0.109847\n",
      "[70]\ttraining's rmse: 0.0728279\tvalid_1's rmse: 0.109154\n",
      "[80]\ttraining's rmse: 0.0682677\tvalid_1's rmse: 0.10907\n",
      "Early stopping, best iteration is:\n",
      "[74]\ttraining's rmse: 0.0711134\tvalid_1's rmse: 0.108707\n"
     ]
    },
    {
     "name": "stderr",
     "output_type": "stream",
     "text": [
      "regularization_factors, val_score: 0.108707:  30%|###########4                          | 6/20 [00:01<00:02,  5.30it/s][I 2020-10-23 12:51:36,907] Trial 45 finished with value: 0.10870731107887668 and parameters: {'lambda_l1': 1.5939219080026834e-08, 'lambda_l2': 2.0295290625363904e-06}. Best is trial 45 with value: 0.10870731107887668.\n",
      "regularization_factors, val_score: 0.108707:  30%|###########4                          | 6/20 [00:01<00:02,  5.30it/s]"
     ]
    },
    {
     "name": "stdout",
     "output_type": "stream",
     "text": [
      "Training until validation scores don't improve for 10 rounds\n",
      "[10]\ttraining's rmse: 0.201416\tvalid_1's rmse: 0.205988\n",
      "[20]\ttraining's rmse: 0.132845\tvalid_1's rmse: 0.14322\n",
      "[30]\ttraining's rmse: 0.107963\tvalid_1's rmse: 0.124334\n",
      "[40]\ttraining's rmse: 0.0950318\tvalid_1's rmse: 0.115997\n",
      "[50]\ttraining's rmse: 0.085679\tvalid_1's rmse: 0.112371\n",
      "[60]\ttraining's rmse: 0.0786429\tvalid_1's rmse: 0.109847\n",
      "[70]\ttraining's rmse: 0.0728279\tvalid_1's rmse: 0.109154\n",
      "[80]\ttraining's rmse: 0.0682677\tvalid_1's rmse: 0.10907\n",
      "Early stopping, best iteration is:\n",
      "[74]\ttraining's rmse: 0.0711134\tvalid_1's rmse: 0.108707\n"
     ]
    },
    {
     "name": "stderr",
     "output_type": "stream",
     "text": [
      "regularization_factors, val_score: 0.108707:  35%|#############3                        | 7/20 [00:01<00:02,  5.78it/s][I 2020-10-23 12:51:37,045] Trial 46 finished with value: 0.10870731110610127 and parameters: {'lambda_l1': 8.289856531447605e-08, 'lambda_l2': 6.657196045657463e-07}. Best is trial 45 with value: 0.10870731107887668.\n",
      "regularization_factors, val_score: 0.108707:  35%|#############3                        | 7/20 [00:01<00:02,  5.78it/s]"
     ]
    },
    {
     "name": "stdout",
     "output_type": "stream",
     "text": [
      "Training until validation scores don't improve for 10 rounds\n",
      "[10]\ttraining's rmse: 0.201416\tvalid_1's rmse: 0.205989\n",
      "[20]\ttraining's rmse: 0.132845\tvalid_1's rmse: 0.14322\n",
      "[30]\ttraining's rmse: 0.107963\tvalid_1's rmse: 0.124334\n",
      "[40]\ttraining's rmse: 0.0950318\tvalid_1's rmse: 0.115997\n",
      "[50]\ttraining's rmse: 0.085679\tvalid_1's rmse: 0.112371\n",
      "[60]\ttraining's rmse: 0.0786429\tvalid_1's rmse: 0.109847\n",
      "[70]\ttraining's rmse: 0.0728279\tvalid_1's rmse: 0.109154\n",
      "[80]\ttraining's rmse: 0.0682677\tvalid_1's rmse: 0.10907\n",
      "Early stopping, best iteration is:\n",
      "[74]\ttraining's rmse: 0.0711134\tvalid_1's rmse: 0.108707\n"
     ]
    },
    {
     "name": "stderr",
     "output_type": "stream",
     "text": [
      "regularization_factors, val_score: 0.108707:  40%|###############2                      | 8/20 [00:01<00:01,  6.20it/s][I 2020-10-23 12:51:37,178] Trial 47 finished with value: 0.10870731214321175 and parameters: {'lambda_l1': 1.0576924521536825e-08, 'lambda_l2': 1.3417772561881158e-05}. Best is trial 45 with value: 0.10870731107887668.\n",
      "regularization_factors, val_score: 0.108707:  40%|###############2                      | 8/20 [00:01<00:01,  6.20it/s]"
     ]
    },
    {
     "name": "stdout",
     "output_type": "stream",
     "text": [
      "Training until validation scores don't improve for 10 rounds\n",
      "[10]\ttraining's rmse: 0.201416\tvalid_1's rmse: 0.205989\n",
      "[20]\ttraining's rmse: 0.132845\tvalid_1's rmse: 0.14322\n",
      "[30]\ttraining's rmse: 0.107963\tvalid_1's rmse: 0.124334\n",
      "[40]\ttraining's rmse: 0.0950318\tvalid_1's rmse: 0.115997\n",
      "[50]\ttraining's rmse: 0.085679\tvalid_1's rmse: 0.112371\n",
      "[60]\ttraining's rmse: 0.0786429\tvalid_1's rmse: 0.109847\n",
      "[70]\ttraining's rmse: 0.0728279\tvalid_1's rmse: 0.109154\n",
      "[80]\ttraining's rmse: 0.0682677\tvalid_1's rmse: 0.10907\n",
      "Early stopping, best iteration is:\n",
      "[74]\ttraining's rmse: 0.0711134\tvalid_1's rmse: 0.108707\n"
     ]
    },
    {
     "name": "stderr",
     "output_type": "stream",
     "text": [
      "regularization_factors, val_score: 0.108707:  45%|#################1                    | 9/20 [00:01<00:01,  6.15it/s][I 2020-10-23 12:51:37,343] Trial 48 finished with value: 0.10870731342031464 and parameters: {'lambda_l1': 1.1333500743924477e-08, 'lambda_l2': 2.6038901892848084e-05}. Best is trial 45 with value: 0.10870731107887668.\n",
      "regularization_factors, val_score: 0.108707:  45%|#################1                    | 9/20 [00:01<00:01,  6.15it/s]"
     ]
    },
    {
     "name": "stdout",
     "output_type": "stream",
     "text": [
      "Training until validation scores don't improve for 10 rounds\n",
      "[10]\ttraining's rmse: 0.201417\tvalid_1's rmse: 0.205989\n",
      "[20]\ttraining's rmse: 0.132845\tvalid_1's rmse: 0.14322\n",
      "[30]\ttraining's rmse: 0.107963\tvalid_1's rmse: 0.124334\n",
      "[40]\ttraining's rmse: 0.0950319\tvalid_1's rmse: 0.115997\n",
      "[50]\ttraining's rmse: 0.0856791\tvalid_1's rmse: 0.112371\n",
      "[60]\ttraining's rmse: 0.0786429\tvalid_1's rmse: 0.109847\n",
      "[70]\ttraining's rmse: 0.072828\tvalid_1's rmse: 0.109154\n",
      "[80]\ttraining's rmse: 0.0682677\tvalid_1's rmse: 0.10907\n",
      "Early stopping, best iteration is:\n",
      "[74]\ttraining's rmse: 0.0711135\tvalid_1's rmse: 0.108707\n"
     ]
    },
    {
     "name": "stderr",
     "output_type": "stream",
     "text": [
      "regularization_factors, val_score: 0.108707:  50%|##################5                  | 10/20 [00:01<00:01,  5.83it/s][I 2020-10-23 12:51:37,536] Trial 49 finished with value: 0.10870731564767881 and parameters: {'lambda_l1': 1.1762042314591406e-08, 'lambda_l2': 4.8515467902428485e-05}. Best is trial 45 with value: 0.10870731107887668.\n",
      "regularization_factors, val_score: 0.108707:  50%|##################5                  | 10/20 [00:01<00:01,  5.83it/s]"
     ]
    },
    {
     "name": "stdout",
     "output_type": "stream",
     "text": [
      "Training until validation scores don't improve for 10 rounds\n",
      "[10]\ttraining's rmse: 0.201416\tvalid_1's rmse: 0.205989\n",
      "[20]\ttraining's rmse: 0.132845\tvalid_1's rmse: 0.14322\n",
      "[30]\ttraining's rmse: 0.107963\tvalid_1's rmse: 0.124334\n",
      "[40]\ttraining's rmse: 0.0950318\tvalid_1's rmse: 0.115997\n",
      "[50]\ttraining's rmse: 0.085679\tvalid_1's rmse: 0.112371\n",
      "[60]\ttraining's rmse: 0.0786429\tvalid_1's rmse: 0.109847\n",
      "[70]\ttraining's rmse: 0.0728279\tvalid_1's rmse: 0.109154\n",
      "[80]\ttraining's rmse: 0.0682677\tvalid_1's rmse: 0.10907\n",
      "Early stopping, best iteration is:\n",
      "[74]\ttraining's rmse: 0.0711134\tvalid_1's rmse: 0.108707\n"
     ]
    },
    {
     "name": "stderr",
     "output_type": "stream",
     "text": [
      "regularization_factors, val_score: 0.108707:  55%|####################3                | 11/20 [00:01<00:01,  5.41it/s][I 2020-10-23 12:51:37,752] Trial 50 finished with value: 0.10870731220640921 and parameters: {'lambda_l1': 1.0617764390323364e-08, 'lambda_l2': 1.4096747976975372e-05}. Best is trial 45 with value: 0.10870731107887668.\n",
      "regularization_factors, val_score: 0.108707:  55%|####################3                | 11/20 [00:01<00:01,  5.41it/s]"
     ]
    },
    {
     "name": "stdout",
     "output_type": "stream",
     "text": [
      "Training until validation scores don't improve for 10 rounds\n",
      "[10]\ttraining's rmse: 0.201417\tvalid_1's rmse: 0.205989\n",
      "[20]\ttraining's rmse: 0.132845\tvalid_1's rmse: 0.14322\n",
      "[30]\ttraining's rmse: 0.107963\tvalid_1's rmse: 0.124334\n",
      "[40]\ttraining's rmse: 0.0950318\tvalid_1's rmse: 0.115997\n",
      "[50]\ttraining's rmse: 0.0856791\tvalid_1's rmse: 0.112371\n",
      "[60]\ttraining's rmse: 0.0786429\tvalid_1's rmse: 0.109847\n",
      "[70]\ttraining's rmse: 0.0728279\tvalid_1's rmse: 0.109154\n",
      "[80]\ttraining's rmse: 0.0682677\tvalid_1's rmse: 0.10907\n",
      "Early stopping, best iteration is:\n",
      "[74]\ttraining's rmse: 0.0711135\tvalid_1's rmse: 0.108707\n"
     ]
    },
    {
     "name": "stderr",
     "output_type": "stream",
     "text": [
      "regularization_factors, val_score: 0.108707:  60%|######################2              | 12/20 [00:02<00:01,  5.29it/s][I 2020-10-23 12:51:37,951] Trial 51 finished with value: 0.10870731389383245 and parameters: {'lambda_l1': 1.2234496646917797e-08, 'lambda_l2': 3.0478722588593085e-05}. Best is trial 45 with value: 0.10870731107887668.\n",
      "regularization_factors, val_score: 0.108707:  60%|######################2              | 12/20 [00:02<00:01,  5.29it/s]"
     ]
    },
    {
     "name": "stdout",
     "output_type": "stream",
     "text": [
      "Training until validation scores don't improve for 10 rounds\n",
      "[10]\ttraining's rmse: 0.201416\tvalid_1's rmse: 0.205989\n",
      "[20]\ttraining's rmse: 0.132845\tvalid_1's rmse: 0.14322\n",
      "[30]\ttraining's rmse: 0.107963\tvalid_1's rmse: 0.124334\n",
      "[40]\ttraining's rmse: 0.0950318\tvalid_1's rmse: 0.115997\n",
      "[50]\ttraining's rmse: 0.085679\tvalid_1's rmse: 0.112371\n",
      "[60]\ttraining's rmse: 0.0786429\tvalid_1's rmse: 0.109847\n",
      "[70]\ttraining's rmse: 0.0728279\tvalid_1's rmse: 0.109154\n",
      "[80]\ttraining's rmse: 0.0682677\tvalid_1's rmse: 0.10907\n",
      "Early stopping, best iteration is:\n",
      "[74]\ttraining's rmse: 0.0711134\tvalid_1's rmse: 0.108707\n"
     ]
    },
    {
     "name": "stderr",
     "output_type": "stream",
     "text": [
      "regularization_factors, val_score: 0.108707:  65%|########################             | 13/20 [00:02<00:01,  5.36it/s][I 2020-10-23 12:51:38,132] Trial 52 finished with value: 0.10870731202692958 and parameters: {'lambda_l1': 2.2701602363538734e-07, 'lambda_l2': 6.209894418419276e-06}. Best is trial 45 with value: 0.10870731107887668.\n",
      "regularization_factors, val_score: 0.108707:  65%|########################             | 13/20 [00:02<00:01,  5.36it/s]"
     ]
    },
    {
     "name": "stdout",
     "output_type": "stream",
     "text": [
      "Training until validation scores don't improve for 10 rounds\n",
      "[10]\ttraining's rmse: 0.201416\tvalid_1's rmse: 0.205989\n",
      "[20]\ttraining's rmse: 0.132845\tvalid_1's rmse: 0.14322\n",
      "[30]\ttraining's rmse: 0.107963\tvalid_1's rmse: 0.124334\n",
      "[40]\ttraining's rmse: 0.0950318\tvalid_1's rmse: 0.115997\n",
      "[50]\ttraining's rmse: 0.085679\tvalid_1's rmse: 0.112371\n",
      "[60]\ttraining's rmse: 0.0786429\tvalid_1's rmse: 0.109847\n",
      "[70]\ttraining's rmse: 0.0728279\tvalid_1's rmse: 0.109154\n",
      "[80]\ttraining's rmse: 0.0682677\tvalid_1's rmse: 0.10907\n",
      "Early stopping, best iteration is:\n",
      "[74]\ttraining's rmse: 0.0711134\tvalid_1's rmse: 0.108707\n"
     ]
    },
    {
     "name": "stderr",
     "output_type": "stream",
     "text": [
      "regularization_factors, val_score: 0.108707:  70%|#########################9           | 14/20 [00:02<00:01,  5.54it/s][I 2020-10-23 12:51:38,298] Trial 53 finished with value: 0.10870731340525881 and parameters: {'lambda_l1': 9.802473480851854e-07, 'lambda_l2': 2.1885875361900007e-06}. Best is trial 45 with value: 0.10870731107887668.\n",
      "regularization_factors, val_score: 0.108707:  70%|#########################9           | 14/20 [00:02<00:01,  5.54it/s]"
     ]
    },
    {
     "name": "stdout",
     "output_type": "stream",
     "text": [
      "Training until validation scores don't improve for 10 rounds\n",
      "[10]\ttraining's rmse: 0.201416\tvalid_1's rmse: 0.205989\n",
      "[20]\ttraining's rmse: 0.132845\tvalid_1's rmse: 0.14322\n",
      "[30]\ttraining's rmse: 0.107963\tvalid_1's rmse: 0.124334\n",
      "[40]\ttraining's rmse: 0.0950318\tvalid_1's rmse: 0.115997\n",
      "[50]\ttraining's rmse: 0.085679\tvalid_1's rmse: 0.112371\n",
      "[60]\ttraining's rmse: 0.0786429\tvalid_1's rmse: 0.109847\n",
      "[70]\ttraining's rmse: 0.0728279\tvalid_1's rmse: 0.109154\n",
      "[80]\ttraining's rmse: 0.0682677\tvalid_1's rmse: 0.10907\n",
      "Early stopping, best iteration is:\n",
      "[74]\ttraining's rmse: 0.0711134\tvalid_1's rmse: 0.108707\n"
     ]
    },
    {
     "name": "stderr",
     "output_type": "stream",
     "text": [
      "regularization_factors, val_score: 0.108707:  75%|###########################7         | 15/20 [00:02<00:00,  5.70it/s][I 2020-10-23 12:51:38,462] Trial 54 finished with value: 0.10870731302887711 and parameters: {'lambda_l1': 8.41671704711828e-07, 'lambda_l2': 1.4190074660759715e-06}. Best is trial 45 with value: 0.10870731107887668.\n",
      "regularization_factors, val_score: 0.108707:  75%|###########################7         | 15/20 [00:02<00:00,  5.70it/s]"
     ]
    },
    {
     "name": "stdout",
     "output_type": "stream",
     "text": [
      "Training until validation scores don't improve for 10 rounds\n",
      "[10]\ttraining's rmse: 0.201416\tvalid_1's rmse: 0.205989\n",
      "[20]\ttraining's rmse: 0.132845\tvalid_1's rmse: 0.14322\n",
      "[30]\ttraining's rmse: 0.107963\tvalid_1's rmse: 0.124334\n",
      "[40]\ttraining's rmse: 0.0950318\tvalid_1's rmse: 0.115997\n",
      "[50]\ttraining's rmse: 0.085679\tvalid_1's rmse: 0.112371\n",
      "[60]\ttraining's rmse: 0.0786429\tvalid_1's rmse: 0.109847\n",
      "[70]\ttraining's rmse: 0.0728279\tvalid_1's rmse: 0.109154\n",
      "[80]\ttraining's rmse: 0.0682677\tvalid_1's rmse: 0.10907\n",
      "Early stopping, best iteration is:\n",
      "[74]\ttraining's rmse: 0.0711134\tvalid_1's rmse: 0.108707\n"
     ]
    },
    {
     "name": "stderr",
     "output_type": "stream",
     "text": [
      "regularization_factors, val_score: 0.108707:  80%|#############################6       | 16/20 [00:02<00:00,  5.58it/s][I 2020-10-23 12:51:38,650] Trial 55 finished with value: 0.10870731210076155 and parameters: {'lambda_l1': 4.421995407724063e-07, 'lambda_l2': 1.5518699652060972e-06}. Best is trial 45 with value: 0.10870731107887668.\n",
      "regularization_factors, val_score: 0.108707:  80%|#############################6       | 16/20 [00:02<00:00,  5.58it/s]"
     ]
    },
    {
     "name": "stdout",
     "output_type": "stream",
     "text": [
      "Training until validation scores don't improve for 10 rounds\n",
      "[10]\ttraining's rmse: 0.201416\tvalid_1's rmse: 0.205989\n",
      "[20]\ttraining's rmse: 0.132845\tvalid_1's rmse: 0.14322\n",
      "[30]\ttraining's rmse: 0.107963\tvalid_1's rmse: 0.124334\n",
      "[40]\ttraining's rmse: 0.0950318\tvalid_1's rmse: 0.115997\n",
      "[50]\ttraining's rmse: 0.085679\tvalid_1's rmse: 0.112371\n",
      "[60]\ttraining's rmse: 0.0786429\tvalid_1's rmse: 0.109847\n",
      "[70]\ttraining's rmse: 0.0728279\tvalid_1's rmse: 0.109154\n",
      "[80]\ttraining's rmse: 0.0682677\tvalid_1's rmse: 0.10907\n",
      "Early stopping, best iteration is:\n",
      "[74]\ttraining's rmse: 0.0711134\tvalid_1's rmse: 0.108707\n"
     ]
    },
    {
     "name": "stderr",
     "output_type": "stream",
     "text": [
      "regularization_factors, val_score: 0.108707:  85%|###############################4     | 17/20 [00:02<00:00,  5.74it/s][I 2020-10-23 12:51:38,812] Trial 56 finished with value: 0.10870731207054622 and parameters: {'lambda_l1': 4.525565620276594e-07, 'lambda_l2': 1.261033380584838e-06}. Best is trial 45 with value: 0.10870731107887668.\n",
      "regularization_factors, val_score: 0.108707:  85%|###############################4     | 17/20 [00:02<00:00,  5.74it/s]"
     ]
    },
    {
     "name": "stdout",
     "output_type": "stream",
     "text": [
      "Training until validation scores don't improve for 10 rounds\n",
      "[10]\ttraining's rmse: 0.201416\tvalid_1's rmse: 0.205989\n",
      "[20]\ttraining's rmse: 0.132845\tvalid_1's rmse: 0.14322\n",
      "[30]\ttraining's rmse: 0.107963\tvalid_1's rmse: 0.124334\n",
      "[40]\ttraining's rmse: 0.0950318\tvalid_1's rmse: 0.115997\n",
      "[50]\ttraining's rmse: 0.085679\tvalid_1's rmse: 0.112371\n",
      "[60]\ttraining's rmse: 0.0786429\tvalid_1's rmse: 0.109847\n",
      "[70]\ttraining's rmse: 0.0728279\tvalid_1's rmse: 0.109154\n",
      "[80]\ttraining's rmse: 0.0682677\tvalid_1's rmse: 0.10907\n",
      "Early stopping, best iteration is:\n",
      "[74]\ttraining's rmse: 0.0711134\tvalid_1's rmse: 0.108707\n"
     ]
    },
    {
     "name": "stderr",
     "output_type": "stream",
     "text": [
      "regularization_factors, val_score: 0.108707:  90%|#################################3   | 18/20 [00:03<00:00,  5.74it/s][I 2020-10-23 12:51:38,987] Trial 57 finished with value: 0.10870731277444798 and parameters: {'lambda_l1': 7.556040828462317e-07, 'lambda_l2': 5.818262585870457e-07}. Best is trial 45 with value: 0.10870731107887668.\n",
      "regularization_factors, val_score: 0.108707:  90%|#################################3   | 18/20 [00:03<00:00,  5.74it/s]"
     ]
    },
    {
     "name": "stdout",
     "output_type": "stream",
     "text": [
      "Training until validation scores don't improve for 10 rounds\n",
      "[10]\ttraining's rmse: 0.201429\tvalid_1's rmse: 0.206\n",
      "[20]\ttraining's rmse: 0.132853\tvalid_1's rmse: 0.143227\n",
      "[30]\ttraining's rmse: 0.107968\tvalid_1's rmse: 0.124337\n",
      "[40]\ttraining's rmse: 0.0950349\tvalid_1's rmse: 0.115999\n",
      "[50]\ttraining's rmse: 0.0856817\tvalid_1's rmse: 0.112372\n",
      "[60]\ttraining's rmse: 0.0786458\tvalid_1's rmse: 0.109848\n",
      "[70]\ttraining's rmse: 0.0728066\tvalid_1's rmse: 0.108923\n",
      "[80]\ttraining's rmse: 0.0681586\tvalid_1's rmse: 0.108879\n",
      "Early stopping, best iteration is:\n",
      "[74]\ttraining's rmse: 0.070901\tvalid_1's rmse: 0.108139\n"
     ]
    },
    {
     "name": "stderr",
     "output_type": "stream",
     "text": [
      "regularization_factors, val_score: 0.108139:  95%|###################################1 | 19/20 [00:03<00:00,  5.73it/s][I 2020-10-23 12:51:39,162] Trial 58 finished with value: 0.10813914533915774 and parameters: {'lambda_l1': 2.0907907914296557e-07, 'lambda_l2': 0.002995816287286573}. Best is trial 58 with value: 0.10813914533915774.\n",
      "regularization_factors, val_score: 0.108139:  95%|###################################1 | 19/20 [00:03<00:00,  5.73it/s]"
     ]
    },
    {
     "name": "stdout",
     "output_type": "stream",
     "text": [
      "Training until validation scores don't improve for 10 rounds\n",
      "[10]\ttraining's rmse: 0.201454\tvalid_1's rmse: 0.206023\n",
      "[20]\ttraining's rmse: 0.132869\tvalid_1's rmse: 0.14324\n",
      "[30]\ttraining's rmse: 0.107976\tvalid_1's rmse: 0.124344\n",
      "[40]\ttraining's rmse: 0.0950881\tvalid_1's rmse: 0.115946\n",
      "[50]\ttraining's rmse: 0.085748\tvalid_1's rmse: 0.112253\n",
      "[60]\ttraining's rmse: 0.0788083\tvalid_1's rmse: 0.110687\n",
      "[70]\ttraining's rmse: 0.0730748\tvalid_1's rmse: 0.110583\n",
      "[80]\ttraining's rmse: 0.0682076\tvalid_1's rmse: 0.110362\n",
      "Early stopping, best iteration is:\n",
      "[74]\ttraining's rmse: 0.0711939\tvalid_1's rmse: 0.109755\n"
     ]
    },
    {
     "name": "stderr",
     "output_type": "stream",
     "text": [
      "regularization_factors, val_score: 0.108139: 100%|#####################################| 20/20 [00:03<00:00,  5.89it/s][I 2020-10-23 12:51:39,321] Trial 59 finished with value: 0.10975525072964401 and parameters: {'lambda_l1': 1.2763530267195389e-05, 'lambda_l2': 0.008655421633031773}. Best is trial 58 with value: 0.10813914533915774.\n",
      "regularization_factors, val_score: 0.108139: 100%|#####################################| 20/20 [00:03<00:00,  5.72it/s]\n",
      "min_data_in_leaf, val_score: 0.108139:   0%|                                                     | 0/5 [00:00<?, ?it/s]"
     ]
    },
    {
     "name": "stdout",
     "output_type": "stream",
     "text": [
      "Training until validation scores don't improve for 10 rounds\n",
      "[10]\ttraining's rmse: 0.221355\tvalid_1's rmse: 0.220488\n",
      "[20]\ttraining's rmse: 0.159371\tvalid_1's rmse: 0.162979\n",
      "[30]\ttraining's rmse: 0.136187\tvalid_1's rmse: 0.14256\n",
      "[40]\ttraining's rmse: 0.125392\tvalid_1's rmse: 0.132043\n",
      "[50]\ttraining's rmse: 0.118925\tvalid_1's rmse: 0.126894\n",
      "[60]\ttraining's rmse: 0.114035\tvalid_1's rmse: 0.123877\n",
      "[70]\ttraining's rmse: 0.109449\tvalid_1's rmse: 0.122615\n",
      "[80]\ttraining's rmse: 0.105823\tvalid_1's rmse: 0.121552\n",
      "[90]\ttraining's rmse: 0.102395\tvalid_1's rmse: 0.121182\n",
      "[100]\ttraining's rmse: 0.0994067\tvalid_1's rmse: 0.11955\n",
      "[110]\ttraining's rmse: 0.0966068\tvalid_1's rmse: 0.119173\n",
      "Early stopping, best iteration is:\n",
      "[107]\ttraining's rmse: 0.0973379\tvalid_1's rmse: 0.119133\n"
     ]
    },
    {
     "name": "stderr",
     "output_type": "stream",
     "text": [
      "min_data_in_leaf, val_score: 0.108139:  20%|#########                                    | 1/5 [00:00<00:00,  7.35it/s][I 2020-10-23 12:51:39,464] Trial 60 finished with value: 0.11913258273209483 and parameters: {'min_child_samples': 50}. Best is trial 60 with value: 0.11913258273209483.\n",
      "min_data_in_leaf, val_score: 0.108139:  20%|#########                                    | 1/5 [00:00<00:00,  7.35it/s]"
     ]
    },
    {
     "name": "stdout",
     "output_type": "stream",
     "text": [
      "Training until validation scores don't improve for 10 rounds\n",
      "[10]\ttraining's rmse: 0.173572\tvalid_1's rmse: 0.197376\n",
      "[20]\ttraining's rmse: 0.0889592\tvalid_1's rmse: 0.140697\n",
      "[30]\ttraining's rmse: 0.0579192\tvalid_1's rmse: 0.126749\n",
      "[40]\ttraining's rmse: 0.0439006\tvalid_1's rmse: 0.122293\n",
      "[50]\ttraining's rmse: 0.0351787\tvalid_1's rmse: 0.120716\n",
      "[60]\ttraining's rmse: 0.0290587\tvalid_1's rmse: 0.119741\n",
      "[70]\ttraining's rmse: 0.0243756\tvalid_1's rmse: 0.119697\n",
      "Early stopping, best iteration is:\n",
      "[65]\ttraining's rmse: 0.0265997\tvalid_1's rmse: 0.119373\n"
     ]
    },
    {
     "name": "stderr",
     "output_type": "stream",
     "text": [
      "min_data_in_leaf, val_score: 0.108139:  40%|##################                           | 2/5 [00:00<00:00,  4.92it/s][I 2020-10-23 12:51:39,824] Trial 61 finished with value: 0.11937266496678493 and parameters: {'min_child_samples': 5}. Best is trial 60 with value: 0.11913258273209483.\n",
      "min_data_in_leaf, val_score: 0.108139:  40%|##################                           | 2/5 [00:00<00:00,  4.92it/s]"
     ]
    },
    {
     "name": "stdout",
     "output_type": "stream",
     "text": [
      "Training until validation scores don't improve for 10 rounds\n",
      "[10]\ttraining's rmse: 0.205712\tvalid_1's rmse: 0.20922\n",
      "[20]\ttraining's rmse: 0.139531\tvalid_1's rmse: 0.147709\n",
      "[30]\ttraining's rmse: 0.115882\tvalid_1's rmse: 0.127255\n",
      "[40]\ttraining's rmse: 0.104505\tvalid_1's rmse: 0.118401\n",
      "[50]\ttraining's rmse: 0.0953927\tvalid_1's rmse: 0.113688\n",
      "[60]\ttraining's rmse: 0.0888165\tvalid_1's rmse: 0.111733\n",
      "[70]\ttraining's rmse: 0.0830509\tvalid_1's rmse: 0.110451\n",
      "[80]\ttraining's rmse: 0.078347\tvalid_1's rmse: 0.109628\n",
      "Early stopping, best iteration is:\n",
      "[74]\ttraining's rmse: 0.0811306\tvalid_1's rmse: 0.109377\n"
     ]
    },
    {
     "name": "stderr",
     "output_type": "stream",
     "text": [
      "min_data_in_leaf, val_score: 0.108139:  60%|###########################                  | 3/5 [00:00<00:00,  5.40it/s][I 2020-10-23 12:51:39,968] Trial 62 finished with value: 0.1093767023110462 and parameters: {'min_child_samples': 25}. Best is trial 62 with value: 0.1093767023110462.\n",
      "min_data_in_leaf, val_score: 0.108139:  60%|###########################                  | 3/5 [00:00<00:00,  5.40it/s]"
     ]
    },
    {
     "name": "stdout",
     "output_type": "stream",
     "text": [
      "Training until validation scores don't improve for 10 rounds\n",
      "[10]\ttraining's rmse: 0.187589\tvalid_1's rmse: 0.200206\n",
      "[20]\ttraining's rmse: 0.111716\tvalid_1's rmse: 0.140893\n",
      "[30]\ttraining's rmse: 0.0832056\tvalid_1's rmse: 0.124026\n",
      "[40]\ttraining's rmse: 0.0690794\tvalid_1's rmse: 0.116894\n",
      "[50]\ttraining's rmse: 0.0596232\tvalid_1's rmse: 0.114642\n",
      "[60]\ttraining's rmse: 0.0523089\tvalid_1's rmse: 0.113955\n",
      "[70]\ttraining's rmse: 0.0463665\tvalid_1's rmse: 0.113643\n",
      "[80]\ttraining's rmse: 0.0415281\tvalid_1's rmse: 0.112678\n",
      "[90]\ttraining's rmse: 0.0371892\tvalid_1's rmse: 0.113079\n",
      "Early stopping, best iteration is:\n",
      "[84]\ttraining's rmse: 0.0398231\tvalid_1's rmse: 0.112549\n"
     ]
    },
    {
     "name": "stderr",
     "output_type": "stream",
     "text": [
      "min_data_in_leaf, val_score: 0.108139:  80%|####################################         | 4/5 [00:00<00:00,  4.81it/s][I 2020-10-23 12:51:40,228] Trial 63 finished with value: 0.11254924319020258 and parameters: {'min_child_samples': 10}. Best is trial 62 with value: 0.1093767023110462.\n",
      "min_data_in_leaf, val_score: 0.108139:  80%|####################################         | 4/5 [00:00<00:00,  4.81it/s]"
     ]
    },
    {
     "name": "stdout",
     "output_type": "stream",
     "text": [
      "Training until validation scores don't improve for 10 rounds\n",
      "[10]\ttraining's rmse: 0.237658\tvalid_1's rmse: 0.236349\n",
      "[20]\ttraining's rmse: 0.17938\tvalid_1's rmse: 0.181948\n",
      "[30]\ttraining's rmse: 0.1569\tvalid_1's rmse: 0.160682\n",
      "[40]\ttraining's rmse: 0.146752\tvalid_1's rmse: 0.152281\n",
      "[50]\ttraining's rmse: 0.140612\tvalid_1's rmse: 0.146592\n",
      "[60]\ttraining's rmse: 0.136291\tvalid_1's rmse: 0.14315\n",
      "[70]\ttraining's rmse: 0.13241\tvalid_1's rmse: 0.13988\n",
      "[80]\ttraining's rmse: 0.129381\tvalid_1's rmse: 0.137565\n",
      "[90]\ttraining's rmse: 0.126898\tvalid_1's rmse: 0.13605\n",
      "[100]\ttraining's rmse: 0.124465\tvalid_1's rmse: 0.134824\n",
      "[110]\ttraining's rmse: 0.122363\tvalid_1's rmse: 0.134151\n",
      "[120]\ttraining's rmse: 0.120418\tvalid_1's rmse: 0.133672\n",
      "[130]\ttraining's rmse: 0.118551\tvalid_1's rmse: 0.132637\n",
      "[140]\ttraining's rmse: 0.117056\tvalid_1's rmse: 0.132733\n",
      "[150]\ttraining's rmse: 0.115714\tvalid_1's rmse: 0.132704\n",
      "Early stopping, best iteration is:\n",
      "[147]\ttraining's rmse: 0.116204\tvalid_1's rmse: 0.132439\n"
     ]
    },
    {
     "name": "stderr",
     "output_type": "stream",
     "text": [
      "min_data_in_leaf, val_score: 0.108139: 100%|#############################################| 5/5 [00:01<00:00,  5.43it/s][I 2020-10-23 12:51:40,357] Trial 64 finished with value: 0.13243934310608244 and parameters: {'min_child_samples': 100}. Best is trial 62 with value: 0.1093767023110462.\n",
      "min_data_in_leaf, val_score: 0.108139: 100%|#############################################| 5/5 [00:01<00:00,  4.84it/s]\n",
      "[I 2020-10-23 12:51:40,382] A new study created in memory with name: no-name-253e2277-b9d1-45b5-8a70-98794c32ed7d\n",
      "feature_fraction, val_score: inf:   0%|                                                          | 0/7 [00:00<?, ?it/s]"
     ]
    },
    {
     "name": "stdout",
     "output_type": "stream",
     "text": [
      "Training until validation scores don't improve for 10 rounds\n",
      "[10]\ttraining's rmse: 0.193767\tvalid_1's rmse: 0.198285\n",
      "[20]\ttraining's rmse: 0.121615\tvalid_1's rmse: 0.138814\n",
      "[30]\ttraining's rmse: 0.0959178\tvalid_1's rmse: 0.122194\n",
      "[40]\ttraining's rmse: 0.082569\tvalid_1's rmse: 0.115875\n",
      "[50]\ttraining's rmse: 0.074067\tvalid_1's rmse: 0.114308\n",
      "[60]\ttraining's rmse: 0.0673322\tvalid_1's rmse: 0.114504\n",
      "Early stopping, best iteration is:\n",
      "[56]\ttraining's rmse: 0.0698334\tvalid_1's rmse: 0.114223\n"
     ]
    },
    {
     "name": "stderr",
     "output_type": "stream",
     "text": [
      "feature_fraction, val_score: 0.114223:  14%|######4                                      | 1/7 [00:00<00:00,  7.69it/s][I 2020-10-23 12:51:40,519] Trial 0 finished with value: 0.1142227669262466 and parameters: {'feature_fraction': 0.6}. Best is trial 0 with value: 0.1142227669262466.\n",
      "feature_fraction, val_score: 0.114223:  14%|######4                                      | 1/7 [00:00<00:00,  7.69it/s]"
     ]
    },
    {
     "name": "stdout",
     "output_type": "stream",
     "text": [
      "Training until validation scores don't improve for 10 rounds\n",
      "[10]\ttraining's rmse: 0.191832\tvalid_1's rmse: 0.196223\n",
      "[20]\ttraining's rmse: 0.120255\tvalid_1's rmse: 0.140668\n",
      "[30]\ttraining's rmse: 0.0938128\tvalid_1's rmse: 0.12342\n",
      "[40]\ttraining's rmse: 0.0799063\tvalid_1's rmse: 0.119406\n",
      "[50]\ttraining's rmse: 0.0709481\tvalid_1's rmse: 0.118178\n",
      "[60]\ttraining's rmse: 0.0643662\tvalid_1's rmse: 0.118154\n",
      "[70]\ttraining's rmse: 0.0588072\tvalid_1's rmse: 0.11763\n",
      "[80]\ttraining's rmse: 0.0538959\tvalid_1's rmse: 0.117277\n",
      "[90]\ttraining's rmse: 0.0495274\tvalid_1's rmse: 0.116993\n",
      "[100]\ttraining's rmse: 0.0455371\tvalid_1's rmse: 0.116959\n",
      "Early stopping, best iteration is:\n",
      "[92]\ttraining's rmse: 0.0486954\tvalid_1's rmse: 0.116888\n"
     ]
    },
    {
     "name": "stderr",
     "output_type": "stream",
     "text": [
      "feature_fraction, val_score: 0.114223:  29%|############8                                | 2/7 [00:00<00:00,  6.90it/s][I 2020-10-23 12:51:40,699] Trial 1 finished with value: 0.11688826507439348 and parameters: {'feature_fraction': 0.8999999999999999}. Best is trial 0 with value: 0.1142227669262466.\n",
      "feature_fraction, val_score: 0.114223:  29%|############8                                | 2/7 [00:00<00:00,  6.90it/s]"
     ]
    },
    {
     "name": "stdout",
     "output_type": "stream",
     "text": [
      "Training until validation scores don't improve for 10 rounds\n",
      "[10]\ttraining's rmse: 0.19208\tvalid_1's rmse: 0.197953\n",
      "[20]\ttraining's rmse: 0.12117\tvalid_1's rmse: 0.14142\n",
      "[30]\ttraining's rmse: 0.0942564\tvalid_1's rmse: 0.122882\n",
      "[40]\ttraining's rmse: 0.0806655\tvalid_1's rmse: 0.117565\n",
      "[50]\ttraining's rmse: 0.0716262\tvalid_1's rmse: 0.116463\n",
      "[60]\ttraining's rmse: 0.0644835\tvalid_1's rmse: 0.116163\n",
      "Early stopping, best iteration is:\n",
      "[56]\ttraining's rmse: 0.0670538\tvalid_1's rmse: 0.11565\n"
     ]
    },
    {
     "name": "stderr",
     "output_type": "stream",
     "text": [
      "feature_fraction, val_score: 0.114223:  43%|###################2                         | 3/7 [00:00<00:00,  7.29it/s][I 2020-10-23 12:51:40,818] Trial 2 finished with value: 0.11565047314994971 and parameters: {'feature_fraction': 0.8}. Best is trial 0 with value: 0.1142227669262466.\n",
      "feature_fraction, val_score: 0.114223:  43%|###################2                         | 3/7 [00:00<00:00,  7.29it/s]"
     ]
    },
    {
     "name": "stdout",
     "output_type": "stream",
     "text": [
      "Training until validation scores don't improve for 10 rounds\n",
      "[10]\ttraining's rmse: 0.198563\tvalid_1's rmse: 0.202729\n",
      "[20]\ttraining's rmse: 0.126713\tvalid_1's rmse: 0.146649\n",
      "[30]\ttraining's rmse: 0.098716\tvalid_1's rmse: 0.127313\n",
      "[40]\ttraining's rmse: 0.0852523\tvalid_1's rmse: 0.120258\n",
      "[50]\ttraining's rmse: 0.0754143\tvalid_1's rmse: 0.118753\n",
      "[60]\ttraining's rmse: 0.0682639\tvalid_1's rmse: 0.118339\n",
      "[70]\ttraining's rmse: 0.0623189\tvalid_1's rmse: 0.118224\n",
      "Early stopping, best iteration is:\n",
      "[67]\ttraining's rmse: 0.0640578\tvalid_1's rmse: 0.117978\n"
     ]
    },
    {
     "name": "stderr",
     "output_type": "stream",
     "text": [
      "feature_fraction, val_score: 0.114223:  57%|#########################7                   | 4/7 [00:00<00:00,  7.39it/s][I 2020-10-23 12:51:40,949] Trial 3 finished with value: 0.11797769162139231 and parameters: {'feature_fraction': 0.4}. Best is trial 0 with value: 0.1142227669262466.\n",
      "feature_fraction, val_score: 0.114223:  57%|#########################7                   | 4/7 [00:00<00:00,  7.39it/s]"
     ]
    },
    {
     "name": "stdout",
     "output_type": "stream",
     "text": [
      "Training until validation scores don't improve for 10 rounds\n",
      "[10]\ttraining's rmse: 0.191401\tvalid_1's rmse: 0.198487\n",
      "[20]\ttraining's rmse: 0.120883\tvalid_1's rmse: 0.140327\n",
      "[30]\ttraining's rmse: 0.0938311\tvalid_1's rmse: 0.122028\n",
      "[40]\ttraining's rmse: 0.0802518\tvalid_1's rmse: 0.117581\n",
      "[50]\ttraining's rmse: 0.0715823\tvalid_1's rmse: 0.116556\n",
      "[60]\ttraining's rmse: 0.0645689\tvalid_1's rmse: 0.11633\n",
      "[70]\ttraining's rmse: 0.0586101\tvalid_1's rmse: 0.116116\n",
      "Early stopping, best iteration is:\n",
      "[62]\ttraining's rmse: 0.0633658\tvalid_1's rmse: 0.116069\n"
     ]
    },
    {
     "name": "stderr",
     "output_type": "stream",
     "text": [
      "feature_fraction, val_score: 0.114223:  71%|################################1            | 5/7 [00:00<00:00,  7.41it/s][I 2020-10-23 12:51:41,084] Trial 4 finished with value: 0.11606909494063829 and parameters: {'feature_fraction': 1.0}. Best is trial 0 with value: 0.1142227669262466.\n",
      "feature_fraction, val_score: 0.114223:  71%|################################1            | 5/7 [00:00<00:00,  7.41it/s]"
     ]
    },
    {
     "name": "stdout",
     "output_type": "stream",
     "text": [
      "Training until validation scores don't improve for 10 rounds\n",
      "[10]\ttraining's rmse: 0.192732\tvalid_1's rmse: 0.195799\n",
      "[20]\ttraining's rmse: 0.121717\tvalid_1's rmse: 0.140124\n",
      "[30]\ttraining's rmse: 0.0948549\tvalid_1's rmse: 0.122947\n",
      "[40]\ttraining's rmse: 0.0810672\tvalid_1's rmse: 0.117382\n",
      "[50]\ttraining's rmse: 0.0721854\tvalid_1's rmse: 0.115669\n",
      "[60]\ttraining's rmse: 0.0655922\tvalid_1's rmse: 0.115335\n",
      "[70]\ttraining's rmse: 0.0599142\tvalid_1's rmse: 0.114917\n",
      "[80]\ttraining's rmse: 0.0550258\tvalid_1's rmse: 0.115033\n",
      "Early stopping, best iteration is:\n",
      "[74]\ttraining's rmse: 0.0578734\tvalid_1's rmse: 0.114645\n"
     ]
    },
    {
     "name": "stderr",
     "output_type": "stream",
     "text": [
      "feature_fraction, val_score: 0.114223:  86%|######################################5      | 6/7 [00:00<00:00,  7.20it/s][I 2020-10-23 12:51:41,230] Trial 5 finished with value: 0.11464535277900557 and parameters: {'feature_fraction': 0.7}. Best is trial 0 with value: 0.1142227669262466.\n",
      "feature_fraction, val_score: 0.114223:  86%|######################################5      | 6/7 [00:00<00:00,  7.20it/s]"
     ]
    },
    {
     "name": "stdout",
     "output_type": "stream",
     "text": [
      "Training until validation scores don't improve for 10 rounds\n",
      "[10]\ttraining's rmse: 0.195808\tvalid_1's rmse: 0.197109\n",
      "[20]\ttraining's rmse: 0.123949\tvalid_1's rmse: 0.138722\n",
      "[30]\ttraining's rmse: 0.0974534\tvalid_1's rmse: 0.120707\n",
      "[40]\ttraining's rmse: 0.0838519\tvalid_1's rmse: 0.114698\n",
      "[50]\ttraining's rmse: 0.0746544\tvalid_1's rmse: 0.112977\n",
      "[60]\ttraining's rmse: 0.0673422\tvalid_1's rmse: 0.112749\n",
      "Early stopping, best iteration is:\n",
      "[54]\ttraining's rmse: 0.0714519\tvalid_1's rmse: 0.112614\n"
     ]
    },
    {
     "name": "stderr",
     "output_type": "stream",
     "text": [
      "feature_fraction, val_score: 0.112614: 100%|#############################################| 7/7 [00:00<00:00,  7.58it/s][I 2020-10-23 12:51:41,347] Trial 6 finished with value: 0.11261380346543809 and parameters: {'feature_fraction': 0.5}. Best is trial 6 with value: 0.11261380346543809.\n",
      "feature_fraction, val_score: 0.112614: 100%|#############################################| 7/7 [00:00<00:00,  7.27it/s]\n",
      "num_leaves, val_score: 0.112614:   0%|                                                          | 0/20 [00:00<?, ?it/s]"
     ]
    },
    {
     "name": "stdout",
     "output_type": "stream",
     "text": [
      "Training until validation scores don't improve for 10 rounds\n",
      "[10]\ttraining's rmse: 0.19296\tvalid_1's rmse: 0.195158\n",
      "[20]\ttraining's rmse: 0.120465\tvalid_1's rmse: 0.137376\n",
      "[30]\ttraining's rmse: 0.0937155\tvalid_1's rmse: 0.121287\n",
      "[40]\ttraining's rmse: 0.0797406\tvalid_1's rmse: 0.115827\n",
      "[50]\ttraining's rmse: 0.0703315\tvalid_1's rmse: 0.11491\n",
      "[60]\ttraining's rmse: 0.0630048\tvalid_1's rmse: 0.114455\n",
      "Early stopping, best iteration is:\n",
      "[55]\ttraining's rmse: 0.0666637\tvalid_1's rmse: 0.114288\n"
     ]
    },
    {
     "name": "stderr",
     "output_type": "stream",
     "text": [
      "num_leaves, val_score: 0.112614:   5%|##5                                               | 1/20 [00:00<00:02,  7.41it/s][I 2020-10-23 12:51:41,491] Trial 7 finished with value: 0.11428828993935214 and parameters: {'num_leaves': 55}. Best is trial 7 with value: 0.11428828993935214.\n",
      "num_leaves, val_score: 0.112614:   5%|##5                                               | 1/20 [00:00<00:02,  7.41it/s]"
     ]
    },
    {
     "name": "stdout",
     "output_type": "stream",
     "text": [
      "Training until validation scores don't improve for 10 rounds\n",
      "[10]\ttraining's rmse: 0.19296\tvalid_1's rmse: 0.195158\n",
      "[20]\ttraining's rmse: 0.120465\tvalid_1's rmse: 0.137376\n",
      "[30]\ttraining's rmse: 0.0937155\tvalid_1's rmse: 0.121287\n",
      "[40]\ttraining's rmse: 0.0797406\tvalid_1's rmse: 0.115827\n",
      "[50]\ttraining's rmse: 0.0703315\tvalid_1's rmse: 0.11491\n",
      "[60]\ttraining's rmse: 0.0630048\tvalid_1's rmse: 0.114455\n",
      "Early stopping, best iteration is:\n",
      "[55]\ttraining's rmse: 0.0666637\tvalid_1's rmse: 0.114288\n"
     ]
    },
    {
     "name": "stderr",
     "output_type": "stream",
     "text": [
      "num_leaves, val_score: 0.112614:  10%|#####                                             | 2/20 [00:00<00:02,  7.39it/s][I 2020-10-23 12:51:41,627] Trial 8 finished with value: 0.11428828993935214 and parameters: {'num_leaves': 236}. Best is trial 7 with value: 0.11428828993935214.\n",
      "num_leaves, val_score: 0.112614:  10%|#####                                             | 2/20 [00:00<00:02,  7.39it/s]"
     ]
    },
    {
     "name": "stdout",
     "output_type": "stream",
     "text": [
      "Training until validation scores don't improve for 10 rounds\n",
      "[10]\ttraining's rmse: 0.19296\tvalid_1's rmse: 0.195158\n",
      "[20]\ttraining's rmse: 0.120465\tvalid_1's rmse: 0.137376\n",
      "[30]\ttraining's rmse: 0.0937155\tvalid_1's rmse: 0.121287\n",
      "[40]\ttraining's rmse: 0.0797406\tvalid_1's rmse: 0.115827\n",
      "[50]\ttraining's rmse: 0.0703315\tvalid_1's rmse: 0.11491\n",
      "[60]\ttraining's rmse: 0.0630048\tvalid_1's rmse: 0.114455\n",
      "Early stopping, best iteration is:\n",
      "[55]\ttraining's rmse: 0.0666637\tvalid_1's rmse: 0.114288\n"
     ]
    },
    {
     "name": "stderr",
     "output_type": "stream",
     "text": [
      "num_leaves, val_score: 0.112614:  15%|#######5                                          | 3/20 [00:00<00:02,  7.30it/s][I 2020-10-23 12:51:41,768] Trial 9 finished with value: 0.11428828993935214 and parameters: {'num_leaves': 78}. Best is trial 7 with value: 0.11428828993935214.\n",
      "num_leaves, val_score: 0.112614:  15%|#######5                                          | 3/20 [00:00<00:02,  7.30it/s]"
     ]
    },
    {
     "name": "stdout",
     "output_type": "stream",
     "text": [
      "Training until validation scores don't improve for 10 rounds\n",
      "[10]\ttraining's rmse: 0.19296\tvalid_1's rmse: 0.195158\n",
      "[20]\ttraining's rmse: 0.120465\tvalid_1's rmse: 0.137376\n",
      "[30]\ttraining's rmse: 0.0937155\tvalid_1's rmse: 0.121287\n",
      "[40]\ttraining's rmse: 0.0797406\tvalid_1's rmse: 0.115827\n",
      "[50]\ttraining's rmse: 0.0703315\tvalid_1's rmse: 0.11491\n",
      "[60]\ttraining's rmse: 0.0630048\tvalid_1's rmse: 0.114455\n",
      "Early stopping, best iteration is:\n",
      "[55]\ttraining's rmse: 0.0666637\tvalid_1's rmse: 0.114288\n"
     ]
    },
    {
     "name": "stderr",
     "output_type": "stream",
     "text": [
      "num_leaves, val_score: 0.112614:  20%|##########                                        | 4/20 [00:00<00:02,  6.95it/s][I 2020-10-23 12:51:41,928] Trial 10 finished with value: 0.11428828993935214 and parameters: {'num_leaves': 217}. Best is trial 7 with value: 0.11428828993935214.\n",
      "num_leaves, val_score: 0.112614:  20%|##########                                        | 4/20 [00:00<00:02,  6.95it/s]"
     ]
    },
    {
     "name": "stdout",
     "output_type": "stream",
     "text": [
      "Training until validation scores don't improve for 10 rounds\n",
      "[10]\ttraining's rmse: 0.19296\tvalid_1's rmse: 0.195158\n",
      "[20]\ttraining's rmse: 0.120465\tvalid_1's rmse: 0.137376\n",
      "[30]\ttraining's rmse: 0.0937155\tvalid_1's rmse: 0.121287\n",
      "[40]\ttraining's rmse: 0.0797406\tvalid_1's rmse: 0.115827\n",
      "[50]\ttraining's rmse: 0.0703315\tvalid_1's rmse: 0.11491\n",
      "[60]\ttraining's rmse: 0.0630048\tvalid_1's rmse: 0.114455\n",
      "Early stopping, best iteration is:\n",
      "[55]\ttraining's rmse: 0.0666637\tvalid_1's rmse: 0.114288\n"
     ]
    },
    {
     "name": "stderr",
     "output_type": "stream",
     "text": [
      "num_leaves, val_score: 0.112614:  25%|############5                                     | 5/20 [00:00<00:02,  6.92it/s][I 2020-10-23 12:51:42,074] Trial 11 finished with value: 0.11428828993935214 and parameters: {'num_leaves': 150}. Best is trial 7 with value: 0.11428828993935214.\n",
      "num_leaves, val_score: 0.112614:  25%|############5                                     | 5/20 [00:00<00:02,  6.92it/s]"
     ]
    },
    {
     "name": "stdout",
     "output_type": "stream",
     "text": [
      "Training until validation scores don't improve for 10 rounds\n",
      "[10]\ttraining's rmse: 0.206934\tvalid_1's rmse: 0.203234\n",
      "[20]\ttraining's rmse: 0.137732\tvalid_1's rmse: 0.144596\n",
      "[30]\ttraining's rmse: 0.11213\tvalid_1's rmse: 0.124678\n",
      "[40]\ttraining's rmse: 0.0984296\tvalid_1's rmse: 0.11519\n",
      "[50]\ttraining's rmse: 0.0894178\tvalid_1's rmse: 0.113153\n",
      "[60]\ttraining's rmse: 0.0832735\tvalid_1's rmse: 0.11179\n",
      "[70]\ttraining's rmse: 0.0780734\tvalid_1's rmse: 0.111372\n",
      "[80]\ttraining's rmse: 0.0737641\tvalid_1's rmse: 0.111297\n",
      "Early stopping, best iteration is:\n",
      "[73]\ttraining's rmse: 0.0768013\tvalid_1's rmse: 0.111207\n"
     ]
    },
    {
     "name": "stderr",
     "output_type": "stream",
     "text": [
      "num_leaves, val_score: 0.111207:  30%|###############                                   | 6/20 [00:00<00:01,  7.24it/s][I 2020-10-23 12:51:42,196] Trial 12 finished with value: 0.11120685180565518 and parameters: {'num_leaves': 16}. Best is trial 12 with value: 0.11120685180565518.\n",
      "num_leaves, val_score: 0.111207:  30%|###############                                   | 6/20 [00:00<00:01,  7.24it/s]"
     ]
    },
    {
     "name": "stdout",
     "output_type": "stream",
     "text": [
      "Training until validation scores don't improve for 10 rounds\n",
      "[10]\ttraining's rmse: 0.213054\tvalid_1's rmse: 0.208981\n",
      "[20]\ttraining's rmse: 0.146014\tvalid_1's rmse: 0.149665\n",
      "[30]\ttraining's rmse: 0.120498\tvalid_1's rmse: 0.129386\n",
      "[40]\ttraining's rmse: 0.107038\tvalid_1's rmse: 0.120064\n",
      "[50]\ttraining's rmse: 0.0982867\tvalid_1's rmse: 0.116922\n",
      "[60]\ttraining's rmse: 0.0920625\tvalid_1's rmse: 0.115865\n",
      "[70]\ttraining's rmse: 0.0871331\tvalid_1's rmse: 0.115732\n",
      "[80]\ttraining's rmse: 0.0832409\tvalid_1's rmse: 0.115607\n",
      "[90]\ttraining's rmse: 0.0800403\tvalid_1's rmse: 0.115303\n",
      "Early stopping, best iteration is:\n",
      "[89]\ttraining's rmse: 0.0803136\tvalid_1's rmse: 0.115298\n"
     ]
    },
    {
     "name": "stderr",
     "output_type": "stream",
     "text": [
      "num_leaves, val_score: 0.111207:  35%|#################5                                | 7/20 [00:00<00:01,  7.50it/s][I 2020-10-23 12:51:42,319] Trial 13 finished with value: 0.1152984282148019 and parameters: {'num_leaves': 12}. Best is trial 12 with value: 0.11120685180565518.\n",
      "num_leaves, val_score: 0.111207:  35%|#################5                                | 7/20 [00:00<00:01,  7.50it/s]"
     ]
    },
    {
     "name": "stdout",
     "output_type": "stream",
     "text": [
      "Training until validation scores don't improve for 10 rounds\n",
      "[10]\ttraining's rmse: 0.266201\tvalid_1's rmse: 0.250163\n",
      "[20]\ttraining's rmse: 0.204574\tvalid_1's rmse: 0.193704\n",
      "[30]\ttraining's rmse: 0.173751\tvalid_1's rmse: 0.16422\n",
      "[40]\ttraining's rmse: 0.156201\tvalid_1's rmse: 0.146423\n",
      "[50]\ttraining's rmse: 0.145413\tvalid_1's rmse: 0.136598\n",
      "[60]\ttraining's rmse: 0.138592\tvalid_1's rmse: 0.130026\n",
      "[70]\ttraining's rmse: 0.133713\tvalid_1's rmse: 0.1253\n",
      "[80]\ttraining's rmse: 0.130145\tvalid_1's rmse: 0.122198\n",
      "[90]\ttraining's rmse: 0.126861\tvalid_1's rmse: 0.119886\n",
      "[100]\ttraining's rmse: 0.12433\tvalid_1's rmse: 0.118673\n",
      "[110]\ttraining's rmse: 0.122402\tvalid_1's rmse: 0.117833\n",
      "[120]\ttraining's rmse: 0.120469\tvalid_1's rmse: 0.117174\n",
      "[130]\ttraining's rmse: 0.118858\tvalid_1's rmse: 0.116472\n",
      "[140]\ttraining's rmse: 0.117462\tvalid_1's rmse: 0.115876\n",
      "[150]\ttraining's rmse: 0.115709\tvalid_1's rmse: 0.115492\n",
      "[160]\ttraining's rmse: 0.11416\tvalid_1's rmse: 0.114972\n",
      "[170]\ttraining's rmse: 0.11282\tvalid_1's rmse: 0.114618\n",
      "[180]\ttraining's rmse: 0.111612\tvalid_1's rmse: 0.114026\n",
      "[190]\ttraining's rmse: 0.110633\tvalid_1's rmse: 0.11354\n",
      "[200]\ttraining's rmse: 0.109633\tvalid_1's rmse: 0.113733\n",
      "Early stopping, best iteration is:\n",
      "[194]\ttraining's rmse: 0.110282\tvalid_1's rmse: 0.113503\n"
     ]
    },
    {
     "name": "stderr",
     "output_type": "stream",
     "text": [
      "num_leaves, val_score: 0.111207:  40%|####################                              | 8/20 [00:01<00:01,  7.68it/s][I 2020-10-23 12:51:42,441] Trial 14 finished with value: 0.11350289802162683 and parameters: {'num_leaves': 3}. Best is trial 12 with value: 0.11120685180565518.\n",
      "num_leaves, val_score: 0.111207:  40%|####################                              | 8/20 [00:01<00:01,  7.68it/s]"
     ]
    },
    {
     "name": "stdout",
     "output_type": "stream",
     "text": [
      "Training until validation scores don't improve for 10 rounds\n",
      "[10]\ttraining's rmse: 0.19296\tvalid_1's rmse: 0.195158\n",
      "[20]\ttraining's rmse: 0.120465\tvalid_1's rmse: 0.137376\n",
      "[30]\ttraining's rmse: 0.0937155\tvalid_1's rmse: 0.121287\n",
      "[40]\ttraining's rmse: 0.0797406\tvalid_1's rmse: 0.115827\n",
      "[50]\ttraining's rmse: 0.0703315\tvalid_1's rmse: 0.11491\n",
      "[60]\ttraining's rmse: 0.0630048\tvalid_1's rmse: 0.114455\n",
      "Early stopping, best iteration is:\n",
      "[55]\ttraining's rmse: 0.0666637\tvalid_1's rmse: 0.114288\n"
     ]
    },
    {
     "name": "stderr",
     "output_type": "stream",
     "text": [
      "num_leaves, val_score: 0.111207:  45%|######################5                           | 9/20 [00:01<00:01,  7.53it/s][I 2020-10-23 12:51:42,581] Trial 15 finished with value: 0.11428828993935214 and parameters: {'num_leaves': 134}. Best is trial 12 with value: 0.11120685180565518.\n",
      "num_leaves, val_score: 0.111207:  45%|######################5                           | 9/20 [00:01<00:01,  7.53it/s]"
     ]
    },
    {
     "name": "stdout",
     "output_type": "stream",
     "text": [
      "Training until validation scores don't improve for 10 rounds\n",
      "[10]\ttraining's rmse: 0.19296\tvalid_1's rmse: 0.195158\n",
      "[20]\ttraining's rmse: 0.120465\tvalid_1's rmse: 0.137376\n",
      "[30]\ttraining's rmse: 0.0937155\tvalid_1's rmse: 0.121287\n",
      "[40]\ttraining's rmse: 0.0797406\tvalid_1's rmse: 0.115827\n",
      "[50]\ttraining's rmse: 0.0703315\tvalid_1's rmse: 0.11491\n",
      "[60]\ttraining's rmse: 0.0630048\tvalid_1's rmse: 0.114455\n",
      "Early stopping, best iteration is:\n",
      "[55]\ttraining's rmse: 0.0666637\tvalid_1's rmse: 0.114288\n"
     ]
    },
    {
     "name": "stderr",
     "output_type": "stream",
     "text": [
      "num_leaves, val_score: 0.111207:  50%|########################5                        | 10/20 [00:01<00:01,  7.41it/s][I 2020-10-23 12:51:42,721] Trial 16 finished with value: 0.11428828993935214 and parameters: {'num_leaves': 70}. Best is trial 12 with value: 0.11120685180565518.\n",
      "num_leaves, val_score: 0.111207:  50%|########################5                        | 10/20 [00:01<00:01,  7.41it/s]"
     ]
    },
    {
     "name": "stdout",
     "output_type": "stream",
     "text": [
      "Training until validation scores don't improve for 10 rounds\n",
      "[10]\ttraining's rmse: 0.19296\tvalid_1's rmse: 0.195158\n",
      "[20]\ttraining's rmse: 0.120465\tvalid_1's rmse: 0.137376\n",
      "[30]\ttraining's rmse: 0.0937155\tvalid_1's rmse: 0.121287\n",
      "[40]\ttraining's rmse: 0.0797406\tvalid_1's rmse: 0.115827\n",
      "[50]\ttraining's rmse: 0.0703315\tvalid_1's rmse: 0.11491\n",
      "[60]\ttraining's rmse: 0.0630048\tvalid_1's rmse: 0.114455\n",
      "Early stopping, best iteration is:\n",
      "[55]\ttraining's rmse: 0.0666637\tvalid_1's rmse: 0.114288\n"
     ]
    },
    {
     "name": "stderr",
     "output_type": "stream",
     "text": [
      "num_leaves, val_score: 0.111207:  55%|##########################9                      | 11/20 [00:01<00:01,  6.99it/s][I 2020-10-23 12:51:42,883] Trial 17 finished with value: 0.11428828993935214 and parameters: {'num_leaves': 189}. Best is trial 12 with value: 0.11120685180565518.\n",
      "num_leaves, val_score: 0.111207:  55%|##########################9                      | 11/20 [00:01<00:01,  6.99it/s]"
     ]
    },
    {
     "name": "stdout",
     "output_type": "stream",
     "text": [
      "Training until validation scores don't improve for 10 rounds\n",
      "[10]\ttraining's rmse: 0.198234\tvalid_1's rmse: 0.197878\n",
      "[20]\ttraining's rmse: 0.127506\tvalid_1's rmse: 0.141429\n",
      "[30]\ttraining's rmse: 0.101371\tvalid_1's rmse: 0.123647\n",
      "[40]\ttraining's rmse: 0.0875094\tvalid_1's rmse: 0.116777\n",
      "[50]\ttraining's rmse: 0.078291\tvalid_1's rmse: 0.114697\n",
      "[60]\ttraining's rmse: 0.0715962\tvalid_1's rmse: 0.114188\n",
      "Early stopping, best iteration is:\n",
      "[56]\ttraining's rmse: 0.0740835\tvalid_1's rmse: 0.11384\n"
     ]
    },
    {
     "name": "stderr",
     "output_type": "stream",
     "text": [
      "num_leaves, val_score: 0.111207:  60%|#############################4                   | 12/20 [00:01<00:01,  7.36it/s][I 2020-10-23 12:51:43,002] Trial 18 finished with value: 0.1138397384440571 and parameters: {'num_leaves': 25}. Best is trial 12 with value: 0.11120685180565518.\n",
      "num_leaves, val_score: 0.111207:  60%|#############################4                   | 12/20 [00:01<00:01,  7.36it/s]"
     ]
    },
    {
     "name": "stdout",
     "output_type": "stream",
     "text": [
      "Training until validation scores don't improve for 10 rounds\n",
      "[10]\ttraining's rmse: 0.19296\tvalid_1's rmse: 0.195158\n",
      "[20]\ttraining's rmse: 0.120465\tvalid_1's rmse: 0.137376\n",
      "[30]\ttraining's rmse: 0.0937155\tvalid_1's rmse: 0.121287\n",
      "[40]\ttraining's rmse: 0.0797406\tvalid_1's rmse: 0.115827\n",
      "[50]\ttraining's rmse: 0.0703315\tvalid_1's rmse: 0.11491\n",
      "[60]\ttraining's rmse: 0.0630048\tvalid_1's rmse: 0.114455\n",
      "Early stopping, best iteration is:\n",
      "[55]\ttraining's rmse: 0.0666637\tvalid_1's rmse: 0.114288\n"
     ]
    },
    {
     "name": "stderr",
     "output_type": "stream",
     "text": [
      "num_leaves, val_score: 0.111207:  65%|###############################8                 | 13/20 [00:01<00:00,  7.18it/s][I 2020-10-23 12:51:43,149] Trial 19 finished with value: 0.11428828993935214 and parameters: {'num_leaves': 106}. Best is trial 12 with value: 0.11120685180565518.\n",
      "num_leaves, val_score: 0.111207:  65%|###############################8                 | 13/20 [00:01<00:00,  7.18it/s]"
     ]
    },
    {
     "name": "stdout",
     "output_type": "stream",
     "text": [
      "Training until validation scores don't improve for 10 rounds\n",
      "[10]\ttraining's rmse: 0.193221\tvalid_1's rmse: 0.195246\n",
      "[20]\ttraining's rmse: 0.120695\tvalid_1's rmse: 0.138164\n",
      "[30]\ttraining's rmse: 0.0944494\tvalid_1's rmse: 0.120663\n",
      "[40]\ttraining's rmse: 0.0806987\tvalid_1's rmse: 0.115928\n",
      "[50]\ttraining's rmse: 0.0715925\tvalid_1's rmse: 0.115465\n",
      "[60]\ttraining's rmse: 0.0643912\tvalid_1's rmse: 0.115041\n",
      "Early stopping, best iteration is:\n",
      "[59]\ttraining's rmse: 0.0650384\tvalid_1's rmse: 0.114929\n"
     ]
    },
    {
     "name": "stderr",
     "output_type": "stream",
     "text": [
      "num_leaves, val_score: 0.111207:  70%|##################################3              | 14/20 [00:01<00:00,  7.01it/s][I 2020-10-23 12:51:43,300] Trial 20 finished with value: 0.11492925676256174 and parameters: {'num_leaves': 40}. Best is trial 12 with value: 0.11120685180565518.\n",
      "num_leaves, val_score: 0.111207:  70%|##################################3              | 14/20 [00:01<00:00,  7.01it/s]"
     ]
    },
    {
     "name": "stdout",
     "output_type": "stream",
     "text": [
      "Training until validation scores don't improve for 10 rounds\n",
      "[10]\ttraining's rmse: 0.249442\tvalid_1's rmse: 0.234877\n",
      "[20]\ttraining's rmse: 0.185946\tvalid_1's rmse: 0.174784\n",
      "[30]\ttraining's rmse: 0.15718\tvalid_1's rmse: 0.146367\n",
      "[40]\ttraining's rmse: 0.142247\tvalid_1's rmse: 0.13233\n",
      "[50]\ttraining's rmse: 0.133289\tvalid_1's rmse: 0.125054\n",
      "[60]\ttraining's rmse: 0.126773\tvalid_1's rmse: 0.119553\n",
      "[70]\ttraining's rmse: 0.121752\tvalid_1's rmse: 0.116924\n",
      "[80]\ttraining's rmse: 0.118298\tvalid_1's rmse: 0.114989\n",
      "[90]\ttraining's rmse: 0.11554\tvalid_1's rmse: 0.113195\n",
      "[100]\ttraining's rmse: 0.112977\tvalid_1's rmse: 0.112656\n",
      "[110]\ttraining's rmse: 0.110864\tvalid_1's rmse: 0.112233\n",
      "[120]\ttraining's rmse: 0.108623\tvalid_1's rmse: 0.111553\n",
      "[130]\ttraining's rmse: 0.106813\tvalid_1's rmse: 0.110792\n",
      "[140]\ttraining's rmse: 0.105274\tvalid_1's rmse: 0.110895\n",
      "[150]\ttraining's rmse: 0.103856\tvalid_1's rmse: 0.110533\n",
      "[160]\ttraining's rmse: 0.102487\tvalid_1's rmse: 0.110501\n",
      "[170]\ttraining's rmse: 0.101183\tvalid_1's rmse: 0.110498\n",
      "[180]\ttraining's rmse: 0.0998921\tvalid_1's rmse: 0.110158\n",
      "[190]\ttraining's rmse: 0.0986195\tvalid_1's rmse: 0.110238\n",
      "Early stopping, best iteration is:\n",
      "[181]\ttraining's rmse: 0.0997427\tvalid_1's rmse: 0.110132\n"
     ]
    },
    {
     "name": "stderr",
     "output_type": "stream",
     "text": [
      "num_leaves, val_score: 0.110132:  75%|####################################7            | 15/20 [00:02<00:00,  7.11it/s][I 2020-10-23 12:51:43,435] Trial 21 finished with value: 0.11013217796004525 and parameters: {'num_leaves': 4}. Best is trial 21 with value: 0.11013217796004525.\n",
      "num_leaves, val_score: 0.110132:  75%|####################################7            | 15/20 [00:02<00:00,  7.11it/s]"
     ]
    },
    {
     "name": "stdout",
     "output_type": "stream",
     "text": [
      "Training until validation scores don't improve for 10 rounds\n",
      "[10]\ttraining's rmse: 0.240965\tvalid_1's rmse: 0.228427\n",
      "[20]\ttraining's rmse: 0.175908\tvalid_1's rmse: 0.166957\n",
      "[30]\ttraining's rmse: 0.148081\tvalid_1's rmse: 0.140281\n",
      "[40]\ttraining's rmse: 0.133959\tvalid_1's rmse: 0.126625\n",
      "[50]\ttraining's rmse: 0.125585\tvalid_1's rmse: 0.121009\n",
      "[60]\ttraining's rmse: 0.118815\tvalid_1's rmse: 0.116979\n",
      "[70]\ttraining's rmse: 0.11415\tvalid_1's rmse: 0.115033\n",
      "[80]\ttraining's rmse: 0.110585\tvalid_1's rmse: 0.113516\n",
      "[90]\ttraining's rmse: 0.107945\tvalid_1's rmse: 0.112806\n",
      "[100]\ttraining's rmse: 0.10477\tvalid_1's rmse: 0.112463\n",
      "Early stopping, best iteration is:\n",
      "[99]\ttraining's rmse: 0.105046\tvalid_1's rmse: 0.112401\n"
     ]
    },
    {
     "name": "stderr",
     "output_type": "stream",
     "text": [
      "num_leaves, val_score: 0.110132:  80%|#######################################2         | 16/20 [00:02<00:00,  7.76it/s][I 2020-10-23 12:51:43,537] Trial 22 finished with value: 0.11240135565505477 and parameters: {'num_leaves': 5}. Best is trial 21 with value: 0.11013217796004525.\n",
      "num_leaves, val_score: 0.110132:  80%|#######################################2         | 16/20 [00:02<00:00,  7.76it/s]"
     ]
    },
    {
     "name": "stdout",
     "output_type": "stream",
     "text": [
      "Training until validation scores don't improve for 10 rounds\n",
      "[10]\ttraining's rmse: 0.228741\tvalid_1's rmse: 0.21969\n",
      "[20]\ttraining's rmse: 0.16229\tvalid_1's rmse: 0.158301\n",
      "[30]\ttraining's rmse: 0.13583\tvalid_1's rmse: 0.132627\n",
      "[40]\ttraining's rmse: 0.122443\tvalid_1's rmse: 0.12078\n",
      "[50]\ttraining's rmse: 0.113318\tvalid_1's rmse: 0.114835\n",
      "[60]\ttraining's rmse: 0.107242\tvalid_1's rmse: 0.11293\n",
      "[70]\ttraining's rmse: 0.103242\tvalid_1's rmse: 0.111922\n",
      "[80]\ttraining's rmse: 0.0997494\tvalid_1's rmse: 0.110844\n",
      "[90]\ttraining's rmse: 0.0966932\tvalid_1's rmse: 0.11049\n",
      "Early stopping, best iteration is:\n",
      "[86]\ttraining's rmse: 0.0977955\tvalid_1's rmse: 0.110357\n"
     ]
    },
    {
     "name": "stderr",
     "output_type": "stream",
     "text": [
      "num_leaves, val_score: 0.110132:  80%|#######################################2         | 16/20 [00:02<00:00,  7.76it/s][I 2020-10-23 12:51:43,624] Trial 23 finished with value: 0.11035684887154588 and parameters: {'num_leaves': 7}. Best is trial 21 with value: 0.11013217796004525.\n",
      "num_leaves, val_score: 0.110132:  85%|#########################################6       | 17/20 [00:02<00:00,  7.76it/s]"
     ]
    },
    {
     "name": "stdout",
     "output_type": "stream",
     "text": [
      "Training until validation scores don't improve for 10 rounds\n",
      "[10]\ttraining's rmse: 0.266201\tvalid_1's rmse: 0.250163\n",
      "[20]\ttraining's rmse: 0.204574\tvalid_1's rmse: 0.193704\n",
      "[30]\ttraining's rmse: 0.173751\tvalid_1's rmse: 0.16422\n",
      "[40]\ttraining's rmse: 0.156201\tvalid_1's rmse: 0.146423\n",
      "[50]\ttraining's rmse: 0.145413\tvalid_1's rmse: 0.136598\n",
      "[60]\ttraining's rmse: 0.138592\tvalid_1's rmse: 0.130026\n",
      "[70]\ttraining's rmse: 0.133713\tvalid_1's rmse: 0.1253\n",
      "[80]\ttraining's rmse: 0.130145\tvalid_1's rmse: 0.122198\n",
      "[90]\ttraining's rmse: 0.126861\tvalid_1's rmse: 0.119886\n",
      "[100]\ttraining's rmse: 0.12433\tvalid_1's rmse: 0.118673\n",
      "[110]\ttraining's rmse: 0.122402\tvalid_1's rmse: 0.117833\n",
      "[120]\ttraining's rmse: 0.120469\tvalid_1's rmse: 0.117174\n",
      "[130]\ttraining's rmse: 0.118858\tvalid_1's rmse: 0.116472\n",
      "[140]\ttraining's rmse: 0.117462\tvalid_1's rmse: 0.115876\n",
      "[150]\ttraining's rmse: 0.115709\tvalid_1's rmse: 0.115492\n",
      "[160]\ttraining's rmse: 0.11416\tvalid_1's rmse: 0.114972\n",
      "[170]\ttraining's rmse: 0.11282\tvalid_1's rmse: 0.114618\n",
      "[180]\ttraining's rmse: 0.111612\tvalid_1's rmse: 0.114026\n",
      "[190]\ttraining's rmse: 0.110633\tvalid_1's rmse: 0.11354\n",
      "[200]\ttraining's rmse: 0.109633\tvalid_1's rmse: 0.113733\n",
      "Early stopping, best iteration is:\n",
      "[194]\ttraining's rmse: 0.110282\tvalid_1's rmse: 0.113503\n"
     ]
    },
    {
     "name": "stderr",
     "output_type": "stream",
     "text": [
      "num_leaves, val_score: 0.110132:  90%|############################################1    | 18/20 [00:02<00:00,  7.95it/s][I 2020-10-23 12:51:43,775] Trial 24 finished with value: 0.11350289802162683 and parameters: {'num_leaves': 3}. Best is trial 21 with value: 0.11013217796004525.\n",
      "num_leaves, val_score: 0.110132:  90%|############################################1    | 18/20 [00:02<00:00,  7.95it/s]"
     ]
    },
    {
     "name": "stdout",
     "output_type": "stream",
     "text": [
      "Training until validation scores don't improve for 10 rounds\n",
      "[10]\ttraining's rmse: 0.193976\tvalid_1's rmse: 0.1968\n",
      "[20]\ttraining's rmse: 0.121403\tvalid_1's rmse: 0.139671\n",
      "[30]\ttraining's rmse: 0.0950052\tvalid_1's rmse: 0.123057\n",
      "[40]\ttraining's rmse: 0.0811752\tvalid_1's rmse: 0.116743\n",
      "[50]\ttraining's rmse: 0.07209\tvalid_1's rmse: 0.115047\n",
      "Early stopping, best iteration is:\n",
      "[49]\ttraining's rmse: 0.0728065\tvalid_1's rmse: 0.11485\n"
     ]
    },
    {
     "name": "stderr",
     "output_type": "stream",
     "text": [
      "num_leaves, val_score: 0.110132:  95%|##############################################5  | 19/20 [00:02<00:00,  8.00it/s][I 2020-10-23 12:51:43,898] Trial 25 finished with value: 0.11485028943466902 and parameters: {'num_leaves': 36}. Best is trial 21 with value: 0.11013217796004525.\n",
      "num_leaves, val_score: 0.110132:  95%|##############################################5  | 19/20 [00:02<00:00,  8.00it/s]"
     ]
    },
    {
     "name": "stdout",
     "output_type": "stream",
     "text": [
      "Training until validation scores don't improve for 10 rounds\n",
      "[10]\ttraining's rmse: 0.19296\tvalid_1's rmse: 0.195158\n",
      "[20]\ttraining's rmse: 0.120465\tvalid_1's rmse: 0.137376\n",
      "[30]\ttraining's rmse: 0.0937155\tvalid_1's rmse: 0.121287\n",
      "[40]\ttraining's rmse: 0.0797406\tvalid_1's rmse: 0.115827\n",
      "[50]\ttraining's rmse: 0.0703315\tvalid_1's rmse: 0.11491\n",
      "[60]\ttraining's rmse: 0.0630048\tvalid_1's rmse: 0.114455\n",
      "Early stopping, best iteration is:\n",
      "[55]\ttraining's rmse: 0.0666637\tvalid_1's rmse: 0.114288\n"
     ]
    },
    {
     "name": "stderr",
     "output_type": "stream",
     "text": [
      "num_leaves, val_score: 0.110132: 100%|#################################################| 20/20 [00:02<00:00,  7.53it/s][I 2020-10-23 12:51:44,049] Trial 26 finished with value: 0.11428828993935214 and parameters: {'num_leaves': 100}. Best is trial 21 with value: 0.11013217796004525.\n",
      "num_leaves, val_score: 0.110132: 100%|#################################################| 20/20 [00:02<00:00,  7.42it/s]\n",
      "bagging, val_score: 0.110132:   0%|                                                             | 0/10 [00:00<?, ?it/s]"
     ]
    },
    {
     "name": "stdout",
     "output_type": "stream",
     "text": [
      "Training until validation scores don't improve for 10 rounds\n",
      "[10]\ttraining's rmse: 0.248903\tvalid_1's rmse: 0.233439\n",
      "[20]\ttraining's rmse: 0.186022\tvalid_1's rmse: 0.177414\n",
      "[30]\ttraining's rmse: 0.157627\tvalid_1's rmse: 0.151265\n",
      "[40]\ttraining's rmse: 0.143429\tvalid_1's rmse: 0.137269\n",
      "[50]\ttraining's rmse: 0.135085\tvalid_1's rmse: 0.128037\n",
      "[60]\ttraining's rmse: 0.128746\tvalid_1's rmse: 0.123884\n",
      "[70]\ttraining's rmse: 0.124634\tvalid_1's rmse: 0.121329\n",
      "[80]\ttraining's rmse: 0.12173\tvalid_1's rmse: 0.11928\n",
      "[90]\ttraining's rmse: 0.1196\tvalid_1's rmse: 0.117482\n",
      "[100]\ttraining's rmse: 0.116843\tvalid_1's rmse: 0.116869\n",
      "[110]\ttraining's rmse: 0.115382\tvalid_1's rmse: 0.115529\n",
      "[120]\ttraining's rmse: 0.113271\tvalid_1's rmse: 0.115007\n",
      "[130]\ttraining's rmse: 0.111701\tvalid_1's rmse: 0.112727\n",
      "[140]\ttraining's rmse: 0.1104\tvalid_1's rmse: 0.113748\n",
      "Early stopping, best iteration is:\n",
      "[132]\ttraining's rmse: 0.111518\tvalid_1's rmse: 0.112715\n"
     ]
    },
    {
     "name": "stderr",
     "output_type": "stream",
     "text": [
      "bagging, val_score: 0.110132:  10%|#####3                                               | 1/10 [00:00<00:00,  9.26it/s][I 2020-10-23 12:51:44,166] Trial 27 finished with value: 0.11271472958451603 and parameters: {'bagging_fraction': 0.48904973855931433, 'bagging_freq': 3}. Best is trial 27 with value: 0.11271472958451603.\n",
      "bagging, val_score: 0.110132:  10%|#####3                                               | 1/10 [00:00<00:00,  9.26it/s]"
     ]
    },
    {
     "name": "stdout",
     "output_type": "stream",
     "text": [
      "Training until validation scores don't improve for 10 rounds\n",
      "[10]\ttraining's rmse: 0.249218\tvalid_1's rmse: 0.235292\n",
      "[20]\ttraining's rmse: 0.186049\tvalid_1's rmse: 0.176128\n",
      "[30]\ttraining's rmse: 0.157041\tvalid_1's rmse: 0.147973\n",
      "[40]\ttraining's rmse: 0.142252\tvalid_1's rmse: 0.133116\n",
      "[50]\ttraining's rmse: 0.133339\tvalid_1's rmse: 0.125702\n",
      "[60]\ttraining's rmse: 0.126427\tvalid_1's rmse: 0.120567\n",
      "[70]\ttraining's rmse: 0.121396\tvalid_1's rmse: 0.11708\n",
      "[80]\ttraining's rmse: 0.117934\tvalid_1's rmse: 0.115336\n",
      "[90]\ttraining's rmse: 0.115184\tvalid_1's rmse: 0.114448\n",
      "[100]\ttraining's rmse: 0.112424\tvalid_1's rmse: 0.113215\n",
      "[110]\ttraining's rmse: 0.109994\tvalid_1's rmse: 0.112724\n",
      "[120]\ttraining's rmse: 0.108021\tvalid_1's rmse: 0.112275\n",
      "[130]\ttraining's rmse: 0.10615\tvalid_1's rmse: 0.11211\n",
      "Early stopping, best iteration is:\n",
      "[124]\ttraining's rmse: 0.107352\tvalid_1's rmse: 0.112073\n"
     ]
    },
    {
     "name": "stderr",
     "output_type": "stream",
     "text": [
      "bagging, val_score: 0.110132:  20%|##########6                                          | 2/10 [00:00<00:00,  8.96it/s][I 2020-10-23 12:51:44,287] Trial 28 finished with value: 0.11207323583358572 and parameters: {'bagging_fraction': 0.9808608459481347, 'bagging_freq': 7}. Best is trial 28 with value: 0.11207323583358572.\n",
      "bagging, val_score: 0.110132:  20%|##########6                                          | 2/10 [00:00<00:00,  8.96it/s]"
     ]
    },
    {
     "name": "stdout",
     "output_type": "stream",
     "text": [
      "Training until validation scores don't improve for 10 rounds\n",
      "[10]\ttraining's rmse: 0.249336\tvalid_1's rmse: 0.234797\n",
      "[20]\ttraining's rmse: 0.18584\tvalid_1's rmse: 0.175953\n",
      "[30]\ttraining's rmse: 0.157042\tvalid_1's rmse: 0.14951\n",
      "[40]\ttraining's rmse: 0.142188\tvalid_1's rmse: 0.133633\n",
      "[50]\ttraining's rmse: 0.133\tvalid_1's rmse: 0.124142\n",
      "[60]\ttraining's rmse: 0.126468\tvalid_1's rmse: 0.118923\n",
      "[70]\ttraining's rmse: 0.121462\tvalid_1's rmse: 0.115629\n",
      "[80]\ttraining's rmse: 0.118032\tvalid_1's rmse: 0.11303\n",
      "[90]\ttraining's rmse: 0.115321\tvalid_1's rmse: 0.111651\n",
      "[100]\ttraining's rmse: 0.112669\tvalid_1's rmse: 0.111054\n",
      "[110]\ttraining's rmse: 0.110755\tvalid_1's rmse: 0.110353\n",
      "[120]\ttraining's rmse: 0.108515\tvalid_1's rmse: 0.110389\n",
      "Early stopping, best iteration is:\n",
      "[119]\ttraining's rmse: 0.10866\tvalid_1's rmse: 0.110268\n"
     ]
    },
    {
     "name": "stderr",
     "output_type": "stream",
     "text": [
      "bagging, val_score: 0.110132:  30%|###############9                                     | 3/10 [00:00<00:00,  8.95it/s][I 2020-10-23 12:51:44,397] Trial 29 finished with value: 0.11026798917684626 and parameters: {'bagging_fraction': 0.9395631530925095, 'bagging_freq': 1}. Best is trial 29 with value: 0.11026798917684626.\n",
      "bagging, val_score: 0.110132:  30%|###############9                                     | 3/10 [00:00<00:00,  8.95it/s]"
     ]
    },
    {
     "name": "stdout",
     "output_type": "stream",
     "text": [
      "Training until validation scores don't improve for 10 rounds\n",
      "[10]\ttraining's rmse: 0.250135\tvalid_1's rmse: 0.235677\n",
      "[20]\ttraining's rmse: 0.185604\tvalid_1's rmse: 0.176153\n",
      "[30]\ttraining's rmse: 0.156671\tvalid_1's rmse: 0.147425\n",
      "[40]\ttraining's rmse: 0.141733\tvalid_1's rmse: 0.133116\n",
      "[50]\ttraining's rmse: 0.132979\tvalid_1's rmse: 0.125562\n",
      "[60]\ttraining's rmse: 0.1266\tvalid_1's rmse: 0.120173\n",
      "[70]\ttraining's rmse: 0.121553\tvalid_1's rmse: 0.117617\n",
      "[80]\ttraining's rmse: 0.117918\tvalid_1's rmse: 0.115635\n",
      "[90]\ttraining's rmse: 0.115102\tvalid_1's rmse: 0.114229\n",
      "[100]\ttraining's rmse: 0.112291\tvalid_1's rmse: 0.113791\n",
      "[110]\ttraining's rmse: 0.109965\tvalid_1's rmse: 0.112919\n",
      "[120]\ttraining's rmse: 0.108178\tvalid_1's rmse: 0.112689\n",
      "[130]\ttraining's rmse: 0.106582\tvalid_1's rmse: 0.111981\n",
      "[140]\ttraining's rmse: 0.104987\tvalid_1's rmse: 0.111794\n",
      "Early stopping, best iteration is:\n",
      "[137]\ttraining's rmse: 0.105468\tvalid_1's rmse: 0.111642\n"
     ]
    },
    {
     "name": "stderr",
     "output_type": "stream",
     "text": [
      "bagging, val_score: 0.110132:  40%|#####################2                               | 4/10 [00:00<00:00,  8.71it/s][I 2020-10-23 12:51:44,520] Trial 30 finished with value: 0.11164191827081389 and parameters: {'bagging_fraction': 0.9930368070095196, 'bagging_freq': 1}. Best is trial 29 with value: 0.11026798917684626.\n",
      "bagging, val_score: 0.110132:  40%|#####################2                               | 4/10 [00:00<00:00,  8.71it/s]"
     ]
    },
    {
     "name": "stdout",
     "output_type": "stream",
     "text": [
      "Training until validation scores don't improve for 10 rounds\n",
      "[10]\ttraining's rmse: 0.250017\tvalid_1's rmse: 0.235825\n",
      "[20]\ttraining's rmse: 0.18594\tvalid_1's rmse: 0.175194\n",
      "[30]\ttraining's rmse: 0.157856\tvalid_1's rmse: 0.148909\n",
      "[40]\ttraining's rmse: 0.143236\tvalid_1's rmse: 0.135152\n",
      "[50]\ttraining's rmse: 0.133882\tvalid_1's rmse: 0.125954\n",
      "[60]\ttraining's rmse: 0.127162\tvalid_1's rmse: 0.120303\n",
      "[70]\ttraining's rmse: 0.122507\tvalid_1's rmse: 0.11658\n",
      "[80]\ttraining's rmse: 0.118692\tvalid_1's rmse: 0.115023\n",
      "Early stopping, best iteration is:\n",
      "[78]\ttraining's rmse: 0.119461\tvalid_1's rmse: 0.114806\n"
     ]
    },
    {
     "name": "stderr",
     "output_type": "stream",
     "text": [
      "bagging, val_score: 0.110132:  40%|#####################2                               | 4/10 [00:00<00:00,  8.71it/s][I 2020-10-23 12:51:44,603] Trial 31 finished with value: 0.11480620097705338 and parameters: {'bagging_fraction': 0.770039845561375, 'bagging_freq': 1}. Best is trial 29 with value: 0.11026798917684626.\n",
      "bagging, val_score: 0.110132:  50%|##########################5                          | 5/10 [00:00<00:00,  8.71it/s]"
     ]
    },
    {
     "name": "stdout",
     "output_type": "stream",
     "text": [
      "Training until validation scores don't improve for 10 rounds\n",
      "[10]\ttraining's rmse: 0.249545\tvalid_1's rmse: 0.235539\n",
      "[20]\ttraining's rmse: 0.185815\tvalid_1's rmse: 0.175817\n",
      "[30]\ttraining's rmse: 0.157024\tvalid_1's rmse: 0.149116\n",
      "[40]\ttraining's rmse: 0.141471\tvalid_1's rmse: 0.132936\n",
      "[50]\ttraining's rmse: 0.133075\tvalid_1's rmse: 0.125343\n",
      "[60]\ttraining's rmse: 0.127172\tvalid_1's rmse: 0.121348\n",
      "[70]\ttraining's rmse: 0.122768\tvalid_1's rmse: 0.118295\n",
      "[80]\ttraining's rmse: 0.119498\tvalid_1's rmse: 0.115395\n",
      "[90]\ttraining's rmse: 0.116692\tvalid_1's rmse: 0.114647\n",
      "[100]\ttraining's rmse: 0.114562\tvalid_1's rmse: 0.114165\n",
      "[110]\ttraining's rmse: 0.112568\tvalid_1's rmse: 0.113532\n",
      "[120]\ttraining's rmse: 0.110448\tvalid_1's rmse: 0.113114\n",
      "[130]\ttraining's rmse: 0.10883\tvalid_1's rmse: 0.112764\n",
      "[140]\ttraining's rmse: 0.107138\tvalid_1's rmse: 0.113447\n",
      "Early stopping, best iteration is:\n",
      "[130]\ttraining's rmse: 0.10883\tvalid_1's rmse: 0.112764\n"
     ]
    },
    {
     "name": "stderr",
     "output_type": "stream",
     "text": [
      "bagging, val_score: 0.110132:  60%|###############################8                     | 6/10 [00:00<00:00,  9.16it/s][I 2020-10-23 12:51:44,711] Trial 32 finished with value: 0.11276378296237137 and parameters: {'bagging_fraction': 0.7783781133183876, 'bagging_freq': 5}. Best is trial 29 with value: 0.11026798917684626.\n",
      "bagging, val_score: 0.110132:  60%|###############################8                     | 6/10 [00:00<00:00,  9.16it/s]"
     ]
    },
    {
     "name": "stdout",
     "output_type": "stream",
     "text": [
      "Training until validation scores don't improve for 10 rounds\n",
      "[10]\ttraining's rmse: 0.248619\tvalid_1's rmse: 0.235091\n",
      "[20]\ttraining's rmse: 0.185173\tvalid_1's rmse: 0.176752\n",
      "[30]\ttraining's rmse: 0.156822\tvalid_1's rmse: 0.15078\n",
      "[40]\ttraining's rmse: 0.14265\tvalid_1's rmse: 0.136823\n",
      "[50]\ttraining's rmse: 0.134115\tvalid_1's rmse: 0.129388\n",
      "[60]\ttraining's rmse: 0.127281\tvalid_1's rmse: 0.123153\n",
      "[70]\ttraining's rmse: 0.122707\tvalid_1's rmse: 0.120773\n",
      "[80]\ttraining's rmse: 0.119457\tvalid_1's rmse: 0.119091\n",
      "[90]\ttraining's rmse: 0.117537\tvalid_1's rmse: 0.117132\n",
      "[100]\ttraining's rmse: 0.115026\tvalid_1's rmse: 0.115632\n",
      "[110]\ttraining's rmse: 0.1135\tvalid_1's rmse: 0.114524\n",
      "[120]\ttraining's rmse: 0.111872\tvalid_1's rmse: 0.11419\n",
      "[130]\ttraining's rmse: 0.110253\tvalid_1's rmse: 0.112836\n",
      "[140]\ttraining's rmse: 0.10892\tvalid_1's rmse: 0.113707\n",
      "Early stopping, best iteration is:\n",
      "[133]\ttraining's rmse: 0.109901\tvalid_1's rmse: 0.112524\n"
     ]
    },
    {
     "name": "stderr",
     "output_type": "stream",
     "text": [
      "bagging, val_score: 0.110132:  70%|#####################################                | 7/10 [00:00<00:00,  8.36it/s][I 2020-10-23 12:51:44,857] Trial 33 finished with value: 0.11252429606004935 and parameters: {'bagging_fraction': 0.5282001907371255, 'bagging_freq': 3}. Best is trial 29 with value: 0.11026798917684626.\n",
      "bagging, val_score: 0.110132:  70%|#####################################                | 7/10 [00:00<00:00,  8.36it/s]"
     ]
    },
    {
     "name": "stdout",
     "output_type": "stream",
     "text": [
      "Training until validation scores don't improve for 10 rounds\n",
      "[10]\ttraining's rmse: 0.250581\tvalid_1's rmse: 0.238161\n",
      "[20]\ttraining's rmse: 0.186392\tvalid_1's rmse: 0.178905\n",
      "[30]\ttraining's rmse: 0.15735\tvalid_1's rmse: 0.15052\n",
      "[40]\ttraining's rmse: 0.142757\tvalid_1's rmse: 0.134669\n",
      "[50]\ttraining's rmse: 0.133678\tvalid_1's rmse: 0.126219\n",
      "[60]\ttraining's rmse: 0.127208\tvalid_1's rmse: 0.120516\n",
      "[70]\ttraining's rmse: 0.122324\tvalid_1's rmse: 0.116427\n",
      "[80]\ttraining's rmse: 0.118929\tvalid_1's rmse: 0.114695\n",
      "[90]\ttraining's rmse: 0.116328\tvalid_1's rmse: 0.113145\n",
      "[100]\ttraining's rmse: 0.113907\tvalid_1's rmse: 0.112325\n",
      "Early stopping, best iteration is:\n",
      "[99]\ttraining's rmse: 0.114259\tvalid_1's rmse: 0.112245\n"
     ]
    },
    {
     "name": "stderr",
     "output_type": "stream",
     "text": [
      "bagging, val_score: 0.110132:  70%|#####################################                | 7/10 [00:00<00:00,  8.36it/s][I 2020-10-23 12:51:44,953] Trial 34 finished with value: 0.11224478785275073 and parameters: {'bagging_fraction': 0.858051783673205, 'bagging_freq': 1}. Best is trial 29 with value: 0.11026798917684626.\n",
      "bagging, val_score: 0.110132:  80%|##########################################4          | 8/10 [00:00<00:00,  8.36it/s]"
     ]
    },
    {
     "name": "stdout",
     "output_type": "stream",
     "text": [
      "Training until validation scores don't improve for 10 rounds\n",
      "[10]\ttraining's rmse: 0.248262\tvalid_1's rmse: 0.233461\n",
      "[20]\ttraining's rmse: 0.184536\tvalid_1's rmse: 0.175346\n",
      "[30]\ttraining's rmse: 0.156958\tvalid_1's rmse: 0.148517\n",
      "[40]\ttraining's rmse: 0.141693\tvalid_1's rmse: 0.135944\n",
      "[50]\ttraining's rmse: 0.132854\tvalid_1's rmse: 0.128486\n",
      "[60]\ttraining's rmse: 0.127835\tvalid_1's rmse: 0.124548\n",
      "[70]\ttraining's rmse: 0.123721\tvalid_1's rmse: 0.122097\n",
      "[80]\ttraining's rmse: 0.120173\tvalid_1's rmse: 0.120379\n",
      "[90]\ttraining's rmse: 0.11745\tvalid_1's rmse: 0.118469\n",
      "[100]\ttraining's rmse: 0.114937\tvalid_1's rmse: 0.118238\n",
      "Early stopping, best iteration is:\n",
      "[95]\ttraining's rmse: 0.116272\tvalid_1's rmse: 0.117951\n"
     ]
    },
    {
     "name": "stderr",
     "output_type": "stream",
     "text": [
      "bagging, val_score: 0.110132:  90%|###############################################7     | 9/10 [00:01<00:00,  8.21it/s][I 2020-10-23 12:51:45,110] Trial 35 finished with value: 0.1179513129956389 and parameters: {'bagging_fraction': 0.648566616304953, 'bagging_freq': 6}. Best is trial 29 with value: 0.11026798917684626.\n",
      "bagging, val_score: 0.110132:  90%|###############################################7     | 9/10 [00:01<00:00,  8.21it/s]"
     ]
    },
    {
     "name": "stdout",
     "output_type": "stream",
     "text": [
      "Training until validation scores don't improve for 10 rounds\n",
      "[10]\ttraining's rmse: 0.249927\tvalid_1's rmse: 0.237369\n",
      "[20]\ttraining's rmse: 0.185848\tvalid_1's rmse: 0.175989\n",
      "[30]\ttraining's rmse: 0.157157\tvalid_1's rmse: 0.147974\n",
      "[40]\ttraining's rmse: 0.142714\tvalid_1's rmse: 0.134028\n",
      "[50]\ttraining's rmse: 0.133574\tvalid_1's rmse: 0.125446\n",
      "[60]\ttraining's rmse: 0.126609\tvalid_1's rmse: 0.120402\n",
      "[70]\ttraining's rmse: 0.122071\tvalid_1's rmse: 0.11759\n",
      "[80]\ttraining's rmse: 0.118391\tvalid_1's rmse: 0.115692\n",
      "[90]\ttraining's rmse: 0.115766\tvalid_1's rmse: 0.114618\n",
      "[100]\ttraining's rmse: 0.113246\tvalid_1's rmse: 0.113951\n",
      "[110]\ttraining's rmse: 0.111055\tvalid_1's rmse: 0.113731\n",
      "[120]\ttraining's rmse: 0.109207\tvalid_1's rmse: 0.113401\n",
      "Early stopping, best iteration is:\n",
      "[117]\ttraining's rmse: 0.109719\tvalid_1's rmse: 0.113301\n"
     ]
    },
    {
     "name": "stderr",
     "output_type": "stream",
     "text": [
      "bagging, val_score: 0.110132: 100%|####################################################| 10/10 [00:01<00:00,  8.14it/s][I 2020-10-23 12:51:45,234] Trial 36 finished with value: 0.11330084722392811 and parameters: {'bagging_fraction': 0.9067555557765118, 'bagging_freq': 3}. Best is trial 29 with value: 0.11026798917684626.\n",
      "bagging, val_score: 0.110132: 100%|####################################################| 10/10 [00:01<00:00,  8.47it/s]\n",
      "feature_fraction_stage2, val_score: 0.110132:   0%|                                              | 0/6 [00:00<?, ?it/s]"
     ]
    },
    {
     "name": "stdout",
     "output_type": "stream",
     "text": [
      "Training until validation scores don't improve for 10 rounds\n",
      "[10]\ttraining's rmse: 0.251592\tvalid_1's rmse: 0.24005\n",
      "[20]\ttraining's rmse: 0.186269\tvalid_1's rmse: 0.176574\n",
      "[30]\ttraining's rmse: 0.156693\tvalid_1's rmse: 0.148569\n",
      "[40]\ttraining's rmse: 0.14108\tvalid_1's rmse: 0.133946\n",
      "[50]\ttraining's rmse: 0.132203\tvalid_1's rmse: 0.127219\n",
      "[60]\ttraining's rmse: 0.125468\tvalid_1's rmse: 0.121692\n",
      "[70]\ttraining's rmse: 0.120808\tvalid_1's rmse: 0.118901\n",
      "[80]\ttraining's rmse: 0.117217\tvalid_1's rmse: 0.11681\n",
      "[90]\ttraining's rmse: 0.114566\tvalid_1's rmse: 0.115384\n",
      "[100]\ttraining's rmse: 0.112091\tvalid_1's rmse: 0.114416\n",
      "[110]\ttraining's rmse: 0.110128\tvalid_1's rmse: 0.114433\n",
      "[120]\ttraining's rmse: 0.10838\tvalid_1's rmse: 0.113857\n",
      "[130]\ttraining's rmse: 0.106675\tvalid_1's rmse: 0.113413\n",
      "Early stopping, best iteration is:\n",
      "[129]\ttraining's rmse: 0.106797\tvalid_1's rmse: 0.113351\n"
     ]
    },
    {
     "name": "stderr",
     "output_type": "stream",
     "text": [
      "feature_fraction_stage2, val_score: 0.110132:  17%|######3                               | 1/6 [00:00<00:00,  9.01it/s][I 2020-10-23 12:51:45,354] Trial 37 finished with value: 0.11335141673087822 and parameters: {'feature_fraction': 0.484}. Best is trial 37 with value: 0.11335141673087822.\n",
      "feature_fraction_stage2, val_score: 0.110132:  17%|######3                               | 1/6 [00:00<00:00,  9.01it/s]"
     ]
    },
    {
     "name": "stdout",
     "output_type": "stream",
     "text": [
      "Training until validation scores don't improve for 10 rounds\n",
      "[10]\ttraining's rmse: 0.25354\tvalid_1's rmse: 0.240512\n",
      "[20]\ttraining's rmse: 0.188815\tvalid_1's rmse: 0.180229\n",
      "[30]\ttraining's rmse: 0.159013\tvalid_1's rmse: 0.15271\n",
      "[40]\ttraining's rmse: 0.143025\tvalid_1's rmse: 0.137824\n",
      "[50]\ttraining's rmse: 0.133342\tvalid_1's rmse: 0.129398\n",
      "[60]\ttraining's rmse: 0.126849\tvalid_1's rmse: 0.124163\n",
      "[70]\ttraining's rmse: 0.121997\tvalid_1's rmse: 0.12071\n",
      "[80]\ttraining's rmse: 0.118273\tvalid_1's rmse: 0.118949\n",
      "[90]\ttraining's rmse: 0.115538\tvalid_1's rmse: 0.116838\n",
      "[100]\ttraining's rmse: 0.112955\tvalid_1's rmse: 0.116291\n",
      "[110]\ttraining's rmse: 0.110917\tvalid_1's rmse: 0.11552\n",
      "[120]\ttraining's rmse: 0.108913\tvalid_1's rmse: 0.115076\n",
      "[130]\ttraining's rmse: 0.107203\tvalid_1's rmse: 0.114627\n",
      "[140]\ttraining's rmse: 0.105641\tvalid_1's rmse: 0.114451\n",
      "[150]\ttraining's rmse: 0.104171\tvalid_1's rmse: 0.114018\n",
      "[160]\ttraining's rmse: 0.103039\tvalid_1's rmse: 0.114333\n",
      "Early stopping, best iteration is:\n",
      "[151]\ttraining's rmse: 0.104058\tvalid_1's rmse: 0.113936\n"
     ]
    },
    {
     "name": "stderr",
     "output_type": "stream",
     "text": [
      "feature_fraction_stage2, val_score: 0.110132:  33%|############6                         | 2/6 [00:00<00:00,  8.59it/s][I 2020-10-23 12:51:45,484] Trial 38 finished with value: 0.11393576199514872 and parameters: {'feature_fraction': 0.42}. Best is trial 37 with value: 0.11335141673087822.\n",
      "feature_fraction_stage2, val_score: 0.110132:  33%|############6                         | 2/6 [00:00<00:00,  8.59it/s]"
     ]
    },
    {
     "name": "stdout",
     "output_type": "stream",
     "text": [
      "Training until validation scores don't improve for 10 rounds\n",
      "[10]\ttraining's rmse: 0.251592\tvalid_1's rmse: 0.24005\n",
      "[20]\ttraining's rmse: 0.186598\tvalid_1's rmse: 0.177042\n",
      "[30]\ttraining's rmse: 0.157612\tvalid_1's rmse: 0.149434\n",
      "[40]\ttraining's rmse: 0.142145\tvalid_1's rmse: 0.13488\n",
      "[50]\ttraining's rmse: 0.133429\tvalid_1's rmse: 0.126916\n",
      "[60]\ttraining's rmse: 0.126732\tvalid_1's rmse: 0.12226\n",
      "[70]\ttraining's rmse: 0.121618\tvalid_1's rmse: 0.119812\n",
      "[80]\ttraining's rmse: 0.118044\tvalid_1's rmse: 0.118671\n",
      "[90]\ttraining's rmse: 0.11524\tvalid_1's rmse: 0.116752\n",
      "[100]\ttraining's rmse: 0.112656\tvalid_1's rmse: 0.116181\n",
      "[110]\ttraining's rmse: 0.110494\tvalid_1's rmse: 0.115565\n",
      "[120]\ttraining's rmse: 0.108756\tvalid_1's rmse: 0.115178\n",
      "[130]\ttraining's rmse: 0.107209\tvalid_1's rmse: 0.115232\n",
      "Early stopping, best iteration is:\n",
      "[125]\ttraining's rmse: 0.10798\tvalid_1's rmse: 0.114885\n"
     ]
    },
    {
     "name": "stderr",
     "output_type": "stream",
     "text": [
      "feature_fraction_stage2, val_score: 0.110132:  50%|###################                   | 3/6 [00:00<00:00,  8.58it/s][I 2020-10-23 12:51:45,599] Trial 39 finished with value: 0.11488507665499063 and parameters: {'feature_fraction': 0.45199999999999996}. Best is trial 37 with value: 0.11335141673087822.\n",
      "feature_fraction_stage2, val_score: 0.110132:  50%|###################                   | 3/6 [00:00<00:00,  8.58it/s]"
     ]
    },
    {
     "name": "stdout",
     "output_type": "stream",
     "text": [
      "Training until validation scores don't improve for 10 rounds\n",
      "[10]\ttraining's rmse: 0.249814\tvalid_1's rmse: 0.238267\n",
      "[20]\ttraining's rmse: 0.185379\tvalid_1's rmse: 0.177581\n",
      "[30]\ttraining's rmse: 0.156142\tvalid_1's rmse: 0.147156\n",
      "[40]\ttraining's rmse: 0.141447\tvalid_1's rmse: 0.132796\n",
      "[50]\ttraining's rmse: 0.133066\tvalid_1's rmse: 0.125907\n",
      "[60]\ttraining's rmse: 0.126532\tvalid_1's rmse: 0.121456\n",
      "[70]\ttraining's rmse: 0.121889\tvalid_1's rmse: 0.118277\n",
      "[80]\ttraining's rmse: 0.118511\tvalid_1's rmse: 0.116057\n",
      "[90]\ttraining's rmse: 0.115636\tvalid_1's rmse: 0.114892\n",
      "[100]\ttraining's rmse: 0.113076\tvalid_1's rmse: 0.1144\n",
      "[110]\ttraining's rmse: 0.110919\tvalid_1's rmse: 0.11396\n",
      "[120]\ttraining's rmse: 0.108864\tvalid_1's rmse: 0.113469\n",
      "[130]\ttraining's rmse: 0.107024\tvalid_1's rmse: 0.11298\n",
      "[140]\ttraining's rmse: 0.105529\tvalid_1's rmse: 0.112708\n",
      "[150]\ttraining's rmse: 0.104175\tvalid_1's rmse: 0.112215\n",
      "Early stopping, best iteration is:\n",
      "[147]\ttraining's rmse: 0.104615\tvalid_1's rmse: 0.112072\n"
     ]
    },
    {
     "name": "stderr",
     "output_type": "stream",
     "text": [
      "feature_fraction_stage2, val_score: 0.110132:  67%|#########################3            | 4/6 [00:00<00:00,  8.09it/s][I 2020-10-23 12:51:45,740] Trial 40 finished with value: 0.11207172238201152 and parameters: {'feature_fraction': 0.516}. Best is trial 40 with value: 0.11207172238201152.\n",
      "feature_fraction_stage2, val_score: 0.110132:  67%|#########################3            | 4/6 [00:00<00:00,  8.09it/s]"
     ]
    },
    {
     "name": "stdout",
     "output_type": "stream",
     "text": [
      "Training until validation scores don't improve for 10 rounds\n",
      "[10]\ttraining's rmse: 0.248521\tvalid_1's rmse: 0.236267\n",
      "[20]\ttraining's rmse: 0.184928\tvalid_1's rmse: 0.177355\n",
      "[30]\ttraining's rmse: 0.156081\tvalid_1's rmse: 0.147837\n",
      "[40]\ttraining's rmse: 0.141464\tvalid_1's rmse: 0.134411\n",
      "[50]\ttraining's rmse: 0.132537\tvalid_1's rmse: 0.127329\n",
      "[60]\ttraining's rmse: 0.126369\tvalid_1's rmse: 0.122168\n",
      "[70]\ttraining's rmse: 0.121759\tvalid_1's rmse: 0.119995\n",
      "[80]\ttraining's rmse: 0.118256\tvalid_1's rmse: 0.11856\n",
      "[90]\ttraining's rmse: 0.115603\tvalid_1's rmse: 0.117058\n",
      "[100]\ttraining's rmse: 0.112824\tvalid_1's rmse: 0.116454\n",
      "[110]\ttraining's rmse: 0.110531\tvalid_1's rmse: 0.11601\n",
      "[120]\ttraining's rmse: 0.108615\tvalid_1's rmse: 0.115842\n",
      "[130]\ttraining's rmse: 0.106563\tvalid_1's rmse: 0.115589\n",
      "[140]\ttraining's rmse: 0.105129\tvalid_1's rmse: 0.115616\n",
      "[150]\ttraining's rmse: 0.103621\tvalid_1's rmse: 0.115392\n",
      "[160]\ttraining's rmse: 0.102173\tvalid_1's rmse: 0.11509\n",
      "[170]\ttraining's rmse: 0.101097\tvalid_1's rmse: 0.115062\n",
      "[180]\ttraining's rmse: 0.0997665\tvalid_1's rmse: 0.114825\n",
      "[190]\ttraining's rmse: 0.0986941\tvalid_1's rmse: 0.114691\n",
      "Early stopping, best iteration is:\n",
      "[186]\ttraining's rmse: 0.0991157\tvalid_1's rmse: 0.11452\n"
     ]
    },
    {
     "name": "stderr",
     "output_type": "stream",
     "text": [
      "feature_fraction_stage2, val_score: 0.110132:  83%|###############################6      | 5/6 [00:00<00:00,  7.59it/s][I 2020-10-23 12:51:45,891] Trial 41 finished with value: 0.11451988540411488 and parameters: {'feature_fraction': 0.58}. Best is trial 40 with value: 0.11207172238201152.\n",
      "feature_fraction_stage2, val_score: 0.110132:  83%|###############################6      | 5/6 [00:00<00:00,  7.59it/s]"
     ]
    },
    {
     "name": "stdout",
     "output_type": "stream",
     "text": [
      "Training until validation scores don't improve for 10 rounds\n",
      "[10]\ttraining's rmse: 0.249814\tvalid_1's rmse: 0.238267\n",
      "[20]\ttraining's rmse: 0.184866\tvalid_1's rmse: 0.176914\n",
      "[30]\ttraining's rmse: 0.156047\tvalid_1's rmse: 0.147541\n",
      "[40]\ttraining's rmse: 0.140694\tvalid_1's rmse: 0.132982\n",
      "[50]\ttraining's rmse: 0.13179\tvalid_1's rmse: 0.126384\n",
      "[60]\ttraining's rmse: 0.125618\tvalid_1's rmse: 0.121487\n",
      "[70]\ttraining's rmse: 0.120474\tvalid_1's rmse: 0.118899\n",
      "[80]\ttraining's rmse: 0.117252\tvalid_1's rmse: 0.117146\n",
      "[90]\ttraining's rmse: 0.114554\tvalid_1's rmse: 0.116631\n",
      "[100]\ttraining's rmse: 0.111941\tvalid_1's rmse: 0.115861\n",
      "Early stopping, best iteration is:\n",
      "[97]\ttraining's rmse: 0.112719\tvalid_1's rmse: 0.115847\n"
     ]
    },
    {
     "name": "stderr",
     "output_type": "stream",
     "text": [
      "feature_fraction_stage2, val_score: 0.110132:  83%|###############################6      | 5/6 [00:00<00:00,  7.59it/s][I 2020-10-23 12:51:45,981] Trial 42 finished with value: 0.11584721228047348 and parameters: {'feature_fraction': 0.5479999999999999}. Best is trial 40 with value: 0.11207172238201152.\n",
      "feature_fraction_stage2, val_score: 0.110132: 100%|######################################| 6/6 [00:00<00:00,  8.08it/s]\n",
      "regularization_factors, val_score: 0.110132:   0%|                                              | 0/20 [00:00<?, ?it/s]"
     ]
    },
    {
     "name": "stdout",
     "output_type": "stream",
     "text": [
      "Training until validation scores don't improve for 10 rounds\n",
      "[10]\ttraining's rmse: 0.249442\tvalid_1's rmse: 0.234877\n",
      "[20]\ttraining's rmse: 0.185946\tvalid_1's rmse: 0.174784\n",
      "[30]\ttraining's rmse: 0.15718\tvalid_1's rmse: 0.146367\n",
      "[40]\ttraining's rmse: 0.142247\tvalid_1's rmse: 0.132331\n",
      "[50]\ttraining's rmse: 0.133289\tvalid_1's rmse: 0.125054\n",
      "[60]\ttraining's rmse: 0.126773\tvalid_1's rmse: 0.119553\n",
      "[70]\ttraining's rmse: 0.121752\tvalid_1's rmse: 0.116924\n",
      "[80]\ttraining's rmse: 0.118298\tvalid_1's rmse: 0.114989\n",
      "[90]\ttraining's rmse: 0.11554\tvalid_1's rmse: 0.113195\n",
      "[100]\ttraining's rmse: 0.112977\tvalid_1's rmse: 0.112656\n",
      "[110]\ttraining's rmse: 0.110864\tvalid_1's rmse: 0.112233\n",
      "[120]\ttraining's rmse: 0.108623\tvalid_1's rmse: 0.111553\n",
      "[130]\ttraining's rmse: 0.106813\tvalid_1's rmse: 0.110792\n",
      "[140]\ttraining's rmse: 0.105274\tvalid_1's rmse: 0.110895\n",
      "[150]\ttraining's rmse: 0.103856\tvalid_1's rmse: 0.110533\n",
      "[160]\ttraining's rmse: 0.102487\tvalid_1's rmse: 0.110501\n",
      "[170]\ttraining's rmse: 0.101184\tvalid_1's rmse: 0.110498\n",
      "[180]\ttraining's rmse: 0.0998923\tvalid_1's rmse: 0.110158\n",
      "[190]\ttraining's rmse: 0.0986196\tvalid_1's rmse: 0.110238\n",
      "Early stopping, best iteration is:\n",
      "[181]\ttraining's rmse: 0.0997428\tvalid_1's rmse: 0.110132\n"
     ]
    },
    {
     "name": "stderr",
     "output_type": "stream",
     "text": [
      "regularization_factors, val_score: 0.110132:   5%|#9                                    | 1/20 [00:00<00:02,  7.58it/s][I 2020-10-23 12:51:46,123] Trial 43 finished with value: 0.11013215388282366 and parameters: {'lambda_l1': 2.2812527869709072e-05, 'lambda_l2': 2.2901177127343801e-07}. Best is trial 43 with value: 0.11013215388282366.\n",
      "regularization_factors, val_score: 0.110132:   5%|#9                                    | 1/20 [00:00<00:02,  7.58it/s]"
     ]
    },
    {
     "name": "stdout",
     "output_type": "stream",
     "text": [
      "Training until validation scores don't improve for 10 rounds\n",
      "[10]\ttraining's rmse: 0.249442\tvalid_1's rmse: 0.234877\n",
      "[20]\ttraining's rmse: 0.185946\tvalid_1's rmse: 0.174784\n",
      "[30]\ttraining's rmse: 0.15718\tvalid_1's rmse: 0.146367\n",
      "[40]\ttraining's rmse: 0.142247\tvalid_1's rmse: 0.132331\n",
      "[50]\ttraining's rmse: 0.133289\tvalid_1's rmse: 0.125054\n",
      "[60]\ttraining's rmse: 0.126773\tvalid_1's rmse: 0.119553\n",
      "[70]\ttraining's rmse: 0.121752\tvalid_1's rmse: 0.116924\n",
      "[80]\ttraining's rmse: 0.118298\tvalid_1's rmse: 0.114989\n",
      "[90]\ttraining's rmse: 0.11554\tvalid_1's rmse: 0.113195\n",
      "[100]\ttraining's rmse: 0.112977\tvalid_1's rmse: 0.112656\n",
      "[110]\ttraining's rmse: 0.110864\tvalid_1's rmse: 0.112233\n",
      "[120]\ttraining's rmse: 0.108623\tvalid_1's rmse: 0.111553\n",
      "[130]\ttraining's rmse: 0.106813\tvalid_1's rmse: 0.110792\n",
      "[140]\ttraining's rmse: 0.105274\tvalid_1's rmse: 0.110895\n",
      "[150]\ttraining's rmse: 0.103856\tvalid_1's rmse: 0.110533\n",
      "[160]\ttraining's rmse: 0.102487\tvalid_1's rmse: 0.110501\n",
      "[170]\ttraining's rmse: 0.101184\tvalid_1's rmse: 0.110498\n",
      "[180]\ttraining's rmse: 0.0998922\tvalid_1's rmse: 0.110158\n",
      "[190]\ttraining's rmse: 0.0986196\tvalid_1's rmse: 0.110238\n",
      "Early stopping, best iteration is:\n",
      "[181]\ttraining's rmse: 0.0997428\tvalid_1's rmse: 0.110132\n"
     ]
    },
    {
     "name": "stderr",
     "output_type": "stream",
     "text": [
      "regularization_factors, val_score: 0.110132:  10%|###8                                  | 2/20 [00:00<00:02,  7.17it/s][I 2020-10-23 12:51:46,280] Trial 44 finished with value: 0.11013216607719833 and parameters: {'lambda_l1': 1.1238085043936494e-05, 'lambda_l2': 6.922688341922863e-08}. Best is trial 43 with value: 0.11013215388282366.\n",
      "regularization_factors, val_score: 0.110132:  10%|###8                                  | 2/20 [00:00<00:02,  7.17it/s]"
     ]
    },
    {
     "name": "stdout",
     "output_type": "stream",
     "text": [
      "Training until validation scores don't improve for 10 rounds\n",
      "[10]\ttraining's rmse: 0.249442\tvalid_1's rmse: 0.234877\n",
      "[20]\ttraining's rmse: 0.185946\tvalid_1's rmse: 0.174784\n",
      "[30]\ttraining's rmse: 0.15718\tvalid_1's rmse: 0.146367\n",
      "[40]\ttraining's rmse: 0.142247\tvalid_1's rmse: 0.132331\n",
      "[50]\ttraining's rmse: 0.133289\tvalid_1's rmse: 0.125054\n",
      "[60]\ttraining's rmse: 0.126773\tvalid_1's rmse: 0.119553\n",
      "[70]\ttraining's rmse: 0.121752\tvalid_1's rmse: 0.116924\n",
      "[80]\ttraining's rmse: 0.118298\tvalid_1's rmse: 0.114989\n",
      "[90]\ttraining's rmse: 0.11554\tvalid_1's rmse: 0.113195\n",
      "[100]\ttraining's rmse: 0.112977\tvalid_1's rmse: 0.112656\n",
      "[110]\ttraining's rmse: 0.110864\tvalid_1's rmse: 0.112233\n",
      "[120]\ttraining's rmse: 0.108623\tvalid_1's rmse: 0.111553\n",
      "[130]\ttraining's rmse: 0.106813\tvalid_1's rmse: 0.110792\n",
      "[140]\ttraining's rmse: 0.105274\tvalid_1's rmse: 0.110895\n",
      "[150]\ttraining's rmse: 0.103856\tvalid_1's rmse: 0.110533\n",
      "[160]\ttraining's rmse: 0.102487\tvalid_1's rmse: 0.110501\n",
      "[170]\ttraining's rmse: 0.101184\tvalid_1's rmse: 0.110498\n",
      "[180]\ttraining's rmse: 0.0998923\tvalid_1's rmse: 0.110158\n",
      "[190]\ttraining's rmse: 0.0986196\tvalid_1's rmse: 0.110238\n",
      "Early stopping, best iteration is:\n",
      "[181]\ttraining's rmse: 0.0997428\tvalid_1's rmse: 0.110132\n"
     ]
    },
    {
     "name": "stderr",
     "output_type": "stream",
     "text": [
      "regularization_factors, val_score: 0.110132:  15%|#####7                                | 3/20 [00:00<00:02,  7.15it/s][I 2020-10-23 12:51:46,422] Trial 45 finished with value: 0.11013215792205891 and parameters: {'lambda_l1': 1.898133475240905e-05, 'lambda_l2': 8.578186465537777e-08}. Best is trial 43 with value: 0.11013215388282366.\n",
      "regularization_factors, val_score: 0.110132:  15%|#####7                                | 3/20 [00:00<00:02,  7.15it/s]"
     ]
    },
    {
     "name": "stdout",
     "output_type": "stream",
     "text": [
      "Training until validation scores don't improve for 10 rounds\n",
      "[10]\ttraining's rmse: 0.249442\tvalid_1's rmse: 0.234877\n",
      "[20]\ttraining's rmse: 0.185946\tvalid_1's rmse: 0.174784\n",
      "[30]\ttraining's rmse: 0.15718\tvalid_1's rmse: 0.146367\n",
      "[40]\ttraining's rmse: 0.142247\tvalid_1's rmse: 0.132331\n",
      "[50]\ttraining's rmse: 0.133289\tvalid_1's rmse: 0.125054\n",
      "[60]\ttraining's rmse: 0.126773\tvalid_1's rmse: 0.119553\n",
      "[70]\ttraining's rmse: 0.121752\tvalid_1's rmse: 0.116924\n",
      "[80]\ttraining's rmse: 0.118298\tvalid_1's rmse: 0.114989\n",
      "[90]\ttraining's rmse: 0.11554\tvalid_1's rmse: 0.113195\n",
      "[100]\ttraining's rmse: 0.112977\tvalid_1's rmse: 0.112656\n",
      "[110]\ttraining's rmse: 0.110864\tvalid_1's rmse: 0.112233\n",
      "[120]\ttraining's rmse: 0.108623\tvalid_1's rmse: 0.111553\n",
      "[130]\ttraining's rmse: 0.106813\tvalid_1's rmse: 0.110792\n",
      "[140]\ttraining's rmse: 0.105274\tvalid_1's rmse: 0.110895\n",
      "[150]\ttraining's rmse: 0.103856\tvalid_1's rmse: 0.110533\n",
      "[160]\ttraining's rmse: 0.102487\tvalid_1's rmse: 0.110501\n",
      "[170]\ttraining's rmse: 0.101184\tvalid_1's rmse: 0.110498\n",
      "[180]\ttraining's rmse: 0.0998922\tvalid_1's rmse: 0.110158\n",
      "[190]\ttraining's rmse: 0.0986196\tvalid_1's rmse: 0.110238\n",
      "Early stopping, best iteration is:\n",
      "[181]\ttraining's rmse: 0.0997428\tvalid_1's rmse: 0.110132\n"
     ]
    },
    {
     "name": "stderr",
     "output_type": "stream",
     "text": [
      "regularization_factors, val_score: 0.110132:  20%|#######6                              | 4/20 [00:00<00:02,  6.94it/s][I 2020-10-23 12:51:46,574] Trial 46 finished with value: 0.11013216112392125 and parameters: {'lambda_l1': 1.5963173575609916e-05, 'lambda_l2': 3.695292674817454e-08}. Best is trial 43 with value: 0.11013215388282366.\n",
      "regularization_factors, val_score: 0.110132:  20%|#######6                              | 4/20 [00:00<00:02,  6.94it/s]"
     ]
    },
    {
     "name": "stdout",
     "output_type": "stream",
     "text": [
      "Training until validation scores don't improve for 10 rounds\n",
      "[10]\ttraining's rmse: 0.249442\tvalid_1's rmse: 0.234877\n",
      "[20]\ttraining's rmse: 0.185946\tvalid_1's rmse: 0.174784\n",
      "[30]\ttraining's rmse: 0.15718\tvalid_1's rmse: 0.146367\n",
      "[40]\ttraining's rmse: 0.142247\tvalid_1's rmse: 0.132331\n",
      "[50]\ttraining's rmse: 0.133289\tvalid_1's rmse: 0.125054\n",
      "[60]\ttraining's rmse: 0.126773\tvalid_1's rmse: 0.119553\n",
      "[70]\ttraining's rmse: 0.121752\tvalid_1's rmse: 0.116924\n",
      "[80]\ttraining's rmse: 0.118298\tvalid_1's rmse: 0.114989\n",
      "[90]\ttraining's rmse: 0.11554\tvalid_1's rmse: 0.113195\n",
      "[100]\ttraining's rmse: 0.112977\tvalid_1's rmse: 0.112656\n",
      "[110]\ttraining's rmse: 0.110864\tvalid_1's rmse: 0.112233\n",
      "[120]\ttraining's rmse: 0.108623\tvalid_1's rmse: 0.111553\n",
      "[130]\ttraining's rmse: 0.106813\tvalid_1's rmse: 0.110792\n",
      "[140]\ttraining's rmse: 0.105274\tvalid_1's rmse: 0.110895\n",
      "[150]\ttraining's rmse: 0.103856\tvalid_1's rmse: 0.110533\n",
      "[160]\ttraining's rmse: 0.102487\tvalid_1's rmse: 0.110501\n",
      "[170]\ttraining's rmse: 0.101184\tvalid_1's rmse: 0.110498\n",
      "[180]\ttraining's rmse: 0.0998922\tvalid_1's rmse: 0.110158\n",
      "[190]\ttraining's rmse: 0.0986196\tvalid_1's rmse: 0.110238\n",
      "Early stopping, best iteration is:\n",
      "[181]\ttraining's rmse: 0.0997428\tvalid_1's rmse: 0.110132\n"
     ]
    },
    {
     "name": "stderr",
     "output_type": "stream",
     "text": [
      "regularization_factors, val_score: 0.110132:  25%|#########5                            | 5/20 [00:00<00:02,  7.10it/s][I 2020-10-23 12:51:46,707] Trial 47 finished with value: 0.11013216275728994 and parameters: {'lambda_l1': 1.441951468990154e-05, 'lambda_l2': 3.9577233715500366e-08}. Best is trial 43 with value: 0.11013215388282366.\n",
      "regularization_factors, val_score: 0.110132:  25%|#########5                            | 5/20 [00:00<00:02,  7.10it/s]"
     ]
    },
    {
     "name": "stdout",
     "output_type": "stream",
     "text": [
      "Training until validation scores don't improve for 10 rounds\n",
      "[10]\ttraining's rmse: 0.249442\tvalid_1's rmse: 0.234877\n",
      "[20]\ttraining's rmse: 0.185946\tvalid_1's rmse: 0.174784\n",
      "[30]\ttraining's rmse: 0.15718\tvalid_1's rmse: 0.146367\n",
      "[40]\ttraining's rmse: 0.142247\tvalid_1's rmse: 0.132331\n",
      "[50]\ttraining's rmse: 0.133289\tvalid_1's rmse: 0.125054\n",
      "[60]\ttraining's rmse: 0.126773\tvalid_1's rmse: 0.119553\n",
      "[70]\ttraining's rmse: 0.121752\tvalid_1's rmse: 0.116924\n",
      "[80]\ttraining's rmse: 0.118298\tvalid_1's rmse: 0.114989\n",
      "[90]\ttraining's rmse: 0.11554\tvalid_1's rmse: 0.113195\n",
      "[100]\ttraining's rmse: 0.112977\tvalid_1's rmse: 0.112656\n",
      "[110]\ttraining's rmse: 0.110864\tvalid_1's rmse: 0.112233\n",
      "[120]\ttraining's rmse: 0.108623\tvalid_1's rmse: 0.111553\n",
      "[130]\ttraining's rmse: 0.106813\tvalid_1's rmse: 0.110792\n",
      "[140]\ttraining's rmse: 0.105274\tvalid_1's rmse: 0.110895\n",
      "[150]\ttraining's rmse: 0.103856\tvalid_1's rmse: 0.110533\n",
      "[160]\ttraining's rmse: 0.102487\tvalid_1's rmse: 0.110501\n",
      "[170]\ttraining's rmse: 0.101184\tvalid_1's rmse: 0.110498\n",
      "[180]\ttraining's rmse: 0.0998923\tvalid_1's rmse: 0.110158\n",
      "[190]\ttraining's rmse: 0.0986196\tvalid_1's rmse: 0.110238\n",
      "Early stopping, best iteration is:\n",
      "[181]\ttraining's rmse: 0.0997428\tvalid_1's rmse: 0.110132\n"
     ]
    },
    {
     "name": "stderr",
     "output_type": "stream",
     "text": [
      "regularization_factors, val_score: 0.110132:  30%|###########4                          | 6/20 [00:00<00:01,  7.24it/s][I 2020-10-23 12:51:46,840] Trial 48 finished with value: 0.11013215995535675 and parameters: {'lambda_l1': 1.708627177799827e-05, 'lambda_l2': 4.941873076637044e-08}. Best is trial 43 with value: 0.11013215388282366.\n",
      "regularization_factors, val_score: 0.110132:  30%|###########4                          | 6/20 [00:00<00:01,  7.24it/s]"
     ]
    },
    {
     "name": "stdout",
     "output_type": "stream",
     "text": [
      "Training until validation scores don't improve for 10 rounds\n",
      "[10]\ttraining's rmse: 0.249442\tvalid_1's rmse: 0.234877\n",
      "[20]\ttraining's rmse: 0.185946\tvalid_1's rmse: 0.174784\n",
      "[30]\ttraining's rmse: 0.15718\tvalid_1's rmse: 0.146367\n",
      "[40]\ttraining's rmse: 0.142247\tvalid_1's rmse: 0.132331\n",
      "[50]\ttraining's rmse: 0.133289\tvalid_1's rmse: 0.125054\n",
      "[60]\ttraining's rmse: 0.126773\tvalid_1's rmse: 0.119553\n",
      "[70]\ttraining's rmse: 0.121752\tvalid_1's rmse: 0.116924\n",
      "[80]\ttraining's rmse: 0.118298\tvalid_1's rmse: 0.114989\n",
      "[90]\ttraining's rmse: 0.11554\tvalid_1's rmse: 0.113195\n",
      "[100]\ttraining's rmse: 0.112977\tvalid_1's rmse: 0.112656\n",
      "[110]\ttraining's rmse: 0.110864\tvalid_1's rmse: 0.112233\n",
      "[120]\ttraining's rmse: 0.108623\tvalid_1's rmse: 0.111553\n",
      "[130]\ttraining's rmse: 0.106813\tvalid_1's rmse: 0.110792\n",
      "[140]\ttraining's rmse: 0.105274\tvalid_1's rmse: 0.110895\n",
      "[150]\ttraining's rmse: 0.103856\tvalid_1's rmse: 0.110533\n",
      "[160]\ttraining's rmse: 0.102487\tvalid_1's rmse: 0.110501\n",
      "[170]\ttraining's rmse: 0.101184\tvalid_1's rmse: 0.110498\n",
      "[180]\ttraining's rmse: 0.0998923\tvalid_1's rmse: 0.110158\n",
      "[190]\ttraining's rmse: 0.0986196\tvalid_1's rmse: 0.110238\n",
      "Early stopping, best iteration is:\n",
      "[181]\ttraining's rmse: 0.0997428\tvalid_1's rmse: 0.110132\n"
     ]
    },
    {
     "name": "stderr",
     "output_type": "stream",
     "text": [
      "regularization_factors, val_score: 0.110132:  35%|#############3                        | 7/20 [00:00<00:01,  7.19it/s][I 2020-10-23 12:51:46,981] Trial 49 finished with value: 0.1101321569661826 and parameters: {'lambda_l1': 1.9917071349968223e-05, 'lambda_l2': 5.107589745884088e-08}. Best is trial 43 with value: 0.11013215388282366.\n",
      "regularization_factors, val_score: 0.110132:  35%|#############3                        | 7/20 [00:00<00:01,  7.19it/s]"
     ]
    },
    {
     "name": "stdout",
     "output_type": "stream",
     "text": [
      "Training until validation scores don't improve for 10 rounds\n",
      "[10]\ttraining's rmse: 0.249442\tvalid_1's rmse: 0.234877\n",
      "[20]\ttraining's rmse: 0.185946\tvalid_1's rmse: 0.174784\n",
      "[30]\ttraining's rmse: 0.15718\tvalid_1's rmse: 0.146367\n",
      "[40]\ttraining's rmse: 0.142247\tvalid_1's rmse: 0.132331\n",
      "[50]\ttraining's rmse: 0.133289\tvalid_1's rmse: 0.125054\n",
      "[60]\ttraining's rmse: 0.126773\tvalid_1's rmse: 0.119553\n",
      "[70]\ttraining's rmse: 0.121752\tvalid_1's rmse: 0.116924\n",
      "[80]\ttraining's rmse: 0.118298\tvalid_1's rmse: 0.114989\n",
      "[90]\ttraining's rmse: 0.11554\tvalid_1's rmse: 0.113195\n",
      "[100]\ttraining's rmse: 0.112977\tvalid_1's rmse: 0.112656\n",
      "[110]\ttraining's rmse: 0.110864\tvalid_1's rmse: 0.112233\n",
      "[120]\ttraining's rmse: 0.108623\tvalid_1's rmse: 0.111553\n",
      "[130]\ttraining's rmse: 0.106813\tvalid_1's rmse: 0.110792\n",
      "[140]\ttraining's rmse: 0.105274\tvalid_1's rmse: 0.110895\n",
      "[150]\ttraining's rmse: 0.103856\tvalid_1's rmse: 0.110533\n",
      "[160]\ttraining's rmse: 0.102487\tvalid_1's rmse: 0.110501\n",
      "[170]\ttraining's rmse: 0.101184\tvalid_1's rmse: 0.110498\n",
      "[180]\ttraining's rmse: 0.0998923\tvalid_1's rmse: 0.110158\n",
      "[190]\ttraining's rmse: 0.0986196\tvalid_1's rmse: 0.110238\n",
      "Early stopping, best iteration is:\n",
      "[181]\ttraining's rmse: 0.0997429\tvalid_1's rmse: 0.110132\n"
     ]
    },
    {
     "name": "stderr",
     "output_type": "stream",
     "text": [
      "regularization_factors, val_score: 0.110132:  40%|###############2                      | 8/20 [00:01<00:01,  7.26it/s][I 2020-10-23 12:51:47,116] Trial 50 finished with value: 0.11013215205205586 and parameters: {'lambda_l1': 2.4565058250685975e-05, 'lambda_l2': 6.366824136430306e-08}. Best is trial 50 with value: 0.11013215205205586.\n",
      "regularization_factors, val_score: 0.110132:  40%|###############2                      | 8/20 [00:01<00:01,  7.26it/s]"
     ]
    },
    {
     "name": "stdout",
     "output_type": "stream",
     "text": [
      "Training until validation scores don't improve for 10 rounds\n",
      "[10]\ttraining's rmse: 0.249442\tvalid_1's rmse: 0.234877\n",
      "[20]\ttraining's rmse: 0.185946\tvalid_1's rmse: 0.174784\n",
      "[30]\ttraining's rmse: 0.15718\tvalid_1's rmse: 0.146367\n",
      "[40]\ttraining's rmse: 0.142247\tvalid_1's rmse: 0.132331\n",
      "[50]\ttraining's rmse: 0.133289\tvalid_1's rmse: 0.125054\n",
      "[60]\ttraining's rmse: 0.126773\tvalid_1's rmse: 0.119553\n",
      "[70]\ttraining's rmse: 0.121752\tvalid_1's rmse: 0.116924\n",
      "[80]\ttraining's rmse: 0.118298\tvalid_1's rmse: 0.114989\n",
      "[90]\ttraining's rmse: 0.11554\tvalid_1's rmse: 0.113195\n",
      "[100]\ttraining's rmse: 0.112977\tvalid_1's rmse: 0.112656\n",
      "[110]\ttraining's rmse: 0.110864\tvalid_1's rmse: 0.112233\n",
      "[120]\ttraining's rmse: 0.108623\tvalid_1's rmse: 0.111553\n",
      "[130]\ttraining's rmse: 0.106813\tvalid_1's rmse: 0.110792\n",
      "[140]\ttraining's rmse: 0.105274\tvalid_1's rmse: 0.110895\n",
      "[150]\ttraining's rmse: 0.103856\tvalid_1's rmse: 0.110533\n",
      "[160]\ttraining's rmse: 0.102487\tvalid_1's rmse: 0.110501\n",
      "[170]\ttraining's rmse: 0.101184\tvalid_1's rmse: 0.110498\n",
      "[180]\ttraining's rmse: 0.0998923\tvalid_1's rmse: 0.110158\n",
      "[190]\ttraining's rmse: 0.0986196\tvalid_1's rmse: 0.110238\n",
      "Early stopping, best iteration is:\n",
      "[181]\ttraining's rmse: 0.0997428\tvalid_1's rmse: 0.110132\n"
     ]
    },
    {
     "name": "stderr",
     "output_type": "stream",
     "text": [
      "regularization_factors, val_score: 0.110132:  45%|#################1                    | 9/20 [00:01<00:01,  6.94it/s][I 2020-10-23 12:51:47,275] Trial 51 finished with value: 0.11013215852985125 and parameters: {'lambda_l1': 1.840838097085037e-05, 'lambda_l2': 5.51446946298137e-08}. Best is trial 50 with value: 0.11013215205205586.\n",
      "regularization_factors, val_score: 0.110132:  45%|#################1                    | 9/20 [00:01<00:01,  6.94it/s]"
     ]
    },
    {
     "name": "stdout",
     "output_type": "stream",
     "text": [
      "Training until validation scores don't improve for 10 rounds\n",
      "[10]\ttraining's rmse: 0.249442\tvalid_1's rmse: 0.234877\n",
      "[20]\ttraining's rmse: 0.185946\tvalid_1's rmse: 0.174784\n",
      "[30]\ttraining's rmse: 0.15718\tvalid_1's rmse: 0.146367\n",
      "[40]\ttraining's rmse: 0.142247\tvalid_1's rmse: 0.132331\n",
      "[50]\ttraining's rmse: 0.133289\tvalid_1's rmse: 0.125054\n",
      "[60]\ttraining's rmse: 0.126773\tvalid_1's rmse: 0.119553\n",
      "[70]\ttraining's rmse: 0.121752\tvalid_1's rmse: 0.116924\n",
      "[80]\ttraining's rmse: 0.118298\tvalid_1's rmse: 0.114989\n",
      "[90]\ttraining's rmse: 0.11554\tvalid_1's rmse: 0.113195\n",
      "[100]\ttraining's rmse: 0.112977\tvalid_1's rmse: 0.112656\n",
      "[110]\ttraining's rmse: 0.110864\tvalid_1's rmse: 0.112233\n",
      "[120]\ttraining's rmse: 0.108623\tvalid_1's rmse: 0.111553\n",
      "[130]\ttraining's rmse: 0.106813\tvalid_1's rmse: 0.110792\n",
      "[140]\ttraining's rmse: 0.105274\tvalid_1's rmse: 0.110895\n",
      "[150]\ttraining's rmse: 0.103856\tvalid_1's rmse: 0.110533\n",
      "[160]\ttraining's rmse: 0.102487\tvalid_1's rmse: 0.110501\n",
      "[170]\ttraining's rmse: 0.101184\tvalid_1's rmse: 0.110498\n",
      "[180]\ttraining's rmse: 0.0998923\tvalid_1's rmse: 0.110158\n",
      "[190]\ttraining's rmse: 0.0986196\tvalid_1's rmse: 0.110238\n",
      "Early stopping, best iteration is:\n",
      "[181]\ttraining's rmse: 0.0997429\tvalid_1's rmse: 0.110132\n"
     ]
    },
    {
     "name": "stderr",
     "output_type": "stream",
     "text": [
      "regularization_factors, val_score: 0.110132:  50%|##################5                  | 10/20 [00:01<00:01,  7.13it/s][I 2020-10-23 12:51:47,406] Trial 52 finished with value: 0.11013215079639069 and parameters: {'lambda_l1': 2.5786446306120275e-05, 'lambda_l2': 4.610008193783867e-08}. Best is trial 52 with value: 0.11013215079639069.\n",
      "regularization_factors, val_score: 0.110132:  50%|##################5                  | 10/20 [00:01<00:01,  7.13it/s]"
     ]
    },
    {
     "name": "stdout",
     "output_type": "stream",
     "text": [
      "Training until validation scores don't improve for 10 rounds\n",
      "[10]\ttraining's rmse: 0.249442\tvalid_1's rmse: 0.234877\n",
      "[20]\ttraining's rmse: 0.185947\tvalid_1's rmse: 0.174784\n",
      "[30]\ttraining's rmse: 0.15718\tvalid_1's rmse: 0.146367\n",
      "[40]\ttraining's rmse: 0.142247\tvalid_1's rmse: 0.132331\n",
      "[50]\ttraining's rmse: 0.133289\tvalid_1's rmse: 0.125054\n",
      "[60]\ttraining's rmse: 0.126773\tvalid_1's rmse: 0.119553\n",
      "[70]\ttraining's rmse: 0.121752\tvalid_1's rmse: 0.116924\n",
      "[80]\ttraining's rmse: 0.118298\tvalid_1's rmse: 0.114989\n",
      "[90]\ttraining's rmse: 0.11554\tvalid_1's rmse: 0.113195\n",
      "[100]\ttraining's rmse: 0.112977\tvalid_1's rmse: 0.112656\n",
      "[110]\ttraining's rmse: 0.110864\tvalid_1's rmse: 0.112233\n",
      "[120]\ttraining's rmse: 0.108623\tvalid_1's rmse: 0.111553\n",
      "[130]\ttraining's rmse: 0.106813\tvalid_1's rmse: 0.110792\n",
      "[140]\ttraining's rmse: 0.105274\tvalid_1's rmse: 0.110895\n",
      "[150]\ttraining's rmse: 0.103856\tvalid_1's rmse: 0.110533\n",
      "[160]\ttraining's rmse: 0.102487\tvalid_1's rmse: 0.110501\n",
      "[170]\ttraining's rmse: 0.101184\tvalid_1's rmse: 0.110498\n",
      "[180]\ttraining's rmse: 0.0998924\tvalid_1's rmse: 0.110158\n",
      "[190]\ttraining's rmse: 0.0986197\tvalid_1's rmse: 0.110238\n",
      "Early stopping, best iteration is:\n",
      "[181]\ttraining's rmse: 0.0997429\tvalid_1's rmse: 0.110132\n"
     ]
    },
    {
     "name": "stderr",
     "output_type": "stream",
     "text": [
      "regularization_factors, val_score: 0.110132:  55%|####################3                | 11/20 [00:01<00:01,  6.90it/s][I 2020-10-23 12:51:47,561] Trial 53 finished with value: 0.11013213740422344 and parameters: {'lambda_l1': 3.8413324583002165e-05, 'lambda_l2': 1.2000045045816082e-07}. Best is trial 53 with value: 0.11013213740422344.\n",
      "regularization_factors, val_score: 0.110132:  55%|####################3                | 11/20 [00:01<00:01,  6.90it/s]"
     ]
    },
    {
     "name": "stdout",
     "output_type": "stream",
     "text": [
      "Training until validation scores don't improve for 10 rounds\n",
      "[10]\ttraining's rmse: 0.249442\tvalid_1's rmse: 0.234877\n",
      "[20]\ttraining's rmse: 0.185947\tvalid_1's rmse: 0.174784\n",
      "[30]\ttraining's rmse: 0.15718\tvalid_1's rmse: 0.146368\n",
      "[40]\ttraining's rmse: 0.142247\tvalid_1's rmse: 0.132331\n",
      "[50]\ttraining's rmse: 0.133289\tvalid_1's rmse: 0.125054\n",
      "[60]\ttraining's rmse: 0.126773\tvalid_1's rmse: 0.119553\n",
      "[70]\ttraining's rmse: 0.121752\tvalid_1's rmse: 0.116924\n",
      "[80]\ttraining's rmse: 0.118299\tvalid_1's rmse: 0.114989\n",
      "[90]\ttraining's rmse: 0.11554\tvalid_1's rmse: 0.113195\n",
      "[100]\ttraining's rmse: 0.112977\tvalid_1's rmse: 0.112656\n",
      "[110]\ttraining's rmse: 0.110864\tvalid_1's rmse: 0.112233\n",
      "[120]\ttraining's rmse: 0.108623\tvalid_1's rmse: 0.111553\n",
      "[130]\ttraining's rmse: 0.106813\tvalid_1's rmse: 0.110792\n",
      "[140]\ttraining's rmse: 0.105274\tvalid_1's rmse: 0.110895\n",
      "[150]\ttraining's rmse: 0.103857\tvalid_1's rmse: 0.110533\n",
      "[160]\ttraining's rmse: 0.102487\tvalid_1's rmse: 0.110501\n",
      "[170]\ttraining's rmse: 0.101184\tvalid_1's rmse: 0.110498\n",
      "[180]\ttraining's rmse: 0.0998927\tvalid_1's rmse: 0.110158\n",
      "[190]\ttraining's rmse: 0.0986201\tvalid_1's rmse: 0.110238\n",
      "Early stopping, best iteration is:\n",
      "[181]\ttraining's rmse: 0.0997433\tvalid_1's rmse: 0.110132\n"
     ]
    },
    {
     "name": "stderr",
     "output_type": "stream",
     "text": [
      "regularization_factors, val_score: 0.110132:  60%|######################2              | 12/20 [00:01<00:01,  7.10it/s][I 2020-10-23 12:51:47,692] Trial 54 finished with value: 0.11013207642326724 and parameters: {'lambda_l1': 9.624738004847587e-05, 'lambda_l2': 2.5364666645931174e-07}. Best is trial 54 with value: 0.11013207642326724.\n",
      "regularization_factors, val_score: 0.110132:  60%|######################2              | 12/20 [00:01<00:01,  7.10it/s]"
     ]
    },
    {
     "name": "stdout",
     "output_type": "stream",
     "text": [
      "Training until validation scores don't improve for 10 rounds\n",
      "[10]\ttraining's rmse: 0.249454\tvalid_1's rmse: 0.234888\n",
      "[20]\ttraining's rmse: 0.185963\tvalid_1's rmse: 0.174801\n",
      "[30]\ttraining's rmse: 0.157198\tvalid_1's rmse: 0.146386\n",
      "[40]\ttraining's rmse: 0.142265\tvalid_1's rmse: 0.132349\n",
      "[50]\ttraining's rmse: 0.133306\tvalid_1's rmse: 0.125071\n",
      "[60]\ttraining's rmse: 0.126791\tvalid_1's rmse: 0.119571\n",
      "[70]\ttraining's rmse: 0.121771\tvalid_1's rmse: 0.11694\n",
      "[80]\ttraining's rmse: 0.118319\tvalid_1's rmse: 0.115001\n",
      "[90]\ttraining's rmse: 0.115562\tvalid_1's rmse: 0.113265\n",
      "[100]\ttraining's rmse: 0.113002\tvalid_1's rmse: 0.112722\n",
      "[110]\ttraining's rmse: 0.110969\tvalid_1's rmse: 0.1122\n",
      "[120]\ttraining's rmse: 0.108765\tvalid_1's rmse: 0.111504\n",
      "[130]\ttraining's rmse: 0.107286\tvalid_1's rmse: 0.110703\n",
      "[140]\ttraining's rmse: 0.105761\tvalid_1's rmse: 0.110425\n",
      "Early stopping, best iteration is:\n",
      "[139]\ttraining's rmse: 0.105895\tvalid_1's rmse: 0.110388\n"
     ]
    },
    {
     "name": "stderr",
     "output_type": "stream",
     "text": [
      "regularization_factors, val_score: 0.110132:  65%|########################             | 13/20 [00:01<00:00,  7.65it/s][I 2020-10-23 12:51:47,800] Trial 55 finished with value: 0.11038830175233548 and parameters: {'lambda_l1': 0.007605378522225286, 'lambda_l2': 9.275677367374336e-06}. Best is trial 54 with value: 0.11013207642326724.\n",
      "regularization_factors, val_score: 0.110132:  65%|########################             | 13/20 [00:01<00:00,  7.65it/s]"
     ]
    },
    {
     "name": "stdout",
     "output_type": "stream",
     "text": [
      "Training until validation scores don't improve for 10 rounds\n",
      "[10]\ttraining's rmse: 0.249443\tvalid_1's rmse: 0.234877\n",
      "[20]\ttraining's rmse: 0.185947\tvalid_1's rmse: 0.174785\n",
      "[30]\ttraining's rmse: 0.157181\tvalid_1's rmse: 0.146368\n",
      "[40]\ttraining's rmse: 0.142248\tvalid_1's rmse: 0.132332\n",
      "[50]\ttraining's rmse: 0.13329\tvalid_1's rmse: 0.125055\n",
      "[60]\ttraining's rmse: 0.126774\tvalid_1's rmse: 0.119554\n",
      "[70]\ttraining's rmse: 0.121753\tvalid_1's rmse: 0.116925\n",
      "[80]\ttraining's rmse: 0.118299\tvalid_1's rmse: 0.11499\n",
      "[90]\ttraining's rmse: 0.115541\tvalid_1's rmse: 0.113195\n",
      "[100]\ttraining's rmse: 0.112978\tvalid_1's rmse: 0.112656\n",
      "[110]\ttraining's rmse: 0.110865\tvalid_1's rmse: 0.112233\n",
      "[120]\ttraining's rmse: 0.108624\tvalid_1's rmse: 0.111553\n",
      "[130]\ttraining's rmse: 0.106815\tvalid_1's rmse: 0.110792\n",
      "[140]\ttraining's rmse: 0.105276\tvalid_1's rmse: 0.110895\n",
      "[150]\ttraining's rmse: 0.103858\tvalid_1's rmse: 0.110532\n",
      "[160]\ttraining's rmse: 0.102489\tvalid_1's rmse: 0.1105\n",
      "[170]\ttraining's rmse: 0.101186\tvalid_1's rmse: 0.110498\n",
      "[180]\ttraining's rmse: 0.0997876\tvalid_1's rmse: 0.110426\n",
      "Early stopping, best iteration is:\n",
      "[179]\ttraining's rmse: 0.0998974\tvalid_1's rmse: 0.110242\n"
     ]
    },
    {
     "name": "stderr",
     "output_type": "stream",
     "text": [
      "regularization_factors, val_score: 0.110132:  70%|#########################9           | 14/20 [00:01<00:00,  7.68it/s][I 2020-10-23 12:51:47,929] Trial 56 finished with value: 0.1102418924241738 and parameters: {'lambda_l1': 0.00041949963972115196, 'lambda_l2': 2.2831157562808873e-06}. Best is trial 54 with value: 0.11013207642326724.\n",
      "regularization_factors, val_score: 0.110132:  70%|#########################9           | 14/20 [00:01<00:00,  7.68it/s]"
     ]
    },
    {
     "name": "stdout",
     "output_type": "stream",
     "text": [
      "Training until validation scores don't improve for 10 rounds\n",
      "[10]\ttraining's rmse: 0.249466\tvalid_1's rmse: 0.234897\n",
      "[20]\ttraining's rmse: 0.185973\tvalid_1's rmse: 0.174809\n",
      "[30]\ttraining's rmse: 0.157203\tvalid_1's rmse: 0.14639\n",
      "[40]\ttraining's rmse: 0.142265\tvalid_1's rmse: 0.132348\n",
      "[50]\ttraining's rmse: 0.133303\tvalid_1's rmse: 0.125067\n",
      "[60]\ttraining's rmse: 0.126785\tvalid_1's rmse: 0.119564\n",
      "[70]\ttraining's rmse: 0.121763\tvalid_1's rmse: 0.116933\n",
      "[80]\ttraining's rmse: 0.118308\tvalid_1's rmse: 0.114995\n",
      "[90]\ttraining's rmse: 0.115549\tvalid_1's rmse: 0.113199\n",
      "[100]\ttraining's rmse: 0.112986\tvalid_1's rmse: 0.112658\n",
      "[110]\ttraining's rmse: 0.110873\tvalid_1's rmse: 0.112234\n",
      "[120]\ttraining's rmse: 0.108807\tvalid_1's rmse: 0.111531\n",
      "[130]\ttraining's rmse: 0.107068\tvalid_1's rmse: 0.110989\n",
      "[140]\ttraining's rmse: 0.105584\tvalid_1's rmse: 0.110455\n",
      "[150]\ttraining's rmse: 0.104077\tvalid_1's rmse: 0.109723\n",
      "[160]\ttraining's rmse: 0.10261\tvalid_1's rmse: 0.109674\n",
      "Early stopping, best iteration is:\n",
      "[151]\ttraining's rmse: 0.103839\tvalid_1's rmse: 0.109518\n"
     ]
    },
    {
     "name": "stderr",
     "output_type": "stream",
     "text": [
      "regularization_factors, val_score: 0.109518:  75%|###########################7         | 15/20 [00:02<00:00,  8.00it/s][I 2020-10-23 12:51:48,041] Trial 57 finished with value: 0.10951849959845958 and parameters: {'lambda_l1': 0.00033965713766997594, 'lambda_l2': 0.0427177680587449}. Best is trial 57 with value: 0.10951849959845958.\n",
      "regularization_factors, val_score: 0.109518:  75%|###########################7         | 15/20 [00:02<00:00,  8.00it/s]"
     ]
    },
    {
     "name": "stdout",
     "output_type": "stream",
     "text": [
      "Training until validation scores don't improve for 10 rounds\n",
      "[10]\ttraining's rmse: 0.249529\tvalid_1's rmse: 0.234953\n",
      "[20]\ttraining's rmse: 0.186044\tvalid_1's rmse: 0.174874\n",
      "[30]\ttraining's rmse: 0.157263\tvalid_1's rmse: 0.146448\n",
      "[40]\ttraining's rmse: 0.142312\tvalid_1's rmse: 0.132394\n",
      "[50]\ttraining's rmse: 0.13334\tvalid_1's rmse: 0.125101\n",
      "[60]\ttraining's rmse: 0.126816\tvalid_1's rmse: 0.119593\n",
      "[70]\ttraining's rmse: 0.1219\tvalid_1's rmse: 0.116894\n",
      "[80]\ttraining's rmse: 0.11856\tvalid_1's rmse: 0.114558\n",
      "[90]\ttraining's rmse: 0.115948\tvalid_1's rmse: 0.113354\n",
      "[100]\ttraining's rmse: 0.113499\tvalid_1's rmse: 0.112368\n",
      "[110]\ttraining's rmse: 0.111595\tvalid_1's rmse: 0.112138\n",
      "[120]\ttraining's rmse: 0.109533\tvalid_1's rmse: 0.111955\n",
      "Early stopping, best iteration is:\n",
      "[119]\ttraining's rmse: 0.109714\tvalid_1's rmse: 0.111813\n"
     ]
    },
    {
     "name": "stderr",
     "output_type": "stream",
     "text": [
      "regularization_factors, val_score: 0.109518:  75%|###########################7         | 15/20 [00:02<00:00,  8.00it/s][I 2020-10-23 12:51:48,134] Trial 58 finished with value: 0.11181340359538336 and parameters: {'lambda_l1': 0.0008777948230912901, 'lambda_l2': 0.1582968610785138}. Best is trial 57 with value: 0.10951849959845958.\n",
      "regularization_factors, val_score: 0.109518:  80%|#############################6       | 16/20 [00:02<00:00,  8.00it/s]"
     ]
    },
    {
     "name": "stdout",
     "output_type": "stream",
     "text": [
      "Training until validation scores don't improve for 10 rounds\n",
      "[10]\ttraining's rmse: 0.249632\tvalid_1's rmse: 0.235044\n",
      "[20]\ttraining's rmse: 0.186158\tvalid_1's rmse: 0.17498\n",
      "[30]\ttraining's rmse: 0.157394\tvalid_1's rmse: 0.146418\n",
      "[40]\ttraining's rmse: 0.142086\tvalid_1's rmse: 0.131769\n",
      "[50]\ttraining's rmse: 0.133153\tvalid_1's rmse: 0.123809\n",
      "[60]\ttraining's rmse: 0.126576\tvalid_1's rmse: 0.119539\n",
      "[70]\ttraining's rmse: 0.121872\tvalid_1's rmse: 0.116962\n",
      "[80]\ttraining's rmse: 0.118483\tvalid_1's rmse: 0.114607\n",
      "[90]\ttraining's rmse: 0.115793\tvalid_1's rmse: 0.113092\n",
      "[100]\ttraining's rmse: 0.113305\tvalid_1's rmse: 0.112152\n",
      "[110]\ttraining's rmse: 0.111075\tvalid_1's rmse: 0.111632\n",
      "[120]\ttraining's rmse: 0.109174\tvalid_1's rmse: 0.111313\n",
      "[130]\ttraining's rmse: 0.107413\tvalid_1's rmse: 0.110826\n",
      "[140]\ttraining's rmse: 0.10601\tvalid_1's rmse: 0.110815\n",
      "[150]\ttraining's rmse: 0.104462\tvalid_1's rmse: 0.110594\n",
      "[160]\ttraining's rmse: 0.102971\tvalid_1's rmse: 0.110676\n",
      "[170]\ttraining's rmse: 0.10178\tvalid_1's rmse: 0.110403\n",
      "[180]\ttraining's rmse: 0.100627\tvalid_1's rmse: 0.11002\n",
      "[190]\ttraining's rmse: 0.0995839\tvalid_1's rmse: 0.109978\n",
      "Early stopping, best iteration is:\n",
      "[183]\ttraining's rmse: 0.100335\tvalid_1's rmse: 0.109832\n"
     ]
    },
    {
     "name": "stderr",
     "output_type": "stream",
     "text": [
      "regularization_factors, val_score: 0.109518:  85%|###############################4     | 17/20 [00:02<00:00,  8.26it/s][I 2020-10-23 12:51:48,266] Trial 59 finished with value: 0.10983239184273266 and parameters: {'lambda_l1': 5.468023836912283e-07, 'lambda_l2': 0.35146022549084716}. Best is trial 57 with value: 0.10951849959845958.\n",
      "regularization_factors, val_score: 0.109518:  85%|###############################4     | 17/20 [00:02<00:00,  8.26it/s]"
     ]
    },
    {
     "name": "stdout",
     "output_type": "stream",
     "text": [
      "Training until validation scores don't improve for 10 rounds\n",
      "[10]\ttraining's rmse: 0.249562\tvalid_1's rmse: 0.234982\n",
      "[20]\ttraining's rmse: 0.18608\tvalid_1's rmse: 0.174907\n",
      "[30]\ttraining's rmse: 0.157336\tvalid_1's rmse: 0.146361\n",
      "[40]\ttraining's rmse: 0.142038\tvalid_1's rmse: 0.13172\n",
      "[50]\ttraining's rmse: 0.133131\tvalid_1's rmse: 0.123605\n",
      "[60]\ttraining's rmse: 0.12682\tvalid_1's rmse: 0.11952\n",
      "[70]\ttraining's rmse: 0.121834\tvalid_1's rmse: 0.116606\n",
      "[80]\ttraining's rmse: 0.118206\tvalid_1's rmse: 0.114814\n",
      "[90]\ttraining's rmse: 0.115629\tvalid_1's rmse: 0.112879\n",
      "[100]\ttraining's rmse: 0.113333\tvalid_1's rmse: 0.112491\n",
      "[110]\ttraining's rmse: 0.11105\tvalid_1's rmse: 0.112095\n",
      "[120]\ttraining's rmse: 0.108836\tvalid_1's rmse: 0.111011\n",
      "[130]\ttraining's rmse: 0.107274\tvalid_1's rmse: 0.110155\n",
      "[140]\ttraining's rmse: 0.105904\tvalid_1's rmse: 0.110316\n",
      "Early stopping, best iteration is:\n",
      "[131]\ttraining's rmse: 0.107093\tvalid_1's rmse: 0.110042\n"
     ]
    },
    {
     "name": "stderr",
     "output_type": "stream",
     "text": [
      "regularization_factors, val_score: 0.109518:  90%|#################################3   | 18/20 [00:02<00:00,  8.53it/s][I 2020-10-23 12:51:48,375] Trial 60 finished with value: 0.11004195120303058 and parameters: {'lambda_l1': 3.013589456155963e-07, 'lambda_l2': 0.2212429724215596}. Best is trial 57 with value: 0.10951849959845958.\n",
      "regularization_factors, val_score: 0.109518:  90%|#################################3   | 18/20 [00:02<00:00,  8.53it/s]"
     ]
    },
    {
     "name": "stdout",
     "output_type": "stream",
     "text": [
      "Training until validation scores don't improve for 10 rounds\n",
      "[10]\ttraining's rmse: 0.249623\tvalid_1's rmse: 0.235036\n",
      "[20]\ttraining's rmse: 0.186149\tvalid_1's rmse: 0.174971\n",
      "[30]\ttraining's rmse: 0.157387\tvalid_1's rmse: 0.146411\n",
      "[40]\ttraining's rmse: 0.142081\tvalid_1's rmse: 0.131763\n",
      "[50]\ttraining's rmse: 0.133148\tvalid_1's rmse: 0.123804\n",
      "[60]\ttraining's rmse: 0.126572\tvalid_1's rmse: 0.119535\n",
      "[70]\ttraining's rmse: 0.121868\tvalid_1's rmse: 0.116959\n",
      "[80]\ttraining's rmse: 0.118528\tvalid_1's rmse: 0.114711\n",
      "[90]\ttraining's rmse: 0.11591\tvalid_1's rmse: 0.113219\n",
      "[100]\ttraining's rmse: 0.113342\tvalid_1's rmse: 0.112379\n",
      "[110]\ttraining's rmse: 0.110997\tvalid_1's rmse: 0.112084\n",
      "[120]\ttraining's rmse: 0.108996\tvalid_1's rmse: 0.11108\n",
      "[130]\ttraining's rmse: 0.107246\tvalid_1's rmse: 0.110564\n",
      "[140]\ttraining's rmse: 0.105575\tvalid_1's rmse: 0.11051\n",
      "Early stopping, best iteration is:\n",
      "[139]\ttraining's rmse: 0.105683\tvalid_1's rmse: 0.110504\n"
     ]
    },
    {
     "name": "stderr",
     "output_type": "stream",
     "text": [
      "regularization_factors, val_score: 0.109518:  95%|###################################1 | 19/20 [00:02<00:00,  8.76it/s][I 2020-10-23 12:51:48,481] Trial 61 finished with value: 0.11050421847346585 and parameters: {'lambda_l1': 3.234040799120067e-08, 'lambda_l2': 0.3358003820562612}. Best is trial 57 with value: 0.10951849959845958.\n",
      "regularization_factors, val_score: 0.109518:  95%|###################################1 | 19/20 [00:02<00:00,  8.76it/s]"
     ]
    },
    {
     "name": "stdout",
     "output_type": "stream",
     "text": [
      "Training until validation scores don't improve for 10 rounds\n",
      "[10]\ttraining's rmse: 0.251464\tvalid_1's rmse: 0.236722\n",
      "[20]\ttraining's rmse: 0.188315\tvalid_1's rmse: 0.177789\n",
      "[30]\ttraining's rmse: 0.159386\tvalid_1's rmse: 0.148107\n",
      "[40]\ttraining's rmse: 0.143929\tvalid_1's rmse: 0.132771\n",
      "[50]\ttraining's rmse: 0.134849\tvalid_1's rmse: 0.12463\n",
      "[60]\ttraining's rmse: 0.128522\tvalid_1's rmse: 0.120176\n",
      "[70]\ttraining's rmse: 0.123406\tvalid_1's rmse: 0.117195\n",
      "[80]\ttraining's rmse: 0.119841\tvalid_1's rmse: 0.115304\n",
      "[90]\ttraining's rmse: 0.117138\tvalid_1's rmse: 0.112915\n",
      "[100]\ttraining's rmse: 0.114524\tvalid_1's rmse: 0.112144\n",
      "[110]\ttraining's rmse: 0.112359\tvalid_1's rmse: 0.111168\n",
      "[120]\ttraining's rmse: 0.110506\tvalid_1's rmse: 0.110802\n",
      "[130]\ttraining's rmse: 0.108822\tvalid_1's rmse: 0.110739\n",
      "[140]\ttraining's rmse: 0.10736\tvalid_1's rmse: 0.110707\n",
      "Early stopping, best iteration is:\n",
      "[136]\ttraining's rmse: 0.10798\tvalid_1's rmse: 0.110258\n"
     ]
    },
    {
     "name": "stderr",
     "output_type": "stream",
     "text": [
      "regularization_factors, val_score: 0.109518: 100%|#####################################| 20/20 [00:02<00:00,  8.98it/s][I 2020-10-23 12:51:48,586] Trial 62 finished with value: 0.1102575995873796 and parameters: {'lambda_l1': 6.908433081469526e-08, 'lambda_l2': 3.8504368696217597}. Best is trial 57 with value: 0.10951849959845958.\n",
      "regularization_factors, val_score: 0.109518: 100%|#####################################| 20/20 [00:02<00:00,  7.69it/s]\n",
      "min_data_in_leaf, val_score: 0.109518:   0%|                                                     | 0/5 [00:00<?, ?it/s]"
     ]
    },
    {
     "name": "stdout",
     "output_type": "stream",
     "text": [
      "Training until validation scores don't improve for 10 rounds\n",
      "[10]\ttraining's rmse: 0.249466\tvalid_1's rmse: 0.234897\n",
      "[20]\ttraining's rmse: 0.185973\tvalid_1's rmse: 0.174809\n",
      "[30]\ttraining's rmse: 0.157216\tvalid_1's rmse: 0.146557\n",
      "[40]\ttraining's rmse: 0.142434\tvalid_1's rmse: 0.131832\n",
      "[50]\ttraining's rmse: 0.133615\tvalid_1's rmse: 0.125114\n",
      "[60]\ttraining's rmse: 0.126818\tvalid_1's rmse: 0.120065\n",
      "[70]\ttraining's rmse: 0.122467\tvalid_1's rmse: 0.116392\n",
      "[80]\ttraining's rmse: 0.119406\tvalid_1's rmse: 0.114326\n",
      "[90]\ttraining's rmse: 0.116696\tvalid_1's rmse: 0.112928\n",
      "[100]\ttraining's rmse: 0.11432\tvalid_1's rmse: 0.11174\n",
      "[110]\ttraining's rmse: 0.112131\tvalid_1's rmse: 0.112068\n",
      "Early stopping, best iteration is:\n",
      "[100]\ttraining's rmse: 0.11432\tvalid_1's rmse: 0.11174\n"
     ]
    },
    {
     "name": "stderr",
     "output_type": "stream",
     "text": [
      "min_data_in_leaf, val_score: 0.109518:   0%|                                                     | 0/5 [00:00<?, ?it/s][I 2020-10-23 12:51:48,675] Trial 63 finished with value: 0.11173991942847407 and parameters: {'min_child_samples': 25}. Best is trial 63 with value: 0.11173991942847407.\n",
      "min_data_in_leaf, val_score: 0.109518:  20%|#########                                    | 1/5 [00:00<00:00, 10.99it/s]"
     ]
    },
    {
     "name": "stdout",
     "output_type": "stream",
     "text": [
      "Training until validation scores don't improve for 10 rounds\n",
      "[10]\ttraining's rmse: 0.249466\tvalid_1's rmse: 0.234897\n",
      "[20]\ttraining's rmse: 0.185973\tvalid_1's rmse: 0.174809\n",
      "[30]\ttraining's rmse: 0.157125\tvalid_1's rmse: 0.146072\n",
      "[40]\ttraining's rmse: 0.141986\tvalid_1's rmse: 0.13201\n",
      "[50]\ttraining's rmse: 0.132467\tvalid_1's rmse: 0.125042\n",
      "[60]\ttraining's rmse: 0.125515\tvalid_1's rmse: 0.121342\n",
      "[70]\ttraining's rmse: 0.120463\tvalid_1's rmse: 0.118348\n",
      "[80]\ttraining's rmse: 0.116571\tvalid_1's rmse: 0.116854\n",
      "[90]\ttraining's rmse: 0.113723\tvalid_1's rmse: 0.114227\n",
      "[100]\ttraining's rmse: 0.111402\tvalid_1's rmse: 0.113449\n",
      "[110]\ttraining's rmse: 0.109083\tvalid_1's rmse: 0.112744\n",
      "[120]\ttraining's rmse: 0.106942\tvalid_1's rmse: 0.11225\n",
      "[130]\ttraining's rmse: 0.104844\tvalid_1's rmse: 0.111671\n",
      "[140]\ttraining's rmse: 0.10301\tvalid_1's rmse: 0.112046\n",
      "Early stopping, best iteration is:\n",
      "[134]\ttraining's rmse: 0.104173\tvalid_1's rmse: 0.111613\n"
     ]
    },
    {
     "name": "stderr",
     "output_type": "stream",
     "text": [
      "min_data_in_leaf, val_score: 0.109518:  40%|##################                           | 2/5 [00:00<00:00, 11.11it/s][I 2020-10-23 12:51:48,774] Trial 64 finished with value: 0.11161339821722088 and parameters: {'min_child_samples': 10}. Best is trial 64 with value: 0.11161339821722088.\n",
      "min_data_in_leaf, val_score: 0.109518:  40%|##################                           | 2/5 [00:00<00:00, 11.11it/s]"
     ]
    },
    {
     "name": "stdout",
     "output_type": "stream",
     "text": [
      "Training until validation scores don't improve for 10 rounds\n",
      "[10]\ttraining's rmse: 0.249466\tvalid_1's rmse: 0.234897\n",
      "[20]\ttraining's rmse: 0.186458\tvalid_1's rmse: 0.175976\n",
      "[30]\ttraining's rmse: 0.157897\tvalid_1's rmse: 0.146912\n",
      "[40]\ttraining's rmse: 0.142692\tvalid_1's rmse: 0.132655\n",
      "[50]\ttraining's rmse: 0.134506\tvalid_1's rmse: 0.124602\n",
      "[60]\ttraining's rmse: 0.128413\tvalid_1's rmse: 0.119679\n",
      "[70]\ttraining's rmse: 0.124256\tvalid_1's rmse: 0.116307\n",
      "[80]\ttraining's rmse: 0.12166\tvalid_1's rmse: 0.11442\n",
      "[90]\ttraining's rmse: 0.119423\tvalid_1's rmse: 0.113391\n",
      "[100]\ttraining's rmse: 0.117325\tvalid_1's rmse: 0.112621\n",
      "[110]\ttraining's rmse: 0.115513\tvalid_1's rmse: 0.112139\n",
      "[120]\ttraining's rmse: 0.113792\tvalid_1's rmse: 0.111447\n",
      "[130]\ttraining's rmse: 0.112334\tvalid_1's rmse: 0.110875\n",
      "[140]\ttraining's rmse: 0.110982\tvalid_1's rmse: 0.111198\n",
      "Early stopping, best iteration is:\n",
      "[130]\ttraining's rmse: 0.112334\tvalid_1's rmse: 0.110875\n"
     ]
    },
    {
     "name": "stderr",
     "output_type": "stream",
     "text": [
      "min_data_in_leaf, val_score: 0.109518:  40%|##################                           | 2/5 [00:00<00:00, 11.11it/s][I 2020-10-23 12:51:48,873] Trial 65 finished with value: 0.11087545131691516 and parameters: {'min_child_samples': 50}. Best is trial 65 with value: 0.11087545131691516.\n",
      "min_data_in_leaf, val_score: 0.109518:  60%|###########################                  | 3/5 [00:00<00:00, 11.11it/s]"
     ]
    },
    {
     "name": "stdout",
     "output_type": "stream",
     "text": [
      "Training until validation scores don't improve for 10 rounds\n",
      "[10]\ttraining's rmse: 0.25057\tvalid_1's rmse: 0.2354\n",
      "[20]\ttraining's rmse: 0.189174\tvalid_1's rmse: 0.177688\n",
      "[30]\ttraining's rmse: 0.162063\tvalid_1's rmse: 0.149201\n",
      "[40]\ttraining's rmse: 0.148791\tvalid_1's rmse: 0.135457\n",
      "[50]\ttraining's rmse: 0.141432\tvalid_1's rmse: 0.128139\n",
      "[60]\ttraining's rmse: 0.135895\tvalid_1's rmse: 0.123444\n",
      "[70]\ttraining's rmse: 0.132085\tvalid_1's rmse: 0.120285\n",
      "[80]\ttraining's rmse: 0.129636\tvalid_1's rmse: 0.118441\n",
      "[90]\ttraining's rmse: 0.127544\tvalid_1's rmse: 0.117217\n",
      "[100]\ttraining's rmse: 0.125544\tvalid_1's rmse: 0.116455\n",
      "[110]\ttraining's rmse: 0.124039\tvalid_1's rmse: 0.116047\n",
      "[120]\ttraining's rmse: 0.122564\tvalid_1's rmse: 0.115758\n",
      "[130]\ttraining's rmse: 0.121139\tvalid_1's rmse: 0.115434\n",
      "[140]\ttraining's rmse: 0.120139\tvalid_1's rmse: 0.11532\n",
      "[150]\ttraining's rmse: 0.119055\tvalid_1's rmse: 0.115047\n",
      "[160]\ttraining's rmse: 0.118076\tvalid_1's rmse: 0.115064\n",
      "[170]\ttraining's rmse: 0.117017\tvalid_1's rmse: 0.114688\n",
      "[180]\ttraining's rmse: 0.116155\tvalid_1's rmse: 0.114315\n",
      "[190]\ttraining's rmse: 0.115307\tvalid_1's rmse: 0.114156\n",
      "[200]\ttraining's rmse: 0.114549\tvalid_1's rmse: 0.114025\n",
      "Early stopping, best iteration is:\n",
      "[195]\ttraining's rmse: 0.114941\tvalid_1's rmse: 0.113959\n"
     ]
    },
    {
     "name": "stderr",
     "output_type": "stream",
     "text": [
      "min_data_in_leaf, val_score: 0.109518:  80%|####################################         | 4/5 [00:00<00:00, 10.19it/s][I 2020-10-23 12:51:49,008] Trial 66 finished with value: 0.11395887693680255 and parameters: {'min_child_samples': 100}. Best is trial 65 with value: 0.11087545131691516.\n",
      "min_data_in_leaf, val_score: 0.109518:  80%|####################################         | 4/5 [00:00<00:00, 10.19it/s]"
     ]
    },
    {
     "name": "stdout",
     "output_type": "stream",
     "text": [
      "Training until validation scores don't improve for 10 rounds\n",
      "[10]\ttraining's rmse: 0.249466\tvalid_1's rmse: 0.234897\n",
      "[20]\ttraining's rmse: 0.185973\tvalid_1's rmse: 0.174809\n",
      "[30]\ttraining's rmse: 0.156821\tvalid_1's rmse: 0.14844\n",
      "[40]\ttraining's rmse: 0.140241\tvalid_1's rmse: 0.133323\n",
      "[50]\ttraining's rmse: 0.130229\tvalid_1's rmse: 0.126071\n",
      "[60]\ttraining's rmse: 0.122299\tvalid_1's rmse: 0.121404\n",
      "[70]\ttraining's rmse: 0.116766\tvalid_1's rmse: 0.118642\n",
      "[80]\ttraining's rmse: 0.11267\tvalid_1's rmse: 0.116033\n",
      "[90]\ttraining's rmse: 0.109255\tvalid_1's rmse: 0.114173\n",
      "[100]\ttraining's rmse: 0.106217\tvalid_1's rmse: 0.112652\n",
      "[110]\ttraining's rmse: 0.103916\tvalid_1's rmse: 0.111726\n",
      "[120]\ttraining's rmse: 0.101775\tvalid_1's rmse: 0.110586\n",
      "[130]\ttraining's rmse: 0.0999742\tvalid_1's rmse: 0.109473\n",
      "[140]\ttraining's rmse: 0.0982277\tvalid_1's rmse: 0.109617\n",
      "Early stopping, best iteration is:\n",
      "[132]\ttraining's rmse: 0.0994999\tvalid_1's rmse: 0.109383\n"
     ]
    },
    {
     "name": "stderr",
     "output_type": "stream",
     "text": [
      "min_data_in_leaf, val_score: 0.109383: 100%|#############################################| 5/5 [00:00<00:00,  9.86it/s][I 2020-10-23 12:51:49,116] Trial 67 finished with value: 0.10938341277349381 and parameters: {'min_child_samples': 5}. Best is trial 67 with value: 0.10938341277349381.\n",
      "min_data_in_leaf, val_score: 0.109383: 100%|#############################################| 5/5 [00:00<00:00,  9.51it/s]\n"
     ]
    }
   ],
   "source": [
    "y_preds = []\n",
    "models = []\n",
    "oof_train = np.zeros((len(X_train),))\n",
    "cv = KFold(n_splits=5, shuffle=True, random_state=0)\n",
    "\n",
    "\n",
    "params = {\n",
    "        'objective': 'regression',\n",
    "        'metric': 'rmse',\n",
    "        'verbosity': -1,\n",
    "        'boosting_type': 'gbdt',\n",
    "}\n",
    "\n",
    "for fold_id, (train_index, valid_index) in enumerate(cv.split(X_train)):\n",
    "    X_tr = X_train.loc[train_index, :]\n",
    "    X_val = X_train.loc[valid_index, :]\n",
    "    y_tr = y_train[train_index]\n",
    "    y_val = y_train[valid_index]\n",
    "\n",
    "    lgb_train = lgb.Dataset(X_tr,\n",
    "                            y_tr,\n",
    "                            #categorical_feature=categorical_cols\n",
    "                           )\n",
    "\n",
    "    lgb_eval = lgb.Dataset(X_val,\n",
    "                           y_val,\n",
    "                           reference=lgb_train,\n",
    "                           #categorical_feature=categorical_cols\n",
    "                          )\n",
    "\n",
    "    model = lgb.train(params,\n",
    "                      lgb_train,\n",
    "                      valid_sets=[lgb_train, lgb_eval],\n",
    "                      verbose_eval=10,\n",
    "                      num_boost_round=1000,\n",
    "                      early_stopping_rounds=10)\n",
    "\n",
    "\n",
    "    oof_train[valid_index] = model.predict(X_val,\n",
    "                                           num_iteration=model.best_iteration)\n",
    "    y_pred = model.predict(test,\n",
    "                           num_iteration=model.best_iteration)\n",
    "\n",
    "    y_preds.append(y_pred)\n",
    "    models.append(model)"
   ]
  },
  {
   "cell_type": "code",
   "execution_count": 31,
   "metadata": {},
   "outputs": [
    {
     "name": "stdout",
     "output_type": "stream",
     "text": [
      "CV (rmse): 0.12243622625594602\n"
     ]
    }
   ],
   "source": [
    "print(f'CV (rmse): {np.sqrt(mean_squared_error(y_train, oof_train ))}')"
   ]
  },
  {
   "cell_type": "code",
   "execution_count": 24,
   "metadata": {
    "scrolled": true
   },
   "outputs": [
    {
     "name": "stdout",
     "output_type": "stream",
     "text": [
      "  Params: \n",
      "    objective: regression\n",
      "    metric: rmse\n",
      "    verbosity: -1\n",
      "    boosting_type: gbdt\n",
      "    feature_pre_filter: False\n",
      "    lambda_l1: 0.00033965713766997594\n",
      "    lambda_l2: 0.0427177680587449\n",
      "    num_leaves: 4\n",
      "    feature_fraction: 0.5\n",
      "    bagging_fraction: 1.0\n",
      "    bagging_freq: 0\n",
      "    min_child_samples: 5\n",
      "    num_iterations: 1000\n",
      "    early_stopping_round: 10\n"
     ]
    }
   ],
   "source": [
    "# ベストパラメータの取得\n",
    "best_params = model.params\n",
    "print(\"  Params: \")\n",
    "for key, value in best_params.items():\n",
    "    print(\"    {}: {}\".format(key, value))"
   ]
  },
  {
   "cell_type": "code",
   "execution_count": 27,
   "metadata": {},
   "outputs": [],
   "source": [
    "# 調整後モデルで予測の実行\n",
    "y_trainval_pred = model.predict(X_train,num_iteration=model.best_iteration)"
   ]
  },
  {
   "cell_type": "code",
   "execution_count": 30,
   "metadata": {},
   "outputs": [
    {
     "name": "stdout",
     "output_type": "stream",
     "text": [
      "r2_train:0.9353\n"
     ]
    }
   ],
   "source": [
    "from sklearn.metrics import r2_score\n",
    "# 評価スコアの計算\n",
    "r2_train = r2_score(y_train, y_trainval_pred)\n",
    "print(\"r2_train:{0:.4}\".format(r2_train))"
   ]
  },
  {
   "cell_type": "markdown",
   "metadata": {},
   "source": [
    "# submission"
   ]
  },
  {
   "cell_type": "code",
   "execution_count": 21,
   "metadata": {},
   "outputs": [
    {
     "data": {
      "text/html": [
       "<div>\n",
       "<style scoped>\n",
       "    .dataframe tbody tr th:only-of-type {\n",
       "        vertical-align: middle;\n",
       "    }\n",
       "\n",
       "    .dataframe tbody tr th {\n",
       "        vertical-align: top;\n",
       "    }\n",
       "\n",
       "    .dataframe thead th {\n",
       "        text-align: right;\n",
       "    }\n",
       "</style>\n",
       "<table border=\"1\" class=\"dataframe\">\n",
       "  <thead>\n",
       "    <tr style=\"text-align: right;\">\n",
       "      <th></th>\n",
       "      <th>Id</th>\n",
       "      <th>SalePrice</th>\n",
       "    </tr>\n",
       "  </thead>\n",
       "  <tbody>\n",
       "    <tr>\n",
       "      <th>0</th>\n",
       "      <td>1461</td>\n",
       "      <td>125566.278462</td>\n",
       "    </tr>\n",
       "    <tr>\n",
       "      <th>1</th>\n",
       "      <td>1462</td>\n",
       "      <td>157894.153455</td>\n",
       "    </tr>\n",
       "    <tr>\n",
       "      <th>2</th>\n",
       "      <td>1463</td>\n",
       "      <td>179705.630143</td>\n",
       "    </tr>\n",
       "    <tr>\n",
       "      <th>3</th>\n",
       "      <td>1464</td>\n",
       "      <td>185492.993241</td>\n",
       "    </tr>\n",
       "    <tr>\n",
       "      <th>4</th>\n",
       "      <td>1465</td>\n",
       "      <td>184707.073422</td>\n",
       "    </tr>\n",
       "  </tbody>\n",
       "</table>\n",
       "</div>"
      ],
      "text/plain": [
       "     Id      SalePrice\n",
       "0  1461  125566.278462\n",
       "1  1462  157894.153455\n",
       "2  1463  179705.630143\n",
       "3  1464  185492.993241\n",
       "4  1465  184707.073422"
      ]
     },
     "execution_count": 21,
     "metadata": {},
     "output_type": "execute_result"
    }
   ],
   "source": [
    "sub = pd.read_csv('./submission/sample_submission.csv')\n",
    "y_sub = sum(y_preds) / len(y_preds)\n",
    "y_sub = np.expm1(y_sub)\n",
    "sub['SalePrice'] = y_sub\n",
    "sub.to_csv('./submission/submission_optuna_lgb_tuner2.csv', index=False)\n",
    "sub.head()"
   ]
  },
  {
   "cell_type": "markdown",
   "metadata": {},
   "source": [
    "# analyzing"
   ]
  },
  {
   "cell_type": "code",
   "execution_count": 22,
   "metadata": {},
   "outputs": [
    {
     "data": {
      "text/plain": [
       "<AxesSubplot:title={'center':'Feature importance'}, xlabel='Feature importance', ylabel='Features'>"
      ]
     },
     "execution_count": 22,
     "metadata": {},
     "output_type": "execute_result"
    },
    {
     "data": {
      "image/png": "[encoded data removed]",
      "text/plain": [
       "<Figure size 432x288 with 1 Axes>"
      ]
     },
     "metadata": {
      "needs_background": "light"
     },
     "output_type": "display_data"
    }
   ],
   "source": [
    "lgb.plot_importance(model,max_num_features=20)"
   ]
  },
  {
   "cell_type": "code",
   "execution_count": 23,
   "metadata": {},
   "outputs": [
    {
     "data": {
      "image/png": "[encoded data removed]",
      "text/plain": [
       "<Figure size 576x684 with 1 Axes>"
      ]
     },
     "metadata": {
      "needs_background": "light"
     },
     "output_type": "display_data"
    },
    {
     "data": {
      "image/png": "[encoded data removed]",
      "text/plain": [
       "<Figure size 576x684 with 2 Axes>"
      ]
     },
     "metadata": {
      "needs_background": "light"
     },
     "output_type": "display_data"
    }
   ],
   "source": [
    "import shap\n",
    "explainer = shap.TreeExplainer(model)\n",
    "shap_values = explainer.shap_values(X_train)\n",
    "#importance\n",
    "shap.summary_plot(shap_values, X_train, plot_type=\"bar\")\n",
    "shap.summary_plot(shap_values, X_train)"
   ]
  },
  {
   "cell_type": "code",
   "execution_count": null,
   "metadata": {},
   "outputs": [],
   "source": []
  }
 ],
 "metadata": {
  "kernelspec": {
   "display_name": "Python 3",
   "language": "python",
   "name": "python3"
  },
  "language_info": {
   "codemirror_mode": {
    "name": "ipython",
    "version": 3
   },
   "file_extension": ".py",
   "mimetype": "text/x-python",
   "name": "python",
   "nbconvert_exporter": "python",
   "pygments_lexer": "ipython3",
   "version": "3.7.7"
  }
 },
 "nbformat": 4,
 "nbformat_minor": 2
}
