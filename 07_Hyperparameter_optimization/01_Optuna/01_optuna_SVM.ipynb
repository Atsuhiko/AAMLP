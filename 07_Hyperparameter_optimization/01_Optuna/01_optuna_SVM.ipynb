{
 "cells": [
  {
   "cell_type": "markdown",
   "metadata": {},
   "source": [
    "# Optuna SVM"
   ]
  },
  {
   "cell_type": "markdown",
   "metadata": {},
   "source": [
    "https://github.com/optuna/optuna  \n",
    "https://qiita.com/koshian2/items/1c0f781d244a6046b83e"
   ]
  },
  {
   "cell_type": "code",
   "execution_count": 1,
   "metadata": {},
   "outputs": [],
   "source": [
    "from sklearn.datasets import load_boston\n",
    "from sklearn.svm import SVR\n",
    "from sklearn.preprocessing import StandardScaler\n",
    "from sklearn.model_selection import train_test_split\n",
    "from sklearn.metrics import mean_squared_error\n",
    "\n",
    "import optuna\n",
    "import numpy as np"
   ]
  },
  {
   "cell_type": "code",
   "execution_count": 2,
   "metadata": {
    "scrolled": true
   },
   "outputs": [
    {
     "data": {
      "text/plain": [
       "{'data': array([[6.3200e-03, 1.8000e+01, 2.3100e+00, ..., 1.5300e+01, 3.9690e+02,\n",
       "         4.9800e+00],\n",
       "        [2.7310e-02, 0.0000e+00, 7.0700e+00, ..., 1.7800e+01, 3.9690e+02,\n",
       "         9.1400e+00],\n",
       "        [2.7290e-02, 0.0000e+00, 7.0700e+00, ..., 1.7800e+01, 3.9283e+02,\n",
       "         4.0300e+00],\n",
       "        ...,\n",
       "        [6.0760e-02, 0.0000e+00, 1.1930e+01, ..., 2.1000e+01, 3.9690e+02,\n",
       "         5.6400e+00],\n",
       "        [1.0959e-01, 0.0000e+00, 1.1930e+01, ..., 2.1000e+01, 3.9345e+02,\n",
       "         6.4800e+00],\n",
       "        [4.7410e-02, 0.0000e+00, 1.1930e+01, ..., 2.1000e+01, 3.9690e+02,\n",
       "         7.8800e+00]]),\n",
       " 'target': array([24. , 21.6, 34.7, 33.4, 36.2, 28.7, 22.9, 27.1, 16.5, 18.9, 15. ,\n",
       "        18.9, 21.7, 20.4, 18.2, 19.9, 23.1, 17.5, 20.2, 18.2, 13.6, 19.6,\n",
       "        15.2, 14.5, 15.6, 13.9, 16.6, 14.8, 18.4, 21. , 12.7, 14.5, 13.2,\n",
       "        13.1, 13.5, 18.9, 20. , 21. , 24.7, 30.8, 34.9, 26.6, 25.3, 24.7,\n",
       "        21.2, 19.3, 20. , 16.6, 14.4, 19.4, 19.7, 20.5, 25. , 23.4, 18.9,\n",
       "        35.4, 24.7, 31.6, 23.3, 19.6, 18.7, 16. , 22.2, 25. , 33. , 23.5,\n",
       "        19.4, 22. , 17.4, 20.9, 24.2, 21.7, 22.8, 23.4, 24.1, 21.4, 20. ,\n",
       "        20.8, 21.2, 20.3, 28. , 23.9, 24.8, 22.9, 23.9, 26.6, 22.5, 22.2,\n",
       "        23.6, 28.7, 22.6, 22. , 22.9, 25. , 20.6, 28.4, 21.4, 38.7, 43.8,\n",
       "        33.2, 27.5, 26.5, 18.6, 19.3, 20.1, 19.5, 19.5, 20.4, 19.8, 19.4,\n",
       "        21.7, 22.8, 18.8, 18.7, 18.5, 18.3, 21.2, 19.2, 20.4, 19.3, 22. ,\n",
       "        20.3, 20.5, 17.3, 18.8, 21.4, 15.7, 16.2, 18. , 14.3, 19.2, 19.6,\n",
       "        23. , 18.4, 15.6, 18.1, 17.4, 17.1, 13.3, 17.8, 14. , 14.4, 13.4,\n",
       "        15.6, 11.8, 13.8, 15.6, 14.6, 17.8, 15.4, 21.5, 19.6, 15.3, 19.4,\n",
       "        17. , 15.6, 13.1, 41.3, 24.3, 23.3, 27. , 50. , 50. , 50. , 22.7,\n",
       "        25. , 50. , 23.8, 23.8, 22.3, 17.4, 19.1, 23.1, 23.6, 22.6, 29.4,\n",
       "        23.2, 24.6, 29.9, 37.2, 39.8, 36.2, 37.9, 32.5, 26.4, 29.6, 50. ,\n",
       "        32. , 29.8, 34.9, 37. , 30.5, 36.4, 31.1, 29.1, 50. , 33.3, 30.3,\n",
       "        34.6, 34.9, 32.9, 24.1, 42.3, 48.5, 50. , 22.6, 24.4, 22.5, 24.4,\n",
       "        20. , 21.7, 19.3, 22.4, 28.1, 23.7, 25. , 23.3, 28.7, 21.5, 23. ,\n",
       "        26.7, 21.7, 27.5, 30.1, 44.8, 50. , 37.6, 31.6, 46.7, 31.5, 24.3,\n",
       "        31.7, 41.7, 48.3, 29. , 24. , 25.1, 31.5, 23.7, 23.3, 22. , 20.1,\n",
       "        22.2, 23.7, 17.6, 18.5, 24.3, 20.5, 24.5, 26.2, 24.4, 24.8, 29.6,\n",
       "        42.8, 21.9, 20.9, 44. , 50. , 36. , 30.1, 33.8, 43.1, 48.8, 31. ,\n",
       "        36.5, 22.8, 30.7, 50. , 43.5, 20.7, 21.1, 25.2, 24.4, 35.2, 32.4,\n",
       "        32. , 33.2, 33.1, 29.1, 35.1, 45.4, 35.4, 46. , 50. , 32.2, 22. ,\n",
       "        20.1, 23.2, 22.3, 24.8, 28.5, 37.3, 27.9, 23.9, 21.7, 28.6, 27.1,\n",
       "        20.3, 22.5, 29. , 24.8, 22. , 26.4, 33.1, 36.1, 28.4, 33.4, 28.2,\n",
       "        22.8, 20.3, 16.1, 22.1, 19.4, 21.6, 23.8, 16.2, 17.8, 19.8, 23.1,\n",
       "        21. , 23.8, 23.1, 20.4, 18.5, 25. , 24.6, 23. , 22.2, 19.3, 22.6,\n",
       "        19.8, 17.1, 19.4, 22.2, 20.7, 21.1, 19.5, 18.5, 20.6, 19. , 18.7,\n",
       "        32.7, 16.5, 23.9, 31.2, 17.5, 17.2, 23.1, 24.5, 26.6, 22.9, 24.1,\n",
       "        18.6, 30.1, 18.2, 20.6, 17.8, 21.7, 22.7, 22.6, 25. , 19.9, 20.8,\n",
       "        16.8, 21.9, 27.5, 21.9, 23.1, 50. , 50. , 50. , 50. , 50. , 13.8,\n",
       "        13.8, 15. , 13.9, 13.3, 13.1, 10.2, 10.4, 10.9, 11.3, 12.3,  8.8,\n",
       "         7.2, 10.5,  7.4, 10.2, 11.5, 15.1, 23.2,  9.7, 13.8, 12.7, 13.1,\n",
       "        12.5,  8.5,  5. ,  6.3,  5.6,  7.2, 12.1,  8.3,  8.5,  5. , 11.9,\n",
       "        27.9, 17.2, 27.5, 15. , 17.2, 17.9, 16.3,  7. ,  7.2,  7.5, 10.4,\n",
       "         8.8,  8.4, 16.7, 14.2, 20.8, 13.4, 11.7,  8.3, 10.2, 10.9, 11. ,\n",
       "         9.5, 14.5, 14.1, 16.1, 14.3, 11.7, 13.4,  9.6,  8.7,  8.4, 12.8,\n",
       "        10.5, 17.1, 18.4, 15.4, 10.8, 11.8, 14.9, 12.6, 14.1, 13. , 13.4,\n",
       "        15.2, 16.1, 17.8, 14.9, 14.1, 12.7, 13.5, 14.9, 20. , 16.4, 17.7,\n",
       "        19.5, 20.2, 21.4, 19.9, 19. , 19.1, 19.1, 20.1, 19.9, 19.6, 23.2,\n",
       "        29.8, 13.8, 13.3, 16.7, 12. , 14.6, 21.4, 23. , 23.7, 25. , 21.8,\n",
       "        20.6, 21.2, 19.1, 20.6, 15.2,  7. ,  8.1, 13.6, 20.1, 21.8, 24.5,\n",
       "        23.1, 19.7, 18.3, 21.2, 17.5, 16.8, 22.4, 20.6, 23.9, 22. , 11.9]),\n",
       " 'feature_names': array(['CRIM', 'ZN', 'INDUS', 'CHAS', 'NOX', 'RM', 'AGE', 'DIS', 'RAD',\n",
       "        'TAX', 'PTRATIO', 'B', 'LSTAT'], dtype='<U7'),\n",
       " 'DESCR': \".. _boston_dataset:\\n\\nBoston house prices dataset\\n---------------------------\\n\\n**Data Set Characteristics:**  \\n\\n    :Number of Instances: 506 \\n\\n    :Number of Attributes: 13 numeric/categorical predictive. Median Value (attribute 14) is usually the target.\\n\\n    :Attribute Information (in order):\\n        - CRIM     per capita crime rate by town\\n        - ZN       proportion of residential land zoned for lots over 25,000 sq.ft.\\n        - INDUS    proportion of non-retail business acres per town\\n        - CHAS     Charles River dummy variable (= 1 if tract bounds river; 0 otherwise)\\n        - NOX      nitric oxides concentration (parts per 10 million)\\n        - RM       average number of rooms per dwelling\\n        - AGE      proportion of owner-occupied units built prior to 1940\\n        - DIS      weighted distances to five Boston employment centres\\n        - RAD      index of accessibility to radial highways\\n        - TAX      full-value property-tax rate per $10,000\\n        - PTRATIO  pupil-teacher ratio by town\\n        - B        1000(Bk - 0.63)^2 where Bk is the proportion of blacks by town\\n        - LSTAT    % lower status of the population\\n        - MEDV     Median value of owner-occupied homes in $1000's\\n\\n    :Missing Attribute Values: None\\n\\n    :Creator: Harrison, D. and Rubinfeld, D.L.\\n\\nThis is a copy of UCI ML housing dataset.\\nhttps://archive.ics.uci.edu/ml/machine-learning-databases/housing/\\n\\n\\nThis dataset was taken from the StatLib library which is maintained at Carnegie Mellon University.\\n\\nThe Boston house-price data of Harrison, D. and Rubinfeld, D.L. 'Hedonic\\nprices and the demand for clean air', J. Environ. Economics & Management,\\nvol.5, 81-102, 1978.   Used in Belsley, Kuh & Welsch, 'Regression diagnostics\\n...', Wiley, 1980.   N.B. Various transformations are used in the table on\\npages 244-261 of the latter.\\n\\nThe Boston house-price data has been used in many machine learning papers that address regression\\nproblems.   \\n     \\n.. topic:: References\\n\\n   - Belsley, Kuh & Welsch, 'Regression diagnostics: Identifying Influential Data and Sources of Collinearity', Wiley, 1980. 244-261.\\n   - Quinlan,R. (1993). Combining Instance-Based and Model-Based Learning. In Proceedings on the Tenth International Conference of Machine Learning, 236-243, University of Massachusetts, Amherst. Morgan Kaufmann.\\n\",\n",
       " 'filename': 'C:\\\\Users\\\\iiats\\\\Anaconda3\\\\envs\\\\Python37-gpu\\\\lib\\\\site-packages\\\\sklearn\\\\datasets\\\\data\\\\boston_house_prices.csv'}"
      ]
     },
     "execution_count": 2,
     "metadata": {},
     "output_type": "execute_result"
    }
   ],
   "source": [
    "boston = load_boston()\n",
    "boston"
   ]
  },
  {
   "cell_type": "code",
   "execution_count": 3,
   "metadata": {},
   "outputs": [],
   "source": [
    "X, y = boston[\"data\"], boston[\"target\"]\n",
    "# 訓練、テスト分割\n",
    "X_train, X_test, y_train, y_test = train_test_split(X, y, test_size=0.2, random_state=114514)\n",
    "n_train = int(X_train.shape[0] * 0.75)\n",
    "X_train, X_val = X_train[:n_train], X_train[n_train:]\n",
    "y_train, y_val = y_train[:n_train], y_train[n_train:]"
   ]
  },
  {
   "cell_type": "code",
   "execution_count": 4,
   "metadata": {},
   "outputs": [],
   "source": [
    "# 標準化\n",
    "scaler = StandardScaler()\n",
    "X_train = scaler.fit_transform(X_train)\n",
    "X_val = scaler.transform(X_val)\n",
    "X_test = scaler.transform(X_test)"
   ]
  },
  {
   "cell_type": "code",
   "execution_count": 5,
   "metadata": {},
   "outputs": [],
   "source": [
    "# 目的関数\n",
    "def objective(trial):\n",
    "    # C\n",
    "    svr_c = trial.suggest_loguniform('svr_c', 1e0, 1e2) # かなり広く設定\n",
    "    # epsilon\n",
    "    epsilon = trial.suggest_loguniform('epsilon', 1e-1, 1e1) # かなり広く設定\n",
    "    # SVR\n",
    "    svr = SVR(C=svr_c, epsilon=epsilon)\n",
    "    svr.fit(X_train, y_train)\n",
    "    # 予測\n",
    "    y_pred = svr.predict(X_val)\n",
    "    # CrossvalidationのMSEで比較（最大化がまだサポートされていない）\n",
    "    return mean_squared_error(y_val, y_pred)"
   ]
  },
  {
   "cell_type": "code",
   "execution_count": 6,
   "metadata": {
    "scrolled": true
   },
   "outputs": [
    {
     "name": "stderr",
     "output_type": "stream",
     "text": [
      "[I 2020-10-08 13:32:02,560] A new study created in memory with name: no-name-0125961f-1bc5-4621-9bdd-5100b90370c0\n",
      "[I 2020-10-08 13:32:02,581] Trial 0 finished with value: 8.694245056388475 and parameters: {'svr_c': 6.383109471687162, 'epsilon': 0.3338288708158184}. Best is trial 0 with value: 8.694245056388475.\n",
      "[I 2020-10-08 13:32:02,594] Trial 1 finished with value: 8.41394468782849 and parameters: {'svr_c': 6.656722716273799, 'epsilon': 1.0276461521090985}. Best is trial 1 with value: 8.41394468782849.\n",
      "[I 2020-10-08 13:32:02,607] Trial 2 finished with value: 9.094268296313457 and parameters: {'svr_c': 5.0764927833849764, 'epsilon': 0.80096914804629}. Best is trial 1 with value: 8.41394468782849.\n",
      "[I 2020-10-08 13:32:02,625] Trial 3 finished with value: 7.988638418063714 and parameters: {'svr_c': 21.291442351047795, 'epsilon': 0.39880655761409634}. Best is trial 3 with value: 7.988638418063714.\n",
      "[I 2020-10-08 13:32:02,637] Trial 4 finished with value: 12.472398958309006 and parameters: {'svr_c': 74.06570365971795, 'epsilon': 4.340099572400526}. Best is trial 3 with value: 7.988638418063714.\n",
      "[I 2020-10-08 13:32:02,649] Trial 5 finished with value: 10.559670827030912 and parameters: {'svr_c': 2.7276814305626833, 'epsilon': 0.4240851326361922}. Best is trial 3 with value: 7.988638418063714.\n",
      "[I 2020-10-08 13:32:02,670] Trial 6 finished with value: 7.817393127778079 and parameters: {'svr_c': 26.387797186583636, 'epsilon': 0.6491573946223089}. Best is trial 6 with value: 7.817393127778079.\n",
      "[I 2020-10-08 13:32:02,682] Trial 7 finished with value: 8.40037584153872 and parameters: {'svr_c': 9.293657556574066, 'epsilon': 1.791984960171082}. Best is trial 6 with value: 7.817393127778079.\n",
      "[I 2020-10-08 13:32:02,706] Trial 8 finished with value: 8.661554263998466 and parameters: {'svr_c': 40.073562233444534, 'epsilon': 0.2936351204650266}. Best is trial 6 with value: 7.817393127778079.\n",
      "[I 2020-10-08 13:32:02,725] Trial 9 finished with value: 7.931280015499359 and parameters: {'svr_c': 35.65394745520173, 'epsilon': 0.9826871449862141}. Best is trial 6 with value: 7.817393127778079.\n",
      "[I 2020-10-08 13:32:02,749] Trial 10 finished with value: 15.147126541220205 and parameters: {'svr_c': 1.1156374809995595, 'epsilon': 0.14018352341105325}. Best is trial 6 with value: 7.817393127778079.\n",
      "[I 2020-10-08 13:32:02,776] Trial 11 finished with value: 7.987631735096471 and parameters: {'svr_c': 23.482923404401657, 'epsilon': 1.880876919272696}. Best is trial 6 with value: 7.817393127778079.\n",
      "[I 2020-10-08 13:32:02,797] Trial 12 finished with value: 20.43791373589505 and parameters: {'svr_c': 98.79321361093713, 'epsilon': 7.548660686264491}. Best is trial 6 with value: 7.817393127778079.\n",
      "[I 2020-10-08 13:32:02,835] Trial 13 finished with value: 7.96934877059831 and parameters: {'svr_c': 37.468251521390556, 'epsilon': 0.9564312668118305}. Best is trial 6 with value: 7.817393127778079.\n",
      "[I 2020-10-08 13:32:02,863] Trial 14 finished with value: 7.977265066861348 and parameters: {'svr_c': 17.671909691060637, 'epsilon': 0.14163415530208376}. Best is trial 6 with value: 7.817393127778079.\n",
      "[I 2020-10-08 13:32:02,886] Trial 15 finished with value: 8.824595145736922 and parameters: {'svr_c': 49.50931542207859, 'epsilon': 2.289405570017737}. Best is trial 6 with value: 7.817393127778079.\n",
      "[I 2020-10-08 13:32:02,912] Trial 16 finished with value: 7.737052352955435 and parameters: {'svr_c': 13.291444524877662, 'epsilon': 0.6620717143593636}. Best is trial 16 with value: 7.737052352955435.\n",
      "[I 2020-10-08 13:32:02,942] Trial 17 finished with value: 7.790442103196739 and parameters: {'svr_c': 13.614018413457663, 'epsilon': 0.5474947266033577}. Best is trial 16 with value: 7.737052352955435.\n",
      "[I 2020-10-08 13:32:02,969] Trial 18 finished with value: 7.9278043953390505 and parameters: {'svr_c': 12.743882865140257, 'epsilon': 0.2328677704725726}. Best is trial 16 with value: 7.737052352955435.\n",
      "[I 2020-10-08 13:32:02,988] Trial 19 finished with value: 11.301971372243761 and parameters: {'svr_c': 2.2565780086278533, 'epsilon': 0.5365538476358805}. Best is trial 16 with value: 7.737052352955435.\n",
      "[I 2020-10-08 13:32:03,015] Trial 20 finished with value: 7.923651876538205 and parameters: {'svr_c': 12.302258362880028, 'epsilon': 0.19432656863971315}. Best is trial 16 with value: 7.737052352955435.\n",
      "[I 2020-10-08 13:32:03,044] Trial 21 finished with value: 7.738899554560376 and parameters: {'svr_c': 17.58134186527141, 'epsilon': 0.6484705179198993}. Best is trial 16 with value: 7.737052352955435.\n",
      "[I 2020-10-08 13:32:03,070] Trial 22 finished with value: 7.519823404202979 and parameters: {'svr_c': 15.471690387561912, 'epsilon': 1.3301789174186938}. Best is trial 22 with value: 7.519823404202979.\n",
      "[I 2020-10-08 13:32:03,090] Trial 23 finished with value: 8.029473432926405 and parameters: {'svr_c': 8.858977475534093, 'epsilon': 1.3934470113350252}. Best is trial 22 with value: 7.519823404202979.\n",
      "[I 2020-10-08 13:32:03,113] Trial 24 finished with value: 10.372684487693563 and parameters: {'svr_c': 3.51177943495375, 'epsilon': 1.302352436261375}. Best is trial 22 with value: 7.519823404202979.\n",
      "[I 2020-10-08 13:32:03,136] Trial 25 finished with value: 9.877943668320022 and parameters: {'svr_c': 16.785347875994876, 'epsilon': 3.7905023169768293}. Best is trial 22 with value: 7.519823404202979.\n",
      "[I 2020-10-08 13:32:03,162] Trial 26 finished with value: 8.685576338392137 and parameters: {'svr_c': 29.618696184695487, 'epsilon': 2.628967799886761}. Best is trial 22 with value: 7.519823404202979.\n",
      "[I 2020-10-08 13:32:03,194] Trial 27 finished with value: 8.482048664785665 and parameters: {'svr_c': 59.13675535041863, 'epsilon': 0.7857721647994602}. Best is trial 22 with value: 7.519823404202979.\n",
      "[I 2020-10-08 13:32:03,223] Trial 28 finished with value: 7.60311202669254 and parameters: {'svr_c': 16.890689845319528, 'epsilon': 1.1998333616777581}. Best is trial 22 with value: 7.519823404202979.\n",
      "[I 2020-10-08 13:32:03,241] Trial 29 finished with value: 10.010253805464858 and parameters: {'svr_c': 6.544098862529167, 'epsilon': 3.359047555254744}. Best is trial 22 with value: 7.519823404202979.\n",
      "[I 2020-10-08 13:32:03,256] Trial 30 finished with value: 20.507036984019948 and parameters: {'svr_c': 4.921928427939371, 'epsilon': 6.731921476331773}. Best is trial 22 with value: 7.519823404202979.\n",
      "[I 2020-10-08 13:32:03,281] Trial 31 finished with value: 7.457348295537219 and parameters: {'svr_c': 16.642639524193154, 'epsilon': 1.431920235929426}. Best is trial 31 with value: 7.457348295537219.\n",
      "[I 2020-10-08 13:32:03,306] Trial 32 finished with value: 8.115667812475268 and parameters: {'svr_c': 8.209172039900118, 'epsilon': 1.336366195219325}. Best is trial 31 with value: 7.457348295537219.\n",
      "[I 2020-10-08 13:32:03,330] Trial 33 finished with value: 7.811468053593444 and parameters: {'svr_c': 11.625537675272621, 'epsilon': 1.4849848688035387}. Best is trial 31 with value: 7.457348295537219.\n",
      "[I 2020-10-08 13:32:03,364] Trial 34 finished with value: 7.657812631780821 and parameters: {'svr_c': 20.68780651324604, 'epsilon': 0.9880332659904848}. Best is trial 31 with value: 7.457348295537219.\n",
      "[I 2020-10-08 13:32:03,396] Trial 35 finished with value: 7.658345713921623 and parameters: {'svr_c': 21.67190450984946, 'epsilon': 1.0997320971372073}. Best is trial 31 with value: 7.457348295537219.\n",
      "[I 2020-10-08 13:32:03,422] Trial 36 finished with value: 8.684459733932927 and parameters: {'svr_c': 29.789888679378485, 'epsilon': 2.5908062274291543}. Best is trial 31 with value: 7.457348295537219.\n",
      "[I 2020-10-08 13:32:03,449] Trial 37 finished with value: 7.903988776846412 and parameters: {'svr_c': 20.333818216577146, 'epsilon': 1.884381069175116}. Best is trial 31 with value: 7.457348295537219.\n",
      "[I 2020-10-08 13:32:03,477] Trial 38 finished with value: 8.958578651682256 and parameters: {'svr_c': 5.439375178531159, 'epsilon': 0.858115115455668}. Best is trial 31 with value: 7.457348295537219.\n",
      "[I 2020-10-08 13:32:03,503] Trial 39 finished with value: 7.617058011007481 and parameters: {'svr_c': 15.456253363276765, 'epsilon': 1.1637137440750078}. Best is trial 31 with value: 7.457348295537219.\n"
     ]
    },
    {
     "name": "stderr",
     "output_type": "stream",
     "text": [
      "[I 2020-10-08 13:32:03,526] Trial 40 finished with value: 8.566518406583253 and parameters: {'svr_c': 7.846243723453446, 'epsilon': 1.6639611649158974}. Best is trial 31 with value: 7.457348295537219.\n",
      "[I 2020-10-08 13:32:03,554] Trial 41 finished with value: 7.592772416259182 and parameters: {'svr_c': 16.00115166955802, 'epsilon': 1.1948935849617468}. Best is trial 31 with value: 7.457348295537219.\n",
      "[I 2020-10-08 13:32:03,587] Trial 42 finished with value: 7.780056584450382 and parameters: {'svr_c': 10.380913669184999, 'epsilon': 1.2033382019939256}. Best is trial 31 with value: 7.457348295537219.\n",
      "[I 2020-10-08 13:32:03,614] Trial 43 finished with value: 8.130892209489105 and parameters: {'svr_c': 15.63508202099548, 'epsilon': 2.262303673664201}. Best is trial 31 with value: 7.457348295537219.\n",
      "[I 2020-10-08 13:32:03,641] Trial 44 finished with value: 8.12651079132929 and parameters: {'svr_c': 27.954544404280426, 'epsilon': 0.4169678268765471}. Best is trial 31 with value: 7.457348295537219.\n",
      "[I 2020-10-08 13:32:03,659] Trial 45 finished with value: 13.04916565627985 and parameters: {'svr_c': 15.128192639807944, 'epsilon': 5.305324877349079}. Best is trial 31 with value: 7.457348295537219.\n",
      "[I 2020-10-08 13:32:03,677] Trial 46 finished with value: 8.230638153805474 and parameters: {'svr_c': 10.033447767582814, 'epsilon': 1.7201013247137078}. Best is trial 31 with value: 7.457348295537219.\n",
      "[I 2020-10-08 13:32:03,704] Trial 47 finished with value: 7.711310437065153 and parameters: {'svr_c': 24.965799198052537, 'epsilon': 0.7887640492092982}. Best is trial 31 with value: 7.457348295537219.\n",
      "[I 2020-10-08 13:32:03,732] Trial 48 finished with value: 8.099221445472825 and parameters: {'svr_c': 47.381495298249305, 'epsilon': 1.1125194984047406}. Best is trial 31 with value: 7.457348295537219.\n",
      "[I 2020-10-08 13:32:03,758] Trial 49 finished with value: 9.103562547039758 and parameters: {'svr_c': 32.2351454662308, 'epsilon': 3.0090438621380144}. Best is trial 31 with value: 7.457348295537219.\n",
      "[I 2020-10-08 13:32:03,786] Trial 50 finished with value: 8.079050170204589 and parameters: {'svr_c': 20.468520948073866, 'epsilon': 2.0411298043096036}. Best is trial 31 with value: 7.457348295537219.\n",
      "[I 2020-10-08 13:32:03,814] Trial 51 finished with value: 7.633807695207113 and parameters: {'svr_c': 18.357200655083776, 'epsilon': 0.9660381934944309}. Best is trial 31 with value: 7.457348295537219.\n",
      "[I 2020-10-08 13:32:03,838] Trial 52 finished with value: 7.483091584222183 and parameters: {'svr_c': 15.083932448822665, 'epsilon': 1.5307858660557379}. Best is trial 31 with value: 7.457348295537219.\n",
      "[I 2020-10-08 13:32:03,861] Trial 53 finished with value: 7.499765227606817 and parameters: {'svr_c': 14.805898876835796, 'epsilon': 1.5375138529907426}. Best is trial 31 with value: 7.457348295537219.\n",
      "[I 2020-10-08 13:32:03,882] Trial 54 finished with value: 7.9118329194728485 and parameters: {'svr_c': 10.726525399222945, 'epsilon': 1.5265924750581088}. Best is trial 31 with value: 7.457348295537219.\n",
      "[I 2020-10-08 13:32:03,904] Trial 55 finished with value: 8.219828251230458 and parameters: {'svr_c': 14.23143240460362, 'epsilon': 2.3467691747415733}. Best is trial 31 with value: 7.457348295537219.\n",
      "[I 2020-10-08 13:32:03,929] Trial 56 finished with value: 8.183175763142618 and parameters: {'svr_c': 7.896016417566876, 'epsilon': 0.5224186921002044}. Best is trial 31 with value: 7.457348295537219.\n",
      "[I 2020-10-08 13:32:03,955] Trial 57 finished with value: 8.1070626545169 and parameters: {'svr_c': 24.265666966254525, 'epsilon': 1.9615642604011896}. Best is trial 31 with value: 7.457348295537219.\n",
      "[I 2020-10-08 13:32:03,978] Trial 58 finished with value: 7.744586776086685 and parameters: {'svr_c': 11.895870212677117, 'epsilon': 0.7182918902951272}. Best is trial 31 with value: 7.457348295537219.\n",
      "[I 2020-10-08 13:32:04,005] Trial 59 finished with value: 8.155081688352842 and parameters: {'svr_c': 40.327740680262615, 'epsilon': 1.5314736700175906}. Best is trial 31 with value: 7.457348295537219.\n",
      "[I 2020-10-08 13:32:04,035] Trial 60 finished with value: 7.533398499844602 and parameters: {'svr_c': 18.015132707051936, 'epsilon': 1.3204218669702257}. Best is trial 31 with value: 7.457348295537219.\n",
      "[I 2020-10-08 13:32:04,058] Trial 61 finished with value: 7.552039430229125 and parameters: {'svr_c': 18.47156329072553, 'epsilon': 1.3040250481076872}. Best is trial 31 with value: 7.457348295537219.\n",
      "[I 2020-10-08 13:32:04,086] Trial 62 finished with value: 7.625216702624718 and parameters: {'svr_c': 13.248641100519526, 'epsilon': 0.8630987008006102}. Best is trial 31 with value: 7.457348295537219.\n",
      "[I 2020-10-08 13:32:04,109] Trial 63 finished with value: 7.706091003032669 and parameters: {'svr_c': 24.137821354922018, 'epsilon': 1.332023939420592}. Best is trial 31 with value: 7.457348295537219.\n",
      "[I 2020-10-08 13:32:04,137] Trial 64 finished with value: 7.71661839457624 and parameters: {'svr_c': 19.028148791531386, 'epsilon': 1.714783292648441}. Best is trial 31 with value: 7.457348295537219.\n",
      "[I 2020-10-08 13:32:04,160] Trial 65 finished with value: 8.401358506445813 and parameters: {'svr_c': 9.165824068050346, 'epsilon': 2.1303412799485026}. Best is trial 31 with value: 7.457348295537219.\n",
      "[I 2020-10-08 13:32:04,191] Trial 66 finished with value: 7.660314437112738 and parameters: {'svr_c': 13.786260454221718, 'epsilon': 1.0197130015936013}. Best is trial 31 with value: 7.457348295537219.\n",
      "[I 2020-10-08 13:32:04,212] Trial 67 finished with value: 8.56260852898503 and parameters: {'svr_c': 16.73891903473171, 'epsilon': 2.7884638352586877}. Best is trial 31 with value: 7.457348295537219.\n",
      "[I 2020-10-08 13:32:04,238] Trial 68 finished with value: 7.811435952907589 and parameters: {'svr_c': 11.14989264330207, 'epsilon': 1.429993145594529}. Best is trial 31 with value: 7.457348295537219.\n",
      "[I 2020-10-08 13:32:04,264] Trial 69 finished with value: 7.6630492483132935 and parameters: {'svr_c': 22.331875706165565, 'epsilon': 1.2221006197560278}. Best is trial 31 with value: 7.457348295537219.\n",
      "[I 2020-10-08 13:32:04,292] Trial 70 finished with value: 8.120266588461249 and parameters: {'svr_c': 32.824654015725734, 'epsilon': 0.6050839159411127}. Best is trial 31 with value: 7.457348295537219.\n",
      "[I 2020-10-08 13:32:04,318] Trial 71 finished with value: 7.583674762860368 and parameters: {'svr_c': 17.018530689956172, 'epsilon': 0.9046108472783276}. Best is trial 31 with value: 7.457348295537219.\n",
      "[I 2020-10-08 13:32:04,342] Trial 72 finished with value: 7.603521513979485 and parameters: {'svr_c': 18.653333618246606, 'epsilon': 0.8787669291711764}. Best is trial 31 with value: 7.457348295537219.\n",
      "[I 2020-10-08 13:32:04,367] Trial 73 finished with value: 7.7242916467492275 and parameters: {'svr_c': 12.853657935639045, 'epsilon': 1.6033623271550206}. Best is trial 31 with value: 7.457348295537219.\n",
      "[I 2020-10-08 13:32:04,394] Trial 74 finished with value: 7.670152840037151 and parameters: {'svr_c': 14.731101068228847, 'epsilon': 1.0862909779114207}. Best is trial 31 with value: 7.457348295537219.\n",
      "[I 2020-10-08 13:32:04,423] Trial 75 finished with value: 7.756890861777067 and parameters: {'svr_c': 25.756291175057004, 'epsilon': 0.7319358232917789}. Best is trial 31 with value: 7.457348295537219.\n",
      "[I 2020-10-08 13:32:04,446] Trial 76 finished with value: 7.4605439310429205 and parameters: {'svr_c': 16.792877333148873, 'epsilon': 1.403973392732973}. Best is trial 31 with value: 7.457348295537219.\n",
      "[I 2020-10-08 13:32:04,471] Trial 77 finished with value: 7.881263979796288 and parameters: {'svr_c': 21.626055422588273, 'epsilon': 1.828382113422343}. Best is trial 31 with value: 7.457348295537219.\n",
      "[I 2020-10-08 13:32:04,496] Trial 78 finished with value: 7.53849408551289 and parameters: {'svr_c': 19.377372638113734, 'epsilon': 1.3400726140287569}. Best is trial 31 with value: 7.457348295537219.\n",
      "[I 2020-10-08 13:32:04,523] Trial 79 finished with value: 7.523430744372778 and parameters: {'svr_c': 18.64477720772444, 'epsilon': 1.349552678098196}. Best is trial 31 with value: 7.457348295537219.\n"
     ]
    },
    {
     "name": "stderr",
     "output_type": "stream",
     "text": [
      "[I 2020-10-08 13:32:04,551] Trial 80 finished with value: 8.528210469251027 and parameters: {'svr_c': 27.871368240043047, 'epsilon': 2.3823273123454087}. Best is trial 31 with value: 7.457348295537219.\n",
      "[I 2020-10-08 13:32:04,574] Trial 81 finished with value: 7.528883619388521 and parameters: {'svr_c': 19.16292978629911, 'epsilon': 1.3598461580976637}. Best is trial 31 with value: 7.457348295537219.\n",
      "[I 2020-10-08 13:32:04,597] Trial 82 finished with value: 15.749769729763672 and parameters: {'svr_c': 1.0316578754936778, 'epsilon': 1.4181648298455098}. Best is trial 31 with value: 7.457348295537219.\n",
      "[I 2020-10-08 13:32:04,623] Trial 83 finished with value: 7.818017765986783 and parameters: {'svr_c': 12.124043631225293, 'epsilon': 1.6088262609104482}. Best is trial 31 with value: 7.457348295537219.\n",
      "[I 2020-10-08 13:32:04,649] Trial 84 finished with value: 7.96313570736284 and parameters: {'svr_c': 19.789301232867224, 'epsilon': 1.9583172760036467}. Best is trial 31 with value: 7.457348295537219.\n",
      "[I 2020-10-08 13:32:04,677] Trial 85 finished with value: 7.669656918986001 and parameters: {'svr_c': 14.454387464325135, 'epsilon': 1.0516366794714647}. Best is trial 31 with value: 7.457348295537219.\n",
      "[I 2020-10-08 13:32:04,708] Trial 86 finished with value: 7.656052020799299 and parameters: {'svr_c': 22.791028447976004, 'epsilon': 1.4586008051296966}. Best is trial 31 with value: 7.457348295537219.\n",
      "[I 2020-10-08 13:32:04,729] Trial 87 finished with value: 7.749849304077248 and parameters: {'svr_c': 15.667514837590934, 'epsilon': 1.7888273334084421}. Best is trial 31 with value: 7.457348295537219.\n",
      "[I 2020-10-08 13:32:04,758] Trial 88 finished with value: 7.8527545573969455 and parameters: {'svr_c': 9.75171071912755, 'epsilon': 1.299967393292954}. Best is trial 31 with value: 7.457348295537219.\n",
      "[I 2020-10-08 13:32:04,782] Trial 89 finished with value: 8.084315122511534 and parameters: {'svr_c': 17.51353014401959, 'epsilon': 2.137983856323623}. Best is trial 31 with value: 7.457348295537219.\n",
      "[I 2020-10-08 13:32:04,810] Trial 90 finished with value: 9.366239757609003 and parameters: {'svr_c': 27.12956542510074, 'epsilon': 3.3086928687635133}. Best is trial 31 with value: 7.457348295537219.\n",
      "[I 2020-10-08 13:32:04,843] Trial 91 finished with value: 7.610987713750463 and parameters: {'svr_c': 19.84431017449842, 'epsilon': 1.213831544423921}. Best is trial 31 with value: 7.457348295537219.\n",
      "[I 2020-10-08 13:32:04,866] Trial 92 finished with value: 7.543457745444854 and parameters: {'svr_c': 17.77910455750342, 'epsilon': 1.2981036325923276}. Best is trial 31 with value: 7.457348295537219.\n",
      "[I 2020-10-08 13:32:04,893] Trial 93 finished with value: 7.761515103608565 and parameters: {'svr_c': 12.752988701987986, 'epsilon': 1.6374578391388976}. Best is trial 31 with value: 7.457348295537219.\n",
      "[I 2020-10-08 13:32:04,921] Trial 94 finished with value: 7.641871181748258 and parameters: {'svr_c': 16.04702998906576, 'epsilon': 1.1040720496822085}. Best is trial 31 with value: 7.457348295537219.\n",
      "[I 2020-10-08 13:32:04,947] Trial 95 finished with value: 7.780225889605802 and parameters: {'svr_c': 11.017667447319146, 'epsilon': 1.3715606697329903}. Best is trial 31 with value: 7.457348295537219.\n",
      "[I 2020-10-08 13:32:04,977] Trial 96 finished with value: 7.6748921533722 and parameters: {'svr_c': 22.53420679018699, 'epsilon': 1.0108546468526274}. Best is trial 31 with value: 7.457348295537219.\n",
      "[I 2020-10-08 13:32:05,002] Trial 97 finished with value: 7.986767462221692 and parameters: {'svr_c': 31.726851738199652, 'epsilon': 1.5377929618934891}. Best is trial 31 with value: 7.457348295537219.\n",
      "[I 2020-10-08 13:32:05,029] Trial 98 finished with value: 7.852998257748685 and parameters: {'svr_c': 13.950710404351673, 'epsilon': 1.8944928582223044}. Best is trial 31 with value: 7.457348295537219.\n",
      "[I 2020-10-08 13:32:05,059] Trial 99 finished with value: 7.558352833736628 and parameters: {'svr_c': 17.813037116857988, 'epsilon': 1.2786383820567728}. Best is trial 31 with value: 7.457348295537219.\n"
     ]
    },
    {
     "name": "stdout",
     "output_type": "stream",
     "text": [
      "Wall time: 2.5 s\n"
     ]
    }
   ],
   "source": [
    "%%time\n",
    "# optuna\n",
    "study = optuna.create_study()\n",
    "study.optimize(objective, n_trials=100)"
   ]
  },
  {
   "cell_type": "code",
   "execution_count": 7,
   "metadata": {},
   "outputs": [
    {
     "name": "stdout",
     "output_type": "stream",
     "text": [
      "{'svr_c': 16.642639524193154, 'epsilon': 1.431920235929426}\n"
     ]
    }
   ],
   "source": [
    "# 最適解\n",
    "print(study.best_params)"
   ]
  },
  {
   "cell_type": "code",
   "execution_count": 8,
   "metadata": {},
   "outputs": [
    {
     "name": "stdout",
     "output_type": "stream",
     "text": [
      "7.457348295537219\n"
     ]
    }
   ],
   "source": [
    "print(study.best_value)"
   ]
  },
  {
   "cell_type": "code",
   "execution_count": 9,
   "metadata": {},
   "outputs": [
    {
     "name": "stdout",
     "output_type": "stream",
     "text": [
      "FrozenTrial(number=31, value=7.457348295537219, datetime_start=datetime.datetime(2020, 10, 8, 13, 32, 3, 260639), datetime_complete=datetime.datetime(2020, 10, 8, 13, 32, 3, 280638), params={'svr_c': 16.642639524193154, 'epsilon': 1.431920235929426}, distributions={'svr_c': LogUniformDistribution(high=100.0, low=1.0), 'epsilon': LogUniformDistribution(high=10.0, low=0.1)}, user_attrs={}, system_attrs={}, intermediate_values={}, trial_id=31, state=TrialState.COMPLETE)\n"
     ]
    }
   ],
   "source": [
    "print(study.best_trial)"
   ]
  },
  {
   "cell_type": "code",
   "execution_count": 10,
   "metadata": {},
   "outputs": [],
   "source": [
    "# history\n",
    "hist_df = study.trials_dataframe()\n",
    "hist_df.to_csv(\"boston_svr.csv\")"
   ]
  },
  {
   "cell_type": "markdown",
   "metadata": {},
   "source": [
    "## 評価"
   ]
  },
  {
   "cell_type": "code",
   "execution_count": 11,
   "metadata": {},
   "outputs": [],
   "source": [
    "# SVR\n",
    "svr = SVR(C=15.789688964388603, epsilon=1.5174494148654494) # Optuna の最適値\n",
    "svr.fit(X_train, y_train)\n",
    "y_pred_val = svr.predict(X_val)\n",
    "y_pred_test = svr.predict(X_test)"
   ]
  },
  {
   "cell_type": "code",
   "execution_count": 12,
   "metadata": {},
   "outputs": [
    {
     "name": "stdout",
     "output_type": "stream",
     "text": [
      "交差検証データ　R2 :  0.8692108501883891\n",
      "テストデータ　R2 :  0.909500392179324\n"
     ]
    }
   ],
   "source": [
    "from sklearn.metrics import r2_score\n",
    "val_r2 = r2_score(y_val, y_pred_val)\n",
    "test_r2 = r2_score(y_test, y_pred_test)\n",
    "print(\"交差検証データ　R2 : \", val_r2)\n",
    "print(\"テストデータ　R2 : \", test_r2)"
   ]
  },
  {
   "cell_type": "markdown",
   "metadata": {},
   "source": [
    "## 試行履歴を見てみる"
   ]
  },
  {
   "cell_type": "code",
   "execution_count": 13,
   "metadata": {},
   "outputs": [
    {
     "data": {
      "text/html": [
       "<div>\n",
       "<style scoped>\n",
       "    .dataframe tbody tr th:only-of-type {\n",
       "        vertical-align: middle;\n",
       "    }\n",
       "\n",
       "    .dataframe tbody tr th {\n",
       "        vertical-align: top;\n",
       "    }\n",
       "\n",
       "    .dataframe thead th {\n",
       "        text-align: right;\n",
       "    }\n",
       "</style>\n",
       "<table border=\"1\" class=\"dataframe\">\n",
       "  <thead>\n",
       "    <tr style=\"text-align: right;\">\n",
       "      <th></th>\n",
       "      <th>Unnamed: 0</th>\n",
       "      <th>number</th>\n",
       "      <th>value</th>\n",
       "      <th>datetime_start</th>\n",
       "      <th>datetime_complete</th>\n",
       "      <th>duration</th>\n",
       "      <th>params_epsilon</th>\n",
       "      <th>params_svr_c</th>\n",
       "      <th>state</th>\n",
       "    </tr>\n",
       "  </thead>\n",
       "  <tbody>\n",
       "    <tr>\n",
       "      <th>0</th>\n",
       "      <td>0</td>\n",
       "      <td>0</td>\n",
       "      <td>8.694245</td>\n",
       "      <td>2020-10-08 13:32:02.567638</td>\n",
       "      <td>2020-10-08 13:32:02.580638</td>\n",
       "      <td>0 days 00:00:00.013000</td>\n",
       "      <td>0.333829</td>\n",
       "      <td>6.383109</td>\n",
       "      <td>COMPLETE</td>\n",
       "    </tr>\n",
       "    <tr>\n",
       "      <th>1</th>\n",
       "      <td>1</td>\n",
       "      <td>1</td>\n",
       "      <td>8.413945</td>\n",
       "      <td>2020-10-08 13:32:02.584638</td>\n",
       "      <td>2020-10-08 13:32:02.594641</td>\n",
       "      <td>0 days 00:00:00.010003</td>\n",
       "      <td>1.027646</td>\n",
       "      <td>6.656723</td>\n",
       "      <td>COMPLETE</td>\n",
       "    </tr>\n",
       "    <tr>\n",
       "      <th>2</th>\n",
       "      <td>2</td>\n",
       "      <td>2</td>\n",
       "      <td>9.094268</td>\n",
       "      <td>2020-10-08 13:32:02.597637</td>\n",
       "      <td>2020-10-08 13:32:02.606641</td>\n",
       "      <td>0 days 00:00:00.009004</td>\n",
       "      <td>0.800969</td>\n",
       "      <td>5.076493</td>\n",
       "      <td>COMPLETE</td>\n",
       "    </tr>\n",
       "    <tr>\n",
       "      <th>3</th>\n",
       "      <td>3</td>\n",
       "      <td>3</td>\n",
       "      <td>7.988638</td>\n",
       "      <td>2020-10-08 13:32:02.611639</td>\n",
       "      <td>2020-10-08 13:32:02.624638</td>\n",
       "      <td>0 days 00:00:00.012999</td>\n",
       "      <td>0.398807</td>\n",
       "      <td>21.291442</td>\n",
       "      <td>COMPLETE</td>\n",
       "    </tr>\n",
       "    <tr>\n",
       "      <th>4</th>\n",
       "      <td>4</td>\n",
       "      <td>4</td>\n",
       "      <td>12.472399</td>\n",
       "      <td>2020-10-08 13:32:02.628638</td>\n",
       "      <td>2020-10-08 13:32:02.636646</td>\n",
       "      <td>0 days 00:00:00.008008</td>\n",
       "      <td>4.340100</td>\n",
       "      <td>74.065704</td>\n",
       "      <td>COMPLETE</td>\n",
       "    </tr>\n",
       "    <tr>\n",
       "      <th>...</th>\n",
       "      <td>...</td>\n",
       "      <td>...</td>\n",
       "      <td>...</td>\n",
       "      <td>...</td>\n",
       "      <td>...</td>\n",
       "      <td>...</td>\n",
       "      <td>...</td>\n",
       "      <td>...</td>\n",
       "      <td>...</td>\n",
       "    </tr>\n",
       "    <tr>\n",
       "      <th>95</th>\n",
       "      <td>95</td>\n",
       "      <td>95</td>\n",
       "      <td>7.780226</td>\n",
       "      <td>2020-10-08 13:32:04.924638</td>\n",
       "      <td>2020-10-08 13:32:04.947634</td>\n",
       "      <td>0 days 00:00:00.022996</td>\n",
       "      <td>1.371561</td>\n",
       "      <td>11.017667</td>\n",
       "      <td>COMPLETE</td>\n",
       "    </tr>\n",
       "    <tr>\n",
       "      <th>96</th>\n",
       "      <td>96</td>\n",
       "      <td>96</td>\n",
       "      <td>7.674892</td>\n",
       "      <td>2020-10-08 13:32:04.951641</td>\n",
       "      <td>2020-10-08 13:32:04.977635</td>\n",
       "      <td>0 days 00:00:00.025994</td>\n",
       "      <td>1.010855</td>\n",
       "      <td>22.534207</td>\n",
       "      <td>COMPLETE</td>\n",
       "    </tr>\n",
       "    <tr>\n",
       "      <th>97</th>\n",
       "      <td>97</td>\n",
       "      <td>97</td>\n",
       "      <td>7.986767</td>\n",
       "      <td>2020-10-08 13:32:04.980639</td>\n",
       "      <td>2020-10-08 13:32:05.002635</td>\n",
       "      <td>0 days 00:00:00.021996</td>\n",
       "      <td>1.537793</td>\n",
       "      <td>31.726852</td>\n",
       "      <td>COMPLETE</td>\n",
       "    </tr>\n",
       "    <tr>\n",
       "      <th>98</th>\n",
       "      <td>98</td>\n",
       "      <td>98</td>\n",
       "      <td>7.852998</td>\n",
       "      <td>2020-10-08 13:32:05.005636</td>\n",
       "      <td>2020-10-08 13:32:05.029633</td>\n",
       "      <td>0 days 00:00:00.023997</td>\n",
       "      <td>1.894493</td>\n",
       "      <td>13.950710</td>\n",
       "      <td>COMPLETE</td>\n",
       "    </tr>\n",
       "    <tr>\n",
       "      <th>99</th>\n",
       "      <td>99</td>\n",
       "      <td>99</td>\n",
       "      <td>7.558353</td>\n",
       "      <td>2020-10-08 13:32:05.032637</td>\n",
       "      <td>2020-10-08 13:32:05.059635</td>\n",
       "      <td>0 days 00:00:00.026998</td>\n",
       "      <td>1.278638</td>\n",
       "      <td>17.813037</td>\n",
       "      <td>COMPLETE</td>\n",
       "    </tr>\n",
       "  </tbody>\n",
       "</table>\n",
       "<p>100 rows × 9 columns</p>\n",
       "</div>"
      ],
      "text/plain": [
       "    Unnamed: 0  number      value              datetime_start  \\\n",
       "0            0       0   8.694245  2020-10-08 13:32:02.567638   \n",
       "1            1       1   8.413945  2020-10-08 13:32:02.584638   \n",
       "2            2       2   9.094268  2020-10-08 13:32:02.597637   \n",
       "3            3       3   7.988638  2020-10-08 13:32:02.611639   \n",
       "4            4       4  12.472399  2020-10-08 13:32:02.628638   \n",
       "..         ...     ...        ...                         ...   \n",
       "95          95      95   7.780226  2020-10-08 13:32:04.924638   \n",
       "96          96      96   7.674892  2020-10-08 13:32:04.951641   \n",
       "97          97      97   7.986767  2020-10-08 13:32:04.980639   \n",
       "98          98      98   7.852998  2020-10-08 13:32:05.005636   \n",
       "99          99      99   7.558353  2020-10-08 13:32:05.032637   \n",
       "\n",
       "             datetime_complete                duration  params_epsilon  \\\n",
       "0   2020-10-08 13:32:02.580638  0 days 00:00:00.013000        0.333829   \n",
       "1   2020-10-08 13:32:02.594641  0 days 00:00:00.010003        1.027646   \n",
       "2   2020-10-08 13:32:02.606641  0 days 00:00:00.009004        0.800969   \n",
       "3   2020-10-08 13:32:02.624638  0 days 00:00:00.012999        0.398807   \n",
       "4   2020-10-08 13:32:02.636646  0 days 00:00:00.008008        4.340100   \n",
       "..                         ...                     ...             ...   \n",
       "95  2020-10-08 13:32:04.947634  0 days 00:00:00.022996        1.371561   \n",
       "96  2020-10-08 13:32:04.977635  0 days 00:00:00.025994        1.010855   \n",
       "97  2020-10-08 13:32:05.002635  0 days 00:00:00.021996        1.537793   \n",
       "98  2020-10-08 13:32:05.029633  0 days 00:00:00.023997        1.894493   \n",
       "99  2020-10-08 13:32:05.059635  0 days 00:00:00.026998        1.278638   \n",
       "\n",
       "    params_svr_c     state  \n",
       "0       6.383109  COMPLETE  \n",
       "1       6.656723  COMPLETE  \n",
       "2       5.076493  COMPLETE  \n",
       "3      21.291442  COMPLETE  \n",
       "4      74.065704  COMPLETE  \n",
       "..           ...       ...  \n",
       "95     11.017667  COMPLETE  \n",
       "96     22.534207  COMPLETE  \n",
       "97     31.726852  COMPLETE  \n",
       "98     13.950710  COMPLETE  \n",
       "99     17.813037  COMPLETE  \n",
       "\n",
       "[100 rows x 9 columns]"
      ]
     },
     "execution_count": 13,
     "metadata": {},
     "output_type": "execute_result"
    }
   ],
   "source": [
    "import pandas as pd\n",
    "hst = pd.read_csv(\"boston_svr.csv\")\n",
    "hst"
   ]
  },
  {
   "cell_type": "code",
   "execution_count": 15,
   "metadata": {},
   "outputs": [
    {
     "name": "stderr",
     "output_type": "stream",
     "text": [
      "No handles with labels found to put in legend.\n"
     ]
    },
    {
     "data": {
      "text/plain": [
       "<matplotlib.legend.Legend at 0x1ea2a0dea08>"
      ]
     },
     "execution_count": 15,
     "metadata": {},
     "output_type": "execute_result"
    },
    {
     "data": {
      "image/png": "[encoded data removed]",
      "text/plain": [
       "<Figure size 360x360 with 1 Axes>"
      ]
     },
     "metadata": {
      "needs_background": "light"
     },
     "output_type": "display_data"
    }
   ],
   "source": [
    "import matplotlib.pyplot as plt\n",
    "import seaborn as sns\n",
    " \n",
    "# Use the 'hue' argument to provide a factor variable\n",
    "sns.lmplot( x=\"params_epsilon\", y=\"params_svr_c\", data=hst, fit_reg=False, legend=False)\n",
    " \n",
    "# Move the legend to an empty part of the plot\n",
    "plt.legend(loc='lower right')"
   ]
  },
  {
   "cell_type": "code",
   "execution_count": null,
   "metadata": {},
   "outputs": [],
   "source": []
  }
 ],
 "metadata": {
  "kernelspec": {
   "display_name": "Python 3",
   "language": "python",
   "name": "python3"
  },
  "language_info": {
   "codemirror_mode": {
    "name": "ipython",
    "version": 3
   },
   "file_extension": ".py",
   "mimetype": "text/x-python",
   "name": "python",
   "nbconvert_exporter": "python",
   "pygments_lexer": "ipython3",
   "version": "3.7.7"
  }
 },
 "nbformat": 4,
 "nbformat_minor": 4
}
