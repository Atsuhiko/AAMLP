{
 "cells": [
  {
   "cell_type": "markdown",
   "metadata": {},
   "source": [
    "# Optuna+KerasでCNNのハイパーパラメータを最適化"
   ]
  },
  {
   "cell_type": "markdown",
   "metadata": {},
   "source": [
    "https://github.com/optuna/optuna  \n",
    "https://qiita.com/ryota717/items/28e2167ea69bee7e250d"
   ]
  },
  {
   "cell_type": "code",
   "execution_count": 1,
   "metadata": {
    "colab": {
     "base_uri": "https://localhost:8080/",
     "height": 105
    },
    "colab_type": "code",
    "executionInfo": {
     "elapsed": 6955,
     "status": "ok",
     "timestamp": 1552430571137,
     "user": {
      "displayName": "西島涼太",
      "photoUrl": "",
      "userId": "16258242805629566802"
     },
     "user_tz": -540
    },
    "id": "4uSBgmKwB-zt",
    "outputId": "488aed7f-b270-4e4a-de0b-760c7b090f2d"
   },
   "outputs": [
    {
     "name": "stdout",
     "output_type": "stream",
     "text": [
      "nvcc: NVIDIA (R) Cuda compiler driver\n",
      "Copyright (c) 2005-2019 NVIDIA Corporation\n",
      "Built on Sun_Jul_28_19:12:52_Pacific_Daylight_Time_2019\n",
      "Cuda compilation tools, release 10.1, V10.1.243\n"
     ]
    }
   ],
   "source": [
    "#CUDAバージョン確認\n",
    "!nvcc -V"
   ]
  },
  {
   "cell_type": "code",
   "execution_count": 2,
   "metadata": {},
   "outputs": [
    {
     "name": "stdout",
     "output_type": "stream",
     "text": [
      "2.1.0\n"
     ]
    }
   ],
   "source": [
    "import tensorflow as tf\n",
    "print(tf.__version__)"
   ]
  },
  {
   "cell_type": "code",
   "execution_count": 3,
   "metadata": {},
   "outputs": [
    {
     "data": {
      "text/plain": [
       "[name: \"/device:CPU:0\"\n",
       " device_type: \"CPU\"\n",
       " memory_limit: 268435456\n",
       " locality {\n",
       " }\n",
       " incarnation: 14586215435764202715,\n",
       " name: \"/device:GPU:0\"\n",
       " device_type: \"GPU\"\n",
       " memory_limit: 3059115622\n",
       " locality {\n",
       "   bus_id: 1\n",
       "   links {\n",
       "   }\n",
       " }\n",
       " incarnation: 13820954393504673661\n",
       " physical_device_desc: \"device: 0, name: GeForce GTX 1650 with Max-Q Design, pci bus id: 0000:02:00.0, compute capability: 7.5\"]"
      ]
     },
     "execution_count": 3,
     "metadata": {},
     "output_type": "execute_result"
    }
   ],
   "source": [
    "from tensorflow.python.client import device_lib\n",
    "device_lib.list_local_devices()"
   ]
  },
  {
   "cell_type": "code",
   "execution_count": 4,
   "metadata": {
    "colab": {},
    "colab_type": "code",
    "id": "boi5BlD7EQrX"
   },
   "outputs": [
    {
     "name": "stderr",
     "output_type": "stream",
     "text": [
      "Using TensorFlow backend.\n"
     ]
    }
   ],
   "source": [
    "#ライブラリのインポート\n",
    "import optuna\n",
    "import keras.backend as K\n",
    "from keras.datasets import fashion_mnist\n",
    "from keras.layers import Convolution2D, Input, Dense, GlobalAveragePooling2D\n",
    "from keras.models import Model\n",
    "from keras.utils import to_categorical"
   ]
  },
  {
   "cell_type": "code",
   "execution_count": 5,
   "metadata": {
    "colab": {
     "base_uri": "https://localhost:8080/",
     "height": 194
    },
    "colab_type": "code",
    "executionInfo": {
     "elapsed": 10697,
     "status": "ok",
     "timestamp": 1552429352568,
     "user": {
      "displayName": "西島涼太",
      "photoUrl": "",
      "userId": "16258242805629566802"
     },
     "user_tz": -540
    },
    "id": "kTVFF4QGEQry",
    "outputId": "23a98865-a5b7-4729-fa55-7aabb38b62b9"
   },
   "outputs": [
    {
     "name": "stdout",
     "output_type": "stream",
     "text": [
      "(60000, 28, 28) (60000,) (10000, 28, 28) (10000,)\n",
      "(60000, 28, 28, 1) (60000, 10) (10000, 28, 28, 1) (10000, 10)\n"
     ]
    }
   ],
   "source": [
    "#学習用データの前処理\n",
    "(train_x, train_y), (test_x, test_y) = fashion_mnist.load_data()\n",
    "print(train_x.shape, train_y.shape, test_x.shape, test_y.shape)\n",
    "\n",
    "train_x = train_x.reshape(-1,28,28,1) / 255\n",
    "test_x = test_x.reshape(-1,28,28,1) / 255\n",
    "train_y = to_categorical(train_y)\n",
    "test_y = to_categorical(test_y)\n",
    "print(train_x.shape, train_y.shape, test_x.shape, test_y.shape)"
   ]
  },
  {
   "cell_type": "code",
   "execution_count": 6,
   "metadata": {
    "colab": {},
    "colab_type": "code",
    "id": "knjVwlfLEQsU"
   },
   "outputs": [],
   "source": [
    "def create_model(num_layer, activation, mid_units, num_filters):\n",
    "    \"\"\"\n",
    "    num_layer : 畳込み層の数\n",
    "    activation : 活性化関数\n",
    "    mid_units : FC層のユニット数\n",
    "    num_filters : 各畳込み層のフィルタ数\n",
    "    \"\"\"\n",
    "    inputs = Input((28,28,1))\n",
    "    x = Convolution2D(filters=num_filters[0], kernel_size=(3,3), padding=\"same\", activation=activation)(inputs)\n",
    "    for i in range(1,num_layer):\n",
    "        x = Convolution2D(filters=num_filters[i], kernel_size=(3,3), padding=\"same\", activation=activation)(x)\n",
    "        \n",
    "    x = GlobalAveragePooling2D()(x)\n",
    "    x = Dense(units=mid_units, activation=activation)(x)\n",
    "    x = Dense(units=10, activation=\"softmax\")(x)\n",
    "    \n",
    "    model = Model(inputs=inputs, outputs=x)\n",
    "    return model"
   ]
  },
  {
   "cell_type": "code",
   "execution_count": 7,
   "metadata": {
    "colab": {},
    "colab_type": "code",
    "id": "InizQdqGEQsq"
   },
   "outputs": [],
   "source": [
    "def objective(trial):\n",
    "    #セッションのクリア\n",
    "    K.clear_session()\n",
    "    \n",
    "    #最適化するパラメータの設定\n",
    "    #畳込み層の数\n",
    "    num_layer = trial.suggest_int(\"num_layer\", 3, 7)\n",
    "    \n",
    "    #FC層のユニット数\n",
    "    mid_units = int(trial.suggest_discrete_uniform(\"mid_units\", 100, 500, 100))\n",
    "    \n",
    "    #各畳込み層のフィルタ数\n",
    "    num_filters = [int(trial.suggest_discrete_uniform(\"num_filter_\"+str(i), 16, 128, 16)) for i in range(num_layer)]\n",
    "    \n",
    "    #活性化関数\n",
    "    activation = trial.suggest_categorical(\"activation\", [\"relu\", \"sigmoid\", \"tanh\"])\n",
    "    \n",
    "    #optimizer\n",
    "    optimizer = trial.suggest_categorical(\"optimizer\", [\"sgd\", \"adam\", \"rmsprop\"])\n",
    "                                          \n",
    "    model = create_model(num_layer, activation, mid_units, num_filters)\n",
    "    model.compile(optimizer=optimizer,\n",
    "          loss=\"categorical_crossentropy\",\n",
    "          metrics=[\"accuracy\"])\n",
    "    \n",
    "    history = model.fit(train_x, train_y, verbose=0, epochs=5, batch_size=128, validation_split=0.1)\n",
    "    \n",
    "    #検証用データに対する正答率が最大となるハイパーパラメータを求める\n",
    "    return 1 - history.history[\"val_accuracy\"][-1] # Tf 2.x版"
   ]
  },
  {
   "cell_type": "code",
   "execution_count": 8,
   "metadata": {
    "colab": {},
    "colab_type": "code",
    "id": "BW3AsEXXEQs8"
   },
   "outputs": [
    {
     "name": "stderr",
     "output_type": "stream",
     "text": [
      "[I 2020-10-08 21:47:24,915] A new study created in memory with name: no-name-105053a5-619f-4693-850f-e358d38e754b\n"
     ]
    }
   ],
   "source": [
    "study = optuna.create_study()"
   ]
  },
  {
   "cell_type": "code",
   "execution_count": 9,
   "metadata": {
    "colab": {
     "base_uri": "https://localhost:8080/",
     "height": 1952
    },
    "colab_type": "code",
    "executionInfo": {
     "elapsed": 157599,
     "status": "error",
     "timestamp": 1552429520640,
     "user": {
      "displayName": "西島涼太",
      "photoUrl": "",
      "userId": "16258242805629566802"
     },
     "user_tz": -540
    },
    "id": "CJk6gCQTEQtM",
    "outputId": "c1941493-0f8e-4137-bc71-099170b98312",
    "scrolled": false
   },
   "outputs": [
    {
     "name": "stderr",
     "output_type": "stream",
     "text": [
      "[I 2020-10-08 21:48:08,579] Trial 0 finished with value: 0.20800000429153442 and parameters: {'num_layer': 4, 'mid_units': 100.0, 'num_filter_0': 32.0, 'num_filter_1': 32.0, 'num_filter_2': 16.0, 'num_filter_3': 16.0, 'activation': 'tanh', 'optimizer': 'adam'}. Best is trial 0 with value: 0.20800000429153442.\n",
      "[I 2020-10-08 21:49:46,686] Trial 1 finished with value: 0.21450001001358032 and parameters: {'num_layer': 3, 'mid_units': 100.0, 'num_filter_0': 128.0, 'num_filter_1': 112.0, 'num_filter_2': 16.0, 'activation': 'relu', 'optimizer': 'rmsprop'}. Best is trial 0 with value: 0.20800000429153442.\n",
      "[I 2020-10-08 21:52:25,558] Trial 2 finished with value: 0.8968333303928375 and parameters: {'num_layer': 7, 'mid_units': 500.0, 'num_filter_0': 64.0, 'num_filter_1': 32.0, 'num_filter_2': 112.0, 'num_filter_3': 16.0, 'num_filter_4': 96.0, 'num_filter_5': 16.0, 'num_filter_6': 96.0, 'activation': 'sigmoid', 'optimizer': 'adam'}. Best is trial 0 with value: 0.20800000429153442.\n",
      "[I 2020-10-08 21:53:41,866] Trial 3 finished with value: 0.20466667413711548 and parameters: {'num_layer': 4, 'mid_units': 400.0, 'num_filter_0': 64.0, 'num_filter_1': 16.0, 'num_filter_2': 48.0, 'num_filter_3': 80.0, 'activation': 'relu', 'optimizer': 'rmsprop'}. Best is trial 3 with value: 0.20466667413711548.\n",
      "[I 2020-10-08 21:57:12,299] Trial 4 finished with value: 0.1353333592414856 and parameters: {'num_layer': 7, 'mid_units': 100.0, 'num_filter_0': 64.0, 'num_filter_1': 80.0, 'num_filter_2': 80.0, 'num_filter_3': 112.0, 'num_filter_4': 48.0, 'num_filter_5': 16.0, 'num_filter_6': 96.0, 'activation': 'relu', 'optimizer': 'adam'}. Best is trial 4 with value: 0.1353333592414856.\n",
      "[I 2020-10-08 21:59:01,356] Trial 5 finished with value: 0.1811666488647461 and parameters: {'num_layer': 4, 'mid_units': 300.0, 'num_filter_0': 96.0, 'num_filter_1': 80.0, 'num_filter_2': 16.0, 'num_filter_3': 96.0, 'activation': 'tanh', 'optimizer': 'adam'}. Best is trial 4 with value: 0.1353333592414856.\n",
      "[I 2020-10-08 22:00:25,744] Trial 6 finished with value: 0.14266663789749146 and parameters: {'num_layer': 5, 'mid_units': 200.0, 'num_filter_0': 48.0, 'num_filter_1': 16.0, 'num_filter_2': 64.0, 'num_filter_3': 48.0, 'num_filter_4': 32.0, 'activation': 'tanh', 'optimizer': 'adam'}. Best is trial 4 with value: 0.1353333592414856.\n",
      "[I 2020-10-08 22:02:10,335] Trial 7 finished with value: 0.14550000429153442 and parameters: {'num_layer': 5, 'mid_units': 400.0, 'num_filter_0': 32.0, 'num_filter_1': 64.0, 'num_filter_2': 32.0, 'num_filter_3': 112.0, 'num_filter_4': 16.0, 'activation': 'tanh', 'optimizer': 'adam'}. Best is trial 4 with value: 0.1353333592414856.\n",
      "[I 2020-10-08 22:03:57,806] Trial 8 finished with value: 0.6884999871253967 and parameters: {'num_layer': 5, 'mid_units': 300.0, 'num_filter_0': 16.0, 'num_filter_1': 112.0, 'num_filter_2': 32.0, 'num_filter_3': 96.0, 'num_filter_4': 16.0, 'activation': 'tanh', 'optimizer': 'sgd'}. Best is trial 4 with value: 0.1353333592414856.\n",
      "[I 2020-10-08 22:06:12,195] Trial 9 finished with value: 0.9074999988079071 and parameters: {'num_layer': 7, 'mid_units': 100.0, 'num_filter_0': 16.0, 'num_filter_1': 80.0, 'num_filter_2': 16.0, 'num_filter_3': 80.0, 'num_filter_4': 48.0, 'num_filter_5': 32.0, 'num_filter_6': 64.0, 'activation': 'sigmoid', 'optimizer': 'sgd'}. Best is trial 4 with value: 0.1353333592414856.\n",
      "[I 2020-10-08 22:11:22,733] Trial 10 finished with value: 0.10983335971832275 and parameters: {'num_layer': 6, 'mid_units': 200.0, 'num_filter_0': 96.0, 'num_filter_1': 128.0, 'num_filter_2': 112.0, 'num_filter_3': 128.0, 'num_filter_4': 128.0, 'num_filter_5': 112.0, 'activation': 'relu', 'optimizer': 'adam'}. Best is trial 10 with value: 0.10983335971832275.\n",
      "[I 2020-10-08 22:16:34,866] Trial 11 finished with value: 0.11483335494995117 and parameters: {'num_layer': 6, 'mid_units': 200.0, 'num_filter_0': 96.0, 'num_filter_1': 128.0, 'num_filter_2': 112.0, 'num_filter_3': 128.0, 'num_filter_4': 128.0, 'num_filter_5': 128.0, 'activation': 'relu', 'optimizer': 'adam'}. Best is trial 10 with value: 0.10983335971832275.\n",
      "[I 2020-10-08 22:21:57,409] Trial 12 finished with value: 0.10199999809265137 and parameters: {'num_layer': 6, 'mid_units': 200.0, 'num_filter_0': 112.0, 'num_filter_1': 128.0, 'num_filter_2': 128.0, 'num_filter_3': 128.0, 'num_filter_4': 128.0, 'num_filter_5': 128.0, 'activation': 'relu', 'optimizer': 'adam'}. Best is trial 12 with value: 0.10199999809265137.\n",
      "[I 2020-10-08 22:27:24,185] Trial 13 finished with value: 0.11516666412353516 and parameters: {'num_layer': 6, 'mid_units': 200.0, 'num_filter_0': 128.0, 'num_filter_1': 128.0, 'num_filter_2': 128.0, 'num_filter_3': 128.0, 'num_filter_4': 128.0, 'num_filter_5': 128.0, 'activation': 'relu', 'optimizer': 'adam'}. Best is trial 12 with value: 0.10199999809265137.\n",
      "[I 2020-10-08 22:31:32,894] Trial 14 finished with value: 0.13066667318344116 and parameters: {'num_layer': 6, 'mid_units': 200.0, 'num_filter_0': 96.0, 'num_filter_1': 112.0, 'num_filter_2': 128.0, 'num_filter_3': 48.0, 'num_filter_4': 96.0, 'num_filter_5': 96.0, 'activation': 'relu', 'optimizer': 'adam'}. Best is trial 12 with value: 0.10199999809265137.\n",
      "[I 2020-10-08 22:36:21,538] Trial 15 finished with value: 0.11900001764297485 and parameters: {'num_layer': 6, 'mid_units': 300.0, 'num_filter_0': 96.0, 'num_filter_1': 128.0, 'num_filter_2': 96.0, 'num_filter_3': 128.0, 'num_filter_4': 112.0, 'num_filter_5': 96.0, 'activation': 'relu', 'optimizer': 'rmsprop'}. Best is trial 12 with value: 0.10199999809265137.\n",
      "[I 2020-10-08 22:40:46,852] Trial 16 finished with value: 0.554666668176651 and parameters: {'num_layer': 6, 'mid_units': 200.0, 'num_filter_0': 112.0, 'num_filter_1': 96.0, 'num_filter_2': 112.0, 'num_filter_3': 112.0, 'num_filter_4': 80.0, 'num_filter_5': 96.0, 'activation': 'relu', 'optimizer': 'sgd'}. Best is trial 12 with value: 0.10199999809265137.\n",
      "[I 2020-10-08 22:45:55,963] Trial 17 finished with value: 0.8950000032782555 and parameters: {'num_layer': 7, 'mid_units': 400.0, 'num_filter_0': 112.0, 'num_filter_1': 96.0, 'num_filter_2': 96.0, 'num_filter_3': 128.0, 'num_filter_4': 128.0, 'num_filter_5': 128.0, 'num_filter_6': 16.0, 'activation': 'sigmoid', 'optimizer': 'adam'}. Best is trial 12 with value: 0.10199999809265137.\n",
      "[I 2020-10-08 22:50:02,197] Trial 18 finished with value: 0.12016665935516357 and parameters: {'num_layer': 6, 'mid_units': 200.0, 'num_filter_0': 80.0, 'num_filter_1': 128.0, 'num_filter_2': 128.0, 'num_filter_3': 48.0, 'num_filter_4': 112.0, 'num_filter_5': 64.0, 'activation': 'relu', 'optimizer': 'adam'}. Best is trial 12 with value: 0.10199999809265137.\n",
      "[I 2020-10-08 22:53:12,495] Trial 19 finished with value: 0.14616668224334717 and parameters: {'num_layer': 5, 'mid_units': 300.0, 'num_filter_0': 112.0, 'num_filter_1': 48.0, 'num_filter_2': 96.0, 'num_filter_3': 96.0, 'num_filter_4': 112.0, 'activation': 'relu', 'optimizer': 'adam'}. Best is trial 12 with value: 0.10199999809265137.\n",
      "[I 2020-10-08 22:57:02,937] Trial 20 finished with value: 0.12433332204818726 and parameters: {'num_layer': 7, 'mid_units': 100.0, 'num_filter_0': 80.0, 'num_filter_1': 96.0, 'num_filter_2': 80.0, 'num_filter_3': 64.0, 'num_filter_4': 80.0, 'num_filter_5': 112.0, 'num_filter_6': 16.0, 'activation': 'relu', 'optimizer': 'rmsprop'}. Best is trial 12 with value: 0.10199999809265137.\n",
      "[I 2020-10-08 23:02:14,665] Trial 21 finished with value: 0.12550002336502075 and parameters: {'num_layer': 6, 'mid_units': 200.0, 'num_filter_0': 96.0, 'num_filter_1': 128.0, 'num_filter_2': 112.0, 'num_filter_3': 128.0, 'num_filter_4': 128.0, 'num_filter_5': 128.0, 'activation': 'relu', 'optimizer': 'adam'}. Best is trial 12 with value: 0.10199999809265137.\n",
      "[I 2020-10-08 23:07:13,199] Trial 22 finished with value: 0.10816669464111328 and parameters: {'num_layer': 6, 'mid_units': 200.0, 'num_filter_0': 112.0, 'num_filter_1': 112.0, 'num_filter_2': 112.0, 'num_filter_3': 112.0, 'num_filter_4': 128.0, 'num_filter_5': 112.0, 'activation': 'relu', 'optimizer': 'adam'}. Best is trial 12 with value: 0.10199999809265137.\n"
     ]
    },
    {
     "name": "stderr",
     "output_type": "stream",
     "text": [
      "[I 2020-10-08 23:12:15,535] Trial 23 finished with value: 0.11733335256576538 and parameters: {'num_layer': 6, 'mid_units': 200.0, 'num_filter_0': 128.0, 'num_filter_1': 112.0, 'num_filter_2': 128.0, 'num_filter_3': 112.0, 'num_filter_4': 112.0, 'num_filter_5': 112.0, 'activation': 'relu', 'optimizer': 'adam'}. Best is trial 12 with value: 0.10199999809265137.\n",
      "[I 2020-10-08 23:16:02,235] Trial 24 finished with value: 0.11983335018157959 and parameters: {'num_layer': 5, 'mid_units': 300.0, 'num_filter_0': 112.0, 'num_filter_1': 112.0, 'num_filter_2': 96.0, 'num_filter_3': 112.0, 'num_filter_4': 96.0, 'activation': 'relu', 'optimizer': 'adam'}. Best is trial 12 with value: 0.10199999809265137.\n",
      "[I 2020-10-08 23:20:54,334] Trial 25 finished with value: 0.4923333525657654 and parameters: {'num_layer': 6, 'mid_units': 200.0, 'num_filter_0': 112.0, 'num_filter_1': 128.0, 'num_filter_2': 112.0, 'num_filter_3': 128.0, 'num_filter_4': 128.0, 'num_filter_5': 64.0, 'activation': 'relu', 'optimizer': 'sgd'}. Best is trial 12 with value: 0.10199999809265137.\n",
      "[I 2020-10-08 23:26:27,796] Trial 26 finished with value: 0.8996666669845581 and parameters: {'num_layer': 7, 'mid_units': 100.0, 'num_filter_0': 80.0, 'num_filter_1': 96.0, 'num_filter_2': 128.0, 'num_filter_3': 96.0, 'num_filter_4': 112.0, 'num_filter_5': 112.0, 'num_filter_6': 128.0, 'activation': 'sigmoid', 'optimizer': 'adam'}. Best is trial 12 with value: 0.10199999809265137.\n",
      "[I 2020-10-08 23:31:09,794] Trial 27 finished with value: 0.1196666955947876 and parameters: {'num_layer': 6, 'mid_units': 200.0, 'num_filter_0': 128.0, 'num_filter_1': 112.0, 'num_filter_2': 80.0, 'num_filter_3': 112.0, 'num_filter_4': 128.0, 'num_filter_5': 80.0, 'activation': 'relu', 'optimizer': 'adam'}. Best is trial 12 with value: 0.10199999809265137.\n",
      "[I 2020-10-08 23:35:16,596] Trial 28 finished with value: 0.12166666984558105 and parameters: {'num_layer': 5, 'mid_units': 300.0, 'num_filter_0': 112.0, 'num_filter_1': 128.0, 'num_filter_2': 112.0, 'num_filter_3': 128.0, 'num_filter_4': 96.0, 'activation': 'relu', 'optimizer': 'adam'}. Best is trial 12 with value: 0.10199999809265137.\n",
      "[I 2020-10-08 23:39:13,145] Trial 29 finished with value: 0.14016664028167725 and parameters: {'num_layer': 7, 'mid_units': 100.0, 'num_filter_0': 80.0, 'num_filter_1': 96.0, 'num_filter_2': 64.0, 'num_filter_3': 80.0, 'num_filter_4': 64.0, 'num_filter_5': 112.0, 'num_filter_6': 48.0, 'activation': 'relu', 'optimizer': 'adam'}. Best is trial 12 with value: 0.10199999809265137.\n",
      "[I 2020-10-08 23:43:15,630] Trial 30 finished with value: 0.1276666522026062 and parameters: {'num_layer': 6, 'mid_units': 100.0, 'num_filter_0': 96.0, 'num_filter_1': 64.0, 'num_filter_2': 96.0, 'num_filter_3': 112.0, 'num_filter_4': 112.0, 'num_filter_5': 80.0, 'activation': 'relu', 'optimizer': 'adam'}. Best is trial 12 with value: 0.10199999809265137.\n",
      "[I 2020-10-08 23:48:27,160] Trial 31 finished with value: 0.10650002956390381 and parameters: {'num_layer': 6, 'mid_units': 200.0, 'num_filter_0': 96.0, 'num_filter_1': 128.0, 'num_filter_2': 112.0, 'num_filter_3': 128.0, 'num_filter_4': 128.0, 'num_filter_5': 128.0, 'activation': 'relu', 'optimizer': 'adam'}. Best is trial 12 with value: 0.10199999809265137.\n",
      "[I 2020-10-08 23:53:48,106] Trial 32 finished with value: 0.11916667222976685 and parameters: {'num_layer': 6, 'mid_units': 200.0, 'num_filter_0': 128.0, 'num_filter_1': 112.0, 'num_filter_2': 128.0, 'num_filter_3': 128.0, 'num_filter_4': 128.0, 'num_filter_5': 128.0, 'activation': 'relu', 'optimizer': 'adam'}. Best is trial 12 with value: 0.10199999809265137.\n",
      "[I 2020-10-08 23:56:57,054] Trial 33 finished with value: 0.14816665649414062 and parameters: {'num_layer': 5, 'mid_units': 200.0, 'num_filter_0': 112.0, 'num_filter_1': 128.0, 'num_filter_2': 112.0, 'num_filter_3': 16.0, 'num_filter_4': 128.0, 'activation': 'relu', 'optimizer': 'adam'}. Best is trial 12 with value: 0.10199999809265137.\n",
      "[I 2020-10-09 00:01:48,490] Trial 34 finished with value: 0.10850000381469727 and parameters: {'num_layer': 6, 'mid_units': 100.0, 'num_filter_0': 96.0, 'num_filter_1': 112.0, 'num_filter_2': 112.0, 'num_filter_3': 128.0, 'num_filter_4': 112.0, 'num_filter_5': 112.0, 'activation': 'relu', 'optimizer': 'rmsprop'}. Best is trial 12 with value: 0.10199999809265137.\n",
      "[I 2020-10-09 00:03:59,300] Trial 35 finished with value: 0.17783331871032715 and parameters: {'num_layer': 3, 'mid_units': 100.0, 'num_filter_0': 80.0, 'num_filter_1': 112.0, 'num_filter_2': 128.0, 'activation': 'relu', 'optimizer': 'rmsprop'}. Best is trial 12 with value: 0.10199999809265137.\n",
      "[I 2020-10-09 00:07:00,036] Trial 36 finished with value: 0.32066667079925537 and parameters: {'num_layer': 4, 'mid_units': 100.0, 'num_filter_0': 112.0, 'num_filter_1': 112.0, 'num_filter_2': 96.0, 'num_filter_3': 112.0, 'activation': 'sigmoid', 'optimizer': 'rmsprop'}. Best is trial 12 with value: 0.10199999809265137.\n",
      "[I 2020-10-09 00:12:20,335] Trial 37 finished with value: 0.12483334541320801 and parameters: {'num_layer': 7, 'mid_units': 100.0, 'num_filter_0': 64.0, 'num_filter_1': 96.0, 'num_filter_2': 112.0, 'num_filter_3': 96.0, 'num_filter_4': 112.0, 'num_filter_5': 128.0, 'num_filter_6': 128.0, 'activation': 'relu', 'optimizer': 'rmsprop'}. Best is trial 12 with value: 0.10199999809265137.\n",
      "[I 2020-10-09 00:17:04,446] Trial 38 finished with value: 0.11383330821990967 and parameters: {'num_layer': 7, 'mid_units': 400.0, 'num_filter_0': 128.0, 'num_filter_1': 80.0, 'num_filter_2': 80.0, 'num_filter_3': 112.0, 'num_filter_4': 96.0, 'num_filter_5': 96.0, 'num_filter_6': 48.0, 'activation': 'tanh', 'optimizer': 'rmsprop'}. Best is trial 12 with value: 0.10199999809265137.\n",
      "[I 2020-10-09 00:21:10,782] Trial 39 finished with value: 0.1523333191871643 and parameters: {'num_layer': 5, 'mid_units': 300.0, 'num_filter_0': 96.0, 'num_filter_1': 112.0, 'num_filter_2': 128.0, 'num_filter_3': 128.0, 'num_filter_4': 112.0, 'activation': 'relu', 'optimizer': 'rmsprop'}. Best is trial 12 with value: 0.10199999809265137.\n",
      "[I 2020-10-09 00:25:44,571] Trial 40 finished with value: 0.10766667127609253 and parameters: {'num_layer': 6, 'mid_units': 100.0, 'num_filter_0': 64.0, 'num_filter_1': 128.0, 'num_filter_2': 112.0, 'num_filter_3': 96.0, 'num_filter_4': 96.0, 'num_filter_5': 112.0, 'activation': 'tanh', 'optimizer': 'rmsprop'}. Best is trial 12 with value: 0.10199999809265137.\n",
      "[I 2020-10-09 00:30:11,731] Trial 41 finished with value: 0.10833334922790527 and parameters: {'num_layer': 6, 'mid_units': 100.0, 'num_filter_0': 48.0, 'num_filter_1': 128.0, 'num_filter_2': 112.0, 'num_filter_3': 96.0, 'num_filter_4': 96.0, 'num_filter_5': 112.0, 'activation': 'tanh', 'optimizer': 'rmsprop'}. Best is trial 12 with value: 0.10199999809265137.\n",
      "[I 2020-10-09 00:34:17,663] Trial 42 finished with value: 0.12599998712539673 and parameters: {'num_layer': 6, 'mid_units': 100.0, 'num_filter_0': 48.0, 'num_filter_1': 128.0, 'num_filter_2': 96.0, 'num_filter_3': 80.0, 'num_filter_4': 80.0, 'num_filter_5': 112.0, 'activation': 'tanh', 'optimizer': 'rmsprop'}. Best is trial 12 with value: 0.10199999809265137.\n",
      "[I 2020-10-09 00:38:32,465] Trial 43 finished with value: 0.109499990940094 and parameters: {'num_layer': 6, 'mid_units': 100.0, 'num_filter_0': 48.0, 'num_filter_1': 128.0, 'num_filter_2': 112.0, 'num_filter_3': 96.0, 'num_filter_4': 64.0, 'num_filter_5': 128.0, 'activation': 'tanh', 'optimizer': 'rmsprop'}. Best is trial 12 with value: 0.10199999809265137.\n",
      "[I 2020-10-09 00:44:29,820] Trial 44 finished with value: 0.1446666717529297 and parameters: {'num_layer': 5, 'mid_units': 200.0, 'num_filter_0': 32.0, 'num_filter_1': 128.0, 'num_filter_2': 128.0, 'num_filter_3': 80.0, 'num_filter_4': 96.0, 'activation': 'tanh', 'optimizer': 'rmsprop'}. Best is trial 12 with value: 0.10199999809265137.\n",
      "[I 2020-10-09 00:52:14,149] Trial 45 finished with value: 0.11766666173934937 and parameters: {'num_layer': 6, 'mid_units': 500.0, 'num_filter_0': 48.0, 'num_filter_1': 128.0, 'num_filter_2': 112.0, 'num_filter_3': 96.0, 'num_filter_4': 80.0, 'num_filter_5': 96.0, 'activation': 'tanh', 'optimizer': 'rmsprop'}. Best is trial 12 with value: 0.10199999809265137.\n"
     ]
    },
    {
     "name": "stderr",
     "output_type": "stream",
     "text": [
      "[I 2020-10-09 00:58:31,686] Trial 46 finished with value: 0.3816666603088379 and parameters: {'num_layer': 7, 'mid_units': 200.0, 'num_filter_0': 64.0, 'num_filter_1': 32.0, 'num_filter_2': 96.0, 'num_filter_3': 64.0, 'num_filter_4': 32.0, 'num_filter_5': 112.0, 'num_filter_6': 96.0, 'activation': 'tanh', 'optimizer': 'sgd'}. Best is trial 12 with value: 0.10199999809265137.\n",
      "[I 2020-10-09 01:06:15,844] Trial 47 finished with value: 0.12283331155776978 and parameters: {'num_layer': 6, 'mid_units': 100.0, 'num_filter_0': 64.0, 'num_filter_1': 128.0, 'num_filter_2': 112.0, 'num_filter_3': 96.0, 'num_filter_4': 64.0, 'num_filter_5': 128.0, 'activation': 'tanh', 'optimizer': 'rmsprop'}. Best is trial 12 with value: 0.10199999809265137.\n",
      "[I 2020-10-09 01:13:32,947] Trial 48 finished with value: 0.1223333477973938 and parameters: {'num_layer': 5, 'mid_units': 200.0, 'num_filter_0': 48.0, 'num_filter_1': 112.0, 'num_filter_2': 128.0, 'num_filter_3': 112.0, 'num_filter_4': 96.0, 'activation': 'tanh', 'optimizer': 'adam'}. Best is trial 12 with value: 0.10199999809265137.\n",
      "[I 2020-10-09 01:20:17,402] Trial 49 finished with value: 0.12000000476837158 and parameters: {'num_layer': 6, 'mid_units': 300.0, 'num_filter_0': 32.0, 'num_filter_1': 128.0, 'num_filter_2': 64.0, 'num_filter_3': 112.0, 'num_filter_4': 48.0, 'num_filter_5': 112.0, 'activation': 'tanh', 'optimizer': 'rmsprop'}. Best is trial 12 with value: 0.10199999809265137.\n"
     ]
    },
    {
     "name": "stdout",
     "output_type": "stream",
     "text": [
      "Wall time: 3h 32min 52s\n"
     ]
    }
   ],
   "source": [
    "%%time\n",
    "study.optimize(objective, n_trials=50) # 100から変更"
   ]
  },
  {
   "cell_type": "code",
   "execution_count": 10,
   "metadata": {
    "colab": {},
    "colab_type": "code",
    "id": "7Rl7uaarEQtm"
   },
   "outputs": [
    {
     "data": {
      "text/plain": [
       "{'num_layer': 6,\n",
       " 'mid_units': 200.0,\n",
       " 'num_filter_0': 112.0,\n",
       " 'num_filter_1': 128.0,\n",
       " 'num_filter_2': 128.0,\n",
       " 'num_filter_3': 128.0,\n",
       " 'num_filter_4': 128.0,\n",
       " 'num_filter_5': 128.0,\n",
       " 'activation': 'relu',\n",
       " 'optimizer': 'adam'}"
      ]
     },
     "execution_count": 10,
     "metadata": {},
     "output_type": "execute_result"
    }
   ],
   "source": [
    "study.best_params"
   ]
  },
  {
   "cell_type": "code",
   "execution_count": 11,
   "metadata": {
    "colab": {},
    "colab_type": "code",
    "id": "xTxObT0KEQuA"
   },
   "outputs": [
    {
     "data": {
      "text/plain": [
       "0.10199999809265137"
      ]
     },
     "execution_count": 11,
     "metadata": {},
     "output_type": "execute_result"
    }
   ],
   "source": [
    "study.best_value"
   ]
  },
  {
   "cell_type": "code",
   "execution_count": null,
   "metadata": {},
   "outputs": [],
   "source": []
  }
 ],
 "metadata": {
  "accelerator": "GPU",
  "colab": {
   "collapsed_sections": [],
   "name": "optuna_test.ipynb",
   "provenance": [
    {
     "file_id": "17r8YctZMu-3OaJmBgZrpz8iwDKW3beY6",
     "timestamp": 1543987313587
    }
   ],
   "version": "0.3.2"
  },
  "kernelspec": {
   "display_name": "Python 3",
   "language": "python",
   "name": "python3"
  },
  "language_info": {
   "codemirror_mode": {
    "name": "ipython",
    "version": 3
   },
   "file_extension": ".py",
   "mimetype": "text/x-python",
   "name": "python",
   "nbconvert_exporter": "python",
   "pygments_lexer": "ipython3",
   "version": "3.7.7"
  }
 },
 "nbformat": 4,
 "nbformat_minor": 1
}
